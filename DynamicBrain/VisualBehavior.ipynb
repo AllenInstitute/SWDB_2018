{
 "cells": [
  {
   "cell_type": "markdown",
   "metadata": {},
   "source": [
    "<div style=\"background: #DFF0D8; border-radius: 3px; padding: 10px;\">\n",
    "<p>This notebook will introduce you to the Visual Behavior dataset. \n",
    "\n",
    "<p>Our goal is to see if we can decode stimulus identity from the activity of a population of neurons\n",
    "</div>"
   ]
  },
  {
   "cell_type": "code",
   "execution_count": 1,
   "metadata": {
    "collapsed": false
   },
   "outputs": [],
   "source": [
    "# import these modules to get started\n",
    "import os\n",
    "import numpy as np\n",
    "import pandas as pd\n",
    "import matplotlib.pyplot as plt\n",
    "import seaborn as sns\n",
    "sns.set_style('whitegrid')\n",
    "sns.set_context('talk')\n",
    "     \n",
    "%matplotlib inline\n",
    "%load_ext autoreload"
   ]
  },
  {
   "cell_type": "markdown",
   "metadata": {},
   "source": [
    "<div style=\"border-left: 3px solid #000; padding: 1px; padding-left: 10px; background: #F0FAFF; \">\n",
    "<p>The main entry point is the `BrainObservatoryCache` class.  This class is responsible for downloading any requested data or metadata as needed and storing it in well known locations.  For this workshop, all of the data has been preloaded onto the hard drives you have received.\n",
    "\n",
    "<p>We begin by importing the `BrainObservatoryCache` class and instantiating it.\n",
    "\n",
    "<p>`manifest_path` is a path to the manifest file.  We will use the manifest file preloaded onto your Workshop hard drives.  Make sure that `drive_path` is set correctly for your platform.  (See the first cell in this notebook.)\n",
    "</div>\n"
   ]
  },
  {
   "cell_type": "markdown",
   "metadata": {},
   "source": [
    "<div style=\"background: #DFF0D8; border-radius: 3px; padding: 10px;\">\n",
    "<p>**Task 1.1:**  Everyone gets an experiment! \n",
    "\n",
    "<p>Get your experiment_id and assign it to a variable called experiment_id\n",
    "\n",
    "</div>"
   ]
  },
  {
   "cell_type": "code",
   "execution_count": 2,
   "metadata": {
    "collapsed": true
   },
   "outputs": [],
   "source": [
    "experiment_id = 702134928"
   ]
  },
  {
   "cell_type": "markdown",
   "metadata": {},
   "source": [
    "<div style=\"background: #DFF0D8; border-radius: 3px; padding: 10px;\">\n",
    "<p>**Task 1.2:**  Get information about what's in the dataset \n",
    "\n",
    "<p>Read in visual_behavior_data_manifest.xlsx using pandas and explore the columns to see the available areas, cre lines, and stimuli.  \n",
    "\n",
    "<p>What is the area, cre line and stimulus set for your experiment_id? \n",
    "\n",
    "</div>"
   ]
  },
  {
   "cell_type": "code",
   "execution_count": 3,
   "metadata": {
    "collapsed": false
   },
   "outputs": [],
   "source": [
    "cache_dir = r'\\\\allen\\programs\\braintv\\workgroups\\nc-ophys\\BehaviorImaging\\DoC\\2P6_data_analysis'\n",
    "manifest_file = 'visual_behavior_data_manifest.xlsx'"
   ]
  },
  {
   "cell_type": "code",
   "execution_count": 4,
   "metadata": {
    "collapsed": false
   },
   "outputs": [],
   "source": [
    "manifest = pd.read_excel(os.path.join(cache_dir,manifest_file))"
   ]
  },
  {
   "cell_type": "code",
   "execution_count": 5,
   "metadata": {
    "collapsed": false
   },
   "outputs": [
    {
     "data": {
      "text/html": [
       "<div>\n",
       "<style scoped>\n",
       "    .dataframe tbody tr th:only-of-type {\n",
       "        vertical-align: middle;\n",
       "    }\n",
       "\n",
       "    .dataframe tbody tr th {\n",
       "        vertical-align: top;\n",
       "    }\n",
       "\n",
       "    .dataframe thead th {\n",
       "        text-align: right;\n",
       "    }\n",
       "</style>\n",
       "<table border=\"1\" class=\"dataframe\">\n",
       "  <thead>\n",
       "    <tr style=\"text-align: right;\">\n",
       "      <th></th>\n",
       "      <th>experiment_id</th>\n",
       "      <th>session_id</th>\n",
       "      <th>parent_session_id</th>\n",
       "      <th>area</th>\n",
       "      <th>depth</th>\n",
       "      <th>transgenic_line</th>\n",
       "      <th>stimulus_set</th>\n",
       "      <th>mouse_id</th>\n",
       "      <th>specimen_id</th>\n",
       "      <th>acquisition_date</th>\n",
       "      <th>experiment_name</th>\n",
       "    </tr>\n",
       "  </thead>\n",
       "  <tbody>\n",
       "    <tr>\n",
       "      <th>48.0</th>\n",
       "      <td>644942849</td>\n",
       "      <td>644919226</td>\n",
       "      <td>644919226</td>\n",
       "      <td>VISp</td>\n",
       "      <td>175.0</td>\n",
       "      <td>Vip-IRES-Cre;Ai148</td>\n",
       "      <td>A</td>\n",
       "      <td>329071</td>\n",
       "      <td>596175193.0</td>\n",
       "      <td>10/24/2017 10:32</td>\n",
       "      <td>20171024_329071_sessionA</td>\n",
       "    </tr>\n",
       "    <tr>\n",
       "      <th>47.0</th>\n",
       "      <td>645035903</td>\n",
       "      <td>644953594</td>\n",
       "      <td>644919226</td>\n",
       "      <td>VISp</td>\n",
       "      <td>175.0</td>\n",
       "      <td>Vip-IRES-Cre;Ai148</td>\n",
       "      <td>B</td>\n",
       "      <td>329071</td>\n",
       "      <td>596175193.0</td>\n",
       "      <td>10/25/2017 10:34</td>\n",
       "      <td>20171025_329071_sessionB</td>\n",
       "    </tr>\n",
       "    <tr>\n",
       "      <th>46.0</th>\n",
       "      <td>645086795</td>\n",
       "      <td>645055845</td>\n",
       "      <td>644919226</td>\n",
       "      <td>VISp</td>\n",
       "      <td>175.0</td>\n",
       "      <td>Vip-IRES-Cre;Ai148</td>\n",
       "      <td>C</td>\n",
       "      <td>329071</td>\n",
       "      <td>596175193.0</td>\n",
       "      <td>10/26/2017 10:27</td>\n",
       "      <td>20171026_329071_sessionC</td>\n",
       "    </tr>\n",
       "    <tr>\n",
       "      <th>45.0</th>\n",
       "      <td>645362806</td>\n",
       "      <td>645326094</td>\n",
       "      <td>644919226</td>\n",
       "      <td>VISp</td>\n",
       "      <td>175.0</td>\n",
       "      <td>Vip-IRES-Cre;Ai148</td>\n",
       "      <td>D</td>\n",
       "      <td>329071</td>\n",
       "      <td>596175193.0</td>\n",
       "      <td>10/30/2017 11:41</td>\n",
       "      <td>20171030_329071_sessionD</td>\n",
       "    </tr>\n",
       "    <tr>\n",
       "      <th>64.0</th>\n",
       "      <td>646922970</td>\n",
       "      <td>646846415</td>\n",
       "      <td>646555436</td>\n",
       "      <td>VISp</td>\n",
       "      <td>175.0</td>\n",
       "      <td>Vip-IRES-Cre;Ai148</td>\n",
       "      <td>A</td>\n",
       "      <td>330982</td>\n",
       "      <td>596393048.0</td>\n",
       "      <td>11/07/2017 14:19</td>\n",
       "      <td>20171107_330982_sessionA</td>\n",
       "    </tr>\n",
       "  </tbody>\n",
       "</table>\n",
       "</div>"
      ],
      "text/plain": [
       "      experiment_id  session_id  parent_session_id  area  depth  \\\n",
       "48.0      644942849   644919226          644919226  VISp  175.0   \n",
       "47.0      645035903   644953594          644919226  VISp  175.0   \n",
       "46.0      645086795   645055845          644919226  VISp  175.0   \n",
       "45.0      645362806   645326094          644919226  VISp  175.0   \n",
       "64.0      646922970   646846415          646555436  VISp  175.0   \n",
       "\n",
       "         transgenic_line stimulus_set  mouse_id  specimen_id  \\\n",
       "48.0  Vip-IRES-Cre;Ai148            A    329071  596175193.0   \n",
       "47.0  Vip-IRES-Cre;Ai148            B    329071  596175193.0   \n",
       "46.0  Vip-IRES-Cre;Ai148            C    329071  596175193.0   \n",
       "45.0  Vip-IRES-Cre;Ai148            D    329071  596175193.0   \n",
       "64.0  Vip-IRES-Cre;Ai148            A    330982  596393048.0   \n",
       "\n",
       "      acquisition_date           experiment_name  \n",
       "48.0  10/24/2017 10:32  20171024_329071_sessionA  \n",
       "47.0  10/25/2017 10:34  20171025_329071_sessionB  \n",
       "46.0  10/26/2017 10:27  20171026_329071_sessionC  \n",
       "45.0  10/30/2017 11:41  20171030_329071_sessionD  \n",
       "64.0  11/07/2017 14:19  20171107_330982_sessionA  "
      ]
     },
     "execution_count": 5,
     "metadata": {},
     "output_type": "execute_result"
    }
   ],
   "source": [
    "manifest.head()"
   ]
  },
  {
   "cell_type": "code",
   "execution_count": 6,
   "metadata": {
    "collapsed": false
   },
   "outputs": [
    {
     "name": "stdout",
     "output_type": "stream",
     "text": [
      "areas: [u'VISp' u'VISal']\n",
      "cre_lines: [u'Vip-IRES-Cre;Ai148' u'Slc17a7-IRES2-Cre;Camk2a-tTA;Ai93']\n",
      "stimuli: [u'A' u'B' u'C' u'D']\n"
     ]
    }
   ],
   "source": [
    "print 'areas:', manifest.area.unique()\n",
    "print 'cre_lines:', manifest.transgenic_line.unique()\n",
    "print 'stimuli:', manifest.stimulus_set.unique()"
   ]
  },
  {
   "cell_type": "code",
   "execution_count": 7,
   "metadata": {
    "collapsed": false
   },
   "outputs": [
    {
     "data": {
      "text/html": [
       "<div>\n",
       "<style scoped>\n",
       "    .dataframe tbody tr th:only-of-type {\n",
       "        vertical-align: middle;\n",
       "    }\n",
       "\n",
       "    .dataframe tbody tr th {\n",
       "        vertical-align: top;\n",
       "    }\n",
       "\n",
       "    .dataframe thead th {\n",
       "        text-align: right;\n",
       "    }\n",
       "</style>\n",
       "<table border=\"1\" class=\"dataframe\">\n",
       "  <thead>\n",
       "    <tr style=\"text-align: right;\">\n",
       "      <th></th>\n",
       "      <th>experiment_id</th>\n",
       "      <th>session_id</th>\n",
       "      <th>parent_session_id</th>\n",
       "      <th>area</th>\n",
       "      <th>depth</th>\n",
       "      <th>transgenic_line</th>\n",
       "      <th>stimulus_set</th>\n",
       "      <th>mouse_id</th>\n",
       "      <th>specimen_id</th>\n",
       "      <th>acquisition_date</th>\n",
       "      <th>experiment_name</th>\n",
       "    </tr>\n",
       "  </thead>\n",
       "  <tbody>\n",
       "    <tr>\n",
       "      <th>3.0</th>\n",
       "      <td>702134928</td>\n",
       "      <td>702013508</td>\n",
       "      <td>700821114</td>\n",
       "      <td>VISal</td>\n",
       "      <td>175.0</td>\n",
       "      <td>Vip-IRES-Cre;Ai148</td>\n",
       "      <td>C</td>\n",
       "      <td>363887</td>\n",
       "      <td>652073919.0</td>\n",
       "      <td>05/24/2018 14:27</td>\n",
       "      <td>20180524_363887_sessionC</td>\n",
       "    </tr>\n",
       "  </tbody>\n",
       "</table>\n",
       "</div>"
      ],
      "text/plain": [
       "     experiment_id  session_id  parent_session_id   area  depth  \\\n",
       "3.0      702134928   702013508          700821114  VISal  175.0   \n",
       "\n",
       "        transgenic_line stimulus_set  mouse_id  specimen_id  acquisition_date  \\\n",
       "3.0  Vip-IRES-Cre;Ai148            C    363887  652073919.0  05/24/2018 14:27   \n",
       "\n",
       "              experiment_name  \n",
       "3.0  20180524_363887_sessionC  "
      ]
     },
     "execution_count": 7,
     "metadata": {},
     "output_type": "execute_result"
    }
   ],
   "source": [
    "manifest[manifest.experiment_id==experiment_id]"
   ]
  },
  {
   "cell_type": "markdown",
   "metadata": {},
   "source": [
    "<div style=\"background: #DFF0D8; border-radius: 3px; padding: 10px;\">\n",
    "<p>**Task 1.3:**  What is in an experiment container? \n",
    "\n",
    "<p>The experiment container describes a set of experiment sessions performed at the same location (targeted area and imaging depth) in the same mouse that targets the same set of cells. All the sessions in an experiment container have a common parent_session_id\n",
    "\n",
    "<p>Get a the parent_session_id for your experiment_id and find out what other sessions were recorded at that same location\n",
    "\n",
    "<p>Do all experiment containers have the same number of sessions associated with them? \n",
    "\n",
    "</div>"
   ]
  },
  {
   "cell_type": "code",
   "execution_count": 8,
   "metadata": {
    "collapsed": false
   },
   "outputs": [
    {
     "name": "stdout",
     "output_type": "stream",
     "text": [
      "700821114\n"
     ]
    }
   ],
   "source": [
    "parent_session_id = manifest[manifest.experiment_id==experiment_id].parent_session_id.values[0]\n",
    "print parent_session_id"
   ]
  },
  {
   "cell_type": "code",
   "execution_count": 9,
   "metadata": {
    "collapsed": false
   },
   "outputs": [
    {
     "data": {
      "text/html": [
       "<div>\n",
       "<style scoped>\n",
       "    .dataframe tbody tr th:only-of-type {\n",
       "        vertical-align: middle;\n",
       "    }\n",
       "\n",
       "    .dataframe tbody tr th {\n",
       "        vertical-align: top;\n",
       "    }\n",
       "\n",
       "    .dataframe thead th {\n",
       "        text-align: right;\n",
       "    }\n",
       "</style>\n",
       "<table border=\"1\" class=\"dataframe\">\n",
       "  <thead>\n",
       "    <tr style=\"text-align: right;\">\n",
       "      <th></th>\n",
       "      <th>experiment_id</th>\n",
       "      <th>session_id</th>\n",
       "      <th>parent_session_id</th>\n",
       "      <th>area</th>\n",
       "      <th>depth</th>\n",
       "      <th>transgenic_line</th>\n",
       "      <th>stimulus_set</th>\n",
       "      <th>mouse_id</th>\n",
       "      <th>specimen_id</th>\n",
       "      <th>acquisition_date</th>\n",
       "      <th>experiment_name</th>\n",
       "    </tr>\n",
       "  </thead>\n",
       "  <tbody>\n",
       "    <tr>\n",
       "      <th>5.0</th>\n",
       "      <td>700914412</td>\n",
       "      <td>700821114</td>\n",
       "      <td>700821114</td>\n",
       "      <td>VISal</td>\n",
       "      <td>175.0</td>\n",
       "      <td>Vip-IRES-Cre;Ai148</td>\n",
       "      <td>A</td>\n",
       "      <td>363887</td>\n",
       "      <td>652073919.0</td>\n",
       "      <td>05/22/2018 15:12</td>\n",
       "      <td>20180522_363997_sessionA</td>\n",
       "    </tr>\n",
       "    <tr>\n",
       "      <th>4.0</th>\n",
       "      <td>701325132</td>\n",
       "      <td>701164546</td>\n",
       "      <td>700821114</td>\n",
       "      <td>VISal</td>\n",
       "      <td>175.0</td>\n",
       "      <td>Vip-IRES-Cre;Ai148</td>\n",
       "      <td>B</td>\n",
       "      <td>363887</td>\n",
       "      <td>652073919.0</td>\n",
       "      <td>05/23/2018 15:33</td>\n",
       "      <td>20180523_363887_sessionB</td>\n",
       "    </tr>\n",
       "    <tr>\n",
       "      <th>3.0</th>\n",
       "      <td>702134928</td>\n",
       "      <td>702013508</td>\n",
       "      <td>700821114</td>\n",
       "      <td>VISal</td>\n",
       "      <td>175.0</td>\n",
       "      <td>Vip-IRES-Cre;Ai148</td>\n",
       "      <td>C</td>\n",
       "      <td>363887</td>\n",
       "      <td>652073919.0</td>\n",
       "      <td>05/24/2018 14:27</td>\n",
       "      <td>20180524_363887_sessionC</td>\n",
       "    </tr>\n",
       "    <tr>\n",
       "      <th>2.0</th>\n",
       "      <td>702723649</td>\n",
       "      <td>702647224</td>\n",
       "      <td>700821114</td>\n",
       "      <td>VISal</td>\n",
       "      <td>175.0</td>\n",
       "      <td>Vip-IRES-Cre;Ai148</td>\n",
       "      <td>D</td>\n",
       "      <td>363887</td>\n",
       "      <td>652073919.0</td>\n",
       "      <td>05/25/2018 14:51</td>\n",
       "      <td>20180525_363887_sessionD</td>\n",
       "    </tr>\n",
       "    <tr>\n",
       "      <th>0.0</th>\n",
       "      <td>703731969</td>\n",
       "      <td>703676656</td>\n",
       "      <td>700821114</td>\n",
       "      <td>VISal</td>\n",
       "      <td>175.0</td>\n",
       "      <td>Vip-IRES-Cre;Ai148</td>\n",
       "      <td>A</td>\n",
       "      <td>363887</td>\n",
       "      <td>652073919.0</td>\n",
       "      <td>05/30/2018 13:06</td>\n",
       "      <td>20180530_363887_sessionA</td>\n",
       "    </tr>\n",
       "  </tbody>\n",
       "</table>\n",
       "</div>"
      ],
      "text/plain": [
       "     experiment_id  session_id  parent_session_id   area  depth  \\\n",
       "5.0      700914412   700821114          700821114  VISal  175.0   \n",
       "4.0      701325132   701164546          700821114  VISal  175.0   \n",
       "3.0      702134928   702013508          700821114  VISal  175.0   \n",
       "2.0      702723649   702647224          700821114  VISal  175.0   \n",
       "0.0      703731969   703676656          700821114  VISal  175.0   \n",
       "\n",
       "        transgenic_line stimulus_set  mouse_id  specimen_id  acquisition_date  \\\n",
       "5.0  Vip-IRES-Cre;Ai148            A    363887  652073919.0  05/22/2018 15:12   \n",
       "4.0  Vip-IRES-Cre;Ai148            B    363887  652073919.0  05/23/2018 15:33   \n",
       "3.0  Vip-IRES-Cre;Ai148            C    363887  652073919.0  05/24/2018 14:27   \n",
       "2.0  Vip-IRES-Cre;Ai148            D    363887  652073919.0  05/25/2018 14:51   \n",
       "0.0  Vip-IRES-Cre;Ai148            A    363887  652073919.0  05/30/2018 13:06   \n",
       "\n",
       "              experiment_name  \n",
       "5.0  20180522_363997_sessionA  \n",
       "4.0  20180523_363887_sessionB  \n",
       "3.0  20180524_363887_sessionC  \n",
       "2.0  20180525_363887_sessionD  \n",
       "0.0  20180530_363887_sessionA  "
      ]
     },
     "execution_count": 9,
     "metadata": {},
     "output_type": "execute_result"
    }
   ],
   "source": [
    "manifest[manifest.parent_session_id==parent_session_id]"
   ]
  },
  {
   "cell_type": "code",
   "execution_count": 10,
   "metadata": {
    "collapsed": false
   },
   "outputs": [
    {
     "name": "stdout",
     "output_type": "stream",
     "text": [
      "number of sessions associated with parent session 644919226  =  4\n",
      "number of sessions associated with parent session 646555436  =  4\n",
      "number of sessions associated with parent session 648562391  =  2\n",
      "number of sessions associated with parent session 652784528  =  4\n",
      "number of sessions associated with parent session 639001089  =  4\n",
      "number of sessions associated with parent session 661409179  =  4\n",
      "number of sessions associated with parent session 673080995  =  2\n",
      "number of sessions associated with parent session 664878287  =  2\n",
      "number of sessions associated with parent session 670266085  =  4\n",
      "number of sessions associated with parent session 695444116  =  3\n",
      "number of sessions associated with parent session 700821114  =  5\n",
      "number of sessions associated with parent session 682951696  =  3\n",
      "number of sessions associated with parent session 686150135  =  1\n",
      "number of sessions associated with parent session 692315205  =  4\n"
     ]
    }
   ],
   "source": [
    "for parent_session_id in manifest.parent_session_id.unique(): \n",
    "    container = manifest[manifest.parent_session_id==parent_session_id]\n",
    "    print 'number of sessions associated with parent session',str(parent_session_id),' = ',str(len(container))"
   ]
  },
  {
   "cell_type": "markdown",
   "metadata": {},
   "source": [
    "<div style=\"border-left: 3px solid #000; padding: 1px; padding-left: 10px; background: #F0FAFF; \">\n",
    "<h2>The VisualBehaviorDataset object</h2>\n",
    "<p>The dataset object contains all the data for a single experiment session, including dF/F traces, behavior data, and timing information. Use help to see what functions are contained in the VisualBehaviorOphysDataset class.\n",
    "\n",
    "<p>Provide your experiment_id and your cache directory to load the data for an experiment. \n",
    "</div>"
   ]
  },
  {
   "cell_type": "code",
   "execution_count": 11,
   "metadata": {
    "collapsed": false
   },
   "outputs": [],
   "source": [
    "# import visual behavior dataset class\n",
    "from visual_behavior.ophys.dataset.visual_behavior_ophys_dataset import VisualBehaviorOphysDataset"
   ]
  },
  {
   "cell_type": "code",
   "execution_count": 12,
   "metadata": {
    "collapsed": false,
    "scrolled": true
   },
   "outputs": [],
   "source": [
    "dataset= VisualBehaviorOphysDataset(experiment_id)"
   ]
  },
  {
   "cell_type": "code",
   "execution_count": 13,
   "metadata": {
    "collapsed": false
   },
   "outputs": [
    {
     "name": "stdout",
     "output_type": "stream",
     "text": [
      "Help on class VisualBehaviorOphysDataset in module visual_behavior.ophys.dataset.visual_behavior_ophys_dataset:\n",
      "\n",
      "class VisualBehaviorOphysDataset(__builtin__.object)\n",
      " |  Methods defined here:\n",
      " |  \n",
      " |  __init__(self, experiment_id, cache_dir=None)\n",
      " |      initialize visual behavior ophys experiment dataset.\n",
      " |          loads processed experiment data from cache_dir\n",
      " |      \n",
      " |      Parameters\n",
      " |      ----------\n",
      " |      experiment_id : ophys experiment ID (not session ID)\n",
      " |      cache_dir : directory to save or load analysis files to/from\n",
      " |  \n",
      " |  get_analysis_dir(self)\n",
      " |  \n",
      " |  get_cache_dir(self)\n",
      " |  \n",
      " |  get_cell_index_for_cell_specimen_id(self, cell_specimen_id)\n",
      " |  \n",
      " |  get_cell_indices(self)\n",
      " |  \n",
      " |  get_cell_specimen_id_for_cell_index(self, cell_index)\n",
      " |  \n",
      " |  get_cell_specimen_ids(self)\n",
      " |  \n",
      " |  get_dff_traces(self)\n",
      " |  \n",
      " |  get_licks(self)\n",
      " |  \n",
      " |  get_max_projection(self)\n",
      " |  \n",
      " |  get_metadata(self)\n",
      " |  \n",
      " |  get_motion_correction(self)\n",
      " |  \n",
      " |  get_rewards(self)\n",
      " |  \n",
      " |  get_roi_masks(self)\n",
      " |  \n",
      " |  get_roi_metrics(self)\n",
      " |  \n",
      " |  get_running(self)\n",
      " |  \n",
      " |  get_task_parameters(self)\n",
      " |  \n",
      " |  get_timestamps(self)\n",
      " |  \n",
      " |  get_timestamps_ophys(self)\n",
      " |  \n",
      " |  get_timestamps_stimulus(self)\n",
      " |  \n",
      " |  get_trials(self)\n",
      " |  \n",
      " |  get_visual_stimuli(self)\n",
      " |  \n",
      " |  ----------------------------------------------------------------------\n",
      " |  Data descriptors defined here:\n",
      " |  \n",
      " |  __dict__\n",
      " |      dictionary for instance variables (if defined)\n",
      " |  \n",
      " |  __weakref__\n",
      " |      list of weak references to the object (if defined)\n",
      "\n"
     ]
    }
   ],
   "source": [
    "help(VisualBehaviorOphysDataset)"
   ]
  },
  {
   "cell_type": "markdown",
   "metadata": {},
   "source": [
    "<div style=\"background: #DFF0D8; border-radius: 3px; padding: 10px;\">\n",
    "<p>**Task 2.1:**  What is an experiment dataset? \n",
    "\n",
    "<p>Use tab completion to see what is in the dataset object for an experiment session\n",
    "\n",
    "<p>Whats in the metadata? Make sure this is the experiment you selected.\n",
    "\n",
    "</div>\n"
   ]
  },
  {
   "cell_type": "code",
   "execution_count": 14,
   "metadata": {
    "collapsed": false
   },
   "outputs": [
    {
     "data": {
      "text/html": [
       "<div>\n",
       "<style scoped>\n",
       "    .dataframe tbody tr th:only-of-type {\n",
       "        vertical-align: middle;\n",
       "    }\n",
       "\n",
       "    .dataframe tbody tr th {\n",
       "        vertical-align: top;\n",
       "    }\n",
       "\n",
       "    .dataframe thead th {\n",
       "        text-align: right;\n",
       "    }\n",
       "</style>\n",
       "<table border=\"1\" class=\"dataframe\">\n",
       "  <thead>\n",
       "    <tr style=\"text-align: right;\">\n",
       "      <th></th>\n",
       "      <th>experiment_id</th>\n",
       "      <th>experiment_date</th>\n",
       "      <th>mouse_id</th>\n",
       "      <th>structure</th>\n",
       "      <th>depth</th>\n",
       "      <th>driver_line</th>\n",
       "      <th>reporter_line</th>\n",
       "      <th>image_set</th>\n",
       "      <th>session_name</th>\n",
       "      <th>session_id</th>\n",
       "      <th>parent_session_id</th>\n",
       "      <th>specimen_id</th>\n",
       "      <th>project_id</th>\n",
       "      <th>rig</th>\n",
       "      <th>ophys_frame_rate</th>\n",
       "      <th>stimulus_frame_rate</th>\n",
       "    </tr>\n",
       "  </thead>\n",
       "  <tbody>\n",
       "    <tr>\n",
       "      <th>702134928</th>\n",
       "      <td>702134928</td>\n",
       "      <td>2018-05-24</td>\n",
       "      <td>363887</td>\n",
       "      <td>VISal</td>\n",
       "      <td>175</td>\n",
       "      <td>Vip-IRES-Cre</td>\n",
       "      <td>Ai148(TIT2L-GC6f-ICL-tTA2)</td>\n",
       "      <td>C</td>\n",
       "      <td>sessionC</td>\n",
       "      <td>702013508</td>\n",
       "      <td>700821114</td>\n",
       "      <td>652073919</td>\n",
       "      <td>VisualBehaviorDevelopment</td>\n",
       "      <td>CAM2P.6</td>\n",
       "      <td>31.0</td>\n",
       "      <td>60.0</td>\n",
       "    </tr>\n",
       "  </tbody>\n",
       "</table>\n",
       "</div>"
      ],
      "text/plain": [
       "           experiment_id experiment_date  mouse_id structure  depth  \\\n",
       "702134928      702134928      2018-05-24    363887     VISal    175   \n",
       "\n",
       "            driver_line               reporter_line image_set session_name  \\\n",
       "702134928  Vip-IRES-Cre  Ai148(TIT2L-GC6f-ICL-tTA2)         C     sessionC   \n",
       "\n",
       "           session_id  parent_session_id  specimen_id  \\\n",
       "702134928   702013508          700821114    652073919   \n",
       "\n",
       "                          project_id      rig  ophys_frame_rate  \\\n",
       "702134928  VisualBehaviorDevelopment  CAM2P.6              31.0   \n",
       "\n",
       "           stimulus_frame_rate  \n",
       "702134928                 60.0  "
      ]
     },
     "execution_count": 14,
     "metadata": {},
     "output_type": "execute_result"
    }
   ],
   "source": [
    "dataset.metadata"
   ]
  },
  {
   "cell_type": "code",
   "execution_count": 15,
   "metadata": {
    "collapsed": false
   },
   "outputs": [
    {
     "name": "stdout",
     "output_type": "stream",
     "text": [
      "structure: VISal\n",
      "cre line: Vip-IRES-Cre\n",
      "depth: 175\n"
     ]
    }
   ],
   "source": [
    "# make sure this is the experiment you selected\n",
    "print 'structure:', dataset.metadata.structure.values[0]\n",
    "print 'cre line:', dataset.metadata.driver_line.values[0]\n",
    "print 'depth:', dataset.metadata.depth.values[0]"
   ]
  },
  {
   "cell_type": "markdown",
   "metadata": {},
   "source": [
    "<div style=\"background: #DFF0D8; border-radius: 3px; padding: 10px;\">\n",
    "<p>**Exercise 2.4:** Get the maximum intensity projection image for your data set and display it\n",
    "</div>"
   ]
  },
  {
   "cell_type": "code",
   "execution_count": 16,
   "metadata": {
    "collapsed": false
   },
   "outputs": [
    {
     "data": {
      "text/plain": [
       "(-0.5, 446.5, 511.5, -0.5)"
      ]
     },
     "execution_count": 16,
     "metadata": {},
     "output_type": "execute_result"
    },
    {
     "data": {
      "image/png": "[encoded data removed]",
      "text/plain": [
       "<matplotlib.figure.Figure at 0xe1900b8>"
      ]
     },
     "metadata": {},
     "output_type": "display_data"
    }
   ],
   "source": [
    "plt.imshow(dataset.max_projection,cmap='gray')\n",
    "plt.axis('off')"
   ]
  },
  {
   "cell_type": "markdown",
   "metadata": {},
   "source": [
    "<div style=\"background: #DFF0D8; border-radius: 3px; padding: 10px;\">\n",
    "<p>**Exercise 2.5:** Plot the dF/F trace for a cell by indexing into the dff_traces array\n",
    "\n",
    "<p>Get the timestamps for 2P acquisition frames and plot the dF/F trace in seconds\n",
    "\n",
    "</div>"
   ]
  },
  {
   "cell_type": "code",
   "execution_count": 17,
   "metadata": {
    "collapsed": true
   },
   "outputs": [],
   "source": [
    "# pick a cell \n",
    "cell_index = 8"
   ]
  },
  {
   "cell_type": "code",
   "execution_count": 18,
   "metadata": {
    "collapsed": false
   },
   "outputs": [
    {
     "data": {
      "text/plain": [
       "<matplotlib.text.Text at 0xf547400>"
      ]
     },
     "execution_count": 18,
     "metadata": {},
     "output_type": "execute_result"
    },
    {
     "data": {
      "image/png": "[encoded data removed]",
      "text/plain": [
       "<matplotlib.figure.Figure at 0xb899b70>"
      ]
     },
     "metadata": {},
     "output_type": "display_data"
    }
   ],
   "source": [
    "plt.plot(dataset.timestamps_ophys,dataset.dff_traces[cell_index])\n",
    "plt.xlabel('seconds')\n",
    "plt.ylabel('dF/F')"
   ]
  },
  {
   "cell_type": "markdown",
   "metadata": {},
   "source": [
    "<div style=\"background: #DFF0D8; border-radius: 3px; padding: 10px;\">\n",
    "<p>**Exercise 2.6:** Get the cell_specimen_id for your cell index\n",
    "</div>"
   ]
  },
  {
   "cell_type": "code",
   "execution_count": 19,
   "metadata": {
    "collapsed": false
   },
   "outputs": [
    {
     "name": "stdout",
     "output_type": "stream",
     "text": [
      "702210082\n"
     ]
    }
   ],
   "source": [
    "cell_specimen_id = dataset.get_cell_specimen_id_for_cell_index(cell_index)\n",
    "print cell_specimen_id"
   ]
  },
  {
   "cell_type": "markdown",
   "metadata": {},
   "source": [
    "<div style=\"background: #DFF0D8; border-radius: 3px; padding: 10px;\">\n",
    "<p>**Exercise 2.7:** Plot the roi mask for that cell using the roi_dict or roi_mask_array. Note whether you need to use the cell_specimen_id or cell_index\n",
    "</div>"
   ]
  },
  {
   "cell_type": "code",
   "execution_count": 20,
   "metadata": {
    "collapsed": false
   },
   "outputs": [
    {
     "data": {
      "image/png": "[encoded data removed]",
      "text/plain": [
       "<matplotlib.figure.Figure at 0xf739128>"
      ]
     },
     "metadata": {},
     "output_type": "display_data"
    }
   ],
   "source": [
    "# use cell_specimen_id for roi_dict\n",
    "plt.imshow(dataset.roi_masks[str(cell_specimen_id)])\n",
    "plt.grid('off')"
   ]
  },
  {
   "cell_type": "markdown",
   "metadata": {},
   "source": [
    "<div style=\"border-left: 3px solid #000; padding: 1px; padding-left: 10px; background: #F0FAFF; \">\n",
    "<h2>Change detection task - stimulus flashes and trials </h2>\n",
    "<p>The change detection task consists of a series of image presentations. Each image flash is 250ms followed by 500ms of gray screen. The task for the mouse is to lick in a 750ms response window following a change in image identity. \n",
    "<p>On each trial, a change time is scheduled. On go trials, a change in image identity occurs. On catch trials, no image change occurs (aka 'sham change'), and we measure false alarm rates in the same 750ms response window. \n",
    "with changes in image identity occuring "
   ]
  },
  {
   "cell_type": "markdown",
   "metadata": {},
   "source": [
    "<div style=\"background: #DFF0D8; border-radius: 3px; padding: 10px;\">\n",
    "<p>**Exercise 3.1:** Use the visual_behavior package to load trial records. What images were shown in this behavior session? How many trials were there? How many of those trials had stimulus changes ('go' trials)?\n",
    "</div>"
   ]
  },
  {
   "cell_type": "code",
   "execution_count": 21,
   "metadata": {
    "collapsed": false
   },
   "outputs": [
    {
     "data": {
      "text/html": [
       "<div>\n",
       "<style scoped>\n",
       "    .dataframe tbody tr th:only-of-type {\n",
       "        vertical-align: middle;\n",
       "    }\n",
       "\n",
       "    .dataframe tbody tr th {\n",
       "        vertical-align: top;\n",
       "    }\n",
       "\n",
       "    .dataframe thead th {\n",
       "        text-align: right;\n",
       "    }\n",
       "</style>\n",
       "<table border=\"1\" class=\"dataframe\">\n",
       "  <thead>\n",
       "    <tr style=\"text-align: right;\">\n",
       "      <th></th>\n",
       "      <th>trial</th>\n",
       "      <th>original_trial_index</th>\n",
       "      <th>auto_rewarded</th>\n",
       "      <th>change_contrast</th>\n",
       "      <th>change_frame</th>\n",
       "      <th>change_image_category</th>\n",
       "      <th>change_image_name</th>\n",
       "      <th>change_ori</th>\n",
       "      <th>change_time</th>\n",
       "      <th>cumulative_reward_number</th>\n",
       "      <th>...</th>\n",
       "      <th>number_of_rewards</th>\n",
       "      <th>rig_id</th>\n",
       "      <th>trial_type</th>\n",
       "      <th>lick_frames</th>\n",
       "      <th>reward_licks</th>\n",
       "      <th>reward_lick_count</th>\n",
       "      <th>reward_lick_latency</th>\n",
       "      <th>reward_rate</th>\n",
       "      <th>response</th>\n",
       "      <th>color</th>\n",
       "    </tr>\n",
       "  </thead>\n",
       "  <tbody>\n",
       "    <tr>\n",
       "      <th>0</th>\n",
       "      <td>0</td>\n",
       "      <td>41</td>\n",
       "      <td>False</td>\n",
       "      <td>1.0</td>\n",
       "      <td>5443.0</td>\n",
       "      <td>im031</td>\n",
       "      <td>im031</td>\n",
       "      <td>90.0</td>\n",
       "      <td>141.62952</td>\n",
       "      <td>5</td>\n",
       "      <td>...</td>\n",
       "      <td>0</td>\n",
       "      <td>2P6</td>\n",
       "      <td>catch</td>\n",
       "      <td>[5550, 5568, 5577]</td>\n",
       "      <td>[]</td>\n",
       "      <td>0</td>\n",
       "      <td>NaN</td>\n",
       "      <td>2.323682</td>\n",
       "      <td>0.0</td>\n",
       "      <td>yellow</td>\n",
       "    </tr>\n",
       "    <tr>\n",
       "      <th>1</th>\n",
       "      <td>1</td>\n",
       "      <td>54</td>\n",
       "      <td>None</td>\n",
       "      <td>1.0</td>\n",
       "      <td>7288.0</td>\n",
       "      <td>im075</td>\n",
       "      <td>im075</td>\n",
       "      <td>90.0</td>\n",
       "      <td>172.40470</td>\n",
       "      <td>5</td>\n",
       "      <td>...</td>\n",
       "      <td>0</td>\n",
       "      <td>2P6</td>\n",
       "      <td>go</td>\n",
       "      <td>[7343, 7350]</td>\n",
       "      <td>[]</td>\n",
       "      <td>0</td>\n",
       "      <td>NaN</td>\n",
       "      <td>1.519670</td>\n",
       "      <td>0.0</td>\n",
       "      <td>lightgreen</td>\n",
       "    </tr>\n",
       "    <tr>\n",
       "      <th>2</th>\n",
       "      <td>2</td>\n",
       "      <td>55</td>\n",
       "      <td>None</td>\n",
       "      <td>1.0</td>\n",
       "      <td>7558.0</td>\n",
       "      <td>im000</td>\n",
       "      <td>im000</td>\n",
       "      <td>90.0</td>\n",
       "      <td>176.90832</td>\n",
       "      <td>5</td>\n",
       "      <td>...</td>\n",
       "      <td>0</td>\n",
       "      <td>2P6</td>\n",
       "      <td>go</td>\n",
       "      <td>[7608, 7619]</td>\n",
       "      <td>[]</td>\n",
       "      <td>0</td>\n",
       "      <td>NaN</td>\n",
       "      <td>1.823604</td>\n",
       "      <td>0.0</td>\n",
       "      <td>lightgreen</td>\n",
       "    </tr>\n",
       "    <tr>\n",
       "      <th>3</th>\n",
       "      <td>3</td>\n",
       "      <td>56</td>\n",
       "      <td>None</td>\n",
       "      <td>1.0</td>\n",
       "      <td>7828.0</td>\n",
       "      <td>im075</td>\n",
       "      <td>im075</td>\n",
       "      <td>90.0</td>\n",
       "      <td>181.41204</td>\n",
       "      <td>5</td>\n",
       "      <td>...</td>\n",
       "      <td>0</td>\n",
       "      <td>2P6</td>\n",
       "      <td>go</td>\n",
       "      <td>[8101, 8111]</td>\n",
       "      <td>[]</td>\n",
       "      <td>0</td>\n",
       "      <td>NaN</td>\n",
       "      <td>1.744029</td>\n",
       "      <td>0.0</td>\n",
       "      <td>lightgreen</td>\n",
       "    </tr>\n",
       "    <tr>\n",
       "      <th>4</th>\n",
       "      <td>4</td>\n",
       "      <td>57</td>\n",
       "      <td>None</td>\n",
       "      <td>1.0</td>\n",
       "      <td>8323.0</td>\n",
       "      <td>im035</td>\n",
       "      <td>im035</td>\n",
       "      <td>90.0</td>\n",
       "      <td>189.66878</td>\n",
       "      <td>5</td>\n",
       "      <td>...</td>\n",
       "      <td>0</td>\n",
       "      <td>2P6</td>\n",
       "      <td>go</td>\n",
       "      <td>[8554, 8562, 8574]</td>\n",
       "      <td>[]</td>\n",
       "      <td>0</td>\n",
       "      <td>NaN</td>\n",
       "      <td>1.782929</td>\n",
       "      <td>0.0</td>\n",
       "      <td>lightgreen</td>\n",
       "    </tr>\n",
       "  </tbody>\n",
       "</table>\n",
       "<p>5 rows × 65 columns</p>\n",
       "</div>"
      ],
      "text/plain": [
       "   trial  original_trial_index auto_rewarded  change_contrast  change_frame  \\\n",
       "0      0                    41         False              1.0        5443.0   \n",
       "1      1                    54          None              1.0        7288.0   \n",
       "2      2                    55          None              1.0        7558.0   \n",
       "3      3                    56          None              1.0        7828.0   \n",
       "4      4                    57          None              1.0        8323.0   \n",
       "\n",
       "  change_image_category change_image_name  change_ori  change_time  \\\n",
       "0                 im031             im031        90.0    141.62952   \n",
       "1                 im075             im075        90.0    172.40470   \n",
       "2                 im000             im000        90.0    176.90832   \n",
       "3                 im075             im075        90.0    181.41204   \n",
       "4                 im035             im035        90.0    189.66878   \n",
       "\n",
       "   cumulative_reward_number     ...      number_of_rewards  rig_id  \\\n",
       "0                         5     ...                      0     2P6   \n",
       "1                         5     ...                      0     2P6   \n",
       "2                         5     ...                      0     2P6   \n",
       "3                         5     ...                      0     2P6   \n",
       "4                         5     ...                      0     2P6   \n",
       "\n",
       "   trial_type         lick_frames reward_licks reward_lick_count  \\\n",
       "0       catch  [5550, 5568, 5577]           []                 0   \n",
       "1          go        [7343, 7350]           []                 0   \n",
       "2          go        [7608, 7619]           []                 0   \n",
       "3          go        [8101, 8111]           []                 0   \n",
       "4          go  [8554, 8562, 8574]           []                 0   \n",
       "\n",
       "   reward_lick_latency reward_rate  response       color  \n",
       "0                  NaN    2.323682       0.0      yellow  \n",
       "1                  NaN    1.519670       0.0  lightgreen  \n",
       "2                  NaN    1.823604       0.0  lightgreen  \n",
       "3                  NaN    1.744029       0.0  lightgreen  \n",
       "4                  NaN    1.782929       0.0  lightgreen  \n",
       "\n",
       "[5 rows x 65 columns]"
      ]
     },
     "execution_count": 21,
     "metadata": {},
     "output_type": "execute_result"
    }
   ],
   "source": [
    "trials = dataset.trials\n",
    "trials.head()"
   ]
  },
  {
   "cell_type": "code",
   "execution_count": 22,
   "metadata": {
    "collapsed": false
   },
   "outputs": [
    {
     "name": "stdout",
     "output_type": "stream",
     "text": [
      "['im075' 'im000' 'im035' 'im045' 'im073' 'im106' 'im054']\n"
     ]
    }
   ],
   "source": [
    "images = trials.change_image_name.unique()[1:]\n",
    "print images"
   ]
  },
  {
   "cell_type": "code",
   "execution_count": 23,
   "metadata": {
    "collapsed": false
   },
   "outputs": [
    {
     "name": "stdout",
     "output_type": "stream",
     "text": [
      "number of trials = 298\n"
     ]
    }
   ],
   "source": [
    "print 'number of trials =',len(trials)"
   ]
  },
  {
   "cell_type": "code",
   "execution_count": 24,
   "metadata": {
    "collapsed": false
   },
   "outputs": [
    {
     "name": "stdout",
     "output_type": "stream",
     "text": [
      "number of change trials = 258\n"
     ]
    }
   ],
   "source": [
    "print 'number of change trials =',len(trials[trials.trial_type=='go'])"
   ]
  },
  {
   "cell_type": "markdown",
   "metadata": {},
   "source": [
    "<div style=\"background: #DFF0D8; border-radius: 3px; padding: 10px;\">\n",
    "<p>**Exercise 3.2:** Plot the behavioral response rate for each image separately for go and catch trials. \n",
    "\n",
    "<p> (Hint: use the trials dataframe column 'response' to quantify the number of trials where the mouse emitted a lick for each condition)\n",
    "</div>"
   ]
  },
  {
   "cell_type": "code",
   "execution_count": 25,
   "metadata": {
    "collapsed": false,
    "scrolled": true
   },
   "outputs": [
    {
     "data": {
      "text/plain": [
       "<matplotlib.legend.Legend at 0xe8574e0>"
      ]
     },
     "execution_count": 25,
     "metadata": {},
     "output_type": "execute_result"
    },
    {
     "data": {
      "image/png": "[encoded data removed]",
      "text/plain": [
       "<matplotlib.figure.Figure at 0xe4a3748>"
      ]
     },
     "metadata": {},
     "output_type": "display_data"
    }
   ],
   "source": [
    "colors = sns.color_palette()\n",
    "trial_types = trials.trial_type.unique()\n",
    "for t,trial_type in enumerate(trial_types):\n",
    "    for i,image in enumerate(images): \n",
    "        responses = trials[(trials.change_image_name==image)&(trials.trial_type==trial_type)].response\n",
    "        response_rate = np.sum(responses)/float(len(responses))\n",
    "        plt.plot(i,response_rate,'o',color=colors[t],label=trial_type)\n",
    "plt.ylabel('behavioral response rate')\n",
    "plt.xlabel('image')\n",
    "plt.xticks(np.arange(0,len(images),1),images,rotation=90)\n",
    "plt.ylim(0,1)\n",
    "plt.legend(trial_types)"
   ]
  },
  {
   "cell_type": "markdown",
   "metadata": {},
   "source": [
    "<div style=\"background: #DFF0D8; border-radius: 3px; padding: 10px;\">\n",
    "<p>**Exercise 3.3:** Use the visual_behavior package to load stimulus flash records. How many individual stimulus presentations were there?   \n",
    "</div>"
   ]
  },
  {
   "cell_type": "code",
   "execution_count": 26,
   "metadata": {
    "collapsed": false
   },
   "outputs": [
    {
     "data": {
      "text/html": [
       "<div>\n",
       "<style scoped>\n",
       "    .dataframe tbody tr th:only-of-type {\n",
       "        vertical-align: middle;\n",
       "    }\n",
       "\n",
       "    .dataframe tbody tr th {\n",
       "        vertical-align: top;\n",
       "    }\n",
       "\n",
       "    .dataframe thead th {\n",
       "        text-align: right;\n",
       "    }\n",
       "</style>\n",
       "<table border=\"1\" class=\"dataframe\">\n",
       "  <thead>\n",
       "    <tr style=\"text-align: right;\">\n",
       "      <th></th>\n",
       "      <th>flash_num</th>\n",
       "      <th>frame</th>\n",
       "      <th>end_frame</th>\n",
       "      <th>time</th>\n",
       "      <th>duration</th>\n",
       "      <th>image_category</th>\n",
       "      <th>image_name</th>\n",
       "      <th>orientation</th>\n",
       "      <th>contrast</th>\n",
       "    </tr>\n",
       "  </thead>\n",
       "  <tbody>\n",
       "    <tr>\n",
       "      <th>0</th>\n",
       "      <td>0</td>\n",
       "      <td>1</td>\n",
       "      <td>16</td>\n",
       "      <td>0.001206</td>\n",
       "      <td>51.054434</td>\n",
       "      <td>im045</td>\n",
       "      <td>im045</td>\n",
       "      <td>None</td>\n",
       "      <td>None</td>\n",
       "    </tr>\n",
       "    <tr>\n",
       "      <th>45</th>\n",
       "      <td>1</td>\n",
       "      <td>46</td>\n",
       "      <td>61</td>\n",
       "      <td>0.751357</td>\n",
       "      <td>51.054893</td>\n",
       "      <td>im045</td>\n",
       "      <td>im045</td>\n",
       "      <td>None</td>\n",
       "      <td>None</td>\n",
       "    </tr>\n",
       "    <tr>\n",
       "      <th>90</th>\n",
       "      <td>2</td>\n",
       "      <td>91</td>\n",
       "      <td>106</td>\n",
       "      <td>1.501783</td>\n",
       "      <td>51.055077</td>\n",
       "      <td>im045</td>\n",
       "      <td>im045</td>\n",
       "      <td>None</td>\n",
       "      <td>None</td>\n",
       "    </tr>\n",
       "    <tr>\n",
       "      <th>135</th>\n",
       "      <td>3</td>\n",
       "      <td>136</td>\n",
       "      <td>151</td>\n",
       "      <td>2.252362</td>\n",
       "      <td>51.055058</td>\n",
       "      <td>im045</td>\n",
       "      <td>im045</td>\n",
       "      <td>None</td>\n",
       "      <td>None</td>\n",
       "    </tr>\n",
       "    <tr>\n",
       "      <th>180</th>\n",
       "      <td>4</td>\n",
       "      <td>181</td>\n",
       "      <td>196</td>\n",
       "      <td>3.002979</td>\n",
       "      <td>51.055091</td>\n",
       "      <td>im045</td>\n",
       "      <td>im045</td>\n",
       "      <td>None</td>\n",
       "      <td>None</td>\n",
       "    </tr>\n",
       "  </tbody>\n",
       "</table>\n",
       "</div>"
      ],
      "text/plain": [
       "     flash_num  frame  end_frame      time   duration image_category  \\\n",
       "0            0      1         16  0.001206  51.054434          im045   \n",
       "45           1     46         61  0.751357  51.054893          im045   \n",
       "90           2     91        106  1.501783  51.055077          im045   \n",
       "135          3    136        151  2.252362  51.055058          im045   \n",
       "180          4    181        196  3.002979  51.055091          im045   \n",
       "\n",
       "    image_name orientation contrast  \n",
       "0        im045        None     None  \n",
       "45       im045        None     None  \n",
       "90       im045        None     None  \n",
       "135      im045        None     None  \n",
       "180      im045        None     None  "
      ]
     },
     "execution_count": 26,
     "metadata": {},
     "output_type": "execute_result"
    }
   ],
   "source": [
    "flashes = dataset.visual_stimuli\n",
    "flashes.head()"
   ]
  },
  {
   "cell_type": "code",
   "execution_count": 27,
   "metadata": {
    "collapsed": false
   },
   "outputs": [
    {
     "name": "stdout",
     "output_type": "stream",
     "text": [
      "number of stimulus presentations = 4626\n"
     ]
    }
   ],
   "source": [
    "print 'number of stimulus presentations =',len(flashes)"
   ]
  },
  {
   "cell_type": "markdown",
   "metadata": {},
   "source": [
    "<div style=\"border-left: 3px solid #000; padding: 1px; padding-left: 10px; background: #F0FAFF; \">\n",
    "<h2>The ResponseAnalysis object </h2>\n",
    "<p>The ResponseAnalysis class takes a VisualBehaviorDataset object and extracts cell responses for flashes and trials.  \n",
    "\n",
    "<p>\n",
    "</div>"
   ]
  },
  {
   "cell_type": "markdown",
   "metadata": {},
   "source": [
    "<div style=\"background: #DFF0D8; border-radius: 3px; padding: 10px;\">\n",
    "<p>**Exercise 4.1:** Generate and explore the ResponseAnalysis object. What is available to you? Use help to check the documentation, or look directly at the code to see what operations are performed. \n",
    "</div>"
   ]
  },
  {
   "cell_type": "code",
   "execution_count": 28,
   "metadata": {
    "collapsed": false
   },
   "outputs": [],
   "source": [
    "from visual_behavior.ophys.response_analysis.response_analysis import ResponseAnalysis "
   ]
  },
  {
   "cell_type": "code",
   "execution_count": 29,
   "metadata": {
    "collapsed": false
   },
   "outputs": [
    {
     "name": "stdout",
     "output_type": "stream",
     "text": [
      "loading trial response dataframe\n",
      "loading flash response dataframe\n"
     ]
    }
   ],
   "source": [
    "ra = ResponseAnalysis(dataset)"
   ]
  },
  {
   "cell_type": "code",
   "execution_count": 30,
   "metadata": {
    "collapsed": false
   },
   "outputs": [
    {
     "name": "stdout",
     "output_type": "stream",
     "text": [
      "Help on class ResponseAnalysis in module visual_behavior.ophys.response_analysis.response_analysis:\n",
      "\n",
      "class ResponseAnalysis(__builtin__.object)\n",
      " |  Contains methods for organizing responses by trial or by individual visual stimulus flashes in a DataFrame.\n",
      " |  \n",
      " |  For trial responses, a segment of the dF/F trace for each cell is extracted for each trial in a +/-4 seconds window (the 'trial_window') around the change time.\n",
      " |  The mean response for each cell is taken in a 500ms window after the change time (the 'response_window').\n",
      " |  The trial_response_df also contains behavioral metadata such as lick times, running, reward rate, and initial and change stimulus names.\n",
      " |  \n",
      " |  For stimulus flashes, the mean response is taken in a 500ms window after each stimulus presentation (the 'response_window').\n",
      " |  The flash_response_df also contains metadata such as the time from last lick, time since last stimulus change, and mean running speed during each flash.\n",
      " |  \n",
      " |  Parameters\n",
      " |  ----------\n",
      " |  dataset: VisualBehaviorOphysDataset instance\n",
      " |  \n",
      " |  Methods defined here:\n",
      " |  \n",
      " |  __init__(self, dataset)\n",
      " |  \n",
      " |  generate_flash_response_df(self)\n",
      " |  \n",
      " |  generate_trial_response_df(self)\n",
      " |  \n",
      " |  get_flash_response_df(self)\n",
      " |  \n",
      " |  get_flash_response_df_path(self)\n",
      " |  \n",
      " |  get_trial_response_df(self)\n",
      " |  \n",
      " |  get_trial_response_df_path(self)\n",
      " |  \n",
      " |  save_flash_response_df(self, flash_response_df)\n",
      " |  \n",
      " |  save_trial_response_df(self, trial_response_df)\n",
      " |  \n",
      " |  ----------------------------------------------------------------------\n",
      " |  Data descriptors defined here:\n",
      " |  \n",
      " |  __dict__\n",
      " |      dictionary for instance variables (if defined)\n",
      " |  \n",
      " |  __weakref__\n",
      " |      list of weak references to the object (if defined)\n",
      "\n"
     ]
    }
   ],
   "source": [
    "help(ResponseAnalysis)"
   ]
  },
  {
   "cell_type": "markdown",
   "metadata": {},
   "source": [
    "<div style=\"background: #DFF0D8; border-radius: 3px; padding: 10px;\">\n",
    "<p>**Exercise 4.2:** What is in the response dataframe? What are the columns of response_df? \n",
    "</div>"
   ]
  },
  {
   "cell_type": "code",
   "execution_count": 31,
   "metadata": {
    "collapsed": false
   },
   "outputs": [
    {
     "data": {
      "text/plain": [
       "Index([u'trial', u'cell', u'cell_specimen_id', u'trace', u'timestamps',\n",
       "       u'mean_response', u'baseline_response', u'p_value', u'sd_over_baseline',\n",
       "       u'running_speed_trace', u'running_speed_timestamps',\n",
       "       u'mean_running_speed'],\n",
       "      dtype='object')"
      ]
     },
     "execution_count": 31,
     "metadata": {},
     "output_type": "execute_result"
    }
   ],
   "source": [
    "rdf = ra.trial_response_df\n",
    "rdf.keys()"
   ]
  },
  {
   "cell_type": "code",
   "execution_count": 32,
   "metadata": {
    "collapsed": false
   },
   "outputs": [
    {
     "data": {
      "text/html": [
       "<div>\n",
       "<style scoped>\n",
       "    .dataframe tbody tr th:only-of-type {\n",
       "        vertical-align: middle;\n",
       "    }\n",
       "\n",
       "    .dataframe tbody tr th {\n",
       "        vertical-align: top;\n",
       "    }\n",
       "\n",
       "    .dataframe thead th {\n",
       "        text-align: right;\n",
       "    }\n",
       "</style>\n",
       "<table border=\"1\" class=\"dataframe\">\n",
       "  <thead>\n",
       "    <tr style=\"text-align: right;\">\n",
       "      <th></th>\n",
       "      <th>trial</th>\n",
       "      <th>cell</th>\n",
       "      <th>cell_specimen_id</th>\n",
       "      <th>trace</th>\n",
       "      <th>timestamps</th>\n",
       "      <th>mean_response</th>\n",
       "      <th>baseline_response</th>\n",
       "      <th>p_value</th>\n",
       "      <th>sd_over_baseline</th>\n",
       "      <th>running_speed_trace</th>\n",
       "      <th>running_speed_timestamps</th>\n",
       "      <th>mean_running_speed</th>\n",
       "    </tr>\n",
       "  </thead>\n",
       "  <tbody>\n",
       "    <tr>\n",
       "      <th>0</th>\n",
       "      <td>0</td>\n",
       "      <td>0</td>\n",
       "      <td>702210036</td>\n",
       "      <td>[-0.00558749210192, -0.0313207615094, -0.03712...</td>\n",
       "      <td>[137.61052, 137.64281, 137.67511, 137.7074, 13...</td>\n",
       "      <td>0.228619</td>\n",
       "      <td>0.308678</td>\n",
       "      <td>4.789679e-03</td>\n",
       "      <td>2.760414</td>\n",
       "      <td>[0.185068992225, -0.100276228285, 0.0568252058...</td>\n",
       "      <td>[137.62629, 137.64295, 137.65965, 137.67632, 1...</td>\n",
       "      <td>41.005266</td>\n",
       "    </tr>\n",
       "    <tr>\n",
       "      <th>1</th>\n",
       "      <td>1</td>\n",
       "      <td>0</td>\n",
       "      <td>702210036</td>\n",
       "      <td>[0.0793868628479, 0.0583250239975, 0.083241889...</td>\n",
       "      <td>[168.38455, 168.41684, 168.44913, 168.48143, 1...</td>\n",
       "      <td>1.118120</td>\n",
       "      <td>0.261703</td>\n",
       "      <td>8.300277e-13</td>\n",
       "      <td>8.736023</td>\n",
       "      <td>[7.0696388214, 7.86373704671, 8.94967647697, 1...</td>\n",
       "      <td>[168.40139, 168.41802, 168.43476, 168.45146, 1...</td>\n",
       "      <td>17.853531</td>\n",
       "    </tr>\n",
       "    <tr>\n",
       "      <th>2</th>\n",
       "      <td>2</td>\n",
       "      <td>0</td>\n",
       "      <td>702210036</td>\n",
       "      <td>[0.744734324558, 0.724572297818, 0.64035476221...</td>\n",
       "      <td>[172.90544, 172.93774, 172.97003, 173.00232, 1...</td>\n",
       "      <td>0.063605</td>\n",
       "      <td>0.037794</td>\n",
       "      <td>9.463483e-02</td>\n",
       "      <td>1.918284</td>\n",
       "      <td>[0.380742936796, 0.555876227391, 0.35094738222...</td>\n",
       "      <td>[172.90506, 172.92176, 172.93842, 172.95509, 1...</td>\n",
       "      <td>36.194676</td>\n",
       "    </tr>\n",
       "    <tr>\n",
       "      <th>3</th>\n",
       "      <td>3</td>\n",
       "      <td>0</td>\n",
       "      <td>702210036</td>\n",
       "      <td>[0.00709478193187, 0.0413235147505, 0.02184670...</td>\n",
       "      <td>[177.39406, 177.42635, 177.45864, 177.49093, 1...</td>\n",
       "      <td>0.060522</td>\n",
       "      <td>0.054498</td>\n",
       "      <td>6.524245e-01</td>\n",
       "      <td>1.773138</td>\n",
       "      <td>[2.13847565343, 2.13463292368, 2.09483803984, ...</td>\n",
       "      <td>[177.40872, 177.4254, 177.44211, 177.45875, 17...</td>\n",
       "      <td>69.927051</td>\n",
       "    </tr>\n",
       "    <tr>\n",
       "      <th>4</th>\n",
       "      <td>4</td>\n",
       "      <td>0</td>\n",
       "      <td>702210036</td>\n",
       "      <td>[-0.0575129665706, -0.0228988412914, 0.0505110...</td>\n",
       "      <td>[185.66088, 185.69317, 185.72546, 185.75776, 1...</td>\n",
       "      <td>0.056541</td>\n",
       "      <td>-0.017206</td>\n",
       "      <td>6.792699e-05</td>\n",
       "      <td>1.606266</td>\n",
       "      <td>[3.91178834911, 3.90580320883, 3.98849460775, ...</td>\n",
       "      <td>[185.6655, 185.68219, 185.69888, 185.71553, 18...</td>\n",
       "      <td>69.985295</td>\n",
       "    </tr>\n",
       "  </tbody>\n",
       "</table>\n",
       "</div>"
      ],
      "text/plain": [
       "   trial  cell  cell_specimen_id  \\\n",
       "0      0     0         702210036   \n",
       "1      1     0         702210036   \n",
       "2      2     0         702210036   \n",
       "3      3     0         702210036   \n",
       "4      4     0         702210036   \n",
       "\n",
       "                                               trace  \\\n",
       "0  [-0.00558749210192, -0.0313207615094, -0.03712...   \n",
       "1  [0.0793868628479, 0.0583250239975, 0.083241889...   \n",
       "2  [0.744734324558, 0.724572297818, 0.64035476221...   \n",
       "3  [0.00709478193187, 0.0413235147505, 0.02184670...   \n",
       "4  [-0.0575129665706, -0.0228988412914, 0.0505110...   \n",
       "\n",
       "                                          timestamps  mean_response  \\\n",
       "0  [137.61052, 137.64281, 137.67511, 137.7074, 13...       0.228619   \n",
       "1  [168.38455, 168.41684, 168.44913, 168.48143, 1...       1.118120   \n",
       "2  [172.90544, 172.93774, 172.97003, 173.00232, 1...       0.063605   \n",
       "3  [177.39406, 177.42635, 177.45864, 177.49093, 1...       0.060522   \n",
       "4  [185.66088, 185.69317, 185.72546, 185.75776, 1...       0.056541   \n",
       "\n",
       "   baseline_response       p_value  sd_over_baseline  \\\n",
       "0           0.308678  4.789679e-03          2.760414   \n",
       "1           0.261703  8.300277e-13          8.736023   \n",
       "2           0.037794  9.463483e-02          1.918284   \n",
       "3           0.054498  6.524245e-01          1.773138   \n",
       "4          -0.017206  6.792699e-05          1.606266   \n",
       "\n",
       "                                 running_speed_trace  \\\n",
       "0  [0.185068992225, -0.100276228285, 0.0568252058...   \n",
       "1  [7.0696388214, 7.86373704671, 8.94967647697, 1...   \n",
       "2  [0.380742936796, 0.555876227391, 0.35094738222...   \n",
       "3  [2.13847565343, 2.13463292368, 2.09483803984, ...   \n",
       "4  [3.91178834911, 3.90580320883, 3.98849460775, ...   \n",
       "\n",
       "                            running_speed_timestamps  mean_running_speed  \n",
       "0  [137.62629, 137.64295, 137.65965, 137.67632, 1...           41.005266  \n",
       "1  [168.40139, 168.41802, 168.43476, 168.45146, 1...           17.853531  \n",
       "2  [172.90506, 172.92176, 172.93842, 172.95509, 1...           36.194676  \n",
       "3  [177.40872, 177.4254, 177.44211, 177.45875, 17...           69.927051  \n",
       "4  [185.6655, 185.68219, 185.69888, 185.71553, 18...           69.985295  "
      ]
     },
     "execution_count": 32,
     "metadata": {},
     "output_type": "execute_result"
    }
   ],
   "source": [
    "rdf.head()"
   ]
  },
  {
   "cell_type": "markdown",
   "metadata": {},
   "source": [
    "<div style=\"background: #DFF0D8; border-radius: 3px; padding: 10px;\">\n",
    "<p>**Exercise 4.3:** Find the cell that has the largest mean_response. What image evoked the largest response? Was it a go or catch trial? \n",
    "\n",
    "<p>(Hint: use the 'trial' column value of trial_response_df to get metadata from the trials dataframe)\n",
    "\n",
    "</div>"
   ]
  },
  {
   "cell_type": "code",
   "execution_count": 33,
   "metadata": {
    "collapsed": false
   },
   "outputs": [
    {
     "data": {
      "text/html": [
       "<div>\n",
       "<style scoped>\n",
       "    .dataframe tbody tr th:only-of-type {\n",
       "        vertical-align: middle;\n",
       "    }\n",
       "\n",
       "    .dataframe tbody tr th {\n",
       "        vertical-align: top;\n",
       "    }\n",
       "\n",
       "    .dataframe thead th {\n",
       "        text-align: right;\n",
       "    }\n",
       "</style>\n",
       "<table border=\"1\" class=\"dataframe\">\n",
       "  <thead>\n",
       "    <tr style=\"text-align: right;\">\n",
       "      <th></th>\n",
       "      <th>trial</th>\n",
       "      <th>cell</th>\n",
       "      <th>cell_specimen_id</th>\n",
       "      <th>trace</th>\n",
       "      <th>timestamps</th>\n",
       "      <th>mean_response</th>\n",
       "      <th>baseline_response</th>\n",
       "      <th>p_value</th>\n",
       "      <th>sd_over_baseline</th>\n",
       "      <th>running_speed_trace</th>\n",
       "      <th>running_speed_timestamps</th>\n",
       "      <th>mean_running_speed</th>\n",
       "    </tr>\n",
       "  </thead>\n",
       "  <tbody>\n",
       "    <tr>\n",
       "      <th>1717</th>\n",
       "      <td>227</td>\n",
       "      <td>5</td>\n",
       "      <td>702210056</td>\n",
       "      <td>[-0.00751968473553, -0.0782659828099, -0.01671...</td>\n",
       "      <td>[2965.93901, 2965.9713, 2966.0036, 2966.0359, ...</td>\n",
       "      <td>2.519428</td>\n",
       "      <td>1.275701</td>\n",
       "      <td>2.424546e-08</td>\n",
       "      <td>4.541737</td>\n",
       "      <td>[-0.342851690862, -0.34285169086, 0.1223877049...</td>\n",
       "      <td>[2965.93873, 2965.95543, 2965.97213, 2965.9888...</td>\n",
       "      <td>26.390383</td>\n",
       "    </tr>\n",
       "  </tbody>\n",
       "</table>\n",
       "</div>"
      ],
      "text/plain": [
       "      trial  cell  cell_specimen_id  \\\n",
       "1717    227     5         702210056   \n",
       "\n",
       "                                                  trace  \\\n",
       "1717  [-0.00751968473553, -0.0782659828099, -0.01671...   \n",
       "\n",
       "                                             timestamps  mean_response  \\\n",
       "1717  [2965.93901, 2965.9713, 2966.0036, 2966.0359, ...       2.519428   \n",
       "\n",
       "      baseline_response       p_value  sd_over_baseline  \\\n",
       "1717           1.275701  2.424546e-08          4.541737   \n",
       "\n",
       "                                    running_speed_trace  \\\n",
       "1717  [-0.342851690862, -0.34285169086, 0.1223877049...   \n",
       "\n",
       "                               running_speed_timestamps  mean_running_speed  \n",
       "1717  [2965.93873, 2965.95543, 2965.97213, 2965.9888...           26.390383  "
      ]
     },
     "execution_count": 33,
     "metadata": {},
     "output_type": "execute_result"
    }
   ],
   "source": [
    "largest_response = rdf[rdf.mean_response==rdf.mean_response.max()]\n",
    "largest_response"
   ]
  },
  {
   "cell_type": "code",
   "execution_count": 34,
   "metadata": {
    "collapsed": false
   },
   "outputs": [
    {
     "name": "stdout",
     "output_type": "stream",
     "text": [
      "cell with largest response: 5\n"
     ]
    }
   ],
   "source": [
    "cell = largest_response.cell.values[0]\n",
    "print 'cell with largest response:',cell"
   ]
  },
  {
   "cell_type": "code",
   "execution_count": 35,
   "metadata": {
    "collapsed": false
   },
   "outputs": [
    {
     "name": "stdout",
     "output_type": "stream",
     "text": [
      "trial that evoked largest response for this cell: 227\n"
     ]
    }
   ],
   "source": [
    "trial = largest_response.trial.values[0]\n",
    "print 'trial that evoked largest response for this cell:',trial"
   ]
  },
  {
   "cell_type": "code",
   "execution_count": 36,
   "metadata": {
    "collapsed": false
   },
   "outputs": [
    {
     "data": {
      "text/html": [
       "<div>\n",
       "<style scoped>\n",
       "    .dataframe tbody tr th:only-of-type {\n",
       "        vertical-align: middle;\n",
       "    }\n",
       "\n",
       "    .dataframe tbody tr th {\n",
       "        vertical-align: top;\n",
       "    }\n",
       "\n",
       "    .dataframe thead th {\n",
       "        text-align: right;\n",
       "    }\n",
       "</style>\n",
       "<table border=\"1\" class=\"dataframe\">\n",
       "  <thead>\n",
       "    <tr style=\"text-align: right;\">\n",
       "      <th></th>\n",
       "      <th>trial</th>\n",
       "      <th>original_trial_index</th>\n",
       "      <th>auto_rewarded</th>\n",
       "      <th>change_contrast</th>\n",
       "      <th>change_frame</th>\n",
       "      <th>change_image_category</th>\n",
       "      <th>change_image_name</th>\n",
       "      <th>change_ori</th>\n",
       "      <th>change_time</th>\n",
       "      <th>cumulative_reward_number</th>\n",
       "      <th>...</th>\n",
       "      <th>number_of_rewards</th>\n",
       "      <th>rig_id</th>\n",
       "      <th>trial_type</th>\n",
       "      <th>lick_frames</th>\n",
       "      <th>reward_licks</th>\n",
       "      <th>reward_lick_count</th>\n",
       "      <th>reward_lick_latency</th>\n",
       "      <th>reward_rate</th>\n",
       "      <th>response</th>\n",
       "      <th>color</th>\n",
       "    </tr>\n",
       "  </thead>\n",
       "  <tbody>\n",
       "    <tr>\n",
       "      <th>227</th>\n",
       "      <td>227</td>\n",
       "      <td>1003</td>\n",
       "      <td>None</td>\n",
       "      <td>1.0</td>\n",
       "      <td>174978.0</td>\n",
       "      <td>im031</td>\n",
       "      <td>im031</td>\n",
       "      <td>90.0</td>\n",
       "      <td>2969.94201</td>\n",
       "      <td>131</td>\n",
       "      <td>...</td>\n",
       "      <td>1</td>\n",
       "      <td>2P6</td>\n",
       "      <td>go</td>\n",
       "      <td>[175020, 175030, 175038, 175046, 175053, 17506...</td>\n",
       "      <td>[0.16678, 0.30025, 0.43376, 0.55044, 0.68388, ...</td>\n",
       "      <td>17</td>\n",
       "      <td>0.16678</td>\n",
       "      <td>2.437029</td>\n",
       "      <td>1.0</td>\n",
       "      <td>darkgreen</td>\n",
       "    </tr>\n",
       "  </tbody>\n",
       "</table>\n",
       "<p>1 rows × 65 columns</p>\n",
       "</div>"
      ],
      "text/plain": [
       "     trial  original_trial_index auto_rewarded  change_contrast  change_frame  \\\n",
       "227    227                  1003          None              1.0      174978.0   \n",
       "\n",
       "    change_image_category change_image_name  change_ori  change_time  \\\n",
       "227                 im031             im031        90.0   2969.94201   \n",
       "\n",
       "     cumulative_reward_number    ...      number_of_rewards  rig_id  \\\n",
       "227                       131    ...                      1     2P6   \n",
       "\n",
       "     trial_type                                        lick_frames  \\\n",
       "227          go  [175020, 175030, 175038, 175046, 175053, 17506...   \n",
       "\n",
       "                                          reward_licks reward_lick_count  \\\n",
       "227  [0.16678, 0.30025, 0.43376, 0.55044, 0.68388, ...                17   \n",
       "\n",
       "     reward_lick_latency reward_rate  response      color  \n",
       "227              0.16678    2.437029       1.0  darkgreen  \n",
       "\n",
       "[1 rows x 65 columns]"
      ]
     },
     "execution_count": 36,
     "metadata": {},
     "output_type": "execute_result"
    }
   ],
   "source": [
    "trial_data = dataset.trials[dataset.trials.trial==trial]\n",
    "trial_data"
   ]
  },
  {
   "cell_type": "code",
   "execution_count": 37,
   "metadata": {
    "collapsed": false
   },
   "outputs": [
    {
     "name": "stdout",
     "output_type": "stream",
     "text": [
      "image: im031\n",
      "trial_type: go\n"
     ]
    }
   ],
   "source": [
    "image = trial_data.change_image_name.values[0]\n",
    "print 'image:', image\n",
    "trial_type = trial_data.trial_type.values[0]\n",
    "print 'trial_type:',trial_type"
   ]
  },
  {
   "cell_type": "markdown",
   "metadata": {},
   "source": [
    "<div style=\"background: #DFF0D8; border-radius: 3px; padding: 10px;\">\n",
    "<p>**Exercise 4.4:** plot that image using stimulus template\n",
    "</div>"
   ]
  },
  {
   "cell_type": "code",
   "execution_count": 38,
   "metadata": {
    "collapsed": true
   },
   "outputs": [],
   "source": [
    "######################### add this #########################"
   ]
  },
  {
   "cell_type": "markdown",
   "metadata": {},
   "source": [
    "<div style=\"background: #DFF0D8; border-radius: 3px; padding: 10px;\">\n",
    "<p>**Exercise 4.4:** Get the dF/F response traces for all trials of that image for that cell and assign to a variable called traces\n",
    "\n",
    "<p>Hint: make sure to extract the an array of the values of response, not as a series\n",
    "</div>"
   ]
  },
  {
   "cell_type": "code",
   "execution_count": 39,
   "metadata": {
    "collapsed": true
   },
   "outputs": [],
   "source": [
    "image_trials = trials[trials.change_image_name==image].trial.values"
   ]
  },
  {
   "cell_type": "code",
   "execution_count": 40,
   "metadata": {
    "collapsed": false,
    "scrolled": false
   },
   "outputs": [
    {
     "data": {
      "text/plain": [
       "1490    [0.0267953045018, 0.022629588786, 0.0108146865...\n",
       "1497    [0.115638025758, 0.167535336392, 0.10692374323...\n",
       "1511    [0.0522631603892, 0.0658284993328, 0.031788970...\n",
       "1520    [0.292547320321, 0.36684084512, 0.371248005745...\n",
       "1539    [0.145579599934, 0.0419478661446, 0.0245537880...\n",
       "1547    [0.0531719580653, -0.0541743775039, 0.09123346...\n",
       "1549    [-0.00374163845529, 0.0195514080135, -0.003264...\n",
       "1557    [-0.0716006133092, 0.0209862954581, 0.01367773...\n",
       "1568    [0.029726983044, 0.0785641750057, 0.0091541462...\n",
       "1571    [0.305995437724, 0.391122262305, 0.48696897116...\n",
       "1577    [0.519342261386, 0.629263628783, 0.70912768177...\n",
       "1598    [1.51677676843, 1.4659088694, 1.27227576505, 1...\n",
       "1599    [0.0654784157475, 0.0864132290635, 0.114741660...\n",
       "1611    [0.00359306170458, -0.0209896244354, 0.0910736...\n",
       "1621    [0.0611368550142, -0.0761496917478, -0.0546044...\n",
       "1622    [0.0736642516545, 0.15130176978, 0.16796221513...\n",
       "1635    [-0.0817082514213, -0.0713869749113, -0.123367...\n",
       "1640    [-0.0299440698989, 0.0143069863616, -0.0616387...\n",
       "1642    [0.372157694392, 0.259891171954, 0.28427883184...\n",
       "1650    [0.114289672819, 0.0190447665904, 0.0004157255...\n",
       "1662    [0.0195170695071, 0.106405685744, 0.1151698573...\n",
       "1672    [0.192136781909, 0.399494802069, 0.33598241857...\n",
       "1693    [0.255435496778, 0.418811377242, 0.42121355601...\n",
       "1695    [0.205920848116, 0.216020137704, 0.16364522912...\n",
       "1698    [0.051954190865, 0.0292217494288, 0.0116740458...\n",
       "1699    [0.0640436040246, 0.160180729829, 0.0886393810...\n",
       "1710    [0.115348508976, 0.134281270642, 0.06024449698...\n",
       "1717    [-0.00751968473553, -0.0782659828099, -0.01671...\n",
       "1724    [0.114345752691, 0.106032288687, 0.21212012761...\n",
       "1727    [0.529176981873, 0.497852477328, 0.91173716668...\n",
       "1740    [0.296057103121, 0.242094878914, 0.39540685646...\n",
       "1741    [0.297213193642, 0.277357704831, 0.27163217905...\n",
       "1761    [-0.112284205631, -0.118409103163, -0.03630134...\n",
       "1766    [0.617055336129, 0.57773723139, 0.421881390783...\n",
       "1770    [0.607454693174, 0.489088543927, 0.38902594210...\n",
       "1781    [-0.0572775513237, -0.0362393072894, -0.120016...\n",
       "Name: trace, dtype: object"
      ]
     },
     "execution_count": 40,
     "metadata": {},
     "output_type": "execute_result"
    }
   ],
   "source": [
    "traces = rdf[(rdf.cell==cell)&(rdf.trial.isin(image_trials))].trace\n",
    "traces"
   ]
  },
  {
   "cell_type": "code",
   "execution_count": 41,
   "metadata": {
    "collapsed": true
   },
   "outputs": [],
   "source": [
    "traces = traces.values"
   ]
  },
  {
   "cell_type": "markdown",
   "metadata": {},
   "source": [
    "<div style=\"background: #DFF0D8; border-radius: 3px; padding: 10px;\">\n",
    "<p>**Exercise 4.5:** Plot the mean trace for all trials of a given image\n",
    "\n",
    "<p>Use the povided plotting function to plot the trial averaged response trace to the preferred image for your cell\n",
    "</div>"
   ]
  },
  {
   "cell_type": "code",
   "execution_count": 42,
   "metadata": {
    "collapsed": true
   },
   "outputs": [],
   "source": [
    "def plot_mean_trace(traces):\n",
    "    fig,ax = plt.subplots()\n",
    "    if len(traces) > 0:\n",
    "        trace = np.mean(traces,axis=0)\n",
    "        times = np.arange(0, len(trace), 1)\n",
    "        sem = (traces.std()) / np.sqrt(float(len(traces)))\n",
    "        ax.plot(trace,linewidth=3)\n",
    "        ax.fill_between(times, trace + sem, trace - sem, alpha=0.5)\n",
    "        ax.set_ylabel('dF/F')\n",
    "        ax.set_xlabel('ophys frames')\n",
    "    sns.despine(ax=ax)\n",
    "    return ax"
   ]
  },
  {
   "cell_type": "code",
   "execution_count": 43,
   "metadata": {
    "collapsed": false
   },
   "outputs": [
    {
     "data": {
      "text/plain": [
       "<matplotlib.axes._subplots.AxesSubplot at 0xe552358>"
      ]
     },
     "execution_count": 43,
     "metadata": {},
     "output_type": "execute_result"
    },
    {
     "data": {
      "image/png": "[encoded data removed]",
      "text/plain": [
       "<matplotlib.figure.Figure at 0xe48ecc0>"
      ]
     },
     "metadata": {},
     "output_type": "display_data"
    }
   ],
   "source": [
    "plot_mean_trace(traces)"
   ]
  },
  {
   "cell_type": "markdown",
   "metadata": {},
   "source": [
    "<div style=\"background: #DFF0D8; border-radius: 3px; padding: 10px;\">\n",
    "<p>**Exercise 4.6:** Plot a tuning curve \n",
    "\n",
    "<p> Plot the trial averaged mean_response for each image for your cell\n",
    "</div>"
   ]
  },
  {
   "cell_type": "code",
   "execution_count": 44,
   "metadata": {
    "collapsed": false
   },
   "outputs": [
    {
     "data": {
      "image/png": "[encoded data removed]",
      "text/plain": [
       "<matplotlib.figure.Figure at 0xe4b45c0>"
      ]
     },
     "metadata": {},
     "output_type": "display_data"
    }
   ],
   "source": [
    "for i,image in enumerate(images): \n",
    "    image_trials = trials[trials.change_image_name==image].trial.values\n",
    "    responses = rdf[(rdf.cell==cell)&(rdf.trial.isin(image_trials))].mean_response\n",
    "    mean_response = responses.mean()\n",
    "    plt.plot(i,mean_response,'o',color='k')\n",
    "    plt.ylabel('mean dF/F')\n",
    "    plt.xlabel('image')\n",
    "    plt.xticks(np.arange(0,len(images),1),images,rotation=90)\n",
    "    plt.ylim(0,1)"
   ]
  },
  {
   "cell_type": "markdown",
   "metadata": {},
   "source": [
    "<div style=\"border-left: 3px solid #000; padding: 1px; padding-left: 10px; background: #F0FAFF; \">\n",
    "<h2>Decoding image identity from neural activity </h2>\n",
    "<p>Some scikit-learn stuff...\n",
    "</div>"
   ]
  },
  {
   "cell_type": "code",
   "execution_count": null,
   "metadata": {
    "collapsed": true
   },
   "outputs": [],
   "source": []
  }
 ],
 "metadata": {
  "anaconda-cloud": {},
  "kernelspec": {
   "display_name": "Python 2",
   "language": "python",
   "name": "python2"
  },
  "language_info": {
   "codemirror_mode": {
    "name": "ipython",
    "version": 2
   },
   "file_extension": ".py",
   "mimetype": "text/x-python",
   "name": "python",
   "nbconvert_exporter": "python",
   "pygments_lexer": "ipython2",
   "version": "2.7.13"
  }
 },
 "nbformat": 4,
 "nbformat_minor": 0
}
