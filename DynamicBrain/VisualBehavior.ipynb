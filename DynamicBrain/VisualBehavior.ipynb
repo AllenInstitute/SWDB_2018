{
 "cells": [
  {
   "cell_type": "markdown",
   "metadata": {},
   "source": [
    "<img src=\"../resources/cropped-SummerWorkshop_Header.png\">  \n",
    "\n",
    "<h1 align=\"center\">Dataset 2: Change Detection Behavior + Optical Physiology </h1> \n",
    "<h2 align=\"center\">Summer Workshop on the Dynamic Brain </h2> \n",
    "<h3 align=\"center\">Tuesday, August 21, 2018</h3> \n",
    "\n",
    "<img src=\"../resources/change_detection_schematic.png\" height=\"400\" width=\"400\">  \n"
   ]
  },
  {
   "cell_type": "markdown",
   "metadata": {},
   "source": [
    "This notebook will introduce you to the Visual Behavior pilot dataset. This pre-release dataset uses 2-photon calcium imaging to measure neural activity in mice performing an image change detection task, and was collected during piloting for the new Visual Behavior Brain Observatory. Production data collection for the Observatory will begin September 2018 and data will be publicly released in 2019. The insights obtained here at SWDB may help shape the collection of the production dataset. \n",
    "\n",
    "In this notebook, we will describe the dimensions of the dataset, the core components of each experimental session, and the tools for accessing and analyzing the data. \n",
    "\n",
    "By the end of the notebook, you will compute stimulus selectivity across a population of neurons from a mouse performing the change detection task, and compare the mean selectivity value with other experiments in the dataset coming from different cell populations."
   ]
  },
  {
   "cell_type": "markdown",
   "metadata": {},
   "source": [
    "** Outline:**\n",
    "1. Explore the dimensions of the dataset using the manifest file \n",
    "2. Explore the contents of a single experiment session using the VisualBehaviorOphysDataset class\n",
    "3. Use the ResponseAnalysis class to explore neural activity for specific stimulus or behavioral conditions \n",
    "4. Identify all the cells in your experiment with a significant visual response\n",
    "5. Compute a metric called lifetime sparseness for the visually responsive neurons in your experiment \n",
    "6. Compare your metric value with other experiments in the dataset from cell populations\n",
    "7. Additional exercises & project ideas "
   ]
  },
  {
   "cell_type": "markdown",
   "metadata": {},
   "source": [
    "<div style=\"background: #DFF0D8; border-radius: 3px; padding: 10px;\">\n",
    "\n",
    "<p>Let's get started\n",
    "\n",
    "</div>"
   ]
  },
  {
   "cell_type": "code",
   "execution_count": 167,
   "metadata": {
    "collapsed": false
   },
   "outputs": [],
   "source": [
    "# you will need these libraries for computation & data manipulation\n",
    "import os\n",
    "import numpy as np\n",
    "import pandas as pd\n",
    "\n",
    "# matplotlib is a standard python visualization package\n",
    "import matplotlib.pyplot as plt\n",
    "%matplotlib inline\n",
    "\n",
    "# seaborn is another library for statistical data visualization\n",
    "# seaborn style & context settings make plots pretty & legible\n",
    "import seaborn as sns\n",
    "sns.set_style('whitegrid')\n",
    "sns.set_context('talk')\n",
    "sns.set_palette('deep');"
   ]
  },
  {
   "cell_type": "markdown",
   "metadata": {},
   "source": [
    "<div style=\"border-left: 3px solid #000; padding: 1px; padding-left: 10px; background: #F0FAFF; \">\n",
    "<p>The dimensions of the dataset are described in the manifest file. You can inspect the manifest to identify experiments of interest and their metadata. \n",
    "\n",
    "<p>The manifest file is located in the cache directory, along with the data itself. \n",
    "\n",
    "<p>Make sure your 'cache_dir' is set properly, and complete the following task to load and inspect the 'manifest_file'. </div>\n",
    "\n"
   ]
  },
  {
   "cell_type": "code",
   "execution_count": 131,
   "metadata": {
    "collapsed": true
   },
   "outputs": [],
   "source": [
    "# macOS/OS X\n",
    "# cache_dir = r'/Volumes/Brain2018/data/dynamic-brain-workshop/brain_observatory_cache/'\n",
    "\n",
    "# Windows \n",
    "cache_dir = r'\\\\allen\\aibs\\informatics\\swdb2018\\visual_behavior'\n",
    "\n",
    "# Linux \n",
    "# cache_dir = r'/media/Brain2017/data/dynamic-brain-workshop/brain_observatory_cache'\n",
    "\n",
    "# AWS\n",
    "# cache_dir = '/data/dynamic-brain-workshop/brain_observatory_cache/'"
   ]
  },
  {
   "cell_type": "markdown",
   "metadata": {},
   "source": [
    "<div style=\"background: #DFF0D8; border-radius: 3px; padding: 10px;\">\n",
    "<p>**Task 1.1:**  Get information about what's in the dataset \n",
    "\n",
    "<p>Read in visual_behavior_data_manifest.csv using pandas and explore the columns to see the available visual areas, cre lines, and session types. \n",
    "\n",
    "</div>"
   ]
  },
  {
   "cell_type": "code",
   "execution_count": 132,
   "metadata": {
    "collapsed": true
   },
   "outputs": [],
   "source": [
    "manifest_file = 'visual_behavior_data_manifest.csv'"
   ]
  },
  {
   "cell_type": "code",
   "execution_count": 133,
   "metadata": {
    "collapsed": false
   },
   "outputs": [],
   "source": [
    "manifest = pd.read_csv(os.path.join(cache_dir,manifest_file))"
   ]
  },
  {
   "cell_type": "code",
   "execution_count": 134,
   "metadata": {
    "collapsed": false
   },
   "outputs": [
    {
     "data": {
      "text/html": [
       "<div>\n",
       "<style scoped>\n",
       "    .dataframe tbody tr th:only-of-type {\n",
       "        vertical-align: middle;\n",
       "    }\n",
       "\n",
       "    .dataframe tbody tr th {\n",
       "        vertical-align: top;\n",
       "    }\n",
       "\n",
       "    .dataframe thead th {\n",
       "        text-align: right;\n",
       "    }\n",
       "</style>\n",
       "<table border=\"1\" class=\"dataframe\">\n",
       "  <thead>\n",
       "    <tr style=\"text-align: right;\">\n",
       "      <th></th>\n",
       "      <th>experiment_id</th>\n",
       "      <th>experiment_container_id</th>\n",
       "      <th>targeted_structure</th>\n",
       "      <th>imaging_depth</th>\n",
       "      <th>cre_line</th>\n",
       "      <th>reporter_line</th>\n",
       "      <th>full_genotype</th>\n",
       "      <th>session_type</th>\n",
       "      <th>donor_id</th>\n",
       "      <th>specimen_id</th>\n",
       "      <th>acquisition_date</th>\n",
       "      <th>experiment_name</th>\n",
       "    </tr>\n",
       "  </thead>\n",
       "  <tbody>\n",
       "    <tr>\n",
       "      <th>0</th>\n",
       "      <td>644942849</td>\n",
       "      <td>644919226</td>\n",
       "      <td>VISp</td>\n",
       "      <td>175</td>\n",
       "      <td>Vip-IRES-Cre</td>\n",
       "      <td>Ai148</td>\n",
       "      <td>Vip-IRES-Cre;Ai148</td>\n",
       "      <td>behavior_session_A</td>\n",
       "      <td>329071</td>\n",
       "      <td>596175193</td>\n",
       "      <td>10/24/2017 10:32</td>\n",
       "      <td>20171024_329071_sessionA</td>\n",
       "    </tr>\n",
       "    <tr>\n",
       "      <th>1</th>\n",
       "      <td>645035903</td>\n",
       "      <td>644919226</td>\n",
       "      <td>VISp</td>\n",
       "      <td>175</td>\n",
       "      <td>Vip-IRES-Cre</td>\n",
       "      <td>Ai148</td>\n",
       "      <td>Vip-IRES-Cre;Ai148</td>\n",
       "      <td>behavior_session_B</td>\n",
       "      <td>329071</td>\n",
       "      <td>596175193</td>\n",
       "      <td>10/25/2017 10:34</td>\n",
       "      <td>20171025_329071_sessionB</td>\n",
       "    </tr>\n",
       "    <tr>\n",
       "      <th>2</th>\n",
       "      <td>645086795</td>\n",
       "      <td>644919226</td>\n",
       "      <td>VISp</td>\n",
       "      <td>175</td>\n",
       "      <td>Vip-IRES-Cre</td>\n",
       "      <td>Ai148</td>\n",
       "      <td>Vip-IRES-Cre;Ai148</td>\n",
       "      <td>behavior_session_C</td>\n",
       "      <td>329071</td>\n",
       "      <td>596175193</td>\n",
       "      <td>10/26/2017 10:27</td>\n",
       "      <td>20171026_329071_sessionC</td>\n",
       "    </tr>\n",
       "    <tr>\n",
       "      <th>3</th>\n",
       "      <td>645362806</td>\n",
       "      <td>644919226</td>\n",
       "      <td>VISp</td>\n",
       "      <td>175</td>\n",
       "      <td>Vip-IRES-Cre</td>\n",
       "      <td>Ai148</td>\n",
       "      <td>Vip-IRES-Cre;Ai148</td>\n",
       "      <td>behavior_session_D</td>\n",
       "      <td>329071</td>\n",
       "      <td>596175193</td>\n",
       "      <td>10/30/2017 11:41</td>\n",
       "      <td>20171030_329071_sessionD</td>\n",
       "    </tr>\n",
       "    <tr>\n",
       "      <th>4</th>\n",
       "      <td>646922970</td>\n",
       "      <td>646555436</td>\n",
       "      <td>VISp</td>\n",
       "      <td>175</td>\n",
       "      <td>Vip-IRES-Cre</td>\n",
       "      <td>Ai148</td>\n",
       "      <td>Vip-IRES-Cre;Ai148</td>\n",
       "      <td>behavior_session_A</td>\n",
       "      <td>330982</td>\n",
       "      <td>596393048</td>\n",
       "      <td>11/7/2017 14:19</td>\n",
       "      <td>20171107_330982_sessionA</td>\n",
       "    </tr>\n",
       "  </tbody>\n",
       "</table>\n",
       "</div>"
      ],
      "text/plain": [
       "   experiment_id  experiment_container_id targeted_structure  imaging_depth  \\\n",
       "0      644942849                644919226               VISp            175   \n",
       "1      645035903                644919226               VISp            175   \n",
       "2      645086795                644919226               VISp            175   \n",
       "3      645362806                644919226               VISp            175   \n",
       "4      646922970                646555436               VISp            175   \n",
       "\n",
       "       cre_line reporter_line       full_genotype        session_type  \\\n",
       "0  Vip-IRES-Cre         Ai148  Vip-IRES-Cre;Ai148  behavior_session_A   \n",
       "1  Vip-IRES-Cre         Ai148  Vip-IRES-Cre;Ai148  behavior_session_B   \n",
       "2  Vip-IRES-Cre         Ai148  Vip-IRES-Cre;Ai148  behavior_session_C   \n",
       "3  Vip-IRES-Cre         Ai148  Vip-IRES-Cre;Ai148  behavior_session_D   \n",
       "4  Vip-IRES-Cre         Ai148  Vip-IRES-Cre;Ai148  behavior_session_A   \n",
       "\n",
       "   donor_id  specimen_id  acquisition_date           experiment_name  \n",
       "0    329071    596175193  10/24/2017 10:32  20171024_329071_sessionA  \n",
       "1    329071    596175193  10/25/2017 10:34  20171025_329071_sessionB  \n",
       "2    329071    596175193  10/26/2017 10:27  20171026_329071_sessionC  \n",
       "3    329071    596175193  10/30/2017 11:41  20171030_329071_sessionD  \n",
       "4    330982    596393048   11/7/2017 14:19  20171107_330982_sessionA  "
      ]
     },
     "execution_count": 134,
     "metadata": {},
     "output_type": "execute_result"
    }
   ],
   "source": [
    "manifest.head()"
   ]
  },
  {
   "cell_type": "code",
   "execution_count": 135,
   "metadata": {
    "collapsed": false
   },
   "outputs": [
    {
     "name": "stdout",
     "output_type": "stream",
     "text": [
      "targeted structures: ['VISp' 'VISal']\n",
      "cre_lines: ['Vip-IRES-Cre' 'Slc17a7-IRES2-Cre']\n",
      "stimulus_types: ['behavior_session_A' 'behavior_session_B' 'behavior_session_C'\n",
      " 'behavior_session_D']\n"
     ]
    }
   ],
   "source": [
    "print 'targeted structures:', manifest.targeted_structure.unique()\n",
    "print 'cre_lines:', manifest.cre_line.unique()\n",
    "print 'stimulus_types:', manifest.session_type.unique()"
   ]
  },
  {
   "cell_type": "markdown",
   "metadata": {},
   "source": [
    "<div style=\"background: #DFF0D8; border-radius: 3px; padding: 10px;\">\n",
    "<p>**Task 1.2:**  Everyone gets an experiment! \n",
    "\n",
    "<p>Get your experiment ID and assign it to a variable called experiment_id\n",
    "\n",
    "<p>What is the targeted_structure, cre_line and session_type for your experiment_id? \n",
    "\n",
    "</div>"
   ]
  },
  {
   "cell_type": "code",
   "execution_count": 136,
   "metadata": {
    "collapsed": true
   },
   "outputs": [],
   "source": [
    "experiment_id = 692841424"
   ]
  },
  {
   "cell_type": "code",
   "execution_count": 137,
   "metadata": {
    "collapsed": false
   },
   "outputs": [
    {
     "data": {
      "text/html": [
       "<div>\n",
       "<style scoped>\n",
       "    .dataframe tbody tr th:only-of-type {\n",
       "        vertical-align: middle;\n",
       "    }\n",
       "\n",
       "    .dataframe tbody tr th {\n",
       "        vertical-align: top;\n",
       "    }\n",
       "\n",
       "    .dataframe thead th {\n",
       "        text-align: right;\n",
       "    }\n",
       "</style>\n",
       "<table border=\"1\" class=\"dataframe\">\n",
       "  <thead>\n",
       "    <tr style=\"text-align: right;\">\n",
       "      <th></th>\n",
       "      <th>experiment_id</th>\n",
       "      <th>experiment_container_id</th>\n",
       "      <th>targeted_structure</th>\n",
       "      <th>imaging_depth</th>\n",
       "      <th>cre_line</th>\n",
       "      <th>reporter_line</th>\n",
       "      <th>full_genotype</th>\n",
       "      <th>session_type</th>\n",
       "      <th>donor_id</th>\n",
       "      <th>specimen_id</th>\n",
       "      <th>acquisition_date</th>\n",
       "      <th>experiment_name</th>\n",
       "    </tr>\n",
       "  </thead>\n",
       "  <tbody>\n",
       "    <tr>\n",
       "      <th>37</th>\n",
       "      <td>692841424</td>\n",
       "      <td>692315205</td>\n",
       "      <td>VISal</td>\n",
       "      <td>175</td>\n",
       "      <td>Slc17a7-IRES2-Cre</td>\n",
       "      <td>Camk2a-tTA;Ai93</td>\n",
       "      <td>Slc17a7-IRES2-Cre;Camk2a-tTA;Ai93</td>\n",
       "      <td>behavior_session_B</td>\n",
       "      <td>369320</td>\n",
       "      <td>656813113</td>\n",
       "      <td>5/1/2018 15:46</td>\n",
       "      <td>20180501_369320_sessionB</td>\n",
       "    </tr>\n",
       "  </tbody>\n",
       "</table>\n",
       "</div>"
      ],
      "text/plain": [
       "    experiment_id  experiment_container_id targeted_structure  imaging_depth  \\\n",
       "37      692841424                692315205              VISal            175   \n",
       "\n",
       "             cre_line    reporter_line                      full_genotype  \\\n",
       "37  Slc17a7-IRES2-Cre  Camk2a-tTA;Ai93  Slc17a7-IRES2-Cre;Camk2a-tTA;Ai93   \n",
       "\n",
       "          session_type  donor_id  specimen_id acquisition_date  \\\n",
       "37  behavior_session_B    369320    656813113   5/1/2018 15:46   \n",
       "\n",
       "             experiment_name  \n",
       "37  20180501_369320_sessionB  "
      ]
     },
     "execution_count": 137,
     "metadata": {},
     "output_type": "execute_result"
    }
   ],
   "source": [
    "manifest[manifest.experiment_id==experiment_id]"
   ]
  },
  {
   "cell_type": "markdown",
   "metadata": {},
   "source": [
    "<div style=\"background: #DFF0D8; border-radius: 3px; padding: 10px;\">\n",
    "<p>**Task 1.3:**  What is in an experiment container? \n",
    "\n",
    "<p>The experiment container describes a set of experiment sessions performed at the same location (targeted area and imaging depth) in the same mouse that targets the same set of cells. All the sessions in an experiment container have a common experiment_container_id\n",
    "\n",
    "<p>Get a the experiment_container_id for your experiment_id and find out what other sessions were recorded at that same location\n",
    "\n",
    "<p>Do all experiment containers have the same number of sessions associated with them? \n",
    "\n",
    "</div>"
   ]
  },
  {
   "cell_type": "code",
   "execution_count": 138,
   "metadata": {
    "collapsed": false
   },
   "outputs": [
    {
     "name": "stdout",
     "output_type": "stream",
     "text": [
      "692315205\n"
     ]
    }
   ],
   "source": [
    "experiment_container_id = manifest[manifest.experiment_id==experiment_id].experiment_container_id.values[0]\n",
    "print experiment_container_id"
   ]
  },
  {
   "cell_type": "code",
   "execution_count": 139,
   "metadata": {
    "collapsed": false
   },
   "outputs": [
    {
     "data": {
      "text/html": [
       "<div>\n",
       "<style scoped>\n",
       "    .dataframe tbody tr th:only-of-type {\n",
       "        vertical-align: middle;\n",
       "    }\n",
       "\n",
       "    .dataframe tbody tr th {\n",
       "        vertical-align: top;\n",
       "    }\n",
       "\n",
       "    .dataframe thead th {\n",
       "        text-align: right;\n",
       "    }\n",
       "</style>\n",
       "<table border=\"1\" class=\"dataframe\">\n",
       "  <thead>\n",
       "    <tr style=\"text-align: right;\">\n",
       "      <th></th>\n",
       "      <th>experiment_id</th>\n",
       "      <th>experiment_container_id</th>\n",
       "      <th>targeted_structure</th>\n",
       "      <th>imaging_depth</th>\n",
       "      <th>cre_line</th>\n",
       "      <th>reporter_line</th>\n",
       "      <th>full_genotype</th>\n",
       "      <th>session_type</th>\n",
       "      <th>donor_id</th>\n",
       "      <th>specimen_id</th>\n",
       "      <th>acquisition_date</th>\n",
       "      <th>experiment_name</th>\n",
       "    </tr>\n",
       "  </thead>\n",
       "  <tbody>\n",
       "    <tr>\n",
       "      <th>36</th>\n",
       "      <td>692342909</td>\n",
       "      <td>692315205</td>\n",
       "      <td>VISal</td>\n",
       "      <td>175</td>\n",
       "      <td>Slc17a7-IRES2-Cre</td>\n",
       "      <td>Camk2a-tTA;Ai93</td>\n",
       "      <td>Slc17a7-IRES2-Cre;Camk2a-tTA;Ai93</td>\n",
       "      <td>behavior_session_A</td>\n",
       "      <td>369320</td>\n",
       "      <td>656813113</td>\n",
       "      <td>4/30/2018 16:09</td>\n",
       "      <td>20180430_369320_sessionA</td>\n",
       "    </tr>\n",
       "    <tr>\n",
       "      <th>37</th>\n",
       "      <td>692841424</td>\n",
       "      <td>692315205</td>\n",
       "      <td>VISal</td>\n",
       "      <td>175</td>\n",
       "      <td>Slc17a7-IRES2-Cre</td>\n",
       "      <td>Camk2a-tTA;Ai93</td>\n",
       "      <td>Slc17a7-IRES2-Cre;Camk2a-tTA;Ai93</td>\n",
       "      <td>behavior_session_B</td>\n",
       "      <td>369320</td>\n",
       "      <td>656813113</td>\n",
       "      <td>5/1/2018 15:46</td>\n",
       "      <td>20180501_369320_sessionB</td>\n",
       "    </tr>\n",
       "    <tr>\n",
       "      <th>38</th>\n",
       "      <td>693272975</td>\n",
       "      <td>692315205</td>\n",
       "      <td>VISal</td>\n",
       "      <td>175</td>\n",
       "      <td>Slc17a7-IRES2-Cre</td>\n",
       "      <td>Camk2a-tTA;Ai93</td>\n",
       "      <td>Slc17a7-IRES2-Cre;Camk2a-tTA;Ai93</td>\n",
       "      <td>behavior_session_C</td>\n",
       "      <td>369320</td>\n",
       "      <td>656813113</td>\n",
       "      <td>5/2/2018 15:23</td>\n",
       "      <td>20180502_369320_sessionC</td>\n",
       "    </tr>\n",
       "    <tr>\n",
       "      <th>39</th>\n",
       "      <td>693862238</td>\n",
       "      <td>692315205</td>\n",
       "      <td>VISal</td>\n",
       "      <td>175</td>\n",
       "      <td>Slc17a7-IRES2-Cre</td>\n",
       "      <td>Camk2a-tTA;Ai93</td>\n",
       "      <td>Slc17a7-IRES2-Cre;Camk2a-tTA;Ai93</td>\n",
       "      <td>behavior_session_D</td>\n",
       "      <td>369320</td>\n",
       "      <td>656813113</td>\n",
       "      <td>5/3/2018 14:50</td>\n",
       "      <td>20180503_369320_sessionD</td>\n",
       "    </tr>\n",
       "  </tbody>\n",
       "</table>\n",
       "</div>"
      ],
      "text/plain": [
       "    experiment_id  experiment_container_id targeted_structure  imaging_depth  \\\n",
       "36      692342909                692315205              VISal            175   \n",
       "37      692841424                692315205              VISal            175   \n",
       "38      693272975                692315205              VISal            175   \n",
       "39      693862238                692315205              VISal            175   \n",
       "\n",
       "             cre_line    reporter_line                      full_genotype  \\\n",
       "36  Slc17a7-IRES2-Cre  Camk2a-tTA;Ai93  Slc17a7-IRES2-Cre;Camk2a-tTA;Ai93   \n",
       "37  Slc17a7-IRES2-Cre  Camk2a-tTA;Ai93  Slc17a7-IRES2-Cre;Camk2a-tTA;Ai93   \n",
       "38  Slc17a7-IRES2-Cre  Camk2a-tTA;Ai93  Slc17a7-IRES2-Cre;Camk2a-tTA;Ai93   \n",
       "39  Slc17a7-IRES2-Cre  Camk2a-tTA;Ai93  Slc17a7-IRES2-Cre;Camk2a-tTA;Ai93   \n",
       "\n",
       "          session_type  donor_id  specimen_id acquisition_date  \\\n",
       "36  behavior_session_A    369320    656813113  4/30/2018 16:09   \n",
       "37  behavior_session_B    369320    656813113   5/1/2018 15:46   \n",
       "38  behavior_session_C    369320    656813113   5/2/2018 15:23   \n",
       "39  behavior_session_D    369320    656813113   5/3/2018 14:50   \n",
       "\n",
       "             experiment_name  \n",
       "36  20180430_369320_sessionA  \n",
       "37  20180501_369320_sessionB  \n",
       "38  20180502_369320_sessionC  \n",
       "39  20180503_369320_sessionD  "
      ]
     },
     "execution_count": 139,
     "metadata": {},
     "output_type": "execute_result"
    }
   ],
   "source": [
    "manifest[manifest.experiment_container_id==experiment_container_id]"
   ]
  },
  {
   "cell_type": "code",
   "execution_count": 140,
   "metadata": {
    "collapsed": false
   },
   "outputs": [
    {
     "name": "stdout",
     "output_type": "stream",
     "text": [
      "number of sessions associated with experiment_container_id 644919226  =  4\n",
      "number of sessions associated with experiment_container_id 646555436  =  4\n",
      "number of sessions associated with experiment_container_id 648562391  =  3\n",
      "number of sessions associated with experiment_container_id 652784528  =  3\n",
      "number of sessions associated with experiment_container_id 639001089  =  4\n",
      "number of sessions associated with experiment_container_id 661409179  =  4\n",
      "number of sessions associated with experiment_container_id 670266085  =  4\n",
      "number of sessions associated with experiment_container_id 682951696  =  2\n",
      "number of sessions associated with experiment_container_id 695444116  =  4\n",
      "number of sessions associated with experiment_container_id 700821114  =  4\n",
      "number of sessions associated with experiment_container_id 692315205  =  4\n",
      "number of sessions associated with experiment_container_id 712038821  =  4\n",
      "number of sessions associated with experiment_container_id 715027436  =  4\n",
      "number of sessions associated with experiment_container_id 715094648  =  4\n",
      "number of sessions associated with experiment_container_id 719860866  =  4\n",
      "number of sessions associated with experiment_container_id 719538773  =  4\n"
     ]
    }
   ],
   "source": [
    "for experiment_container_id in manifest.experiment_container_id.unique(): \n",
    "    container = manifest[manifest.experiment_container_id==experiment_container_id]\n",
    "    print 'number of sessions associated with experiment_container_id',str(experiment_container_id),' = ',str(len(container))"
   ]
  },
  {
   "cell_type": "markdown",
   "metadata": {},
   "source": [
    "<div style=\"border-left: 3px solid #000; padding: 1px; padding-left: 10px; background: #F0FAFF; \">\n",
    "<h2>The VisualBehaviorOphysDataset object</h2>\n",
    "<p>The dataset object contains all the data and metadata for a single experiment session, including dF/F traces, behavior data, and timing information. \n",
    "\n",
    "<p>Provide your experiment_id and your cache directory to load the data for an experiment. \n",
    "\n",
    "<p>Use help to see what functions are contained in the VisualBehaviorOphysDataset class. \n",
    "\n",
    "</div>"
   ]
  },
  {
   "cell_type": "code",
   "execution_count": 141,
   "metadata": {
    "collapsed": false
   },
   "outputs": [],
   "source": [
    "# import visual behavior dataset class from the visual_behavior package\n",
    "from visual_behavior.ophys.dataset.visual_behavior_ophys_dataset import VisualBehaviorOphysDataset"
   ]
  },
  {
   "cell_type": "code",
   "execution_count": 142,
   "metadata": {
    "collapsed": false,
    "scrolled": true
   },
   "outputs": [],
   "source": [
    "dataset= VisualBehaviorOphysDataset(experiment_id, cache_dir=cache_dir)"
   ]
  },
  {
   "cell_type": "code",
   "execution_count": 143,
   "metadata": {
    "collapsed": false
   },
   "outputs": [
    {
     "name": "stdout",
     "output_type": "stream",
     "text": [
      "Help on class VisualBehaviorOphysDataset in module visual_behavior.ophys.dataset.visual_behavior_ophys_dataset:\n",
      "\n",
      "class VisualBehaviorOphysDataset(__builtin__.object)\n",
      " |  Methods defined here:\n",
      " |  \n",
      " |  __init__(self, experiment_id, cache_dir=None)\n",
      " |      Initialize visual behavior ophys experiment dataset.\n",
      " |          Loads experiment data from cache_dir, including dF/F traces, roi masks, stimulus metadata, running speed, licks, rewards, and metadata.\n",
      " |      \n",
      " |      Parameters\n",
      " |      ----------\n",
      " |      experiment_id : ophys experiment ID\n",
      " |      cache_dir : directory to save or load analysis files to/from\n",
      " |  \n",
      " |  get_analysis_dir(self)\n",
      " |  \n",
      " |  get_cache_dir(self)\n",
      " |  \n",
      " |  get_cell_index_for_cell_specimen_id(self, cell_specimen_id)\n",
      " |  \n",
      " |  get_cell_indices(self)\n",
      " |  \n",
      " |  get_cell_specimen_id_for_cell_index(self, cell_index)\n",
      " |  \n",
      " |  get_cell_specimen_ids(self)\n",
      " |  \n",
      " |  get_dff_traces(self)\n",
      " |  \n",
      " |  get_licks(self)\n",
      " |  \n",
      " |  get_max_projection(self)\n",
      " |  \n",
      " |  get_metadata(self)\n",
      " |  \n",
      " |  get_motion_correction(self)\n",
      " |  \n",
      " |  get_rewards(self)\n",
      " |  \n",
      " |  get_roi_masks(self)\n",
      " |  \n",
      " |  get_roi_metrics(self)\n",
      " |  \n",
      " |  get_running_speed(self)\n",
      " |  \n",
      " |  get_stimulus_table(self)\n",
      " |  \n",
      " |  get_stimulus_template(self)\n",
      " |  \n",
      " |  get_task_parameters(self)\n",
      " |  \n",
      " |  get_timestamps(self)\n",
      " |  \n",
      " |  get_timestamps_ophys(self)\n",
      " |  \n",
      " |  get_timestamps_stimulus(self)\n",
      " |  \n",
      " |  get_trials(self)\n",
      " |  \n",
      " |  get_visual_stimuli(self)\n",
      " |  \n",
      " |  ----------------------------------------------------------------------\n",
      " |  Data descriptors defined here:\n",
      " |  \n",
      " |  __dict__\n",
      " |      dictionary for instance variables (if defined)\n",
      " |  \n",
      " |  __weakref__\n",
      " |      list of weak references to the object (if defined)\n",
      "\n"
     ]
    }
   ],
   "source": [
    "help(VisualBehaviorOphysDataset)"
   ]
  },
  {
   "cell_type": "markdown",
   "metadata": {},
   "source": [
    "<div style=\"background: #DFF0D8; border-radius: 3px; padding: 10px;\">\n",
    "<p>**Task 2.1:**  What is an experiment dataset? \n",
    "\n",
    "<p>Use tab completion to see what is in the dataset object for an experiment session\n",
    "\n",
    "<p>Whats in the metadata? Make sure it matches what you found in the manifest for this experiment_id.\n",
    "\n",
    "</div>\n"
   ]
  },
  {
   "cell_type": "code",
   "execution_count": 146,
   "metadata": {
    "collapsed": false
   },
   "outputs": [
    {
     "data": {
      "text/html": [
       "<div>\n",
       "<style scoped>\n",
       "    .dataframe tbody tr th:only-of-type {\n",
       "        vertical-align: middle;\n",
       "    }\n",
       "\n",
       "    .dataframe tbody tr th {\n",
       "        vertical-align: top;\n",
       "    }\n",
       "\n",
       "    .dataframe thead th {\n",
       "        text-align: right;\n",
       "    }\n",
       "</style>\n",
       "<table border=\"1\" class=\"dataframe\">\n",
       "  <thead>\n",
       "    <tr style=\"text-align: right;\">\n",
       "      <th></th>\n",
       "      <th>ophys_experiment_id</th>\n",
       "      <th>experiment_container_id</th>\n",
       "      <th>targeted_structure</th>\n",
       "      <th>imaging_depth</th>\n",
       "      <th>cre_line</th>\n",
       "      <th>reporter_line</th>\n",
       "      <th>session_type</th>\n",
       "      <th>donor_id</th>\n",
       "      <th>experiment_date</th>\n",
       "      <th>specimen_id</th>\n",
       "      <th>ophys_frame_rate</th>\n",
       "      <th>stimulus_frame_rate</th>\n",
       "    </tr>\n",
       "  </thead>\n",
       "  <tbody>\n",
       "    <tr>\n",
       "      <th>692841424</th>\n",
       "      <td>692841424</td>\n",
       "      <td>692315205</td>\n",
       "      <td>VISal</td>\n",
       "      <td>175</td>\n",
       "      <td>Slc17a7-IRES2-Cre;Camk2a-tTA</td>\n",
       "      <td>Ai93(TITL-GCaMP6f)</td>\n",
       "      <td>B</td>\n",
       "      <td>369320</td>\n",
       "      <td>2018-05-01</td>\n",
       "      <td>656813113</td>\n",
       "      <td>31.0</td>\n",
       "      <td>60.0</td>\n",
       "    </tr>\n",
       "  </tbody>\n",
       "</table>\n",
       "</div>"
      ],
      "text/plain": [
       "           ophys_experiment_id  experiment_container_id targeted_structure  \\\n",
       "692841424            692841424                692315205              VISal   \n",
       "\n",
       "           imaging_depth                      cre_line       reporter_line  \\\n",
       "692841424            175  Slc17a7-IRES2-Cre;Camk2a-tTA  Ai93(TITL-GCaMP6f)   \n",
       "\n",
       "          session_type  donor_id experiment_date  specimen_id  \\\n",
       "692841424            B    369320      2018-05-01    656813113   \n",
       "\n",
       "           ophys_frame_rate  stimulus_frame_rate  \n",
       "692841424              31.0                 60.0  "
      ]
     },
     "execution_count": 146,
     "metadata": {},
     "output_type": "execute_result"
    }
   ],
   "source": [
    "dataset.metadata"
   ]
  },
  {
   "cell_type": "code",
   "execution_count": 145,
   "metadata": {
    "collapsed": false
   },
   "outputs": [
    {
     "name": "stdout",
     "output_type": "stream",
     "text": [
      "targeted_structure: VISal\n",
      "cre line: Slc17a7-IRES2-Cre;Camk2a-tTA\n",
      "imaging_depth: 175\n"
     ]
    }
   ],
   "source": [
    "# make sure this is the experiment you selected\n",
    "print 'targeted_structure:', dataset.metadata.targeted_structure.values[0]\n",
    "print 'cre line:', dataset.metadata.cre_line.values[0]\n",
    "print 'imaging_depth:', dataset.metadata.imaging_depth.values[0]"
   ]
  },
  {
   "cell_type": "markdown",
   "metadata": {},
   "source": [
    "<div style=\"background: #DFF0D8; border-radius: 3px; padding: 10px;\">\n",
    "<p>**Exercise 2.4:** Get the maximum intensity projection image for your dataset and display it. \n",
    "</div>"
   ]
  },
  {
   "cell_type": "code",
   "execution_count": 83,
   "metadata": {
    "collapsed": false
   },
   "outputs": [
    {
     "data": {
      "text/plain": [
       "(-0.5, 446.5, 511.5, -0.5)"
      ]
     },
     "execution_count": 83,
     "metadata": {},
     "output_type": "execute_result"
    },
    {
     "data": {
      "image/png": "[encoded data removed]",
      "text/plain": [
       "<matplotlib.figure.Figure at 0xd9066d8>"
      ]
     },
     "metadata": {},
     "output_type": "display_data"
    }
   ],
   "source": [
    "plt.imshow(dataset.max_projection,cmap='gray')\n",
    "plt.axis('off')"
   ]
  },
  {
   "cell_type": "markdown",
   "metadata": {},
   "source": [
    "<div style=\"background: #DFF0D8; border-radius: 3px; padding: 10px;\">\n",
    "<p>**Exercise 2.5:** Plot the dF/F trace for a cell by indexing into the dff_traces array\n",
    "\n",
    "<p>Get the timestamps for ophys acquisition frames and plot the dF/F trace in seconds\n",
    "\n",
    "<p>What does the trace look like for other cells?\n",
    "\n",
    "</div>"
   ]
  },
  {
   "cell_type": "code",
   "execution_count": 84,
   "metadata": {
    "collapsed": true
   },
   "outputs": [],
   "source": [
    "# pick a cell \n",
    "cell_index = 8"
   ]
  },
  {
   "cell_type": "code",
   "execution_count": 85,
   "metadata": {
    "collapsed": false
   },
   "outputs": [
    {
     "data": {
      "text/plain": [
       "<matplotlib.text.Text at 0x283f07b8>"
      ]
     },
     "execution_count": 85,
     "metadata": {},
     "output_type": "execute_result"
    },
    {
     "data": {
      "image/png": "[encoded data removed]",
      "text/plain": [
       "<matplotlib.figure.Figure at 0x28876320>"
      ]
     },
     "metadata": {},
     "output_type": "display_data"
    }
   ],
   "source": [
    "plt.plot(dataset.timestamps_ophys,dataset.dff_traces[cell_index])\n",
    "plt.xlabel('seconds')\n",
    "plt.ylabel('dF/F')"
   ]
  },
  {
   "cell_type": "markdown",
   "metadata": {},
   "source": [
    "<div style=\"background: #DFF0D8; border-radius: 3px; padding: 10px;\">\n",
    "<p>**Exercise 2.6:** Get the cell_specimen_id for your cell index\n",
    "</div>"
   ]
  },
  {
   "cell_type": "code",
   "execution_count": 86,
   "metadata": {
    "collapsed": false
   },
   "outputs": [
    {
     "name": "stdout",
     "output_type": "stream",
     "text": [
      "692871805\n"
     ]
    }
   ],
   "source": [
    "cell_specimen_id = dataset.get_cell_specimen_id_for_cell_index(cell_index)\n",
    "print cell_specimen_id"
   ]
  },
  {
   "cell_type": "markdown",
   "metadata": {},
   "source": [
    "<div style=\"background: #DFF0D8; border-radius: 3px; padding: 10px;\">\n",
    "<p>**Exercise 2.7:** Plot the roi mask for that cell using the cell_specimen_id to index into the roi_masks dictionary. \n",
    "</div>"
   ]
  },
  {
   "cell_type": "code",
   "execution_count": 147,
   "metadata": {
    "collapsed": false
   },
   "outputs": [
    {
     "data": {
      "image/png": "[encoded data removed]",
      "text/plain": [
       "<matplotlib.figure.Figure at 0x11a5d9b0>"
      ]
     },
     "metadata": {},
     "output_type": "display_data"
    }
   ],
   "source": [
    "# use cell_specimen_id for roi_dict\n",
    "plt.imshow(dataset.roi_masks[str(cell_specimen_id)])\n",
    "plt.grid('off')"
   ]
  },
  {
   "cell_type": "markdown",
   "metadata": {},
   "source": [
    "<div style=\"border-left: 3px solid #000; padding: 1px; padding-left: 10px; background: #F0FAFF; \">\n",
    "<h2>Change Detection task - behavioral trials and stimulus flashes </h2>\n",
    "<p>The change detection task consists of a series of image presentations. Each image flash is 250ms followed by 500ms of gray screen. The task for the mouse is to lick in a 750ms response window following a change in image identity. \n",
    "<p>On each trial, a change time is scheduled. On go trials, a change in image identity occurs. On catch trials, no image change occurs (aka 'sham change'), and we measure false alarm rates in the same 750ms response window. The dataset object has a record of every trial, both 'go' and 'catch', including information about what images were shown before and after the change time, the times of the mouse's licks, reward delivery, and other metadata for each trial.  \n",
    "<p>We can also consider neural and behavioral responses for each individual stimulus presentation. The dataset object has the timing and stimulus identity for each flash in a 'stimulus_table'. "
   ]
  },
  {
   "cell_type": "markdown",
   "metadata": {},
   "source": [
    "<div style=\"background: #DFF0D8; border-radius: 3px; padding: 10px;\">\n",
    "<p>**Exercise 3.1:** Get the trial records from the dataset object. \n",
    "<p>What images were shown in this behavior session? \n",
    "<p>How many trials were there? \n",
    "<p>How many of those trials had stimulus changes ('go' trials, hint: use at 'trial_type' column)?\n",
    "</div>"
   ]
  },
  {
   "cell_type": "code",
   "execution_count": 148,
   "metadata": {
    "collapsed": false
   },
   "outputs": [
    {
     "data": {
      "text/html": [
       "<div>\n",
       "<style scoped>\n",
       "    .dataframe tbody tr th:only-of-type {\n",
       "        vertical-align: middle;\n",
       "    }\n",
       "\n",
       "    .dataframe tbody tr th {\n",
       "        vertical-align: top;\n",
       "    }\n",
       "\n",
       "    .dataframe thead th {\n",
       "        text-align: right;\n",
       "    }\n",
       "</style>\n",
       "<table border=\"1\" class=\"dataframe\">\n",
       "  <thead>\n",
       "    <tr style=\"text-align: right;\">\n",
       "      <th></th>\n",
       "      <th>trial</th>\n",
       "      <th>original_trial_index</th>\n",
       "      <th>auto_rewarded</th>\n",
       "      <th>change_contrast</th>\n",
       "      <th>change_frame</th>\n",
       "      <th>change_image_category</th>\n",
       "      <th>change_image_name</th>\n",
       "      <th>change_ori</th>\n",
       "      <th>change_time</th>\n",
       "      <th>cumulative_reward_number</th>\n",
       "      <th>...</th>\n",
       "      <th>number_of_rewards</th>\n",
       "      <th>rig_id</th>\n",
       "      <th>trial_type</th>\n",
       "      <th>lick_frames</th>\n",
       "      <th>reward_licks</th>\n",
       "      <th>reward_lick_count</th>\n",
       "      <th>reward_lick_latency</th>\n",
       "      <th>reward_rate</th>\n",
       "      <th>response</th>\n",
       "      <th>color</th>\n",
       "    </tr>\n",
       "  </thead>\n",
       "  <tbody>\n",
       "    <tr>\n",
       "      <th>0</th>\n",
       "      <td>0</td>\n",
       "      <td>34</td>\n",
       "      <td>None</td>\n",
       "      <td>1.0</td>\n",
       "      <td>5221.0</td>\n",
       "      <td>im013</td>\n",
       "      <td>im013</td>\n",
       "      <td>90.0</td>\n",
       "      <td>165.99627</td>\n",
       "      <td>6</td>\n",
       "      <td>...</td>\n",
       "      <td>1</td>\n",
       "      <td>2P6</td>\n",
       "      <td>go</td>\n",
       "      <td>[5248, 5256, 5269, 5276, 5288, 5301, 5308, 531...</td>\n",
       "      <td>[0.13342, 0.35029, 0.46706, 0.6672, 0.88409, 1...</td>\n",
       "      <td>20</td>\n",
       "      <td>0.13342</td>\n",
       "      <td>2.906716</td>\n",
       "      <td>1.0</td>\n",
       "      <td>darkgreen</td>\n",
       "    </tr>\n",
       "    <tr>\n",
       "      <th>1</th>\n",
       "      <td>1</td>\n",
       "      <td>55</td>\n",
       "      <td>None</td>\n",
       "      <td>1.0</td>\n",
       "      <td>7741.0</td>\n",
       "      <td>im047</td>\n",
       "      <td>im047</td>\n",
       "      <td>90.0</td>\n",
       "      <td>208.03050</td>\n",
       "      <td>7</td>\n",
       "      <td>...</td>\n",
       "      <td>1</td>\n",
       "      <td>2P6</td>\n",
       "      <td>go</td>\n",
       "      <td>[7781, 7788, 7800, 7812, 7818, 7830, 7836, 784...</td>\n",
       "      <td>[0.11676, 0.31694, 0.51712, 0.61719, 0.81735, ...</td>\n",
       "      <td>18</td>\n",
       "      <td>0.11676</td>\n",
       "      <td>3.035494</td>\n",
       "      <td>1.0</td>\n",
       "      <td>darkgreen</td>\n",
       "    </tr>\n",
       "    <tr>\n",
       "      <th>2</th>\n",
       "      <td>2</td>\n",
       "      <td>63</td>\n",
       "      <td>None</td>\n",
       "      <td>1.0</td>\n",
       "      <td>8821.0</td>\n",
       "      <td>im057</td>\n",
       "      <td>im057</td>\n",
       "      <td>90.0</td>\n",
       "      <td>226.04525</td>\n",
       "      <td>8</td>\n",
       "      <td>...</td>\n",
       "      <td>1</td>\n",
       "      <td>2P6</td>\n",
       "      <td>go</td>\n",
       "      <td>[8845, 8852, 8864, 8875, 8882, 8888, 8895, 890...</td>\n",
       "      <td>[0.11674, 0.31689, 0.50037, 0.61717, 0.71728, ...</td>\n",
       "      <td>21</td>\n",
       "      <td>0.11674</td>\n",
       "      <td>2.837917</td>\n",
       "      <td>1.0</td>\n",
       "      <td>darkgreen</td>\n",
       "    </tr>\n",
       "    <tr>\n",
       "      <th>3</th>\n",
       "      <td>3</td>\n",
       "      <td>69</td>\n",
       "      <td>None</td>\n",
       "      <td>1.0</td>\n",
       "      <td>9991.0</td>\n",
       "      <td>im078</td>\n",
       "      <td>im078</td>\n",
       "      <td>90.0</td>\n",
       "      <td>245.56118</td>\n",
       "      <td>8</td>\n",
       "      <td>...</td>\n",
       "      <td>0</td>\n",
       "      <td>2P6</td>\n",
       "      <td>go</td>\n",
       "      <td>[10040, 10049, 10056]</td>\n",
       "      <td>[]</td>\n",
       "      <td>0</td>\n",
       "      <td>NaN</td>\n",
       "      <td>3.383478</td>\n",
       "      <td>0.0</td>\n",
       "      <td>lightgreen</td>\n",
       "    </tr>\n",
       "    <tr>\n",
       "      <th>4</th>\n",
       "      <td>4</td>\n",
       "      <td>70</td>\n",
       "      <td>False</td>\n",
       "      <td>1.0</td>\n",
       "      <td>10261.0</td>\n",
       "      <td>im078</td>\n",
       "      <td>im078</td>\n",
       "      <td>90.0</td>\n",
       "      <td>250.06490</td>\n",
       "      <td>8</td>\n",
       "      <td>...</td>\n",
       "      <td>0</td>\n",
       "      <td>2P6</td>\n",
       "      <td>catch</td>\n",
       "      <td>[10377, 10389]</td>\n",
       "      <td>[]</td>\n",
       "      <td>0</td>\n",
       "      <td>NaN</td>\n",
       "      <td>3.348047</td>\n",
       "      <td>0.0</td>\n",
       "      <td>yellow</td>\n",
       "    </tr>\n",
       "  </tbody>\n",
       "</table>\n",
       "<p>5 rows × 65 columns</p>\n",
       "</div>"
      ],
      "text/plain": [
       "   trial  original_trial_index auto_rewarded  change_contrast  change_frame  \\\n",
       "0      0                    34          None              1.0        5221.0   \n",
       "1      1                    55          None              1.0        7741.0   \n",
       "2      2                    63          None              1.0        8821.0   \n",
       "3      3                    69          None              1.0        9991.0   \n",
       "4      4                    70         False              1.0       10261.0   \n",
       "\n",
       "  change_image_category change_image_name  change_ori  change_time  \\\n",
       "0                 im013             im013        90.0    165.99627   \n",
       "1                 im047             im047        90.0    208.03050   \n",
       "2                 im057             im057        90.0    226.04525   \n",
       "3                 im078             im078        90.0    245.56118   \n",
       "4                 im078             im078        90.0    250.06490   \n",
       "\n",
       "   cumulative_reward_number     ...      number_of_rewards  rig_id  \\\n",
       "0                         6     ...                      1     2P6   \n",
       "1                         7     ...                      1     2P6   \n",
       "2                         8     ...                      1     2P6   \n",
       "3                         8     ...                      0     2P6   \n",
       "4                         8     ...                      0     2P6   \n",
       "\n",
       "   trial_type                                        lick_frames  \\\n",
       "0          go  [5248, 5256, 5269, 5276, 5288, 5301, 5308, 531...   \n",
       "1          go  [7781, 7788, 7800, 7812, 7818, 7830, 7836, 784...   \n",
       "2          go  [8845, 8852, 8864, 8875, 8882, 8888, 8895, 890...   \n",
       "3          go                              [10040, 10049, 10056]   \n",
       "4       catch                                     [10377, 10389]   \n",
       "\n",
       "                                        reward_licks reward_lick_count  \\\n",
       "0  [0.13342, 0.35029, 0.46706, 0.6672, 0.88409, 1...                20   \n",
       "1  [0.11676, 0.31694, 0.51712, 0.61719, 0.81735, ...                18   \n",
       "2  [0.11674, 0.31689, 0.50037, 0.61717, 0.71728, ...                21   \n",
       "3                                                 []                 0   \n",
       "4                                                 []                 0   \n",
       "\n",
       "   reward_lick_latency reward_rate  response       color  \n",
       "0              0.13342    2.906716       1.0   darkgreen  \n",
       "1              0.11676    3.035494       1.0   darkgreen  \n",
       "2              0.11674    2.837917       1.0   darkgreen  \n",
       "3                  NaN    3.383478       0.0  lightgreen  \n",
       "4                  NaN    3.348047       0.0      yellow  \n",
       "\n",
       "[5 rows x 65 columns]"
      ]
     },
     "execution_count": 148,
     "metadata": {},
     "output_type": "execute_result"
    }
   ],
   "source": [
    "trials = dataset.trials\n",
    "trials.head()"
   ]
  },
  {
   "cell_type": "code",
   "execution_count": 149,
   "metadata": {
    "collapsed": false
   },
   "outputs": [
    {
     "name": "stdout",
     "output_type": "stream",
     "text": [
      "['im047' 'im057' 'im078' 'im044' 'im115' 'im036' 'im012']\n"
     ]
    }
   ],
   "source": [
    "images = trials.change_image_name.unique()[1:]\n",
    "print images"
   ]
  },
  {
   "cell_type": "code",
   "execution_count": 150,
   "metadata": {
    "collapsed": false
   },
   "outputs": [
    {
     "name": "stdout",
     "output_type": "stream",
     "text": [
      "number of trials = 317\n"
     ]
    }
   ],
   "source": [
    "print 'number of trials =',len(trials)"
   ]
  },
  {
   "cell_type": "code",
   "execution_count": 151,
   "metadata": {
    "collapsed": false
   },
   "outputs": [
    {
     "name": "stdout",
     "output_type": "stream",
     "text": [
      "number of change trials = 277\n"
     ]
    }
   ],
   "source": [
    "print 'number of change trials =',len(trials[trials.trial_type=='go'])"
   ]
  },
  {
   "cell_type": "markdown",
   "metadata": {},
   "source": [
    "<div style=\"background: #DFF0D8; border-radius: 3px; padding: 10px;\">\n",
    "<p>**Exercise 3.2:** Plot the behavioral response rate for each image separately for go and catch trials. \n",
    "\n",
    "<p> First, select all the 'go' trials for a given change_image by filtering the dataframe\n",
    "\n",
    "<p> Use the 'response' column to quantify the fraction of selected trials where the mouse emitted a behavioral response. 'response' is a boolean indicating whether or not the mouse emitted a lick on that trial.\n",
    "\n",
    "</div>"
   ]
  },
  {
   "cell_type": "code",
   "execution_count": 157,
   "metadata": {
    "collapsed": false
   },
   "outputs": [
    {
     "data": {
      "text/html": [
       "<div>\n",
       "<style scoped>\n",
       "    .dataframe tbody tr th:only-of-type {\n",
       "        vertical-align: middle;\n",
       "    }\n",
       "\n",
       "    .dataframe tbody tr th {\n",
       "        vertical-align: top;\n",
       "    }\n",
       "\n",
       "    .dataframe thead th {\n",
       "        text-align: right;\n",
       "    }\n",
       "</style>\n",
       "<table border=\"1\" class=\"dataframe\">\n",
       "  <thead>\n",
       "    <tr style=\"text-align: right;\">\n",
       "      <th></th>\n",
       "      <th>trial</th>\n",
       "      <th>original_trial_index</th>\n",
       "      <th>auto_rewarded</th>\n",
       "      <th>change_contrast</th>\n",
       "      <th>change_frame</th>\n",
       "      <th>change_image_category</th>\n",
       "      <th>change_image_name</th>\n",
       "      <th>change_ori</th>\n",
       "      <th>change_time</th>\n",
       "      <th>cumulative_reward_number</th>\n",
       "      <th>...</th>\n",
       "      <th>number_of_rewards</th>\n",
       "      <th>rig_id</th>\n",
       "      <th>trial_type</th>\n",
       "      <th>lick_frames</th>\n",
       "      <th>reward_licks</th>\n",
       "      <th>reward_lick_count</th>\n",
       "      <th>reward_lick_latency</th>\n",
       "      <th>reward_rate</th>\n",
       "      <th>response</th>\n",
       "      <th>color</th>\n",
       "    </tr>\n",
       "  </thead>\n",
       "  <tbody>\n",
       "    <tr>\n",
       "      <th>2</th>\n",
       "      <td>2</td>\n",
       "      <td>63</td>\n",
       "      <td>None</td>\n",
       "      <td>1.0</td>\n",
       "      <td>8821.0</td>\n",
       "      <td>im057</td>\n",
       "      <td>im057</td>\n",
       "      <td>90.0</td>\n",
       "      <td>226.04525</td>\n",
       "      <td>8</td>\n",
       "      <td>...</td>\n",
       "      <td>1</td>\n",
       "      <td>2P6</td>\n",
       "      <td>go</td>\n",
       "      <td>[8845, 8852, 8864, 8875, 8882, 8888, 8895, 890...</td>\n",
       "      <td>[0.11674, 0.31689, 0.50037, 0.61717, 0.71728, ...</td>\n",
       "      <td>21</td>\n",
       "      <td>0.11674</td>\n",
       "      <td>2.837917</td>\n",
       "      <td>1.0</td>\n",
       "      <td>darkgreen</td>\n",
       "    </tr>\n",
       "    <tr>\n",
       "      <th>9</th>\n",
       "      <td>9</td>\n",
       "      <td>92</td>\n",
       "      <td>None</td>\n",
       "      <td>1.0</td>\n",
       "      <td>14533.0</td>\n",
       "      <td>im057</td>\n",
       "      <td>im057</td>\n",
       "      <td>90.0</td>\n",
       "      <td>321.37314</td>\n",
       "      <td>13</td>\n",
       "      <td>...</td>\n",
       "      <td>1</td>\n",
       "      <td>2P6</td>\n",
       "      <td>go</td>\n",
       "      <td>[14566, 14585, 14597, 14604, 14610, 14616, 146...</td>\n",
       "      <td>[0.31689, 0.51703, 0.63382, 0.73387, 0.83394, ...</td>\n",
       "      <td>15</td>\n",
       "      <td>0.31689</td>\n",
       "      <td>3.526529</td>\n",
       "      <td>1.0</td>\n",
       "      <td>darkgreen</td>\n",
       "    </tr>\n",
       "  </tbody>\n",
       "</table>\n",
       "<p>2 rows × 65 columns</p>\n",
       "</div>"
      ],
      "text/plain": [
       "   trial  original_trial_index auto_rewarded  change_contrast  change_frame  \\\n",
       "2      2                    63          None              1.0        8821.0   \n",
       "9      9                    92          None              1.0       14533.0   \n",
       "\n",
       "  change_image_category change_image_name  change_ori  change_time  \\\n",
       "2                 im057             im057        90.0    226.04525   \n",
       "9                 im057             im057        90.0    321.37314   \n",
       "\n",
       "   cumulative_reward_number    ...      number_of_rewards  rig_id  trial_type  \\\n",
       "2                         8    ...                      1     2P6          go   \n",
       "9                        13    ...                      1     2P6          go   \n",
       "\n",
       "                                         lick_frames  \\\n",
       "2  [8845, 8852, 8864, 8875, 8882, 8888, 8895, 890...   \n",
       "9  [14566, 14585, 14597, 14604, 14610, 14616, 146...   \n",
       "\n",
       "                                        reward_licks reward_lick_count  \\\n",
       "2  [0.11674, 0.31689, 0.50037, 0.61717, 0.71728, ...                21   \n",
       "9  [0.31689, 0.51703, 0.63382, 0.73387, 0.83394, ...                15   \n",
       "\n",
       "   reward_lick_latency reward_rate  response      color  \n",
       "2              0.11674    2.837917       1.0  darkgreen  \n",
       "9              0.31689    3.526529       1.0  darkgreen  \n",
       "\n",
       "[2 rows x 65 columns]"
      ]
     },
     "execution_count": 157,
     "metadata": {},
     "output_type": "execute_result"
    }
   ],
   "source": [
    "image = 'im057'\n",
    "trial_type = 'go'\n",
    "selected_trials = trials[(trials.change_image_name==image)&(trials.trial_type==trial_type)]\n",
    "selected_trials.head(2)"
   ]
  },
  {
   "cell_type": "code",
   "execution_count": 161,
   "metadata": {
    "collapsed": false
   },
   "outputs": [
    {
     "name": "stdout",
     "output_type": "stream",
     "text": [
      "fraction of go trials with a behavioral response for image im057  =  0.428571428571\n"
     ]
    }
   ],
   "source": [
    "fraction_responding_trials = selected_trials.response.mean()\n",
    "print 'fraction of',trial_type,'trials with a behavioral response for image',image,'=',fraction_responding_trials"
   ]
  },
  {
   "cell_type": "markdown",
   "metadata": {},
   "source": [
    "<div style=\"background: #DFF0D8; border-radius: 3px; padding: 10px;\">\n",
    "<p>**Exercise 3.2 (continued):** Plot the behavioral response rate for each image separately for go and catch trials. \n",
    "\n",
    "<p> Now, loop through all images and create a plot of response probability on go trials for each image\n",
    "\n",
    "<p> Do the same for catch trials\n",
    "\n",
    "<p> Bonus: plot response rate for go and catch trials in the same figure, with points colored by trial type\n",
    "\n",
    "</div>"
   ]
  },
  {
   "cell_type": "code",
   "execution_count": 185,
   "metadata": {
    "collapsed": false
   },
   "outputs": [
    {
     "data": {
      "text/plain": [
       "(0, 1)"
      ]
     },
     "execution_count": 185,
     "metadata": {},
     "output_type": "execute_result"
    },
    {
     "data": {
      "image/png": "[encoded data removed]",
      "text/plain": [
       "<matplotlib.figure.Figure at 0x40030ac8>"
      ]
     },
     "metadata": {},
     "output_type": "display_data"
    }
   ],
   "source": [
    "colors = sns.color_palette()\n",
    "trial_type = 'go'\n",
    "for i,image in enumerate(images): \n",
    "    selected_trials = trials[(trials.change_image_name==image)&(trials.trial_type==trial_type)]\n",
    "    response_probability = selected_trials.response.mean()\n",
    "    plt.plot(i,response_probability,'o')\n",
    "plt.xticks(np.arange(0,len(images),1),images,rotation=90)\n",
    "plt.ylabel('response probability')\n",
    "plt.xlabel('change image')\n",
    "plt.title('go trials')\n",
    "plt.ylim(0,1)"
   ]
  },
  {
   "cell_type": "code",
   "execution_count": 186,
   "metadata": {
    "collapsed": false
   },
   "outputs": [
    {
     "data": {
      "text/plain": [
       "(0, 1)"
      ]
     },
     "execution_count": 186,
     "metadata": {},
     "output_type": "execute_result"
    },
    {
     "data": {
      "image/png": "[encoded data removed]",
      "text/plain": [
       "<matplotlib.figure.Figure at 0x3f97fa90>"
      ]
     },
     "metadata": {},
     "output_type": "display_data"
    }
   ],
   "source": [
    "colors = sns.color_palette()\n",
    "trial_type = 'catch'\n",
    "for i,image in enumerate(images): \n",
    "    selected_trials = trials[(trials.change_image_name==image)&(trials.trial_type==trial_type)]\n",
    "    response_probability = selected_trials.response.mean()\n",
    "    plt.plot(i,response_probability,'o')\n",
    "plt.xticks(np.arange(0,len(images),1),images,rotation=90)\n",
    "plt.ylabel('response probability')\n",
    "plt.xlabel('change image')\n",
    "plt.title('catch trials')\n",
    "plt.ylim(0,1)"
   ]
  },
  {
   "cell_type": "code",
   "execution_count": 187,
   "metadata": {
    "collapsed": false,
    "scrolled": true
   },
   "outputs": [
    {
     "data": {
      "text/plain": [
       "<matplotlib.legend.Legend at 0x3ee6eda0>"
      ]
     },
     "execution_count": 187,
     "metadata": {},
     "output_type": "execute_result"
    },
    {
     "data": {
      "image/png": "[encoded data removed]",
      "text/plain": [
       "<matplotlib.figure.Figure at 0x3f4e1d30>"
      ]
     },
     "metadata": {},
     "output_type": "display_data"
    }
   ],
   "source": [
    "colors = sns.color_palette()\n",
    "trial_types = trials.trial_type.unique()\n",
    "for i,image in enumerate(images): \n",
    "    for t,trial_type in enumerate(trial_types):\n",
    "        selected_trials = trials[(trials.change_image_name==image)&(trials.trial_type==trial_type)]\n",
    "        response_probability = selected_trials.response.mean()\n",
    "        plt.plot(i,response_probability,'o',color=colors[t])\n",
    "plt.ylim(0,1)\n",
    "plt.xticks(np.arange(0,len(images),1),images,rotation=90)\n",
    "plt.ylabel('response probability')\n",
    "plt.xlabel('change image')\n",
    "plt.title('response probability by trial type & image')\n",
    "plt.legend(['go','catch'])"
   ]
  },
  {
   "cell_type": "markdown",
   "metadata": {},
   "source": [
    "<div style=\"background: #DFF0D8; border-radius: 3px; padding: 10px;\">\n",
    "<p>**Exercise 3.3:** Get the stimulus flash records from the dataset using 'stimulus_table'. How many individual stimulus presentations were there?   \n",
    "</div>"
   ]
  },
  {
   "cell_type": "code",
   "execution_count": 190,
   "metadata": {
    "collapsed": false
   },
   "outputs": [
    {
     "data": {
      "text/html": [
       "<div>\n",
       "<style scoped>\n",
       "    .dataframe tbody tr th:only-of-type {\n",
       "        vertical-align: middle;\n",
       "    }\n",
       "\n",
       "    .dataframe tbody tr th {\n",
       "        vertical-align: top;\n",
       "    }\n",
       "\n",
       "    .dataframe thead th {\n",
       "        text-align: right;\n",
       "    }\n",
       "</style>\n",
       "<table border=\"1\" class=\"dataframe\">\n",
       "  <thead>\n",
       "    <tr style=\"text-align: right;\">\n",
       "      <th></th>\n",
       "      <th>flash_number</th>\n",
       "      <th>start_frame</th>\n",
       "      <th>end_frame</th>\n",
       "      <th>start_time</th>\n",
       "      <th>end_time</th>\n",
       "      <th>duration</th>\n",
       "      <th>image_category</th>\n",
       "      <th>image_name</th>\n",
       "      <th>orientation</th>\n",
       "      <th>contrast</th>\n",
       "    </tr>\n",
       "  </thead>\n",
       "  <tbody>\n",
       "    <tr>\n",
       "      <th>0</th>\n",
       "      <td>0</td>\n",
       "      <td>1</td>\n",
       "      <td>16</td>\n",
       "      <td>78.92535</td>\n",
       "      <td>79.17555</td>\n",
       "      <td>79.174327</td>\n",
       "      <td>im047</td>\n",
       "      <td>im047</td>\n",
       "      <td>None</td>\n",
       "      <td>None</td>\n",
       "    </tr>\n",
       "    <tr>\n",
       "      <th>45</th>\n",
       "      <td>1</td>\n",
       "      <td>46</td>\n",
       "      <td>61</td>\n",
       "      <td>79.67599</td>\n",
       "      <td>79.92599</td>\n",
       "      <td>79.174413</td>\n",
       "      <td>im047</td>\n",
       "      <td>im047</td>\n",
       "      <td>None</td>\n",
       "      <td>None</td>\n",
       "    </tr>\n",
       "    <tr>\n",
       "      <th>90</th>\n",
       "      <td>2</td>\n",
       "      <td>91</td>\n",
       "      <td>106</td>\n",
       "      <td>80.42647</td>\n",
       "      <td>80.67665</td>\n",
       "      <td>79.174678</td>\n",
       "      <td>im047</td>\n",
       "      <td>im047</td>\n",
       "      <td>None</td>\n",
       "      <td>None</td>\n",
       "    </tr>\n",
       "    <tr>\n",
       "      <th>135</th>\n",
       "      <td>3</td>\n",
       "      <td>136</td>\n",
       "      <td>151</td>\n",
       "      <td>81.17697</td>\n",
       "      <td>81.42722</td>\n",
       "      <td>79.174627</td>\n",
       "      <td>im047</td>\n",
       "      <td>im047</td>\n",
       "      <td>None</td>\n",
       "      <td>None</td>\n",
       "    </tr>\n",
       "    <tr>\n",
       "      <th>180</th>\n",
       "      <td>4</td>\n",
       "      <td>181</td>\n",
       "      <td>196</td>\n",
       "      <td>81.92765</td>\n",
       "      <td>82.17781</td>\n",
       "      <td>79.174547</td>\n",
       "      <td>im047</td>\n",
       "      <td>im047</td>\n",
       "      <td>None</td>\n",
       "      <td>None</td>\n",
       "    </tr>\n",
       "  </tbody>\n",
       "</table>\n",
       "</div>"
      ],
      "text/plain": [
       "     flash_number  start_frame  end_frame  start_time  end_time   duration  \\\n",
       "0               0            1         16    78.92535  79.17555  79.174327   \n",
       "45              1           46         61    79.67599  79.92599  79.174413   \n",
       "90              2           91        106    80.42647  80.67665  79.174678   \n",
       "135             3          136        151    81.17697  81.42722  79.174627   \n",
       "180             4          181        196    81.92765  82.17781  79.174547   \n",
       "\n",
       "    image_category image_name orientation contrast  \n",
       "0            im047      im047        None     None  \n",
       "45           im047      im047        None     None  \n",
       "90           im047      im047        None     None  \n",
       "135          im047      im047        None     None  \n",
       "180          im047      im047        None     None  "
      ]
     },
     "execution_count": 190,
     "metadata": {},
     "output_type": "execute_result"
    }
   ],
   "source": [
    "flashes = dataset.stimulus_table\n",
    "flashes.head()"
   ]
  },
  {
   "cell_type": "code",
   "execution_count": 191,
   "metadata": {
    "collapsed": false
   },
   "outputs": [
    {
     "name": "stdout",
     "output_type": "stream",
     "text": [
      "number of stimulus presentations = 4584\n"
     ]
    }
   ],
   "source": [
    "print 'number of stimulus presentations =',len(flashes)"
   ]
  },
  {
   "cell_type": "markdown",
   "metadata": {},
   "source": [
    "<div style=\"border-left: 3px solid #000; padding: 1px; padding-left: 10px; background: #F0FAFF; \">\n",
    "<h2>The ResponseAnalysis object </h2>\n",
    "<p>The ResponseAnalysis class takes a VisualBehaviorDataset object and extracts cell responses for the stimulus flashes in 'stimulus_table' and for the trials in 'trials'.  \n",
    "\n",
    "<p>\n",
    "</div>"
   ]
  },
  {
   "cell_type": "markdown",
   "metadata": {},
   "source": [
    "<div style=\"background: #DFF0D8; border-radius: 3px; padding: 10px;\">\n",
    "<p>**Exercise 4.1:** Generate the ResponseAnalysis object by passing in your dataset. \n",
    "\n",
    "<p> What is available to you in the ResponseAnalysis class? Use help to check the documentation, or look directly at the code to see what operations are performed. \n",
    "</div>"
   ]
  },
  {
   "cell_type": "code",
   "execution_count": 192,
   "metadata": {
    "collapsed": false
   },
   "outputs": [],
   "source": [
    "from visual_behavior.ophys.response_analysis.response_analysis import ResponseAnalysis "
   ]
  },
  {
   "cell_type": "code",
   "execution_count": 193,
   "metadata": {
    "collapsed": false
   },
   "outputs": [
    {
     "name": "stdout",
     "output_type": "stream",
     "text": [
      "loading trial response dataframe\n",
      "loading flash response dataframe\n"
     ]
    }
   ],
   "source": [
    "analysis = ResponseAnalysis(dataset)"
   ]
  },
  {
   "cell_type": "code",
   "execution_count": 194,
   "metadata": {
    "collapsed": false
   },
   "outputs": [
    {
     "name": "stdout",
     "output_type": "stream",
     "text": [
      "Help on class ResponseAnalysis in module visual_behavior.ophys.response_analysis.response_analysis:\n",
      "\n",
      "class ResponseAnalysis(__builtin__.object)\n",
      " |  Contains methods for organizing responses by trial or by individual visual stimulus flashes in a DataFrame.\n",
      " |  \n",
      " |  For trial responses, a segment of the dF/F trace for each cell is extracted for each trial in a +/-4 seconds window (the 'trial_window') around the change time.\n",
      " |  The mean response for each cell is taken in a 500ms window after the change time (the 'response_window').\n",
      " |  The trial_response_df also contains behavioral metadata such as lick times, running speed, reward rate, and initial and change stimulus names.\n",
      " |  \n",
      " |  For stimulus flashes, the mean response is taken in a 500ms window after each stimulus presentation (the 'response_window').\n",
      " |  The flash_response_df also contains metadata such as the time from last lick, time since last stimulus change, and mean running speed during each flash.\n",
      " |  \n",
      " |  Parameters\n",
      " |  ----------\n",
      " |  dataset: VisualBehaviorOphysDataset instance\n",
      " |  overwrite_analysis_files: Boolean, if True will create and overwrite response analysis dataframe files.\n",
      " |  If False, will load existing analysis files from dataset.analysis_dir, or generate and save them if none exist.\n",
      " |  \n",
      " |  Methods defined here:\n",
      " |  \n",
      " |  __init__(self, dataset, overwrite_analysis_files=False)\n",
      " |  \n",
      " |  generate_flash_response_df(self)\n",
      " |  \n",
      " |  generate_trial_response_df(self)\n",
      " |  \n",
      " |  get_flash_response_df(self)\n",
      " |  \n",
      " |  get_flash_response_df_path(self)\n",
      " |  \n",
      " |  get_trial_response_df(self)\n",
      " |  \n",
      " |  get_trial_response_df_path(self)\n",
      " |  \n",
      " |  save_flash_response_df(self, flash_response_df)\n",
      " |  \n",
      " |  save_trial_response_df(self, trial_response_df)\n",
      " |  \n",
      " |  ----------------------------------------------------------------------\n",
      " |  Data descriptors defined here:\n",
      " |  \n",
      " |  __dict__\n",
      " |      dictionary for instance variables (if defined)\n",
      " |  \n",
      " |  __weakref__\n",
      " |      list of weak references to the object (if defined)\n",
      "\n"
     ]
    }
   ],
   "source": [
    "help(ResponseAnalysis)"
   ]
  },
  {
   "cell_type": "markdown",
   "metadata": {},
   "source": [
    "<div style=\"background: #DFF0D8; border-radius: 3px; padding: 10px;\">\n",
    "<p>**Exercise 4.2: Explore the 'trial_response_df' of the ResponseAnalysis object** \n",
    "\n",
    "<p>What is in 'trial_response_df' ? What are the columns? Whats different than the trials records in the dataset object? \n",
    "</div>"
   ]
  },
  {
   "cell_type": "code",
   "execution_count": 195,
   "metadata": {
    "collapsed": false
   },
   "outputs": [
    {
     "data": {
      "text/plain": [
       "Index([u'trial', u'cell', u'cell_specimen_id', u'trace', u'timestamps',\n",
       "       u'mean_response', u'baseline_response', u'p_value', u'sd_over_baseline',\n",
       "       u'running_speed_trace', u'running_speed_timestamps',\n",
       "       u'mean_running_speed', u'trial_type', u'initial_image_name',\n",
       "       u'change_image_name', u'change_time', u'lick_times', u'reward_times',\n",
       "       u'behavioral_response', u'behavioral_response_type',\n",
       "       u'behavioral_response_time', u'behavioral_response_latency',\n",
       "       u'rewarded', u'reward_rate', u'reward_volume', u'cumulative_volume',\n",
       "       u'cumulative_reward_number', u'reward_lick_count', u'color',\n",
       "       u'initial_image_category', u'change_image_category', u'change_frame',\n",
       "       u'lick_frames', u'reward_frames', u'startframe', u'starttime',\n",
       "       u'endframe', u'endtime', u'trial_length', u'stim_duration', u'stimulus',\n",
       "       u'task', u'mouse_id', u'behavior_session_uuid', u'startdatetime'],\n",
       "      dtype='object')"
      ]
     },
     "execution_count": 195,
     "metadata": {},
     "output_type": "execute_result"
    }
   ],
   "source": [
    "rdf = analysis.trial_response_df\n",
    "rdf.keys()"
   ]
  },
  {
   "cell_type": "code",
   "execution_count": 196,
   "metadata": {
    "collapsed": false
   },
   "outputs": [
    {
     "data": {
      "text/html": [
       "<div>\n",
       "<style scoped>\n",
       "    .dataframe tbody tr th:only-of-type {\n",
       "        vertical-align: middle;\n",
       "    }\n",
       "\n",
       "    .dataframe tbody tr th {\n",
       "        vertical-align: top;\n",
       "    }\n",
       "\n",
       "    .dataframe thead th {\n",
       "        text-align: right;\n",
       "    }\n",
       "</style>\n",
       "<table border=\"1\" class=\"dataframe\">\n",
       "  <thead>\n",
       "    <tr style=\"text-align: right;\">\n",
       "      <th></th>\n",
       "      <th>trial</th>\n",
       "      <th>cell</th>\n",
       "      <th>cell_specimen_id</th>\n",
       "      <th>trace</th>\n",
       "      <th>timestamps</th>\n",
       "      <th>mean_response</th>\n",
       "      <th>baseline_response</th>\n",
       "      <th>p_value</th>\n",
       "      <th>sd_over_baseline</th>\n",
       "      <th>running_speed_trace</th>\n",
       "      <th>...</th>\n",
       "      <th>starttime</th>\n",
       "      <th>endframe</th>\n",
       "      <th>endtime</th>\n",
       "      <th>trial_length</th>\n",
       "      <th>stim_duration</th>\n",
       "      <th>stimulus</th>\n",
       "      <th>task</th>\n",
       "      <th>mouse_id</th>\n",
       "      <th>behavior_session_uuid</th>\n",
       "      <th>startdatetime</th>\n",
       "    </tr>\n",
       "  </thead>\n",
       "  <tbody>\n",
       "    <tr>\n",
       "      <th>0</th>\n",
       "      <td>0</td>\n",
       "      <td>0</td>\n",
       "      <td>692871775</td>\n",
       "      <td>[0.0695067317745, 0.0730980618701, 0.070819354...</td>\n",
       "      <td>[161.99315, 162.02544, 162.05774, 162.09003, 1...</td>\n",
       "      <td>0.144506</td>\n",
       "      <td>-0.014692</td>\n",
       "      <td>0.000116</td>\n",
       "      <td>1.747170</td>\n",
       "      <td>[-15.1939362298, -13.9150032432, -12.253106160...</td>\n",
       "      <td>...</td>\n",
       "      <td>162.97707</td>\n",
       "      <td>5535</td>\n",
       "      <td>171.23384</td>\n",
       "      <td>8.25689</td>\n",
       "      <td>0.25</td>\n",
       "      <td>Natural_Images_Lum_Matched_set_ophys_3_2017.07...</td>\n",
       "      <td>DoC_NaturalImages_Ophys_SessionB</td>\n",
       "      <td>M369320</td>\n",
       "      <td>None</td>\n",
       "      <td>2018-05-01 16:15:04.586000-07:00</td>\n",
       "    </tr>\n",
       "    <tr>\n",
       "      <th>1</th>\n",
       "      <td>0</td>\n",
       "      <td>1</td>\n",
       "      <td>692871777</td>\n",
       "      <td>[0.13845040544, 0.0664919503706, 0.07830422909...</td>\n",
       "      <td>[161.99315, 162.02544, 162.05774, 162.09003, 1...</td>\n",
       "      <td>0.061089</td>\n",
       "      <td>0.099006</td>\n",
       "      <td>0.100224</td>\n",
       "      <td>0.883193</td>\n",
       "      <td>[-15.1939362298, -13.9150032432, -12.253106160...</td>\n",
       "      <td>...</td>\n",
       "      <td>162.97707</td>\n",
       "      <td>5535</td>\n",
       "      <td>171.23384</td>\n",
       "      <td>8.25689</td>\n",
       "      <td>0.25</td>\n",
       "      <td>Natural_Images_Lum_Matched_set_ophys_3_2017.07...</td>\n",
       "      <td>DoC_NaturalImages_Ophys_SessionB</td>\n",
       "      <td>M369320</td>\n",
       "      <td>None</td>\n",
       "      <td>2018-05-01 16:15:04.586000-07:00</td>\n",
       "    </tr>\n",
       "    <tr>\n",
       "      <th>2</th>\n",
       "      <td>0</td>\n",
       "      <td>2</td>\n",
       "      <td>692871785</td>\n",
       "      <td>[0.0750465514865, -0.0431751821143, -0.0170206...</td>\n",
       "      <td>[161.99315, 162.02544, 162.05774, 162.09003, 1...</td>\n",
       "      <td>0.064550</td>\n",
       "      <td>0.044557</td>\n",
       "      <td>0.305748</td>\n",
       "      <td>1.262314</td>\n",
       "      <td>[-15.1939362298, -13.9150032432, -12.253106160...</td>\n",
       "      <td>...</td>\n",
       "      <td>162.97707</td>\n",
       "      <td>5535</td>\n",
       "      <td>171.23384</td>\n",
       "      <td>8.25689</td>\n",
       "      <td>0.25</td>\n",
       "      <td>Natural_Images_Lum_Matched_set_ophys_3_2017.07...</td>\n",
       "      <td>DoC_NaturalImages_Ophys_SessionB</td>\n",
       "      <td>M369320</td>\n",
       "      <td>None</td>\n",
       "      <td>2018-05-01 16:15:04.586000-07:00</td>\n",
       "    </tr>\n",
       "    <tr>\n",
       "      <th>3</th>\n",
       "      <td>0</td>\n",
       "      <td>3</td>\n",
       "      <td>692871791</td>\n",
       "      <td>[-0.0324625903746, 0.0396354883949, -0.0019379...</td>\n",
       "      <td>[161.99315, 162.02544, 162.05774, 162.09003, 1...</td>\n",
       "      <td>0.022565</td>\n",
       "      <td>0.031417</td>\n",
       "      <td>0.659947</td>\n",
       "      <td>0.465177</td>\n",
       "      <td>[-15.1939362298, -13.9150032432, -12.253106160...</td>\n",
       "      <td>...</td>\n",
       "      <td>162.97707</td>\n",
       "      <td>5535</td>\n",
       "      <td>171.23384</td>\n",
       "      <td>8.25689</td>\n",
       "      <td>0.25</td>\n",
       "      <td>Natural_Images_Lum_Matched_set_ophys_3_2017.07...</td>\n",
       "      <td>DoC_NaturalImages_Ophys_SessionB</td>\n",
       "      <td>M369320</td>\n",
       "      <td>None</td>\n",
       "      <td>2018-05-01 16:15:04.586000-07:00</td>\n",
       "    </tr>\n",
       "    <tr>\n",
       "      <th>4</th>\n",
       "      <td>0</td>\n",
       "      <td>4</td>\n",
       "      <td>692871795</td>\n",
       "      <td>[-0.115879557415, -0.0883232649756, -0.0034631...</td>\n",
       "      <td>[161.99315, 162.02544, 162.05774, 162.09003, 1...</td>\n",
       "      <td>0.013307</td>\n",
       "      <td>0.014864</td>\n",
       "      <td>0.928739</td>\n",
       "      <td>0.271177</td>\n",
       "      <td>[-15.1939362298, -13.9150032432, -12.253106160...</td>\n",
       "      <td>...</td>\n",
       "      <td>162.97707</td>\n",
       "      <td>5535</td>\n",
       "      <td>171.23384</td>\n",
       "      <td>8.25689</td>\n",
       "      <td>0.25</td>\n",
       "      <td>Natural_Images_Lum_Matched_set_ophys_3_2017.07...</td>\n",
       "      <td>DoC_NaturalImages_Ophys_SessionB</td>\n",
       "      <td>M369320</td>\n",
       "      <td>None</td>\n",
       "      <td>2018-05-01 16:15:04.586000-07:00</td>\n",
       "    </tr>\n",
       "  </tbody>\n",
       "</table>\n",
       "<p>5 rows × 45 columns</p>\n",
       "</div>"
      ],
      "text/plain": [
       "   trial  cell  cell_specimen_id  \\\n",
       "0      0     0         692871775   \n",
       "1      0     1         692871777   \n",
       "2      0     2         692871785   \n",
       "3      0     3         692871791   \n",
       "4      0     4         692871795   \n",
       "\n",
       "                                               trace  \\\n",
       "0  [0.0695067317745, 0.0730980618701, 0.070819354...   \n",
       "1  [0.13845040544, 0.0664919503706, 0.07830422909...   \n",
       "2  [0.0750465514865, -0.0431751821143, -0.0170206...   \n",
       "3  [-0.0324625903746, 0.0396354883949, -0.0019379...   \n",
       "4  [-0.115879557415, -0.0883232649756, -0.0034631...   \n",
       "\n",
       "                                          timestamps  mean_response  \\\n",
       "0  [161.99315, 162.02544, 162.05774, 162.09003, 1...       0.144506   \n",
       "1  [161.99315, 162.02544, 162.05774, 162.09003, 1...       0.061089   \n",
       "2  [161.99315, 162.02544, 162.05774, 162.09003, 1...       0.064550   \n",
       "3  [161.99315, 162.02544, 162.05774, 162.09003, 1...       0.022565   \n",
       "4  [161.99315, 162.02544, 162.05774, 162.09003, 1...       0.013307   \n",
       "\n",
       "   baseline_response   p_value  sd_over_baseline  \\\n",
       "0          -0.014692  0.000116          1.747170   \n",
       "1           0.099006  0.100224          0.883193   \n",
       "2           0.044557  0.305748          1.262314   \n",
       "3           0.031417  0.659947          0.465177   \n",
       "4           0.014864  0.928739          0.271177   \n",
       "\n",
       "                                 running_speed_trace  \\\n",
       "0  [-15.1939362298, -13.9150032432, -12.253106160...   \n",
       "1  [-15.1939362298, -13.9150032432, -12.253106160...   \n",
       "2  [-15.1939362298, -13.9150032432, -12.253106160...   \n",
       "3  [-15.1939362298, -13.9150032432, -12.253106160...   \n",
       "4  [-15.1939362298, -13.9150032432, -12.253106160...   \n",
       "\n",
       "                 ...                 starttime  endframe    endtime  \\\n",
       "0                ...                 162.97707      5535  171.23384   \n",
       "1                ...                 162.97707      5535  171.23384   \n",
       "2                ...                 162.97707      5535  171.23384   \n",
       "3                ...                 162.97707      5535  171.23384   \n",
       "4                ...                 162.97707      5535  171.23384   \n",
       "\n",
       "  trial_length stim_duration  \\\n",
       "0      8.25689          0.25   \n",
       "1      8.25689          0.25   \n",
       "2      8.25689          0.25   \n",
       "3      8.25689          0.25   \n",
       "4      8.25689          0.25   \n",
       "\n",
       "                                            stimulus  \\\n",
       "0  Natural_Images_Lum_Matched_set_ophys_3_2017.07...   \n",
       "1  Natural_Images_Lum_Matched_set_ophys_3_2017.07...   \n",
       "2  Natural_Images_Lum_Matched_set_ophys_3_2017.07...   \n",
       "3  Natural_Images_Lum_Matched_set_ophys_3_2017.07...   \n",
       "4  Natural_Images_Lum_Matched_set_ophys_3_2017.07...   \n",
       "\n",
       "                               task mouse_id  behavior_session_uuid  \\\n",
       "0  DoC_NaturalImages_Ophys_SessionB  M369320                   None   \n",
       "1  DoC_NaturalImages_Ophys_SessionB  M369320                   None   \n",
       "2  DoC_NaturalImages_Ophys_SessionB  M369320                   None   \n",
       "3  DoC_NaturalImages_Ophys_SessionB  M369320                   None   \n",
       "4  DoC_NaturalImages_Ophys_SessionB  M369320                   None   \n",
       "\n",
       "                      startdatetime  \n",
       "0  2018-05-01 16:15:04.586000-07:00  \n",
       "1  2018-05-01 16:15:04.586000-07:00  \n",
       "2  2018-05-01 16:15:04.586000-07:00  \n",
       "3  2018-05-01 16:15:04.586000-07:00  \n",
       "4  2018-05-01 16:15:04.586000-07:00  \n",
       "\n",
       "[5 rows x 45 columns]"
      ]
     },
     "execution_count": 196,
     "metadata": {},
     "output_type": "execute_result"
    }
   ],
   "source": [
    "rdf.head()"
   ]
  },
  {
   "cell_type": "markdown",
   "metadata": {},
   "source": [
    "<div style=\"background: #DFF0D8; border-radius: 3px; padding: 10px;\">\n",
    "<p>**Exercise 4.3: Plot a cell's response for a single trial **\n",
    "\n",
    "<p>Each row of 'trial_response_df' corresponds to a single trial for a single cell from the experiment. Find the row of 'trial_response_df' that has the largest value of the 'mean_response' column. \n",
    "\n",
    "<p>What cell had the largest response? Assign the cell index to the variable 'cell'\n",
    "\n",
    "<p>What image evoked the largest response? Assign the image name to a variable called 'change_image_name'\n",
    "\n",
    "<p>Was it a go or catch trial? Assign the trial type to a variable called 'trial_type'\n",
    "\n",
    "<p>Plot the dF/F trace for that trial\n",
    "\n",
    "<p>Bonus: Plot time in seconds relative to the trial change time, using the 'timestamps' column and knowledge of the range of the 'trial_window'\n",
    "\n",
    "</div>"
   ]
  },
  {
   "cell_type": "code",
   "execution_count": 214,
   "metadata": {
    "collapsed": false
   },
   "outputs": [
    {
     "data": {
      "text/html": [
       "<div>\n",
       "<style scoped>\n",
       "    .dataframe tbody tr th:only-of-type {\n",
       "        vertical-align: middle;\n",
       "    }\n",
       "\n",
       "    .dataframe tbody tr th {\n",
       "        vertical-align: top;\n",
       "    }\n",
       "\n",
       "    .dataframe thead th {\n",
       "        text-align: right;\n",
       "    }\n",
       "</style>\n",
       "<table border=\"1\" class=\"dataframe\">\n",
       "  <thead>\n",
       "    <tr style=\"text-align: right;\">\n",
       "      <th></th>\n",
       "      <th>trial</th>\n",
       "      <th>cell</th>\n",
       "      <th>cell_specimen_id</th>\n",
       "      <th>trace</th>\n",
       "      <th>timestamps</th>\n",
       "      <th>mean_response</th>\n",
       "      <th>baseline_response</th>\n",
       "      <th>p_value</th>\n",
       "      <th>sd_over_baseline</th>\n",
       "      <th>running_speed_trace</th>\n",
       "      <th>...</th>\n",
       "      <th>starttime</th>\n",
       "      <th>endframe</th>\n",
       "      <th>endtime</th>\n",
       "      <th>trial_length</th>\n",
       "      <th>stim_duration</th>\n",
       "      <th>stimulus</th>\n",
       "      <th>task</th>\n",
       "      <th>mouse_id</th>\n",
       "      <th>behavior_session_uuid</th>\n",
       "      <th>startdatetime</th>\n",
       "    </tr>\n",
       "  </thead>\n",
       "  <tbody>\n",
       "    <tr>\n",
       "      <th>2555</th>\n",
       "      <td>20</td>\n",
       "      <td>55</td>\n",
       "      <td>692871969</td>\n",
       "      <td>[0.234960885587, -0.21354874407, -0.0462871143...</td>\n",
       "      <td>[533.5527, 533.585, 533.61729, 533.64958, 533....</td>\n",
       "      <td>1.765038</td>\n",
       "      <td>-0.056932</td>\n",
       "      <td>0.000002</td>\n",
       "      <td>8.059706</td>\n",
       "      <td>[39.5294885635, 39.7016292133, 40.9103180599, ...</td>\n",
       "      <td>...</td>\n",
       "      <td>534.53065</td>\n",
       "      <td>27717</td>\n",
       "      <td>541.28617</td>\n",
       "      <td>6.755676</td>\n",
       "      <td>0.25</td>\n",
       "      <td>Natural_Images_Lum_Matched_set_ophys_3_2017.07...</td>\n",
       "      <td>DoC_NaturalImages_Ophys_SessionB</td>\n",
       "      <td>M369320</td>\n",
       "      <td>None</td>\n",
       "      <td>2018-05-01 16:15:04.586000-07:00</td>\n",
       "    </tr>\n",
       "  </tbody>\n",
       "</table>\n",
       "<p>1 rows × 45 columns</p>\n",
       "</div>"
      ],
      "text/plain": [
       "      trial  cell  cell_specimen_id  \\\n",
       "2555     20    55         692871969   \n",
       "\n",
       "                                                  trace  \\\n",
       "2555  [0.234960885587, -0.21354874407, -0.0462871143...   \n",
       "\n",
       "                                             timestamps  mean_response  \\\n",
       "2555  [533.5527, 533.585, 533.61729, 533.64958, 533....       1.765038   \n",
       "\n",
       "      baseline_response   p_value  sd_over_baseline  \\\n",
       "2555          -0.056932  0.000002          8.059706   \n",
       "\n",
       "                                    running_speed_trace  \\\n",
       "2555  [39.5294885635, 39.7016292133, 40.9103180599, ...   \n",
       "\n",
       "                    ...                 starttime  endframe    endtime  \\\n",
       "2555                ...                 534.53065     27717  541.28617   \n",
       "\n",
       "     trial_length stim_duration  \\\n",
       "2555     6.755676          0.25   \n",
       "\n",
       "                                               stimulus  \\\n",
       "2555  Natural_Images_Lum_Matched_set_ophys_3_2017.07...   \n",
       "\n",
       "                                  task mouse_id  behavior_session_uuid  \\\n",
       "2555  DoC_NaturalImages_Ophys_SessionB  M369320                   None   \n",
       "\n",
       "                         startdatetime  \n",
       "2555  2018-05-01 16:15:04.586000-07:00  \n",
       "\n",
       "[1 rows x 45 columns]"
      ]
     },
     "execution_count": 214,
     "metadata": {},
     "output_type": "execute_result"
    }
   ],
   "source": [
    "largest_response = rdf[rdf.mean_response==rdf.mean_response.max()]\n",
    "largest_response"
   ]
  },
  {
   "cell_type": "code",
   "execution_count": 215,
   "metadata": {
    "collapsed": false
   },
   "outputs": [
    {
     "name": "stdout",
     "output_type": "stream",
     "text": [
      "cell with largest response: 55\n"
     ]
    }
   ],
   "source": [
    "cell = largest_response.cell.values[0]\n",
    "print 'cell with largest response:',cell"
   ]
  },
  {
   "cell_type": "code",
   "execution_count": 216,
   "metadata": {
    "collapsed": false
   },
   "outputs": [
    {
     "name": "stdout",
     "output_type": "stream",
     "text": [
      "trial that evoked largest response for this cell: 20\n"
     ]
    }
   ],
   "source": [
    "trial = largest_response.trial.values[0]\n",
    "print 'trial that evoked largest response for this cell:',trial"
   ]
  },
  {
   "cell_type": "code",
   "execution_count": 273,
   "metadata": {
    "collapsed": false
   },
   "outputs": [
    {
     "name": "stdout",
     "output_type": "stream",
     "text": [
      "image_name: im036\n",
      "trial_type: go\n"
     ]
    }
   ],
   "source": [
    "image_name = largest_response.change_image_name.values[0]\n",
    "print 'image_name:', image_name\n",
    "trial_type = largest_response.trial_type.values[0]\n",
    "print 'trial_type:',trial_type"
   ]
  },
  {
   "cell_type": "code",
   "execution_count": 249,
   "metadata": {
    "collapsed": false
   },
   "outputs": [
    {
     "data": {
      "text/plain": [
       "<matplotlib.text.Text at 0x591b8a90>"
      ]
     },
     "execution_count": 249,
     "metadata": {},
     "output_type": "execute_result"
    },
    {
     "data": {
      "image/png": "[encoded data removed]",
      "text/plain": [
       "<matplotlib.figure.Figure at 0x5906e128>"
      ]
     },
     "metadata": {},
     "output_type": "display_data"
    }
   ],
   "source": [
    "plt.plot(largest_response.trace.values[0])\n",
    "plt.xlabel('acquisition frames')\n",
    "plt.ylabel('dF/F')"
   ]
  },
  {
   "cell_type": "code",
   "execution_count": 234,
   "metadata": {
    "collapsed": false
   },
   "outputs": [
    {
     "data": {
      "text/plain": [
       "<matplotlib.text.Text at 0x5774deb8>"
      ]
     },
     "execution_count": 234,
     "metadata": {},
     "output_type": "execute_result"
    },
    {
     "data": {
      "image/png": "[encoded data removed]",
      "text/plain": [
       "<matplotlib.figure.Figure at 0x57735908>"
      ]
     },
     "metadata": {},
     "output_type": "display_data"
    }
   ],
   "source": [
    "times = largest_response.timestamps.values[0]\n",
    "times = times-times[0]\n",
    "times = times-4\n",
    "plt.plot(times,largest_response.trace.values[0])\n",
    "plt.xlabel('time relative to change (sec)')\n",
    "plt.ylabel('dF/F')"
   ]
  },
  {
   "cell_type": "code",
   "execution_count": 236,
   "metadata": {
    "collapsed": false
   },
   "outputs": [
    {
     "data": {
      "text/plain": [
       "<matplotlib.axes._subplots.AxesSubplot at 0x57740f28>"
      ]
     },
     "execution_count": 236,
     "metadata": {},
     "output_type": "execute_result"
    },
    {
     "data": {
      "image/png": "[encoded data removed]",
      "text/plain": [
       "<matplotlib.figure.Figure at 0x57add550>"
      ]
     },
     "metadata": {},
     "output_type": "display_data"
    }
   ],
   "source": [
    "#Alternatively, use the plotting functions in visual_behavior.ophys.plotting.summary_figures\n",
    "import visual_behavior.ophys.plotting.summary_figures as sf\n",
    "\n",
    "trace = largest_response.trace.values[0]\n",
    "frame_rate = analysis.ophys_frame_rate\n",
    "sf.plot_single_trial_trace(trace, frame_rate, label=None, color='k', interval_sec=1, xlims=[-4, 4], ax=None)"
   ]
  },
  {
   "cell_type": "markdown",
   "metadata": {},
   "source": [
    "<div style=\"background: #DFF0D8; border-radius: 3px; padding: 10px;\">\n",
    "<p>**Exercise 4.4: Get visual stimulus data**\n",
    "\n",
    "<p> Get 'visual_stimuli' from the dataset object\n",
    "\n",
    "<p> Plot the image you identified above that evoked the largest response \n",
    "\n",
    "</div>"
   ]
  },
  {
   "cell_type": "code",
   "execution_count": 244,
   "metadata": {
    "collapsed": false
   },
   "outputs": [
    {
     "data": {
      "text/html": [
       "<div>\n",
       "<style scoped>\n",
       "    .dataframe tbody tr th:only-of-type {\n",
       "        vertical-align: middle;\n",
       "    }\n",
       "\n",
       "    .dataframe tbody tr th {\n",
       "        vertical-align: top;\n",
       "    }\n",
       "\n",
       "    .dataframe thead th {\n",
       "        text-align: right;\n",
       "    }\n",
       "</style>\n",
       "<table border=\"1\" class=\"dataframe\">\n",
       "  <thead>\n",
       "    <tr style=\"text-align: right;\">\n",
       "      <th></th>\n",
       "      <th>image_category</th>\n",
       "      <th>image_index</th>\n",
       "      <th>image_name</th>\n",
       "      <th>image</th>\n",
       "    </tr>\n",
       "  </thead>\n",
       "  <tbody>\n",
       "    <tr>\n",
       "      <th>0</th>\n",
       "      <td>im012</td>\n",
       "      <td>0</td>\n",
       "      <td>im012</td>\n",
       "      <td>[[127, 127, 127, 127, 127, 127, 127, 127, 127,...</td>\n",
       "    </tr>\n",
       "    <tr>\n",
       "      <th>1</th>\n",
       "      <td>im013</td>\n",
       "      <td>1</td>\n",
       "      <td>im013</td>\n",
       "      <td>[[127, 127, 127, 127, 127, 127, 127, 127, 127,...</td>\n",
       "    </tr>\n",
       "    <tr>\n",
       "      <th>2</th>\n",
       "      <td>im115</td>\n",
       "      <td>2</td>\n",
       "      <td>im115</td>\n",
       "      <td>[[127, 127, 127, 127, 127, 127, 127, 127, 127,...</td>\n",
       "    </tr>\n",
       "    <tr>\n",
       "      <th>3</th>\n",
       "      <td>im047</td>\n",
       "      <td>3</td>\n",
       "      <td>im047</td>\n",
       "      <td>[[127, 127, 127, 127, 127, 127, 127, 127, 127,...</td>\n",
       "    </tr>\n",
       "    <tr>\n",
       "      <th>4</th>\n",
       "      <td>im044</td>\n",
       "      <td>4</td>\n",
       "      <td>im044</td>\n",
       "      <td>[[127, 127, 127, 127, 127, 127, 127, 127, 127,...</td>\n",
       "    </tr>\n",
       "    <tr>\n",
       "      <th>5</th>\n",
       "      <td>im057</td>\n",
       "      <td>5</td>\n",
       "      <td>im057</td>\n",
       "      <td>[[127, 127, 127, 127, 127, 127, 127, 127, 127,...</td>\n",
       "    </tr>\n",
       "    <tr>\n",
       "      <th>6</th>\n",
       "      <td>im036</td>\n",
       "      <td>6</td>\n",
       "      <td>im036</td>\n",
       "      <td>[[127, 127, 127, 127, 127, 127, 127, 127, 127,...</td>\n",
       "    </tr>\n",
       "    <tr>\n",
       "      <th>7</th>\n",
       "      <td>im078</td>\n",
       "      <td>7</td>\n",
       "      <td>im078</td>\n",
       "      <td>[[127, 127, 127, 127, 127, 127, 127, 127, 127,...</td>\n",
       "    </tr>\n",
       "  </tbody>\n",
       "</table>\n",
       "</div>"
      ],
      "text/plain": [
       "  image_category  image_index image_name  \\\n",
       "0          im012            0      im012   \n",
       "1          im013            1      im013   \n",
       "2          im115            2      im115   \n",
       "3          im047            3      im047   \n",
       "4          im044            4      im044   \n",
       "5          im057            5      im057   \n",
       "6          im036            6      im036   \n",
       "7          im078            7      im078   \n",
       "\n",
       "                                               image  \n",
       "0  [[127, 127, 127, 127, 127, 127, 127, 127, 127,...  \n",
       "1  [[127, 127, 127, 127, 127, 127, 127, 127, 127,...  \n",
       "2  [[127, 127, 127, 127, 127, 127, 127, 127, 127,...  \n",
       "3  [[127, 127, 127, 127, 127, 127, 127, 127, 127,...  \n",
       "4  [[127, 127, 127, 127, 127, 127, 127, 127, 127,...  \n",
       "5  [[127, 127, 127, 127, 127, 127, 127, 127, 127,...  \n",
       "6  [[127, 127, 127, 127, 127, 127, 127, 127, 127,...  \n",
       "7  [[127, 127, 127, 127, 127, 127, 127, 127, 127,...  "
      ]
     },
     "execution_count": 244,
     "metadata": {},
     "output_type": "execute_result"
    }
   ],
   "source": [
    "visual_stimuli = dataset.visual_stimuli\n",
    "visual_stimuli"
   ]
  },
  {
   "cell_type": "code",
   "execution_count": 266,
   "metadata": {
    "collapsed": false
   },
   "outputs": [
    {
     "data": {
      "text/plain": [
       "<matplotlib.text.Text at 0x58594fd0>"
      ]
     },
     "execution_count": 266,
     "metadata": {},
     "output_type": "execute_result"
    },
    {
     "data": {
      "image/png": "[encoded data removed]",
      "text/plain": [
       "<matplotlib.figure.Figure at 0x583dc278>"
      ]
     },
     "metadata": {},
     "output_type": "display_data"
    }
   ],
   "source": [
    "image_data = visual_stimuli[visual_stimuli.image_name==image_name].image.values[0]\n",
    "plt.imshow(image_data,cmap='gray')\n",
    "plt.title(image)"
   ]
  },
  {
   "cell_type": "markdown",
   "metadata": {},
   "source": [
    "<div style=\"background: #DFF0D8; border-radius: 3px; padding: 10px;\">\n",
    "<p>**Exercise 4.4: Plot a cell's trial averaged response for a set of conditions** \n",
    "\n",
    "<p>Get the dF/F traces for all trials that meet the conditions that evoked the max response (combination of trial_type and image_name) for the cell identified above and assign to a variable called 'traces'\n",
    "\n",
    "<p>Hint 1: Use 'cell', 'image_name', and 'trial_type' to index into 'trial_response_df'\n",
    "\n",
    "<p>Hint 2: Make sure to extract the an array of the values of response, not as a series\n",
    "</div>"
   ]
  },
  {
   "cell_type": "code",
   "execution_count": 267,
   "metadata": {
    "collapsed": false,
    "scrolled": false
   },
   "outputs": [
    {
     "data": {
      "text/plain": [
       "1430     [-0.0166833372742, 0.21939610698, 0.2297581436...\n",
       "2555     [0.234960885587, -0.21354874407, -0.0462871143...\n",
       "3430     [-0.192932356543, -0.164811638568, -0.19889365...\n",
       "5305     [0.0134213863716, 0.0236372306398, 0.083090983...\n",
       "5555     [0.0884995915927, -0.0186884458159, 0.25620322...\n",
       "6430     [-0.350642911262, -0.0718279929987, 0.42278014...\n",
       "9555     [-0.0287530233149, -0.0779678519048, 0.0231135...\n",
       "9930     [-0.0969658492949, -0.0924093771946, 0.3311716...\n",
       "11180    [0.0564183432164, -0.102527301101, 0.078333624...\n",
       "11555    [-0.152002017883, -0.189585493401, -0.19303953...\n",
       "12430    [0.183777637712, -0.180566177911, -0.048180312...\n",
       "12930    [-0.0317241060537, -0.0146827695681, 0.1135511...\n",
       "14180    [-0.172601925726, 0.0229221644606, 0.068167890...\n",
       "17555    [-0.145236127033, -0.0119820327236, 0.20841420...\n",
       "18555    [-0.0128887688891, -0.105822917631, -0.0945496...\n",
       "19055    [0.0814480573982, 0.235528032918, 0.1336935402...\n",
       "20430    [-0.288120829043, -0.0827129635169, -0.1652833...\n",
       "21180    [-0.116325634818, -0.343375474175, -0.11632814...\n",
       "21430    [0.454310636209, -0.20206465961, -0.0847051983...\n",
       "22430    [0.0783417489727, -0.26035459053, 0.0386066266...\n",
       "24055    [-0.149565573868, 0.56858856344, 0.19335621756...\n",
       "24805    [0.0201708446709, -0.206677852913, -0.24275123...\n",
       "26180    [0.112975331635, 0.236100030393, -0.1677333881...\n",
       "26430    [-0.0784198820169, 0.234239718078, 0.145445460...\n",
       "28180    [0.0350383351869, 0.127912894738, -0.069875623...\n",
       "30430    [-0.336232775343, -0.298416627793, -0.15896472...\n",
       "32180    [0.111321655474, -0.116657813074, 0.0413810827...\n",
       "32430    [0.0417162711962, 0.162436030825, 0.0277405471...\n",
       "32930    [-0.193699941148, -0.0378710256542, -0.0392194...\n",
       "33305    [0.143552367975, -0.135466235889, -0.072131459...\n",
       "33680    [0.402478993564, -0.165678626534, 0.0766803477...\n",
       "34805    [0.0855411305044, -0.112130708305, -0.07128623...\n",
       "36930    [-0.17956390475, -0.131906263723, -0.144900644...\n",
       "Name: trace, dtype: object"
      ]
     },
     "execution_count": 267,
     "metadata": {},
     "output_type": "execute_result"
    }
   ],
   "source": [
    "traces = rdf[(rdf.cell==cell)&(rdf.trial_type==trial_type)&(rdf.change_image_name==image_name)].trace\n",
    "traces"
   ]
  },
  {
   "cell_type": "code",
   "execution_count": 268,
   "metadata": {
    "collapsed": true
   },
   "outputs": [],
   "source": [
    "traces = traces.values"
   ]
  },
  {
   "cell_type": "markdown",
   "metadata": {},
   "source": [
    "<div style=\"background: #DFF0D8; border-radius: 3px; padding: 10px;\">\n",
    "<p>**Exercise 4.4 (continued): Plot a cell's trial averaged response for a set of conditions** \n",
    "\n",
    "<p>Use the povided plotting function to plot the trial averaged trace for your cell. Note the dynamics of the cell's responses to subsequent image presentations. Is the response magnitude always the same? \n",
    "\n",
    "<p>Bonus: Use the function 'plot_mean_trace' in visual_behavior.ophys.plotting.summary_figures\n",
    "\n",
    "<p>Extra Bonus: Use the function 'plot_flashes_on_trace' to display stimulus presentation times\n",
    "\n",
    "</div>"
   ]
  },
  {
   "cell_type": "code",
   "execution_count": 269,
   "metadata": {
    "collapsed": true
   },
   "outputs": [],
   "source": [
    "def plot_mean_trace(traces):\n",
    "    fig,ax = plt.subplots()\n",
    "    if len(traces) > 0:\n",
    "        trace = np.mean(traces,axis=0)\n",
    "        times = np.arange(0, len(trace), 1)\n",
    "        sem = (traces.std()) / np.sqrt(float(len(traces)))\n",
    "        ax.plot(trace,linewidth=3)\n",
    "        ax.fill_between(times, trace + sem, trace - sem, alpha=0.5)\n",
    "        ax.set_ylabel('dF/F')\n",
    "        ax.set_xlabel('ophys frames')\n",
    "    sns.despine(ax=ax)\n",
    "    return ax"
   ]
  },
  {
   "cell_type": "code",
   "execution_count": 270,
   "metadata": {
    "collapsed": false
   },
   "outputs": [
    {
     "data": {
      "text/plain": [
       "<matplotlib.axes._subplots.AxesSubplot at 0x586c3a90>"
      ]
     },
     "execution_count": 270,
     "metadata": {},
     "output_type": "execute_result"
    },
    {
     "data": {
      "image/png": "[encoded data removed]",
      "text/plain": [
       "<matplotlib.figure.Figure at 0x586b77f0>"
      ]
     },
     "metadata": {},
     "output_type": "display_data"
    }
   ],
   "source": [
    "plot_mean_trace(traces)"
   ]
  },
  {
   "cell_type": "code",
   "execution_count": 271,
   "metadata": {
    "collapsed": false
   },
   "outputs": [
    {
     "data": {
      "text/plain": [
       "<matplotlib.axes._subplots.AxesSubplot at 0x58923cf8>"
      ]
     },
     "execution_count": 271,
     "metadata": {},
     "output_type": "execute_result"
    },
    {
     "data": {
      "image/png": "[encoded data removed]",
      "text/plain": [
       "<matplotlib.figure.Figure at 0x5821df60>"
      ]
     },
     "metadata": {},
     "output_type": "display_data"
    }
   ],
   "source": [
    "fig,ax = plt.subplots()\n",
    "sf.plot_mean_trace(traces, analysis.ophys_frame_rate, label=None, color='k', interval_sec=1, xlims=[-4, 4], ax=ax)\n",
    "sf.plot_flashes_on_trace(ax, analysis, trial_type=None, omitted=False, alpha=0.4)"
   ]
  },
  {
   "cell_type": "markdown",
   "metadata": {},
   "source": [
    "<div style=\"background: #DFF0D8; border-radius: 3px; padding: 10px;\">\n",
    "<p>**Exercise 4.5: Plot an image tuning curve from stimulus flashes**\n",
    "\n",
    "<p>Get the 'flash_response_df' from the analysis object. What are the columns? What are the rows? \n",
    "\n",
    "<p>Filter the dataframe to get the stimulus flashes for the 'image_name' and 'cell' identified above.\n",
    "\n",
    "<p>Get the mean and standard error for the 'mean_response' column for the filtered dataframe\n",
    "\n",
    "<p>Hint: from scipy.stats import sem to get standard error of the mean\n",
    "</div>"
   ]
  },
  {
   "cell_type": "code",
   "execution_count": 276,
   "metadata": {
    "collapsed": false
   },
   "outputs": [
    {
     "data": {
      "text/html": [
       "<div>\n",
       "<style scoped>\n",
       "    .dataframe tbody tr th:only-of-type {\n",
       "        vertical-align: middle;\n",
       "    }\n",
       "\n",
       "    .dataframe tbody tr th {\n",
       "        vertical-align: top;\n",
       "    }\n",
       "\n",
       "    .dataframe thead th {\n",
       "        text-align: right;\n",
       "    }\n",
       "</style>\n",
       "<table border=\"1\" class=\"dataframe\">\n",
       "  <thead>\n",
       "    <tr style=\"text-align: right;\">\n",
       "      <th></th>\n",
       "      <th>cell</th>\n",
       "      <th>flash_number</th>\n",
       "      <th>start_time</th>\n",
       "      <th>image_name</th>\n",
       "      <th>mean_response</th>\n",
       "    </tr>\n",
       "  </thead>\n",
       "  <tbody>\n",
       "    <tr>\n",
       "      <th>0</th>\n",
       "      <td>0</td>\n",
       "      <td>0</td>\n",
       "      <td>78.92535</td>\n",
       "      <td>im047</td>\n",
       "      <td>39.601269</td>\n",
       "    </tr>\n",
       "    <tr>\n",
       "      <th>1</th>\n",
       "      <td>0</td>\n",
       "      <td>1</td>\n",
       "      <td>79.67599</td>\n",
       "      <td>im047</td>\n",
       "      <td>39.983917</td>\n",
       "    </tr>\n",
       "    <tr>\n",
       "      <th>2</th>\n",
       "      <td>0</td>\n",
       "      <td>2</td>\n",
       "      <td>80.42647</td>\n",
       "      <td>im047</td>\n",
       "      <td>40.355380</td>\n",
       "    </tr>\n",
       "    <tr>\n",
       "      <th>3</th>\n",
       "      <td>0</td>\n",
       "      <td>3</td>\n",
       "      <td>81.17697</td>\n",
       "      <td>im047</td>\n",
       "      <td>40.713811</td>\n",
       "    </tr>\n",
       "    <tr>\n",
       "      <th>4</th>\n",
       "      <td>0</td>\n",
       "      <td>4</td>\n",
       "      <td>81.92765</td>\n",
       "      <td>im047</td>\n",
       "      <td>41.081772</td>\n",
       "    </tr>\n",
       "  </tbody>\n",
       "</table>\n",
       "</div>"
      ],
      "text/plain": [
       "   cell  flash_number  start_time image_name  mean_response\n",
       "0     0             0    78.92535      im047      39.601269\n",
       "1     0             1    79.67599      im047      39.983917\n",
       "2     0             2    80.42647      im047      40.355380\n",
       "3     0             3    81.17697      im047      40.713811\n",
       "4     0             4    81.92765      im047      41.081772"
      ]
     },
     "execution_count": 276,
     "metadata": {},
     "output_type": "execute_result"
    }
   ],
   "source": [
    "fdf = analysis.flash_response_df\n",
    "fdf.head()"
   ]
  },
  {
   "cell_type": "code",
   "execution_count": 280,
   "metadata": {
    "collapsed": false
   },
   "outputs": [
    {
     "data": {
      "text/html": [
       "<div>\n",
       "<style scoped>\n",
       "    .dataframe tbody tr th:only-of-type {\n",
       "        vertical-align: middle;\n",
       "    }\n",
       "\n",
       "    .dataframe tbody tr th {\n",
       "        vertical-align: top;\n",
       "    }\n",
       "\n",
       "    .dataframe thead th {\n",
       "        text-align: right;\n",
       "    }\n",
       "</style>\n",
       "<table border=\"1\" class=\"dataframe\">\n",
       "  <thead>\n",
       "    <tr style=\"text-align: right;\">\n",
       "      <th></th>\n",
       "      <th>cell</th>\n",
       "      <th>flash_number</th>\n",
       "      <th>start_time</th>\n",
       "      <th>image_name</th>\n",
       "      <th>mean_response</th>\n",
       "    </tr>\n",
       "  </thead>\n",
       "  <tbody>\n",
       "    <tr>\n",
       "      <th>252222</th>\n",
       "      <td>55</td>\n",
       "      <td>102</td>\n",
       "      <td>156.23830</td>\n",
       "      <td>im036</td>\n",
       "      <td>78.227523</td>\n",
       "    </tr>\n",
       "    <tr>\n",
       "      <th>252223</th>\n",
       "      <td>55</td>\n",
       "      <td>103</td>\n",
       "      <td>156.98893</td>\n",
       "      <td>im036</td>\n",
       "      <td>78.617843</td>\n",
       "    </tr>\n",
       "    <tr>\n",
       "      <th>252224</th>\n",
       "      <td>55</td>\n",
       "      <td>104</td>\n",
       "      <td>157.73946</td>\n",
       "      <td>im036</td>\n",
       "      <td>78.924903</td>\n",
       "    </tr>\n",
       "    <tr>\n",
       "      <th>252225</th>\n",
       "      <td>55</td>\n",
       "      <td>105</td>\n",
       "      <td>158.49009</td>\n",
       "      <td>im036</td>\n",
       "      <td>79.366271</td>\n",
       "    </tr>\n",
       "    <tr>\n",
       "      <th>252226</th>\n",
       "      <td>55</td>\n",
       "      <td>106</td>\n",
       "      <td>159.24071</td>\n",
       "      <td>im036</td>\n",
       "      <td>79.735825</td>\n",
       "    </tr>\n",
       "    <tr>\n",
       "      <th>252227</th>\n",
       "      <td>55</td>\n",
       "      <td>107</td>\n",
       "      <td>159.99134</td>\n",
       "      <td>im036</td>\n",
       "      <td>80.174618</td>\n",
       "    </tr>\n",
       "    <tr>\n",
       "      <th>252228</th>\n",
       "      <td>55</td>\n",
       "      <td>108</td>\n",
       "      <td>160.74194</td>\n",
       "      <td>im036</td>\n",
       "      <td>80.515167</td>\n",
       "    </tr>\n",
       "    <tr>\n",
       "      <th>252229</th>\n",
       "      <td>55</td>\n",
       "      <td>109</td>\n",
       "      <td>161.49256</td>\n",
       "      <td>im036</td>\n",
       "      <td>80.866398</td>\n",
       "    </tr>\n",
       "    <tr>\n",
       "      <th>252230</th>\n",
       "      <td>55</td>\n",
       "      <td>110</td>\n",
       "      <td>162.24319</td>\n",
       "      <td>im036</td>\n",
       "      <td>81.247518</td>\n",
       "    </tr>\n",
       "    <tr>\n",
       "      <th>252231</th>\n",
       "      <td>55</td>\n",
       "      <td>111</td>\n",
       "      <td>162.99385</td>\n",
       "      <td>im036</td>\n",
       "      <td>81.656161</td>\n",
       "    </tr>\n",
       "    <tr>\n",
       "      <th>252232</th>\n",
       "      <td>55</td>\n",
       "      <td>112</td>\n",
       "      <td>163.74436</td>\n",
       "      <td>im036</td>\n",
       "      <td>82.085869</td>\n",
       "    </tr>\n",
       "    <tr>\n",
       "      <th>252233</th>\n",
       "      <td>55</td>\n",
       "      <td>113</td>\n",
       "      <td>164.49499</td>\n",
       "      <td>im036</td>\n",
       "      <td>82.352919</td>\n",
       "    </tr>\n",
       "    <tr>\n",
       "      <th>252234</th>\n",
       "      <td>55</td>\n",
       "      <td>114</td>\n",
       "      <td>165.24561</td>\n",
       "      <td>im036</td>\n",
       "      <td>82.825520</td>\n",
       "    </tr>\n",
       "    <tr>\n",
       "      <th>252476</th>\n",
       "      <td>55</td>\n",
       "      <td>356</td>\n",
       "      <td>355.15072</td>\n",
       "      <td>im036</td>\n",
       "      <td>178.437887</td>\n",
       "    </tr>\n",
       "    <tr>\n",
       "      <th>252477</th>\n",
       "      <td>55</td>\n",
       "      <td>357</td>\n",
       "      <td>355.90130</td>\n",
       "      <td>im036</td>\n",
       "      <td>178.302957</td>\n",
       "    </tr>\n",
       "    <tr>\n",
       "      <th>252478</th>\n",
       "      <td>55</td>\n",
       "      <td>358</td>\n",
       "      <td>356.65198</td>\n",
       "      <td>im036</td>\n",
       "      <td>179.294054</td>\n",
       "    </tr>\n",
       "    <tr>\n",
       "      <th>252479</th>\n",
       "      <td>55</td>\n",
       "      <td>359</td>\n",
       "      <td>357.40260</td>\n",
       "      <td>im036</td>\n",
       "      <td>179.115234</td>\n",
       "    </tr>\n",
       "    <tr>\n",
       "      <th>252480</th>\n",
       "      <td>55</td>\n",
       "      <td>360</td>\n",
       "      <td>358.15316</td>\n",
       "      <td>im036</td>\n",
       "      <td>179.374164</td>\n",
       "    </tr>\n",
       "    <tr>\n",
       "      <th>252481</th>\n",
       "      <td>55</td>\n",
       "      <td>361</td>\n",
       "      <td>358.90378</td>\n",
       "      <td>im036</td>\n",
       "      <td>179.649918</td>\n",
       "    </tr>\n",
       "    <tr>\n",
       "      <th>252482</th>\n",
       "      <td>55</td>\n",
       "      <td>362</td>\n",
       "      <td>359.65439</td>\n",
       "      <td>im036</td>\n",
       "      <td>179.981277</td>\n",
       "    </tr>\n",
       "    <tr>\n",
       "      <th>252483</th>\n",
       "      <td>55</td>\n",
       "      <td>363</td>\n",
       "      <td>360.40502</td>\n",
       "      <td>im036</td>\n",
       "      <td>180.359424</td>\n",
       "    </tr>\n",
       "    <tr>\n",
       "      <th>252702</th>\n",
       "      <td>55</td>\n",
       "      <td>582</td>\n",
       "      <td>537.54982</td>\n",
       "      <td>im036</td>\n",
       "      <td>269.774091</td>\n",
       "    </tr>\n",
       "    <tr>\n",
       "      <th>252703</th>\n",
       "      <td>55</td>\n",
       "      <td>583</td>\n",
       "      <td>538.30037</td>\n",
       "      <td>im036</td>\n",
       "      <td>269.830751</td>\n",
       "    </tr>\n",
       "    <tr>\n",
       "      <th>252704</th>\n",
       "      <td>55</td>\n",
       "      <td>584</td>\n",
       "      <td>539.05098</td>\n",
       "      <td>im036</td>\n",
       "      <td>269.791564</td>\n",
       "    </tr>\n",
       "    <tr>\n",
       "      <th>252705</th>\n",
       "      <td>55</td>\n",
       "      <td>585</td>\n",
       "      <td>539.80162</td>\n",
       "      <td>im036</td>\n",
       "      <td>270.446654</td>\n",
       "    </tr>\n",
       "    <tr>\n",
       "      <th>252706</th>\n",
       "      <td>55</td>\n",
       "      <td>586</td>\n",
       "      <td>540.55224</td>\n",
       "      <td>im036</td>\n",
       "      <td>270.465738</td>\n",
       "    </tr>\n",
       "    <tr>\n",
       "      <th>252707</th>\n",
       "      <td>55</td>\n",
       "      <td>587</td>\n",
       "      <td>541.30287</td>\n",
       "      <td>im036</td>\n",
       "      <td>270.869400</td>\n",
       "    </tr>\n",
       "    <tr>\n",
       "      <th>252708</th>\n",
       "      <td>55</td>\n",
       "      <td>588</td>\n",
       "      <td>542.05348</td>\n",
       "      <td>im036</td>\n",
       "      <td>271.294741</td>\n",
       "    </tr>\n",
       "    <tr>\n",
       "      <th>252709</th>\n",
       "      <td>55</td>\n",
       "      <td>589</td>\n",
       "      <td>542.80408</td>\n",
       "      <td>im036</td>\n",
       "      <td>271.539001</td>\n",
       "    </tr>\n",
       "    <tr>\n",
       "      <th>252710</th>\n",
       "      <td>55</td>\n",
       "      <td>590</td>\n",
       "      <td>543.55468</td>\n",
       "      <td>im036</td>\n",
       "      <td>272.017825</td>\n",
       "    </tr>\n",
       "    <tr>\n",
       "      <th>...</th>\n",
       "      <td>...</td>\n",
       "      <td>...</td>\n",
       "      <td>...</td>\n",
       "      <td>...</td>\n",
       "      <td>...</td>\n",
       "    </tr>\n",
       "    <tr>\n",
       "      <th>256191</th>\n",
       "      <td>55</td>\n",
       "      <td>4071</td>\n",
       "      <td>3268.28246</td>\n",
       "      <td>im036</td>\n",
       "      <td>1634.271155</td>\n",
       "    </tr>\n",
       "    <tr>\n",
       "      <th>256192</th>\n",
       "      <td>55</td>\n",
       "      <td>4072</td>\n",
       "      <td>3269.03308</td>\n",
       "      <td>im036</td>\n",
       "      <td>1634.680402</td>\n",
       "    </tr>\n",
       "    <tr>\n",
       "      <th>256193</th>\n",
       "      <td>55</td>\n",
       "      <td>4073</td>\n",
       "      <td>3269.78371</td>\n",
       "      <td>im036</td>\n",
       "      <td>1635.040783</td>\n",
       "    </tr>\n",
       "    <tr>\n",
       "      <th>256194</th>\n",
       "      <td>55</td>\n",
       "      <td>4074</td>\n",
       "      <td>3270.53431</td>\n",
       "      <td>im036</td>\n",
       "      <td>1635.445199</td>\n",
       "    </tr>\n",
       "    <tr>\n",
       "      <th>256195</th>\n",
       "      <td>55</td>\n",
       "      <td>4075</td>\n",
       "      <td>3271.28492</td>\n",
       "      <td>im036</td>\n",
       "      <td>1635.772009</td>\n",
       "    </tr>\n",
       "    <tr>\n",
       "      <th>256196</th>\n",
       "      <td>55</td>\n",
       "      <td>4076</td>\n",
       "      <td>3272.03554</td>\n",
       "      <td>im036</td>\n",
       "      <td>1636.139926</td>\n",
       "    </tr>\n",
       "    <tr>\n",
       "      <th>256197</th>\n",
       "      <td>55</td>\n",
       "      <td>4077</td>\n",
       "      <td>3273.53680</td>\n",
       "      <td>im036</td>\n",
       "      <td>1636.919599</td>\n",
       "    </tr>\n",
       "    <tr>\n",
       "      <th>256198</th>\n",
       "      <td>55</td>\n",
       "      <td>4078</td>\n",
       "      <td>3274.28751</td>\n",
       "      <td>im036</td>\n",
       "      <td>1637.254689</td>\n",
       "    </tr>\n",
       "    <tr>\n",
       "      <th>256199</th>\n",
       "      <td>55</td>\n",
       "      <td>4079</td>\n",
       "      <td>3275.03798</td>\n",
       "      <td>im036</td>\n",
       "      <td>1637.622235</td>\n",
       "    </tr>\n",
       "    <tr>\n",
       "      <th>256200</th>\n",
       "      <td>55</td>\n",
       "      <td>4080</td>\n",
       "      <td>3275.78861</td>\n",
       "      <td>im036</td>\n",
       "      <td>1638.034490</td>\n",
       "    </tr>\n",
       "    <tr>\n",
       "      <th>256201</th>\n",
       "      <td>55</td>\n",
       "      <td>4081</td>\n",
       "      <td>3276.53926</td>\n",
       "      <td>im036</td>\n",
       "      <td>1638.383464</td>\n",
       "    </tr>\n",
       "    <tr>\n",
       "      <th>256202</th>\n",
       "      <td>55</td>\n",
       "      <td>4082</td>\n",
       "      <td>3277.28985</td>\n",
       "      <td>im036</td>\n",
       "      <td>1638.813818</td>\n",
       "    </tr>\n",
       "    <tr>\n",
       "      <th>256203</th>\n",
       "      <td>55</td>\n",
       "      <td>4083</td>\n",
       "      <td>3278.04045</td>\n",
       "      <td>im036</td>\n",
       "      <td>1639.143572</td>\n",
       "    </tr>\n",
       "    <tr>\n",
       "      <th>256279</th>\n",
       "      <td>55</td>\n",
       "      <td>4159</td>\n",
       "      <td>3336.58835</td>\n",
       "      <td>im036</td>\n",
       "      <td>1668.582498</td>\n",
       "    </tr>\n",
       "    <tr>\n",
       "      <th>256280</th>\n",
       "      <td>55</td>\n",
       "      <td>4160</td>\n",
       "      <td>3338.08957</td>\n",
       "      <td>im036</td>\n",
       "      <td>1669.150643</td>\n",
       "    </tr>\n",
       "    <tr>\n",
       "      <th>256281</th>\n",
       "      <td>55</td>\n",
       "      <td>4161</td>\n",
       "      <td>3338.84018</td>\n",
       "      <td>im036</td>\n",
       "      <td>1669.528488</td>\n",
       "    </tr>\n",
       "    <tr>\n",
       "      <th>256282</th>\n",
       "      <td>55</td>\n",
       "      <td>4162</td>\n",
       "      <td>3339.59079</td>\n",
       "      <td>im036</td>\n",
       "      <td>1669.929976</td>\n",
       "    </tr>\n",
       "    <tr>\n",
       "      <th>256283</th>\n",
       "      <td>55</td>\n",
       "      <td>4163</td>\n",
       "      <td>3341.09205</td>\n",
       "      <td>im036</td>\n",
       "      <td>1670.662773</td>\n",
       "    </tr>\n",
       "    <tr>\n",
       "      <th>256284</th>\n",
       "      <td>55</td>\n",
       "      <td>4164</td>\n",
       "      <td>3341.84267</td>\n",
       "      <td>im036</td>\n",
       "      <td>1671.084762</td>\n",
       "    </tr>\n",
       "    <tr>\n",
       "      <th>256451</th>\n",
       "      <td>55</td>\n",
       "      <td>4331</td>\n",
       "      <td>3473.95063</td>\n",
       "      <td>im036</td>\n",
       "      <td>1737.139804</td>\n",
       "    </tr>\n",
       "    <tr>\n",
       "      <th>256452</th>\n",
       "      <td>55</td>\n",
       "      <td>4332</td>\n",
       "      <td>3474.70126</td>\n",
       "      <td>im036</td>\n",
       "      <td>1737.459535</td>\n",
       "    </tr>\n",
       "    <tr>\n",
       "      <th>256453</th>\n",
       "      <td>55</td>\n",
       "      <td>4333</td>\n",
       "      <td>3475.45192</td>\n",
       "      <td>im036</td>\n",
       "      <td>1737.817073</td>\n",
       "    </tr>\n",
       "    <tr>\n",
       "      <th>256454</th>\n",
       "      <td>55</td>\n",
       "      <td>4334</td>\n",
       "      <td>3476.20252</td>\n",
       "      <td>im036</td>\n",
       "      <td>1738.250838</td>\n",
       "    </tr>\n",
       "    <tr>\n",
       "      <th>256455</th>\n",
       "      <td>55</td>\n",
       "      <td>4335</td>\n",
       "      <td>3476.95315</td>\n",
       "      <td>im036</td>\n",
       "      <td>1738.563120</td>\n",
       "    </tr>\n",
       "    <tr>\n",
       "      <th>256456</th>\n",
       "      <td>55</td>\n",
       "      <td>4336</td>\n",
       "      <td>3477.70374</td>\n",
       "      <td>im036</td>\n",
       "      <td>1738.939616</td>\n",
       "    </tr>\n",
       "    <tr>\n",
       "      <th>256457</th>\n",
       "      <td>55</td>\n",
       "      <td>4337</td>\n",
       "      <td>3478.45443</td>\n",
       "      <td>im036</td>\n",
       "      <td>1739.344937</td>\n",
       "    </tr>\n",
       "    <tr>\n",
       "      <th>256458</th>\n",
       "      <td>55</td>\n",
       "      <td>4338</td>\n",
       "      <td>3479.20499</td>\n",
       "      <td>im036</td>\n",
       "      <td>1739.695837</td>\n",
       "    </tr>\n",
       "    <tr>\n",
       "      <th>256459</th>\n",
       "      <td>55</td>\n",
       "      <td>4339</td>\n",
       "      <td>3479.95565</td>\n",
       "      <td>im036</td>\n",
       "      <td>1740.076831</td>\n",
       "    </tr>\n",
       "    <tr>\n",
       "      <th>256460</th>\n",
       "      <td>55</td>\n",
       "      <td>4340</td>\n",
       "      <td>3480.70615</td>\n",
       "      <td>im036</td>\n",
       "      <td>1740.478323</td>\n",
       "    </tr>\n",
       "    <tr>\n",
       "      <th>256461</th>\n",
       "      <td>55</td>\n",
       "      <td>4341</td>\n",
       "      <td>3481.45685</td>\n",
       "      <td>im036</td>\n",
       "      <td>1740.805009</td>\n",
       "    </tr>\n",
       "  </tbody>\n",
       "</table>\n",
       "<p>544 rows × 5 columns</p>\n",
       "</div>"
      ],
      "text/plain": [
       "        cell  flash_number  start_time image_name  mean_response\n",
       "252222    55           102   156.23830      im036      78.227523\n",
       "252223    55           103   156.98893      im036      78.617843\n",
       "252224    55           104   157.73946      im036      78.924903\n",
       "252225    55           105   158.49009      im036      79.366271\n",
       "252226    55           106   159.24071      im036      79.735825\n",
       "252227    55           107   159.99134      im036      80.174618\n",
       "252228    55           108   160.74194      im036      80.515167\n",
       "252229    55           109   161.49256      im036      80.866398\n",
       "252230    55           110   162.24319      im036      81.247518\n",
       "252231    55           111   162.99385      im036      81.656161\n",
       "252232    55           112   163.74436      im036      82.085869\n",
       "252233    55           113   164.49499      im036      82.352919\n",
       "252234    55           114   165.24561      im036      82.825520\n",
       "252476    55           356   355.15072      im036     178.437887\n",
       "252477    55           357   355.90130      im036     178.302957\n",
       "252478    55           358   356.65198      im036     179.294054\n",
       "252479    55           359   357.40260      im036     179.115234\n",
       "252480    55           360   358.15316      im036     179.374164\n",
       "252481    55           361   358.90378      im036     179.649918\n",
       "252482    55           362   359.65439      im036     179.981277\n",
       "252483    55           363   360.40502      im036     180.359424\n",
       "252702    55           582   537.54982      im036     269.774091\n",
       "252703    55           583   538.30037      im036     269.830751\n",
       "252704    55           584   539.05098      im036     269.791564\n",
       "252705    55           585   539.80162      im036     270.446654\n",
       "252706    55           586   540.55224      im036     270.465738\n",
       "252707    55           587   541.30287      im036     270.869400\n",
       "252708    55           588   542.05348      im036     271.294741\n",
       "252709    55           589   542.80408      im036     271.539001\n",
       "252710    55           590   543.55468      im036     272.017825\n",
       "...      ...           ...         ...        ...            ...\n",
       "256191    55          4071  3268.28246      im036    1634.271155\n",
       "256192    55          4072  3269.03308      im036    1634.680402\n",
       "256193    55          4073  3269.78371      im036    1635.040783\n",
       "256194    55          4074  3270.53431      im036    1635.445199\n",
       "256195    55          4075  3271.28492      im036    1635.772009\n",
       "256196    55          4076  3272.03554      im036    1636.139926\n",
       "256197    55          4077  3273.53680      im036    1636.919599\n",
       "256198    55          4078  3274.28751      im036    1637.254689\n",
       "256199    55          4079  3275.03798      im036    1637.622235\n",
       "256200    55          4080  3275.78861      im036    1638.034490\n",
       "256201    55          4081  3276.53926      im036    1638.383464\n",
       "256202    55          4082  3277.28985      im036    1638.813818\n",
       "256203    55          4083  3278.04045      im036    1639.143572\n",
       "256279    55          4159  3336.58835      im036    1668.582498\n",
       "256280    55          4160  3338.08957      im036    1669.150643\n",
       "256281    55          4161  3338.84018      im036    1669.528488\n",
       "256282    55          4162  3339.59079      im036    1669.929976\n",
       "256283    55          4163  3341.09205      im036    1670.662773\n",
       "256284    55          4164  3341.84267      im036    1671.084762\n",
       "256451    55          4331  3473.95063      im036    1737.139804\n",
       "256452    55          4332  3474.70126      im036    1737.459535\n",
       "256453    55          4333  3475.45192      im036    1737.817073\n",
       "256454    55          4334  3476.20252      im036    1738.250838\n",
       "256455    55          4335  3476.95315      im036    1738.563120\n",
       "256456    55          4336  3477.70374      im036    1738.939616\n",
       "256457    55          4337  3478.45443      im036    1739.344937\n",
       "256458    55          4338  3479.20499      im036    1739.695837\n",
       "256459    55          4339  3479.95565      im036    1740.076831\n",
       "256460    55          4340  3480.70615      im036    1740.478323\n",
       "256461    55          4341  3481.45685      im036    1740.805009\n",
       "\n",
       "[544 rows x 5 columns]"
      ]
     },
     "execution_count": 280,
     "metadata": {},
     "output_type": "execute_result"
    }
   ],
   "source": [
    "filtered = fdf[(fdf.cell==cell)&(fdf.image_name==image_name)]\n",
    "filtered"
   ]
  },
  {
   "cell_type": "code",
   "execution_count": 286,
   "metadata": {
    "collapsed": false
   },
   "outputs": [
    {
     "name": "stdout",
     "output_type": "stream",
     "text": [
      "mean response =  934.11872634\n"
     ]
    }
   ],
   "source": [
    "mean = filtered.mean_response.mean()\n",
    "print 'mean response =',mean"
   ]
  },
  {
   "cell_type": "code",
   "execution_count": 288,
   "metadata": {
    "collapsed": false
   },
   "outputs": [
    {
     "name": "stdout",
     "output_type": "stream",
     "text": [
      "standard error of the mean =  20.3104297951\n"
     ]
    }
   ],
   "source": [
    "from scipy.stats import sem\n",
    "std_err = sem(filtered.mean_response.values)\n",
    "print 'standard error of the mean =',std_err"
   ]
  },
  {
   "cell_type": "markdown",
   "metadata": {},
   "source": [
    "<div style=\"background: #DFF0D8; border-radius: 3px; padding: 10px;\">\n",
    "<p>**Exercise 4.5 (continued): Plot an image tuning curve from stimulus flashes**\n",
    "\n",
    "<p>Loop through all images and plot the mean and standard error for each image to make a tuning curve\n",
    "\n",
    "<p>Hint: Use plt.errorbar() in addition to plt.plot()\n",
    "</div>"
   ]
  },
  {
   "cell_type": "code",
   "execution_count": 294,
   "metadata": {
    "collapsed": false
   },
   "outputs": [
    {
     "data": {
      "image/png": "[encoded data removed]",
      "text/plain": [
       "<matplotlib.figure.Figure at 0x58e56748>"
      ]
     },
     "metadata": {},
     "output_type": "display_data"
    }
   ],
   "source": [
    "images = fdf.image_name.unique()\n",
    "for i,image_name in enumerate(images): \n",
    "    responses = fdf[(fdf.cell==cell)&(fdf.image_name==image_name)].mean_response.values\n",
    "    mean_response = np.mean(responses)\n",
    "    std_err = sem(responses)\n",
    "\n",
    "    plt.plot(i,mean_response,'o',color='k')\n",
    "    plt.errorbar(i,mean_response,yerr=std_err,color='k')\n",
    "plt.ylabel('mean dF/F')\n",
    "plt.xlabel('image')\n",
    "plt.xticks(np.arange(0,len(images),1),images,rotation=90)\n"
   ]
  },
  {
   "cell_type": "markdown",
   "metadata": {},
   "source": [
    "<div style=\"border-left: 3px solid #000; padding: 1px; padding-left: 10px; background: #F0FAFF; \">\n",
    "<h3> Computing image selectivity </h3>\n",
    "<p>'lifetime sparseness' is a metric for how selective and sparse a cell's activity is across conditions. A high value of this metric indicates high selectivity, a differential response to one or a few stimulus conditions over others. A low value of this metric indicates a similar response across all conditions. \n",
    "\n",
    "<p>We can compute this metric for single cells, and also take the mean across a population. Before taking the mean, we first want to filter out cells that do not have a signficant image response, because we dont want our estimate of this metric to be dominated by noise. \n",
    "</div>"
   ]
  },
  {
   "cell_type": "markdown",
   "metadata": {},
   "source": [
    "<div style=\"background: #DFF0D8; border-radius: 3px; padding: 10px;\">\n",
    "<p>**Exercise 5.1: Compute lifetime sparseness for a single cell**\n",
    "    \n",
    "<p>First, get the mean response for each image for your cell, and save as an array (length should equal the number of images) \n",
    "\n",
    "<p>Use the function below to compute the lifetime sparsness metric for your cell. \n",
    "\n",
    "<p>Plot the tuning curve for this cell again, now with the value of lifetime sparseness as the title\n",
    "\n",
    "<p> How selective is this cell? Try another cell for comparison. \n",
    "</div>"
   ]
  },
  {
   "cell_type": "code",
   "execution_count": 299,
   "metadata": {
    "collapsed": true
   },
   "outputs": [],
   "source": [
    "def compute_lifetime_sparseness(image_responses):\n",
    "    # image responses should be an array of the trial averaged responses to each image, for some condition (ex: go trials only, engaged/disengaged etc)\n",
    "    # sparseness = 1-(sum of trial averaged responses to images / N)squared / (sum of (squared mean responses / n)) / (1-(1/N))\n",
    "    # N = number of images\n",
    "    # after Vinje & Gallant, 2000; Froudarakis et al., 2014\n",
    "    N = float(len(image_responses))\n",
    "    ls = ((1-(1/N) * ((np.power(image_responses.sum(axis=0),2)) / (np.power(image_responses,2).sum(axis=0)))) / (1-(1/N)))\n",
    "    return ls"
   ]
  },
  {
   "cell_type": "code",
   "execution_count": 302,
   "metadata": {
    "collapsed": true
   },
   "outputs": [],
   "source": [
    "images = fdf.image_name.unique()\n",
    "image_responses = []\n",
    "for i,image_name in enumerate(images): \n",
    "    responses = fdf[(fdf.cell==cell)&(fdf.image_name==image_name)].mean_response.values\n",
    "    mean_response = np.mean(responses)\n",
    "    image_responses.append(mean_response)\n",
    "image_responses = np.asarray(image_responses)"
   ]
  },
  {
   "cell_type": "code",
   "execution_count": 309,
   "metadata": {
    "collapsed": false
   },
   "outputs": [
    {
     "name": "stdout",
     "output_type": "stream",
     "text": [
      "0.00290235189137\n"
     ]
    }
   ],
   "source": [
    "ls = compute_lifetime_sparseness(image_responses)\n",
    "print ls"
   ]
  },
  {
   "cell_type": "code",
   "execution_count": 328,
   "metadata": {
    "collapsed": false
   },
   "outputs": [
    {
     "data": {
      "text/plain": [
       "<matplotlib.text.Text at 0x5b9590b8>"
      ]
     },
     "execution_count": 328,
     "metadata": {},
     "output_type": "execute_result"
    },
    {
     "data": {
      "image/png": "[encoded data removed]",
      "text/plain": [
       "<matplotlib.figure.Figure at 0x5a5d3c88>"
      ]
     },
     "metadata": {},
     "output_type": "display_data"
    }
   ],
   "source": [
    "cell = 12\n",
    "images = fdf.image_name.unique()\n",
    "image_responses = []\n",
    "for i,image_name in enumerate(images): \n",
    "    responses = fdf[(fdf.cell==cell)&(fdf.image_name==image_name)].mean_response.values\n",
    "    mean_response = np.mean(responses)\n",
    "    std_err = sem(responses)\n",
    "    \n",
    "    image_responses.append(mean_response)\n",
    "    \n",
    "    plt.plot(i,mean_response,'o',color='k')\n",
    "    plt.errorbar(i,mean_response,yerr=std_err,color='k')\n",
    "plt.ylabel('mean dF/F')\n",
    "plt.xlabel('image')\n",
    "plt.xticks(np.arange(0,len(images),1),images,rotation=90);\n",
    "\n",
    "ls = compute_lifetime_sparseness(np.asarray(image_responses))\n",
    "plt.title(np.round(ls,4))"
   ]
  },
  {
   "cell_type": "markdown",
   "metadata": {},
   "source": [
    "<div style=\"background: #DFF0D8; border-radius: 3px; padding: 10px;\">\n",
    "<p>**Exercise 5.2: Identify cells with a significant image response**\n",
    "    \n",
    "<p> \n",
    "</div>"
   ]
  },
  {
   "cell_type": "markdown",
   "metadata": {},
   "source": [
    "<div style=\"background: #DFF0D8; border-radius: 3px; padding: 10px;\">\n",
    "<p>**Exercise 5.3: Compute lifetime sparseness for responsive cells and take the mean**\n",
    "    \n",
    "<p> \n",
    "</div>"
   ]
  },
  {
   "cell_type": "code",
   "execution_count": null,
   "metadata": {
    "collapsed": true
   },
   "outputs": [],
   "source": []
  },
  {
   "cell_type": "markdown",
   "metadata": {},
   "source": [
    "Projects: \n",
    "* selectivity by image set or area (for Slc)\n",
    "* selectivity by task engagement\n",
    "* selectivity by trial type, flashes \n",
    "* choice probability - hit/miss differences \n",
    "* motor signals - modulation by running & licking \n",
    "* flash-wise analysis - adaptation, facilitation, expectation \n",
    "* time to peak - response types \n",
    "* functional clustering on response profiles \n",
    "* omitted flashes "
   ]
  },
  {
   "cell_type": "code",
   "execution_count": null,
   "metadata": {
    "collapsed": true
   },
   "outputs": [],
   "source": []
  }
 ],
 "metadata": {
  "anaconda-cloud": {},
  "kernelspec": {
   "display_name": "Python 2",
   "language": "python",
   "name": "python2"
  },
  "language_info": {
   "codemirror_mode": {
    "name": "ipython",
    "version": 2
   },
   "file_extension": ".py",
   "mimetype": "text/x-python",
   "name": "python",
   "nbconvert_exporter": "python",
   "pygments_lexer": "ipython2",
   "version": "2.7.13"
  }
 },
 "nbformat": 4,
 "nbformat_minor": 0
}
