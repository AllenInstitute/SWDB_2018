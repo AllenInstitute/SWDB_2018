{
 "cells": [
  {
   "cell_type": "markdown",
   "metadata": {},
   "source": [
    "<img src=\"../resources/cropped-SummerWorkshop_Header.png\">  \n",
    "\n",
    "<h1 align=\"center\">SWDB, August 19-September 2, 2018</h1> \n",
    "<h3 align=\"center\"></h3> "
   ]
  },
  {
   "cell_type": "markdown",
   "metadata": {},
   "source": [
    "<h1 align=\"center\"> Dataset 3: Neuropixels Extracellular Electrophysiology</h1> \n",
    "<h3 align=\"center\">Wednesday, August 22, 2018</h3> \n",
    "# <img src=\"../resources/EphysObservatory/neuropixels.png\" height=\"250\" width=\"250\">  \n"
   ]
  },
  {
   "cell_type": "markdown",
   "metadata": {},
   "source": [
    "<div style=\"border-left: 3px solid #000; padding: 1px; padding-left: 10px; background: #F0FAFF; \">\n",
    "\n",
    "<p>This notebook will introduce you to Neuropixels spiking datasets. We will describe the basic structure of the data and then walk through basic analysis methods for accesssing, analyzing, and visualizing spike train data."
   ]
  },
  {
   "cell_type": "markdown",
   "metadata": {},
   "source": [
    "<div style=\"border-left: 3px solid #000; padding: 1px; padding-left: 10px; background: #F0FAFF; \">\n",
    "\n",
    "** Datasets:**\n",
    "* extracellular action potential recordings\n",
    "* populations of single neurons in mouse brain\n",
    "* passive visual stimulation in awake mouse\n",
    "* battery of stimuli including drifting gratings and natural scenes"
   ]
  },
  {
   "cell_type": "markdown",
   "metadata": {},
   "source": [
    "<div style=\"border-left: 3px solid #000; padding: 1px; padding-left: 10px; background: #F0FAFF; \">\n",
    "\n",
    "**Note:**\n",
    "\n",
    "These pre-release datasets were collected during piloting for our new Ephys Brain Observatory. Pipeline data collection has just begun (August 2018) and production data will be released online in 2019."
   ]
  },
  {
   "cell_type": "markdown",
   "metadata": {},
   "source": [
    "<div style=\"border-left: 3px solid #000; padding: 1px; padding-left: 10px; background: #F0FAFF; \">\n",
    "\n",
    "<p>** Today's Agenda:**\n",
    "<p>1. Overview of Neuropixels spiking datasets    \n",
    "<p>2. Analysis and visualization of stimulus-evoked activity\n",
    "<p>3. Correlations and cross-correlogram\n",
    "<p>4. Waveform and spike pattern analysis for cell classification\n",
    "<p>5. Project ideas\n",
    "\n",
    "</div>"
   ]
  },
  {
   "cell_type": "markdown",
   "metadata": {},
   "source": [
    "<div style=\"border-left: 3px solid #000; padding: 1px; padding-left: 10px; background: #F0FAFF; \">\n",
    "\n",
    "## Drive path and imports"
   ]
  },
  {
   "cell_type": "code",
   "execution_count": 1,
   "metadata": {},
   "outputs": [],
   "source": [
    "#make sure your drive path is correct! \n",
    "# macOS/OS X\n",
    "#drive_path = '/Volumes/Brain2017/data/dynamic-brain-workshop/brain_observatory_cache/'\n",
    "\n",
    "# Windows (a good guess)\n",
    "# drive_path = 'e:/data/dynamic-brain-workshop/brain_observatory_cache'\n",
    "\n",
    "# Linux (will vary; the following is possibly what Ubuntu will do)\n",
    "# drive_path = '/media/Brain2017/data/dynamic-brain-workshop/brain_observatory_cache'\n",
    "\n",
    "# AWS\n",
    "# drive_path = '/data/dynamic-brain-workshop/brain_observatory_cache/'\n",
    "\n",
    "#AIBS\n",
    "drive_path = '/allen/aibs/informatics/swdb2018/visual_coding_neuropixels/2018_08_02'\n",
    "manifest_path = '/allen/aibs/informatics/swdb2018/visual_coding_neuropixels/2018_08_02'"
   ]
  },
  {
   "cell_type": "code",
   "execution_count": 2,
   "metadata": {},
   "outputs": [],
   "source": [
    "# We need to import these modules to get started\n",
    "import numpy as np\n",
    "import pandas as pd\n",
    "import os\n",
    "import matplotlib.pyplot as plt\n",
    "%matplotlib inline"
   ]
  },
  {
   "cell_type": "markdown",
   "metadata": {},
   "source": [
    "<div style=\"border-left: 3px solid #000; padding: 1px; padding-left: 10px; background: #F0FAFF; \">\n",
    "\n",
    "# 1. Overview of datasets\n",
    "\n",
    "** Brain areas:**\n",
    "* Single-probe experiments: VISp\n",
    "* Multi-probe experiments: VIPp + higher visual areas (VISam, VISpm, VISrl, VISl, VISal)\n",
    "\n",
    "** Visual stimuli:**\n",
    "* Passive visual stimulation using Brain Observatory - Visual Coding 1.1, 1.2 stimulus sets"
   ]
  },
  {
   "cell_type": "code",
   "execution_count": 3,
   "metadata": {},
   "outputs": [
    {
     "data": {
      "text/html": [
       "<div>\n",
       "<style scoped>\n",
       "    .dataframe tbody tr th:only-of-type {\n",
       "        vertical-align: middle;\n",
       "    }\n",
       "\n",
       "    .dataframe tbody tr th {\n",
       "        vertical-align: top;\n",
       "    }\n",
       "\n",
       "    .dataframe thead th {\n",
       "        text-align: right;\n",
       "    }\n",
       "</style>\n",
       "<table border=\"1\" class=\"dataframe\">\n",
       "  <thead>\n",
       "    <tr style=\"text-align: right;\">\n",
       "      <th></th>\n",
       "      <th>nwb_filename</th>\n",
       "      <th>experiment_type</th>\n",
       "      <th>VISp</th>\n",
       "      <th>VISal</th>\n",
       "      <th>VISam</th>\n",
       "      <th>VISlm</th>\n",
       "      <th>VISpm</th>\n",
       "      <th>VISrl</th>\n",
       "      <th>locally_sparse_noise</th>\n",
       "      <th>gabor</th>\n",
       "      <th>drifting_gratings</th>\n",
       "      <th>static_gratings</th>\n",
       "      <th>natural_images</th>\n",
       "      <th>natural_movie_3</th>\n",
       "      <th>full_field_flashes</th>\n",
       "    </tr>\n",
       "  </thead>\n",
       "  <tbody>\n",
       "    <tr>\n",
       "      <th>0</th>\n",
       "      <td>nwb_M14_actual_ds2.nwb</td>\n",
       "      <td>single_probe</td>\n",
       "      <td>True</td>\n",
       "      <td>False</td>\n",
       "      <td>False</td>\n",
       "      <td>False</td>\n",
       "      <td>False</td>\n",
       "      <td>False</td>\n",
       "      <td>True</td>\n",
       "      <td>False</td>\n",
       "      <td>True</td>\n",
       "      <td>True</td>\n",
       "      <td>True</td>\n",
       "      <td>True</td>\n",
       "      <td>True</td>\n",
       "    </tr>\n",
       "    <tr>\n",
       "      <th>1</th>\n",
       "      <td>nwb_M15_actual_ds2.nwb</td>\n",
       "      <td>single_probe</td>\n",
       "      <td>True</td>\n",
       "      <td>False</td>\n",
       "      <td>False</td>\n",
       "      <td>False</td>\n",
       "      <td>False</td>\n",
       "      <td>False</td>\n",
       "      <td>True</td>\n",
       "      <td>False</td>\n",
       "      <td>True</td>\n",
       "      <td>True</td>\n",
       "      <td>True</td>\n",
       "      <td>True</td>\n",
       "      <td>True</td>\n",
       "    </tr>\n",
       "    <tr>\n",
       "      <th>2</th>\n",
       "      <td>nwb_M16_actual_ds2.nwb</td>\n",
       "      <td>single_probe</td>\n",
       "      <td>True</td>\n",
       "      <td>False</td>\n",
       "      <td>False</td>\n",
       "      <td>False</td>\n",
       "      <td>False</td>\n",
       "      <td>False</td>\n",
       "      <td>True</td>\n",
       "      <td>False</td>\n",
       "      <td>True</td>\n",
       "      <td>True</td>\n",
       "      <td>True</td>\n",
       "      <td>True</td>\n",
       "      <td>True</td>\n",
       "    </tr>\n",
       "    <tr>\n",
       "      <th>3</th>\n",
       "      <td>nwb_M39_actual_ds2.nwb</td>\n",
       "      <td>single_probe</td>\n",
       "      <td>True</td>\n",
       "      <td>False</td>\n",
       "      <td>False</td>\n",
       "      <td>False</td>\n",
       "      <td>False</td>\n",
       "      <td>False</td>\n",
       "      <td>True</td>\n",
       "      <td>False</td>\n",
       "      <td>True</td>\n",
       "      <td>True</td>\n",
       "      <td>True</td>\n",
       "      <td>True</td>\n",
       "      <td>True</td>\n",
       "    </tr>\n",
       "    <tr>\n",
       "      <th>4</th>\n",
       "      <td>nwb_M51_actual_ds2.nwb</td>\n",
       "      <td>single_probe</td>\n",
       "      <td>True</td>\n",
       "      <td>False</td>\n",
       "      <td>False</td>\n",
       "      <td>False</td>\n",
       "      <td>False</td>\n",
       "      <td>False</td>\n",
       "      <td>True</td>\n",
       "      <td>False</td>\n",
       "      <td>True</td>\n",
       "      <td>True</td>\n",
       "      <td>True</td>\n",
       "      <td>True</td>\n",
       "      <td>True</td>\n",
       "    </tr>\n",
       "    <tr>\n",
       "      <th>5</th>\n",
       "      <td>mouse372584_probe_surf_bob.nwb</td>\n",
       "      <td>multi_probe</td>\n",
       "      <td>True</td>\n",
       "      <td>True</td>\n",
       "      <td>True</td>\n",
       "      <td>True</td>\n",
       "      <td>True</td>\n",
       "      <td>True</td>\n",
       "      <td>True</td>\n",
       "      <td>True</td>\n",
       "      <td>True</td>\n",
       "      <td>True</td>\n",
       "      <td>True</td>\n",
       "      <td>True</td>\n",
       "      <td>True</td>\n",
       "    </tr>\n",
       "    <tr>\n",
       "      <th>6</th>\n",
       "      <td>mouse387858.spikes.nwb</td>\n",
       "      <td>multi_probe</td>\n",
       "      <td>True</td>\n",
       "      <td>True</td>\n",
       "      <td>True</td>\n",
       "      <td>True</td>\n",
       "      <td>True</td>\n",
       "      <td>True</td>\n",
       "      <td>False</td>\n",
       "      <td>True</td>\n",
       "      <td>True</td>\n",
       "      <td>True</td>\n",
       "      <td>True</td>\n",
       "      <td>True</td>\n",
       "      <td>True</td>\n",
       "    </tr>\n",
       "    <tr>\n",
       "      <th>7</th>\n",
       "      <td>mouse384647.spikes.nwb</td>\n",
       "      <td>multi_probe</td>\n",
       "      <td>True</td>\n",
       "      <td>True</td>\n",
       "      <td>False</td>\n",
       "      <td>True</td>\n",
       "      <td>True</td>\n",
       "      <td>True</td>\n",
       "      <td>False</td>\n",
       "      <td>True</td>\n",
       "      <td>True</td>\n",
       "      <td>True</td>\n",
       "      <td>True</td>\n",
       "      <td>True</td>\n",
       "      <td>True</td>\n",
       "    </tr>\n",
       "    <tr>\n",
       "      <th>8</th>\n",
       "      <td>mouse388521.spikes.nwb</td>\n",
       "      <td>multi_probe</td>\n",
       "      <td>True</td>\n",
       "      <td>False</td>\n",
       "      <td>True</td>\n",
       "      <td>True</td>\n",
       "      <td>True</td>\n",
       "      <td>False</td>\n",
       "      <td>False</td>\n",
       "      <td>True</td>\n",
       "      <td>True</td>\n",
       "      <td>True</td>\n",
       "      <td>True</td>\n",
       "      <td>True</td>\n",
       "      <td>True</td>\n",
       "    </tr>\n",
       "  </tbody>\n",
       "</table>\n",
       "</div>"
      ],
      "text/plain": [
       "                     nwb_filename experiment_type  VISp  VISal  VISam  VISlm  \\\n",
       "0          nwb_M14_actual_ds2.nwb    single_probe  True  False  False  False   \n",
       "1          nwb_M15_actual_ds2.nwb    single_probe  True  False  False  False   \n",
       "2          nwb_M16_actual_ds2.nwb    single_probe  True  False  False  False   \n",
       "3          nwb_M39_actual_ds2.nwb    single_probe  True  False  False  False   \n",
       "4          nwb_M51_actual_ds2.nwb    single_probe  True  False  False  False   \n",
       "5  mouse372584_probe_surf_bob.nwb     multi_probe  True   True   True   True   \n",
       "6          mouse387858.spikes.nwb     multi_probe  True   True   True   True   \n",
       "7          mouse384647.spikes.nwb     multi_probe  True   True  False   True   \n",
       "8          mouse388521.spikes.nwb     multi_probe  True  False   True   True   \n",
       "\n",
       "   VISpm  VISrl  locally_sparse_noise  gabor  drifting_gratings  \\\n",
       "0  False  False                  True  False               True   \n",
       "1  False  False                  True  False               True   \n",
       "2  False  False                  True  False               True   \n",
       "3  False  False                  True  False               True   \n",
       "4  False  False                  True  False               True   \n",
       "5   True   True                  True   True               True   \n",
       "6   True   True                 False   True               True   \n",
       "7   True   True                 False   True               True   \n",
       "8   True  False                 False   True               True   \n",
       "\n",
       "   static_gratings  natural_images  natural_movie_3  full_field_flashes  \n",
       "0             True            True             True                True  \n",
       "1             True            True             True                True  \n",
       "2             True            True             True                True  \n",
       "3             True            True             True                True  \n",
       "4             True            True             True                True  \n",
       "5             True            True             True                True  \n",
       "6             True            True             True                True  \n",
       "7             True            True             True                True  \n",
       "8             True            True             True                True  "
      ]
     },
     "execution_count": 3,
     "metadata": {},
     "output_type": "execute_result"
    }
   ],
   "source": [
    "#Provide path to manifest file\n",
    "manifest_file = os.path.join(manifest_path,'ecephys_manifest.csv')\n",
    "\n",
    "#Create a dataframe \n",
    "expt_info_df = pd.read_csv(manifest_file)\n",
    "\n",
    "#Display information contained in the dataframe\n",
    "expt_info_df"
   ]
  },
  {
   "cell_type": "code",
   "execution_count": 4,
   "metadata": {},
   "outputs": [
    {
     "name": "stdout",
     "output_type": "stream",
     "text": [
      "Number of single-probe experiments: 5\n"
     ]
    },
    {
     "data": {
      "text/html": [
       "<div>\n",
       "<style scoped>\n",
       "    .dataframe tbody tr th:only-of-type {\n",
       "        vertical-align: middle;\n",
       "    }\n",
       "\n",
       "    .dataframe tbody tr th {\n",
       "        vertical-align: top;\n",
       "    }\n",
       "\n",
       "    .dataframe thead th {\n",
       "        text-align: right;\n",
       "    }\n",
       "</style>\n",
       "<table border=\"1\" class=\"dataframe\">\n",
       "  <thead>\n",
       "    <tr style=\"text-align: right;\">\n",
       "      <th></th>\n",
       "      <th>nwb_filename</th>\n",
       "      <th>experiment_type</th>\n",
       "      <th>VISp</th>\n",
       "      <th>VISal</th>\n",
       "      <th>VISam</th>\n",
       "      <th>VISlm</th>\n",
       "      <th>VISpm</th>\n",
       "      <th>VISrl</th>\n",
       "      <th>locally_sparse_noise</th>\n",
       "      <th>gabor</th>\n",
       "      <th>drifting_gratings</th>\n",
       "      <th>static_gratings</th>\n",
       "      <th>natural_images</th>\n",
       "      <th>natural_movie_3</th>\n",
       "      <th>full_field_flashes</th>\n",
       "    </tr>\n",
       "  </thead>\n",
       "  <tbody>\n",
       "    <tr>\n",
       "      <th>0</th>\n",
       "      <td>nwb_M14_actual_ds2.nwb</td>\n",
       "      <td>single_probe</td>\n",
       "      <td>True</td>\n",
       "      <td>False</td>\n",
       "      <td>False</td>\n",
       "      <td>False</td>\n",
       "      <td>False</td>\n",
       "      <td>False</td>\n",
       "      <td>True</td>\n",
       "      <td>False</td>\n",
       "      <td>True</td>\n",
       "      <td>True</td>\n",
       "      <td>True</td>\n",
       "      <td>True</td>\n",
       "      <td>True</td>\n",
       "    </tr>\n",
       "    <tr>\n",
       "      <th>1</th>\n",
       "      <td>nwb_M15_actual_ds2.nwb</td>\n",
       "      <td>single_probe</td>\n",
       "      <td>True</td>\n",
       "      <td>False</td>\n",
       "      <td>False</td>\n",
       "      <td>False</td>\n",
       "      <td>False</td>\n",
       "      <td>False</td>\n",
       "      <td>True</td>\n",
       "      <td>False</td>\n",
       "      <td>True</td>\n",
       "      <td>True</td>\n",
       "      <td>True</td>\n",
       "      <td>True</td>\n",
       "      <td>True</td>\n",
       "    </tr>\n",
       "    <tr>\n",
       "      <th>2</th>\n",
       "      <td>nwb_M16_actual_ds2.nwb</td>\n",
       "      <td>single_probe</td>\n",
       "      <td>True</td>\n",
       "      <td>False</td>\n",
       "      <td>False</td>\n",
       "      <td>False</td>\n",
       "      <td>False</td>\n",
       "      <td>False</td>\n",
       "      <td>True</td>\n",
       "      <td>False</td>\n",
       "      <td>True</td>\n",
       "      <td>True</td>\n",
       "      <td>True</td>\n",
       "      <td>True</td>\n",
       "      <td>True</td>\n",
       "    </tr>\n",
       "    <tr>\n",
       "      <th>3</th>\n",
       "      <td>nwb_M39_actual_ds2.nwb</td>\n",
       "      <td>single_probe</td>\n",
       "      <td>True</td>\n",
       "      <td>False</td>\n",
       "      <td>False</td>\n",
       "      <td>False</td>\n",
       "      <td>False</td>\n",
       "      <td>False</td>\n",
       "      <td>True</td>\n",
       "      <td>False</td>\n",
       "      <td>True</td>\n",
       "      <td>True</td>\n",
       "      <td>True</td>\n",
       "      <td>True</td>\n",
       "      <td>True</td>\n",
       "    </tr>\n",
       "    <tr>\n",
       "      <th>4</th>\n",
       "      <td>nwb_M51_actual_ds2.nwb</td>\n",
       "      <td>single_probe</td>\n",
       "      <td>True</td>\n",
       "      <td>False</td>\n",
       "      <td>False</td>\n",
       "      <td>False</td>\n",
       "      <td>False</td>\n",
       "      <td>False</td>\n",
       "      <td>True</td>\n",
       "      <td>False</td>\n",
       "      <td>True</td>\n",
       "      <td>True</td>\n",
       "      <td>True</td>\n",
       "      <td>True</td>\n",
       "      <td>True</td>\n",
       "    </tr>\n",
       "  </tbody>\n",
       "</table>\n",
       "</div>"
      ],
      "text/plain": [
       "             nwb_filename experiment_type  VISp  VISal  VISam  VISlm  VISpm  \\\n",
       "0  nwb_M14_actual_ds2.nwb    single_probe  True  False  False  False  False   \n",
       "1  nwb_M15_actual_ds2.nwb    single_probe  True  False  False  False  False   \n",
       "2  nwb_M16_actual_ds2.nwb    single_probe  True  False  False  False  False   \n",
       "3  nwb_M39_actual_ds2.nwb    single_probe  True  False  False  False  False   \n",
       "4  nwb_M51_actual_ds2.nwb    single_probe  True  False  False  False  False   \n",
       "\n",
       "   VISrl  locally_sparse_noise  gabor  drifting_gratings  static_gratings  \\\n",
       "0  False                  True  False               True             True   \n",
       "1  False                  True  False               True             True   \n",
       "2  False                  True  False               True             True   \n",
       "3  False                  True  False               True             True   \n",
       "4  False                  True  False               True             True   \n",
       "\n",
       "   natural_images  natural_movie_3  full_field_flashes  \n",
       "0            True             True                True  \n",
       "1            True             True                True  \n",
       "2            True             True                True  \n",
       "3            True             True                True  \n",
       "4            True             True                True  "
      ]
     },
     "execution_count": 4,
     "metadata": {},
     "output_type": "execute_result"
    }
   ],
   "source": [
    "# Make new dataframe by selecting only single-probe experiments\n",
    "single_probe_expt_info = expt_info_df[expt_info_df.experiment_type == 'single_probe']\n",
    "\n",
    "print('Number of single-probe experiments: %s') %len(single_probe_expt_info)\n",
    "\n",
    "#Display information about single probe expts\n",
    "single_probe_expt_info"
   ]
  },
  {
   "cell_type": "markdown",
   "metadata": {},
   "source": [
    "<div style=\"background: #DFF0D8; border-radius: 3px; padding: 10px;\">\n",
    "**Task 1.1:** Make a dataframe for 'multi_probe' experiments. "
   ]
  },
  {
   "cell_type": "code",
   "execution_count": null,
   "metadata": {},
   "outputs": [],
   "source": []
  },
  {
   "cell_type": "markdown",
   "metadata": {},
   "source": [
    "<div style=\"background: #DFF0D8; border-radius: 3px; padding: 10px;\">\n",
    "**Task 1.2:** How many multi-probe experiments?"
   ]
  },
  {
   "cell_type": "code",
   "execution_count": null,
   "metadata": {},
   "outputs": [],
   "source": []
  },
  {
   "cell_type": "markdown",
   "metadata": {},
   "source": [
    "<div style=\"border-left: 3px solid #000; padding: 1px; padding-left: 10px; background: #F0FAFF; \">\n",
    "\n",
    "### Load dataset for one multi-probe experiment using NWB file adapter\n",
    "\n",
    "* Datasets are stored as NWB1.0 files which is based on HDF5 file format\n",
    "* To facilitate access to these files we have built a light-weight adapter object (NWB_adapter)\n",
    "* The NWB_adapter provides easy access to unit spike times and stimulus presentation metadata"
   ]
  },
  {
   "cell_type": "code",
   "execution_count": 5,
   "metadata": {},
   "outputs": [],
   "source": [
    "# Temporary \n",
    "#sys.path.append(\"/Users/shawn/Dropbox/PythonCode/ephys_swdb2018\")\n",
    "#from ephys_nwb_adapter import NWB_adapter\n",
    "%load_ext autoreload\n",
    "%autoreload 2"
   ]
  },
  {
   "cell_type": "code",
   "execution_count": 6,
   "metadata": {},
   "outputs": [
    {
     "name": "stderr",
     "output_type": "stream",
     "text": [
      "/home/rami/anaconda2/lib/python2.7/site-packages/h5py/__init__.py:36: FutureWarning: Conversion of the second argument of issubdtype from `float` to `np.floating` is deprecated. In future, it will be treated as `np.float64 == np.dtype(float).type`.\n",
      "  from ._conv import register_converters as _register_converters\n"
     ]
    }
   ],
   "source": [
    "# Import NWB_adapter\n",
    "from swdb_2018_neuropixels.ephys_nwb_adapter_debug import NWB_adapter"
   ]
  },
  {
   "cell_type": "code",
   "execution_count": 7,
   "metadata": {},
   "outputs": [],
   "source": [
    "# Temporary - NWB_file names should come from manifest dataframe\n",
    "\n",
    "#nwb_file = '/Users/shawn/Dropbox/DataSets/FHL 2018 TMP/mouse387858.spikes.nwb'\n",
    "#nwb_file = os.path.join(drive_path,'mouse372584_probe_surf_bob.nwb')\n",
    "nwb_file = os.path.join(drive_path,'mouse387858.spikes.nwb')\n",
    "#nwb_file = os.path.join(drive_path,'mouse388521_draft.nwb')\n",
    "#nwb_file = os.path.join(drive_path,'nwb_M15_actual_ds2.nwb')\n",
    "#nwb_file = os.path.join(drive_path,'nwb_M51_actual_ds2.nwb')"
   ]
  },
  {
   "cell_type": "code",
   "execution_count": 8,
   "metadata": {},
   "outputs": [
    {
     "name": "stdout",
     "output_type": "stream",
     "text": [
      "natural_scenes\n",
      "drifting_gratings\n",
      "flash_250ms\n",
      "gabor_20_deg_250ms\n",
      "natural_movie_1\n",
      "natural_movie_3\n",
      "static_gratings\n"
     ]
    }
   ],
   "source": [
    "data_set = NWB_adapter(nwb_file)"
   ]
  },
  {
   "cell_type": "markdown",
   "metadata": {},
   "source": [
    "<div style=\"background: #DFF0D8; border-radius: 3px; padding: 10px;\">\n",
    "**Task 1.3:** What are the attributes of the data_set object? Use either `dir` or tab-completion to find out what methods and info the `data_set` object has."
   ]
  },
  {
   "cell_type": "code",
   "execution_count": 9,
   "metadata": {},
   "outputs": [],
   "source": [
    "# data_set.  \"tab completion\""
   ]
  },
  {
   "cell_type": "markdown",
   "metadata": {},
   "source": [
    "<div style=\"background: #DFF0D8; border-radius: 3px; padding: 10px;\">\n",
    "**Task 1.4:** Which area has the most recorded units in this experiment? Hint: Look at number_cells attribute."
   ]
  },
  {
   "cell_type": "code",
   "execution_count": 10,
   "metadata": {},
   "outputs": [
    {
     "data": {
      "text/plain": [
       "{'VISal': 194,\n",
       " 'VISam': 178,\n",
       " 'VISl': 181,\n",
       " 'VISp': 307,\n",
       " 'VISpm': 286,\n",
       " 'VISrl': 56}"
      ]
     },
     "execution_count": 10,
     "metadata": {},
     "output_type": "execute_result"
    }
   ],
   "source": [
    "data_set.number_cells"
   ]
  },
  {
   "cell_type": "markdown",
   "metadata": {},
   "source": [
    "<div style=\"border-left: 3px solid #000; padding: 1px; padding-left: 10px; background: #F0FAFF; \">\n",
    "### Spike times"
   ]
  },
  {
   "cell_type": "markdown",
   "metadata": {},
   "source": [
    "<div style=\"border-left: 3px solid #000; padding: 1px; padding-left: 10px; background: #F0FAFF; \">\n",
    "#### Look at spike_times in the data_set object. It is a dictionary with areas as keys"
   ]
  },
  {
   "cell_type": "code",
   "execution_count": 11,
   "metadata": {},
   "outputs": [],
   "source": [
    "# Get all spike times from V1 units\n",
    "v1_spikes = data_set.spike_times['VISp']"
   ]
  },
  {
   "cell_type": "code",
   "execution_count": 12,
   "metadata": {},
   "outputs": [
    {
     "data": {
      "text/plain": [
       "['216', '217', '214', '215', '212']"
      ]
     },
     "execution_count": 12,
     "metadata": {},
     "output_type": "execute_result"
    }
   ],
   "source": [
    "# v1_spikes is a dictionary with unit IDs as keys\n",
    "v1_spikes.keys()[:5]"
   ]
  },
  {
   "cell_type": "markdown",
   "metadata": {},
   "source": [
    "<div style=\"background: #DFF0D8; border-radius: 3px; padding: 10px;\">\n",
    "** Task 1.5:** How many units were recorded in V1 in this experiment?"
   ]
  },
  {
   "cell_type": "code",
   "execution_count": 13,
   "metadata": {},
   "outputs": [
    {
     "data": {
      "text/plain": [
       "307"
      ]
     },
     "execution_count": 13,
     "metadata": {},
     "output_type": "execute_result"
    }
   ],
   "source": [
    "len(v1_spikes.keys())"
   ]
  },
  {
   "cell_type": "markdown",
   "metadata": {},
   "source": [
    "<div style=\"border-left: 3px solid #000; padding: 1px; padding-left: 10px; background: #F0FAFF; \">\n",
    "#### unit_list stores unit IDs for each area"
   ]
  },
  {
   "cell_type": "code",
   "execution_count": 14,
   "metadata": {},
   "outputs": [],
   "source": [
    "# List of all units recorded in V1\n",
    "v1_unit_list = data_set.unit_list['VISp']"
   ]
  },
  {
   "cell_type": "markdown",
   "metadata": {},
   "source": [
    "<div style=\"background: #DFF0D8; border-radius: 3px; padding: 10px;\">\n",
    "** Task 1.6:** Print the unit ID for the first 20 units in v1_unit_list"
   ]
  },
  {
   "cell_type": "code",
   "execution_count": 15,
   "metadata": {},
   "outputs": [
    {
     "name": "stdout",
     "output_type": "stream",
     "text": [
      "['1' '2' '3' '5' '6' '7' '8' '9' '10' '11' '12' '13' '14' '15' '16' '17'\n",
      " '18' '19' '20' '21']\n"
     ]
    }
   ],
   "source": [
    "print(v1_unit_list[:20]) # print unit ID for first 20 units"
   ]
  },
  {
   "cell_type": "markdown",
   "metadata": {},
   "source": [
    "<div style=\"border-left: 3px solid #000; padding: 1px; padding-left: 10px; background: #F0FAFF; \">\n",
    "#### Get spike times from single unit in V1"
   ]
  },
  {
   "cell_type": "code",
   "execution_count": 16,
   "metadata": {},
   "outputs": [
    {
     "data": {
      "text/plain": [
       "array([ 1.31423276,  2.23433284,  2.70113288,  3.36893294,  3.47529961,\n",
       "        5.51523312,  7.3439666 ,  8.1714    , 11.24926693, 13.12006708,\n",
       "       14.07063383, 14.91986723, 15.94376732, 16.74150072, 17.09313408,\n",
       "       17.10163408, 17.56983412, 17.89743415, 17.94536749, 18.54510087])"
      ]
     },
     "execution_count": 16,
     "metadata": {},
     "output_type": "execute_result"
    }
   ],
   "source": [
    "spikes = v1_spikes[v1_unit_list[5]]\n",
    "spikes[:20]"
   ]
  },
  {
   "cell_type": "markdown",
   "metadata": {},
   "source": [
    "<div style=\"background: #DFF0D8; border-radius: 3px; padding: 10px;\">\n",
    "** Task 1.7:** How many spikes were recorded from the first unit in v1_unit_list"
   ]
  },
  {
   "cell_type": "code",
   "execution_count": 17,
   "metadata": {},
   "outputs": [
    {
     "data": {
      "text/plain": [
       "89614"
      ]
     },
     "execution_count": 17,
     "metadata": {},
     "output_type": "execute_result"
    }
   ],
   "source": [
    "len(spikes)"
   ]
  },
  {
   "cell_type": "markdown",
   "metadata": {},
   "source": [
    "<div style=\"background: #DFF0D8; border-radius: 3px; padding: 10px;\">\n",
    "** Exercise 1.1:** Plot a histogram showing spike count across the population of units recorded in V1. "
   ]
  },
  {
   "cell_type": "code",
   "execution_count": 18,
   "metadata": {
    "scrolled": true
   },
   "outputs": [
    {
     "data": {
      "text/plain": [
       "Text(0.5,0,u'number of spikes recorded')"
      ]
     },
     "execution_count": 18,
     "metadata": {},
     "output_type": "execute_result"
    },
    {
     "data": {
      "image/png": "[encoded data removed]",
      "text/plain": [
       "<matplotlib.figure.Figure at 0x7f297052ef10>"
      ]
     },
     "metadata": {},
     "output_type": "display_data"
    }
   ],
   "source": [
    "num_spikes = []\n",
    "for k,v in v1_spikes.iteritems():\n",
    "    num_spikes.append(len(v))\n",
    "plt.hist(num_spikes,bins=20);\n",
    "plt.ylabel('number of units')\n",
    "plt.xlabel('number of spikes recorded')"
   ]
  },
  {
   "cell_type": "markdown",
   "metadata": {},
   "source": [
    "<div style=\"border-left: 3px solid #000; padding: 1px; padding-left: 10px; background: #F0FAFF; \">\n",
    "\n",
    "### Raster plot of spikes over session"
   ]
  },
  {
   "cell_type": "markdown",
   "metadata": {},
   "source": [
    "<div style=\"border-left: 3px solid #000; padding: 1px; padding-left: 10px; background: #F0FAFF; \">\n",
    "#### Plot spike times from 1 neuron"
   ]
  },
  {
   "cell_type": "code",
   "execution_count": 20,
   "metadata": {},
   "outputs": [
    {
     "data": {
      "text/plain": [
       "Text(0.5,1,u'Spike train for 1 unit over first 5 minutes of experimental session')"
      ]
     },
     "execution_count": 20,
     "metadata": {},
     "output_type": "execute_result"
    },
    {
     "data": {
      "image/png": "[encoded data removed]",
      "text/plain": [
       "<matplotlib.figure.Figure at 0x7f2961a9f950>"
      ]
     },
     "metadata": {},
     "output_type": "display_data"
    }
   ],
   "source": [
    "# Make raster plot of single unit spike train for first 300 seconds of recording\n",
    "\n",
    "tst = 0\n",
    "tend = 300\n",
    "\n",
    "fig,ax = plt.subplots(1,1,figsize=(15,1))\n",
    "ax.plot(spikes,np.ones_like(spikes),'|')\n",
    "ax.set_xlim(tst,tend)\n",
    "\n",
    "ax.set_xlabel('time (s)')\n",
    "ax.set_title('Spike train for 1 unit over first 5 minutes of experimental session')"
   ]
  },
  {
   "cell_type": "markdown",
   "metadata": {},
   "source": [
    "<div style=\"background: #DFF0D8; border-radius: 3px; padding: 10px;\">\n",
    "** Exercise 1.2**  Plot spike train for last 300 seconds of experiment. Hint: Use the stim_blocks dataframe to determine the time of last stimulus block."
   ]
  },
  {
   "cell_type": "code",
   "execution_count": 21,
   "metadata": {},
   "outputs": [],
   "source": [
    "#data_set.stim_blocks.tail()"
   ]
  },
  {
   "cell_type": "code",
   "execution_count": 22,
   "metadata": {},
   "outputs": [],
   "source": [
    "# end_time = data_set.stim_blocks.iloc[-1].end\n",
    "\n",
    "# # Make raster plot of single unit spike train for first 600 seconds of recording\n",
    "# fig,ax = plt.subplots(1,1,figsize=(15,1))\n",
    "# ax.plot(spikes,np.ones_like(spikes),'|')\n",
    "# ax.set_xlim(end_time-300,end_time)\n",
    "\n",
    "# ax.set_xlabel('time (s)')\n",
    "# ax.set_title('Spike train for 1 unit over first 10 minutes of experimental session')"
   ]
  },
  {
   "cell_type": "markdown",
   "metadata": {},
   "source": [
    "<div style=\"border-left: 3px solid #000; padding: 1px; padding-left: 10px; background: #F0FAFF; \">\n",
    "#### Plot spike times from 50 neurons"
   ]
  },
  {
   "cell_type": "code",
   "execution_count": 23,
   "metadata": {},
   "outputs": [
    {
     "data": {
      "text/plain": [
       "array(['1', '2', '3', '5', '6', '7', '8', '9', '10', '11', '12', '13',\n",
       "       '14', '15', '16', '17', '18', '19', '20', '21', '22', '23', '24',\n",
       "       '25', '26', '27', '28', '29', '30', '31', '32', '33', '34', '35',\n",
       "       '36', '37', '38', '39', '40', '41', '42', '43', '44', '45', '46',\n",
       "       '47', '48', '49', '50', '51'], dtype='|S4')"
      ]
     },
     "execution_count": 23,
     "metadata": {},
     "output_type": "execute_result"
    }
   ],
   "source": [
    "v1_unit_list[:50]"
   ]
  },
  {
   "cell_type": "code",
   "execution_count": 24,
   "metadata": {},
   "outputs": [
    {
     "data": {
      "text/plain": [
       "Text(0.5,1,u'Spike train for 50 units over first 10 minutes of experimental session')"
      ]
     },
     "execution_count": 24,
     "metadata": {},
     "output_type": "execute_result"
    },
    {
     "data": {
      "image/png": "[encoded data removed]",
      "text/plain": [
       "<matplotlib.figure.Figure at 0x7f297052ee90>"
      ]
     },
     "metadata": {},
     "output_type": "display_data"
    }
   ],
   "source": [
    "# Figure setup\n",
    "fig,ax = plt.subplots(1,1)\n",
    "fig.set_size_inches(15,8)\n",
    "\n",
    "# Loop through list of spike times from each unit and plot at different y-values\n",
    "for i,unit in enumerate(v1_unit_list[:50]):\n",
    "    spike_times = v1_spikes[unit]\n",
    "    ax.plot(spike_times,i*np.ones_like(spike_times),'|')\n",
    "plt.xlim(0,300)\n",
    "\n",
    "ax.set_ylabel('units')\n",
    "ax.set_xlabel('time (s)')\n",
    "ax.set_title('Spike train for 50 units over first 10 minutes of experimental session')"
   ]
  },
  {
   "cell_type": "markdown",
   "metadata": {
    "collapsed": true
   },
   "source": [
    "<div style=\"background: #DFF0D8; border-radius: 3px; padding: 10px;\">\n",
    "** Exercise 1.3:** Make series of rasters plots showing spiking activity from 20 units recordings in each of the 6 visual cortical areas."
   ]
  },
  {
   "cell_type": "code",
   "execution_count": 25,
   "metadata": {
    "scrolled": false
   },
   "outputs": [
    {
     "data": {
      "text/plain": [
       "Text(0,0.5,u'Units')"
      ]
     },
     "execution_count": 25,
     "metadata": {},
     "output_type": "execute_result"
    },
    {
     "data": {
      "image/png": "[encoded data removed]",
      "text/plain": [
       "<matplotlib.figure.Figure at 0x7f2961750850>"
      ]
     },
     "metadata": {},
     "output_type": "display_data"
    }
   ],
   "source": [
    "# Raster plot showing 20 units simultaneously recorded in each of 6 areas\n",
    "areas = data_set.region_list\n",
    "\n",
    "# Figure setup\n",
    "fig,ax = plt.subplots(len(areas)/2,2,figsize=(15,7),sharex=True,sharey=True)\n",
    "ax = ax.ravel()\n",
    "colors = plt.rcParams['axes.prop_cycle'].by_key()['color']\n",
    "\n",
    "# Loop over areas\n",
    "for idx,area in enumerate(areas):\n",
    "    area_spikes = data_set.spike_times[area]\n",
    "    unit_list = area_spikes.keys()\n",
    "    \n",
    "    # Plot spike times for 20 units\n",
    "    for i,unit in enumerate(unit_list[:20]):\n",
    "        spike_times = area_spikes[unit]\n",
    "        ax[idx].plot(spike_times,i*np.ones_like(spike_times),'|',color=colors[idx],markersize=3)\n",
    "        ax[idx].set_title(area)\n",
    "        \n",
    "plt.xlim(0,600)\n",
    "ax[0].set_ylabel('Units')"
   ]
  },
  {
   "cell_type": "markdown",
   "metadata": {},
   "source": [
    "<div style=\"border-left: 3px solid #000; padding: 1px; padding-left: 10px; background: #F0FAFF; \">\n",
    "\n",
    "# 2. Visualization and analysis of stimulus-evoked activity"
   ]
  },
  {
   "cell_type": "markdown",
   "metadata": {},
   "source": [
    "<div style=\"border-left: 3px solid #000; padding: 1px; padding-left: 10px; background: #F0FAFF; \">\n",
    "### Stimulus blocks"
   ]
  },
  {
   "cell_type": "markdown",
   "metadata": {},
   "source": [
    "<div style=\"background: #DFF0D8; border-radius: 3px; padding: 10px;\">\n",
    "** Task 2.1:** Look at the stim_blocks dataframe on the data_set object. When were the Natural Scenes shown in this experiment?"
   ]
  },
  {
   "cell_type": "code",
   "execution_count": 26,
   "metadata": {},
   "outputs": [
    {
     "data": {
      "text/html": [
       "<div>\n",
       "<style scoped>\n",
       "    .dataframe tbody tr th:only-of-type {\n",
       "        vertical-align: middle;\n",
       "    }\n",
       "\n",
       "    .dataframe tbody tr th {\n",
       "        vertical-align: top;\n",
       "    }\n",
       "\n",
       "    .dataframe thead th {\n",
       "        text-align: right;\n",
       "    }\n",
       "</style>\n",
       "<table border=\"1\" class=\"dataframe\">\n",
       "  <thead>\n",
       "    <tr style=\"text-align: right;\">\n",
       "      <th></th>\n",
       "      <th>start</th>\n",
       "      <th>end</th>\n",
       "      <th>stim type</th>\n",
       "    </tr>\n",
       "  </thead>\n",
       "  <tbody>\n",
       "    <tr>\n",
       "      <th>0</th>\n",
       "      <td>29.8169</td>\n",
       "      <td>89.8889</td>\n",
       "      <td>spontaneous</td>\n",
       "    </tr>\n",
       "    <tr>\n",
       "      <th>1</th>\n",
       "      <td>89.8889</td>\n",
       "      <td>1001.88</td>\n",
       "      <td>gabor_20_deg_250ms</td>\n",
       "    </tr>\n",
       "    <tr>\n",
       "      <th>2</th>\n",
       "      <td>1001.88</td>\n",
       "      <td>1290.87</td>\n",
       "      <td>spontaneous</td>\n",
       "    </tr>\n",
       "    <tr>\n",
       "      <th>3</th>\n",
       "      <td>1290.87</td>\n",
       "      <td>1589.37</td>\n",
       "      <td>flash_250ms</td>\n",
       "    </tr>\n",
       "    <tr>\n",
       "      <th>4</th>\n",
       "      <td>1591.12</td>\n",
       "      <td>5397.3</td>\n",
       "      <td>drifting_gratings</td>\n",
       "    </tr>\n",
       "    <tr>\n",
       "      <th>5</th>\n",
       "      <td>2221.65</td>\n",
       "      <td>4683.7</td>\n",
       "      <td>natural_movie_3</td>\n",
       "    </tr>\n",
       "    <tr>\n",
       "      <th>6</th>\n",
       "      <td>2852.17</td>\n",
       "      <td>8010.53</td>\n",
       "      <td>natural_movie_1</td>\n",
       "    </tr>\n",
       "    <tr>\n",
       "      <th>7</th>\n",
       "      <td>4683.7</td>\n",
       "      <td>5908.73</td>\n",
       "      <td>spontaneous</td>\n",
       "    </tr>\n",
       "    <tr>\n",
       "      <th>8</th>\n",
       "      <td>5398.3</td>\n",
       "      <td>9151.49</td>\n",
       "      <td>static_gratings</td>\n",
       "    </tr>\n",
       "    <tr>\n",
       "      <th>9</th>\n",
       "      <td>5908.73</td>\n",
       "      <td>8568.5</td>\n",
       "      <td>natural_scenes</td>\n",
       "    </tr>\n",
       "  </tbody>\n",
       "</table>\n",
       "</div>"
      ],
      "text/plain": [
       "     start      end           stim type\n",
       "0  29.8169  89.8889         spontaneous\n",
       "1  89.8889  1001.88  gabor_20_deg_250ms\n",
       "2  1001.88  1290.87         spontaneous\n",
       "3  1290.87  1589.37         flash_250ms\n",
       "4  1591.12   5397.3   drifting_gratings\n",
       "5  2221.65   4683.7     natural_movie_3\n",
       "6  2852.17  8010.53     natural_movie_1\n",
       "7   4683.7  5908.73         spontaneous\n",
       "8   5398.3  9151.49     static_gratings\n",
       "9  5908.73   8568.5      natural_scenes"
      ]
     },
     "execution_count": 26,
     "metadata": {},
     "output_type": "execute_result"
    }
   ],
   "source": [
    "data_set.stim_blocks"
   ]
  },
  {
   "cell_type": "markdown",
   "metadata": {},
   "source": [
    "<div style=\"background: #DFF0D8; border-radius: 3px; padding: 10px;\">\n",
    "**Task 1.4:** What are the keys of \"stim_tables\"?"
   ]
  },
  {
   "cell_type": "code",
   "execution_count": 27,
   "metadata": {},
   "outputs": [
    {
     "data": {
      "text/plain": [
       "['natural_movie_1',\n",
       " 'natural_movie_3',\n",
       " 'flash_250ms',\n",
       " 'drifting_gratings',\n",
       " u'gabor_20_deg_250ms',\n",
       " u'spontaneous',\n",
       " 'static_gratings',\n",
       " 'natural_scenes']"
      ]
     },
     "execution_count": 27,
     "metadata": {},
     "output_type": "execute_result"
    }
   ],
   "source": [
    "data_set.stim_tables.keys()"
   ]
  },
  {
   "cell_type": "markdown",
   "metadata": {},
   "source": [
    "<div style=\"border-left: 3px solid #000; padding: 1px; padding-left: 10px; background: #F0FAFF; \">\n",
    "#### Make a plot showing stimulus blocks on experiment timeline"
   ]
  },
  {
   "cell_type": "code",
   "execution_count": 28,
   "metadata": {},
   "outputs": [
    {
     "data": {
      "text/plain": [
       "Text(0.5,0,u'Time in experiment (s)')"
      ]
     },
     "execution_count": 28,
     "metadata": {},
     "output_type": "execute_result"
    },
    {
     "data": {
      "image/png": "[encoded data removed]",
      "text/plain": [
       "<matplotlib.figure.Figure at 0x7f2961a13650>"
      ]
     },
     "metadata": {},
     "output_type": "display_data"
    }
   ],
   "source": [
    "# Figure setup\n",
    "fig,ax = plt.subplots(1,1,figsize=(15,1))\n",
    "colors = plt.rcParams['axes.prop_cycle'].by_key()['color'] ## TODO: Color convention??\n",
    "\n",
    "# Plot stimulus blocks using axvspan method\n",
    "for idx,row in data_set.stim_blocks.iterrows():\n",
    "    ax.axvspan(row.start,row.end,color=colors[idx],alpha=0.5)\n",
    "    \n",
    "plt.xlabel('Time in experiment (s)')"
   ]
  },
  {
   "cell_type": "markdown",
   "metadata": {},
   "source": [
    "<div style=\"background: #DFF0D8; border-radius: 3px; padding: 10px;\">\n",
    "** Exercise 2.1: ** Plot stim_blocks for single-probe versus multi-probe experiment. Hint: Use manifest dataframe to identify single-probe experiment to load as 'data_set_2'"
   ]
  },
  {
   "cell_type": "code",
   "execution_count": 30,
   "metadata": {},
   "outputs": [
    {
     "name": "stdout",
     "output_type": "stream",
     "text": [
      "drifting_gratings\n",
      "flash_250ms\n",
      "flash_50ms\n",
      "locally_sparse_noise\n",
      "natural_scenes\n",
      "natural_movie_1\n",
      "natural_movie_3\n",
      "natural_movie_Anton_1\n",
      "natural_movie_Anton_2\n",
      "natural_movie_Anton_3\n",
      "static_gratings\n"
     ]
    },
    {
     "name": "stderr",
     "output_type": "stream",
     "text": [
      "/home/rami/Desktop/swdb_2018_neuropixels/swdb_2018_neuropixels/ephys_nwb_adapter_debug.py:151: SettingWithCopyWarning: \n",
      "A value is trying to be set on a copy of a slice from a DataFrame\n",
      "\n",
      "See the caveats in the documentation: http://pandas.pydata.org/pandas-docs/stable/indexing.html#indexing-view-versus-copy\n",
      "  stim_block_info_df.loc[0+len(stim_info.keys())] = [spont_stt,spont_end, 'spontaneous']\n"
     ]
    },
    {
     "data": {
      "image/png": "[encoded data removed]",
      "text/plain": [
       "<matplotlib.figure.Figure at 0x7f2960ed6390>"
      ]
     },
     "metadata": {},
     "output_type": "display_data"
    }
   ],
   "source": [
    "# Load single probe dataset\n",
    "nwb_file_2 = os.path.join(drive_path,'nwb_M14_actual_ds2.nwb')\n",
    "data_set_2 = NWB_adapter(nwb_file_2)\n",
    "\n",
    "# Figure setup\n",
    "fig,ax = plt.subplots(1,1,figsize=(15,1))\n",
    "colors = plt.rcParams['axes.prop_cycle'].by_key()['color'] ## TODO: Color convention??\n",
    "colors = colors*2\n",
    "\n",
    "# Plot\n",
    "for idx,row in data_set_2.stim_blocks.iterrows():\n",
    "    ax.axvspan(row.start,row.end,color=colors[idx],alpha=0.5)"
   ]
  },
  {
   "cell_type": "markdown",
   "metadata": {},
   "source": [
    "<div style=\"border-left: 3px solid #000; padding: 1px; padding-left: 10px; background: #F0FAFF; \">\n",
    "\n",
    "### Stimulus table\n",
    "\n",
    "* Stimulus presentation information is found in the stimulus table\n",
    "* The stim table for each stimulus type is accessed via stim_tables dictionary\n",
    "* The keys of stim_tables are names of the stimulus sets"
   ]
  },
  {
   "cell_type": "code",
   "execution_count": 31,
   "metadata": {},
   "outputs": [
    {
     "data": {
      "text/plain": [
       "['natural_movie_1',\n",
       " 'natural_movie_3',\n",
       " 'flash_250ms',\n",
       " 'drifting_gratings',\n",
       " u'gabor_20_deg_250ms',\n",
       " u'spontaneous',\n",
       " 'static_gratings',\n",
       " 'natural_scenes']"
      ]
     },
     "execution_count": 31,
     "metadata": {},
     "output_type": "execute_result"
    }
   ],
   "source": [
    "data_set.stim_tables.keys()"
   ]
  },
  {
   "cell_type": "code",
   "execution_count": 32,
   "metadata": {},
   "outputs": [],
   "source": [
    "# Get the stim table for natural scenes\n",
    "ns_table = data_set.stim_tables['natural_scenes']"
   ]
  },
  {
   "cell_type": "code",
   "execution_count": 33,
   "metadata": {},
   "outputs": [
    {
     "data": {
      "text/html": [
       "<div>\n",
       "<style scoped>\n",
       "    .dataframe tbody tr th:only-of-type {\n",
       "        vertical-align: middle;\n",
       "    }\n",
       "\n",
       "    .dataframe tbody tr th {\n",
       "        vertical-align: top;\n",
       "    }\n",
       "\n",
       "    .dataframe thead th {\n",
       "        text-align: right;\n",
       "    }\n",
       "</style>\n",
       "<table border=\"1\" class=\"dataframe\">\n",
       "  <thead>\n",
       "    <tr style=\"text-align: right;\">\n",
       "      <th></th>\n",
       "      <th>start</th>\n",
       "      <th>end</th>\n",
       "      <th>frame</th>\n",
       "    </tr>\n",
       "  </thead>\n",
       "  <tbody>\n",
       "    <tr>\n",
       "      <th>0</th>\n",
       "      <td>5908.72592</td>\n",
       "      <td>5908.97449</td>\n",
       "      <td>34.0</td>\n",
       "    </tr>\n",
       "    <tr>\n",
       "      <th>1</th>\n",
       "      <td>5908.97449</td>\n",
       "      <td>5909.22469</td>\n",
       "      <td>6.0</td>\n",
       "    </tr>\n",
       "    <tr>\n",
       "      <th>2</th>\n",
       "      <td>5909.22469</td>\n",
       "      <td>5909.47521</td>\n",
       "      <td>28.0</td>\n",
       "    </tr>\n",
       "    <tr>\n",
       "      <th>3</th>\n",
       "      <td>5909.47521</td>\n",
       "      <td>5909.72637</td>\n",
       "      <td>109.0</td>\n",
       "    </tr>\n",
       "    <tr>\n",
       "      <th>4</th>\n",
       "      <td>5909.72637</td>\n",
       "      <td>5909.97549</td>\n",
       "      <td>105.0</td>\n",
       "    </tr>\n",
       "  </tbody>\n",
       "</table>\n",
       "</div>"
      ],
      "text/plain": [
       "        start         end  frame\n",
       "0  5908.72592  5908.97449   34.0\n",
       "1  5908.97449  5909.22469    6.0\n",
       "2  5909.22469  5909.47521   28.0\n",
       "3  5909.47521  5909.72637  109.0\n",
       "4  5909.72637  5909.97549  105.0"
      ]
     },
     "execution_count": 33,
     "metadata": {},
     "output_type": "execute_result"
    }
   ],
   "source": [
    "ns_table.head()"
   ]
  },
  {
   "cell_type": "markdown",
   "metadata": {},
   "source": [
    "<div style=\"background: #DFF0D8; border-radius: 3px; padding: 10px;\">\n",
    "**Task 2.2:** How many presentations of image 46?"
   ]
  },
  {
   "cell_type": "code",
   "execution_count": 34,
   "metadata": {},
   "outputs": [
    {
     "name": "stdout",
     "output_type": "stream",
     "text": [
      "50\n"
     ]
    }
   ],
   "source": [
    "print(len(ns_table[ns_table.frame==46]))"
   ]
  },
  {
   "cell_type": "markdown",
   "metadata": {},
   "source": [
    "<div style=\"border-left: 3px solid #000; padding: 1px; padding-left: 10px; background: #F0FAFF; \">\n",
    "\n",
    "### Trial-wise raster plot\n",
    "\n",
    "* We'll now use the stim table to identify when image #46 was presented\n",
    "* From this we'll extract spikes around each stimulus presentation\n",
    "* Finally we'll make a raster plot showing spikes on each trial"
   ]
  },
  {
   "cell_type": "code",
   "execution_count": 35,
   "metadata": {},
   "outputs": [
    {
     "data": {
      "text/html": [
       "<div>\n",
       "<style scoped>\n",
       "    .dataframe tbody tr th:only-of-type {\n",
       "        vertical-align: middle;\n",
       "    }\n",
       "\n",
       "    .dataframe tbody tr th {\n",
       "        vertical-align: top;\n",
       "    }\n",
       "\n",
       "    .dataframe thead th {\n",
       "        text-align: right;\n",
       "    }\n",
       "</style>\n",
       "<table border=\"1\" class=\"dataframe\">\n",
       "  <thead>\n",
       "    <tr style=\"text-align: right;\">\n",
       "      <th></th>\n",
       "      <th>start</th>\n",
       "      <th>end</th>\n",
       "      <th>frame</th>\n",
       "    </tr>\n",
       "  </thead>\n",
       "  <tbody>\n",
       "    <tr>\n",
       "      <th>326</th>\n",
       "      <td>5990.29287</td>\n",
       "      <td>5990.54277</td>\n",
       "      <td>46.0</td>\n",
       "    </tr>\n",
       "    <tr>\n",
       "      <th>540</th>\n",
       "      <td>6043.85469</td>\n",
       "      <td>6044.10378</td>\n",
       "      <td>46.0</td>\n",
       "    </tr>\n",
       "    <tr>\n",
       "      <th>579</th>\n",
       "      <td>6053.61356</td>\n",
       "      <td>6053.86333</td>\n",
       "      <td>46.0</td>\n",
       "    </tr>\n",
       "  </tbody>\n",
       "</table>\n",
       "</div>"
      ],
      "text/plain": [
       "          start         end  frame\n",
       "326  5990.29287  5990.54277   46.0\n",
       "540  6043.85469  6044.10378   46.0\n",
       "579  6053.61356  6053.86333   46.0"
      ]
     },
     "execution_count": 35,
     "metadata": {},
     "output_type": "execute_result"
    }
   ],
   "source": [
    "# Select trials from stim table for specific image_id\n",
    "image_id = 46\n",
    "img = ns_table[ns_table.frame==image_id]\n",
    "img.head(3) # this is the stim table for image 46"
   ]
  },
  {
   "cell_type": "code",
   "execution_count": 36,
   "metadata": {},
   "outputs": [],
   "source": [
    "# Example units from area AL\n",
    "area = 'VISal'\n",
    "units = ['166','254','283','226','100'] # Find example units from each experiment\n",
    "all_spikes = data_set.spike_times[area]"
   ]
  },
  {
   "cell_type": "code",
   "execution_count": 37,
   "metadata": {},
   "outputs": [
    {
     "data": {
      "image/png": "[encoded data removed]",
      "text/plain": [
       "<matplotlib.figure.Figure at 0x7f2960e32f50>"
      ]
     },
     "metadata": {},
     "output_type": "display_data"
    }
   ],
   "source": [
    "# Time before and after image presention\n",
    "pre_time = 1.\n",
    "post_time = 1.\n",
    "\n",
    "# Get spike times from first unit in list\n",
    "unit_spikes = all_spikes[units[0]]\n",
    "\n",
    "# Make list containing spike train for each image presentation\n",
    "all_trials = []\n",
    "for i,start in enumerate(img.start):\n",
    "    # Extract spikes around stimulus Start time\n",
    "    spikes = unit_spikes[(unit_spikes > start-pre_time) & (unit_spikes <= start+post_time)]\n",
    "    spikes = spikes - start\n",
    "    all_trials.append(list(spikes))\n",
    "\n",
    "# Figure setup\n",
    "fig,ax = plt.subplots(1,1,figsize=(6,3))\n",
    "\n",
    "# Make raster plot\n",
    "for i,spikes in enumerate(all_trials):\n",
    "    ax.plot(spikes,i*np.ones_like(spikes),'|',color='b')\n",
    "    ax.invert_yaxis()\n",
    "\n",
    "# Stimulus presentation window\n",
    "stimulus_duration = img.end.values[0] - img.start.values[0]\n",
    "ax.axvspan(0,stimulus_duration,color='gray',alpha=0.2);\n",
    "    "
   ]
  },
  {
   "cell_type": "markdown",
   "metadata": {},
   "source": [
    "<div style=\"background: #DFF0D8; border-radius: 3px; padding: 10px;\">\n",
    "**Exercise 2.2:** Write a function to plot raster for a given unit and image. Use your function to plot rasters for 6 example units for image 46. \n",
    "* Function call: image_raster(img, unit_spikes, ax)\n",
    "    * img: stim table for 1 image\n",
    "    * unit_spikes: spike times for 1 unit\n",
    "    * ax: axis handle\n",
    "    \n",
    "    \n",
    "* Example units: ['166','254','283','226','100','63']"
   ]
  },
  {
   "cell_type": "code",
   "execution_count": 38,
   "metadata": {},
   "outputs": [],
   "source": [
    "def image_raster(img,unit_spikes,ax=[]):\n",
    "    if not ax:\n",
    "        fig,ax = plt.subplots(1,1,figsize=(6,3))\n",
    "\n",
    "    pre_time = .5\n",
    "    post_time = .75\n",
    "\n",
    "    all_trials = []\n",
    "    # Get spike train for each trial\n",
    "    for i,start in enumerate(img.start):\n",
    "        spikes = unit_spikes[(unit_spikes > start-pre_time) & (unit_spikes < start+post_time)]\n",
    "        spikes = spikes - start\n",
    "        all_trials.append(list(spikes))\n",
    "\n",
    "    # Plot each trial\n",
    "    for i,spikes in enumerate(all_trials):\n",
    "        ax.plot(spikes,i*np.ones_like(spikes),'|',color='b',markersize=4)\n",
    "        ax.invert_yaxis()  \n",
    "    ax.axvspan(0,0.25,color='gray',alpha=0.2);\n",
    "\n",
    "    return ax"
   ]
  },
  {
   "cell_type": "code",
   "execution_count": 39,
   "metadata": {},
   "outputs": [
    {
     "data": {
      "text/plain": [
       "['VISp', 'VISrl', 'VISal', 'VISam', 'VISpm', 'VISl']"
      ]
     },
     "execution_count": 39,
     "metadata": {},
     "output_type": "execute_result"
    }
   ],
   "source": [
    "data_set.spike_times.keys()"
   ]
  },
  {
   "cell_type": "code",
   "execution_count": 40,
   "metadata": {},
   "outputs": [
    {
     "data": {
      "text/plain": [
       "(50, 0)"
      ]
     },
     "execution_count": 40,
     "metadata": {},
     "output_type": "execute_result"
    },
    {
     "data": {
      "image/png": "[encoded data removed]",
      "text/plain": [
       "<matplotlib.figure.Figure at 0x7f29602489d0>"
      ]
     },
     "metadata": {},
     "output_type": "display_data"
    }
   ],
   "source": [
    "# Example units\n",
    "area = 'VISal'\n",
    "all_spikes = data_set.spike_times[area]\n",
    "units = all_spikes.keys()[:6]\n",
    "# units = ['166','254','283','226','100','63']\n",
    "\n",
    "# Image ID\n",
    "image_id = 46\n",
    "img = ns_table[ns_table.frame==image_id]\n",
    "\n",
    "# Figure setup\n",
    "fig,ax = plt.subplots(2,3,figsize=(16,7),sharex=True,sharey=True)\n",
    "ax = ax.ravel()\n",
    "\n",
    "for i,unit in enumerate(units):\n",
    "    unit_spikes = all_spikes[unit]\n",
    "    image_raster(img,unit_spikes,ax[i])\n",
    "    ax[i].set_title(unit)\n",
    "    \n",
    "ax[0].set_xlim(-0.5,0.75)\n",
    "ax[0].set_ylim(50,0)"
   ]
  },
  {
   "cell_type": "code",
   "execution_count": null,
   "metadata": {},
   "outputs": [],
   "source": []
  },
  {
   "cell_type": "markdown",
   "metadata": {},
   "source": [
    "<div style=\"border-left: 3px solid #000; padding: 1px; padding-left: 10px; background: #F0FAFF; \">\n",
    "\n",
    "### Peri-stimulus time histogram (PSTH)\n",
    "\n",
    "Text about PSTH"
   ]
  },
  {
   "cell_type": "code",
   "execution_count": 41,
   "metadata": {},
   "outputs": [],
   "source": [
    "# Example unit\n",
    "unit = '100'\n",
    "\n",
    "# Image ID\n",
    "image_id = 46\n",
    "img = ns_table[ns_table.frame==image_id]\n",
    "\n",
    "# Get spike times for unit\n",
    "unit_spikes = all_spikes[unit]\n",
    "\n",
    "# Make a list with spike train for each stimulus presentation trial\n",
    "all_trials = []\n",
    "for i,start in enumerate(img.start):\n",
    "    spikes = unit_spikes[(unit_spikes > start-pre_time) & (unit_spikes < start+post_time)]\n",
    "    spikes = spikes - start\n",
    "    all_trials.append(list(spikes))"
   ]
  },
  {
   "cell_type": "code",
   "execution_count": 42,
   "metadata": {},
   "outputs": [],
   "source": [
    "# Make PSTH for each trial with 5 ms bins\n",
    "bins = np.arange(-1,1.01,0.005)\n",
    "all_counts = []\n",
    "for trial in all_trials:\n",
    "    c,edges = np.histogram(trial,bins)\n",
    "    c = c/np.diff(bins[0:2])\n",
    "    all_counts.append(c)\n",
    "centers = edges[:-1] + np.diff(bins)/2"
   ]
  },
  {
   "cell_type": "code",
   "execution_count": 43,
   "metadata": {},
   "outputs": [
    {
     "data": {
      "text/plain": [
       "Text(0.5,0,u'Time (s)')"
      ]
     },
     "execution_count": 43,
     "metadata": {},
     "output_type": "execute_result"
    },
    {
     "data": {
      "image/png": "[encoded data removed]",
      "text/plain": [
       "<matplotlib.figure.Figure at 0x7f2960e10710>"
      ]
     },
     "metadata": {},
     "output_type": "display_data"
    }
   ],
   "source": [
    "# Plot mean PSTH across trials\n",
    "fig,ax = plt.subplots(1,1)\n",
    "ax.plot(centers,np.mean(all_counts,axis=0))\n",
    "ax.axvspan(0,0.25,color='gray',alpha=0.1)\n",
    "ax.set_ylabel('Firing rate (spikes/second)')\n",
    "ax.set_xlabel('Time (s)')"
   ]
  },
  {
   "cell_type": "markdown",
   "metadata": {
    "collapsed": true
   },
   "source": [
    "<div style=\"background: #DFF0D8; border-radius: 3px; padding: 10px;\">\n",
    "**Exercise 2.3:** Write a function to plot PSTH for a given unit and image. Use your function to plot PSTHs for 6 example units for image 46. \n",
    "* Function call: image_psth(img, unit_spikes, ax)\n",
    "    * img: stim table for 1 image\n",
    "    * unit_spikes: spike times for 1 unit\n",
    "    * ax: axis handle\n",
    "    \n",
    "    \n",
    "* Example units: ['166','254','283','226','100','63']"
   ]
  },
  {
   "cell_type": "code",
   "execution_count": null,
   "metadata": {},
   "outputs": [],
   "source": []
  },
  {
   "cell_type": "markdown",
   "metadata": {},
   "source": [
    "<div style=\"border-left: 3px solid #000; padding: 1px; padding-left: 10px; background: #F0FAFF; \">\n",
    "### Mean sweep response and tuning curves"
   ]
  },
  {
   "cell_type": "markdown",
   "metadata": {},
   "source": [
    "<div style=\"border-left: 3px solid #000; padding: 1px; padding-left: 10px; background: #F0FAFF; \">\n",
    "#### Here we'll analyze responses to drifting gratings"
   ]
  },
  {
   "cell_type": "code",
   "execution_count": 44,
   "metadata": {},
   "outputs": [],
   "source": [
    "# Get drifting gratings stim table\n",
    "dg_stim = data_set.stim_tables['drifting_gratings']\n",
    "\n",
    "# Select TF = 4.0\n",
    "dg_stim = dg_stim[(dg_stim.temporal_frequency==4.0)]\n",
    "\n",
    "# Get list of unique stimulus orientations\n",
    "oris = sorted(dg_stim.orientation.unique())"
   ]
  },
  {
   "cell_type": "markdown",
   "metadata": {},
   "source": [
    "<div style=\"background: #DFF0D8; border-radius: 3px; padding: 10px;\">\n",
    "** Task X.X **  TBD"
   ]
  },
  {
   "cell_type": "code",
   "execution_count": 45,
   "metadata": {},
   "outputs": [],
   "source": [
    "# Example cells\n",
    "area = 'VISal'\n",
    "all_spikes = data_set.spike_times[area]\n",
    "units = ['166','254','283','226','100','63']\n",
    "unit_spikes = all_spikes[units[0]]\n",
    "\n",
    "# Dictionary to store trial responses\n",
    "trial_response = {}\n",
    "\n",
    "# Window to compute firing rate\n",
    "window = 0.25\n",
    "\n",
    "# Dictionary to hold results\n",
    "mean_sweep = {'Ori':[],'fr_mean':[],'fr_sem':[]}\n",
    "\n",
    "# Loop over orientations\n",
    "for ori in oris:\n",
    "    tmp = dg_stim[dg_stim.orientation==ori]\n",
    "    sc = []\n",
    "    # Loop over trials/sweeps\n",
    "    for i,start in enumerate(tmp.start):\n",
    "        spikes = unit_spikes[(unit_spikes > start) & (unit_spikes <= start+window)]\n",
    "        sc.append(len(spikes)/window)\n",
    "    \n",
    "    mean_sweep['Ori'].append(ori)\n",
    "    mean_sweep['fr_mean'].append(np.mean(sc))\n",
    "    mean_sweep['fr_sem'].append(np.std(sc)/np.sqrt(len(sc)))"
   ]
  },
  {
   "cell_type": "code",
   "execution_count": 46,
   "metadata": {},
   "outputs": [
    {
     "data": {
      "text/plain": [
       "Text(0.5,0,u'Orientation (degrees)')"
      ]
     },
     "execution_count": 46,
     "metadata": {},
     "output_type": "execute_result"
    },
    {
     "data": {
      "image/png": "[encoded data removed]",
      "text/plain": [
       "<matplotlib.figure.Figure at 0x7f295a893a90>"
      ]
     },
     "metadata": {},
     "output_type": "display_data"
    }
   ],
   "source": [
    "# plot tuning curve\n",
    "plt.errorbar(x=mean_sweep['Ori'],y=mean_sweep['fr_mean'],yerr=mean_sweep['fr_sem'])\n",
    "plt.ylabel('Firing rate (spikes/second)')\n",
    "plt.xlabel('Orientation (degrees)')"
   ]
  },
  {
   "cell_type": "code",
   "execution_count": null,
   "metadata": {},
   "outputs": [],
   "source": []
  },
  {
   "cell_type": "markdown",
   "metadata": {
    "collapsed": true
   },
   "source": [
    "<div style=\"background: #DFF0D8; border-radius: 3px; padding: 10px;\">\n",
    "**Exercise 2.4** Compute tuning curve for static gratings. "
   ]
  },
  {
   "cell_type": "code",
   "execution_count": null,
   "metadata": {},
   "outputs": [],
   "source": []
  },
  {
   "cell_type": "markdown",
   "metadata": {},
   "source": [
    "<div style=\"background: #DFF0D8; border-radius: 3px; padding: 10px;\">\n",
    "**Exercise 2.5 (Bonus)**  Plot rasters for each orientation of static and drifting gratings to compare temporal dynamics."
   ]
  },
  {
   "cell_type": "code",
   "execution_count": null,
   "metadata": {},
   "outputs": [],
   "source": []
  },
  {
   "cell_type": "markdown",
   "metadata": {},
   "source": [
    "<div style=\"border-left: 3px solid #000; padding: 1px; padding-left: 10px; background: #F0FAFF; \">\n",
    "# 3. Correlations and cross-correlogram"
   ]
  },
  {
   "cell_type": "markdown",
   "metadata": {},
   "source": [
    "<div style=\"border-left: 3px solid #000; padding: 1px; padding-left: 10px; background: #F0FAFF; \">\n",
    "### Correlation between two neurons"
   ]
  },
  {
   "cell_type": "code",
   "execution_count": 47,
   "metadata": {},
   "outputs": [],
   "source": [
    "# Get stimulus table \n",
    "dg_stim = data_set.stim_tables['drifting_gratings']\n",
    "\n",
    "# Select TF = 4.0\n",
    "dg_stim = dg_stim[(dg_stim.temporal_frequency==4.0)]\n",
    "\n",
    "# Get orientation conditions\n",
    "oris = sorted(dg_stim.orientation.unique())\n",
    "\n",
    "# Get number of trials\n",
    "n_trials = len(np.where(dg_stim.orientation.values==oris[0])[0])\n"
   ]
  },
  {
   "cell_type": "code",
   "execution_count": 48,
   "metadata": {},
   "outputs": [
    {
     "data": {
      "text/html": [
       "<div>\n",
       "<style scoped>\n",
       "    .dataframe tbody tr th:only-of-type {\n",
       "        vertical-align: middle;\n",
       "    }\n",
       "\n",
       "    .dataframe tbody tr th {\n",
       "        vertical-align: top;\n",
       "    }\n",
       "\n",
       "    .dataframe thead th {\n",
       "        text-align: right;\n",
       "    }\n",
       "</style>\n",
       "<table border=\"1\" class=\"dataframe\">\n",
       "  <thead>\n",
       "    <tr style=\"text-align: right;\">\n",
       "      <th></th>\n",
       "      <th>start</th>\n",
       "      <th>end</th>\n",
       "      <th>temporal_frequency</th>\n",
       "      <th>spatial_frequency</th>\n",
       "      <th>orientation</th>\n",
       "    </tr>\n",
       "  </thead>\n",
       "  <tbody>\n",
       "    <tr>\n",
       "      <th>14</th>\n",
       "      <td>1633.15613</td>\n",
       "      <td>1635.15480</td>\n",
       "      <td>4.0</td>\n",
       "      <td>0.04</td>\n",
       "      <td>0.0</td>\n",
       "    </tr>\n",
       "    <tr>\n",
       "      <th>125</th>\n",
       "      <td>1966.43670</td>\n",
       "      <td>1968.43496</td>\n",
       "      <td>4.0</td>\n",
       "      <td>0.04</td>\n",
       "      <td>0.0</td>\n",
       "    </tr>\n",
       "    <tr>\n",
       "      <th>194</th>\n",
       "      <td>2173.60734</td>\n",
       "      <td>2175.60735</td>\n",
       "      <td>4.0</td>\n",
       "      <td>0.04</td>\n",
       "      <td>0.0</td>\n",
       "    </tr>\n",
       "    <tr>\n",
       "      <th>213</th>\n",
       "      <td>3221.48529</td>\n",
       "      <td>3223.48317</td>\n",
       "      <td>4.0</td>\n",
       "      <td>0.04</td>\n",
       "      <td>0.0</td>\n",
       "    </tr>\n",
       "    <tr>\n",
       "      <th>222</th>\n",
       "      <td>3248.50479</td>\n",
       "      <td>3250.50560</td>\n",
       "      <td>4.0</td>\n",
       "      <td>0.04</td>\n",
       "      <td>0.0</td>\n",
       "    </tr>\n",
       "    <tr>\n",
       "      <th>237</th>\n",
       "      <td>3293.54236</td>\n",
       "      <td>3295.54306</td>\n",
       "      <td>4.0</td>\n",
       "      <td>0.04</td>\n",
       "      <td>0.0</td>\n",
       "    </tr>\n",
       "    <tr>\n",
       "      <th>271</th>\n",
       "      <td>3395.62802</td>\n",
       "      <td>3397.62850</td>\n",
       "      <td>4.0</td>\n",
       "      <td>0.04</td>\n",
       "      <td>0.0</td>\n",
       "    </tr>\n",
       "    <tr>\n",
       "      <th>278</th>\n",
       "      <td>3416.64722</td>\n",
       "      <td>3418.64555</td>\n",
       "      <td>4.0</td>\n",
       "      <td>0.04</td>\n",
       "      <td>0.0</td>\n",
       "    </tr>\n",
       "    <tr>\n",
       "      <th>295</th>\n",
       "      <td>3467.68839</td>\n",
       "      <td>3469.68816</td>\n",
       "      <td>4.0</td>\n",
       "      <td>0.04</td>\n",
       "      <td>0.0</td>\n",
       "    </tr>\n",
       "    <tr>\n",
       "      <th>324</th>\n",
       "      <td>3554.76080</td>\n",
       "      <td>3556.76128</td>\n",
       "      <td>4.0</td>\n",
       "      <td>0.04</td>\n",
       "      <td>0.0</td>\n",
       "    </tr>\n",
       "    <tr>\n",
       "      <th>458</th>\n",
       "      <td>4887.87392</td>\n",
       "      <td>4889.87458</td>\n",
       "      <td>4.0</td>\n",
       "      <td>0.04</td>\n",
       "      <td>0.0</td>\n",
       "    </tr>\n",
       "    <tr>\n",
       "      <th>498</th>\n",
       "      <td>5007.97441</td>\n",
       "      <td>5009.97379</td>\n",
       "      <td>4.0</td>\n",
       "      <td>0.04</td>\n",
       "      <td>0.0</td>\n",
       "    </tr>\n",
       "    <tr>\n",
       "      <th>521</th>\n",
       "      <td>5077.03217</td>\n",
       "      <td>5079.03217</td>\n",
       "      <td>4.0</td>\n",
       "      <td>0.04</td>\n",
       "      <td>0.0</td>\n",
       "    </tr>\n",
       "    <tr>\n",
       "      <th>606</th>\n",
       "      <td>5332.24584</td>\n",
       "      <td>5334.24565</td>\n",
       "      <td>4.0</td>\n",
       "      <td>0.04</td>\n",
       "      <td>0.0</td>\n",
       "    </tr>\n",
       "  </tbody>\n",
       "</table>\n",
       "</div>"
      ],
      "text/plain": [
       "          start         end  temporal_frequency  spatial_frequency  \\\n",
       "14   1633.15613  1635.15480                 4.0               0.04   \n",
       "125  1966.43670  1968.43496                 4.0               0.04   \n",
       "194  2173.60734  2175.60735                 4.0               0.04   \n",
       "213  3221.48529  3223.48317                 4.0               0.04   \n",
       "222  3248.50479  3250.50560                 4.0               0.04   \n",
       "237  3293.54236  3295.54306                 4.0               0.04   \n",
       "271  3395.62802  3397.62850                 4.0               0.04   \n",
       "278  3416.64722  3418.64555                 4.0               0.04   \n",
       "295  3467.68839  3469.68816                 4.0               0.04   \n",
       "324  3554.76080  3556.76128                 4.0               0.04   \n",
       "458  4887.87392  4889.87458                 4.0               0.04   \n",
       "498  5007.97441  5009.97379                 4.0               0.04   \n",
       "521  5077.03217  5079.03217                 4.0               0.04   \n",
       "606  5332.24584  5334.24565                 4.0               0.04   \n",
       "\n",
       "     orientation  \n",
       "14           0.0  \n",
       "125          0.0  \n",
       "194          0.0  \n",
       "213          0.0  \n",
       "222          0.0  \n",
       "237          0.0  \n",
       "271          0.0  \n",
       "278          0.0  \n",
       "295          0.0  \n",
       "324          0.0  \n",
       "458          0.0  \n",
       "498          0.0  \n",
       "521          0.0  \n",
       "606          0.0  "
      ]
     },
     "execution_count": 48,
     "metadata": {},
     "output_type": "execute_result"
    }
   ],
   "source": [
    "# Visualize dataframe\n",
    "dg_stim.loc[dg_stim.orientation.values==oris[0]]"
   ]
  },
  {
   "cell_type": "code",
   "execution_count": 49,
   "metadata": {},
   "outputs": [
    {
     "data": {
      "text/plain": [
       "14"
      ]
     },
     "execution_count": 49,
     "metadata": {},
     "output_type": "execute_result"
    }
   ],
   "source": [
    "n_trials"
   ]
  },
  {
   "cell_type": "code",
   "execution_count": 50,
   "metadata": {},
   "outputs": [],
   "source": [
    "# For given area:\n",
    "area = 'VISal'\n",
    "all_spikes = data_set.spike_times[area]\n",
    "\n",
    "# Time window to compute firing rate\n",
    "window = 0.25\n",
    "\n",
    "# Example units\n",
    "units = ['166','100']\n",
    "\n",
    "# Define mean response matrix with dimension: neuron*ori*trial\n",
    "response = np.zeros([len(units), len(oris), n_trials])\n",
    "response = np.zeros([len(units), len(oris), 15])\n",
    "\n",
    "# Loop over orientations\n",
    "for idx_u, unit in enumerate(units):\n",
    "    unit_spikes = all_spikes[unit]\n",
    "    for idx_o, ori in enumerate(oris):\n",
    "        tmp = dg_stim[dg_stim.orientation==ori]\n",
    "        # Loop over trials/sweeps\n",
    "        for idx, start in enumerate(tmp.start):\n",
    "            spikes = unit_spikes[(unit_spikes > start) & (unit_spikes <= start+window)]\n",
    "            # Calculate firing rate spike/sec\n",
    "            FR = len(spikes)/window\n",
    "            response[idx_u, idx_o, idx]=FR"
   ]
  },
  {
   "cell_type": "code",
   "execution_count": 51,
   "metadata": {},
   "outputs": [
    {
     "data": {
      "text/plain": [
       "(2, 8, 15)"
      ]
     },
     "execution_count": 51,
     "metadata": {},
     "output_type": "execute_result"
    }
   ],
   "source": [
    "# Check shape of output\n",
    "response.shape"
   ]
  },
  {
   "cell_type": "markdown",
   "metadata": {},
   "source": [
    "<div style=\"border-left: 3px solid #000; padding: 1px; padding-left: 10px; background: #F0FAFF; \">\n",
    "### Signal correlation: correlation among tuning curves"
   ]
  },
  {
   "cell_type": "code",
   "execution_count": 52,
   "metadata": {},
   "outputs": [
    {
     "data": {
      "text/plain": [
       "<matplotlib.legend.Legend at 0x7f295a486110>"
      ]
     },
     "execution_count": 52,
     "metadata": {},
     "output_type": "execute_result"
    },
    {
     "data": {
      "image/png": "[encoded data removed]",
      "text/plain": [
       "<matplotlib.figure.Figure at 0x7f295a808350>"
      ]
     },
     "metadata": {},
     "output_type": "display_data"
    }
   ],
   "source": [
    "plt.figure()\n",
    "tmp = response[0,:,:]\n",
    "plt.errorbar(x=oris,y=tmp.mean(1),yerr=tmp.std(1)/np.sqrt(response.shape[2]), label=units[0])\n",
    "\n",
    "tmp = response[1,:,:]\n",
    "plt.errorbar(x=oris,y=tmp.mean(1),yerr=tmp.std(1)/np.sqrt(response.shape[2]), label=units[1])\n",
    "plt.legend()"
   ]
  },
  {
   "cell_type": "code",
   "execution_count": 53,
   "metadata": {},
   "outputs": [
    {
     "name": "stdout",
     "output_type": "stream",
     "text": [
      "-0.6997780276521567\n"
     ]
    }
   ],
   "source": [
    "signal_corr = np.corrcoef(response.mean(2))[0,1]\n",
    "print(signal_corr)"
   ]
  },
  {
   "cell_type": "markdown",
   "metadata": {},
   "source": [
    "<div style=\"border-left: 3px solid #000; padding: 1px; padding-left: 10px; background: #F0FAFF; \">\n",
    "\n",
    "### Noise correlation: correlation across trials"
   ]
  },
  {
   "cell_type": "code",
   "execution_count": 54,
   "metadata": {},
   "outputs": [
    {
     "data": {
      "text/plain": [
       "Text(0,0.5,u'Mean FR: 100')"
      ]
     },
     "execution_count": 54,
     "metadata": {},
     "output_type": "execute_result"
    },
    {
     "data": {
      "image/png": "[encoded data removed]",
      "text/plain": [
       "<matplotlib.figure.Figure at 0x7f2960edd1d0>"
      ]
     },
     "metadata": {},
     "output_type": "display_data"
    }
   ],
   "source": [
    "plt.figure()\n",
    "ori=7\n",
    "plt.scatter(response[0,:,:].mean(0), response[1,:,:].mean(0))\n",
    "plt.xlabel('Mean FR: '+units[0])\n",
    "plt.ylabel('Mean FR: '+units[1])"
   ]
  },
  {
   "cell_type": "code",
   "execution_count": 55,
   "metadata": {},
   "outputs": [
    {
     "name": "stdout",
     "output_type": "stream",
     "text": [
      "0.20379514991614484\n"
     ]
    }
   ],
   "source": [
    "noise_corr = np.corrcoef(response.mean(1))[0,1]\n",
    "print(noise_corr)"
   ]
  },
  {
   "cell_type": "markdown",
   "metadata": {
    "collapsed": true
   },
   "source": [
    "<div style=\"background: #DFF0D8; border-radius: 3px; padding: 10px;\">\n",
    "** Exercise 3.1** Compute signal and noise correlation across all drifting grating stimulus parameters and compute average noise correlation."
   ]
  },
  {
   "cell_type": "code",
   "execution_count": null,
   "metadata": {},
   "outputs": [],
   "source": []
  },
  {
   "cell_type": "markdown",
   "metadata": {
    "collapsed": true
   },
   "source": [
    "<div style=\"border-left: 3px solid #000; padding: 1px; padding-left: 10px; background: #F0FAFF; \">\n",
    "\n",
    "### Cross-correlogram: fast timescale correlations"
   ]
  },
  {
   "cell_type": "markdown",
   "metadata": {
    "collapsed": true
   },
   "source": [
    "TODO: Brief description of topic"
   ]
  },
  {
   "cell_type": "code",
   "execution_count": 56,
   "metadata": {},
   "outputs": [],
   "source": [
    "# Cross-correlogram (CCG)\n",
    "\n",
    "def ccg(train1, train2, binrange, binsize):\n",
    "    \"\"\"\n",
    "    Computes a cross-correlogram for two spike trains.\n",
    "\n",
    "    Parameters\n",
    "    ----------\n",
    "    train1 : numpy array\n",
    "        Primary spike train. Cross-correlogram will be computed relative to spikes in this spike train.\n",
    "    train2 : numpy array\n",
    "        Secondary spike train.\n",
    "    binrange : tuple or list of length=2\n",
    "        Window over which to compute cross correlogram.\n",
    "    binsize : float\n",
    "        Size of bins in cross-correlogram\n",
    "\n",
    "    \"\"\"\n",
    "    \n",
    "    nbins = int((binrange[1]-binrange[0])/binsize)\n",
    "    \n",
    "    diffs = [extract_local(train2,t1,binrange) for t1 in train1]\n",
    "        \n",
    "    diffs = np.hstack(diffs)\n",
    "    diffs = diffs[diffs!=0]\n",
    "\n",
    "    hist, edges = np.histogram(diffs, bins=nbins, range=binrange)\n",
    "        \n",
    "    return edges[1:]-binsize/2, hist /float(len(train1))*100\n",
    "\n",
    "def extract_local(train2,t1,binrange):\n",
    "    \"\"\"\n",
    "    Returns events in `train2` which are within `binrange` of `t1`, aligned to `t1`\n",
    "\n",
    "    Parameters\n",
    "    ----------\n",
    "    train2 : numpy array\n",
    "    t1 : float\n",
    "    binrange : tuple or list of length=2\n",
    "\n",
    "    \"\"\"\n",
    "\n",
    "    start = np.searchsorted(train2,t1 + binrange[0])\n",
    "    end = np.searchsorted(train2,t1 + binrange[1])\n",
    "\n",
    "    return train2[start:end] - t1"
   ]
  },
  {
   "cell_type": "code",
   "execution_count": 57,
   "metadata": {},
   "outputs": [],
   "source": [
    "# task\n",
    "unit_list = data_set.unit_list['VISp']"
   ]
  },
  {
   "cell_type": "code",
   "execution_count": 58,
   "metadata": {},
   "outputs": [],
   "source": [
    "spt_0 = v1_spikes[unit_list[9]]\n",
    "spt_1 = v1_spikes[unit_list[12]]"
   ]
  },
  {
   "cell_type": "code",
   "execution_count": 59,
   "metadata": {},
   "outputs": [
    {
     "data": {
      "image/png": "[encoded data removed]",
      "text/plain": [
       "<matplotlib.figure.Figure at 0x7f295a89b0d0>"
      ]
     },
     "metadata": {},
     "output_type": "display_data"
    }
   ],
   "source": [
    "#Plot cross-correlogram between spike trains recorded from the two units\n",
    "\n",
    "binsize = 0.001\n",
    "ccg_win = [-0.1005,0.1005] #np.arange(-0.1005,0.1005,binsize)\n",
    "ccg_centers,ccg_vals = ccg(spt_0,spt_1,ccg_win,binsize)\n",
    "plt.figure()\n",
    "plt.plot(ccg_centers,ccg_vals)\n",
    "ax = plt.gca()\n",
    "ax.axvline(ccg_centers[100],color='gray',linewidth = 0.8)\n",
    "plt.show()"
   ]
  },
  {
   "cell_type": "markdown",
   "metadata": {
    "collapsed": true
   },
   "source": [
    "<div style=\"background: #DFF0D8; border-radius: 3px; padding: 10px;\">\n",
    "** Exercise 3.2 (Bonus): ** Write function to compute the \"shuffle corrected CCG\". "
   ]
  },
  {
   "cell_type": "code",
   "execution_count": 60,
   "metadata": {},
   "outputs": [],
   "source": [
    "# Solution"
   ]
  },
  {
   "cell_type": "markdown",
   "metadata": {},
   "source": [
    "<div style=\"border-left: 3px solid #000; padding: 1px; padding-left: 10px; background: #F0FAFF; \">\n",
    "\n",
    "# 4. Waveform and spike train analysis for cell classification"
   ]
  },
  {
   "cell_type": "markdown",
   "metadata": {},
   "source": [
    "<div style=\"border-left: 3px solid #000; padding: 1px; padding-left: 10px; background: #F0FAFF; \">\n",
    "* Different cell types can show distinct extracellular action potential waveforms and firing patterns\n",
    "* Here we will plot spike waveforms and inter-spike interval distributions for units in this experiment\n",
    "* We will start by illustrating the classic RS and FS units division"
   ]
  },
  {
   "cell_type": "markdown",
   "metadata": {},
   "source": [
    "<div style=\"border-left: 3px solid #000; padding: 1px; padding-left: 10px; background: #F0FAFF; \">\n",
    "\n",
    "### Spike waveforms: regular spiking (RS) and fast spiking (FS) units"
   ]
  },
  {
   "cell_type": "code",
   "execution_count": 61,
   "metadata": {},
   "outputs": [],
   "source": [
    "# Get spikes waveforms using method on data_set\n",
    "spike_waveforms = data_set.get_waveforms()"
   ]
  },
  {
   "cell_type": "code",
   "execution_count": 62,
   "metadata": {},
   "outputs": [
    {
     "data": {
      "text/plain": [
       "Text(0.5,0,u'ms')"
      ]
     },
     "execution_count": 62,
     "metadata": {},
     "output_type": "execute_result"
    },
    {
     "data": {
      "image/png": "[encoded data removed]",
      "text/plain": [
       "<matplotlib.figure.Figure at 0x7f2960e274d0>"
      ]
     },
     "metadata": {},
     "output_type": "display_data"
    }
   ],
   "source": [
    "# Plot spike waveform for one unit\n",
    "wv = spike_waveforms['probeB']['116']\n",
    "plt.plot(wv)\n",
    "plt.ylabel('Microvolts')\n",
    "plt.xlabel('ms')"
   ]
  },
  {
   "cell_type": "markdown",
   "metadata": {
    "collapsed": true
   },
   "source": [
    "<div style=\"background: #DFF0D8; border-radius: 3px; padding: 10px;\">\n",
    "** Exercise 4.1: ** Compute spike duration for all units in this experiment and plot histogram of values."
   ]
  },
  {
   "cell_type": "code",
   "execution_count": 63,
   "metadata": {
    "scrolled": false
   },
   "outputs": [],
   "source": [
    "# Concatenate waveforms into matrix\n",
    "wv = []\n",
    "for k,w in spike_waveforms.iteritems():\n",
    "    for kk,ww in w.iteritems():\n",
    "        wv.append(ww)  \n",
    "wv = np.array(wv)"
   ]
  },
  {
   "cell_type": "code",
   "execution_count": 64,
   "metadata": {},
   "outputs": [
    {
     "data": {
      "image/png": "[encoded data removed]",
      "text/plain": [
       "<matplotlib.figure.Figure at 0x7f295a997fd0>"
      ]
     },
     "metadata": {},
     "output_type": "display_data"
    }
   ],
   "source": [
    "# Plot all waveforms in this data_set\n",
    "fig,ax = plt.subplots(1,1,figsize=(6,4))\n",
    "for w in wv:\n",
    "    ax.plot(w,alpha=0.5)"
   ]
  },
  {
   "cell_type": "code",
   "execution_count": 65,
   "metadata": {},
   "outputs": [],
   "source": [
    "# Compute trough to peak duration\n",
    "duration = np.argmax(wv,axis=1) - np.argmin(wv,axis=1)\n",
    "duration = 1/30000.*duration*1000 # Convert samples to ms"
   ]
  },
  {
   "cell_type": "code",
   "execution_count": 66,
   "metadata": {},
   "outputs": [
    {
     "data": {
      "text/plain": [
       "Text(0.5,0,u'Spike duration (ms)')"
      ]
     },
     "execution_count": 66,
     "metadata": {},
     "output_type": "execute_result"
    },
    {
     "data": {
      "image/png": "[encoded data removed]",
      "text/plain": [
       "<matplotlib.figure.Figure at 0x7f2958579a90>"
      ]
     },
     "metadata": {},
     "output_type": "display_data"
    }
   ],
   "source": [
    "# Plot histogram of duration\n",
    "plt.hist(duration,bins=30,range=(0,1));\n",
    "plt.ylabel('N units')\n",
    "plt.xlabel('Spike duration (ms)')"
   ]
  },
  {
   "cell_type": "markdown",
   "metadata": {
    "collapsed": true
   },
   "source": [
    "<div style=\"background: #DFF0D8; border-radius: 3px; padding: 10px;\">\n",
    "** Exercise 4.2: ** Compute the average normalized waveform for RS and FS units and plot."
   ]
  },
  {
   "cell_type": "code",
   "execution_count": 67,
   "metadata": {},
   "outputs": [
    {
     "data": {
      "text/plain": [
       "[<matplotlib.lines.Line2D at 0x7f29584da350>]"
      ]
     },
     "execution_count": 67,
     "metadata": {},
     "output_type": "execute_result"
    },
    {
     "data": {
      "image/png": "[encoded data removed]",
      "text/plain": [
       "<matplotlib.figure.Figure at 0x7f29583d1590>"
      ]
     },
     "metadata": {},
     "output_type": "display_data"
    }
   ],
   "source": [
    "# Not yet complete. No waveform normalization yet. \n",
    "fs_idx = duration<0.4\n",
    "rs_idx = duration>=0.4\n",
    "fs = wv[fs_idx]\n",
    "rs = wv[rs_idx]\n",
    "\n",
    "fig,ax = plt.subplots(1,1,figsize=(8,4))\n",
    "ax.plot(fs.mean(axis=0))\n",
    "ax.plot(rs.mean(axis=0))"
   ]
  },
  {
   "cell_type": "code",
   "execution_count": null,
   "metadata": {},
   "outputs": [],
   "source": []
  },
  {
   "cell_type": "markdown",
   "metadata": {},
   "source": [
    "<div style=\"border-left: 3px solid #000; padding: 1px; padding-left: 10px; background: #F0FAFF; \">\n",
    "\n",
    "### Inter-spike interval (ISI) distributions and bursting\n",
    "* Refractory period\n",
    "* Bursting\n",
    "* Oscillations"
   ]
  },
  {
   "cell_type": "code",
   "execution_count": 68,
   "metadata": {},
   "outputs": [],
   "source": [
    "# Example units\n",
    "area = 'VISal'\n",
    "all_spikes = data_set.spike_times[area]\n",
    "units = ['166','254','283','226','100','63']\n",
    "unit_spikes = all_spikes['226']"
   ]
  },
  {
   "cell_type": "code",
   "execution_count": 69,
   "metadata": {},
   "outputs": [
    {
     "data": {
      "text/plain": [
       "Text(0.5,1,u'Spike train for 1 unit over first 10 minutes of experimental session')"
      ]
     },
     "execution_count": 69,
     "metadata": {},
     "output_type": "execute_result"
    },
    {
     "data": {
      "image/png": "[encoded data removed]",
      "text/plain": [
       "<matplotlib.figure.Figure at 0x7f29583bc0d0>"
      ]
     },
     "metadata": {},
     "output_type": "display_data"
    }
   ],
   "source": [
    "# Make raster plot of single unit spike train for first 600 seconds of recording\n",
    "fig,ax = plt.subplots(1,1,figsize=(15,4))\n",
    "\n",
    "t = (300,400)\n",
    "window_length = 5 # 5 seconds\n",
    "t = np.arange(t[0],t[1],window_length)\n",
    "\n",
    "# Plot 5 second chunks from unit\n",
    "for i,start in enumerate(t):\n",
    "    spk = unit_spikes[(unit_spikes>start) & (unit_spikes<=start+window_length)]\n",
    "    spk = spk - start\n",
    "    ax.plot(spk,i*np.ones_like(spk),'|',markersize=8)\n",
    "\n",
    "ax.set_xlabel('Time (s)')\n",
    "ax.set_title('Spike train for 1 unit over first 10 minutes of experimental session')"
   ]
  },
  {
   "cell_type": "markdown",
   "metadata": {},
   "source": [
    "<div style=\"background: #DFF0D8; border-radius: 3px; padding: 10px;\">\n",
    "** Task 4.1:** Plot the inter-spike interval distribution with 1 ms bins. Show 2 graphs with different x-limits: (0, 20 ms) and (0, 200 ms)"
   ]
  },
  {
   "cell_type": "code",
   "execution_count": 70,
   "metadata": {},
   "outputs": [
    {
     "name": "stdout",
     "output_type": "stream",
     "text": [
      "[ 993.06668396 1759.33336397 2240.73337236  394.96667355  282.63333826\n",
      "  227.66667063 1667.00002903  441.16667435  582.63334348  862.76668169\n",
      "  412.30000718  320.50000558  223.86667057  226.90000395 2007.60003497\n",
      " 2167.43337108  261.16667122  340.63333927 4040.5334037  1560.73336052]\n"
     ]
    }
   ],
   "source": [
    "# Compute inter-spike interval distribution for 1 unit\n",
    "isi = np.diff(unit_spikes)*1000 # convert to ms\n",
    "print(isi[:20])"
   ]
  },
  {
   "cell_type": "code",
   "execution_count": 71,
   "metadata": {},
   "outputs": [
    {
     "data": {
      "text/plain": [
       "Text(0.5,0,u'Inter-spike interval (ms)')"
      ]
     },
     "execution_count": 71,
     "metadata": {},
     "output_type": "execute_result"
    },
    {
     "data": {
      "image/png": "[encoded data removed]",
      "text/plain": [
       "<matplotlib.figure.Figure at 0x7f2958385b90>"
      ]
     },
     "metadata": {},
     "output_type": "display_data"
    }
   ],
   "source": [
    "# Plot ISI distribution as histogram with 1 ms bins\n",
    "fig,ax = plt.subplots(1,2,figsize=(10,4),sharey=True)\n",
    "ax[0].hist(isi,bins=200,range=(0,200))\n",
    "ax[1].hist(isi,bins=200,range=(0,200))\n",
    "ax[1].set_xlim(0,20)\n",
    "plt.ylabel('Count')\n",
    "plt.xlabel('Inter-spike interval (ms)')"
   ]
  },
  {
   "cell_type": "markdown",
   "metadata": {},
   "source": [
    "<div style=\"background: #DFF0D8; border-radius: 3px; padding: 10px;\">\n",
    "** Exercise 4.3:**\n",
    "1. Get spike times for 50 units with highest SNR and at least 3000 total spikes.\n",
    "2. Plot ISI distribution for each unit\n",
    "3. Do the ISI distributions vary between cells?"
   ]
  },
  {
   "cell_type": "code",
   "execution_count": 72,
   "metadata": {},
   "outputs": [
    {
     "data": {
      "image/png": "[encoded data removed]",
      "text/plain": [
       "<matplotlib.figure.Figure at 0x7f2958599b90>"
      ]
     },
     "metadata": {},
     "output_type": "display_data"
    }
   ],
   "source": [
    "# Get spike times for 50 units with highest SNR and at least 3000 total spikes\n",
    "unit_list = data_set.unit_list['VISal']\n",
    "all_spikes = data_set.spike_times['VISal']\n",
    "snr = np.ones_like(unit_list)\n",
    "unit_list = unit_list[np.argsort(snr)][:50] # placeholder. Need SNR\n",
    "\n",
    "# Figure setup\n",
    "fig,ax = plt.subplots(5,10,figsize=(15,7),sharex=True)\n",
    "ax = ax.ravel()\n",
    "\n",
    "# Plot ISI distribution for each unit\n",
    "for i,unit in enumerate(unit_list):\n",
    "        unit_spikes = all_spikes[unit]\n",
    "        if len(unit_spikes) > 3000:\n",
    "            isi = np.diff(unit_spikes)\n",
    "            ax[i].hist(isi,bins=50,range=(0,0.3))\n",
    "            ax[i].set_title(str(unit_list[i]),fontsize=7)\n",
    "\n",
    "plt.xlim(0,0.3)\n",
    "\n",
    "for i in ax:\n",
    "    i.axis('off')"
   ]
  },
  {
   "cell_type": "code",
   "execution_count": null,
   "metadata": {},
   "outputs": [],
   "source": []
  },
  {
   "cell_type": "markdown",
   "metadata": {},
   "source": [
    "<div style=\"border-left: 3px solid #000; padding: 1px; padding-left: 10px; background: #F0FAFF; \">\n",
    "\n",
    "\n",
    "# Project ideas"
   ]
  },
  {
   "cell_type": "markdown",
   "metadata": {},
   "source": [
    "** 1. Characterize visual stimulus coding by burst spikes**\n",
    "    * Many cortical cells fire action potential in bursts (ISI < 10 ms).\n",
    "    * Do burst spikes have similar tuning compared to all spikes?\n",
    "    * Is bursting stimulus-dependent?\n",
    "    \n",
    "** 2. Cell classification using multi-channel waveform, spiking pattern, functional interactions**\n",
    "    * Extracellular recordings can reveal RS and FS classes. \n",
    "    * High-density Neuropixels probes record single cells on multiple channels and this information can be useful for cell classification.\n",
    "    * Can units be clustered based on spiking pattern ('bursting' vs 'non-bursting')?\n",
    "    * Can spiking pattern, waveform, and functional interaction features be combined to improve unsupervised clustering (e.g. k-means) for identifying cell classes?\n",
    "    \n",
    "    \n",
    "** 3. Explore spike count variability as a function of timescale **\n",
    "    * Explore how spike count reliability and precision by examining variability on long (100s of ms) versus short (1-10 ms)timescales. \n",
    "\n",
    "\n",
    "** 4. Temporal dynamics of stimulus decodability**\n",
    "    * How fast can stimuli be decoded from spiking populations? What is the timecourse of decodability in different areas and cortical layers?\n",
    "    \n",
    "    \n",
    "** 5. Data visualization**\n",
    "    * Visualize action potential backpropagation along the probe\n",
    "    * Visualize spike patterns across shank of Neuropixels probe \n",
    "    * Visualize functional interaction network between layers and areas\n",
    "    * Use dimensionality reduction to visualize spiking population dynamics in lower dimensional space\n",
    "\n",
    "    \n",
    "** 6. Compare image decoding using ephys vs ophys measurements**"
   ]
  },
  {
   "cell_type": "code",
   "execution_count": null,
   "metadata": {},
   "outputs": [],
   "source": []
  }
 ],
 "metadata": {
  "kernelspec": {
   "display_name": "Python 2",
   "language": "python",
   "name": "python2"
  },
  "language_info": {
   "codemirror_mode": {
    "name": "ipython",
    "version": 2
   },
   "file_extension": ".py",
   "mimetype": "text/x-python",
   "name": "python",
   "nbconvert_exporter": "python",
   "pygments_lexer": "ipython2",
   "version": "2.7.14"
  }
 },
 "nbformat": 4,
 "nbformat_minor": 2
}
