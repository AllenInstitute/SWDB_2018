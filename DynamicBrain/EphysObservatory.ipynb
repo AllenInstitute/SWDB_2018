{
 "cells": [
  {
   "cell_type": "markdown",
   "metadata": {},
   "source": [
    "<img src=\"cropped-SummerWorkshop_Header.png\">  \n",
    "\n",
    "<h1 align=\"center\">SWDB, August 19-September 2, 2018</h1> \n",
    "<h3 align=\"center\"></h3> "
   ]
  },
  {
   "cell_type": "markdown",
   "metadata": {},
   "source": [
    "<h1 align=\"center\"> Dataset 3: Neuropixels Extracellular Electrophysiology</h1> \n",
    "<h3 align=\"center\">Wednesday, August 22, 2018</h3> \n",
    "# <img src=\"neuropixels.png\" height=\"250\" width=\"250\">  \n"
   ]
  },
  {
   "cell_type": "markdown",
   "metadata": {},
   "source": [
    "This notebook will introduce you to Neuropixels spiking datasets. We will describe the basic structure of the data and then walk through basic analysis methods for accesssing, analyzing, and visualizing spike train data.\n",
    "\n",
    "** Datasets:**\n",
    "* extracellular action potential recordings\n",
    "* populations of single neurons in mouse brain\n",
    "* passive visual stimulation in awake mouse\n",
    "* battery of stimuli including drifting gratings and natural scenes\n",
    "\n",
    "Note:\n",
    "These pre-release datasets collecting during piloting for our new Ephys Brain Observatory. Pipeline data collection has just started (August 2018) and production data will be released online in 2019. "
   ]
  },
  {
   "cell_type": "markdown",
   "metadata": {},
   "source": [
    "** Today's Agenda:**\n",
    "1. Overview of Neuropixels spiking datasets    \n",
    "2. Analysis and visualization of stimulus-evoked activity\n",
    "3. Correlations and cross-correlogram\n",
    "4. Waveform and spike pattern analysis for cell classification\n",
    "5. Project ideas"
   ]
  },
  {
   "cell_type": "markdown",
   "metadata": {},
   "source": [
    "## Drive path and imports"
   ]
  },
  {
   "cell_type": "code",
   "execution_count": 1,
   "metadata": {},
   "outputs": [],
   "source": [
    "#make sure your drive path is correct! \n",
    "# macOS/OS X\n",
    "#drive_path = '/Volumes/Brain2017/data/dynamic-brain-workshop/brain_observatory_cache/'\n",
    "\n",
    "# Windows (a good guess)\n",
    "# drive_path = 'e:/data/dynamic-brain-workshop/brain_observatory_cache'\n",
    "\n",
    "# Linux (will vary; the following is possibly what Ubuntu will do)\n",
    "# drive_path = '/media/Brain2017/data/dynamic-brain-workshop/brain_observatory_cache'\n",
    "\n",
    "# AWS\n",
    "# drive_path = '/data/dynamic-brain-workshop/brain_observatory_cache/'\n",
    "\n",
    "#AIBS\n",
    "drive_path = '/allen/aibs/informatics/swdb2018/visual_coding_neuropixels/'"
   ]
  },
  {
   "cell_type": "code",
   "execution_count": 2,
   "metadata": {},
   "outputs": [],
   "source": [
    "# We need to import these modules to get started\n",
    "import numpy as np\n",
    "import pandas as pd\n",
    "import os\n",
    "import matplotlib.pyplot as plt\n",
    "%matplotlib inline"
   ]
  },
  {
   "cell_type": "markdown",
   "metadata": {},
   "source": [
    "# 1. Overview of datasets"
   ]
  },
  {
   "cell_type": "markdown",
   "metadata": {},
   "source": [
    "** Brain areas:**\n",
    "* Single-probe experiments: VISp\n",
    "* Multi-probe experiments: VIPp + higher visual areas (VISam, VISpm, VISrl, VISl, VISal)\n",
    "\n",
    "** Visual stimuli:**\n",
    "* Passive visual stimulation using Brain Observatory - Visual Coding 1.1, 1.2 stimulus set"
   ]
  },
  {
   "cell_type": "code",
   "execution_count": 3,
   "metadata": {},
   "outputs": [
    {
     "data": {
      "text/html": [
       "<div>\n",
       "<style scoped>\n",
       "    .dataframe tbody tr th:only-of-type {\n",
       "        vertical-align: middle;\n",
       "    }\n",
       "\n",
       "    .dataframe tbody tr th {\n",
       "        vertical-align: top;\n",
       "    }\n",
       "\n",
       "    .dataframe thead th {\n",
       "        text-align: right;\n",
       "    }\n",
       "</style>\n",
       "<table border=\"1\" class=\"dataframe\">\n",
       "  <thead>\n",
       "    <tr style=\"text-align: right;\">\n",
       "      <th></th>\n",
       "      <th>nwb_filename</th>\n",
       "      <th>experiment_type</th>\n",
       "      <th>VISp</th>\n",
       "      <th>VISal</th>\n",
       "      <th>VISam</th>\n",
       "      <th>VISlm</th>\n",
       "      <th>VISpm</th>\n",
       "      <th>VISrl</th>\n",
       "      <th>locally_sparse_noise</th>\n",
       "      <th>gabor</th>\n",
       "      <th>drifting_gratings</th>\n",
       "      <th>static_gratings</th>\n",
       "      <th>natural_images</th>\n",
       "      <th>natural_movie_3</th>\n",
       "      <th>full_field_flashes</th>\n",
       "    </tr>\n",
       "  </thead>\n",
       "  <tbody>\n",
       "    <tr>\n",
       "      <th>0</th>\n",
       "      <td>nwb_M14_actual_ds2.nwb</td>\n",
       "      <td>single_probe</td>\n",
       "      <td>True</td>\n",
       "      <td>False</td>\n",
       "      <td>False</td>\n",
       "      <td>False</td>\n",
       "      <td>False</td>\n",
       "      <td>False</td>\n",
       "      <td>True</td>\n",
       "      <td>False</td>\n",
       "      <td>True</td>\n",
       "      <td>True</td>\n",
       "      <td>True</td>\n",
       "      <td>True</td>\n",
       "      <td>True</td>\n",
       "    </tr>\n",
       "    <tr>\n",
       "      <th>1</th>\n",
       "      <td>nwb_M15_actual_ds2.nwb</td>\n",
       "      <td>single_probe</td>\n",
       "      <td>True</td>\n",
       "      <td>False</td>\n",
       "      <td>False</td>\n",
       "      <td>False</td>\n",
       "      <td>False</td>\n",
       "      <td>False</td>\n",
       "      <td>True</td>\n",
       "      <td>False</td>\n",
       "      <td>True</td>\n",
       "      <td>True</td>\n",
       "      <td>True</td>\n",
       "      <td>True</td>\n",
       "      <td>True</td>\n",
       "    </tr>\n",
       "    <tr>\n",
       "      <th>2</th>\n",
       "      <td>nwb_M16_actual_ds2.nwb</td>\n",
       "      <td>single_probe</td>\n",
       "      <td>True</td>\n",
       "      <td>False</td>\n",
       "      <td>False</td>\n",
       "      <td>False</td>\n",
       "      <td>False</td>\n",
       "      <td>False</td>\n",
       "      <td>True</td>\n",
       "      <td>False</td>\n",
       "      <td>True</td>\n",
       "      <td>True</td>\n",
       "      <td>True</td>\n",
       "      <td>True</td>\n",
       "      <td>True</td>\n",
       "    </tr>\n",
       "    <tr>\n",
       "      <th>3</th>\n",
       "      <td>nwb_M39_actual_ds2.nwb</td>\n",
       "      <td>single_probe</td>\n",
       "      <td>True</td>\n",
       "      <td>False</td>\n",
       "      <td>False</td>\n",
       "      <td>False</td>\n",
       "      <td>False</td>\n",
       "      <td>False</td>\n",
       "      <td>True</td>\n",
       "      <td>False</td>\n",
       "      <td>True</td>\n",
       "      <td>True</td>\n",
       "      <td>True</td>\n",
       "      <td>True</td>\n",
       "      <td>True</td>\n",
       "    </tr>\n",
       "    <tr>\n",
       "      <th>4</th>\n",
       "      <td>nwb_M51_actual_ds2.nwb</td>\n",
       "      <td>single_probe</td>\n",
       "      <td>True</td>\n",
       "      <td>False</td>\n",
       "      <td>False</td>\n",
       "      <td>False</td>\n",
       "      <td>False</td>\n",
       "      <td>False</td>\n",
       "      <td>True</td>\n",
       "      <td>False</td>\n",
       "      <td>True</td>\n",
       "      <td>True</td>\n",
       "      <td>True</td>\n",
       "      <td>True</td>\n",
       "      <td>True</td>\n",
       "    </tr>\n",
       "    <tr>\n",
       "      <th>5</th>\n",
       "      <td>mouse372584_probe_surf_bob.nwb</td>\n",
       "      <td>multi_probe</td>\n",
       "      <td>True</td>\n",
       "      <td>True</td>\n",
       "      <td>True</td>\n",
       "      <td>True</td>\n",
       "      <td>True</td>\n",
       "      <td>True</td>\n",
       "      <td>True</td>\n",
       "      <td>True</td>\n",
       "      <td>True</td>\n",
       "      <td>True</td>\n",
       "      <td>True</td>\n",
       "      <td>True</td>\n",
       "      <td>True</td>\n",
       "    </tr>\n",
       "  </tbody>\n",
       "</table>\n",
       "</div>"
      ],
      "text/plain": [
       "                     nwb_filename experiment_type  VISp  VISal  VISam  VISlm  \\\n",
       "0          nwb_M14_actual_ds2.nwb    single_probe  True  False  False  False   \n",
       "1          nwb_M15_actual_ds2.nwb    single_probe  True  False  False  False   \n",
       "2          nwb_M16_actual_ds2.nwb    single_probe  True  False  False  False   \n",
       "3          nwb_M39_actual_ds2.nwb    single_probe  True  False  False  False   \n",
       "4          nwb_M51_actual_ds2.nwb    single_probe  True  False  False  False   \n",
       "5  mouse372584_probe_surf_bob.nwb     multi_probe  True   True   True   True   \n",
       "\n",
       "   VISpm  VISrl  locally_sparse_noise  gabor  drifting_gratings  \\\n",
       "0  False  False                  True  False               True   \n",
       "1  False  False                  True  False               True   \n",
       "2  False  False                  True  False               True   \n",
       "3  False  False                  True  False               True   \n",
       "4  False  False                  True  False               True   \n",
       "5   True   True                  True   True               True   \n",
       "\n",
       "   static_gratings  natural_images  natural_movie_3  full_field_flashes  \n",
       "0             True            True             True                True  \n",
       "1             True            True             True                True  \n",
       "2             True            True             True                True  \n",
       "3             True            True             True                True  \n",
       "4             True            True             True                True  \n",
       "5             True            True             True                True  "
      ]
     },
     "execution_count": 3,
     "metadata": {},
     "output_type": "execute_result"
    }
   ],
   "source": [
    "# Dataframe with table of metadata describing each experiment.\n",
    "# Each row represents one dataset\n",
    "df = pd.read_csv(os.path.join(drive_path,'ecephys_manifest.csv'))\n",
    "df"
   ]
  },
  {
   "cell_type": "code",
   "execution_count": 4,
   "metadata": {},
   "outputs": [
    {
     "name": "stdout",
     "output_type": "stream",
     "text": [
      "Number of single-probe experiments: 5\n"
     ]
    },
    {
     "data": {
      "text/html": [
       "<div>\n",
       "<style scoped>\n",
       "    .dataframe tbody tr th:only-of-type {\n",
       "        vertical-align: middle;\n",
       "    }\n",
       "\n",
       "    .dataframe tbody tr th {\n",
       "        vertical-align: top;\n",
       "    }\n",
       "\n",
       "    .dataframe thead th {\n",
       "        text-align: right;\n",
       "    }\n",
       "</style>\n",
       "<table border=\"1\" class=\"dataframe\">\n",
       "  <thead>\n",
       "    <tr style=\"text-align: right;\">\n",
       "      <th></th>\n",
       "      <th>nwb_filename</th>\n",
       "      <th>experiment_type</th>\n",
       "      <th>VISp</th>\n",
       "      <th>VISal</th>\n",
       "      <th>VISam</th>\n",
       "      <th>VISlm</th>\n",
       "      <th>VISpm</th>\n",
       "      <th>VISrl</th>\n",
       "      <th>locally_sparse_noise</th>\n",
       "      <th>gabor</th>\n",
       "      <th>drifting_gratings</th>\n",
       "      <th>static_gratings</th>\n",
       "      <th>natural_images</th>\n",
       "      <th>natural_movie_3</th>\n",
       "      <th>full_field_flashes</th>\n",
       "    </tr>\n",
       "  </thead>\n",
       "  <tbody>\n",
       "    <tr>\n",
       "      <th>0</th>\n",
       "      <td>nwb_M14_actual_ds2.nwb</td>\n",
       "      <td>single_probe</td>\n",
       "      <td>True</td>\n",
       "      <td>False</td>\n",
       "      <td>False</td>\n",
       "      <td>False</td>\n",
       "      <td>False</td>\n",
       "      <td>False</td>\n",
       "      <td>True</td>\n",
       "      <td>False</td>\n",
       "      <td>True</td>\n",
       "      <td>True</td>\n",
       "      <td>True</td>\n",
       "      <td>True</td>\n",
       "      <td>True</td>\n",
       "    </tr>\n",
       "    <tr>\n",
       "      <th>1</th>\n",
       "      <td>nwb_M15_actual_ds2.nwb</td>\n",
       "      <td>single_probe</td>\n",
       "      <td>True</td>\n",
       "      <td>False</td>\n",
       "      <td>False</td>\n",
       "      <td>False</td>\n",
       "      <td>False</td>\n",
       "      <td>False</td>\n",
       "      <td>True</td>\n",
       "      <td>False</td>\n",
       "      <td>True</td>\n",
       "      <td>True</td>\n",
       "      <td>True</td>\n",
       "      <td>True</td>\n",
       "      <td>True</td>\n",
       "    </tr>\n",
       "    <tr>\n",
       "      <th>2</th>\n",
       "      <td>nwb_M16_actual_ds2.nwb</td>\n",
       "      <td>single_probe</td>\n",
       "      <td>True</td>\n",
       "      <td>False</td>\n",
       "      <td>False</td>\n",
       "      <td>False</td>\n",
       "      <td>False</td>\n",
       "      <td>False</td>\n",
       "      <td>True</td>\n",
       "      <td>False</td>\n",
       "      <td>True</td>\n",
       "      <td>True</td>\n",
       "      <td>True</td>\n",
       "      <td>True</td>\n",
       "      <td>True</td>\n",
       "    </tr>\n",
       "    <tr>\n",
       "      <th>3</th>\n",
       "      <td>nwb_M39_actual_ds2.nwb</td>\n",
       "      <td>single_probe</td>\n",
       "      <td>True</td>\n",
       "      <td>False</td>\n",
       "      <td>False</td>\n",
       "      <td>False</td>\n",
       "      <td>False</td>\n",
       "      <td>False</td>\n",
       "      <td>True</td>\n",
       "      <td>False</td>\n",
       "      <td>True</td>\n",
       "      <td>True</td>\n",
       "      <td>True</td>\n",
       "      <td>True</td>\n",
       "      <td>True</td>\n",
       "    </tr>\n",
       "    <tr>\n",
       "      <th>4</th>\n",
       "      <td>nwb_M51_actual_ds2.nwb</td>\n",
       "      <td>single_probe</td>\n",
       "      <td>True</td>\n",
       "      <td>False</td>\n",
       "      <td>False</td>\n",
       "      <td>False</td>\n",
       "      <td>False</td>\n",
       "      <td>False</td>\n",
       "      <td>True</td>\n",
       "      <td>False</td>\n",
       "      <td>True</td>\n",
       "      <td>True</td>\n",
       "      <td>True</td>\n",
       "      <td>True</td>\n",
       "      <td>True</td>\n",
       "    </tr>\n",
       "  </tbody>\n",
       "</table>\n",
       "</div>"
      ],
      "text/plain": [
       "             nwb_filename experiment_type  VISp  VISal  VISam  VISlm  VISpm  \\\n",
       "0  nwb_M14_actual_ds2.nwb    single_probe  True  False  False  False  False   \n",
       "1  nwb_M15_actual_ds2.nwb    single_probe  True  False  False  False  False   \n",
       "2  nwb_M16_actual_ds2.nwb    single_probe  True  False  False  False  False   \n",
       "3  nwb_M39_actual_ds2.nwb    single_probe  True  False  False  False  False   \n",
       "4  nwb_M51_actual_ds2.nwb    single_probe  True  False  False  False  False   \n",
       "\n",
       "   VISrl  locally_sparse_noise  gabor  drifting_gratings  static_gratings  \\\n",
       "0  False                  True  False               True             True   \n",
       "1  False                  True  False               True             True   \n",
       "2  False                  True  False               True             True   \n",
       "3  False                  True  False               True             True   \n",
       "4  False                  True  False               True             True   \n",
       "\n",
       "   natural_images  natural_movie_3  full_field_flashes  \n",
       "0            True             True                True  \n",
       "1            True             True                True  \n",
       "2            True             True                True  \n",
       "3            True             True                True  \n",
       "4            True             True                True  "
      ]
     },
     "execution_count": 4,
     "metadata": {},
     "output_type": "execute_result"
    }
   ],
   "source": [
    "# Make new dataframe by selecting only single-probe experiments\n",
    "df1 = df[df.experiment_type == 'single_probe']\n",
    "\n",
    "print('Number of single-probe experiments: %s') %len(df1)\n",
    "df1"
   ]
  },
  {
   "cell_type": "markdown",
   "metadata": {},
   "source": [
    "**Task X.X:** Make a dataframe for 'multi-probe' experiments. "
   ]
  },
  {
   "cell_type": "code",
   "execution_count": null,
   "metadata": {},
   "outputs": [],
   "source": []
  },
  {
   "cell_type": "markdown",
   "metadata": {},
   "source": [
    "**Task X.X:** How many multi-probe experiments?"
   ]
  },
  {
   "cell_type": "code",
   "execution_count": null,
   "metadata": {},
   "outputs": [],
   "source": []
  },
  {
   "cell_type": "markdown",
   "metadata": {},
   "source": [
    "### Load dataset for one multi-probe experiment using NWB file adapter"
   ]
  },
  {
   "cell_type": "markdown",
   "metadata": {},
   "source": [
    "* Datasets are stored as NWB1.0 files which is based on HDF5 file format\n",
    "* To facilitate access to these files we have built a light-weight adapter object (NWB_adapter)\n",
    "* The NWB_adapter provides easy access to unit spike times and stimulus presentation metadata"
   ]
  },
  {
   "cell_type": "code",
   "execution_count": 5,
   "metadata": {},
   "outputs": [
    {
     "name": "stderr",
     "output_type": "stream",
     "text": [
      "/home/rami/.local/lib/python2.7/site-packages/h5py/__init__.py:36: FutureWarning: Conversion of the second argument of issubdtype from `float` to `np.floating` is deprecated. In future, it will be treated as `np.float64 == np.dtype(float).type`.\n",
      "  from ._conv import register_converters as _register_converters\n"
     ]
    }
   ],
   "source": [
    "# Temporary \n",
    "#sys.path.append(\"/Users/shawn/Dropbox/PythonCode/ephys_swdb2018\")\n",
    "from ephys_nwb_adapter import NWB_adapter\n",
    "%load_ext autoreload\n",
    "%autoreload 2"
   ]
  },
  {
   "cell_type": "code",
   "execution_count": 6,
   "metadata": {},
   "outputs": [],
   "source": [
    "# Import NWB_adapter (consider changing name to EphysDataset??)\n",
    "from swdb_2018_neuropixels.ephys_nwb_adapter import NWB_adapter"
   ]
  },
  {
   "cell_type": "code",
   "execution_count": 7,
   "metadata": {},
   "outputs": [],
   "source": [
    "# Temporary - NWB_file names should come from manifest dataframe\n",
    "nwb_file = os.path.join(drive_path,'mouse372584_probe_surf_bob.nwb')\n",
    "#nwb_file = os.path.join(drive_path,'nwb_M15_actual_ds2.nwb')"
   ]
  },
  {
   "cell_type": "code",
   "execution_count": 8,
   "metadata": {},
   "outputs": [],
   "source": [
    "data_set = NWB_adapter(nwb_file)"
   ]
  },
  {
   "cell_type": "code",
   "execution_count": 9,
   "metadata": {},
   "outputs": [
    {
     "data": {
      "text/plain": [
       "['natural_movie_3',\n",
       " u'dense_noise_8deg_2',\n",
       " 'gabor',\n",
       " u'locally_sparse_noise_4deg_0',\n",
       " 'drifting_gratings',\n",
       " u'locally_sparse_noise_8deg_1',\n",
       " u'spontaneous',\n",
       " 'static_gratings',\n",
       " 'natural_scenes']"
      ]
     },
     "execution_count": 9,
     "metadata": {},
     "output_type": "execute_result"
    }
   ],
   "source": [
    "data_set.stim_tables.keys()"
   ]
  },
  {
   "cell_type": "code",
   "execution_count": 10,
   "metadata": {},
   "outputs": [],
   "source": [
    "stim_table = data_set.stim_tables['natural_scenes']"
   ]
  },
  {
   "cell_type": "code",
   "execution_count": 11,
   "metadata": {},
   "outputs": [
    {
     "data": {
      "text/html": [
       "<div>\n",
       "<style scoped>\n",
       "    .dataframe tbody tr th:only-of-type {\n",
       "        vertical-align: middle;\n",
       "    }\n",
       "\n",
       "    .dataframe tbody tr th {\n",
       "        vertical-align: top;\n",
       "    }\n",
       "\n",
       "    .dataframe thead th {\n",
       "        text-align: right;\n",
       "    }\n",
       "</style>\n",
       "<table border=\"1\" class=\"dataframe\">\n",
       "  <thead>\n",
       "    <tr style=\"text-align: right;\">\n",
       "      <th></th>\n",
       "      <th>start</th>\n",
       "      <th>end</th>\n",
       "      <th>frame</th>\n",
       "    </tr>\n",
       "  </thead>\n",
       "  <tbody>\n",
       "    <tr>\n",
       "      <th>0</th>\n",
       "      <td>6342.87692</td>\n",
       "      <td>6343.14141</td>\n",
       "      <td>30.0</td>\n",
       "    </tr>\n",
       "    <tr>\n",
       "      <th>1</th>\n",
       "      <td>6343.14141</td>\n",
       "      <td>6343.39195</td>\n",
       "      <td>98.0</td>\n",
       "    </tr>\n",
       "    <tr>\n",
       "      <th>2</th>\n",
       "      <td>6343.39195</td>\n",
       "      <td>6343.64130</td>\n",
       "      <td>52.0</td>\n",
       "    </tr>\n",
       "    <tr>\n",
       "      <th>3</th>\n",
       "      <td>6343.64130</td>\n",
       "      <td>6343.89175</td>\n",
       "      <td>110.0</td>\n",
       "    </tr>\n",
       "    <tr>\n",
       "      <th>4</th>\n",
       "      <td>6343.89175</td>\n",
       "      <td>6344.14246</td>\n",
       "      <td>79.0</td>\n",
       "    </tr>\n",
       "  </tbody>\n",
       "</table>\n",
       "</div>"
      ],
      "text/plain": [
       "        start         end  frame\n",
       "0  6342.87692  6343.14141   30.0\n",
       "1  6343.14141  6343.39195   98.0\n",
       "2  6343.39195  6343.64130   52.0\n",
       "3  6343.64130  6343.89175  110.0\n",
       "4  6343.89175  6344.14246   79.0"
      ]
     },
     "execution_count": 11,
     "metadata": {},
     "output_type": "execute_result"
    }
   ],
   "source": [
    "stim_table.head()"
   ]
  },
  {
   "cell_type": "markdown",
   "metadata": {},
   "source": [
    "**Task X.X:** What are the attributes of the data_set object?"
   ]
  },
  {
   "cell_type": "code",
   "execution_count": 12,
   "metadata": {},
   "outputs": [
    {
     "data": {
      "text/plain": [
       "['stim_blocks',\n",
       " 'region_list',\n",
       " 'number_cells',\n",
       " 'spike_times',\n",
       " 'stim_list',\n",
       " 'unit_list',\n",
       " 'nwb_path',\n",
       " 'probe_list',\n",
       " 'stim_tables']"
      ]
     },
     "execution_count": 12,
     "metadata": {},
     "output_type": "execute_result"
    }
   ],
   "source": [
    "data_set.__dict__.keys()"
   ]
  },
  {
   "cell_type": "markdown",
   "metadata": {},
   "source": [
    "**Task X.X:** Which area has the most recorded units in this experiment?"
   ]
  },
  {
   "cell_type": "code",
   "execution_count": 13,
   "metadata": {},
   "outputs": [
    {
     "data": {
      "text/plain": [
       "{'VISal': 169, 'VISam': 39, 'VISl': 91, 'VISp': 99, 'VISpm': 218, 'VISrl': 123}"
      ]
     },
     "execution_count": 13,
     "metadata": {},
     "output_type": "execute_result"
    }
   ],
   "source": [
    "data_set.number_cells"
   ]
  },
  {
   "cell_type": "code",
   "execution_count": null,
   "metadata": {},
   "outputs": [],
   "source": []
  },
  {
   "cell_type": "markdown",
   "metadata": {},
   "source": [
    "### Spike times"
   ]
  },
  {
   "cell_type": "markdown",
   "metadata": {},
   "source": [
    "#### spike_times is a dictionary with areas as keys"
   ]
  },
  {
   "cell_type": "code",
   "execution_count": 14,
   "metadata": {},
   "outputs": [],
   "source": [
    "# Get all spike times from V1 units\n",
    "v1_spikes = data_set.spike_times['VISp']"
   ]
  },
  {
   "cell_type": "code",
   "execution_count": 15,
   "metadata": {},
   "outputs": [
    {
     "data": {
      "text/plain": [
       "['213', '130', '135', '24', '29']"
      ]
     },
     "execution_count": 15,
     "metadata": {},
     "output_type": "execute_result"
    }
   ],
   "source": [
    "# v1_spikes is a dictionary with unit IDs as keys\n",
    "v1_spikes.keys()[:5]"
   ]
  },
  {
   "cell_type": "markdown",
   "metadata": {},
   "source": [
    "** Task X.X:** How many units were recorded in V1 in this experiment?"
   ]
  },
  {
   "cell_type": "code",
   "execution_count": null,
   "metadata": {},
   "outputs": [],
   "source": []
  },
  {
   "cell_type": "markdown",
   "metadata": {},
   "source": [
    "#### unit_list stores unit IDs for each area"
   ]
  },
  {
   "cell_type": "code",
   "execution_count": 16,
   "metadata": {},
   "outputs": [
    {
     "name": "stdout",
     "output_type": "stream",
     "text": [
      "['213' '130' '135' '24' '29' '120' '52' '297' '319' '318' '313' '312'\n",
      " '311' '310' '317' '193' '192' '271' '88' '110']\n"
     ]
    }
   ],
   "source": [
    "# List of all units recorded in V1\n",
    "v1_unit_list = data_set.unit_list['VISp']\n",
    "print(v1_unit_list[:20]) # print unit ID for first 20 units"
   ]
  },
  {
   "cell_type": "markdown",
   "metadata": {},
   "source": [
    "#### Get spike times from single unit in V1"
   ]
  },
  {
   "cell_type": "code",
   "execution_count": 17,
   "metadata": {},
   "outputs": [
    {
     "data": {
      "text/plain": [
       "array([ 83.56477384,  86.57951547,  86.68798244,  88.586021  ,\n",
       "        88.93362196,  89.05875564,  89.22075608,  92.55973194,\n",
       "        93.01649987,  93.41710097,  93.60956817,  95.97974136,\n",
       "        98.34341454, 100.85415478, 101.23785584, 101.48322318,\n",
       "       102.71109323, 105.6784014 , 110.59888162, 112.06475232])"
      ]
     },
     "execution_count": 17,
     "metadata": {},
     "output_type": "execute_result"
    }
   ],
   "source": [
    "spikes = v1_spikes[v1_unit_list[0]]\n",
    "spikes[:20]"
   ]
  },
  {
   "cell_type": "markdown",
   "metadata": {},
   "source": [
    "### Raster plot of spikes over session"
   ]
  },
  {
   "cell_type": "markdown",
   "metadata": {},
   "source": [
    "#### Plot spike times from 1 neuron"
   ]
  },
  {
   "cell_type": "code",
   "execution_count": 18,
   "metadata": {},
   "outputs": [
    {
     "data": {
      "text/plain": [
       "Text(0.5,1,u'Spike train for 1 unit over first 10 minutes of experimental session')"
      ]
     },
     "execution_count": 18,
     "metadata": {},
     "output_type": "execute_result"
    },
    {
     "data": {
      "image/png": "[encoded data removed]",
      "text/plain": [
       "<matplotlib.figure.Figure at 0x7f922be0d950>"
      ]
     },
     "metadata": {},
     "output_type": "display_data"
    }
   ],
   "source": [
    "# Make raster plot of single unit spike train for first 600 seconds of recording\n",
    "fig,ax = plt.subplots(1,1,figsize=(15,1))\n",
    "ax.plot(spikes,np.ones_like(spikes),'|')\n",
    "ax.set_xlim(0,600)\n",
    "\n",
    "ax.set_xlabel('time (s)')\n",
    "ax.set_title('Spike train for 1 unit over first 10 minutes of experimental session')"
   ]
  },
  {
   "cell_type": "markdown",
   "metadata": {},
   "source": [
    "** Task X.X**  Plot spike train for last 500 seconds of recording."
   ]
  },
  {
   "cell_type": "code",
   "execution_count": null,
   "metadata": {},
   "outputs": [],
   "source": []
  },
  {
   "cell_type": "markdown",
   "metadata": {},
   "source": [
    "#### Plot spike times from 50 neurons"
   ]
  },
  {
   "cell_type": "code",
   "execution_count": 19,
   "metadata": {},
   "outputs": [
    {
     "data": {
      "text/plain": [
       "array(['213', '130', '135', '24', '29', '120', '52', '297', '319', '318',\n",
       "       '313', '312', '311', '310', '317', '193', '192', '271', '88',\n",
       "       '110', '113', '112', '119', '308', '309', 'noise', '302', '303',\n",
       "       '304', '305', '306', '307', '245', '243', '242', '102', '103',\n",
       "       '101', '106', '38', '32', '31', '30', '35', '338', '335', '334',\n",
       "       '337', '336', '331'], dtype='|S6')"
      ]
     },
     "execution_count": 19,
     "metadata": {},
     "output_type": "execute_result"
    }
   ],
   "source": [
    "v1_unit_list[:50]"
   ]
  },
  {
   "cell_type": "code",
   "execution_count": 20,
   "metadata": {},
   "outputs": [
    {
     "data": {
      "text/plain": [
       "Text(0.5,1,u'Spike train for 50 units over first 10 minutes of experimental session')"
      ]
     },
     "execution_count": 20,
     "metadata": {},
     "output_type": "execute_result"
    },
    {
     "data": {
      "image/png": "[encoded data removed]",
      "text/plain": [
       "<matplotlib.figure.Figure at 0x7f922be0d690>"
      ]
     },
     "metadata": {},
     "output_type": "display_data"
    }
   ],
   "source": [
    "# Figure setup\n",
    "fig,ax = plt.subplots(1,1)\n",
    "fig.set_size_inches(15,8)\n",
    "\n",
    "# Loop through list of spike times from each unit and plot at different y-values\n",
    "for i,unit in enumerate(v1_unit_list[:50]):\n",
    "    spike_times = v1_spikes[unit]\n",
    "    ax.plot(spike_times,i*np.ones_like(spike_times),'|')\n",
    "plt.xlim(0,600)\n",
    "\n",
    "ax.set_ylabel('units')\n",
    "ax.set_xlabel('time (s)')\n",
    "ax.set_title('Spike train for 50 units over first 10 minutes of experimental session')"
   ]
  },
  {
   "cell_type": "markdown",
   "metadata": {
    "collapsed": true
   },
   "source": [
    "** Exercise X.X:** Make series of rasters plots showing spiking activity from 20 units recordings in each of the 6 visual cortical areas."
   ]
  },
  {
   "cell_type": "code",
   "execution_count": 21,
   "metadata": {
    "scrolled": false
   },
   "outputs": [
    {
     "data": {
      "text/plain": [
       "Text(0,0.5,u'Units')"
      ]
     },
     "execution_count": 21,
     "metadata": {},
     "output_type": "execute_result"
    },
    {
     "data": {
      "image/png": "[encoded data removed]",
      "text/plain": [
       "<matplotlib.figure.Figure at 0x7f9228331f50>"
      ]
     },
     "metadata": {},
     "output_type": "display_data"
    }
   ],
   "source": [
    "# Raster plot showing 20 units simultaneously recorded in each of 6 areas\n",
    "areas = data_set.region_list\n",
    "\n",
    "# Figure setup\n",
    "fig,ax = plt.subplots(len(areas)/2,2,figsize=(15,7),sharex=True,sharey=True)\n",
    "ax = ax.ravel()\n",
    "colors = plt.rcParams['axes.prop_cycle'].by_key()['color']\n",
    "\n",
    "# Loop over areas\n",
    "for idx,area in enumerate(areas):\n",
    "    area_spikes = data_set.spike_times[area]\n",
    "    unit_list = area_spikes.keys()\n",
    "    \n",
    "    # Plot spike times for 20 units\n",
    "    for i,unit in enumerate(unit_list[:20]):\n",
    "        spike_times = area_spikes[unit]\n",
    "        ax[idx].plot(spike_times,i*np.ones_like(spike_times),'|',color=colors[idx],markersize=3)\n",
    "        ax[idx].set_title(area)\n",
    "        \n",
    "plt.xlim(0,600)\n",
    "ax[0].set_ylabel('Units')"
   ]
  },
  {
   "cell_type": "code",
   "execution_count": null,
   "metadata": {},
   "outputs": [],
   "source": []
  },
  {
   "cell_type": "markdown",
   "metadata": {},
   "source": [
    "# 2. Visualization and analysis of stimulus-evoked activity"
   ]
  },
  {
   "cell_type": "markdown",
   "metadata": {},
   "source": [
    "### Stimulus blocks"
   ]
  },
  {
   "cell_type": "code",
   "execution_count": 22,
   "metadata": {},
   "outputs": [
    {
     "data": {
      "text/html": [
       "<div>\n",
       "<style scoped>\n",
       "    .dataframe tbody tr th:only-of-type {\n",
       "        vertical-align: middle;\n",
       "    }\n",
       "\n",
       "    .dataframe tbody tr th {\n",
       "        vertical-align: top;\n",
       "    }\n",
       "\n",
       "    .dataframe thead th {\n",
       "        text-align: right;\n",
       "    }\n",
       "</style>\n",
       "<table border=\"1\" class=\"dataframe\">\n",
       "  <thead>\n",
       "    <tr style=\"text-align: right;\">\n",
       "      <th></th>\n",
       "      <th>start</th>\n",
       "      <th>end</th>\n",
       "      <th>stim type</th>\n",
       "    </tr>\n",
       "  </thead>\n",
       "  <tbody>\n",
       "    <tr>\n",
       "      <th>0</th>\n",
       "      <td>201.662</td>\n",
       "      <td>1488.79</td>\n",
       "      <td>locally_sparse_noise_4deg</td>\n",
       "    </tr>\n",
       "    <tr>\n",
       "      <th>1</th>\n",
       "      <td>1488.79</td>\n",
       "      <td>2689.8</td>\n",
       "      <td>locally_sparse_noise_8deg</td>\n",
       "    </tr>\n",
       "    <tr>\n",
       "      <th>2</th>\n",
       "      <td>2689.8</td>\n",
       "      <td>3890.81</td>\n",
       "      <td>dense_noise_8deg</td>\n",
       "    </tr>\n",
       "    <tr>\n",
       "      <th>3</th>\n",
       "      <td>3890.81</td>\n",
       "      <td>4802.83</td>\n",
       "      <td>gabor_20_deg</td>\n",
       "    </tr>\n",
       "    <tr>\n",
       "      <th>4</th>\n",
       "      <td>4802.82</td>\n",
       "      <td>5091.82</td>\n",
       "      <td>spontaneous</td>\n",
       "    </tr>\n",
       "    <tr>\n",
       "      <th>5</th>\n",
       "      <td>5091.82</td>\n",
       "      <td>6342.39</td>\n",
       "      <td>drifting_gratings</td>\n",
       "    </tr>\n",
       "    <tr>\n",
       "      <th>6</th>\n",
       "      <td>6342.88</td>\n",
       "      <td>7831.71</td>\n",
       "      <td>natural_scenes</td>\n",
       "    </tr>\n",
       "    <tr>\n",
       "      <th>7</th>\n",
       "      <td>7831.69</td>\n",
       "      <td>7844.21</td>\n",
       "      <td>spontaneous</td>\n",
       "    </tr>\n",
       "    <tr>\n",
       "      <th>8</th>\n",
       "      <td>7844.21</td>\n",
       "      <td>9358.19</td>\n",
       "      <td>static_gratings</td>\n",
       "    </tr>\n",
       "    <tr>\n",
       "      <th>9</th>\n",
       "      <td>9358.19</td>\n",
       "      <td>10559.8</td>\n",
       "      <td>natural_movie_3</td>\n",
       "    </tr>\n",
       "  </tbody>\n",
       "</table>\n",
       "</div>"
      ],
      "text/plain": [
       "     start      end                  stim type\n",
       "0  201.662  1488.79  locally_sparse_noise_4deg\n",
       "1  1488.79   2689.8  locally_sparse_noise_8deg\n",
       "2   2689.8  3890.81           dense_noise_8deg\n",
       "3  3890.81  4802.83               gabor_20_deg\n",
       "4  4802.82  5091.82                spontaneous\n",
       "5  5091.82  6342.39          drifting_gratings\n",
       "6  6342.88  7831.71             natural_scenes\n",
       "7  7831.69  7844.21                spontaneous\n",
       "8  7844.21  9358.19            static_gratings\n",
       "9  9358.19  10559.8            natural_movie_3"
      ]
     },
     "execution_count": 22,
     "metadata": {},
     "output_type": "execute_result"
    }
   ],
   "source": [
    "data_set.stim_blocks\n",
    "# Need helper function(s) to return/display stimulus blocks in session"
   ]
  },
  {
   "cell_type": "code",
   "execution_count": 23,
   "metadata": {},
   "outputs": [
    {
     "data": {
      "image/png": "[encoded data removed]",
      "text/plain": [
       "<matplotlib.figure.Figure at 0x7f922bc9c390>"
      ]
     },
     "metadata": {},
     "output_type": "display_data"
    }
   ],
   "source": [
    "# Figure setup\n",
    "fig,ax = plt.subplots(1,1,figsize=(15,1))\n",
    "colors = plt.rcParams['axes.prop_cycle'].by_key()['color']\n",
    "\n",
    "for idx,row in data_set.stim_blocks.iterrows():\n",
    "    ax.axvspan(row.start,row.end,color=colors[idx],alpha=0.5)"
   ]
  },
  {
   "cell_type": "markdown",
   "metadata": {},
   "source": [
    "** Exercise X.X: ** Plot stim_blocks for single-probe versus multi-probe experiment"
   ]
  },
  {
   "cell_type": "code",
   "execution_count": null,
   "metadata": {},
   "outputs": [],
   "source": []
  },
  {
   "cell_type": "markdown",
   "metadata": {},
   "source": [
    "### Stimulus table"
   ]
  },
  {
   "cell_type": "markdown",
   "metadata": {},
   "source": [
    "* Stimulus presentation information is found in the stimulus table\n",
    "* The stim table for each stimulus type is accessed via stim_tables dictionary\n",
    "* The keys of stim_tables are names of the stimulus sets"
   ]
  },
  {
   "cell_type": "code",
   "execution_count": 24,
   "metadata": {},
   "outputs": [
    {
     "data": {
      "text/plain": [
       "['natural_movie_3',\n",
       " u'dense_noise_8deg_2',\n",
       " 'gabor',\n",
       " u'locally_sparse_noise_4deg_0',\n",
       " 'drifting_gratings',\n",
       " u'locally_sparse_noise_8deg_1',\n",
       " u'spontaneous',\n",
       " 'static_gratings',\n",
       " 'natural_scenes']"
      ]
     },
     "execution_count": 24,
     "metadata": {},
     "output_type": "execute_result"
    }
   ],
   "source": [
    "data_set.stim_tables.keys()"
   ]
  },
  {
   "cell_type": "code",
   "execution_count": 25,
   "metadata": {},
   "outputs": [],
   "source": [
    "# Get the stim table for natural images\n",
    "ni_table = data_set.stim_tables['natural_scenes']"
   ]
  },
  {
   "cell_type": "code",
   "execution_count": 26,
   "metadata": {},
   "outputs": [
    {
     "data": {
      "text/html": [
       "<div>\n",
       "<style scoped>\n",
       "    .dataframe tbody tr th:only-of-type {\n",
       "        vertical-align: middle;\n",
       "    }\n",
       "\n",
       "    .dataframe tbody tr th {\n",
       "        vertical-align: top;\n",
       "    }\n",
       "\n",
       "    .dataframe thead th {\n",
       "        text-align: right;\n",
       "    }\n",
       "</style>\n",
       "<table border=\"1\" class=\"dataframe\">\n",
       "  <thead>\n",
       "    <tr style=\"text-align: right;\">\n",
       "      <th></th>\n",
       "      <th>start</th>\n",
       "      <th>end</th>\n",
       "      <th>frame</th>\n",
       "    </tr>\n",
       "  </thead>\n",
       "  <tbody>\n",
       "    <tr>\n",
       "      <th>0</th>\n",
       "      <td>6342.87692</td>\n",
       "      <td>6343.14141</td>\n",
       "      <td>30.0</td>\n",
       "    </tr>\n",
       "    <tr>\n",
       "      <th>1</th>\n",
       "      <td>6343.14141</td>\n",
       "      <td>6343.39195</td>\n",
       "      <td>98.0</td>\n",
       "    </tr>\n",
       "    <tr>\n",
       "      <th>2</th>\n",
       "      <td>6343.39195</td>\n",
       "      <td>6343.64130</td>\n",
       "      <td>52.0</td>\n",
       "    </tr>\n",
       "    <tr>\n",
       "      <th>3</th>\n",
       "      <td>6343.64130</td>\n",
       "      <td>6343.89175</td>\n",
       "      <td>110.0</td>\n",
       "    </tr>\n",
       "    <tr>\n",
       "      <th>4</th>\n",
       "      <td>6343.89175</td>\n",
       "      <td>6344.14246</td>\n",
       "      <td>79.0</td>\n",
       "    </tr>\n",
       "  </tbody>\n",
       "</table>\n",
       "</div>"
      ],
      "text/plain": [
       "        start         end  frame\n",
       "0  6342.87692  6343.14141   30.0\n",
       "1  6343.14141  6343.39195   98.0\n",
       "2  6343.39195  6343.64130   52.0\n",
       "3  6343.64130  6343.89175  110.0\n",
       "4  6343.89175  6344.14246   79.0"
      ]
     },
     "execution_count": 26,
     "metadata": {},
     "output_type": "execute_result"
    }
   ],
   "source": [
    "ni_table.head()"
   ]
  },
  {
   "cell_type": "markdown",
   "metadata": {},
   "source": [
    "**Task X.X:** How many presentations of image 46?"
   ]
  },
  {
   "cell_type": "code",
   "execution_count": 27,
   "metadata": {},
   "outputs": [
    {
     "name": "stdout",
     "output_type": "stream",
     "text": [
      "50\n"
     ]
    }
   ],
   "source": [
    "print(len(ni_table[ni_table.frame==46]))"
   ]
  },
  {
   "cell_type": "markdown",
   "metadata": {
    "collapsed": true
   },
   "source": [
    "### Trial-wise raster plot"
   ]
  },
  {
   "cell_type": "markdown",
   "metadata": {},
   "source": [
    "* We'll now use the stim table to identify when image #46 was presented\n",
    "* From this we'll extract spikes around each stimulus presentation\n",
    "* Finally we'll make a raster plot showing spikes on each trial"
   ]
  },
  {
   "cell_type": "code",
   "execution_count": 28,
   "metadata": {},
   "outputs": [
    {
     "data": {
      "text/html": [
       "<div>\n",
       "<style scoped>\n",
       "    .dataframe tbody tr th:only-of-type {\n",
       "        vertical-align: middle;\n",
       "    }\n",
       "\n",
       "    .dataframe tbody tr th {\n",
       "        vertical-align: top;\n",
       "    }\n",
       "\n",
       "    .dataframe thead th {\n",
       "        text-align: right;\n",
       "    }\n",
       "</style>\n",
       "<table border=\"1\" class=\"dataframe\">\n",
       "  <thead>\n",
       "    <tr style=\"text-align: right;\">\n",
       "      <th></th>\n",
       "      <th>start</th>\n",
       "      <th>end</th>\n",
       "      <th>frame</th>\n",
       "    </tr>\n",
       "  </thead>\n",
       "  <tbody>\n",
       "    <tr>\n",
       "      <th>92</th>\n",
       "      <td>6365.91075</td>\n",
       "      <td>6366.16059</td>\n",
       "      <td>46.0</td>\n",
       "    </tr>\n",
       "    <tr>\n",
       "      <th>178</th>\n",
       "      <td>6387.42892</td>\n",
       "      <td>6387.67866</td>\n",
       "      <td>46.0</td>\n",
       "    </tr>\n",
       "    <tr>\n",
       "      <th>191</th>\n",
       "      <td>6390.68130</td>\n",
       "      <td>6390.93137</td>\n",
       "      <td>46.0</td>\n",
       "    </tr>\n",
       "  </tbody>\n",
       "</table>\n",
       "</div>"
      ],
      "text/plain": [
       "          start         end  frame\n",
       "92   6365.91075  6366.16059   46.0\n",
       "178  6387.42892  6387.67866   46.0\n",
       "191  6390.68130  6390.93137   46.0"
      ]
     },
     "execution_count": 28,
     "metadata": {},
     "output_type": "execute_result"
    }
   ],
   "source": [
    "# Select trials from stim table for specific image_id\n",
    "image_id = 46\n",
    "img = ni_table[ni_table.frame==image_id]\n",
    "img.head(3) # this is the stim table for image 46"
   ]
  },
  {
   "cell_type": "code",
   "execution_count": 29,
   "metadata": {},
   "outputs": [],
   "source": [
    "# Example units from area AL\n",
    "area = 'VISal'\n",
    "units = ['166','254','283','226','100']\n",
    "all_spikes = data_set.spike_times[area]"
   ]
  },
  {
   "cell_type": "code",
   "execution_count": 30,
   "metadata": {},
   "outputs": [
    {
     "data": {
      "image/png": "[encoded data removed]",
      "text/plain": [
       "<matplotlib.figure.Figure at 0x7f92277cb090>"
      ]
     },
     "metadata": {},
     "output_type": "display_data"
    }
   ],
   "source": [
    "# Time before and after image presention\n",
    "pre_time = 1.\n",
    "post_time = 1.\n",
    "\n",
    "# Get spike times from first unit in list\n",
    "unit_spikes = all_spikes[units[0]]\n",
    "\n",
    "# Make list containing spike train for each image presentation\n",
    "all_trials = []\n",
    "for i,start in enumerate(img.start):\n",
    "    # Extract spikes around stimulus Start time\n",
    "    spikes = unit_spikes[(unit_spikes > start-pre_time) & (unit_spikes <= start+post_time)]\n",
    "    spikes = spikes - start\n",
    "    all_trials.append(list(spikes))\n",
    "\n",
    "# Figure setup\n",
    "fig,ax = plt.subplots(1,1,figsize=(6,3))\n",
    "\n",
    "# Make raster plot\n",
    "for i,spikes in enumerate(all_trials):\n",
    "    ax.plot(spikes,i*np.ones_like(spikes),'|',color='b')\n",
    "    ax.invert_yaxis()\n",
    "\n",
    "# Stimulus presentation window\n",
    "stimulus_duration = img.end.values[0] - img.start.values[0]\n",
    "ax.axvspan(0,stimulus_duration,color='gray',alpha=0.2);\n",
    "    "
   ]
  },
  {
   "cell_type": "markdown",
   "metadata": {},
   "source": [
    "**Exercise X.X:** Write a function to plot raster for a given unit and image. Use your function to plot rasters for 6 example units for image 46. \n",
    "* Function call: image_raster(img, unit_spikes, ax)\n",
    "    * img: stim table for 1 image\n",
    "    * unit_spikes: spike times for 1 unit\n",
    "    * ax: axis handle\n",
    "    \n",
    "    \n",
    "* Example units: ['166','254','283','226','100','63']"
   ]
  },
  {
   "cell_type": "code",
   "execution_count": null,
   "metadata": {},
   "outputs": [],
   "source": []
  },
  {
   "cell_type": "code",
   "execution_count": 31,
   "metadata": {},
   "outputs": [],
   "source": [
    "def image_raster(img,unit_spikes,ax=[]):\n",
    "    if not ax:\n",
    "        fig,ax = plt.subplots(1,1,figsize=(6,3))\n",
    "\n",
    "    pre_time = .5\n",
    "    post_time = .75\n",
    "\n",
    "    all_trials = []\n",
    "    # Get spike train for each trial\n",
    "    for i,start in enumerate(img.start):\n",
    "        spikes = unit_spikes[(unit_spikes > start-pre_time) & (unit_spikes < start+post_time)]\n",
    "        spikes = spikes - start\n",
    "        all_trials.append(list(spikes))\n",
    "\n",
    "    # Plot each trial\n",
    "    for i,spikes in enumerate(all_trials):\n",
    "        ax.plot(spikes,i*np.ones_like(spikes),'|',color='b',markersize=4)\n",
    "        ax.invert_yaxis()  \n",
    "    ax.axvspan(0,0.25,color='gray',alpha=0.2);\n",
    "\n",
    "    return ax"
   ]
  },
  {
   "cell_type": "code",
   "execution_count": 32,
   "metadata": {},
   "outputs": [
    {
     "data": {
      "text/plain": [
       "['VISp', 'VISrl', 'VISal', 'VISam', 'VISpm', 'VISl']"
      ]
     },
     "execution_count": 32,
     "metadata": {},
     "output_type": "execute_result"
    }
   ],
   "source": [
    "data_set.spike_times.keys()"
   ]
  },
  {
   "cell_type": "code",
   "execution_count": 33,
   "metadata": {},
   "outputs": [
    {
     "data": {
      "text/plain": [
       "(50, 0)"
      ]
     },
     "execution_count": 33,
     "metadata": {},
     "output_type": "execute_result"
    },
    {
     "data": {
      "image/png": "[encoded data removed]",
      "text/plain": [
       "<matplotlib.figure.Figure at 0x7f92276f1e50>"
      ]
     },
     "metadata": {},
     "output_type": "display_data"
    }
   ],
   "source": [
    "# Example units\n",
    "area = 'VISal'\n",
    "all_spikes = data_set.spike_times[area]\n",
    "units = ['166','254','283','226','100','63']\n",
    "\n",
    "# Image ID\n",
    "image_id = 46\n",
    "img = ni_table[ni_table.frame==image_id]\n",
    "\n",
    "# Figure setup\n",
    "fig,ax = plt.subplots(2,3,figsize=(16,7),sharex=True,sharey=True)\n",
    "ax = ax.ravel()\n",
    "\n",
    "for i,unit in enumerate(units):\n",
    "    unit_spikes = all_spikes[unit]\n",
    "    image_raster(img,unit_spikes,ax[i])\n",
    "    ax[i].set_title(unit)\n",
    "    \n",
    "ax[0].set_xlim(-0.5,0.75)\n",
    "ax[0].set_ylim(50,0)"
   ]
  },
  {
   "cell_type": "code",
   "execution_count": null,
   "metadata": {},
   "outputs": [],
   "source": []
  },
  {
   "cell_type": "markdown",
   "metadata": {},
   "source": [
    "### Peri-stimulus time histogram (PSTH)"
   ]
  },
  {
   "cell_type": "markdown",
   "metadata": {},
   "source": [
    "Text about PSTH"
   ]
  },
  {
   "cell_type": "code",
   "execution_count": 34,
   "metadata": {},
   "outputs": [],
   "source": [
    "# Example unit\n",
    "unit = '100'\n",
    "\n",
    "# Image ID\n",
    "image_id = 46\n",
    "img = ni_table[ni_table.frame==image_id]\n",
    "\n",
    "# Get spike times for unit\n",
    "unit_spikes = all_spikes[unit]\n",
    "\n",
    "# Get spike train for each stimulus presentation trial\n",
    "all_trials = []\n",
    "for i,start in enumerate(img.start):\n",
    "    spikes = unit_spikes[(unit_spikes > start-pre_time) & (unit_spikes < start+post_time)]\n",
    "    spikes = spikes - start\n",
    "    all_trials.append(list(spikes))"
   ]
  },
  {
   "cell_type": "code",
   "execution_count": 35,
   "metadata": {},
   "outputs": [],
   "source": [
    "# Make PSTH for each trial with 5 ms bins\n",
    "bins = np.arange(-1,1.01,0.005)\n",
    "all_counts = []\n",
    "for trial in all_trials:\n",
    "    c,edges = np.histogram(trial,bins)\n",
    "    c = c/np.diff(bins[0:2])\n",
    "    all_counts.append(c)\n",
    "centers = edges[:-1] + np.diff(bins)/2"
   ]
  },
  {
   "cell_type": "code",
   "execution_count": 36,
   "metadata": {},
   "outputs": [
    {
     "data": {
      "text/plain": [
       "Text(0.5,0,u'Time (s)')"
      ]
     },
     "execution_count": 36,
     "metadata": {},
     "output_type": "execute_result"
    },
    {
     "data": {
      "image/png": "[encoded data removed]",
      "text/plain": [
       "<matplotlib.figure.Figure at 0x7f922781f950>"
      ]
     },
     "metadata": {},
     "output_type": "display_data"
    }
   ],
   "source": [
    "# Plot mean PSTH across trials\n",
    "fig,ax = plt.subplots(1,1)\n",
    "ax.plot(centers,np.mean(all_counts,axis=0))\n",
    "ax.axvspan(0,0.25,color='gray',alpha=0.1)\n",
    "ax.set_ylabel('Firing rate (spikes/second)')\n",
    "ax.set_xlabel('Time (s)')"
   ]
  },
  {
   "cell_type": "code",
   "execution_count": null,
   "metadata": {},
   "outputs": [],
   "source": []
  },
  {
   "cell_type": "markdown",
   "metadata": {},
   "source": [
    "### Mean sweep response and tuning curves"
   ]
  },
  {
   "cell_type": "markdown",
   "metadata": {},
   "source": [
    "#### Here we'll analyze responses to drifting gratings"
   ]
  },
  {
   "cell_type": "code",
   "execution_count": 37,
   "metadata": {},
   "outputs": [],
   "source": [
    "# Get drifting gratings stim table\n",
    "dg_stim = data_set.stim_tables['drifting_gratings']\n",
    "\n",
    "# Select TF = 4.0\n",
    "dg_stim = dg_stim[(dg_stim.temporal_frequency==4.0)]\n",
    "\n",
    "# Get list of unique stimulus orientations\n",
    "oris = sorted(dg_stim.orientation.unique())"
   ]
  },
  {
   "cell_type": "markdown",
   "metadata": {},
   "source": [
    "** Task X.X **  TBD"
   ]
  },
  {
   "cell_type": "code",
   "execution_count": 38,
   "metadata": {},
   "outputs": [],
   "source": [
    "# Example cells\n",
    "area = 'VISal'\n",
    "all_spikes = data_set.spike_times[area]\n",
    "units = ['166','254','283','226','100','63']\n",
    "unit_spikes = all_spikes[units[0]]\n",
    "\n",
    "# Dictionary to store trial responses\n",
    "trial_response = {}\n",
    "\n",
    "# Window to compute firing rate\n",
    "window = 0.25\n",
    "\n",
    "# Dictionary to hold results\n",
    "mean_sweep = {'Ori':[],'fr_mean':[],'fr_sem':[]}\n",
    "\n",
    "# Loop over orientations\n",
    "for ori in oris:\n",
    "    tmp = dg_stim[dg_stim.orientation==ori]\n",
    "    sc = []\n",
    "    # Loop over trials/sweeps\n",
    "    for i,start in enumerate(tmp.start):\n",
    "        spikes = unit_spikes[(unit_spikes > start) & (unit_spikes <= start+window)]\n",
    "        sc.append(len(spikes)/window)\n",
    "    \n",
    "    mean_sweep['Ori'].append(ori)\n",
    "    mean_sweep['fr_mean'].append(np.mean(sc))\n",
    "    mean_sweep['fr_sem'].append(np.std(sc)/np.sqrt(len(sc)))"
   ]
  },
  {
   "cell_type": "code",
   "execution_count": 39,
   "metadata": {},
   "outputs": [
    {
     "data": {
      "text/plain": [
       "Text(0.5,0,u'Orientation (degrees)')"
      ]
     },
     "execution_count": 39,
     "metadata": {},
     "output_type": "execute_result"
    },
    {
     "data": {
      "image/png": "[encoded data removed]",
      "text/plain": [
       "<matplotlib.figure.Figure at 0x7f9226be0910>"
      ]
     },
     "metadata": {},
     "output_type": "display_data"
    }
   ],
   "source": [
    "# plot tuning curve\n",
    "plt.errorbar(x=mean_sweep['Ori'],y=mean_sweep['fr_mean'],yerr=mean_sweep['fr_sem'])\n",
    "plt.ylabel('Firing rate (spikes/second)')\n",
    "plt.xlabel('Orientation (degrees)')"
   ]
  },
  {
   "cell_type": "code",
   "execution_count": null,
   "metadata": {},
   "outputs": [],
   "source": []
  },
  {
   "cell_type": "markdown",
   "metadata": {
    "collapsed": true
   },
   "source": [
    "**Exercise X.X** Compute tuning curve for static gratings. "
   ]
  },
  {
   "cell_type": "code",
   "execution_count": null,
   "metadata": {},
   "outputs": [],
   "source": []
  },
  {
   "cell_type": "markdown",
   "metadata": {},
   "source": [
    "**Exercise X.X (Bonus)**  Plot rasters for each orientation of static and drifting gratings to compare temporal dynamics."
   ]
  },
  {
   "cell_type": "code",
   "execution_count": null,
   "metadata": {},
   "outputs": [],
   "source": []
  },
  {
   "cell_type": "markdown",
   "metadata": {},
   "source": [
    "# 3. Correlations and cross-correlogram"
   ]
  },
  {
   "cell_type": "markdown",
   "metadata": {},
   "source": [
    "### Correlation between two neurons"
   ]
  },
  {
   "cell_type": "code",
   "execution_count": 40,
   "metadata": {},
   "outputs": [],
   "source": [
    "# get stimulus table \n",
    "dg_stim = data_set.stim_tables['drifting_gratings']\n",
    "\n",
    "# Select TF = 4.0\n",
    "dg_stim = dg_stim[(dg_stim.temporal_frequency==4.0)]\n",
    "\n",
    "# get orientation conditions\n",
    "oris = sorted(dg_stim.orientation.unique())\n",
    "\n",
    "# get number of trials\n",
    "n_trials = len(np.where(dg_stim.orientation.values==oris[0])[0])\n"
   ]
  },
  {
   "cell_type": "code",
   "execution_count": 41,
   "metadata": {},
   "outputs": [
    {
     "data": {
      "text/html": [
       "<div>\n",
       "<style scoped>\n",
       "    .dataframe tbody tr th:only-of-type {\n",
       "        vertical-align: middle;\n",
       "    }\n",
       "\n",
       "    .dataframe tbody tr th {\n",
       "        vertical-align: top;\n",
       "    }\n",
       "\n",
       "    .dataframe thead th {\n",
       "        text-align: right;\n",
       "    }\n",
       "</style>\n",
       "<table border=\"1\" class=\"dataframe\">\n",
       "  <thead>\n",
       "    <tr style=\"text-align: right;\">\n",
       "      <th></th>\n",
       "      <th>start</th>\n",
       "      <th>end</th>\n",
       "      <th>temporal_frequency</th>\n",
       "      <th>spatial_frequency</th>\n",
       "      <th>orientation</th>\n",
       "    </tr>\n",
       "  </thead>\n",
       "  <tbody>\n",
       "    <tr>\n",
       "      <th>3</th>\n",
       "      <td>5097.83018</td>\n",
       "      <td>5099.34620</td>\n",
       "      <td>4.0</td>\n",
       "      <td>0.04</td>\n",
       "      <td>0.0</td>\n",
       "    </tr>\n",
       "    <tr>\n",
       "      <th>13</th>\n",
       "      <td>5117.84650</td>\n",
       "      <td>5119.36322</td>\n",
       "      <td>4.0</td>\n",
       "      <td>0.04</td>\n",
       "      <td>0.0</td>\n",
       "    </tr>\n",
       "    <tr>\n",
       "      <th>153</th>\n",
       "      <td>5398.08236</td>\n",
       "      <td>5399.59871</td>\n",
       "      <td>4.0</td>\n",
       "      <td>0.04</td>\n",
       "      <td>0.0</td>\n",
       "    </tr>\n",
       "    <tr>\n",
       "      <th>179</th>\n",
       "      <td>5450.12608</td>\n",
       "      <td>5451.64245</td>\n",
       "      <td>4.0</td>\n",
       "      <td>0.04</td>\n",
       "      <td>0.0</td>\n",
       "    </tr>\n",
       "    <tr>\n",
       "      <th>184</th>\n",
       "      <td>5460.13448</td>\n",
       "      <td>5461.65085</td>\n",
       "      <td>4.0</td>\n",
       "      <td>0.04</td>\n",
       "      <td>0.0</td>\n",
       "    </tr>\n",
       "    <tr>\n",
       "      <th>212</th>\n",
       "      <td>5516.18159</td>\n",
       "      <td>5517.69802</td>\n",
       "      <td>4.0</td>\n",
       "      <td>0.04</td>\n",
       "      <td>0.0</td>\n",
       "    </tr>\n",
       "    <tr>\n",
       "      <th>362</th>\n",
       "      <td>5816.43419</td>\n",
       "      <td>5817.95043</td>\n",
       "      <td>4.0</td>\n",
       "      <td>0.04</td>\n",
       "      <td>0.0</td>\n",
       "    </tr>\n",
       "    <tr>\n",
       "      <th>386</th>\n",
       "      <td>5864.47445</td>\n",
       "      <td>5865.99083</td>\n",
       "      <td>4.0</td>\n",
       "      <td>0.04</td>\n",
       "      <td>0.0</td>\n",
       "    </tr>\n",
       "    <tr>\n",
       "      <th>419</th>\n",
       "      <td>5930.53013</td>\n",
       "      <td>5932.04679</td>\n",
       "      <td>4.0</td>\n",
       "      <td>0.04</td>\n",
       "      <td>0.0</td>\n",
       "    </tr>\n",
       "    <tr>\n",
       "      <th>427</th>\n",
       "      <td>5946.54359</td>\n",
       "      <td>5948.06003</td>\n",
       "      <td>4.0</td>\n",
       "      <td>0.04</td>\n",
       "      <td>0.0</td>\n",
       "    </tr>\n",
       "    <tr>\n",
       "      <th>456</th>\n",
       "      <td>6004.59243</td>\n",
       "      <td>6006.10880</td>\n",
       "      <td>4.0</td>\n",
       "      <td>0.04</td>\n",
       "      <td>0.0</td>\n",
       "    </tr>\n",
       "    <tr>\n",
       "      <th>502</th>\n",
       "      <td>6096.66987</td>\n",
       "      <td>6098.18617</td>\n",
       "      <td>4.0</td>\n",
       "      <td>0.04</td>\n",
       "      <td>0.0</td>\n",
       "    </tr>\n",
       "    <tr>\n",
       "      <th>566</th>\n",
       "      <td>6224.77766</td>\n",
       "      <td>6226.29415</td>\n",
       "      <td>4.0</td>\n",
       "      <td>0.04</td>\n",
       "      <td>0.0</td>\n",
       "    </tr>\n",
       "    <tr>\n",
       "      <th>588</th>\n",
       "      <td>6268.81464</td>\n",
       "      <td>6270.33104</td>\n",
       "      <td>4.0</td>\n",
       "      <td>0.04</td>\n",
       "      <td>0.0</td>\n",
       "    </tr>\n",
       "    <tr>\n",
       "      <th>596</th>\n",
       "      <td>6284.82814</td>\n",
       "      <td>6286.34456</td>\n",
       "      <td>4.0</td>\n",
       "      <td>0.04</td>\n",
       "      <td>0.0</td>\n",
       "    </tr>\n",
       "  </tbody>\n",
       "</table>\n",
       "</div>"
      ],
      "text/plain": [
       "          start         end  temporal_frequency  spatial_frequency  \\\n",
       "3    5097.83018  5099.34620                 4.0               0.04   \n",
       "13   5117.84650  5119.36322                 4.0               0.04   \n",
       "153  5398.08236  5399.59871                 4.0               0.04   \n",
       "179  5450.12608  5451.64245                 4.0               0.04   \n",
       "184  5460.13448  5461.65085                 4.0               0.04   \n",
       "212  5516.18159  5517.69802                 4.0               0.04   \n",
       "362  5816.43419  5817.95043                 4.0               0.04   \n",
       "386  5864.47445  5865.99083                 4.0               0.04   \n",
       "419  5930.53013  5932.04679                 4.0               0.04   \n",
       "427  5946.54359  5948.06003                 4.0               0.04   \n",
       "456  6004.59243  6006.10880                 4.0               0.04   \n",
       "502  6096.66987  6098.18617                 4.0               0.04   \n",
       "566  6224.77766  6226.29415                 4.0               0.04   \n",
       "588  6268.81464  6270.33104                 4.0               0.04   \n",
       "596  6284.82814  6286.34456                 4.0               0.04   \n",
       "\n",
       "     orientation  \n",
       "3            0.0  \n",
       "13           0.0  \n",
       "153          0.0  \n",
       "179          0.0  \n",
       "184          0.0  \n",
       "212          0.0  \n",
       "362          0.0  \n",
       "386          0.0  \n",
       "419          0.0  \n",
       "427          0.0  \n",
       "456          0.0  \n",
       "502          0.0  \n",
       "566          0.0  \n",
       "588          0.0  \n",
       "596          0.0  "
      ]
     },
     "execution_count": 41,
     "metadata": {},
     "output_type": "execute_result"
    }
   ],
   "source": [
    "# visulize dataframe\n",
    "dg_stim.loc[dg_stim.orientation.values==oris[0]]"
   ]
  },
  {
   "cell_type": "code",
   "execution_count": 42,
   "metadata": {},
   "outputs": [],
   "source": [
    "# For given area:\n",
    "area = 'VISal'\n",
    "all_spikes = data_set.spike_times[area]\n",
    "\n",
    "# Time window to compute firing rate\n",
    "window = 0.25\n",
    "\n",
    "# Example units\n",
    "units = ['166','100']\n",
    "\n",
    "\n",
    "# define mean response matrix with dimension: neuron*ori*trial\n",
    "response = np.zeros([len(units), len(oris), n_trials])\n",
    "\n",
    "# Loop over orientations\n",
    "\n",
    "for idx_u, unit in enumerate(units):\n",
    "    unit_spikes = all_spikes[unit]\n",
    "    for idx_o, ori in enumerate(oris):\n",
    "        tmp = dg_stim[dg_stim.orientation==ori]\n",
    "        # Loop over trials/sweeps\n",
    "        for idx, start in enumerate(tmp.start):\n",
    "            spikes = unit_spikes[(unit_spikes > start) & (unit_spikes <= start+window)]\n",
    "            # calculate firing rate spike/sec\n",
    "            FR = len(spikes)/window\n",
    "            \n",
    "            response[idx_u, idx_o, idx]=FR"
   ]
  },
  {
   "cell_type": "code",
   "execution_count": 43,
   "metadata": {},
   "outputs": [
    {
     "data": {
      "text/plain": [
       "(2, 8, 15)"
      ]
     },
     "execution_count": 43,
     "metadata": {},
     "output_type": "execute_result"
    }
   ],
   "source": [
    "# check shape of output\n",
    "response.shape"
   ]
  },
  {
   "cell_type": "markdown",
   "metadata": {},
   "source": [
    "### Signal correlation: correlation among tuning curves"
   ]
  },
  {
   "cell_type": "code",
   "execution_count": 44,
   "metadata": {},
   "outputs": [
    {
     "data": {
      "text/plain": [
       "<matplotlib.legend.Legend at 0x7f921de26ad0>"
      ]
     },
     "execution_count": 44,
     "metadata": {},
     "output_type": "execute_result"
    },
    {
     "data": {
      "image/png": "[encoded data removed]",
      "text/plain": [
       "<matplotlib.figure.Figure at 0x7f9226bf1f50>"
      ]
     },
     "metadata": {},
     "output_type": "display_data"
    }
   ],
   "source": [
    "plt.figure()\n",
    "tmp = response[0,:,:]\n",
    "plt.errorbar(x=oris,y=tmp.mean(1),yerr=tmp.std(1)/np.sqrt(response.shape[2]), label=units[0])\n",
    "\n",
    "tmp = response[1,:,:]\n",
    "plt.errorbar(x=oris,y=tmp.mean(1),yerr=tmp.std(1)/np.sqrt(response.shape[2]), label=units[1])\n",
    "plt.legend()"
   ]
  },
  {
   "cell_type": "code",
   "execution_count": 45,
   "metadata": {},
   "outputs": [
    {
     "name": "stdout",
     "output_type": "stream",
     "text": [
      "0.659789048249292\n"
     ]
    }
   ],
   "source": [
    "signal_corr = np.corrcoef(response.mean(2))[0,1]\n",
    "print(signal_corr)"
   ]
  },
  {
   "cell_type": "markdown",
   "metadata": {},
   "source": [
    "### Noise correlation: correlation across trials"
   ]
  },
  {
   "cell_type": "code",
   "execution_count": 46,
   "metadata": {},
   "outputs": [
    {
     "data": {
      "text/plain": [
       "Text(0,0.5,u'Mean FR: 100')"
      ]
     },
     "execution_count": 46,
     "metadata": {},
     "output_type": "execute_result"
    },
    {
     "data": {
      "image/png": "[encoded data removed]",
      "text/plain": [
       "<matplotlib.figure.Figure at 0x7f921de9cf50>"
      ]
     },
     "metadata": {},
     "output_type": "display_data"
    }
   ],
   "source": [
    "plt.figure()\n",
    "ori=7\n",
    "plt.scatter(response[0,:,:].mean(0), response[1,:,:].mean(0))\n",
    "plt.xlabel('Mean FR: '+units[0])\n",
    "plt.ylabel('Mean FR: '+units[1])"
   ]
  },
  {
   "cell_type": "code",
   "execution_count": 47,
   "metadata": {},
   "outputs": [
    {
     "name": "stdout",
     "output_type": "stream",
     "text": [
      "-0.13741776633839484\n"
     ]
    }
   ],
   "source": [
    "noise_corr = np.corrcoef(response.mean(1))[0,1]\n",
    "print(noise_corr)"
   ]
  },
  {
   "cell_type": "markdown",
   "metadata": {
    "collapsed": true
   },
   "source": [
    "** Exercise X.X** Compute signal and noise correlation across all drifting grating stimulus parameters. Polot"
   ]
  },
  {
   "cell_type": "code",
   "execution_count": null,
   "metadata": {},
   "outputs": [],
   "source": []
  },
  {
   "cell_type": "markdown",
   "metadata": {
    "collapsed": true
   },
   "source": [
    "### Cross-correlogram: fast timescale correlations"
   ]
  },
  {
   "cell_type": "markdown",
   "metadata": {
    "collapsed": true
   },
   "source": [
    "TODO: Brief description of topic"
   ]
  },
  {
   "cell_type": "code",
   "execution_count": 48,
   "metadata": {},
   "outputs": [],
   "source": [
    "# Cross-correlogram (CCG)\n",
    "\n",
    "def ccg(train1, train2, binrange, binsize):\n",
    "    \"\"\"\n",
    "    Computes a cross-correlogram for two spike trains.\n",
    "\n",
    "    Parameters\n",
    "    ----------\n",
    "    train1 : numpy array\n",
    "        Primary spike train. Cross-correlogram will be computed relative to spikes in this spike train.\n",
    "    train2 : numpy array\n",
    "        Secondary spike train.\n",
    "    binrange : tuple or list of length=2\n",
    "        Window over which to compute cross correlogram.\n",
    "    binsize : float\n",
    "        Size of bins in cross-correlogram\n",
    "\n",
    "    \"\"\"\n",
    "    \n",
    "    nbins = int((binrange[1]-binrange[0])/binsize)\n",
    "    \n",
    "    diffs = [extract_local(train2,t1,binrange) for t1 in train1]\n",
    "        \n",
    "    diffs = np.hstack(diffs)\n",
    "    diffs = diffs[diffs!=0]\n",
    "\n",
    "    hist, edges = np.histogram(diffs, bins=nbins, range=binrange)\n",
    "        \n",
    "    return edges[1:]-binsize/2, hist /float(len(train1))*100\n",
    "\n",
    "def extract_local(train2,t1,binrange):\n",
    "    \"\"\"\n",
    "    Returns events in `train2` which are within `binrange` of `t1`, aligned to `t1`\n",
    "\n",
    "    Parameters\n",
    "    ----------\n",
    "    train2 : numpy array\n",
    "    t1 : float\n",
    "    binrange : tuple or list of length=2\n",
    "\n",
    "    \"\"\"\n",
    "\n",
    "    start = np.searchsorted(train2,t1 + binrange[0])\n",
    "    end = np.searchsorted(train2,t1 + binrange[1])\n",
    "\n",
    "    return train2[start:end] - t1"
   ]
  },
  {
   "cell_type": "code",
   "execution_count": 49,
   "metadata": {},
   "outputs": [],
   "source": [
    "# task\n",
    "unit_list = data_set.unit_list['VISp']"
   ]
  },
  {
   "cell_type": "code",
   "execution_count": 50,
   "metadata": {},
   "outputs": [],
   "source": [
    "spt_0 = v1_spikes[unit_list[9]]\n",
    "spt_1 = v1_spikes[unit_list[12]]"
   ]
  },
  {
   "cell_type": "code",
   "execution_count": 51,
   "metadata": {},
   "outputs": [
    {
     "data": {
      "image/png": "[encoded data removed]",
      "text/plain": [
       "<matplotlib.figure.Figure at 0x7f921ddf3090>"
      ]
     },
     "metadata": {},
     "output_type": "display_data"
    }
   ],
   "source": [
    "#Plot cross-correlogram between spike trains recorded from the two units\n",
    "\n",
    "binsize = 0.001\n",
    "ccg_win = [-0.1005,0.1005] #np.arange(-0.1005,0.1005,binsize)\n",
    "ccg_centers,ccg_vals = ccg(spt_0,spt_1,ccg_win,binsize)\n",
    "plt.figure()\n",
    "plt.plot(ccg_centers,ccg_vals)\n",
    "ax = plt.gca()\n",
    "ax.axvline(ccg_centers[100],color='gray',linewidth = 0.8)\n",
    "plt.show()"
   ]
  },
  {
   "cell_type": "markdown",
   "metadata": {
    "collapsed": true
   },
   "source": [
    "** Exercise X.X (Bonus): ** Write function to compute the \"shuffle corrected CCG\""
   ]
  },
  {
   "cell_type": "code",
   "execution_count": 52,
   "metadata": {},
   "outputs": [],
   "source": [
    "# Solution"
   ]
  },
  {
   "cell_type": "markdown",
   "metadata": {},
   "source": [
    "# 4. Waveform and spike train analysis for cell classification"
   ]
  },
  {
   "cell_type": "markdown",
   "metadata": {},
   "source": [
    "* Different cell types can show distinct extracellular action potential waveforms and firing patterns\n",
    "* Here we will plot spike waveforms and inter-spike interval distributions for units in this experiment\n",
    "* We will start by illustrating the classic RS and FS units division"
   ]
  },
  {
   "cell_type": "markdown",
   "metadata": {},
   "source": [
    "### Spike waveforms: regular spiking (RS) and fast spiking (FS) units"
   ]
  },
  {
   "cell_type": "code",
   "execution_count": 53,
   "metadata": {},
   "outputs": [],
   "source": [
    "# Need get_spike_waveforms function\n",
    "spike_waveforms = data_set.get_waveforms()"
   ]
  },
  {
   "cell_type": "code",
   "execution_count": 54,
   "metadata": {},
   "outputs": [
    {
     "data": {
      "text/plain": [
       "Text(0.5,0,u'ms')"
      ]
     },
     "execution_count": 54,
     "metadata": {},
     "output_type": "execute_result"
    },
    {
     "data": {
      "image/png": "[encoded data removed]",
      "text/plain": [
       "<matplotlib.figure.Figure at 0x7f921dd41f10>"
      ]
     },
     "metadata": {},
     "output_type": "display_data"
    }
   ],
   "source": [
    "# Plot spike waveform for one unit\n",
    "wv = spike_waveforms['probeB']['116']\n",
    "plt.plot(wv)\n",
    "plt.ylabel('microvolts')\n",
    "plt.xlabel('ms')"
   ]
  },
  {
   "cell_type": "markdown",
   "metadata": {
    "collapsed": true
   },
   "source": [
    "** Exercise X.X: ** Compute spike duration for all units in this experiment and plot histogram of values."
   ]
  },
  {
   "cell_type": "code",
   "execution_count": 55,
   "metadata": {
    "scrolled": false
   },
   "outputs": [],
   "source": [
    "# Concatenate waveforms into matrix\n",
    "wv = []\n",
    "for k,w in spike_waveforms.iteritems():\n",
    "    for kk,ww in w.iteritems():\n",
    "        wv.append(ww)  \n",
    "wv = np.array(wv)"
   ]
  },
  {
   "cell_type": "code",
   "execution_count": 56,
   "metadata": {},
   "outputs": [
    {
     "data": {
      "image/png": "[encoded data removed]",
      "text/plain": [
       "<matplotlib.figure.Figure at 0x7f922754ffd0>"
      ]
     },
     "metadata": {},
     "output_type": "display_data"
    }
   ],
   "source": [
    "# Plot all waveforms in this data_set\n",
    "fig,ax = plt.subplots(1,1,figsize=(6,4))\n",
    "for w in wv:\n",
    "    ax.plot(w,alpha=0.5)"
   ]
  },
  {
   "cell_type": "code",
   "execution_count": 57,
   "metadata": {},
   "outputs": [],
   "source": [
    "# Compute trough to peak duration\n",
    "duration = np.argmax(wv,axis=1) - np.argmin(wv,axis=1)\n",
    "duration = 1/30000.*duration*1000 # Convert samples to ms"
   ]
  },
  {
   "cell_type": "code",
   "execution_count": 58,
   "metadata": {},
   "outputs": [
    {
     "data": {
      "text/plain": [
       "Text(0.5,0,u'Spike duration (ms)')"
      ]
     },
     "execution_count": 58,
     "metadata": {},
     "output_type": "execute_result"
    },
    {
     "data": {
      "image/png": "[encoded data removed]",
      "text/plain": [
       "<matplotlib.figure.Figure at 0x7f9226d06890>"
      ]
     },
     "metadata": {},
     "output_type": "display_data"
    }
   ],
   "source": [
    "# Plot histogram of duration\n",
    "plt.hist(duration,bins=30,range=(0,1));\n",
    "plt.ylabel('N units')\n",
    "plt.xlabel('Spike duration (ms)')"
   ]
  },
  {
   "cell_type": "code",
   "execution_count": null,
   "metadata": {},
   "outputs": [],
   "source": []
  },
  {
   "cell_type": "code",
   "execution_count": 59,
   "metadata": {},
   "outputs": [
    {
     "data": {
      "text/plain": [
       "[<matplotlib.lines.Line2D at 0x7f921c878690>]"
      ]
     },
     "execution_count": 59,
     "metadata": {},
     "output_type": "execute_result"
    },
    {
     "data": {
      "image/png": "[encoded data removed]",
      "text/plain": [
       "<matplotlib.figure.Figure at 0x7f921c766d10>"
      ]
     },
     "metadata": {},
     "output_type": "display_data"
    }
   ],
   "source": [
    "# Not yet complete. No waveform normalization yet. \n",
    "fs_idx = duration<0.4\n",
    "rs_idx = duration>=0.4\n",
    "fs = wv[fs_idx]\n",
    "rs = wv[rs_idx]\n",
    "\n",
    "fig,ax = plt.subplots(1,1,figsize=(8,4))\n",
    "ax.plot(fs.mean(axis=0))\n",
    "ax.plot(rs.mean(axis=0))"
   ]
  },
  {
   "cell_type": "code",
   "execution_count": null,
   "metadata": {},
   "outputs": [],
   "source": []
  },
  {
   "cell_type": "markdown",
   "metadata": {},
   "source": [
    "### Inter-spike interval (ISI) distributions and bursting\n",
    "* Refractory period\n",
    "* Bursting\n",
    "* Oscillations"
   ]
  },
  {
   "cell_type": "code",
   "execution_count": 60,
   "metadata": {},
   "outputs": [],
   "source": [
    "# Example units\n",
    "area = 'VISal'\n",
    "all_spikes = data_set.spike_times[area]\n",
    "units = ['166','254','283','226','100','63']\n",
    "unit_spikes = all_spikes['226']"
   ]
  },
  {
   "cell_type": "markdown",
   "metadata": {},
   "source": [
    "** Task XX: ** Plot raster for this unit. Show spike train between 300 and 310 seconds"
   ]
  },
  {
   "cell_type": "code",
   "execution_count": 61,
   "metadata": {},
   "outputs": [
    {
     "name": "stdout",
     "output_type": "stream",
     "text": [
      "[300 305 310 315 320 325 330 335 340 345 350 355 360 365 370 375 380 385\n",
      " 390 395]\n"
     ]
    },
    {
     "data": {
      "text/plain": [
       "Text(0.5,1,u'Spike train for 1 unit over first 10 minutes of experimental session')"
      ]
     },
     "execution_count": 61,
     "metadata": {},
     "output_type": "execute_result"
    },
    {
     "data": {
      "image/png": "[encoded data removed]",
      "text/plain": [
       "<matplotlib.figure.Figure at 0x7f921c8d6d90>"
      ]
     },
     "metadata": {},
     "output_type": "display_data"
    }
   ],
   "source": [
    "# Make raster plot of single unit spike train for first 600 seconds of recording\n",
    "fig,ax = plt.subplots(1,1,figsize=(15,4))\n",
    "\n",
    "\n",
    "t = (300,400)\n",
    "window_length = 5 # 5 seconds\n",
    "t = np.arange(t[0],t[1],window_length)\n",
    "print t\n",
    "for i,start in enumerate(t):\n",
    "    spk = unit_spikes[(unit_spikes>start) & (unit_spikes<=start+window_length)]\n",
    "    spk = spk - start\n",
    "    ax.plot(spk,i*np.ones_like(spk),'|',markersize=8)\n",
    "# ax.set_xlim(300,310)\n",
    "\n",
    "ax.set_xlabel('time (s)')\n",
    "ax.set_title('Spike train for 1 unit over first 10 minutes of experimental session')"
   ]
  },
  {
   "cell_type": "code",
   "execution_count": 62,
   "metadata": {},
   "outputs": [
    {
     "name": "stdout",
     "output_type": "stream",
     "text": [
      "[   6.36664909  317.6991228     5.36665185   17.73328437   13.93329486\n",
      " 1219.6966323     5.53331806  107.73303587    5.36665185   16.03328906\n",
      "  154.23290748    5.63331778   20.23327747  462.46538975    4.43332109\n",
      "   53.46651904    7.99997791  100.56638899    5.36665185   97.53306403]\n"
     ]
    }
   ],
   "source": [
    "# Compute inter-spike interval distribution for 1 unit\n",
    "isi = np.diff(unit_spikes)*1000 # convert to ms\n",
    "print(isi[:20])"
   ]
  },
  {
   "cell_type": "code",
   "execution_count": 63,
   "metadata": {},
   "outputs": [
    {
     "data": {
      "text/plain": [
       "Text(0.5,0,u'Inter-spike interval (ms)')"
      ]
     },
     "execution_count": 63,
     "metadata": {},
     "output_type": "execute_result"
    },
    {
     "data": {
      "image/png": "[encoded data removed]",
      "text/plain": [
       "<matplotlib.figure.Figure at 0x7f921c72f590>"
      ]
     },
     "metadata": {},
     "output_type": "display_data"
    }
   ],
   "source": [
    "# Plot ISI distribution as histogram with 1 ms bins\n",
    "fig,ax = plt.subplots(1,2,figsize=(10,4),sharey=True)\n",
    "ax[0].hist(isi,bins=200,range=(0,200))\n",
    "ax[1].hist(isi,bins=200,range=(0,200))\n",
    "ax[1].set_xlim(0,20)\n",
    "plt.ylabel('Count')\n",
    "plt.xlabel('Inter-spike interval (ms)')"
   ]
  },
  {
   "cell_type": "markdown",
   "metadata": {},
   "source": [
    "** Exercise X.X:**\n",
    "1. Get spike times for 50 units with highest SNR and at least 3000 total spikes.\n",
    "2. Plot ISI distribution for each unit\n",
    "3. Do the ISI distributions vary between cells?"
   ]
  },
  {
   "cell_type": "code",
   "execution_count": 64,
   "metadata": {},
   "outputs": [
    {
     "data": {
      "image/png": "[encoded data removed]",
      "text/plain": [
       "<matplotlib.figure.Figure at 0x7f921c241990>"
      ]
     },
     "metadata": {},
     "output_type": "display_data"
    }
   ],
   "source": [
    "# Get spike times for 50 units with highest SNR and at least 3000 total spikes\n",
    "unit_list = data_set.unit_list['VISal']\n",
    "all_spikes = data_set.spike_times['VISal']\n",
    "snr = np.ones_like(unit_list)\n",
    "unit_list = unit_list[np.argsort(snr)][:50] # placeholder. Need SNR\n",
    "\n",
    "# Figure setup\n",
    "fig,ax = plt.subplots(5,10,figsize=(15,7),sharex=True)\n",
    "ax = ax.ravel()\n",
    "\n",
    "# Plot ISI distribution for each unit\n",
    "for i,unit in enumerate(unit_list):\n",
    "        unit_spikes = all_spikes[unit]\n",
    "        if len(unit_spikes) > 3000:\n",
    "            isi = np.diff(unit_spikes)\n",
    "            ax[i].hist(isi,bins=50,range=(0,0.3))\n",
    "            ax[i].set_title(str(unit_list[i]),fontsize=7)\n",
    "\n",
    "plt.xlim(0,0.3)\n",
    "\n",
    "for i in ax:\n",
    "    i.axis('off')"
   ]
  },
  {
   "cell_type": "markdown",
   "metadata": {
    "collapsed": true
   },
   "source": [
    "** Task X.X: **"
   ]
  },
  {
   "cell_type": "code",
   "execution_count": null,
   "metadata": {},
   "outputs": [],
   "source": []
  },
  {
   "cell_type": "markdown",
   "metadata": {
    "collapsed": true
   },
   "source": [
    "** Exercise X.X: **"
   ]
  },
  {
   "cell_type": "code",
   "execution_count": null,
   "metadata": {},
   "outputs": [],
   "source": []
  },
  {
   "cell_type": "markdown",
   "metadata": {},
   "source": [
    "# Project ideas"
   ]
  },
  {
   "cell_type": "markdown",
   "metadata": {},
   "source": [
    "** 1. Characterize visual stimulus coding by burst spikes**\n",
    "    * Many cortical cells fire action potential in bursts (ISI < 10 ms).\n",
    "    * Do burst spikes have similar tuning compared to all spikes?\n",
    "    * Is bursting stimulus-dependent?\n",
    "    \n",
    "** 2. Cell classification using multi-channel waveform, spiking pattern, functional interactions**\n",
    "    * Extracellular recordings can reveal RS and FS classes. \n",
    "    * High-density Neuropixels probes pick up single cells on multiple channels and this information can be useful for cell classification. See biorxiv preprint: https://www.biorxiv.org/content/early/2018/07/25/376863.\n",
    "    * Can units be clustered based on spiking pattern ('bursting' vs 'non-bursting')?\n",
    "    * Can spiking pattern, waveform, and functional interaction features be combined to improve unsupervised clustering (e.g. k-means) for identifying cell classes?\n",
    "    \n",
    "    \n",
    "** 3. Spike count variability as a function of timescale **\n",
    "    * Long (100 of ms) versus short (1-10 ms)timescales \n",
    "    * \n",
    "    * \n",
    "\n",
    "** 4. Temporal dynamics of stimulus decodability**\n",
    "    * How fast can stimuli be decoded from spiking populations? What is the timecourse of decodability in different areas and cortical layers?\n",
    "    *\n",
    "    *\n",
    "    \n",
    "** 5. Data visualization**\n",
    "    * Visualize action potential backpropagation along the probe\n",
    "    * Visualize spike patterns across shank of Neuropixels probe \n",
    "    * Visualize functional interaction network between layers and areas\n",
    "    * Use dimensionality reduction to visualize spiking population dynamics in lower dimensional space\n",
    "\n",
    "    \n",
    "** 6. Image decoding using ephys vs ophys measurements**\n",
    "    * \n",
    "    * \n",
    "    * \n",
    "    \n"
   ]
  },
  {
   "cell_type": "code",
   "execution_count": null,
   "metadata": {},
   "outputs": [],
   "source": []
  },
  {
   "cell_type": "code",
   "execution_count": null,
   "metadata": {},
   "outputs": [],
   "source": []
  },
  {
   "cell_type": "code",
   "execution_count": null,
   "metadata": {},
   "outputs": [],
   "source": []
  },
  {
   "cell_type": "code",
   "execution_count": null,
   "metadata": {},
   "outputs": [],
   "source": []
  }
 ],
 "metadata": {
  "kernelspec": {
   "display_name": "Python 2",
   "language": "python",
   "name": "python2"
  },
  "language_info": {
   "codemirror_mode": {
    "name": "ipython",
    "version": 2
   },
   "file_extension": ".py",
   "mimetype": "text/x-python",
   "name": "python",
   "nbconvert_exporter": "python",
   "pygments_lexer": "ipython2",
   "version": "2.7.14"
  }
 },
 "nbformat": 4,
 "nbformat_minor": 2
}
