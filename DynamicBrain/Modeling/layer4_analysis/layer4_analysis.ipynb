{
 "cells": [
  {
   "cell_type": "markdown",
   "metadata": {},
   "source": [
    "<img src=\"../../../resources/cropped-SummerWorkshop_Header.png\">  \n",
    "\n",
    "<h1 align=\"center\">Python Bootcamp and Summer Workshop on the Dynamic Brain</h1> \n",
    "<h3 align=\"center\">August 19-September 3, 2017</h3> "
   ]
  },
  {
   "cell_type": "markdown",
   "metadata": {},
   "source": [
    "<div style=\"border-left: 3px solid #000; padding: 1px; padding-left: 10px; background: #F0FAFF; \">\n",
    "\n",
    "<h2>Drive path</h2>\n",
    "\n",
    "<p>First things first - let's make sure your drive path is set up appropriately. All these files are already saved in the AWS directory drive path below.\n",
    "</div>"
   ]
  },
  {
   "cell_type": "code",
   "execution_count": null,
   "metadata": {
    "collapsed": true
   },
   "outputs": [],
   "source": [
    "#make sure your drive path is correct! \n",
    "# macOS/OS X\n",
    "# drive_path = '/Volumes/Brain2017/data/dynamic-brain-workshop/modeling/'\n",
    "\n",
    "# Windows (a good guess)\n",
    "# drive_path = 'e:/data/dynamic-brain-workshop/modeling'\n",
    "\n",
    "# Linux (will vary; the following is possibly what Ubuntu will do)\n",
    "# drive_path = '/media/Brain2017/data/dynamic-brain-workshop/modeling'\n",
    "\n",
    "# AWS\n",
    "drive_path = '/data/dynamic-brain-workshop/modeling/'"
   ]
  },
  {
   "cell_type": "markdown",
   "metadata": {},
   "source": [
    "<div style=\"border-left: 3px solid #000; padding: 1px; padding-left: 10px; background: #F0FAFF; \">\n",
    "Import some useful packages.\n",
    "</div>"
   ]
  },
  {
   "cell_type": "code",
   "execution_count": null,
   "metadata": {
    "collapsed": true
   },
   "outputs": [],
   "source": [
    "%matplotlib inline\n",
    "import os\n",
    "import numpy as np\n",
    "import pandas as pd\n",
    "import matplotlib.pyplot as plt\n",
    "from matplotlib import gridspec\n",
    "import json\n",
    "import matplotlib"
   ]
  },
  {
   "cell_type": "markdown",
   "metadata": {},
   "source": [
    "<div style=\"border-left: 3px solid #000; padding: 1px; padding-left: 10px; background: #F0FAFF; \">\n",
    "<h2>1. Plotting spikes</h2>\n",
    "\n",
    "<p>Let us load spikes from one simulation.\n",
    "\n",
    "<p>First, provide the name of a file with spikes.  Each file like that contains two columns -- cell id and spike time.  Each time a cell spikes, a new row with the cell id and the spike time is added to the file.  Because these simulations typicaly run in parallel on many cores, the rows in the spike file are unsorted.\n",
    "\n",
    "<p>Load the data into a numpy array and print the shape.\n",
    "</div>"
   ]
  },
  {
   "cell_type": "code",
   "execution_count": null,
   "metadata": {
    "collapsed": true
   },
   "outputs": [],
   "source": [
    "# This is where responses to natural movies for model called LL2 are stored.\n",
    "sim_path = 'layer4_spikes/simulations_ll2/natural_movies/'\n",
    "\n",
    "# This is the name of a directory containing simulation output for one movie clip, trial #9\n",
    "# (out of 10 trials total for this stimulus).\n",
    "output_path = os.path.join(drive_path, sim_path, 'output_ll2_TouchOfEvil_frames_3600_to_3750_scrbl_xy_9_sd278/')\n",
    "\n",
    "# The spike file is always named \"spk.dat\".\n",
    "spk_fname = os.path.join(output_path, 'spk.dat')\n",
    "\n",
    "# Read spikes into a numpy array and print its shape.\n",
    "# There are a lot of spikes in two columns -- one for cell ids, and the other for spike times.\n",
    "series = np.genfromtxt(spk_fname, delimiter=' ')\n",
    "print(series.shape)"
   ]
  },
  {
   "cell_type": "markdown",
   "metadata": {},
   "source": [
    "<div style=\"border-left: 3px solid #000; padding: 1px; padding-left: 10px; background: #F0FAFF; \">\n",
    "Now, let us make a raster plot of these spikes.\n",
    "</div>"
   ]
  },
  {
   "cell_type": "code",
   "execution_count": null,
   "metadata": {
    "collapsed": true
   },
   "outputs": [],
   "source": [
    "fig, ax = plt.subplots()\n",
    "\n",
    "# Plot the spikes.\n",
    "ax.scatter(series[:, 0], series[:, 1], s=1, c='k') #series[:, 0] are neuron IDs, and series[:, 1] are time stamps.\n",
    "ax.set_xlabel('Time (ms)')\n",
    "ax.set_ylabel('Neuron ID')"
   ]
  },
  {
   "cell_type": "markdown",
   "metadata": {},
   "source": [
    "<div style=\"border-left: 3px solid #000; padding: 1px; padding-left: 10px; background: #F0FAFF; \">\n",
    "<h2>2. Plotting firing rates.</h2>\n",
    "\n",
    "<p>We can obtain firing rates from the spikes that we loaded above.  However, firing rates have been already computed in each simulations, and can be simply loaded from the files called \"tot_f_rate.dat\".\n",
    "\n",
    "<p>Let us load the data from such a file into a numpy array and print its shape. \n",
    "</div>"
   ]
  },
  {
   "cell_type": "code",
   "execution_count": null,
   "metadata": {
    "collapsed": true
   },
   "outputs": [],
   "source": [
    "rate_fname = os.path.join(output_path, 'tot_f_rate.dat') # Reuse the same path from above.\n",
    "\n",
    "# Read firing rates.\n",
    "f_rate = np.genfromtxt(rate_fname, delimiter=' ')\n",
    "print(f_rate.shape)"
   ]
  },
  {
   "cell_type": "markdown",
   "metadata": {},
   "source": [
    "<div style=\"border-left: 3px solid #000; padding: 1px; padding-left: 10px; background: #F0FAFF; \">\n",
    "<p>As we can see, the file contains three columns.  They are the cell id, the firing rate computed for the time that the stimulus was presented, and the firing rate computed for the total time of the simulation (which typically includes a 500 ms interval of gray screen in the beginning).\n",
    "\n",
    "<p>Most often, we need to use columns 1 and 2.  Note that, unlike the spike file, the rows here are unique in terms of cell ids (one row for each cell id) and are sorted in order of cell ids.\n",
    "\n",
    "<p>Let us now plot the firing rates of all the cells (as we can see above, 45,000 of them).\n",
    "</div>"
   ]
  },
  {
   "cell_type": "code",
   "execution_count": null,
   "metadata": {
    "collapsed": true
   },
   "outputs": [],
   "source": [
    "plt.plot(f_rate[:, 0], f_rate[:, 1])\n",
    "plt.xlabel('Neuron ID')\n",
    "plt.ylabel('Firing rate (Hz)')"
   ]
  },
  {
   "cell_type": "markdown",
   "metadata": {},
   "source": [
    "<div style=\"border-left: 3px solid #000; padding: 1px; padding-left: 10px; background: #F0FAFF; \">\n",
    "<h2>3. Cell properties.</h2>\n",
    "\n",
    "What are the cells in the system?  We can actually access them.  Let us load the information about the cells into a pandas dataframe and look at the contents.\n",
    "</div>"
   ]
  },
  {
   "cell_type": "code",
   "execution_count": null,
   "metadata": {
    "collapsed": true
   },
   "outputs": [],
   "source": [
    "# For each simulated model, like LL2 here, a csv file containing information about\n",
    "# all cells in the model is provided.\n",
    "cells_file = os.path.join(drive_path, 'layer4_spikes/build/ll2.csv')\n",
    "cells_db = pd.read_csv(cells_file, sep=' ')\n",
    "cells_db.head(n=10)"
   ]
  },
  {
   "cell_type": "markdown",
   "metadata": {},
   "source": [
    "<div style=\"border-left: 3px solid #000; padding: 1px; padding-left: 10px; background: #F0FAFF; \">\n",
    "<p>As you can see, this file contains information about each cell's ID, coordinates, type, and other assigned properties.\n",
    "\n",
    "\n",
    "<p>Let us now plot the coordinates of the cells by type.\n",
    "</div>"
   ]
  },
  {
   "cell_type": "code",
   "execution_count": null,
   "metadata": {
    "collapsed": true
   },
   "outputs": [],
   "source": [
    "# Let's see which cell types we have in the model.  We'll use a different color\n",
    "# for each type.  The types are given in the column \"type\".\n",
    "cell_types = np.unique(cells_db['type'].values)\n",
    "print('Cell types: ', cell_types)"
   ]
  },
  {
   "cell_type": "code",
   "execution_count": null,
   "metadata": {
    "collapsed": true
   },
   "outputs": [],
   "source": [
    "# Now, let's create a dictionary with a mapping of colors to types.\n",
    "type_colors = {'LIF_exc': 'black',\n",
    "               'LIF_inh': 'brown',\n",
    "               'Nr5a1': 'magenta',\n",
    "               'PV1': 'blue',\n",
    "               'PV2': 'cyan',\n",
    "               'Rorb': 'red',\n",
    "               'Scnn1a': 'darkorange'}"
   ]
  },
  {
   "cell_type": "code",
   "execution_count": null,
   "metadata": {
    "collapsed": true
   },
   "outputs": [],
   "source": [
    "# Let us now iterate through all types and plot (x, y) positions of\n",
    "# 30 cells for each type (only plot 30 cells because otherwise the plot becomes too messy).\n",
    "\n",
    "for type_key in type_colors:\n",
    "    tmp_db = cells_db[cells_db['type']==type_key] # Slice of the dataframe with all the cells of a given type.\n",
    "    plt.scatter(tmp_db['x'][:30], tmp_db['y'][:30], c=type_colors[type_key])\n",
    "    plt.axis('equal')\n",
    "plt.xlabel('x (um)')\n",
    "plt.ylabel('y (um)')"
   ]
  },
  {
   "cell_type": "markdown",
   "metadata": {},
   "source": [
    "<div style=\"border-left: 3px solid #000; padding: 1px; padding-left: 10px; background: #F0FAFF; \">\n",
    "Apparently, the cells are distributed within concentric circles in the x and y dimensions!\n",
    "</div>"
   ]
  },
  {
   "cell_type": "markdown",
   "metadata": {},
   "source": [
    "<div style=\"background: #DFF0D8; border-radius: 3px; padding: 10px;\">\n",
    "\n",
    "<h2> Excercise 1.  Plot spikes colored by cell type.</h2>\n",
    "\n",
    "<p>Let us now combine information about spikes and cells into a plot where same colors as above are used.\n",
    "\n",
    "<p>Can you plot spikes from the movie as shown above, and color them by cell type?\n",
    "\n",
    "<p>Hint: you will need neuron IDs of the cells of a particular type (the column \"index\" in the cells file); use them as indices for the spikes from the 'series' array, using the command\n",
    "\n",
    "<p>type_ind = np.in1d(series[:, 1], cell_ids).\n",
    "</div>"
   ]
  },
  {
   "cell_type": "code",
   "execution_count": null,
   "metadata": {
    "collapsed": true
   },
   "outputs": [],
   "source": [
    "for type_key in type_colors:\n"
   ]
  },
  {
   "cell_type": "markdown",
   "metadata": {},
   "source": [
    "<div style=\"background: #DFF0D8; border-radius: 3px; padding: 10px;\">\n",
    "\n",
    "<h2> Excercise 2.  Plot a tuning curve for a given cell. </h2>\n",
    "\n",
    "<p>Simulations have been performed for multiple systems (one can think of them as different mice).  Their names in this example are 'll1', 'll2', and 'll3'.  For each system, multiple visual stimuli were used, and each stimulus was presented multiple times (i.e., multiple trials).\n",
    "\n",
    "<p>Let us learn to analyze results from multiple trials.\n",
    "\n",
    "<p>For example, a number of different drifting gratings were presented to the model.  The gratings were numbered using a particular mapping between grating ID and grating parameters (spatial frequency, or SF, temporal frequency, or TF, and direction).\n",
    "\n",
    "<p>In particular, gratings with SF=0.05 cpd and TF=4 Hz had the names with the following mapping between grating ID and its direction:\n",
    "<p>graiting ID 8: 0 degrees;\n",
    "<p>graiting ID 38: 45 degrees;\n",
    "<p>graiting ID 68: 90 degrees;\n",
    "<p>graiting ID 98: 135 degrees;\n",
    "<p>graiting ID 128: 180 degrees;\n",
    "<p>graiting ID 158: 225 degrees;\n",
    "<p>graiting ID 188: 270 degrees;\n",
    "<p>graiting ID 218: 315 degrees.\n",
    "\n",
    "<p>Each of these gratings were presented in 10 trials.\n",
    "\n",
    "<p>Can you plot a tuning curve for cell ID 10 of model ll3 for these different directions,\n",
    "using the raw firing rate averaged over all trials?\n",
    "\n",
    "<p>Hint: the output for gratings, like graiting ID 68, trial 5, can be found in the directories named\n",
    "\n",
    "<p>/data/dynamic-brain-workshop/modeling/layer4_spikes/simulations_ll3/gratings/output_ll3_g68_5_sd278\n",
    "</div>"
   ]
  },
  {
   "cell_type": "code",
   "execution_count": null,
   "metadata": {
    "collapsed": true
   },
   "outputs": [],
   "source": [
    "cell_id = 10 # This is the cell for which we will obtain the data.\n",
    "\n",
    "N_trials = 10 # In the case of gratings, 10 trials were used.\n",
    "\n",
    "# Let us indtroduce a dictionary with the mapping between grating ids and grating directions.\n",
    "grating_dict = {8: 0.0,\n",
    "                38: 45.0,\n",
    "                68: 90.0,\n",
    "                98: 135.0,\n",
    "                128: 180.0,\n",
    "                158: 225.0,\n",
    "                188: 270.0,\n",
    "                218: 315.0}"
   ]
  },
  {
   "cell_type": "code",
   "execution_count": null,
   "metadata": {
    "collapsed": true
   },
   "outputs": [],
   "source": [
    "# Let us now loop over all grating IDs from our dictionary and obtain mean firing rates for all cells.\n",
    "# For that, we will need to loop also over all trials of each grating.\n",
    "\n",
    "# We will be saving mean firing rates for each grating in a pandas dataframe.\n",
    "grating_df = pd.DataFrame()\n",
    "\n"
   ]
  },
  {
   "cell_type": "code",
   "execution_count": null,
   "metadata": {
    "collapsed": true
   },
   "outputs": [],
   "source": [
    "# Now, let us plot the tuning curve for the cell_id defined above.\n",
    "# The key thing to remember here is that firing rates of the cells are stored\n",
    "# in the output file tot_f_rate.dat according to the order of their cell_id.\n"
   ]
  },
  {
   "cell_type": "markdown",
   "metadata": {
    "collapsed": true
   },
   "source": [
    "<div style=\"background: #DFF0D8; border-radius: 3px; padding: 10px; \\\">\n",
    "<h2>Homework exercises:</h2>\n",
    "<p>1. Explore the directory structure created from this notebook that represents the network  \n",
    "<p>2. Explore the directory components that was created for you and contains more cell types  \n",
    "<p>3. Download and HDF5 viewer and explore the .h5 files created.  \n",
    "<p>4. Simulate one biophysical neuron receiving a large number of balanced excitatory and inhibitory inputs. Choose a cell model other than Scnn1a or PV1. Explore the effects of changing the target locations (somatic, basal, apical) of the excitatory and inhibitory inputs.  \n",
    "<p>5. We have another directory >>pointnet_notebook that shows how to use the same files and circuit created here to run a point neural network simulation. The simulator engine is NEST (http://www.nest-simulator.org/) and some changes had to be made to the config file and network description (documented in the notebook) based on NEST nomenclature requirements. Feel free to explore and play around with the notebook and NEST.\n",
    "</div>"
   ]
  },
  {
   "cell_type": "markdown",
   "metadata": {},
   "source": [
    "<div style=\"border-left: 3px solid #000; padding: 1px; padding-left: 10px; background: #F0FAFF; \\\">\n",
    "<h2>Project Ideas:</h2>\n",
    "<p>1. Compare visual responses between the Layer 4 model and Brain Observatory.  \n",
    "\n",
    "<p>2. Find an optimal kernel for converting spikes from the Layer 4 model to Ca2+ signal, to maximize the agreeement with the Brain Observatory data.  \n",
    "\n",
    "<p>3. Build a small-scale point-neuron network model receiving visual inputs; run simulations to explore visual responses.  \n",
    "\n",
    "<p>4. Build a small-scale point-neuron network; explore the effect of different connectivity rules on the spatio-temporal dynamics.  \n",
    "\n",
    "<p>5. Build a population-statistics DiPDE model analogous to the biophysical Layer 4 model.  Investigate whether similar dynamics can be obtained.  \n",
    "\n",
    "<p>6. Build a population-statistics DiPDE model of all cortical layers.  Explore cortical dynamics in simulations.  \n",
    "</div>"
   ]
  }
 ],
 "metadata": {
  "kernelspec": {
   "display_name": "Python 2",
   "language": "python",
   "name": "python2"
  },
  "language_info": {
   "codemirror_mode": {
    "name": "ipython",
    "version": 2
   },
   "file_extension": ".py",
   "mimetype": "text/x-python",
   "name": "python",
   "nbconvert_exporter": "python",
   "pygments_lexer": "ipython2",
   "version": "2.7.13"
  }
 },
 "nbformat": 4,
 "nbformat_minor": 1
}
