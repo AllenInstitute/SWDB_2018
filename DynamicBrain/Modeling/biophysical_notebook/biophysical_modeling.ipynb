{
 "cells": [
  {
   "cell_type": "markdown",
   "metadata": {},
   "source": [
    "<img src=\"../../../resources/cropped-SummerWorkshop_Header.png\">  \n",
    "\n",
    "<h1 align=\"center\">Python Bootcamp and Summer Workshop on the Dynamic Brain</h1> \n",
    "<h3 align=\"center\">Wednesday, August 23, 2017</h3> "
   ]
  },
  {
   "cell_type": "code",
   "execution_count": null,
   "metadata": {
    "collapsed": true
   },
   "outputs": [],
   "source": [
    "import os\n",
    "import sys\n",
    "import pandas as pd\n",
    "import numpy as np\n",
    "import random\n",
    "\n",
    "from modelingsdk.builder.networks import SynNetwork\n",
    "\n",
    "from matplotlib import pyplot as plt\n",
    "import matplotlib.image as mpimg\n",
    "%matplotlib inline"
   ]
  },
  {
   "cell_type": "markdown",
   "metadata": {},
   "source": [
    "<div style=\"border-left: 3px solid #000; padding: 1px; padding-left: 10px; background: #F0FAFF; \\\">\n",
    "<h1>Modeling biophysically detailed cells with NEURON</h1>\n",
    "In this tutorial, we will create a network of 8 cells. Four of these cells will be biophysically detailed and four will be Leaky-Intergrate-and-Fire (LIF) models. \n",
    "</div>"
   ]
  },
  {
   "cell_type": "markdown",
   "metadata": {},
   "source": [
    "<img src=\"schematics_png/Full_figure.png\" alt=Drawing style=\"width: 500px;\">"
   ]
  },
  {
   "cell_type": "markdown",
   "metadata": {},
   "source": [
    "<div style=\"border-left: 3px solid #000; padding: 1px; padding-left: 10px; background: #F0FAFF; \\\">\n",
    "<h1>Build recurrent network</h1>\n",
    "For building the 8 node network, we will save the nodes (neurons) and edges (connections) separately.  \n",
    "</div>"
   ]
  },
  {
   "cell_type": "code",
   "execution_count": null,
   "metadata": {
    "collapsed": true
   },
   "outputs": [],
   "source": [
    "# Output file names\n",
    "directory_name = 'network/recurrent_network/'\n",
    "\n",
    "# Create direcoty if it doesn't exist\n",
    "if not os.path.exists(directory_name):\n",
    "    os.makedirs(directory_name)"
   ]
  },
  {
   "cell_type": "markdown",
   "metadata": {},
   "source": [
    "<div style=\"border-left: 3px solid #000; padding: 1px; padding-left: 10px; background: #F0FAFF; \\\">\n",
    "We will explore the directory structure of how files are being saved later. Just know for now that we will be creating files ans saving them in a directory called \"network\".\n",
    "</div>"
   ]
  },
  {
   "cell_type": "markdown",
   "metadata": {},
   "source": [
    "<div style=\"border-left: 3px solid #000; padding: 1px; padding-left: 10px; background: #F0FAFF; \\\">\n",
    "<h2>Building Nodes</h2>\n",
    "In this section we will be creating the nodes only. They are not receiving input nor connected to each other yet. The schematic below illustrates where we will be.\n",
    "</div>"
   ]
  },
  {
   "cell_type": "markdown",
   "metadata": {},
   "source": [
    "<img src=\"schematics_png/Neurons_created.png\" alt=Drawing style=\"width: 350px;\">"
   ]
  },
  {
   "cell_type": "markdown",
   "metadata": {},
   "source": [
    "<div style=\"border-left: 3px solid #000; padding: 1px; padding-left: 10px; background: #F0FAFF; \\\">\n",
    "In addition to saving nodes and edges separately, the nodes themselves are described by two files, one containing all information that are unique to nodes and one containing all information that are unique to models. We differentiate nodes and models because there can be a handful of models but thousands of nodes. With this, everything that is unique for nodes, such as position, goes in the nodes file. Parameters that are repeated (such as morphology, electrohphysiology parameters) can be stored and referenced in the model files (which we call node_types).\n",
    "</div>"
   ]
  },
  {
   "cell_type": "code",
   "execution_count": null,
   "metadata": {
    "collapsed": true
   },
   "outputs": [],
   "source": [
    "# Nodes files\n",
    "nodes_file = directory_name + 'nodes.csv'              # Contains information about every node\n",
    "node_models_file = directory_name + 'node_types.csv'   # Contains information about models"
   ]
  },
  {
   "cell_type": "code",
   "execution_count": null,
   "metadata": {
    "collapsed": true
   },
   "outputs": [],
   "source": [
    "### Number of cell models desired\n",
    "N_Scnn1a = 2\n",
    "N_PV1 = 2\n",
    "N_LIF_exc = 2\n",
    "N_LIF_inh = 2"
   ]
  },
  {
   "cell_type": "code",
   "execution_count": null,
   "metadata": {
    "collapsed": true
   },
   "outputs": [],
   "source": [
    "### Define all the cell models in a dictionary (note dictionaries within a dictionary)\n",
    "biophysical_models = {\n",
    "    \n",
    "    # Cell type. Here we are using a pyrmaidal models from an Scnn1a Cre-line. Other\n",
    "    # models exist in the components directory if you would like to explore them.\n",
    "    'Scnn1a': { \n",
    "        # Number of nodes (neurons) we would like to create\n",
    "        'N': N_Scnn1a,               \n",
    "        # This is a unique number the user defines (or one is generated randomly). This\n",
    "        # is required as it is the key that links nodes.csv with node_types.csv as will\n",
    "        # be seen below.\n",
    "        'node_type_id': '10001', \n",
    "        # Key to indicate if the neuron is excitatory or inhibitory\n",
    "        'ei': 'e', \n",
    "        # Key to store the population name of the model. One can have many\n",
    "        # models (node_type_id) that belong to a single populations\n",
    "        'pop_name': 'Scnn1a', \n",
    "        # Attribute to indicate this model is biophysical (instead of LIF for example)\n",
    "        'level_of_detail': 'biophysical',\n",
    "        # The morpholgy file for this model (NEURON template). This is stored in the components\n",
    "        # directory if you would like to explore it more (plus other models). \n",
    "        'morphology_file': 'Scnn1a-Tg3-Cre_Ai14_IVSCC_-177300.01.02.01_473845048_m.swc',\n",
    "        # The electrophysiology parameters file for this model. Again, this is stored\n",
    "        # in the components directory with other models if you wish to check them out.\n",
    "        'params_file': '472363762_fit.json',\n",
    "        # Fixed for every model but needs to be defined. This is the angle of the \n",
    "        # morphology reconstruction relative to the pia.\n",
    "        'rotation_angle_zaxis': -3.646878266,\n",
    "        # Flag that tells the simulator what type of cell this is and how to read and\n",
    "        # interpret the given files. This is created to allow users to define cell\n",
    "        # models in any way they want as long as they final function returns an object\n",
    "        # that can be interpreted by NEURON (called a hoc-object)\n",
    "        'set_params_function': 'Biophys1'\n",
    "    },\n",
    "    \n",
    "    # Below are the same attributes but with different values for the PV cell we will be\n",
    "    # modeling in out network.\n",
    "    'PV1': {\n",
    "        'N': N_PV1,\n",
    "        'node_type_id': '10002',  \n",
    "        'ei': 'i', \n",
    "        'pop_name': 'PV1',\n",
    "        'level_of_detail': 'biophysical',\n",
    "        'morphology_file': 'Pvalb-IRES-Cre_Ai14_IVSCC_-176847.04.02.01_470522102_m.swc',\n",
    "        'params_file': '472912177_fit.json',\n",
    "        'rotation_angle_zaxis': -2.539551891,\n",
    "        'set_params_function': 'Biophys1'\n",
    "    }\n",
    "}"
   ]
  },
  {
   "cell_type": "markdown",
   "metadata": {},
   "source": [
    "<div style=\"border-left: 3px solid #000; padding: 1px; padding-left: 10px; background: #F0FAFF; \\\">\n",
    "<h1>Example function for illustrative purposes</h1>\n",
    "The below is simply a function that will return random coorindates for nodes. The purpose of this functions is to show you how to use the API to create your own custom functions. It will be used in the subsequent cell.\n",
    "</div>"
   ]
  },
  {
   "cell_type": "code",
   "execution_count": null,
   "metadata": {
    "collapsed": true
   },
   "outputs": [],
   "source": [
    "def generate_random_positions(N):\n",
    "    '''\n",
    "    Generate N random positions.\n",
    "    N: number of positions to generate\n",
    "    '''\n",
    "\n",
    "    x = np.random.random(N)     # x-axis location\n",
    "    y = np.random.random(N)     # y-axis location\n",
    "    z = np.random.random(N)     # z-axis location\n",
    "\n",
    "    positions = np.column_stack((x, y, z))\n",
    "\n",
    "    return positions"
   ]
  },
  {
   "cell_type": "code",
   "execution_count": null,
   "metadata": {
    "collapsed": true
   },
   "outputs": [],
   "source": [
    "### Create nodes set for each biophysical population\n",
    "\n",
    "# A network object is created of SynNetwork class. This will store all the \n",
    "# information about the nodes and connections between nodes. The object has\n",
    "# multiple methods (functions) that we will be using below to build the network\n",
    "# nodes first and connections second.\n",
    "net = SynNetwork('FridayHarborBiophysics')\n",
    "\n",
    "# We will loop through every model and create nodes. Note the main function\n",
    "# below is net.add_nodes()\n",
    "for model in biophysical_models:\n",
    "    \n",
    "    # Read the first biophysical model parameters dictionary\n",
    "    params = biophysical_models[model]\n",
    "\n",
    "    # Calculate positions for every cell (x, y, z). The called function was created\n",
    "    # above. It doesn't do anything special other than create positions for nodes\n",
    "    # from a random number generator. But one can write more sophisticated algorithms\n",
    "    # for positions if they choose.\n",
    "    positions = generate_random_positions(params['N'])\n",
    "\n",
    "    # Adds node populations giving it all the input paramters one would like.\n",
    "    net.add_nodes(params['N'], position='points', position_params={'location': positions},\n",
    "                  array_params={'rotation_angle_yaxis': np.random.uniform(0.0, 2*np.pi, params['N'])},\n",
    "                  node_type_id=params['node_type_id'],\n",
    "                  ei = params['ei'],\n",
    "                  pop_name=params['pop_name'],\n",
    "                  level_of_detail=params['level_of_detail'],\n",
    "                  params_file=params['params_file'],\n",
    "                  morphology_file=params.get('morphology_file', 'NA'),\n",
    "                  rotation_angle_zaxis=params.get('rotation_angle_zaxis', 'NA'),\n",
    "                  set_params_function=params['set_params_function'])"
   ]
  },
  {
   "cell_type": "markdown",
   "metadata": {},
   "source": [
    "<div style=\"background: #DFF0D8; border-radius: 3px; padding: 10px; \\\">\n",
    "<h3>Exercise 1: </h3>\n",
    "<p>Create the LIF cells  \n",
    "<p>Add a population of excitatory and inhibitory LIF neurons. \n",
    "<p>First create a dictionary as do the biophysical example\n",
    "<p>To do this,  select a unique node_type_id and pop_name.  \n",
    "<p>Some names are unique to NEURON and must be named accordingly for LIFs:  \n",
    "<p>'level_of_detail': 'intfire',  \n",
    "<p>'params_file': 'IntFire1_exc_1.json',  \n",
    "<p>'set_params_function': 'IntFire1'  \n",
    "  \n",
    "<p>Note that you do not need to add a morphology file or rotation angle for the z-axis here.\n",
    "</div>"
   ]
  },
  {
   "cell_type": "code",
   "execution_count": null,
   "metadata": {
    "collapsed": true
   },
   "outputs": [],
   "source": [
    "### Define all the cell models in a dictionary.\n",
    "LIF_models = {\n",
    "}"
   ]
  },
  {
   "cell_type": "markdown",
   "metadata": {},
   "source": [
    "<div style=\"background: #DFF0D8; border-radius: 3px; padding: 10px; \\\">\n",
    "<h3>Exercise 2:</h3>\n",
    "Loop through the dictionary as done before to add the cells. Note that can use same code as used for biophysical and NA will be placed for the non-required inputs automatically.  \n",
    "<p>In practice one will use one for-loop and dictionary for all node-types.\n",
    "</div>"
   ]
  },
  {
   "cell_type": "code",
   "execution_count": null,
   "metadata": {
    "collapsed": true
   },
   "outputs": [],
   "source": [
    "### Create a node set for each biophysical population"
   ]
  },
  {
   "cell_type": "markdown",
   "metadata": {},
   "source": [
    "<div style=\"border-left: 3px solid #000; padding: 1px; padding-left: 10px; background: #F0FAFF; \\\">\n",
    "<h2>Saving nodes in csv file</h2>\n",
    "To save the nodes, it is important to highlight the difference between nodes and models.\n",
    "<p> Nodes refers to the specific neuron instantiations that are created and will have specific properties such as position coordinates. Each neuron still corresponds to a specific model though.  \n",
    "<p> Models describe the properties of sets of neurons that are common. In our case, these include the electrophysiological parameters and the morphology. This is, as mentioned above, because we use the same model to create multiple cells of those models.  \n",
    "<p>As such, in the save functions below, we save the neurons (cells) and the models (types). This create two .csv files which you should examine. Note that both have node_type_id as a common column which will tell the simulator that the node selected corresponds to a specific node type which it can reference from the node_types table.\n",
    "</div>"
   ]
  },
  {
   "cell_type": "code",
   "execution_count": null,
   "metadata": {
    "collapsed": true
   },
   "outputs": [],
   "source": [
    "# Save the cells in the nodes.csv file. Here we define the columns a user would like to\n",
    "# save in this file. Note that node_type_id is required. Also note that node_id will be \n",
    "# created automatically. The positions label is reserved and input in a specific manner.\n",
    "net.save_cells(filename=nodes_file,\n",
    "               columns=['node_id', 'node_type_id', 'position', \n",
    "                        'rotation_angle_yaxis', 'pop_name', 'ei'],\n",
    "               position_labels=['x_soma', 'y_soma', 'z_soma'])\n",
    "\n",
    "# Save the node_types.csv file. Again the columns to be saved in this file are set by\n",
    "# the user. Again, node_type_id is needed here and it is the bridge between the two files\n",
    "# being saved here.\n",
    "net.save_types(filename=node_models_file, \n",
    "               columns=['node_type_id', 'params_file', 'level_of_detail', 'morphology_file',\n",
    "                        'rotation_angle_zaxis', 'set_params_function'])"
   ]
  },
  {
   "cell_type": "code",
   "execution_count": null,
   "metadata": {
    "collapsed": true
   },
   "outputs": [],
   "source": [
    "# Show the nodes file\n",
    "nodes_DF = pd.DataFrame.from_csv(nodes_file, sep = ' ')\n",
    "nodes_DF "
   ]
  },
  {
   "cell_type": "code",
   "execution_count": null,
   "metadata": {
    "collapsed": true
   },
   "outputs": [],
   "source": [
    "# Show the node_types file. Note the common column is node_type_id\n",
    "node_types_DF = pd.DataFrame.from_csv(node_models_file, sep = ' ')\n",
    "node_types_DF"
   ]
  },
  {
   "cell_type": "markdown",
   "metadata": {},
   "source": [
    "<div style=\"border-left: 3px solid #000; padding: 1px; padding-left: 10px; background: #F0FAFF; \\\">\n",
    "<h2>Setting connections (edges)</h2>\n",
    "Now we will create edges between all nodes (8*7 = 56 edges since no self-connections) as shown in the example figure below.\n",
    "</div>"
   ]
  },
  {
   "cell_type": "markdown",
   "metadata": {},
   "source": [
    "<img src=\"schematics_png/Recurrent_connected.png\" alt=Drawing style=\"width: 500px;\">"
   ]
  },
  {
   "cell_type": "markdown",
   "metadata": {},
   "source": [
    "<div style=\"border-left: 3px solid #000; padding: 1px; padding-left: 10px; background: #F0FAFF; \\\">\n",
    "Similar to nodes, the edge files are saved into two files, one that describes unique edges between nodes (e.g. node 315 connects to node 938) and the other that describes the properties of different edges.\n",
    "</div>"
   ]
  },
  {
   "cell_type": "code",
   "execution_count": null,
   "metadata": {
    "collapsed": true
   },
   "outputs": [],
   "source": [
    "# Edges files\n",
    "edge_types_file = directory_name + 'edge_types.csv'   # Contains info. about every edge type\n",
    "edges_file = directory_name + 'edges.h5'             # Contains info. about every edge created"
   ]
  },
  {
   "cell_type": "markdown",
   "metadata": {},
   "source": [
    "<div style=\"border-left: 3px solid #000; padding: 1px; padding-left: 10px; background: #F0FAFF; \\\">\n",
    "<h1>Example function for illustrative purposes</h1>\n",
    "The below is simply a function that will determine whether or not two nodes are connected to one another. If they are connected the number of synapses forming the connection is also determined. In this function, d_max is a cut-off that determines if the neurons are close enough to connect or not connect. Below, you will see that we choose a very large d_max such that all neurons are connected to one another. The purpose of this functions is to show you how to use the API to create your own custom functions. It will be used in the subsequent cells.\n",
    "</div>"
   ]
  },
  {
   "cell_type": "code",
   "execution_count": null,
   "metadata": {
    "collapsed": true
   },
   "outputs": [],
   "source": [
    "def distance_connection_handler(source, target, d_max, nsyn_min, nsyn_max):\n",
    "    '''\n",
    "    Connect cells that are less than d_max apart\n",
    "    with a random number of synapses in the \n",
    "    interval [nsyn_min, nsyn_max)\n",
    "    '''\n",
    "    \n",
    "    sid = source['node_id']    # Get source id\n",
    "    tid = target['node_id']    # Get target id\n",
    "    \n",
    "    # Avoid self-connections.\n",
    "    if (sid == tid):\n",
    "        return None\n",
    "\n",
    "    # first calculate euclidean distance between cells\n",
    "    separation = np.sqrt(   np.sum( (np.array(source['position']) - np.array(target['position'])) **2 )  )\n",
    "\n",
    "    # drop the connection if nodes too far apart\n",
    "    if separation >= d_max:\n",
    "        return\n",
    "\n",
    "    # Add the number of synapses for every connection.\n",
    "    tmp_nsyn = random.randint(nsyn_min, nsyn_max)\n",
    "    return tmp_nsyn"
   ]
  },
  {
   "cell_type": "markdown",
   "metadata": {},
   "source": [
    "<div style=\"border-left: 3px solid #000; padding: 1px; padding-left: 10px; background: #F0FAFF; \\\">\n",
    "<h3>Generating I-to-I connections</h3>\n",
    "</div>"
   ]
  },
  {
   "cell_type": "code",
   "execution_count": null,
   "metadata": {
    "collapsed": true
   },
   "outputs": [],
   "source": [
    "# The cparameters dictionary is the connection parameters dictionary which will be \n",
    "# used between connected nodes. In this API, this is how arguments/variables are given to\n",
    "# the connection function (defined earlier and will be used below). \n",
    "# Here the function that will use these parameters was defined at the start of the notebook\n",
    "# and was called distance_connection_handler().\n",
    "\n",
    "cparameters = {'d_max': 160.0,    # Maximum separation between nodes where connection allowed \n",
    "               'nsyn_min': 3,     # If connection exist, minimum number of synapses\n",
    "               'nsyn_max': 7}     # If connection exist, maximum number of synapses"
   ]
  },
  {
   "cell_type": "code",
   "execution_count": null,
   "metadata": {
    "collapsed": true
   },
   "outputs": [],
   "source": [
    "# Here we will give a connection rule we want to impose on the network. Note that\n",
    "# we only give the rules (and associated functions) and the networks. The API\n",
    "# will then loop and determine the connections that satify the rules.\n",
    "\n",
    "net.connect(\n",
    "    # Connection rule states A: Everytime the source node (pre-synaptic neuron) is inhibitory\n",
    "    source={'ei': 'i'}, \n",
    "    # Connection rule states B: Everytime the target node (post-synamtic neuron) is\n",
    "    # inhibitory and of biophysical detail. One can change this of course to another\n",
    "    # rule that depends on pop_name or node_mode_id for instance.\n",
    "    target={'ei': 'i', 'level_of_detail': 'biophysical'},\n",
    "    # Function that will determine the rules of connectivity. This was defined before\n",
    "    # and required 5 arguments. However, note that the source node and target\n",
    "    # node will be automatically be set as arguments to the function and hence only\n",
    "    # need 3 arguments. This function only determined if node X is connected to node Y.\n",
    "    # The parameters of the connections are defined below (edge_parameters)\n",
    "    connector=distance_connection_handler,\n",
    "    # The remaining arguments needed by distance_connection_handler that we defined above.\n",
    "    connector_params=cparameters,\n",
    "    # The parameters for when a connection exists\n",
    "            edge_params={\n",
    "                # weight_max defines the strength of the connection. It depends on the \n",
    "                # target cell mechanism. Here, this will be interpreted as the peak\n",
    "                # conductance measure in uS.\n",
    "                'weight_max': 0.03, \n",
    "                # When the target is a biophysical neuron, the location of the connections \n",
    "                # (synapses) along the neuron must be defined.\n",
    "                'distance_range': [0.0, 1e+20],\n",
    "                # Further, when the target is a biophysical neuron, the regions of the \n",
    "                # neuron being targeted need to be defined.\n",
    "                'target_sections': ['somatic', 'basal'], \n",
    "                # Axonal delay between when pre-synaptic node fires and post-synaptic\n",
    "                # target responds. The unit is milliseconds\n",
    "                'delay': 2.0,\n",
    "                # File that contains the parameters for the synaptic weight which you can\n",
    "                # explore in the components directory. The naming convention below indicates\n",
    "                # that the synapse dynamics are GABA for an Inh to Inh node.\n",
    "                'params_file': 'GABA_InhToInh.json', \n",
    "                # params_file only has parameter values, but the mechanism (profile) of\n",
    "                # synaptic dynamics are defined in NEURON. Here we use exp2syn where you\n",
    "                # can find more info here:\n",
    "                # https://www.neuron.yale.edu/neuron/static/docs/help/neuron/neuron/mech.html#Exp2Syn\n",
    "                'set_params_function': 'exp2syn'})"
   ]
  },
  {
   "cell_type": "code",
   "execution_count": null,
   "metadata": {
    "collapsed": true
   },
   "outputs": [],
   "source": [
    "# When the target is a LIF neuron. Note here that distance_range and target_sections are\n",
    "# not needed. Also, due to how NEURON handles LIF neurons, the synaptic profile has an\n",
    "# instantaneous increase (after the synaptic delay) and no params_function is neeeded.\n",
    "net.connect(source={'ei': 'i'}, \n",
    "            target={'ei': 'i', 'level_of_detail': 'intfire'},\n",
    "            connector=distance_connection_handler,\n",
    "            connector_params=cparameters,\n",
    "            edge_params={'weight_max': 0.3, \n",
    "                         'delay': 2.0,\n",
    "                         'params_file': 'instanteneousInh.json'})"
   ]
  },
  {
   "cell_type": "markdown",
   "metadata": {},
   "source": [
    "<div style=\"border-left: 3px solid #000; padding: 1px; padding-left: 10px; background: #F0FAFF; \\\">\n",
    "<h3>Generating I-to-E connections</h3>\n",
    "</div>"
   ]
  },
  {
   "cell_type": "code",
   "execution_count": null,
   "metadata": {
    "collapsed": true
   },
   "outputs": [],
   "source": [
    "# As above, need to give different rules for when the target is a biophysical neuron.\n",
    "net.connect(source={'ei': 'i'}, \n",
    "            target={'ei': 'e', 'level_of_detail': 'biophysical'},\n",
    "            connector=distance_connection_handler,\n",
    "            connector_params=cparameters,\n",
    "            edge_params={'weight_max': 0.3, \n",
    "                         'distance_range': [0.0, 50.0],\n",
    "                         'target_sections': ['somatic', 'basal', 'apical'], \n",
    "                         'delay': 2.0,\n",
    "                         'params_file': 'GABA_InhToExc.json',\n",
    "                         'set_params_function': 'exp2syn'})"
   ]
  },
  {
   "cell_type": "code",
   "execution_count": null,
   "metadata": {
    "collapsed": true
   },
   "outputs": [],
   "source": [
    "# As above, need to give different rules for when the target is a LIF neuron.\n",
    "net.connect(source={'ei': 'i'}, \n",
    "            target={'ei': 'e', 'level_of_detail': 'intfire'},\n",
    "            connector=distance_connection_handler,\n",
    "            connector_params=cparameters,\n",
    "            edge_params={'weight_max': 0.4,\n",
    "                         'delay': 2.0,\n",
    "                         'params_file': 'instanteneousInh.json'})"
   ]
  },
  {
   "cell_type": "markdown",
   "metadata": {},
   "source": [
    "<div style=\"background: #DFF0D8; border-radius: 3px; padding: 10px; \\\">\n",
    "<h3>Excercise 3:</h3>\n",
    "<p> Complete the remaining connections: E-to-I, and E-to-E  \n",
    "<h4> Hints:  </h4>\n",
    "<p>-You can use the same cparameters values  \n",
    "<p>-Available params_files are: GABA_InhToInh.json, GABA_InhToExc.json, AMPA_ExcToInh.json, AMPA_ExcToExc.json, instanteneousInh.json, instanteneousExc.json  \n",
    "<p>-Inhibitory neurons only have 'somatic' and 'basal' compartments. Excitatory neurons also have 'apical'.  \n",
    "<p>-When the target neuron is inhibitory and biophysical, suggested distance range is [0.0, 1e+20] that targets somatic and basal compartments.  \n",
    "<p>-When the target neuron is exctiatory, suggested distance range is [30.0, 150.0] that targets basal and apical compartments.  \n",
    "<p>-Suggested weights, but you can experiment,: E-to-I biphysical = 0.05, E-to-I LIF =0.2, E-to-E biphysical = 0.05, E-to-E LIF = 0.05\n",
    "</div>"
   ]
  },
  {
   "cell_type": "markdown",
   "metadata": {},
   "source": [
    "<div style=\"border-left: 3px solid #000; padding: 1px; padding-left: 10px; background: #F0FAFF; \\\">\n",
    "<h3>Generating E-to-I connections</h3>\n",
    "</div>"
   ]
  },
  {
   "cell_type": "code",
   "execution_count": null,
   "metadata": {
    "collapsed": true
   },
   "outputs": [],
   "source": []
  },
  {
   "cell_type": "markdown",
   "metadata": {},
   "source": [
    "<div style=\"border-left: 3px solid #000; padding: 1px; padding-left: 10px; background: #F0FAFF; \\\">\n",
    "<h3>Generating E-to-E connections</h3>\n",
    "</div>"
   ]
  },
  {
   "cell_type": "code",
   "execution_count": null,
   "metadata": {
    "collapsed": true
   },
   "outputs": [],
   "source": []
  },
  {
   "cell_type": "markdown",
   "metadata": {},
   "source": [
    "<div style=\"border-left: 3px solid #000; padding: 1px; padding-left: 10px; background: #F0FAFF; \\\">\n",
    "<h2>Building network...</h2>\n",
    "</div>"
   ]
  },
  {
   "cell_type": "code",
   "execution_count": null,
   "metadata": {
    "collapsed": true
   },
   "outputs": [],
   "source": [
    "# This will actually build the network and determine which nodes are connected to which. \n",
    "# Until now, only the rules were given and stored.\n",
    "net.build()"
   ]
  },
  {
   "cell_type": "markdown",
   "metadata": {},
   "source": [
    "<div style=\"border-left: 3px solid #000; padding: 1px; padding-left: 10px; background: #F0FAFF; \\\">\n",
    "<h2>Saving edges</h2>\n",
    "</div>"
   ]
  },
  {
   "cell_type": "code",
   "execution_count": null,
   "metadata": {
    "collapsed": true
   },
   "outputs": [],
   "source": [
    "# Save the edge_types file which we will view below. As when saving the nodes, there are\n",
    "# optional columns to save based on user applications. Here we give all the columns that\n",
    "# are required for our case.\n",
    "net.save_edge_types(edge_types_file, \n",
    "                    opt_columns=['weight_max', 'distance_range','target_sections', \n",
    "                                                  'delay', 'params_file', 'set_params_function'])\n",
    "\n",
    "# The edges are saved in a HDF5 format. If you would like to see how they are saved, you\n",
    "# will need to install special software (HDFviewer or Vitables are good options.)\n",
    "net.save_edges(filename=edges_file)"
   ]
  },
  {
   "cell_type": "markdown",
   "metadata": {},
   "source": [
    "<div style=\"border-left: 3px solid #000; padding: 1px; padding-left: 10px; background: #F0FAFF; \\\">\n",
    "Below we only show the edge_types file as the description of the edges is in a .h5 file format and can't be show here. If you have any questions about it, please ask us and we are happy to give you more detailed about how it is saved. If you would like to see how they are saved, you\n",
    "will need to install special software (HDFviewer or Vitables are good options.)\n",
    "</div>"
   ]
  },
  {
   "cell_type": "code",
   "execution_count": null,
   "metadata": {
    "collapsed": true,
    "scrolled": true
   },
   "outputs": [],
   "source": [
    "edge_types_DF = pd.DataFrame.from_csv(edge_types_file, sep = ' ')\n",
    "edge_types_DF"
   ]
  },
  {
   "cell_type": "markdown",
   "metadata": {},
   "source": [
    "<div style=\"border-left: 3px solid #000; padding: 1px; padding-left: 10px; background: #F0FAFF; \\\">\n",
    "<h1>Build input driving sources</h1>\n",
    "In a parallel manner to before, we will now create the input network and connect it to the excitatory cells we have already made. \n",
    "</div>"
   ]
  },
  {
   "cell_type": "markdown",
   "metadata": {},
   "source": [
    "<img src=\"schematics_png/External_input_connected.png\" alt=Drawing style=\"width: 500px;\">"
   ]
  },
  {
   "cell_type": "code",
   "execution_count": null,
   "metadata": {
    "collapsed": true
   },
   "outputs": [],
   "source": [
    "# Will save the output files in a parallel manner to what we did before.\n",
    "\n",
    "# Output file names\n",
    "directory_name = 'network/source_input/'\n",
    "\n",
    "if not os.path.exists(directory_name):\n",
    "    os.makedirs(directory_name)\n",
    "    \n",
    "input_nodes_file        = directory_name + 'input_nodes.csv'\n",
    "input_models_file       = directory_name + 'input_node_types.csv'\n",
    "input_edge_types_file   = directory_name + 'input_edge_types.csv'\n",
    "input_edges_file        = directory_name + 'input_edges.h5'"
   ]
  },
  {
   "cell_type": "markdown",
   "metadata": {},
   "source": [
    "<div style=\"border-left: 3px solid #000; padding: 1px; padding-left: 10px; background: #F0FAFF; \\\">\n",
    "<h2>Builing input sources</h2>\n",
    "</div>"
   ]
  },
  {
   "cell_type": "code",
   "execution_count": null,
   "metadata": {
    "collapsed": true
   },
   "outputs": [],
   "source": [
    "# Create input dictionary. Will use \"filters\" in this example and the dictionary \n",
    "# has already been created for you below. In the following you will create the nodes\n",
    "# and save them as was done for the recurrent network. Note that we are making 25 \n",
    "# external nodes. In reality, we are just creating nodes that will spike and not filtering \n",
    "# any stimulus in particular.\n",
    "\n",
    "filter_models = \\\n",
    "        {\n",
    "        'inputFilter': {'N': 25, 'node_type_id': '1001', 'ei': 'e', 'pop_name': 'input_filter', 'level_of_detail': 'filter'}\n",
    "        }"
   ]
  },
  {
   "cell_type": "code",
   "execution_count": null,
   "metadata": {
    "collapsed": true
   },
   "outputs": [],
   "source": [
    "# Create a network object\n",
    "inputNetwork = SynNetwork(\"inputNetwork\")"
   ]
  },
  {
   "cell_type": "markdown",
   "metadata": {},
   "source": [
    "<div style=\"background: #DFF0D8; border-radius: 3px; padding: 10px; \\\">\n",
    "<h3>Exercise 4:</h3>\n",
    "Create and an external network with the dictionary parameters given above. Note that here less parameters are needed than before.\n",
    "</div>"
   ]
  },
  {
   "cell_type": "code",
   "execution_count": null,
   "metadata": {
    "collapsed": true
   },
   "outputs": [],
   "source": []
  },
  {
   "cell_type": "markdown",
   "metadata": {},
   "source": [
    "<div style=\"background: #DFF0D8; border-radius: 3px; padding: 10px; \\\">\n",
    "<h3>Exercise 5:</h3>\n",
    "<p> Save the input network as done before.   \n",
    "<p>- For the save_cells fuction, use: columns=['node_id', 'node_type_id', 'ei', 'pop_name']  \n",
    "<p>- For the save_types function, use: columns=['node_type_id', 'level_of_detail']\n",
    "</div>"
   ]
  },
  {
   "cell_type": "code",
   "execution_count": null,
   "metadata": {
    "collapsed": true
   },
   "outputs": [],
   "source": []
  },
  {
   "cell_type": "code",
   "execution_count": null,
   "metadata": {
    "collapsed": true
   },
   "outputs": [],
   "source": [
    "# Print the first 5 external nodes\n",
    "input_nodes_DF = pd.DataFrame.from_csv(input_nodes_file, sep = ' ')\n",
    "input_nodes_DF[1:5]"
   ]
  },
  {
   "cell_type": "code",
   "execution_count": null,
   "metadata": {
    "collapsed": true
   },
   "outputs": [],
   "source": [
    "# Print the external node types\n",
    "input_node_types_DF = pd.DataFrame.from_csv(input_models_file, sep = ' ')\n",
    "input_node_types_DF"
   ]
  },
  {
   "cell_type": "markdown",
   "metadata": {},
   "source": [
    "<div style=\"border-left: 3px solid #000; padding: 1px; padding-left: 10px; background: #F0FAFF; \\\">\n",
    "<h2>Connect input sources to recurrent network</h2>\n",
    "Although it is already in memory, we will load the recurrent network again under a different name to illustrate how one can load older networks.\n",
    "</div>"
   ]
  },
  {
   "cell_type": "code",
   "execution_count": null,
   "metadata": {
    "collapsed": true
   },
   "outputs": [],
   "source": [
    "# If want to load saved recurrent network from before. \n",
    "# This is done to show how to load a network.\n",
    "net_saved = SynNetwork.load(name='original_nodes', nodes=nodes_file,\n",
    "                              positions=['x_soma', 'y_soma', 'z_soma'])"
   ]
  },
  {
   "cell_type": "code",
   "execution_count": null,
   "metadata": {
    "collapsed": true
   },
   "outputs": [],
   "source": [
    "# Defining a function that will select source sources to connect to the network.\n",
    "# In this example, all source cells will connect but this gives you an idea of\n",
    "# how custom functions can be created to select subsets of input sources nodes.\n",
    "# Also we here introduce a new concept for connecting nodes. Here the function\n",
    "# receives all sources and a single target. An algorithm can determine which\n",
    "# sources connect to the given target. The function will return a list of length\n",
    "# equal to the number of sources. The elements in the list can be either N_syn\n",
    "# everytime there is a connection or None when there is no connection.\n",
    "def select_source_cells(sources, target, N_syn):\n",
    "    '''\n",
    "    Note here that sources are given (not source). So the iterations occur through every target \n",
    "    with all sources as potential inputs. Faster that before and better if will have common rules.\n",
    "    '''\n",
    "\n",
    "    target_id = target['id']\n",
    "    source_ids = [s['id'] for s in sources]\n",
    "\n",
    "    nsyns_ret = [N_syn]*len(source_ids)\n",
    "    return nsyns_ret"
   ]
  },
  {
   "cell_type": "code",
   "execution_count": null,
   "metadata": {
    "collapsed": true
   },
   "outputs": [],
   "source": [
    "# Similar to as was done for the recurrent network.  \n",
    "cparams = {'N_syn': 10}"
   ]
  },
  {
   "cell_type": "code",
   "execution_count": null,
   "metadata": {
    "collapsed": true
   },
   "outputs": [],
   "source": [
    "# Connect the external population to the biphysical exctitaory nodes (Scnn1a).\n",
    "# This is the same format as before, but note that this time we give an input\n",
    "# to the connect function called \"iterator\". Previously, when we did not use this\n",
    "# the default \"one_to_one\" was used. When in the default \"one_to_one\" case, the \n",
    "# connector function iterates through every source and target one by one. When\n",
    "# the iterator is \"all_to_one\", the connector function will expect all sources\n",
    "# to be received together for every target. Other options are \"one_to_all\". The\n",
    "# final option \"all_to_all\" is still not available.\n",
    "net_saved.connect(source=inputNetwork.nodes(), target={'pop_name': 'Scnn1a'},\n",
    "            iterator='all_to_one',\n",
    "            connector=select_source_cells,\n",
    "            connector_params=cparams,\n",
    "            edge_params={'weight_max': 0.0007, \n",
    "                         'distance_range': [0.0, 150.0],\n",
    "                         'target_sections': ['basal', 'apical'], \n",
    "                         'delay': 2.0,\n",
    "                         'params_file': 'AMPA_ExcToExc.json',\n",
    "                         'set_params_function': 'exp2syn'})"
   ]
  },
  {
   "cell_type": "markdown",
   "metadata": {},
   "source": [
    "<div style=\"background: #DFF0D8; border-radius: 3px; padding: 10px; \\\">\n",
    "<h3>Excercise 6:</h3>\n",
    "Below we connect the souce network to the LIF excitatory neurons. Change the pop_name to the pop_name you defined previously for LIF excitatory nodes.\n",
    "</div>"
   ]
  },
  {
   "cell_type": "code",
   "execution_count": null,
   "metadata": {
    "collapsed": true
   },
   "outputs": [],
   "source": [
    "# Connect the external population to the LIF exctitaory nodes \n",
    "# USE \"pop_name\" YOU DEFINED BEFORE\n",
    "net_saved.connect(source=inputNetwork.nodes(), target={'pop_name': $$$$$$$$'LIF_exc'$$$$$$$$$$$$},\n",
    "            iterator='all_to_one',\n",
    "            connector=select_source_cells,\n",
    "            connector_params=cparams,\n",
    "            edge_params={'weight_max': 0.07, \n",
    "                         'delay': 2.0,\n",
    "                         'params_file': 'instanteneousExc.json'})"
   ]
  },
  {
   "cell_type": "markdown",
   "metadata": {},
   "source": [
    "<div style=\"border-left: 3px solid #000; padding: 1px; padding-left: 10px; background: #F0FAFF; \\\">\n",
    "<h3>Build the network and save the edges</h3>\n",
    "The same functions are before.\n",
    "</div>"
   ]
  },
  {
   "cell_type": "code",
   "execution_count": null,
   "metadata": {
    "collapsed": true
   },
   "outputs": [],
   "source": [
    "net_saved.build()"
   ]
  },
  {
   "cell_type": "code",
   "execution_count": null,
   "metadata": {
    "collapsed": true
   },
   "outputs": [],
   "source": [
    "net_saved.save_edge_types(input_edge_types_file, opt_columns=['weight_max', 'distance_range',\n",
    "                                                  'target_sections', 'delay', 'params_file', 'set_params_function'])\n",
    "\n",
    "net_saved.save_edges(filename=input_edges_file)"
   ]
  },
  {
   "cell_type": "code",
   "execution_count": null,
   "metadata": {
    "collapsed": true
   },
   "outputs": [],
   "source": [
    "input_edge_types_DF = pd.DataFrame.from_csv(input_edge_types_file, sep = ' ')\n",
    "input_edge_types_DF"
   ]
  },
  {
   "cell_type": "markdown",
   "metadata": {},
   "source": [
    "<div style=\"border-left: 3px solid #000; padding: 1px; padding-left: 10px; background: #F0FAFF; \\\">\n",
    "<h3>Explore the directory structure</h3>\n",
    "At this point you may want to explore the directory structure that has been created to see how and where the files were saved. \n",
    "</div>"
   ]
  },
  {
   "cell_type": "markdown",
   "metadata": {},
   "source": [
    "<div style=\"border-left: 3px solid #000; padding: 1px; padding-left: 10px; background: #F0FAFF; \\\">\n",
    "<h2>Create spike times of input cells</h2>\n",
    "In addition to creating connectivity between the external population and the recurrent population, we need to define what input the external population is giving. This will be in the form of spike trains as illustrated below and is the last step for creating a network and running it.\n",
    "</div>"
   ]
  },
  {
   "cell_type": "markdown",
   "metadata": {},
   "source": [
    "<img src=\"schematics_png/Full_figure.png\" alt=Drawing style=\"width: 500px;\">"
   ]
  },
  {
   "cell_type": "markdown",
   "metadata": {},
   "source": [
    "<div style=\"border-left: 3px solid #000; padding: 1px; padding-left: 10px; background: #F0FAFF; \\\">\n",
    "<h3>Spike train</h3>\n",
    "Below is code that will create spike-trains for every neuron drawn from a Poisson process. A firing rate is set for all neurons and the final output file is saved in an nwb format (neurodata without borders) which we will not be discussing in this tutorial but feel free to ask a TA for more information.\n",
    "</div>"
   ]
  },
  {
   "cell_type": "code",
   "execution_count": null,
   "metadata": {
    "collapsed": true
   },
   "outputs": [],
   "source": [
    "import modelingsdk.simulator.utils.nwb as nwb\n",
    "\n",
    "# Based on algorithm from Dayan and Abbott and the following website:\n",
    "# https://praneethnamburi.wordpress.com/2015/02/05/simulating-neural-spike-trains/\n",
    "\n",
    "firingRate = 0.5           # Hz\n",
    "dt = 1./1000               # 1 millisecond time bins\n",
    "totalTime = 10000          # Milliseconds\n",
    "time = np.arange(0, totalTime, dt*1000)\n",
    "\n",
    "input_spike_file_name = directory_name + 'poisson_input_spk_train.nwb'\n",
    "# Write nwb file:\n",
    "f = nwb.create_blank_file(input_spike_file_name, force=True)\n",
    "\n",
    "numNeurons = filter_models['inputFilter']['N']\n",
    "numTrials  = 2\n",
    "for gid in range(numNeurons):\n",
    "    for trial_number in range(numTrials):\n",
    "        PoissonTrain = np.random.rand(1, int(totalTime)) < (firingRate * dt)\n",
    "        spkTimes = time[PoissonTrain[0]]\n",
    "        nwb.SpikeTrain(spkTimes, unit='millisecond').add_to_processing(f, 'trial_%s' % trial_number)\n",
    "f.close()"
   ]
  },
  {
   "cell_type": "markdown",
   "metadata": {},
   "source": [
    "<div style=\"border-left: 3px solid #000; padding: 1px; padding-left: 10px; background: #F0FAFF; \\\">\n",
    "<h1>Config file</h1>\n",
    "With so many files created (nodes, edges, spiking) and given (morpholgies, e-phys parameters), everything needs to be integrated together which is done in a config file. This file has already been created and below we are printing it. Feel free to also look at the config file directly as it will look better than the print function below.\n",
    "</div>"
   ]
  },
  {
   "cell_type": "code",
   "execution_count": null,
   "metadata": {
    "collapsed": true,
    "scrolled": false
   },
   "outputs": [],
   "source": [
    "import json\n",
    "import pprint\n",
    "\n",
    "with open('config.json') as config:\n",
    "    config_file = json.load(config)\n",
    "\n",
    "pprint.pprint(config_file)\n"
   ]
  },
  {
   "cell_type": "markdown",
   "metadata": {},
   "source": [
    "<div style=\"border-left: 3px solid #000; padding: 1px; padding-left: 10px; background: #F0FAFF; \\\">\n",
    "<h1>Run function</h1>\n",
    "Below is the run fuction that will read the config file and run our simulation on NEURON. Feel free to examine it if you are interested. Otherwise, the next cell simply calls the function and gives in the config file.\n",
    "</div>"
   ]
  },
  {
   "cell_type": "code",
   "execution_count": null,
   "metadata": {
    "collapsed": true
   },
   "outputs": [],
   "source": [
    "import os\n",
    "import sys\n",
    "import modelingsdk.simulator.bionet.config as config\n",
    "from modelingsdk.simulator.bionet import io, nrn\n",
    "from modelingsdk.simulator.bionet.network import Network\n",
    "from modelingsdk.simulator.bionet.graph import Graph\n",
    "from modelingsdk.simulator.bionet.simulation import Simulation\n",
    "import set_weights\n",
    "import set_cell_params\n",
    "import set_syn_params\n",
    "\n",
    "\n",
    "def run_sim(config_file):\n",
    "    conf = config.from_json(config_file) # Build a configuration paths\n",
    "    io.setup_output_dir(conf)            # Create output directory tree structure\n",
    "\n",
    "    nrn.load_neuron_modules(conf)        # Load NMODL mechanisms,hoc templates\n",
    "    nrn.load_py_modules(set_cell_params=set_cell_params, # Load custom Python modules\n",
    "                        set_weights=set_weights,\n",
    "                        set_syn_params=set_syn_params)\n",
    "\n",
    "    graph = Graph(conf)                 # Load network description\n",
    "    net = Network(conf, graph=graph)    # Create a network based on graph structure\n",
    "    net.make_cells()                    # Instantiate internal cells\n",
    "    net.make_stims()                    # Instantiate external cells (inputs)\n",
    "\n",
    "    net.set_connections()               # Connect cells\n",
    "\n",
    "    sim = Simulation(conf, network = net) # Create an instance of a simulation\n",
    "\n",
    "    sim.set_recordings()                # Set up recordings\n",
    "    sim.run()                           # Run the simulation"
   ]
  },
  {
   "cell_type": "code",
   "execution_count": null,
   "metadata": {
    "collapsed": true
   },
   "outputs": [],
   "source": [
    "run_sim('config.json')"
   ]
  },
  {
   "cell_type": "markdown",
   "metadata": {},
   "source": [
    "<div style=\"border-left: 3px solid #000; padding: 1px; padding-left: 10px; background: #F0FAFF; \\\">\n",
    "<h1>Basic analysis of output</h1>\n",
    "</div>"
   ]
  },
  {
   "cell_type": "markdown",
   "metadata": {},
   "source": [
    "<div style=\"border-left: 3px solid #000; padding: 1px; padding-left: 10px; background: #F0FAFF; \\\">\n",
    "<h3>Plot raster plot</h3>\n",
    "First we load the spikes outputs of our simulation.\n",
    "The output file contains two columns -- spike time (in millseconds) and node_id. Each time a cell spikes, a new row with the node_id and the spike time is added to the file.\n",
    "</div>"
   ]
  },
  {
   "cell_type": "code",
   "execution_count": null,
   "metadata": {
    "collapsed": true
   },
   "outputs": [],
   "source": [
    "# Load the spikes\n",
    "spks = np.loadtxt(config_file['manifest']['$OUTPUT_DIR'][10:] + config_file['output']['spikes_ascii'][11:])\n",
    "\n",
    "# Print the first 10 spikes\n",
    "# spks[:, 0] is the spike-time\n",
    "# spks[:, 1] is the neuron id that fired at that time\n",
    "print(spks[1:10, :])"
   ]
  },
  {
   "cell_type": "code",
   "execution_count": null,
   "metadata": {
    "collapsed": true
   },
   "outputs": [],
   "source": [
    "# Basic raster plot\n",
    "plt.plot(spks[:, 0], spks[:, 1], '.k')\n",
    "plt.xlim(0, config_file['run']['tstop'])\n",
    "plt.ylim(-1, 7.5)\n",
    "plt.xlabel('Time (ms)')\n",
    "plt.ylabel('Neuron Number')"
   ]
  },
  {
   "cell_type": "markdown",
   "metadata": {},
   "source": [
    "<div style=\"background: #DFF0D8; border-radius: 3px; padding: 10px; \\\">\n",
    "<h3>Excercise 7:</h3>\n",
    "Zoom into speicific time window of raster to see interactions better.\n",
    "<p>Hint: change plt.xlim()\n",
    "</div>"
   ]
  },
  {
   "cell_type": "code",
   "execution_count": null,
   "metadata": {
    "collapsed": true
   },
   "outputs": [],
   "source": []
  },
  {
   "cell_type": "markdown",
   "metadata": {},
   "source": [
    "<div style=\"border-left: 3px solid #000; padding: 1px; padding-left: 10px; background: #F0FAFF; \\\">\n",
    "<h3>Plot membrane trace of node</h3>\n",
    "Membrane traces are also stored and saved in a .h5 file format. Below we show how to access, load, and plot the membrane traces.\n",
    "</div>"
   ]
  },
  {
   "cell_type": "code",
   "execution_count": null,
   "metadata": {
    "collapsed": true
   },
   "outputs": [],
   "source": [
    "# Get the file name of node #2\n",
    "node = 2\n",
    "h5_output_file = config_file['manifest']['$OUTPUT_DIR'][10:] + \\\n",
    "                    config_file['output']['cell_vars_dir'][11:] + '/' + str(node) + '.h5' \n",
    "print(h5_output_file)"
   ]
  },
  {
   "cell_type": "code",
   "execution_count": null,
   "metadata": {
    "collapsed": true
   },
   "outputs": [],
   "source": [
    "# Load the file for a node and see all the recorded variables\n",
    "import h5py\n",
    "f = h5py.File(h5_output_file, 'r')\n",
    "for key in f:\n",
    "    print('Variables recorded: ',key)"
   ]
  },
  {
   "cell_type": "code",
   "execution_count": null,
   "metadata": {
    "collapsed": true
   },
   "outputs": [],
   "source": [
    "# Select the membrane voltage variable and plot it\n",
    "mem_vol = np.array(f.get('v'))\n",
    "time = np.arange(0, config_file['run']['tstop'], config_file['run']['dt'])\n",
    "plt.plot(time, mem_vol)\n",
    "plt.xlabel('Time (ms)')\n",
    "plt.ylabel('Membrane voltage (mV)')"
   ]
  },
  {
   "cell_type": "markdown",
   "metadata": {},
   "source": [
    "<div style=\"background: #DFF0D8; border-radius: 3px; padding: 10px; \\\">\n",
    "<h3>Excercise 8:</h3>\n",
    "Plot the membrane potential of all biophysically detailed neurons in a subplot. Look at the difference in subthreshold activity between the excitatory and inhibitory cells (recalled only excitatory get input from the external population).\n",
    "</div>"
   ]
  },
  {
   "cell_type": "code",
   "execution_count": null,
   "metadata": {
    "collapsed": true
   },
   "outputs": [],
   "source": []
  },
  {
   "cell_type": "markdown",
   "metadata": {},
   "source": [
    "<div style=\"background: #DFF0D8; border-radius: 3px; padding: 10px; \\\">\n",
    "<h2>Homework exercises:</h2>\n",
    "<p>1. Explore the directory structure created from this notebook that represents the network  \n",
    "<p>2. Explore the directory components that was created for you and contains more cell types  \n",
    "<p>3. Download and HDF5 viewer and explore the .h5 files created.  \n",
    "<p>4. Simulate one biophysical neuron receiving a large number of balanced excitatory and inhibitory inputs. Choose a cell model other than Scnn1a or PV1. Explore the effects of changing the target locations (somatic, basal, apical) of the excitatory and inhibitory inputs.  \n",
    "<p>5. We have another directory >>pointnet_notebook that shows how to use the same files and circuit created here to run a point neural network simulation. The simulator engine is NEST (http://www.nest-simulator.org/) and some changes had to be made to the config file and network description (documented in the notebook) based on NEST nomenclature requirements. Feel free to explore and play around with the notebook and NEST.\n",
    "</div>"
   ]
  },
  {
   "cell_type": "markdown",
   "metadata": {},
   "source": [
    "<div style=\"border-left: 3px solid #000; padding: 1px; padding-left: 10px; background: #F0FAFF; \\\">\n",
    "<h2>Project Ideas:</h2>\n",
    "<p>1. Compare visual responses between the Layer 4 model and Brain Observatory.  \n",
    "\n",
    "<p>2. Find an optimal kernel for converting spikes from the Layer 4 model to Ca2+ signal, to maximize the agreeement with the Brain Observatory data.  \n",
    "\n",
    "<p>3. Build a small-scale point-neuron network model receiving visual inputs; run simulations to explore visual responses.  \n",
    "\n",
    "<p>4. Build a small-scale point-neuron network; explore the effect of different connectivity rules on the spatio-temporal dynamics.  \n",
    "\n",
    "<p>5. Build a population-statistics DiPDE model analogous to the biophysical Layer 4 model.  Investigate whether similar dynamics can be obtained.  \n",
    "\n",
    "<p>6. Build a population-statistics DiPDE model of all cortical layers.  Explore cortical dynamics in simulations.  \n",
    "</div>"
   ]
  }
 ],
 "metadata": {
  "kernelspec": {
   "display_name": "Python 2",
   "language": "python",
   "name": "python2"
  },
  "language_info": {
   "codemirror_mode": {
    "name": "ipython",
    "version": 2
   },
   "file_extension": ".py",
   "mimetype": "text/x-python",
   "name": "python",
   "nbconvert_exporter": "python",
   "pygments_lexer": "ipython2",
   "version": "2.7.13"
  }
 },
 "nbformat": 4,
 "nbformat_minor": 2
}
