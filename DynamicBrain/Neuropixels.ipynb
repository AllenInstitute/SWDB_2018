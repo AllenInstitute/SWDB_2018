{
 "cells": [
  {
   "cell_type": "markdown",
   "metadata": {},
   "source": [
    "# <img src=\"cropped-SummerWorkshop_Header.png\">  \n",
    "\n",
    "<h1 align=\"center\">Python Bootcamp and Summer Workshop on the Dynamic Brain</h1> \n",
    "<h3 align=\"center\">August 19-September 3, 2017</h3> "
   ]
  },
  {
   "cell_type": "markdown",
   "metadata": {},
   "source": [
    "<div style=\"background: #DFF0D8; border-radius: 3px; padding: 10px;\">\n",
    "<p>This notebook will introduce you to the Neuropixels dataset and SDK functions. \n",
    "\n",
    "<p>We want to look at correlations between spike trains in two visual areas.\n",
    "</div>"
   ]
  },
  {
   "cell_type": "code",
   "execution_count": 1,
   "metadata": {},
   "outputs": [],
   "source": [
    "# We need to import these modules to get started\n",
    "import numpy as np\n",
    "import pandas as pd\n",
    "import os\n",
    "import sys\n",
    "import matplotlib.pyplot as plt\n",
    "%matplotlib inline"
   ]
  },
  {
   "cell_type": "markdown",
   "metadata": {},
   "source": [
    "<div style=\"border-left: 3px solid #000; padding: 1px; padding-left: 10px; background: #F0FAFF; \">\n",
    "<p>The main entry point is the TBD. For this workshop, all of the data has been preloaded onto the hard drives you have received."
   ]
  },
  {
   "cell_type": "code",
   "execution_count": 2,
   "metadata": {},
   "outputs": [],
   "source": [
    "from ecephys_analysis_modules.common.sdk.EPhys_analysis_main_swdb import NaturalImages, DriftingGrating"
   ]
  },
  {
   "cell_type": "code",
   "execution_count": 6,
   "metadata": {},
   "outputs": [],
   "source": [
    "#Set the path to the folder containing the NWB file\n",
    "\n",
    "nwbfolder = '../mnt/allen/aibs/mat/RamIyer/SWDB_2018/Josh_data'\n",
    "#nwbfolder = '/allen/aibs/mat/RamIyer/SWDB_2018/Sev_Data/test_M15'\n",
    "\n",
    "#Specify regions from which we will be analyzing spike trains\n",
    "regions_of_interest = ['V1']#,'LM']"
   ]
  },
  {
   "cell_type": "code",
   "execution_count": 7,
   "metadata": {},
   "outputs": [
    {
     "name": "stdout",
     "output_type": "stream",
     "text": [
      "('NWB file:', 'mouse372584_probe_surf_bob.nwb')\n",
      "Data folder already exists\n",
      "probeA AM\n",
      "probeB PM\n",
      "probeC V1\n",
      "probeD LM\n",
      "probeE AL\n",
      "probeF RL\n",
      "['probeC'] ['V1']\n",
      "dense_noise_8deg_2\n",
      "drifting_gratings_4\n",
      "gabor_20_deg_3\n",
      "images_5\n",
      "locally_sparse_noise_4deg_0\n",
      "locally_sparse_noise_8deg_1\n",
      "natural_movie_3_7\n",
      "spontaneous\n",
      "static_gratings_6\n",
      "Calculating responses for each sweep\n",
      "Calculating mean responses\n",
      "('NWB file:', 'mouse372584_probe_surf_bob.nwb')\n",
      "Data folder already exists\n",
      "probeA AM\n",
      "probeB PM\n",
      "probeC V1\n",
      "probeD LM\n",
      "probeE AL\n",
      "probeF RL\n",
      "['probeC'] ['V1']\n",
      "dense_noise_8deg_2\n",
      "drifting_gratings_4\n",
      "gabor_20_deg_3\n",
      "images_5\n",
      "locally_sparse_noise_4deg_0\n",
      "locally_sparse_noise_8deg_1\n",
      "natural_movie_3_7\n",
      "spontaneous\n",
      "static_gratings_6\n",
      "Calculating responses for each sweep\n",
      "Calculating drifting grating mean responses for each stimulus condition\n"
     ]
    }
   ],
   "source": [
    "#Obtain stimulus and response data for natural images and drifting gratings\n",
    "\n",
    "ni = NaturalImages(exptpath=nwbfolder,region_list = regions_of_interest)\n",
    "dg = DriftingGrating(exptpath=nwbfolder,region_list = regions_of_interest)"
   ]
  },
  {
   "cell_type": "code",
   "execution_count": 8,
   "metadata": {},
   "outputs": [
    {
     "name": "stdout",
     "output_type": "stream",
     "text": [
      "[10, 45] 10 45 ['313' '335']\n"
     ]
    }
   ],
   "source": [
    "#Choose two units randomly from amongst all units recorded in V1\n",
    "from numpy.random import randint as ri\n",
    "\n",
    "numcells_V1 = len(dg.unit_list['V1']) #number of recorded units in V1\n",
    "\n",
    "#unit_nos = ri(numcells_V1,size=2) # random number to select a unit\n",
    "\n",
    "#unit_nos = [10,30]\n",
    "unit_nos = [10,45]\n",
    "\n",
    "print unit_nos, unit_nos[0], unit_nos[1], dg.unit_list['V1'][unit_nos]"
   ]
  },
  {
   "cell_type": "code",
   "execution_count": 9,
   "metadata": {},
   "outputs": [],
   "source": [
    "#Get the corresponding unit IDs and spike times for these two cells\n",
    "cell_id_0 = str(dg.unit_list['V1'][unit_nos[0]])\n",
    "cell_id_1 = str(dg.unit_list['V1'][unit_nos[1]])\n",
    "spt_0 = dg.spike_times['V1'][cell_id_0]\n",
    "spt_1 = dg.spike_times['V1'][cell_id_1]"
   ]
  },
  {
   "cell_type": "code",
   "execution_count": 10,
   "metadata": {},
   "outputs": [
    {
     "data": {
      "image/png": "[encoded data removed]",
      "text/plain": [
       "<Figure size 864x288 with 2 Axes>"
      ]
     },
     "metadata": {},
     "output_type": "display_data"
    }
   ],
   "source": [
    "#Plot the ISI distributions for the two units we have isolated\n",
    "fig,ax = plt.subplots(1,2,figsize = (12,4))\n",
    "ax[0].hist(np.diff(spt_0),100)\n",
    "ax[0].set_ylim([0,10000])\n",
    "ax[1].hist(np.diff(spt_1),100)\n",
    "ax[1].set_ylim([0,10000])\n",
    "plt.show()"
   ]
  },
  {
   "cell_type": "code",
   "execution_count": 11,
   "metadata": {},
   "outputs": [
    {
     "data": {
      "text/html": [
       "<div>\n",
       "<style scoped>\n",
       "    .dataframe tbody tr th:only-of-type {\n",
       "        vertical-align: middle;\n",
       "    }\n",
       "\n",
       "    .dataframe tbody tr th {\n",
       "        vertical-align: top;\n",
       "    }\n",
       "\n",
       "    .dataframe thead th {\n",
       "        text-align: right;\n",
       "    }\n",
       "</style>\n",
       "<table border=\"1\" class=\"dataframe\">\n",
       "  <thead>\n",
       "    <tr style=\"text-align: right;\">\n",
       "      <th></th>\n",
       "      <th>Unit_ID</th>\n",
       "      <th>Type</th>\n",
       "      <th>Depth</th>\n",
       "      <th>waveform</th>\n",
       "    </tr>\n",
       "  </thead>\n",
       "  <tbody>\n",
       "    <tr>\n",
       "      <th>0</th>\n",
       "      <td>213</td>\n",
       "      <td>rs</td>\n",
       "      <td>-3560</td>\n",
       "      <td>[0.0, 6.26, 5.235, 3.0630000000000006, 4.20599...</td>\n",
       "    </tr>\n",
       "    <tr>\n",
       "      <th>1</th>\n",
       "      <td>130</td>\n",
       "      <td>rs</td>\n",
       "      <td>-2440</td>\n",
       "      <td>[0.0, -3.5529999999999995, -4.475, -1.584, -4....</td>\n",
       "    </tr>\n",
       "    <tr>\n",
       "      <th>2</th>\n",
       "      <td>135</td>\n",
       "      <td>rs</td>\n",
       "      <td>-3440</td>\n",
       "      <td>[0.0, 1.2600000000000002, -0.6219999999999999,...</td>\n",
       "    </tr>\n",
       "    <tr>\n",
       "      <th>3</th>\n",
       "      <td>24</td>\n",
       "      <td>rs</td>\n",
       "      <td>-2920</td>\n",
       "      <td>[0.0, 1.387, -2.9050000000000002, -1.357, 0.73...</td>\n",
       "    </tr>\n",
       "    <tr>\n",
       "      <th>4</th>\n",
       "      <td>29</td>\n",
       "      <td>rs</td>\n",
       "      <td>-2800</td>\n",
       "      <td>[0.0, -0.602, 1.0900000000000005, -2.495999999...</td>\n",
       "    </tr>\n",
       "  </tbody>\n",
       "</table>\n",
       "</div>"
      ],
      "text/plain": [
       "  Unit_ID Type  Depth                                           waveform\n",
       "0     213   rs  -3560  [0.0, 6.26, 5.235, 3.0630000000000006, 4.20599...\n",
       "1     130   rs  -2440  [0.0, -3.5529999999999995, -4.475, -1.584, -4....\n",
       "2     135   rs  -3440  [0.0, 1.2600000000000002, -0.6219999999999999,...\n",
       "3      24   rs  -2920  [0.0, 1.387, -2.9050000000000002, -1.357, 0.73...\n",
       "4      29   rs  -2800  [0.0, -0.602, 1.0900000000000005, -2.495999999..."
      ]
     },
     "execution_count": 11,
     "metadata": {},
     "output_type": "execute_result"
    }
   ],
   "source": [
    "#Look at the waveform data for the two units\n",
    "\n",
    "ind0 = np.where(dg.waveform_data['V1']['Unit_ID']==cell_id_0)[0]\n",
    "ind1 = np.where(dg.waveform_data['V1']['Unit_ID']==cell_id_1)[0]\n",
    "dg.waveform_data['V1'].head()#loc[unit_nos]"
   ]
  },
  {
   "cell_type": "code",
   "execution_count": 12,
   "metadata": {},
   "outputs": [],
   "source": [
    "# def convert_wvf_str_to_arr(x):\n",
    "#     x1 = list(map(float, x.replace('[', '').replace(']', '').split()))\n",
    "#     return x1"
   ]
  },
  {
   "cell_type": "code",
   "execution_count": 13,
   "metadata": {},
   "outputs": [],
   "source": [
    "#dg.waveform_data['V1']['waveform'] =  dg.waveform_data['V1']['waveform'].apply(lambda x: convert_wvf_str_to_arr(x))"
   ]
  },
  {
   "cell_type": "code",
   "execution_count": 14,
   "metadata": {},
   "outputs": [
    {
     "data": {
      "image/png": "[encoded data removed]",
      "text/plain": [
       "<Figure size 432x288 with 1 Axes>"
      ]
     },
     "metadata": {},
     "output_type": "display_data"
    }
   ],
   "source": [
    "#Plot the waveform shapes for the two units\n",
    "\n",
    "plt.figure()\n",
    "plt.plot(dg.waveform_data['V1'].loc[unit_nos[0]]['waveform'])\n",
    "plt.plot(dg.waveform_data['V1'].loc[unit_nos[1]]['waveform'],'r')\n",
    "plt.show()"
   ]
  },
  {
   "cell_type": "code",
   "execution_count": 15,
   "metadata": {},
   "outputs": [
    {
     "data": {
      "text/plain": [
       "(9, 6, 99, 2)"
      ]
     },
     "execution_count": 15,
     "metadata": {},
     "output_type": "execute_result"
    }
   ],
   "source": [
    "np.shape(dg.response['V1'])#, np.shape(dg.response['LM'])"
   ]
  },
  {
   "cell_type": "code",
   "execution_count": 16,
   "metadata": {},
   "outputs": [
    {
     "data": {
      "text/plain": [
       "(array([   0,   45,   90,  135,  180,  225,  270,  315, 1000]),\n",
       " array([   1,    2,    4,    8,   15, 1000]))"
      ]
     },
     "execution_count": 16,
     "metadata": {},
     "output_type": "execute_result"
    }
   ],
   "source": [
    "dg.orivals, dg.tfvals"
   ]
  },
  {
   "cell_type": "code",
   "execution_count": 17,
   "metadata": {},
   "outputs": [
    {
     "data": {
      "image/png": "[encoded data removed]",
      "text/plain": [
       "<Figure size 432x288 with 1 Axes>"
      ]
     },
     "metadata": {},
     "output_type": "display_data"
    }
   ],
   "source": [
    "#Plot orientation tuning curves for the two units of interest  \n",
    "\n",
    "ori = 0\n",
    "ori_ind = np.where(dg.orivals == ori)[0][0]\n",
    "\n",
    "tf = 1\n",
    "tf_ind = np.where(dg.tfvals == tf)[0][0]\n",
    "\n",
    "ori_tun_0 = dg.response['V1'][:-1,tf_ind,unit_nos[0],0]\n",
    "ori_tun_1 = dg.response['V1'][:-1,tf_ind,unit_nos[1],0]\n",
    "\n",
    "fig,ax = plt.subplots(1,1)\n",
    "plt.plot(ori_tun_0)\n",
    "plt.plot(ori_tun_1,'r')\n",
    "ax.set_xticks(range(8))\n",
    "ax.set_xticklabels(dg.orivals[:-1])\n",
    "plt.show()"
   ]
  },
  {
   "cell_type": "code",
   "execution_count": 18,
   "metadata": {},
   "outputs": [],
   "source": [
    "def raster(ax,event_times_list,color='k'):\n",
    "    for ith, trial in enumerate(event_times_list):\n",
    "        ax.vlines(trial,ith+.5,ith+1.5,color=color)"
   ]
  },
  {
   "cell_type": "code",
   "execution_count": 19,
   "metadata": {},
   "outputs": [
    {
     "data": {
      "image/png": "[encoded data removed]",
      "text/plain": [
       "<Figure size 1080x360 with 2 Axes>"
      ]
     },
     "metadata": {},
     "output_type": "display_data"
    }
   ],
   "source": [
    "#Plot rasters for responses of the two chosen units to a specified image\n",
    "\n",
    "img_num = ri(ni.number_images,size=1)[0] #98,65 seem nice examples\n",
    "ni_spt_0 = ni.sweep_spiketimes_per_area['V1'][str(unit_nos[0])]\n",
    "ni_spt_1 = ni.sweep_spiketimes_per_area['V1'][str(unit_nos[1])]\n",
    "\n",
    "ni0_resp = ni_spt_0[np.where(ni.stim_table.Image==img_num)[0]]\n",
    "ni1_resp = ni_spt_1[np.where(ni.stim_table.Image==img_num)[0]]\n",
    "\n",
    "fig,ax = plt.subplots(2,1,figsize=(15,5))\n",
    "raster(ax[0],ni0_resp,color='k')\n",
    "ax[0].axvspan(0, ni.sweeplength ,ymin=0, ymax=1, facecolor='gray', alpha=0.3)\n",
    "ax[0].set_title(img_num)\n",
    "raster(ax[1],ni1_resp,color='k')\n",
    "ax[1].axvspan(0, ni.sweeplength ,ymin=0, ymax=1, facecolor='gray', alpha=0.3)\n",
    "plt.show()"
   ]
  },
  {
   "cell_type": "code",
   "execution_count": 20,
   "metadata": {},
   "outputs": [],
   "source": [
    "def extract_local(train2,t1,binrange):\n",
    "    \"\"\"\n",
    "    Returns events in `train2` which are within `binrange` of `t1`, aligned to `t1`\n",
    "\n",
    "    Parameters\n",
    "    ----------\n",
    "    train2 : numpy array\n",
    "    t1 : float\n",
    "    binrange : tuple or list of length=2\n",
    "\n",
    "    \"\"\"\n",
    "\n",
    "    start = np.searchsorted(train2,t1 + binrange[0])\n",
    "    end = np.searchsorted(train2,t1 + binrange[1])\n",
    "\n",
    "    return train2[start:end] - t1\n",
    "\n",
    "def ccg(train1, train2, binrange, binsize):\n",
    "    \"\"\"\n",
    "    Computes a cross-correlogram for two spike trains.\n",
    "\n",
    "    Parameters\n",
    "    ----------\n",
    "    train1 : numpy array\n",
    "        Primary spike train. Cross-correlogram will be computed relative to spikes in this spike train.\n",
    "    train2 : numpy array\n",
    "        Secondary spike train.\n",
    "    binrange : tuple or list of length=2\n",
    "        Window over which to compute cross correlogram.\n",
    "    binsize : float\n",
    "        Size of bins in cross-correlogram\n",
    "\n",
    "    \"\"\"\n",
    "    \n",
    "    nbins = int((binrange[1]-binrange[0])/binsize)\n",
    "    \n",
    "    diffs = [extract_local(train2,t1,binrange) for t1 in train1]\n",
    "        \n",
    "    diffs = np.hstack(diffs)\n",
    "    diffs = diffs[diffs!=0]\n",
    "\n",
    "    hist, edges = np.histogram(diffs, bins=nbins, range=binrange)\n",
    "        \n",
    "    return edges[1:]-binsize/2, hist /float(len(train1))*100"
   ]
  },
  {
   "cell_type": "code",
   "execution_count": 21,
   "metadata": {
    "scrolled": true
   },
   "outputs": [
    {
     "data": {
      "image/png": "[encoded data removed]",
      "text/plain": [
       "<Figure size 432x288 with 1 Axes>"
      ]
     },
     "metadata": {},
     "output_type": "display_data"
    }
   ],
   "source": [
    "#Plot cross-correlogram between spike trains recorded from the two units\n",
    "\n",
    "binsize = 0.001\n",
    "ccg_win = [-0.1005,0.1005] #np.arange(-0.1005,0.1005,binsize)\n",
    "ccg_centers,ccg_vals = ccg(spt_0,spt_1,ccg_win,binsize)\n",
    "plt.figure()\n",
    "plt.plot(ccg_centers,ccg_vals)\n",
    "ax = plt.gca()\n",
    "ax.axvline(ccg_centers[100],color='gray',linewidth = 0.8)\n",
    "plt.show()"
   ]
  },
  {
   "cell_type": "code",
   "execution_count": null,
   "metadata": {},
   "outputs": [],
   "source": []
  }
 ],
 "metadata": {
  "anaconda-cloud": {},
  "kernelspec": {
   "display_name": "Python 2",
   "language": "python",
   "name": "python2"
  },
  "language_info": {
   "codemirror_mode": {
    "name": "ipython",
    "version": 2
   },
   "file_extension": ".py",
   "mimetype": "text/x-python",
   "name": "python",
   "nbconvert_exporter": "python",
   "pygments_lexer": "ipython2",
   "version": "2.7.15"
  }
 },
 "nbformat": 4,
 "nbformat_minor": 1
}
