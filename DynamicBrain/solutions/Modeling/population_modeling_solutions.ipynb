{
 "cells": [
  {
   "cell_type": "markdown",
   "metadata": {},
   "source": [
    "<img src=\"../../../resources/cropped-SummerWorkshop_Header.png\">  \n",
    "\n",
    "<h1 align=\"center\">Python Bootcamp and Summer Workshop on the Dynamic Brain</h1> \n",
    "<h3 align=\"center\">Wednesday, August 23, 2017</h3> "
   ]
  },
  {
   "cell_type": "code",
   "execution_count": null,
   "metadata": {
    "collapsed": true
   },
   "outputs": [],
   "source": [
    "import sys,os, pprint\n",
    "import pandas as pd\n",
    "import numpy as np\n",
    "import matplotlib.image as mpimg\n",
    "import matplotlib.pyplot as plt\n",
    "%matplotlib inline"
   ]
  },
  {
   "cell_type": "markdown",
   "metadata": {},
   "source": [
    "<div style=\"border-left: 3px solid #000; padding: 1px; padding-left: 10px; background: #F0FAFF; \\\">\n",
    "<h1 align=\"center\">Modeling a coupled excitatory-inhibitory (E-I) network with DiPDE/popnet </h1> \n",
    "\n",
    "<p>In this tutorial, we will demonstrate simulation of an E-I network consisting of homogenous excitatory (E) and inhibitory (I) populations using the DiPDE simulator. \n",
    "<p>In this example, only the excitatory (E) population is being driven by excitatory input from the external (Ext) population.</div>"
   ]
  },
  {
   "cell_type": "markdown",
   "metadata": {},
   "source": [
    "<img src=\"../../Modeling/popnet_notebook/schematics_png/DiPDE_ei_net.png\" alt = Drawing style = \"width: 500px;\"> "
   ]
  },
  {
   "cell_type": "markdown",
   "metadata": {},
   "source": [
    "<div style=\"border-left: 3px solid #000; padding: 1px; padding-left: 10px; background: #F0FAFF; \">\n",
    "\n",
    "<h1> Building the network</h1>\n",
    "<p>We will build the network step-by-step as follows:\n",
    "<p>1) Create/parameterize the nodes (populations) in the internal network, namely the E and I populations\n",
    "<p>2) Create/parameterize the external population. \n",
    "<p>3) Create/parameterize the edge (connection) from the external population to the E population.\n",
    "<p>4) Connect the E population to the I population\n",
    "<p>5) Run simulation and observe output\n",
    "<p>6) Exercise: Connect I to E and explore how the outputs change</div>"
   ]
  },
  {
   "cell_type": "code",
   "execution_count": null,
   "metadata": {
    "collapsed": true
   },
   "outputs": [],
   "source": [
    "#Create a folder called network. \n",
    "#Within this folder, we create a folder'recurrent_network' where the nodes and edges in our example will be saved\n",
    "directory_name = 'network/recurrent_network/'\n",
    "\n",
    "if not os.path.exists(directory_name):\n",
    "    os.makedirs(directory_name)"
   ]
  },
  {
   "cell_type": "markdown",
   "metadata": {},
   "source": [
    "<div style=\"border-left: 3px solid #000; padding: 1px; padding-left: 10px; background: #F0FAFF; \">\n",
    "\n",
    "<p> We will explore the directory structure for saving nodes and edges later. For now, just note that we will be creating node and edge parameter files and storing them in the 'network' folder </div>"
   ]
  },
  {
   "cell_type": "markdown",
   "metadata": {
    "collapsed": true
   },
   "source": [
    "<div style=\"border-left: 3px solid #000; padding: 1px; padding-left: 10px; background: #F0FAFF; \">\n",
    "\n",
    "<h2> 1) Building E and I nodes </h2>\n",
    "\n",
    "<p>Let's start with creating a network object and add a single Excitatory population, followed by an Inhibitory population</div>"
   ]
  },
  {
   "cell_type": "markdown",
   "metadata": {},
   "source": [
    "<img src=\"../../Modeling/popnet_notebook/schematics_png/ei_pop.png\" alt = Drawing style = \"width: 500px;\"> "
   ]
  },
  {
   "cell_type": "code",
   "execution_count": null,
   "metadata": {
    "collapsed": true
   },
   "outputs": [],
   "source": [
    "#Import the NxNetwork module from modelingsdk. This module allows us to create a network object\n",
    "#to which we can add nodes and edges respectively. \n",
    "from modelingsdk.builder.networks import NxNetwork\n",
    "\n",
    "#Create network object\n",
    "net = NxNetwork('V1')"
   ]
  },
  {
   "cell_type": "code",
   "execution_count": null,
   "metadata": {
    "collapsed": true
   },
   "outputs": [],
   "source": [
    "# Add 'E' node to 'net'\n",
    "net.add_nodes(node_type_id='0', pop_name='excitatory', params_file='excitatory_pop.json')"
   ]
  },
  {
   "cell_type": "markdown",
   "metadata": {},
   "source": [
    "<div style=\"border-left: 3px solid #000; padding: 1px; padding-left: 10px; background: #F0FAFF; \">\n",
    "\n",
    "<p> The variable 'node_type_id' is a label here that keeps track of a particular node; we can change the parameters associated with any node by specifying the node_type_id, without creating additional nodes.\n",
    "<p> The default parameters for the excitatory population are stored in the json file. Let's see what they are. We will see below how the default parameters can be changed </div>"
   ]
  },
  {
   "cell_type": "code",
   "execution_count": null,
   "metadata": {
    "collapsed": true
   },
   "outputs": [],
   "source": [
    "#Import necessary modules\n",
    "\n",
    "import pprint #pprint is a module that permits neat display of outputs. \n",
    "import json   #this module permits loading and reading json files\n",
    "\n",
    "#Load the json file\n",
    "with open('components/pop_models/excitatory_pop.json') as exc_data:\n",
    "    exc_prs = json.load(exc_data)\n",
    "\n",
    "#Print the parameters    \n",
    "pprint.pprint(exc_prs)"
   ]
  },
  {
   "cell_type": "markdown",
   "metadata": {},
   "source": [
    "<div style=\"border-left: 3px solid #000; padding: 1px; padding-left: 10px; background: #F0FAFF; \">\n",
    "\n",
    "<h2> What do these parameters correspond to? </h2>\n",
    "<p>approx_order: None,      \n",
    "<p>dv: 0.0001      ->        grid-size for the membrane potential (in volts)\n",
    "<p>record: True            \n",
    "<p>tau_m: 0.0429   ->    membrane time-constant for each neuron in the population (in seconds)\n",
    "<p>update_method': gmres  -> internal solver-specific method \n",
    "<p>v_max: 0.02,           ->   threshold membrane potential (in volts)\n",
    "<p>v_min: -0.05           ->   resting membrane potential   (in volts)</div>            "
   ]
  },
  {
   "cell_type": "markdown",
   "metadata": {},
   "source": [
    "<div style=\"background: #DFF0D8; border-radius: 3px; padding: 10px;\">\n",
    "<h3> Exercise 1.1: </h3>\n",
    "\n",
    "<p>Follow the steps above to add an 'I' node (inhibitory population) to the network. You can set the node_type_id to 1 and replace 'excitatory' with 'inhibitory' for the other two fields.</div>  "
   ]
  },
  {
   "cell_type": "code",
   "execution_count": null,
   "metadata": {
    "collapsed": true
   },
   "outputs": [],
   "source": [
    "# Add 'I' node to 'net'\n",
    "net.add_nodes(node_type_id='1', pop_name='inhibitory', params_file='inhibitory_pop.json')"
   ]
  },
  {
   "cell_type": "markdown",
   "metadata": {},
   "source": [
    "<div style=\"border-left: 3px solid #000; padding: 1px; padding-left: 10px; background: #F0FAFF; \">\n",
    "\n",
    "<p>Now that we have created the nodes and added them to the network, the next step is to save the nodes' information to a .csv file </div>"
   ]
  },
  {
   "cell_type": "code",
   "execution_count": null,
   "metadata": {
    "collapsed": true
   },
   "outputs": [],
   "source": [
    "#Provide filename that will contain information about the types of nodes:\n",
    "node_models_file = directory_name + 'node_types.csv' #filename to save to\n",
    "\n",
    "#Save node information. The columns to be saved in this file are set by the user. Note that node_type_id is needed here\n",
    "net.save_types(filename=node_models_file,\n",
    "                   columns=['node_type_id', 'pop_name', 'params_file'])"
   ]
  },
  {
   "cell_type": "code",
   "execution_count": null,
   "metadata": {
    "collapsed": true
   },
   "outputs": [],
   "source": [
    "# Let's display what is contained in the node_types file.\n",
    "node_types_DF = pd.DataFrame.from_csv(node_models_file, sep = ' ')\n",
    "node_types_DF"
   ]
  },
  {
   "cell_type": "markdown",
   "metadata": {},
   "source": [
    "<div style=\"border-left: 3px solid #000; padding: 1px; padding-left: 10px; background: #F0FAFF; \">\n",
    "\n",
    "<h2> 2) Building the Ext input node (as part of a separate 'Ext_input network')</h2>\n",
    "<p>Along the same lines as for the E-I network, we will now create an external input network with a single node</div>"
   ]
  },
  {
   "cell_type": "markdown",
   "metadata": {},
   "source": [
    "<img src=\"../../Modeling/popnet_notebook/schematics_png/ei_ext_pop.png\" alt = Drawing style = \"width: 500px;\"> "
   ]
  },
  {
   "cell_type": "code",
   "execution_count": null,
   "metadata": {
    "collapsed": true
   },
   "outputs": [],
   "source": [
    "#Create input network object\n",
    "Ext_input = NxNetwork(\"Ext_input\")\n",
    "\n",
    "#Add 'Ext' node to Ext_input \n",
    "Ext_input.add_nodes(node_type_id ='filter_001', ei='e', pop_name='input_filter', level_of_detail='filter')\n",
    "\n",
    "#Create a separate directory for external inputs and provide filename to save to:\n",
    "input_directory_name = 'network/source_input/'\n",
    "\n",
    "if not os.path.exists(input_directory_name):\n",
    "    os.makedirs(input_directory_name)\n",
    "\n",
    "input_models_file = input_directory_name + 'input_node_types.csv'\n",
    "\n",
    "#Save node information to file. \n",
    "Ext_input.save_types(filename=input_models_file, columns=['node_type_id','level_of_detail','ei', 'pop_name'])"
   ]
  },
  {
   "cell_type": "markdown",
   "metadata": {},
   "source": [
    "<div style=\"background: #DFF0D8; border-radius: 3px; padding: 10px;\">\n",
    "\n",
    "<p> The steps used above are the same as those used for creating the E and I nodes.\n",
    "<p>The only difference is that we have introduced two additional parameters 'ei' and 'level_of_detail in creating this node. \n",
    "\n",
    "<p>Setting ei = 'e' specifies that the input is excitatory. \n",
    "<p>Setting level_of_detail = 'filter' \n",
    "specifies that the external input arises from filter level models. \n",
    "<p>This will not be important right now, but will become clear when we work through the biophysical example. </div>"
   ]
  },
  {
   "cell_type": "markdown",
   "metadata": {},
   "source": [
    "<div style=\"background: #DFF0D8; border-radius: 3px; padding: 10px;\">\n",
    "\n",
    "<h3> Exercise 1.2 : </h3>\n",
    "<p>Display what is contained in the input_node_types file that you just saved </div>"
   ]
  },
  {
   "cell_type": "code",
   "execution_count": null,
   "metadata": {
    "collapsed": true
   },
   "outputs": [],
   "source": [
    "input_node_types_DF = pd.DataFrame.from_csv(input_models_file, sep = ' ')\n",
    "input_node_types_DF"
   ]
  },
  {
   "cell_type": "markdown",
   "metadata": {},
   "source": [
    "<div style=\"border-left: 3px solid #000; padding: 1px; padding-left: 10px; background: #F0FAFF; \">\n",
    "\n",
    "<h2> 3) Creating the edge from Ext to E </h2>\n",
    "<p>Now we will create the edge connecting Ext population to E population </div>"
   ]
  },
  {
   "cell_type": "markdown",
   "metadata": {},
   "source": [
    "<img src=\"../../Modeling/popnet_notebook/schematics_png/ei_ext_pop_conn1.png\" alt = Drawing style = \"width: 500px;\"> "
   ]
  },
  {
   "cell_type": "code",
   "execution_count": null,
   "metadata": {
    "collapsed": true
   },
   "outputs": [],
   "source": [
    "Ext_input.connect(source = Ext_input.nodes(pop_name = 'input_filter'),\n",
    "            target = net.nodes(pop_name = 'excitatory'),\n",
    "            edge_params={'edge_type_id':0,\n",
    "                         'weight': 0.0025, \n",
    "                         'delay': 0.002, \n",
    "                         'nsyns': 10,\n",
    "                         'params_file': 'InpToExc.json'} \n",
    "                         )"
   ]
  },
  {
   "cell_type": "markdown",
   "metadata": {},
   "source": [
    "<div style=\"border-left: 3px solid #000; padding: 1px; padding-left: 10px; background: #F0FAFF; \">\n",
    "\n",
    "<p> Let us unpack this a bit. To establish a connection, we provide the source (node named 'ext_excitatory' in Ext_input) and the target (node named 'excitatory' in net). Note that the pop_names for source and target should match the ones we specified when creating the nodes.\n",
    "\n",
    "<p>We also provide the parameters for the edge contained in edge_params. For DiPDE/popnet, each edge is specified by the following: \n",
    "<p>1) 'edge_type_id': label assigned to this edge; as long as this is unchanged, you can change any edge parameters without creating a new edge. \n",
    "<p>2) 'weight' : synaptic weight in volts (w in the cheat-sheet) \n",
    "<p>3) 'delay' : synaptic delay in seconds \n",
    "<p>4) 'nsyns' : number of synapses from source onto target. \n",
    "<p>5) 'params_file': optional filename to save parameters to. </div>"
   ]
  },
  {
   "cell_type": "markdown",
   "metadata": {},
   "source": [
    "<div style=\"border-left: 3px solid #000; padding: 1px; padding-left: 10px; background: #F0FAFF; \">\n",
    "\n",
    "<h2> Build network... </h2>\n",
    "<p> This next line connects the external and the E node with the edge we just created</div>"
   ]
  },
  {
   "cell_type": "code",
   "execution_count": null,
   "metadata": {
    "collapsed": true
   },
   "outputs": [],
   "source": [
    "Ext_input.build()"
   ]
  },
  {
   "cell_type": "markdown",
   "metadata": {},
   "source": [
    "<div style=\"border-left: 3px solid #000; padding: 1px; padding-left: 10px; background: #F0FAFF; \">\n",
    "\n",
    "<h2> Save connection to csv file </h2> </div>"
   ]
  },
  {
   "cell_type": "code",
   "execution_count": null,
   "metadata": {
    "collapsed": true
   },
   "outputs": [],
   "source": [
    "#Specify filename to save to\n",
    "input_edge_types_file   = input_directory_name + 'input_edge_types.csv'\n",
    "\n",
    "#Save edge parameters\n",
    "Ext_input.save_edge_types(filename=input_edge_types_file, opt_columns=['weight', 'delay', 'nsyns', 'params_file'])\n",
    "\n",
    "#Display what is contained in the input_edge_types file that you just saved\n",
    "input_edge_types_DF = pd.DataFrame.from_csv(input_edge_types_file, sep = ' ')\n",
    "input_edge_types_DF"
   ]
  },
  {
   "cell_type": "markdown",
   "metadata": {},
   "source": [
    "<div style=\"border-left: 3px solid #000; padding: 1px; padding-left: 10px; background: #F0FAFF; \">\n",
    "\n",
    "<h2> 4) Build the edge from E to I and then build net </h2>\n",
    "<p>Now let's create the edge connecting E population to I population. Note now that both populations are nodes in net. Remember to save edge after specifying filename </div>"
   ]
  },
  {
   "cell_type": "markdown",
   "metadata": {},
   "source": [
    "<img src=\"../../Modeling/popnet_notebook/schematics_png/ei_ext_pop_conn1and2.png\" alt = Drawing style = \"width: 500px;\"> "
   ]
  },
  {
   "cell_type": "code",
   "execution_count": null,
   "metadata": {
    "collapsed": true
   },
   "outputs": [],
   "source": [
    "#connect E to I in net\n",
    "net.connect(source = net.nodes(pop_name = 'excitatory'),\n",
    "            target = net.nodes(pop_name = 'inhibitory'),\n",
    "            edge_params={'edge_type_id':1,\n",
    "                         'weight': 0.005, \n",
    "                         'delay': 0.002, \n",
    "                         'nsyns': 20,\n",
    "                         'params_file': 'ExcToInh.json'} \n",
    "                         )\n",
    "#build net\n",
    "net.build()\n",
    "\n",
    "#Specify filename to save to\n",
    "edge_types_file   = directory_name + 'edge_types.csv'\n",
    "\n",
    "#Save edge parameters\n",
    "net.save_edge_types(filename=edge_types_file, opt_columns=['weight', 'delay', 'nsyns', 'params_file'])\n",
    "\n",
    "#Display what is contained in the edge_types file that you just saved\n",
    "edge_types_DF = pd.DataFrame.from_csv(edge_types_file, sep = ' ')\n",
    "edge_types_DF"
   ]
  },
  {
   "cell_type": "markdown",
   "metadata": {},
   "source": [
    "<div style=\"border-left: 3px solid #000; padding: 1px; padding-left: 10px; background: #F0FAFF; \">\n",
    "\n",
    "<h2> 5) Run simulation </h2></div>"
   ]
  },
  {
   "cell_type": "markdown",
   "metadata": {},
   "source": [
    "<div style=\"border-left: 3px solid #000; padding: 1px; padding-left: 10px; background: #F0FAFF; \">\n",
    "\n",
    "<h2> Config file </h2>\n",
    "<p>At this point, we have created and saved a bunch of files (nodes, edges etc.). All of this needs to be integrated together, which is what is done in a config file. A default config file ('config.json') has already been created for us that contains:\n",
    "<p>1) runtime settings for the simulation in 'run'. We will see below how to change the default settings.\n",
    "<p>2) filenames for the different nodes and edges (we used these names keeping the directory structure specified here)\n",
    "<p>3) filenames for where the output should be stored.\n",
    "<p>Feel free to also look at the config file directly as it will look better than the print function below.</div>"
   ]
  },
  {
   "cell_type": "code",
   "execution_count": null,
   "metadata": {
    "collapsed": true
   },
   "outputs": [],
   "source": [
    "#Import the utility config module from modelingsdk. This module integrates and puts together\n",
    "#all the nodes and edges that we have saved while building our network\n",
    "\n",
    "import modelingsdk.simulator.utils.config as config\n",
    "\n",
    "configure = config.from_json('config.json')\n",
    "pprint.pprint(configure)"
   ]
  },
  {
   "cell_type": "code",
   "execution_count": null,
   "metadata": {
    "collapsed": true
   },
   "outputs": [],
   "source": [
    "#Import the Graph module from modelingsdk. This module creates a full-fledged graph, in\n",
    "#accordance with the rules of the underlying DiPDE/popnet simulator, using\n",
    "#all the nodes and edges that we have instantiated as part of our network. \n",
    "\n",
    "from modelingsdk.simulator.popnet.graph import Graph\n",
    "\n",
    "#Create a graph structure using the nodes and edges specified in the config file.\n",
    "graph = Graph(configure)\n",
    "\n",
    "#The default value of the input firing rate needs to be set manually. We will set it to 10 Hz\n",
    "graph.get_population('input_filter',network='filter').firing_rate = 10.0"
   ]
  },
  {
   "cell_type": "markdown",
   "metadata": {},
   "source": [
    "<div style=\"border-left: 3px solid #000; padding: 1px; padding-left: 10px; background: #F0FAFF; \">\n",
    "\n",
    "<h2> Run the simulation </h2></div>"
   ]
  },
  {
   "cell_type": "code",
   "execution_count": null,
   "metadata": {
    "collapsed": true
   },
   "outputs": [],
   "source": [
    "#Import the Network module from the popnet simulator in modelingsdk. This module creates a\n",
    "#network that is in accordance with the underlying DiPDE simulator. \n",
    "\n",
    "from modelingsdk.simulator.popnet.network import Network\n",
    "\n",
    "full_net = Network(configure,graph)\n",
    "full_net.build()\n",
    "full_net.run()\n",
    "\n",
    "#print ff_net.connections"
   ]
  },
  {
   "cell_type": "markdown",
   "metadata": {},
   "source": [
    "<div style=\"border-left: 3px solid #000; padding: 1px; padding-left: 10px; background: #F0FAFF; \">\n",
    "\n",
    "<h2> Analyze firing rate outputs of the E and I populations </h2></div>"
   ]
  },
  {
   "cell_type": "code",
   "execution_count": null,
   "metadata": {
    "collapsed": true
   },
   "outputs": [],
   "source": [
    "from modelingsdk.analyzer.visualization.spikes import plot_rates_popnet\n",
    "\n",
    "cells_file = configure['internal']['node_types']\n",
    "rates_file = configure['output']['rates_file']\n",
    "plot_rates_popnet(cells_file,rates_file,model_keys='pop_name')"
   ]
  },
  {
   "cell_type": "markdown",
   "metadata": {},
   "source": [
    "<div style=\"border-left: 3px solid #000; padding: 1px; padding-left: 10px; background: #F0FAFF; \">\n",
    "\n",
    "<h2> Changing default parameters in the config </h2>\n",
    "\n",
    "<p> Let's see some simple examples of changing default parameters in the config file.</div>"
   ]
  },
  {
   "cell_type": "code",
   "execution_count": null,
   "metadata": {
    "collapsed": true
   },
   "outputs": [],
   "source": [
    "#Change duration of simulation from 3 seconds to 0.5 seconds\n",
    "configure['run']['duration'] = 0.5"
   ]
  },
  {
   "cell_type": "markdown",
   "metadata": {},
   "source": [
    "<div style=\"border-left: 3px solid #000; padding: 1px; padding-left: 10px; background: #F0FAFF; \">\n",
    "\n",
    "<p> Change firing rate and membrane time constant of input excitatory population (Ext) after checking the default value </div> "
   ]
  },
  {
   "cell_type": "code",
   "execution_count": null,
   "metadata": {
    "collapsed": true
   },
   "outputs": [],
   "source": [
    "#Get the default value of the input firing rate\n",
    "input_pop = graph.get_population('input_filter',network='filter')\n",
    "print(input_pop.firing_rate)\n",
    "\n",
    "#Change input firing rate to 25 Hz\n",
    "input_pop.firing_rate = 25.0  #(Firing rate in Hz)\n",
    "print(input_pop.firing_rate)\n",
    "\n",
    "#Get the default value of the membrane time constant of the E population\n",
    "exc_pop = graph.get_population('excitatory')\n",
    "print(exc_pop.tau_m)\n",
    "\n",
    "#Change it to 20 ms\n",
    "exc_pop.tau_m = 0.02\n",
    "print(exc_pop.tau_m)"
   ]
  },
  {
   "cell_type": "code",
   "execution_count": null,
   "metadata": {
    "collapsed": true
   },
   "outputs": [],
   "source": [
    "#Build network and run simulation using new config parameters \n",
    "\n",
    "full_net_2 = Network(configure,graph)\n",
    "full_net_2.build()\n",
    "full_net_2.run()"
   ]
  },
  {
   "cell_type": "code",
   "execution_count": null,
   "metadata": {
    "collapsed": true
   },
   "outputs": [],
   "source": [
    "#Analyze outputs for new config\n",
    "\n",
    "cells_file = configure['internal']['node_types']\n",
    "rates_file = configure['output']['rates_file']\n",
    "plot_rates_popnet(cells_file,rates_file,model_keys='pop_name')"
   ]
  },
  {
   "cell_type": "markdown",
   "metadata": {},
   "source": [
    "<div style=\"background: #DFF0D8; border-radius: 3px; padding: 10px;\">\n",
    "\n",
    "<h3> Exercise 1.3 : </h3>\n",
    "\n",
    "<p>1) Add an I to E connection, \n",
    "<p>2) Save the edge,\n",
    "<p>3) Build the network,\n",
    "<p>4) Re-run the simulation to see how the outputs change.\n",
    "\n",
    "<h3>NOTE: Make sure that the weight of the inhibitory connection is negative </h3> </div>"
   ]
  },
  {
   "cell_type": "code",
   "execution_count": null,
   "metadata": {
    "collapsed": true
   },
   "outputs": [],
   "source": [
    "#connect I to E in net. You can specify edge params to be (id = 2, weight = -2 mV, delay = 5 ms\n",
    "#and nsysns = 20)\n",
    "net.connect(source = net.nodes(pop_name = 'inhibitory'),\n",
    "            target = net.nodes(pop_name = 'excitatory'),\n",
    "            edge_params={'edge_type_id':2,\n",
    "                         'weight': -0.002, \n",
    "                         'delay': 0.005, \n",
    "                         'nsyns': 20,\n",
    "                         'params_file': 'InhToExc.json'} \n",
    "                         )\n",
    "#Build net\n",
    "net.build()\n",
    "\n",
    "#Specify filename to save to\n",
    "edge_types_file   = directory_name + 'edge_types.csv'\n",
    "\n",
    "#Save edge parameters\n",
    "net.save_edge_types(filename=edge_types_file, opt_columns=['weight', 'delay', 'nsyns', 'params_file'])\n",
    "\n",
    "#Display what is contained in the edge_types file that you just saved\n",
    "edge_types_DF = pd.DataFrame.from_csv(edge_types_file, sep = ' ')\n",
    "edge_types_DF"
   ]
  },
  {
   "cell_type": "code",
   "execution_count": null,
   "metadata": {
    "collapsed": true
   },
   "outputs": [],
   "source": [
    "#Read in the config file and set run duration to 0.5 s\n",
    "configure = config.from_json('config.json')\n",
    "configure['run']['duration'] = 0.5\n",
    "\n",
    "#Create graph\n",
    "graph = Graph(configure)\n",
    "\n",
    "#Set input firing rate to 30 Hz\n",
    "graph.get_population('input_filter',network='filter').firing_rate = 30.0\n",
    "\n",
    "#Set tau_m to 0.02 s\n",
    "graph.get_population('excitatory').tau_m = 0.02\n",
    "\n",
    "#Create network\n",
    "ei_net = Network(configure,graph)\n",
    "\n",
    "#Build network\n",
    "ei_net.build()\n",
    "\n",
    "#Run simulation\n",
    "ei_net.run()\n",
    "\n",
    "#Analyze outputs\n",
    "rates_file = configure['output']['rates_file']\n",
    "plot_rates_popnet(cells_file,rates_file,model_keys='pop_name')"
   ]
  },
  {
   "cell_type": "markdown",
   "metadata": {},
   "source": [
    "<div style=\"background: #DFF0D8; border-radius: 3px; padding: 10px; \\\">\n",
    "<h2>Homework exercises:</h2>\n",
    "<p>1. Explore the directory structure created from this notebook that represents the network  \n",
    "<p>2. Explore the directory components that was created for you and contains more cell types  \n",
    "<p>3. Create a network with one E node and one (two) external population(s) providing excitatory (and/or inhibitory) inputs. Recurrently connect the E population to itself and simulate the network. Change the delay parameter for one of the edges and see if you are able to get oscillatory behavior.\n",
    "<p>4. So far, we have been working with a single synaptic weight. Try exploring network topologies with different distributions of synaptic weights (for example, Gaussian with a given mean and variance) and and compare changes in output firing rates\n",
    "</div>"
   ]
  },
  {
   "cell_type": "markdown",
   "metadata": {},
   "source": [
    "<div style=\"border-left: 3px solid #000; padding: 1px; padding-left: 10px; background: #F0FAFF; \\\">\n",
    "<h2>Project Ideas:</h2>\n",
    "<p>1. Compare visual responses between the Layer 4 model and Brain Observatory.  \n",
    "\n",
    "<p>2. Find an optimal kernel for converting spikes from the Layer 4 model to Ca2+ signal, to maximize the agreeement with the Brain Observatory data.  \n",
    "\n",
    "<p>3. Build a small-scale point-neuron network model receiving visual inputs; run simulations to explore visual responses.  \n",
    "\n",
    "<p>4. Build a small-scale point-neuron network; explore the effect of different connectivity rules on the spatio-temporal dynamics.  \n",
    "\n",
    "<p>5. Build a population-statistics DiPDE model analogous to the biophysical Layer 4 model.  Investigate whether similar dynamics can be obtained.  \n",
    "\n",
    "<p>6. Build a population-statistics DiPDE model of all cortical layers.  Explore cortical dynamics in simulations.  \n",
    "</div>"
   ]
  }
 ],
 "metadata": {
  "anaconda-cloud": {},
  "kernelspec": {
   "display_name": "Python 2",
   "language": "python",
   "name": "python2"
  },
  "language_info": {
   "codemirror_mode": {
    "name": "ipython",
    "version": 2
   },
   "file_extension": ".py",
   "mimetype": "text/x-python",
   "name": "python",
   "nbconvert_exporter": "python",
   "pygments_lexer": "ipython2",
   "version": "2.7.13"
  }
 },
 "nbformat": 4,
 "nbformat_minor": 2
}
