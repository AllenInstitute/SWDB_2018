{
 "cells": [
  {
   "cell_type": "markdown",
   "metadata": {},
   "source": [
    "<img src=\"../../../../resources/cropped-SummerWorkshop_Header.png\">  \n",
    "\n",
    "<h1 align=\"center\">Introduction to the Brain Modeling ToolKit (BMTK) - BioNet</h1> \n",
    "<h3 align=\"center\">August, 2018</h3> "
   ]
  },
  {
   "cell_type": "code",
   "execution_count": 1,
   "metadata": {
    "collapsed": true
   },
   "outputs": [],
   "source": [
    "import os\n",
    "import sys\n",
    "import pandas as pd\n",
    "import numpy as np\n",
    "import random\n",
    "\n",
    "from bmtk.builder.networks import NetworkBuilder\n",
    "\n",
    "from matplotlib import pyplot as plt\n",
    "import matplotlib.image as mpimg\n",
    "%matplotlib inline"
   ]
  },
  {
   "cell_type": "markdown",
   "metadata": {},
   "source": [
    "<div style=\"border-left: 3px solid #000; padding: 1px; padding-left: 10px; background: #F0FAFF; \\\">\n",
    "<h1>Modeling biophysically detailed cells with NEURON</h1>\n",
    "In this tutorial, we will create a network of 8 cells. Four of these cells will be biophysically detailed and four will be Leaky-Intergrate-and-Fire (LIF) models. We will provide an external spiking input to this network and visualizat at the 8 neuron's resultant activity (spiking patterns and membrane potentials).\n",
    "</div>"
   ]
  },
  {
   "cell_type": "markdown",
   "metadata": {},
   "source": [
    "<img src=\"../../biophysical_notebook/schematics_png/Full_figure.png\" alt=Drawing style=\"width: 500px;\">"
   ]
  },
  {
   "cell_type": "markdown",
   "metadata": {},
   "source": [
    "<div style=\"border-left: 3px solid #000; padding: 1px; padding-left: 10px; background: #F0FAFF; \\\">\n",
    "<h1>Resources:</h1>\n",
    "<p>1) Due to time constraints, we will not be able to discuss all components of the simulator software and so we refer you to the user guide (http://alleninstitute.github.io/bmtk/). \n",
    "<p>2) The models of the biophysically detailed cells that we will use are part of the Allen Institute Cell Types Database. For biophysically detailed models, we require elecrophysiological and morphological fits. These models are publically available here (http://celltypes.brain-map.org/)\n",
    "<p>3) We will show a full simulation first and then start from scratch to recreate it.\n",
    "</div>"
   ]
  },
  {
   "cell_type": "markdown",
   "metadata": {},
   "source": [
    "<div style=\"border-left: 3px solid #000; padding: 1px; padding-left: 10px; background: #F0FAFF; \\\">\n",
    "<h1>Build recurrent network</h1>\n",
    "For building the 8 node network, we will save the nodes (neurons) and edges (connections) separately.  \n",
    "</div>"
   ]
  },
  {
   "cell_type": "code",
   "execution_count": 2,
   "metadata": {
    "collapsed": true
   },
   "outputs": [],
   "source": [
    "# Output file names\n",
    "directory_name = 'network/recurrent_network/'"
   ]
  },
  {
   "cell_type": "markdown",
   "metadata": {},
   "source": [
    "<div style=\"border-left: 3px solid #000; padding: 1px; padding-left: 10px; background: #F0FAFF; \\\">\n",
    "We will explore the directory structure of how files are being saved later. Just know for now that we will be creating files and saving them in a directory called \"network\".\n",
    "</div>"
   ]
  },
  {
   "cell_type": "markdown",
   "metadata": {},
   "source": [
    "<div style=\"border-left: 3px solid #000; padding: 1px; padding-left: 10px; background: #F0FAFF; \\\">\n",
    "<h2>Building Nodes</h2>\n",
    "In this section we will be creating the nodes only. They are not receiving input nor connected to each other yet. The schematic below illustrates where we will be.\n",
    "</div>"
   ]
  },
  {
   "cell_type": "markdown",
   "metadata": {},
   "source": [
    "<img src=\"../../biophysical_notebook/schematics_png/Neurons_created.png\" alt=Drawing style=\"width: 350px;\">"
   ]
  },
  {
   "cell_type": "markdown",
   "metadata": {},
   "source": [
    "<div style=\"border-left: 3px solid #000; padding: 1px; padding-left: 10px; background: #F0FAFF; \\\">\n",
    "The nodes are described by two files, one containing all information that are unique to nodes and one containing all information that are unique to models. We differentiate nodes and models because there can be a handful of models but thousands of nodes. With this, everything that is unique for nodes, such as position, goes in the nodes file. Parameters that are repeated (such as morphology, electrohphysiology parameters) can be stored and referenced in the model files (which we call node_types).\n",
    "</div>"
   ]
  },
  {
   "cell_type": "code",
   "execution_count": 3,
   "metadata": {
    "collapsed": true
   },
   "outputs": [],
   "source": [
    "### Number of cell models desired\n",
    "N_Scnn1a = 2\n",
    "N_PV1 = 2\n",
    "N_LIF_exc = 2\n",
    "N_LIF_inh = 2"
   ]
  },
  {
   "cell_type": "code",
   "execution_count": 4,
   "metadata": {
    "collapsed": true
   },
   "outputs": [],
   "source": [
    "### Define all the cell models in a dictionary (note dictionaries within a dictionary)\n",
    "biophysical_models = {\n",
    "    \n",
    "    # Cell type. Here we are using a pyrmaidal models from an Scnn1a Cre-line. Other\n",
    "    # models exist in the components directory if you would like to explore them.\n",
    "    'Scnn1a': { \n",
    "        # Number of nodes (neurons) we would like to create\n",
    "        'N': N_Scnn1a,               \n",
    "        # Key to indicate if the neuron is excitatory or inhibitory (optional)\n",
    "        'ei': 'e', \n",
    "        # Key to store the population name of the model. One can have many\n",
    "        # models from the same population (here cre-line)\n",
    "        'pop_name': 'Scnn1a', \n",
    "        # Attribute to indicate this model is biophysical (instead of LIF for example)\n",
    "        'model_type': 'biophysical',\n",
    "        # Attribute to indicate that we will be using a NEURON template file created specially\n",
    "        # for processing Cell Type Databases (ctdb) neuron models. For different type of models\n",
    "        # and simulators we will want to change this value (or use our own templates)\n",
    "        'model_template': 'ctdb:Biophys1.hoc',\n",
    "        # For special post-processing imperatives and functions can be set in model_processing.\n",
    "        # In this case we are telling the simulator to specially cut the axon as required for \n",
    "        # Cell Types models (built in function). We can also pass in custom functions\n",
    "        'model_processing': 'aibs_perisomatic',       \n",
    "        # The morpholgy file for this model (NEURON template). This is stored in the components\n",
    "        # directory if you would like to explore it more (plus other models). \n",
    "        'morphology_file': 'Scnn1a-Tg3-Cre_Ai14_IVSCC_-177300.01.02.01_473845048_m.swc',\n",
    "        # The dynamics parameters file for this model. Again, this is stored\n",
    "        # in the components directory with other models if you wish to check them out.\n",
    "        'dynamics_params': '472363762_fit.json',\n",
    "        # Fixed for every model but needs to be defined. This is the angle of the \n",
    "        # morphology reconstruction relative to the pia.\n",
    "        'rotation_angle_zaxis': -3.646878266\n",
    "    },\n",
    "    \n",
    "    # Below are the same attributes but with different values for the PV cell we will be\n",
    "    # modeling in our network.\n",
    "    'PV1': {\n",
    "        'N': N_PV1,\n",
    "        'ei': 'i', \n",
    "        'pop_name': 'PV1',\n",
    "        'model_type': 'biophysical',\n",
    "        'model_template': 'ctdb:Biophys1.hoc',\n",
    "        'model_processing': 'aibs_perisomatic',\n",
    "        'dynamics_params': '472912177_fit.json',\n",
    "        'morphology_file': 'Pvalb-IRES-Cre_Ai14_IVSCC_-176847.04.02.01_470522102_m.swc',\n",
    "        'rotation_angle_zaxis': -2.539551891\n",
    "    }\n",
    "}"
   ]
  },
  {
   "cell_type": "markdown",
   "metadata": {},
   "source": [
    "<div style=\"border-left: 3px solid #000; padding: 1px; padding-left: 10px; background: #F0FAFF; \\\">\n",
    "<h1>Example function for illustrative purposes</h1>\n",
    "The below is simply a function that will return random coorindates for nodes. The purpose of this functions is to show you how to use the API to create your own custom functions. It will be used in the subsequent cell.\n",
    "</div>"
   ]
  },
  {
   "cell_type": "code",
   "execution_count": 5,
   "metadata": {
    "collapsed": true
   },
   "outputs": [],
   "source": [
    "def generate_random_positions(N):\n",
    "    '''\n",
    "    Generate N random positions.\n",
    "    N: number of positions to generate\n",
    "    '''\n",
    "\n",
    "    x = np.random.random(N)     # x-axis location\n",
    "    y = np.random.random(N)     # y-axis location\n",
    "    z = np.random.random(N)     # z-axis location\n",
    "\n",
    "    positions = np.column_stack((x, y, z))\n",
    "\n",
    "    return positions"
   ]
  },
  {
   "cell_type": "code",
   "execution_count": 6,
   "metadata": {
    "collapsed": true
   },
   "outputs": [],
   "source": [
    "### Create nodes set for each biophysical population\n",
    "\n",
    "# A network object is created. This will store all the \n",
    "# information about the nodes and connections between nodes. The object has\n",
    "# multiple methods (functions) that we will be using below to build the network\n",
    "# nodes first and connections second.\n",
    "net = NetworkBuilder('Cortical')\n",
    "\n",
    "# We will loop through every model and create nodes. Note the main function\n",
    "# below is net.add_nodes()\n",
    "for model in biophysical_models:\n",
    "    # Read the first biophysical model parameters dictionary\n",
    "    params = biophysical_models[model]\n",
    "    \n",
    "    n_cells = params.pop('N')\n",
    "    # Calculate positions for every cell (x, y, z). The called function was created\n",
    "    # above. It doesn't do anything special other than create positions for nodes\n",
    "    # from a random number generator. But one can write more sophisticated algorithms\n",
    "    # for positions if they choose.\n",
    "    positions = generate_random_positions(n_cells)\n",
    "\n",
    "    # Adds node populations giving it all the input paramters one would like.\n",
    "    net.add_nodes(N=n_cells, # Specify the numer of cells belonging to this set of nodes \n",
    "                  # for the positions and y rotation we are passing in arrays of size N, which mean\n",
    "                  # such properties are unique for every cell\n",
    "                  x=positions[:,0], y=positions[:, 1], z=positions[:, 2],\n",
    "                  rotation_angle_yaxis=np.random.uniform(0.0, 2*np.pi, n_cells),\n",
    "                  # The other parameters are shared by all cells of this set in the dictionary\n",
    "                  **params) # python shortcut for unrolling a dictionary"
   ]
  },
  {
   "cell_type": "markdown",
   "metadata": {},
   "source": [
    "<div style=\"background: #DFF0D8; border-radius: 3px; padding: 10px; \\\">\n",
    "<h3>Exercise 1: </h3>\n",
    "<p>Create the LIF cells  \n",
    "<p>Add a population of excitatory and inhibitory LIF neurons. \n",
    "<h4>Exercise 1.1: </h4>\n",
    "<p>First create a dictionary as done in the biophysical example\n",
    "<p>Some names are unique based on the components files that have been provided to you and so please use:  \n",
    "<p>**'model_type'**: 'point_process'. \n",
    "<p> Instead of being a biophysicall detailed cells, LIF cells are point processes. We can also use model types of point soma (has biophysical mechanics but no morphology) or virtual (for providing spike trains) \n",
    "\n",
    "<p>**'model_template'**: 'nrn:IntFire1',  \n",
    "<p>**'dynamics_params'**: 'IntFire1_exc_1.json' and 'IntFire1_inh_1.json'\n",
    "<p> Here we tell the simulation to use NEURON built-in IntFire1 type models:\n",
    "\n",
    "  \n",
    "<p>Note that you do not need to add a morphology file or rotation angle for the z-axis here. Also since using a built in NEURON model for LIFs, no model_processing is required.\n",
    "</div>"
   ]
  },
  {
   "cell_type": "code",
   "execution_count": 7,
   "metadata": {
    "collapsed": true
   },
   "outputs": [],
   "source": [
    "### Define all the cell models in a dictionary.\n",
    "LIF_models = {\n",
    "    'LIF_exc': {\n",
    "        'N': N_LIF_exc, \n",
    "        'ei': 'e', \n",
    "        'pop_name': 'LIF_exc',\n",
    "        'model_type': 'point_process',\n",
    "        'model_template': 'nrn:IntFire1',\n",
    "        'dynamics_params': 'IntFire1_exc_1.json'\n",
    "    },\n",
    "    'LIF_inh': {\n",
    "        'N': N_LIF_inh,\n",
    "        'ei': 'i', \n",
    "        'pop_name': 'LIF_inh',\n",
    "        'model_type': 'point_process',\n",
    "        'model_template': 'nrn:IntFire1',\n",
    "        'dynamics_params': 'IntFire1_inh_1.json'\n",
    "    }\n",
    "}"
   ]
  },
  {
   "cell_type": "markdown",
   "metadata": {},
   "source": [
    "<div style=\"background: #DFF0D8; border-radius: 3px; padding: 10px; \\\">\n",
    "<h3>Exercise 2:</h3>\n",
    "Loop through the dictionary as done before to add the cells.\n",
    "<h5>Note: In practice we would only use one for-loop and dictionary for all node-types.\n",
    "</div>"
   ]
  },
  {
   "cell_type": "code",
   "execution_count": 8,
   "metadata": {
    "collapsed": true
   },
   "outputs": [],
   "source": [
    "### Create a node set for each point population\n",
    "for model in LIF_models:\n",
    "    params = LIF_models[model].copy()\n",
    "\n",
    "    # Number of cells for this model type\n",
    "    n_cells = params.pop('N')\n",
    "\n",
    "    # Precacluate positions, rotation angles for each N neurons in the population\n",
    "    positions = generate_random_positions(n_cells)\n",
    "\n",
    "    # Adds node populations\n",
    "    net.add_nodes(N=n_cells ,\n",
    "                  x=positions[:,0], y=positions[:, 1], z=positions[:, 2],\n",
    "                  rotation_angle_yaxis=np.random.uniform(0.0, 0.0, n_cells),\n",
    "                  **params)  # python shortcut for unrolling a dictionary"
   ]
  },
  {
   "cell_type": "markdown",
   "metadata": {},
   "source": [
    "<div style=\"border-left: 3px solid #000; padding: 1px; padding-left: 10px; background: #F0FAFF; \\\">\n",
    "<h2>Saving nodes in hdf5 file</h2>\n",
    "To save the nodes, it is important to highlight the difference between nodes and models.\n",
    "<p> Nodes refers to the specific neuron instantiations that are created and will have specific properties such as position coordinates. Each neuron still corresponds to a specific model though.  \n",
    "<p> Models describe the properties of sets of neurons that are common. In our case, these include the electrophysiological parameters and the morphology. This is because, as mentioned above, we use the same model to create multiple cells of those models.  \n",
    "<p>As such, in the save functions below, we save the neurons (cells) and the models (types). This creates two files which we will examine. Note that both have node_type_id (created automatically) as a common column which will tell the simulator that the node selected corresponds to a specific node type which it can reference from the node_types table.\n",
    "</div>"
   ]
  },
  {
   "cell_type": "code",
   "execution_count": 9,
   "metadata": {
    "collapsed": true
   },
   "outputs": [],
   "source": [
    "net.save_nodes(nodes_file_name='nodes.h5', node_types_file_name='node_types.csv', output_dir=directory_name)"
   ]
  },
  {
   "cell_type": "code",
   "execution_count": 10,
   "metadata": {
    "collapsed": false
   },
   "outputs": [
    {
     "data": {
      "text/html": [
       "<div>\n",
       "<table border=\"1\" class=\"dataframe\">\n",
       "  <thead>\n",
       "    <tr style=\"text-align: right;\">\n",
       "      <th></th>\n",
       "      <th>node_id</th>\n",
       "      <th>node_type_id</th>\n",
       "      <th>rotation_angle_yaxis</th>\n",
       "      <th>x</th>\n",
       "      <th>y</th>\n",
       "      <th>z</th>\n",
       "    </tr>\n",
       "  </thead>\n",
       "  <tbody>\n",
       "    <tr>\n",
       "      <th>0</th>\n",
       "      <td>0</td>\n",
       "      <td>100</td>\n",
       "      <td>3.795193</td>\n",
       "      <td>0.664594</td>\n",
       "      <td>0.825460</td>\n",
       "      <td>0.996940</td>\n",
       "    </tr>\n",
       "    <tr>\n",
       "      <th>1</th>\n",
       "      <td>1</td>\n",
       "      <td>100</td>\n",
       "      <td>3.534453</td>\n",
       "      <td>0.163261</td>\n",
       "      <td>0.412855</td>\n",
       "      <td>0.293960</td>\n",
       "    </tr>\n",
       "    <tr>\n",
       "      <th>2</th>\n",
       "      <td>2</td>\n",
       "      <td>101</td>\n",
       "      <td>3.348663</td>\n",
       "      <td>0.420871</td>\n",
       "      <td>0.929749</td>\n",
       "      <td>0.950600</td>\n",
       "    </tr>\n",
       "    <tr>\n",
       "      <th>3</th>\n",
       "      <td>3</td>\n",
       "      <td>101</td>\n",
       "      <td>5.300488</td>\n",
       "      <td>0.184177</td>\n",
       "      <td>0.328714</td>\n",
       "      <td>0.064381</td>\n",
       "    </tr>\n",
       "    <tr>\n",
       "      <th>4</th>\n",
       "      <td>4</td>\n",
       "      <td>102</td>\n",
       "      <td>0.000000</td>\n",
       "      <td>0.108453</td>\n",
       "      <td>0.278991</td>\n",
       "      <td>0.913489</td>\n",
       "    </tr>\n",
       "    <tr>\n",
       "      <th>5</th>\n",
       "      <td>5</td>\n",
       "      <td>102</td>\n",
       "      <td>0.000000</td>\n",
       "      <td>0.936338</td>\n",
       "      <td>0.364001</td>\n",
       "      <td>0.663852</td>\n",
       "    </tr>\n",
       "    <tr>\n",
       "      <th>6</th>\n",
       "      <td>6</td>\n",
       "      <td>103</td>\n",
       "      <td>0.000000</td>\n",
       "      <td>0.859330</td>\n",
       "      <td>0.517820</td>\n",
       "      <td>0.439449</td>\n",
       "    </tr>\n",
       "    <tr>\n",
       "      <th>7</th>\n",
       "      <td>7</td>\n",
       "      <td>103</td>\n",
       "      <td>0.000000</td>\n",
       "      <td>0.542918</td>\n",
       "      <td>0.677330</td>\n",
       "      <td>0.007966</td>\n",
       "    </tr>\n",
       "  </tbody>\n",
       "</table>\n",
       "</div>"
      ],
      "text/plain": [
       "   node_id  node_type_id  rotation_angle_yaxis         x         y         z\n",
       "0        0           100              3.795193  0.664594  0.825460  0.996940\n",
       "1        1           100              3.534453  0.163261  0.412855  0.293960\n",
       "2        2           101              3.348663  0.420871  0.929749  0.950600\n",
       "3        3           101              5.300488  0.184177  0.328714  0.064381\n",
       "4        4           102              0.000000  0.108453  0.278991  0.913489\n",
       "5        5           102              0.000000  0.936338  0.364001  0.663852\n",
       "6        6           103              0.000000  0.859330  0.517820  0.439449\n",
       "7        7           103              0.000000  0.542918  0.677330  0.007966"
      ]
     },
     "execution_count": 10,
     "metadata": {},
     "output_type": "execute_result"
    }
   ],
   "source": [
    "# Show the nodes file\n",
    "from bmtk.analyzer import nodes_table\n",
    "nodes_table('network/recurrent_network/nodes.h5', 'Cortical')"
   ]
  },
  {
   "cell_type": "code",
   "execution_count": 11,
   "metadata": {
    "collapsed": false
   },
   "outputs": [
    {
     "data": {
      "text/html": [
       "<div>\n",
       "<table border=\"1\" class=\"dataframe\">\n",
       "  <thead>\n",
       "    <tr style=\"text-align: right;\">\n",
       "      <th></th>\n",
       "      <th>node_type_id</th>\n",
       "      <th>ei</th>\n",
       "      <th>morphology_file</th>\n",
       "      <th>model_processing</th>\n",
       "      <th>pop_name</th>\n",
       "      <th>model_template</th>\n",
       "      <th>model_type</th>\n",
       "      <th>dynamics_params</th>\n",
       "      <th>rotation_angle_zaxis</th>\n",
       "    </tr>\n",
       "  </thead>\n",
       "  <tbody>\n",
       "    <tr>\n",
       "      <th>0</th>\n",
       "      <td>100</td>\n",
       "      <td>i</td>\n",
       "      <td>Pvalb-IRES-Cre_Ai14_IVSCC_-176847.04.02.01_470...</td>\n",
       "      <td>aibs_perisomatic</td>\n",
       "      <td>PV1</td>\n",
       "      <td>ctdb:Biophys1.hoc</td>\n",
       "      <td>biophysical</td>\n",
       "      <td>472912177_fit.json</td>\n",
       "      <td>-2.539552</td>\n",
       "    </tr>\n",
       "    <tr>\n",
       "      <th>1</th>\n",
       "      <td>101</td>\n",
       "      <td>e</td>\n",
       "      <td>Scnn1a-Tg3-Cre_Ai14_IVSCC_-177300.01.02.01_473...</td>\n",
       "      <td>aibs_perisomatic</td>\n",
       "      <td>Scnn1a</td>\n",
       "      <td>ctdb:Biophys1.hoc</td>\n",
       "      <td>biophysical</td>\n",
       "      <td>472363762_fit.json</td>\n",
       "      <td>-3.646878</td>\n",
       "    </tr>\n",
       "    <tr>\n",
       "      <th>2</th>\n",
       "      <td>102</td>\n",
       "      <td>i</td>\n",
       "      <td>NaN</td>\n",
       "      <td>NaN</td>\n",
       "      <td>LIF_inh</td>\n",
       "      <td>nrn:IntFire1</td>\n",
       "      <td>point_process</td>\n",
       "      <td>IntFire1_inh_1.json</td>\n",
       "      <td>NaN</td>\n",
       "    </tr>\n",
       "    <tr>\n",
       "      <th>3</th>\n",
       "      <td>103</td>\n",
       "      <td>e</td>\n",
       "      <td>NaN</td>\n",
       "      <td>NaN</td>\n",
       "      <td>LIF_exc</td>\n",
       "      <td>nrn:IntFire1</td>\n",
       "      <td>point_process</td>\n",
       "      <td>IntFire1_exc_1.json</td>\n",
       "      <td>NaN</td>\n",
       "    </tr>\n",
       "  </tbody>\n",
       "</table>\n",
       "</div>"
      ],
      "text/plain": [
       "   node_type_id ei                                    morphology_file  \\\n",
       "0           100  i  Pvalb-IRES-Cre_Ai14_IVSCC_-176847.04.02.01_470...   \n",
       "1           101  e  Scnn1a-Tg3-Cre_Ai14_IVSCC_-177300.01.02.01_473...   \n",
       "2           102  i                                                NaN   \n",
       "3           103  e                                                NaN   \n",
       "\n",
       "   model_processing pop_name     model_template     model_type  \\\n",
       "0  aibs_perisomatic      PV1  ctdb:Biophys1.hoc    biophysical   \n",
       "1  aibs_perisomatic   Scnn1a  ctdb:Biophys1.hoc    biophysical   \n",
       "2               NaN  LIF_inh       nrn:IntFire1  point_process   \n",
       "3               NaN  LIF_exc       nrn:IntFire1  point_process   \n",
       "\n",
       "       dynamics_params  rotation_angle_zaxis  \n",
       "0   472912177_fit.json             -2.539552  \n",
       "1   472363762_fit.json             -3.646878  \n",
       "2  IntFire1_inh_1.json                   NaN  \n",
       "3  IntFire1_exc_1.json                   NaN  "
      ]
     },
     "execution_count": 11,
     "metadata": {},
     "output_type": "execute_result"
    }
   ],
   "source": [
    "# Show the node_types file. Note the common column is node_type_id\n",
    "node_types_DF = pd.read_csv('network/recurrent_network/node_types.csv', sep = ' ')\n",
    "node_types_DF"
   ]
  },
  {
   "cell_type": "markdown",
   "metadata": {},
   "source": [
    "<div style=\"border-left: 3px solid #000; padding: 1px; padding-left: 10px; background: #F0FAFF; \\\">\n",
    "<h2>Setting connections (edges)</h2>\n",
    "Now we will create edges between all nodes as in the figure below (note actual connecions will be different).\n",
    "Similar to nodes, the edge files are saved into two files, one that describes unique edges between nodes (e.g. node 315 connects to node 938) and the other that describes the properties of different edges.\n",
    "</div>"
   ]
  },
  {
   "cell_type": "markdown",
   "metadata": {},
   "source": [
    "<img src=\"../../biophysical_notebook/schematics_png/Recurrent_connected.png\" alt=Drawing style=\"width: 500px;\">"
   ]
  },
  {
   "cell_type": "markdown",
   "metadata": {},
   "source": [
    "<div style=\"border-left: 3px solid #000; padding: 1px; padding-left: 10px; background: #F0FAFF; \\\">\n",
    "<h1>Example function for illustrative purposes</h1>\n",
    "The below is simply a function that will determine whether or not two nodes are connected to one another. If they are connected the number of synapses forming the connection is also determined. In this function, d_max is a cut-off that determines if the neurons are close enough to connect or not connect. Below, you will see that we choose a very large d_max such that all neurons are connected to one another. The purpose of this functions is to show you how to use the API to create your own custom functions. It will be used in the subsequent cells.\n",
    "</div>"
   ]
  },
  {
   "cell_type": "code",
   "execution_count": 12,
   "metadata": {
    "collapsed": true
   },
   "outputs": [],
   "source": [
    "def distance_connection_handler(source, target, d_max, nsyn_min, nsyn_max):\n",
    "    '''\n",
    "    Connect cells that are less than d_max apart\n",
    "    with a random number of synapses in the \n",
    "    interval [nsyn_min, nsyn_max)\n",
    "    '''\n",
    "    \n",
    "    sid = source['node_id']    # Get source id\n",
    "    tid = target['node_id']    # Get target id\n",
    "    \n",
    "    # Avoid self-connections.\n",
    "    if (sid == tid):\n",
    "        return None\n",
    "\n",
    "    # first calculate euclidean distance between cells\n",
    "    src_positions = np.array([source['x'], source['y'], source['z']])\n",
    "    trg_positions = np.array([target['x'], target['y'], target['z']])\n",
    "    separation = np.sqrt(np.sum(src_positions - trg_positions)**2 )\n",
    "\n",
    "    # drop the connection if nodes too far apart\n",
    "    if separation >= d_max:\n",
    "        return\n",
    "\n",
    "    # Add the number of synapses for every connection.\n",
    "    tmp_nsyn = random.randint(nsyn_min, nsyn_max)\n",
    "    return tmp_nsyn"
   ]
  },
  {
   "cell_type": "markdown",
   "metadata": {},
   "source": [
    "<div style=\"border-left: 3px solid #000; padding: 1px; padding-left: 10px; background: #F0FAFF; \\\">\n",
    "<h3>Generating I-to-I connections</h3>\n",
    "</div>"
   ]
  },
  {
   "cell_type": "code",
   "execution_count": 13,
   "metadata": {
    "collapsed": true
   },
   "outputs": [],
   "source": [
    "# The cparameters dictionary is the connection parameters dictionary which will be \n",
    "# used between connected nodes. In this API, this is how arguments/variables are given to\n",
    "# the connection function (defined earlier and will be used below). \n",
    "# Here the function that will use these parameters was defined at the start of the notebook\n",
    "# and was called distance_connection_handler().\n",
    "\n",
    "cparameters = {'d_max': 160.0,    # Maximum separation between nodes where connection allowed \n",
    "               'nsyn_min': 3,     # If connection exist, minimum number of synapses\n",
    "               'nsyn_max': 7}     # If connection exist, maximum number of synapses"
   ]
  },
  {
   "cell_type": "code",
   "execution_count": 14,
   "metadata": {
    "collapsed": false
   },
   "outputs": [
    {
     "data": {
      "text/plain": [
       "<bmtk.builder.connection_map.ConnectionMap at 0x11505af10>"
      ]
     },
     "execution_count": 14,
     "metadata": {},
     "output_type": "execute_result"
    }
   ],
   "source": [
    "# Here we will give a connection rule we want to impose on the network. Note that\n",
    "# we only give the rules (with associated functions) and the network object created earlier. The API\n",
    "# will then loop and determine the connections that satify the rules.\n",
    "\n",
    "net.add_edges(\n",
    "    # Connection rule states A: Everytime the source node (pre-synaptic neuron) is inhibitory\n",
    "    source={'ei': 'i'}, \n",
    "    # Connection rule states B: Everytime the target node (post-synamtic neuron) is\n",
    "    # inhibitory and of biophysical detail. One can change this of course to another\n",
    "    # rule that depends on pop_name or node_mode_id only for instance.\n",
    "    target={'ei': 'i', 'model_type': 'biophysical'},\n",
    "    # Function that will determine the rules of connectivity. This was defined before\n",
    "    # and required 5 arguments. However, note that the source node and target\n",
    "    # node will be automatically set as arguments to the function and hence only\n",
    "    # need 3 arguments. \n",
    "    connection_rule=distance_connection_handler,\n",
    "    # The remaining arguments needed by distance_connection_handler that we defined above.\n",
    "    connection_params=cparameters,\n",
    "    # Till now we only determined if node X is connected to node Y.\n",
    "    # The parameters of the connections are defined below (edge_parameters)\n",
    "    # syn_weight defines the strength of the connection. It depends on the \n",
    "    # target cell mechanism. Here, this will be interpreted as the peak\n",
    "    # conductance measure in uS.\n",
    "    syn_weight=0.03, \n",
    "    # When the target is a biophysical neuron, the location of the connections \n",
    "    # (synapses) along the neuron must be defined.\n",
    "    distance_range=[0.0, 1e+20],\n",
    "    # Further, when the target is a biophysical neuron, the regions of the \n",
    "    # neuron being targeted need to be defined.\n",
    "    target_sections=['somatic', 'basal'], \n",
    "    # Axonal delay between when pre-synaptic node fires and post-synaptic\n",
    "    # target responds. The unit is milliseconds\n",
    "    delay=2.0,\n",
    "    # File that contains the parameters for the synaptic weight which you can\n",
    "    # explore in the components directory. The naming convention below indicates\n",
    "    # that the synapse dynamics are GABA for an Inh to Inh node.\n",
    "    dynamics_params='GABA_InhToInh.json', \n",
    "    # params_file only has parameter values, but the mechanism (profile) of\n",
    "    # synaptic dynamics are defined in NEURON. Here we use exp2syn where you\n",
    "    # can find more info here:\n",
    "    # https://www.neuron.yale.edu/neuron/static/docs/help/neuron/neuron/mech.html#Exp2Syn\n",
    "    model_template='exp2syn'\n",
    ")"
   ]
  },
  {
   "cell_type": "code",
   "execution_count": 15,
   "metadata": {
    "collapsed": false
   },
   "outputs": [
    {
     "data": {
      "text/plain": [
       "<bmtk.builder.connection_map.ConnectionMap at 0x11505acd0>"
      ]
     },
     "execution_count": 15,
     "metadata": {},
     "output_type": "execute_result"
    }
   ],
   "source": [
    "# When the target is a LIF neuron. Note here that distance_range and target_sections are\n",
    "# not needed. Also, due to how NEURON handles LIF neurons, the synaptic profile has an\n",
    "# instantaneous increase (after the synaptic delay) and no params_function is neeeded.\n",
    "net.add_edges(source={'ei': 'i'}, \n",
    "              target={'ei': 'i', 'model_type': 'point_process'},\n",
    "              connection_rule=distance_connection_handler,\n",
    "              connection_params=cparameters,\n",
    "              syn_weight=0.3, \n",
    "              delay=2.0,\n",
    "              dynamics_params='instanteneousInh.json')"
   ]
  },
  {
   "cell_type": "markdown",
   "metadata": {},
   "source": [
    "<div style=\"border-left: 3px solid #000; padding: 1px; padding-left: 10px; background: #F0FAFF; \\\">\n",
    "<h3>Generating I-to-E connections</h3>\n",
    "</div>"
   ]
  },
  {
   "cell_type": "code",
   "execution_count": 16,
   "metadata": {
    "collapsed": false
   },
   "outputs": [
    {
     "data": {
      "text/plain": [
       "<bmtk.builder.connection_map.ConnectionMap at 0x103d96150>"
      ]
     },
     "execution_count": 16,
     "metadata": {},
     "output_type": "execute_result"
    }
   ],
   "source": [
    "# As above, need to give different rules for when the target is a biophysical neuron.\n",
    "net.add_edges(source={'ei': 'i'}, \n",
    "              target={'ei': 'e', 'model_type': 'biophysical'},\n",
    "              connection_rule=distance_connection_handler,\n",
    "              connection_params=cparameters,\n",
    "              syn_weight=0.3, \n",
    "              distance_range=[0.0, 50.0],\n",
    "              target_sections=['somatic', 'basal', 'apical'], \n",
    "              delay=2.0,\n",
    "              dynamics_params='GABA_InhToExc.json',\n",
    "              model_template='exp2syn')"
   ]
  },
  {
   "cell_type": "code",
   "execution_count": 17,
   "metadata": {
    "collapsed": false
   },
   "outputs": [
    {
     "data": {
      "text/plain": [
       "<bmtk.builder.connection_map.ConnectionMap at 0x114e86f10>"
      ]
     },
     "execution_count": 17,
     "metadata": {},
     "output_type": "execute_result"
    }
   ],
   "source": [
    "# As above, need to give different rules for when the target is a LIF neuron.\n",
    "net.add_edges(source={'ei': 'i'}, \n",
    "              target={'ei': 'e', 'model_type': 'point_process'},\n",
    "              connection_rule=distance_connection_handler,\n",
    "              connection_params=cparameters,\n",
    "              syn_weight=0.4,\n",
    "              delay=2.0,\n",
    "              dynamics_params='instanteneousInh.json')"
   ]
  },
  {
   "cell_type": "markdown",
   "metadata": {},
   "source": [
    "<div style=\"background: #DFF0D8; border-radius: 3px; padding: 10px; \\\">\n",
    "<h3>Excercise 2:</h3>\n",
    "<p> Complete the remaining connections: E-to-I, and E-to-E  \n",
    "<h4> Hints:  </h4>\n",
    "<p>-You can use the same cparameters values  \n",
    "<p>-Available params_files are: GABA_InhToInh.json, GABA_InhToExc.json, AMPA_ExcToInh.json, AMPA_ExcToExc.json, instanteneousInh.json, instanteneousExc.json  \n",
    "<p>-Inhibitory neurons only have 'somatic' and 'basal' compartments. Excitatory neurons also have 'apical'.  \n",
    "<p>-When the target neuron is inhibitory and biophysical, suggested distance range is [0.0, 1e+20] that targets somatic and basal compartments.  \n",
    "<p>-When the target neuron is exctiatory, suggested distance range is [30.0, 150.0] that targets basal and apical compartments.  \n",
    "<p>-Suggested weights, but you can experiment,: E-to-I biophysical = 0.05, E-to-I LIF =0.2, E-to-E biphysical = 0.05, E-to-E LIF = 0.05\n",
    "</div>"
   ]
  },
  {
   "cell_type": "markdown",
   "metadata": {},
   "source": [
    "<div style=\"border-left: 3px solid #000; padding: 1px; padding-left: 10px; background: #F0FAFF; \\\">\n",
    "<h3>Generating E-to-I connections</h3>\n",
    "</div>"
   ]
  },
  {
   "cell_type": "code",
   "execution_count": 18,
   "metadata": {
    "collapsed": false
   },
   "outputs": [
    {
     "data": {
      "text/plain": [
       "<bmtk.builder.connection_map.ConnectionMap at 0x11506b810>"
      ]
     },
     "execution_count": 18,
     "metadata": {},
     "output_type": "execute_result"
    }
   ],
   "source": [
    "net.add_edges(source={'ei': 'e'}, target={'pop_name': 'PV1'},\n",
    "              connection_rule=distance_connection_handler,\n",
    "              connection_params=cparameters,\n",
    "              syn_weight=0.05,\n",
    "              distance_range=[0.0, 1e+20],\n",
    "              target_sections=['somatic', 'basal'],\n",
    "              delay=2.0,\n",
    "              dynamics_params='AMPA_ExcToInh.json', \n",
    "              model_template='exp2syn')\n",
    "\n",
    "net.add_edges(source={'ei': 'e'}, target={'pop_name': 'LIF_inh'},\n",
    "              connection_rule=distance_connection_handler,\n",
    "              connection_params=cparameters,\n",
    "              syn_weight=0.2,\n",
    "              delay=2.0,\n",
    "              dynamics_params='instanteneousExc.json')"
   ]
  },
  {
   "cell_type": "markdown",
   "metadata": {},
   "source": [
    "<div style=\"border-left: 3px solid #000; padding: 1px; padding-left: 10px; background: #F0FAFF; \\\">\n",
    "<h3>Generating E-to-E connections</h3>\n",
    "</div>"
   ]
  },
  {
   "cell_type": "code",
   "execution_count": 19,
   "metadata": {
    "collapsed": false
   },
   "outputs": [
    {
     "data": {
      "text/plain": [
       "<bmtk.builder.connection_map.ConnectionMap at 0x11506b990>"
      ]
     },
     "execution_count": 19,
     "metadata": {},
     "output_type": "execute_result"
    }
   ],
   "source": [
    "net.add_edges(source={'ei': 'e'}, target={'pop_name': 'Scnn1a'},\n",
    "              connection_rule=distance_connection_handler,\n",
    "              connection_params=cparameters,\n",
    "              syn_weight=0.05,\n",
    "              distance_range=[30.0, 150.0], \n",
    "              target_sections=['basal', 'apical'], \n",
    "              delay=2.0,\n",
    "              dynamics_params='AMPA_ExcToExc.json',\n",
    "              model_template='exp2syn')\n",
    "\n",
    "net.add_edges(source={'ei': 'e'}, target={'pop_name': 'LIF_exc'},\n",
    "              connection_rule=distance_connection_handler,\n",
    "              connection_params=cparameters,\n",
    "              syn_weight=0.05, \n",
    "              delay=2.0,\n",
    "              dynamics_params='instanteneousExc.json')"
   ]
  },
  {
   "cell_type": "markdown",
   "metadata": {},
   "source": [
    "<div style=\"border-left: 3px solid #000; padding: 1px; padding-left: 10px; background: #F0FAFF; \\\">\n",
    "<h2>Building network...</h2>\n",
    "</div>"
   ]
  },
  {
   "cell_type": "code",
   "execution_count": 20,
   "metadata": {
    "collapsed": true
   },
   "outputs": [],
   "source": [
    "# This will actually build the network and determine which nodes are connected to which. \n",
    "# Until now, only the rules were given and stored.\n",
    "net.build()"
   ]
  },
  {
   "cell_type": "markdown",
   "metadata": {},
   "source": [
    "<div style=\"border-left: 3px solid #000; padding: 1px; padding-left: 10px; background: #F0FAFF; \\\">\n",
    "<h2>Saving edges</h2>\n",
    "</div>"
   ]
  },
  {
   "cell_type": "code",
   "execution_count": 21,
   "metadata": {
    "collapsed": true
   },
   "outputs": [],
   "source": [
    "# Save the edges and edge_types file.\n",
    "net.save_edges(edges_file_name='edges.h5', edge_types_file_name='edge_types.csv', output_dir=directory_name)"
   ]
  },
  {
   "cell_type": "markdown",
   "metadata": {},
   "source": [
    "<div style=\"border-left: 3px solid #000; padding: 1px; padding-left: 10px; background: #F0FAFF; \\\">\n",
    "Below we only show the edge_types file as the description of the edges is in a .h5 file format and can't be show here. If you have any questions about it, please ask us and we are happy to give you more detailed about how it is saved. If you would like to see how they are saved, you\n",
    "will need to install special software (HDFviewer or Vitables are good options.)\n",
    "</div>"
   ]
  },
  {
   "cell_type": "code",
   "execution_count": 22,
   "metadata": {
    "collapsed": false,
    "scrolled": true
   },
   "outputs": [
    {
     "data": {
      "text/html": [
       "<div>\n",
       "<table border=\"1\" class=\"dataframe\">\n",
       "  <thead>\n",
       "    <tr style=\"text-align: right;\">\n",
       "      <th></th>\n",
       "      <th>edge_type_id</th>\n",
       "      <th>target_query</th>\n",
       "      <th>source_query</th>\n",
       "      <th>syn_weight</th>\n",
       "      <th>dynamics_params</th>\n",
       "      <th>distance_range</th>\n",
       "      <th>delay</th>\n",
       "      <th>target_sections</th>\n",
       "      <th>model_template</th>\n",
       "    </tr>\n",
       "  </thead>\n",
       "  <tbody>\n",
       "    <tr>\n",
       "      <th>0</th>\n",
       "      <td>100</td>\n",
       "      <td>model_type=='biophysical'&amp;ei=='i'</td>\n",
       "      <td>ei=='i'</td>\n",
       "      <td>0.03</td>\n",
       "      <td>GABA_InhToInh.json</td>\n",
       "      <td>[0.0, 1e+20]</td>\n",
       "      <td>2.0</td>\n",
       "      <td>['somatic', 'basal']</td>\n",
       "      <td>exp2syn</td>\n",
       "    </tr>\n",
       "    <tr>\n",
       "      <th>1</th>\n",
       "      <td>101</td>\n",
       "      <td>model_type=='point_process'&amp;ei=='i'</td>\n",
       "      <td>ei=='i'</td>\n",
       "      <td>0.30</td>\n",
       "      <td>instanteneousInh.json</td>\n",
       "      <td>NaN</td>\n",
       "      <td>2.0</td>\n",
       "      <td>NaN</td>\n",
       "      <td>NaN</td>\n",
       "    </tr>\n",
       "    <tr>\n",
       "      <th>2</th>\n",
       "      <td>102</td>\n",
       "      <td>model_type=='biophysical'&amp;ei=='e'</td>\n",
       "      <td>ei=='i'</td>\n",
       "      <td>0.30</td>\n",
       "      <td>GABA_InhToExc.json</td>\n",
       "      <td>[0.0, 50.0]</td>\n",
       "      <td>2.0</td>\n",
       "      <td>['somatic', 'basal', 'apical']</td>\n",
       "      <td>exp2syn</td>\n",
       "    </tr>\n",
       "    <tr>\n",
       "      <th>3</th>\n",
       "      <td>103</td>\n",
       "      <td>model_type=='point_process'&amp;ei=='e'</td>\n",
       "      <td>ei=='i'</td>\n",
       "      <td>0.40</td>\n",
       "      <td>instanteneousInh.json</td>\n",
       "      <td>NaN</td>\n",
       "      <td>2.0</td>\n",
       "      <td>NaN</td>\n",
       "      <td>NaN</td>\n",
       "    </tr>\n",
       "    <tr>\n",
       "      <th>4</th>\n",
       "      <td>104</td>\n",
       "      <td>pop_name=='PV1'</td>\n",
       "      <td>ei=='e'</td>\n",
       "      <td>0.05</td>\n",
       "      <td>AMPA_ExcToInh.json</td>\n",
       "      <td>[0.0, 1e+20]</td>\n",
       "      <td>2.0</td>\n",
       "      <td>['somatic', 'basal']</td>\n",
       "      <td>exp2syn</td>\n",
       "    </tr>\n",
       "    <tr>\n",
       "      <th>5</th>\n",
       "      <td>105</td>\n",
       "      <td>pop_name=='LIF_inh'</td>\n",
       "      <td>ei=='e'</td>\n",
       "      <td>0.20</td>\n",
       "      <td>instanteneousExc.json</td>\n",
       "      <td>NaN</td>\n",
       "      <td>2.0</td>\n",
       "      <td>NaN</td>\n",
       "      <td>NaN</td>\n",
       "    </tr>\n",
       "    <tr>\n",
       "      <th>6</th>\n",
       "      <td>106</td>\n",
       "      <td>pop_name=='Scnn1a'</td>\n",
       "      <td>ei=='e'</td>\n",
       "      <td>0.05</td>\n",
       "      <td>AMPA_ExcToExc.json</td>\n",
       "      <td>[30.0, 150.0]</td>\n",
       "      <td>2.0</td>\n",
       "      <td>['basal', 'apical']</td>\n",
       "      <td>exp2syn</td>\n",
       "    </tr>\n",
       "    <tr>\n",
       "      <th>7</th>\n",
       "      <td>107</td>\n",
       "      <td>pop_name=='LIF_exc'</td>\n",
       "      <td>ei=='e'</td>\n",
       "      <td>0.05</td>\n",
       "      <td>instanteneousExc.json</td>\n",
       "      <td>NaN</td>\n",
       "      <td>2.0</td>\n",
       "      <td>NaN</td>\n",
       "      <td>NaN</td>\n",
       "    </tr>\n",
       "  </tbody>\n",
       "</table>\n",
       "</div>"
      ],
      "text/plain": [
       "   edge_type_id                         target_query source_query  syn_weight  \\\n",
       "0           100    model_type=='biophysical'&ei=='i'      ei=='i'        0.03   \n",
       "1           101  model_type=='point_process'&ei=='i'      ei=='i'        0.30   \n",
       "2           102    model_type=='biophysical'&ei=='e'      ei=='i'        0.30   \n",
       "3           103  model_type=='point_process'&ei=='e'      ei=='i'        0.40   \n",
       "4           104                      pop_name=='PV1'      ei=='e'        0.05   \n",
       "5           105                  pop_name=='LIF_inh'      ei=='e'        0.20   \n",
       "6           106                   pop_name=='Scnn1a'      ei=='e'        0.05   \n",
       "7           107                  pop_name=='LIF_exc'      ei=='e'        0.05   \n",
       "\n",
       "         dynamics_params distance_range  delay  \\\n",
       "0     GABA_InhToInh.json   [0.0, 1e+20]    2.0   \n",
       "1  instanteneousInh.json            NaN    2.0   \n",
       "2     GABA_InhToExc.json    [0.0, 50.0]    2.0   \n",
       "3  instanteneousInh.json            NaN    2.0   \n",
       "4     AMPA_ExcToInh.json   [0.0, 1e+20]    2.0   \n",
       "5  instanteneousExc.json            NaN    2.0   \n",
       "6     AMPA_ExcToExc.json  [30.0, 150.0]    2.0   \n",
       "7  instanteneousExc.json            NaN    2.0   \n",
       "\n",
       "                  target_sections model_template  \n",
       "0            ['somatic', 'basal']        exp2syn  \n",
       "1                             NaN            NaN  \n",
       "2  ['somatic', 'basal', 'apical']        exp2syn  \n",
       "3                             NaN            NaN  \n",
       "4            ['somatic', 'basal']        exp2syn  \n",
       "5                             NaN            NaN  \n",
       "6             ['basal', 'apical']        exp2syn  \n",
       "7                             NaN            NaN  "
      ]
     },
     "execution_count": 22,
     "metadata": {},
     "output_type": "execute_result"
    }
   ],
   "source": [
    "# Viewing the edge_types file\n",
    "edge_types_DF = pd.read_csv('network/recurrent_network/edge_types.csv', sep = ' ')\n",
    "edge_types_DF"
   ]
  },
  {
   "cell_type": "markdown",
   "metadata": {},
   "source": [
    "<div style=\"border-left: 3px solid #000; padding: 1px; padding-left: 10px; background: #F0FAFF; \\\">\n",
    "<h1>Build input driving sources</h1>\n",
    "In a parallel manner to before, we will now create the input network and connect it to the excitatory cells we have already made. \n",
    "</div>"
   ]
  },
  {
   "cell_type": "markdown",
   "metadata": {},
   "source": [
    "<img src=\"../../biophysical_notebook/schematics_png/External_input_connected.png\" alt=Drawing style=\"width: 500px;\">"
   ]
  },
  {
   "cell_type": "code",
   "execution_count": 23,
   "metadata": {
    "collapsed": true
   },
   "outputs": [],
   "source": [
    "# Will save the output files in a parallel manner to what we did before.\n",
    "# Output file names\n",
    "directory_name = 'network/source_input/'"
   ]
  },
  {
   "cell_type": "markdown",
   "metadata": {},
   "source": [
    "<div style=\"border-left: 3px solid #000; padding: 1px; padding-left: 10px; background: #F0FAFF; \\\">\n",
    "<h2>Building input sources</h2>\n",
    "</div>"
   ]
  },
  {
   "cell_type": "code",
   "execution_count": 24,
   "metadata": {
    "collapsed": true
   },
   "outputs": [],
   "source": [
    "# Create input nodes dictionary. Will use \"virtual\" in this example and the dictionary \n",
    "# has already been created for you below. In the following you will create the nodes\n",
    "# and save them as was done for the recurrent network. Note that we are making 25 \n",
    "# external nodes and we will give them Poission spike trains.\n",
    "\n",
    "filter_models = {\n",
    "    'inputFilter': {\n",
    "        'N': 25, \n",
    "        'ei': 'e', \n",
    "        'pop_name': 'input_filter', \n",
    "        'model_type': 'virtual'\n",
    "    }\n",
    "}"
   ]
  },
  {
   "cell_type": "code",
   "execution_count": 25,
   "metadata": {
    "collapsed": true
   },
   "outputs": [],
   "source": [
    "# Create a network object\n",
    "inputNetwork = NetworkBuilder(\"inputNetwork\")"
   ]
  },
  {
   "cell_type": "markdown",
   "metadata": {},
   "source": [
    "<div style=\"background: #DFF0D8; border-radius: 3px; padding: 10px; \\\">\n",
    "<h3>Exercise 3:</h3>\n",
    "Create an external network with the dictionary parameters given above. Note that here less parameters are needed than before.\n",
    "</div>"
   ]
  },
  {
   "cell_type": "code",
   "execution_count": 26,
   "metadata": {
    "collapsed": true
   },
   "outputs": [],
   "source": [
    "# Add each cell type to the network\n",
    "\n",
    "# SOLUTION 1:\n",
    "# for model, params in filter_models.items():\n",
    "#     inputNetwork.add_nodes(**params)\n",
    "\n",
    "# SOLUTION 2:\n",
    "inputNetwork.add_nodes(**filter_models['inputFilter'])"
   ]
  },
  {
   "cell_type": "markdown",
   "metadata": {},
   "source": [
    "<div style=\"background: #DFF0D8; border-radius: 3px; padding: 10px; \\\">\n",
    "<h3>Exercise 4:</h3>\n",
    "<p> Save the input network as done before. Note it will be saved in a different directory and so please keep the same names of nodes.h5 and node_types.csv for viewing the files below.\n",
    "</div>"
   ]
  },
  {
   "cell_type": "code",
   "execution_count": 27,
   "metadata": {
    "collapsed": true
   },
   "outputs": [],
   "source": [
    "inputNetwork.save_nodes(nodes_file_name='nodes.h5', node_types_file_name='node_types.csv', output_dir=directory_name)"
   ]
  },
  {
   "cell_type": "code",
   "execution_count": 28,
   "metadata": {
    "collapsed": false
   },
   "outputs": [
    {
     "data": {
      "text/html": [
       "<div>\n",
       "<table border=\"1\" class=\"dataframe\">\n",
       "  <thead>\n",
       "    <tr style=\"text-align: right;\">\n",
       "      <th></th>\n",
       "      <th>node_id</th>\n",
       "      <th>node_type_id</th>\n",
       "    </tr>\n",
       "  </thead>\n",
       "  <tbody>\n",
       "    <tr>\n",
       "      <th>0</th>\n",
       "      <td>0</td>\n",
       "      <td>100</td>\n",
       "    </tr>\n",
       "    <tr>\n",
       "      <th>1</th>\n",
       "      <td>1</td>\n",
       "      <td>100</td>\n",
       "    </tr>\n",
       "    <tr>\n",
       "      <th>2</th>\n",
       "      <td>2</td>\n",
       "      <td>100</td>\n",
       "    </tr>\n",
       "    <tr>\n",
       "      <th>3</th>\n",
       "      <td>3</td>\n",
       "      <td>100</td>\n",
       "    </tr>\n",
       "    <tr>\n",
       "      <th>4</th>\n",
       "      <td>4</td>\n",
       "      <td>100</td>\n",
       "    </tr>\n",
       "  </tbody>\n",
       "</table>\n",
       "</div>"
      ],
      "text/plain": [
       "   node_id  node_type_id\n",
       "0        0           100\n",
       "1        1           100\n",
       "2        2           100\n",
       "3        3           100\n",
       "4        4           100"
      ]
     },
     "execution_count": 28,
     "metadata": {},
     "output_type": "execute_result"
    }
   ],
   "source": [
    "# Print the first 5 external nodes\n",
    "input_nodes_DF=nodes_table('network/source_input/nodes.h5', 'inputNetwork')\n",
    "input_nodes_DF[:5]"
   ]
  },
  {
   "cell_type": "code",
   "execution_count": 29,
   "metadata": {
    "collapsed": false
   },
   "outputs": [
    {
     "data": {
      "text/html": [
       "<div>\n",
       "<table border=\"1\" class=\"dataframe\">\n",
       "  <thead>\n",
       "    <tr style=\"text-align: right;\">\n",
       "      <th></th>\n",
       "      <th>node_type_id</th>\n",
       "      <th>model_type</th>\n",
       "      <th>ei</th>\n",
       "      <th>pop_name</th>\n",
       "    </tr>\n",
       "  </thead>\n",
       "  <tbody>\n",
       "    <tr>\n",
       "      <th>0</th>\n",
       "      <td>100</td>\n",
       "      <td>virtual</td>\n",
       "      <td>e</td>\n",
       "      <td>input_filter</td>\n",
       "    </tr>\n",
       "  </tbody>\n",
       "</table>\n",
       "</div>"
      ],
      "text/plain": [
       "   node_type_id model_type ei      pop_name\n",
       "0           100    virtual  e  input_filter"
      ]
     },
     "execution_count": 29,
     "metadata": {},
     "output_type": "execute_result"
    }
   ],
   "source": [
    "# Print the external node types\n",
    "input_node_types_DF = pd.read_csv('network/source_input/node_types.csv', sep = ' ')\n",
    "input_node_types_DF"
   ]
  },
  {
   "cell_type": "markdown",
   "metadata": {},
   "source": [
    "<div style=\"border-left: 3px solid #000; padding: 1px; padding-left: 10px; background: #F0FAFF; \\\">\n",
    "<h2>Connect input sources to recurrent network</h2>\n",
    "</div>"
   ]
  },
  {
   "cell_type": "code",
   "execution_count": 30,
   "metadata": {
    "collapsed": true
   },
   "outputs": [],
   "source": [
    "# Defining a function that will select source sources to connect to the network.\n",
    "# In this example, all source cells will connect but this gives you an idea of\n",
    "# how custom functions can be created to select subsets of input sources nodes.\n",
    "# Also we here introduce a new concept for connecting nodes. Here the function\n",
    "# receives all sources and a single target. An algorithm can determine which\n",
    "# sources connect to the given target. The function will return a list of length\n",
    "# equal to the number of sources. The elements in the list can be either N_syn\n",
    "# everytime there is a connection or None when there is no connection.\n",
    "def select_source_cells(sources, target, N_syn):\n",
    "    '''\n",
    "    Note here that \"sources\" are given (not \"source\"). So the iterations occur through every target \n",
    "    with all sources as potential inputs. Faster than before and better if will have common rules.\n",
    "    '''\n",
    "\n",
    "    target_id = target.node_id\n",
    "    source_ids = [s.node_id for s in sources]\n",
    "\n",
    "    nsyns_ret = [N_syn]*len(source_ids)\n",
    "    return nsyns_ret"
   ]
  },
  {
   "cell_type": "code",
   "execution_count": 31,
   "metadata": {
    "collapsed": true
   },
   "outputs": [],
   "source": [
    "# Similar to as was done for the recurrent network.  \n",
    "cparams = {'N_syn': 10}"
   ]
  },
  {
   "cell_type": "code",
   "execution_count": 32,
   "metadata": {
    "collapsed": false
   },
   "outputs": [
    {
     "data": {
      "text/plain": [
       "<bmtk.builder.connection_map.ConnectionMap at 0x115086090>"
      ]
     },
     "execution_count": 32,
     "metadata": {},
     "output_type": "execute_result"
    }
   ],
   "source": [
    "# Connect the external population to the biophysical exctitaory nodes (Scnn1a).\n",
    "# This is the same format as before, but note that this time we give an input\n",
    "# to the connect function called \"iterator\". Previously, when we did not use this\n",
    "# and the default \"one_to_one\" was used. When in the default \"one_to_one\" case, the \n",
    "# connector function iterates through every source and target one by one. When\n",
    "# the iterator is \"all_to_one\", the connector function will expect all sources\n",
    "# to be received together for every target. Other options are \"one_to_all\". The\n",
    "# final option \"all_to_all\" is still not available.\n",
    "inputNetwork.add_edges(target=net.nodes(pop_name='Scnn1a'),\n",
    "                       iterator='all_to_one',\n",
    "                       connection_rule=select_source_cells,\n",
    "                       connection_params=cparams,\n",
    "                       syn_weight=0.0007, \n",
    "                       distance_range=[0.0, 150.0],\n",
    "                       target_sections=['basal', 'apical'],\n",
    "                       delay=2.0,\n",
    "                       dynamics_params='AMPA_ExcToExc.json',\n",
    "                       model_template='exp2syn')"
   ]
  },
  {
   "cell_type": "markdown",
   "metadata": {},
   "source": [
    "<div style=\"background: #DFF0D8; border-radius: 3px; padding: 10px; \\\">\n",
    "<h3>Excercise 5:</h3>\n",
    "Below we connect the souce network to the LIF excitatory neurons. Change the pop_name to the pop_name you defined previously for LIF excitatory nodes. Use a weight of 0.07 and dynamic_params: instanteneousExc.json. No model_template is required here. \n",
    "</div>"
   ]
  },
  {
   "cell_type": "code",
   "execution_count": 33,
   "metadata": {
    "collapsed": false
   },
   "outputs": [
    {
     "data": {
      "text/plain": [
       "<bmtk.builder.connection_map.ConnectionMap at 0x114e76cd0>"
      ]
     },
     "execution_count": 33,
     "metadata": {},
     "output_type": "execute_result"
    }
   ],
   "source": [
    "# Connect the external population to the LIF exctitaory nodes \n",
    "# USE \"pop_name\" YOU DEFINED BEFORE\n",
    "inputNetwork.add_edges(target=net.nodes(pop_name='LIF_exc'),\n",
    "                       iterator='all_to_one',\n",
    "                       connection_rule=select_source_cells,\n",
    "                       connection_params=cparams,\n",
    "                       syn_weight=0.07,\n",
    "                       delay=2.0,\n",
    "                       dynamics_params='instanteneousExc.json')"
   ]
  },
  {
   "cell_type": "code",
   "execution_count": 34,
   "metadata": {
    "collapsed": false
   },
   "outputs": [
    {
     "data": {
      "text/plain": [
       "<bmtk.builder.connection_map.ConnectionMap at 0x1150869d0>"
      ]
     },
     "execution_count": 34,
     "metadata": {},
     "output_type": "execute_result"
    }
   ],
   "source": [
    "# If want to connect input to inhibitory\n",
    "inputNetwork.add_edges(target=net.nodes(pop_name='PV1'),\n",
    "                      iterator='all_to_one',\n",
    "                      connection_rule=select_source_cells,\n",
    "                      connection_params=cparams,\n",
    "                      syn_weight=0.002, \n",
    "                      distance_range=[0.0, 1.0e+20],\n",
    "                      target_sections=['basal', 'somatic'],\n",
    "                      delay=2.0,\n",
    "                      dynamics_params='AMPA_ExcToInh.json',\n",
    "                      model_template='exp2syn')\n",
    "\n",
    "inputNetwork.add_edges(target=net.nodes(pop_name='LIF_inh'),\n",
    "                      iterator='all_to_one',\n",
    "                      connection_rule=select_source_cells,\n",
    "                      connection_params=cparams,\n",
    "                      syn_weight=0.01,\n",
    "                      delay=2.0,\n",
    "                      dynamics_params='instanteneousExc.json')"
   ]
  },
  {
   "cell_type": "markdown",
   "metadata": {},
   "source": [
    "<div style=\"border-left: 3px solid #000; padding: 1px; padding-left: 10px; background: #F0FAFF; \\\">\n",
    "<h3>Build the network and save the edges</h3>\n",
    "The same functions are before.\n",
    "</div>"
   ]
  },
  {
   "cell_type": "code",
   "execution_count": 35,
   "metadata": {
    "collapsed": true
   },
   "outputs": [],
   "source": [
    "inputNetwork.build()"
   ]
  },
  {
   "cell_type": "code",
   "execution_count": 36,
   "metadata": {
    "collapsed": true
   },
   "outputs": [],
   "source": [
    "inputNetwork.save_edges(edges_file_name='edges.h5', edge_types_file_name='edge_types.csv', output_dir=directory_name)"
   ]
  },
  {
   "cell_type": "code",
   "execution_count": 37,
   "metadata": {
    "collapsed": false
   },
   "outputs": [
    {
     "data": {
      "text/html": [
       "<div>\n",
       "<table border=\"1\" class=\"dataframe\">\n",
       "  <thead>\n",
       "    <tr style=\"text-align: right;\">\n",
       "      <th></th>\n",
       "      <th>edge_type_id</th>\n",
       "      <th>target_query</th>\n",
       "      <th>source_query</th>\n",
       "      <th>syn_weight</th>\n",
       "      <th>dynamics_params</th>\n",
       "      <th>distance_range</th>\n",
       "      <th>delay</th>\n",
       "      <th>target_sections</th>\n",
       "      <th>model_template</th>\n",
       "    </tr>\n",
       "  </thead>\n",
       "  <tbody>\n",
       "    <tr>\n",
       "      <th>0</th>\n",
       "      <td>100</td>\n",
       "      <td>pop_name=='Scnn1a'</td>\n",
       "      <td>*</td>\n",
       "      <td>0.0007</td>\n",
       "      <td>AMPA_ExcToExc.json</td>\n",
       "      <td>[0.0, 150.0]</td>\n",
       "      <td>2.0</td>\n",
       "      <td>['basal', 'apical']</td>\n",
       "      <td>exp2syn</td>\n",
       "    </tr>\n",
       "    <tr>\n",
       "      <th>1</th>\n",
       "      <td>101</td>\n",
       "      <td>pop_name=='LIF_exc'</td>\n",
       "      <td>*</td>\n",
       "      <td>0.0700</td>\n",
       "      <td>instanteneousExc.json</td>\n",
       "      <td>NaN</td>\n",
       "      <td>2.0</td>\n",
       "      <td>NaN</td>\n",
       "      <td>NaN</td>\n",
       "    </tr>\n",
       "    <tr>\n",
       "      <th>2</th>\n",
       "      <td>102</td>\n",
       "      <td>pop_name=='PV1'</td>\n",
       "      <td>*</td>\n",
       "      <td>0.0020</td>\n",
       "      <td>AMPA_ExcToInh.json</td>\n",
       "      <td>[0.0, 1e+20]</td>\n",
       "      <td>2.0</td>\n",
       "      <td>['basal', 'somatic']</td>\n",
       "      <td>exp2syn</td>\n",
       "    </tr>\n",
       "    <tr>\n",
       "      <th>3</th>\n",
       "      <td>103</td>\n",
       "      <td>pop_name=='LIF_inh'</td>\n",
       "      <td>*</td>\n",
       "      <td>0.0100</td>\n",
       "      <td>instanteneousExc.json</td>\n",
       "      <td>NaN</td>\n",
       "      <td>2.0</td>\n",
       "      <td>NaN</td>\n",
       "      <td>NaN</td>\n",
       "    </tr>\n",
       "  </tbody>\n",
       "</table>\n",
       "</div>"
      ],
      "text/plain": [
       "   edge_type_id         target_query source_query  syn_weight  \\\n",
       "0           100   pop_name=='Scnn1a'            *      0.0007   \n",
       "1           101  pop_name=='LIF_exc'            *      0.0700   \n",
       "2           102      pop_name=='PV1'            *      0.0020   \n",
       "3           103  pop_name=='LIF_inh'            *      0.0100   \n",
       "\n",
       "         dynamics_params distance_range  delay       target_sections  \\\n",
       "0     AMPA_ExcToExc.json   [0.0, 150.0]    2.0   ['basal', 'apical']   \n",
       "1  instanteneousExc.json            NaN    2.0                   NaN   \n",
       "2     AMPA_ExcToInh.json   [0.0, 1e+20]    2.0  ['basal', 'somatic']   \n",
       "3  instanteneousExc.json            NaN    2.0                   NaN   \n",
       "\n",
       "  model_template  \n",
       "0        exp2syn  \n",
       "1            NaN  \n",
       "2        exp2syn  \n",
       "3            NaN  "
      ]
     },
     "execution_count": 37,
     "metadata": {},
     "output_type": "execute_result"
    }
   ],
   "source": [
    "input_edge_types_DF = pd.read_csv('network/source_input/edge_types.csv', sep = ' ')\n",
    "input_edge_types_DF"
   ]
  },
  {
   "cell_type": "markdown",
   "metadata": {},
   "source": [
    "<div style=\"border-left: 3px solid #000; padding: 1px; padding-left: 10px; background: #F0FAFF; \\\">\n",
    "<h3>Explore the directory structure</h3>\n",
    "At this point you may want to explore the directory structure that has been created to see how and where the files were saved. \n",
    "</div>"
   ]
  },
  {
   "cell_type": "markdown",
   "metadata": {},
   "source": [
    "<div style=\"border-left: 3px solid #000; padding: 1px; padding-left: 10px; background: #F0FAFF; \\\">\n",
    "<h2>Create spike times of input cells</h2>\n",
    "In addition to creating connectivity between the external population and the recurrent population, we need to define what input the external population is giving. This will be in the form of spike trains as illustrated below and is the last step for creating a network and running it.\n",
    "</div>"
   ]
  },
  {
   "cell_type": "markdown",
   "metadata": {},
   "source": [
    "<img src=\"../../biophysical_notebook/schematics_png/Full_figure.png\" alt=Drawing style=\"width: 500px;\">"
   ]
  },
  {
   "cell_type": "markdown",
   "metadata": {},
   "source": [
    "<div style=\"border-left: 3px solid #000; padding: 1px; padding-left: 10px; background: #F0FAFF; \\\">\n",
    "<h3>Spike train</h3>\n",
    "Below is code that will create spike-trains for every neuron drawn from a Poisson process. A firing rate is set for all neurons and the final output file is saved in an nwb format (neurodata without borders) which we will not be discussing in this tutorial but feel free to ask a TA for more information.\n",
    "</div>"
   ]
  },
  {
   "cell_type": "code",
   "execution_count": 38,
   "metadata": {
    "collapsed": true
   },
   "outputs": [],
   "source": [
    "input_ids = [n.node_id for n in inputNetwork.nodes()]\n",
    "from bmtk.utils.io.spike_trains import PoissonSpikesGenerator\n",
    "\n",
    "# Create a Poisson Spike train for all input nodes that fire at a rate of 0.5Hz. \n",
    "# The time units below is in milliseconds\n",
    "psg = PoissonSpikesGenerator(gids=input_ids, firing_rate=0.5, tstart=0.0, tstop=10000.0) \n",
    "\n",
    "# Save the spike trains\n",
    "psg.to_hdf5(file_name='network/source_input/poission_input_spk_train.h5')"
   ]
  },
  {
   "cell_type": "markdown",
   "metadata": {},
   "source": [
    "<div style=\"border-left: 3px solid #000; padding: 1px; padding-left: 10px; background: #F0FAFF; \\\">\n",
    "<h1>Config file</h1>\n",
    "With so many files created (nodes, edges, spiking) and given (morpholgies, e-phys parameters), everything needs to be integrated together which is done in a config file. This file has already been created and below we are printing it. Feel free to also look at the config file directly as it will look better than the print function below.\n",
    "</div>"
   ]
  },
  {
   "cell_type": "code",
   "execution_count": 39,
   "metadata": {
    "collapsed": false,
    "scrolled": false
   },
   "outputs": [
    {
     "name": "stdout",
     "output_type": "stream",
     "text": [
      "{u'components': {u'biophysical_neuron_models_dir': u'$COMPONENT_DIR/biophysical/electrophysiology',\n",
      "                 u'mechanisms_dir': u'$MECHANISMS_DIR',\n",
      "                 u'morphologies_dir': u'$COMPONENT_DIR/biophysical/morphology',\n",
      "                 u'point_neuron_models_dir': u'$COMPONENT_DIR/intfire',\n",
      "                 u'synaptic_models_dir': u'$COMPONENT_DIR/synaptic_models'},\n",
      " u'conditions': {u'celsius': 34.0, u'v_init': -80},\n",
      " u'inputs': {u'spike_trains': {u'input_file': u'$INPUT_DIR/poission_input_spk_train.h5',\n",
      "                               u'input_type': u'spikes',\n",
      "                               u'module': u'h5',\n",
      "                               u'node_set': u'inputNetwork'}},\n",
      " u'manifest': {u'$BASE_DIR': u'${configdir}',\n",
      "               u'$COMPONENT_DIR': u'${configdir}/../../../Modeling/biophysical_notebook/components',\n",
      "               u'$INPUT_DIR': u'$BASE_DIR/network/source_input',\n",
      "               u'$MECHANISMS_DIR': u'$COMPONENT_DIR/mechanisms',\n",
      "               u'$NETWORK_DIR': u'$BASE_DIR/network',\n",
      "               u'$OUTPUT_DIR': u'$BASE_DIR/output'},\n",
      " u'networks': {u'edges': [{u'edge_types_file': u'$NETWORK_DIR/recurrent_network/edge_types.csv',\n",
      "                           u'edges_file': u'$NETWORK_DIR/recurrent_network/edges.h5'},\n",
      "                          {u'edge_types_file': u'$NETWORK_DIR/source_input/edge_types.csv',\n",
      "                           u'edges_file': u'$NETWORK_DIR/source_input/edges.h5'}],\n",
      "               u'nodes': [{u'node_types_file': u'$NETWORK_DIR/recurrent_network/node_types.csv',\n",
      "                           u'nodes_file': u'$NETWORK_DIR/recurrent_network/nodes.h5'},\n",
      "                          {u'node_types_file': u'$NETWORK_DIR/source_input/node_types.csv',\n",
      "                           u'nodes_file': u'$NETWORK_DIR/source_input/nodes.h5'}]},\n",
      " u'node_sets': {u'bio_nodes': {u'model_type': u'biophysical'}},\n",
      " u'output': {u'log_file': u'$OUTPUT_DIR/log.txt',\n",
      "             u'output_dir': u'$OUTPUT_DIR',\n",
      "             u'spikes_file': u'$OUTPUT_DIR/spikes.h5',\n",
      "             u'spikes_file_csv': u'$OUTPUT_DIR/spikes.csv',\n",
      "             u'spikes_sort_order': u'time'},\n",
      " u'reports': {u'calcium_concentration': {u'cells': u'bio_nodes',\n",
      "                                         u'enabled': True,\n",
      "                                         u'file_name': u'$OUTPUT_DIR/cell_vars.h5',\n",
      "                                         u'module': u'membrane_report',\n",
      "                                         u'sections': u'soma',\n",
      "                                         u'variable_name': u'cai'},\n",
      "              u'ecp': {u'cells': [0, 1, 2, 3],\n",
      "                       u'contributions_dir': u'$OUTPUT_DIR/ecp_contributions',\n",
      "                       u'ecp_file': u'$OUTPUT_DIR/ecp.h5',\n",
      "                       u'electrode_channels': u'all',\n",
      "                       u'electrode_positions': u'$COMPONENT_DIR/electrodes/single_electrode.csv',\n",
      "                       u'module': u'extracellular',\n",
      "                       u'variable_name': u'v'},\n",
      "              u'membrane_potential': {u'cells': u'bio_nodes',\n",
      "                                      u'enabled': True,\n",
      "                                      u'file_name': u'$OUTPUT_DIR/cell_vars.h5',\n",
      "                                      u'module': u'membrane_report',\n",
      "                                      u'sections': u'soma',\n",
      "                                      u'variable_name': u'v'}},\n",
      " u'run': {u'dL': 20.0,\n",
      "          u'dt': 0.1,\n",
      "          u'nsteps_block': 5000,\n",
      "          u'overwrite_output_dir': True,\n",
      "          u'spike_threshold': -15,\n",
      "          u'tstop': 3000.0},\n",
      " u'target_simulator': u'NEURON'}\n"
     ]
    }
   ],
   "source": [
    "import json\n",
    "import pprint\n",
    "\n",
    "with open('config.json') as config:\n",
    "    config_file = json.load(config)\n",
    "\n",
    "pprint.pprint(config_file)"
   ]
  },
  {
   "cell_type": "markdown",
   "metadata": {},
   "source": [
    "<div style=\"border-left: 3px solid #000; padding: 1px; padding-left: 10px; background: #F0FAFF; \\\">\n",
    "<h1>Run function</h1>\n",
    "Below is the run fuction that will read the config file and run our simulation on NEURON. Feel free to examine it if you are interested. Otherwise, the next cell simply calls the function and gives in the config file.\n",
    "</div>"
   ]
  },
  {
   "cell_type": "code",
   "execution_count": 40,
   "metadata": {
    "collapsed": false
   },
   "outputs": [
    {
     "name": "stdout",
     "output_type": "stream",
     "text": [
      "2018-08-06 13:52:51,915 [INFO] Created log file\n",
      "2018-08-06 13:52:52,084 [INFO] Building cells.\n",
      "2018-08-06 13:52:52,901 [INFO] Building recurrent connections\n",
      "2018-08-06 13:52:53,025 [INFO] Build virtual cell stimulations for spike_trains\n",
      "2018-08-06 13:52:53,348 [INFO] Running simulation for 3000.000 ms with the time step 0.100 ms\n",
      "2018-08-06 13:52:53,349 [INFO] Starting timestep: 0 at t_sim: 0.000 ms\n",
      "2018-08-06 13:52:53,353 [INFO] Block save every 5000 steps\n",
      "2018-08-06 13:52:59,696 [INFO]     step:5000 t_sim:500.00 ms\n",
      "2018-08-06 13:53:04,888 [INFO]     step:10000 t_sim:1000.00 ms\n",
      "2018-08-06 13:53:10,377 [INFO]     step:15000 t_sim:1500.00 ms\n",
      "2018-08-06 13:53:16,314 [INFO]     step:20000 t_sim:2000.00 ms\n",
      "2018-08-06 13:53:23,575 [INFO]     step:25000 t_sim:2500.00 ms\n",
      "2018-08-06 13:53:30,034 [INFO]     step:30000 t_sim:3000.00 ms\n",
      "2018-08-06 13:53:30,095 [INFO] Simulation completed in 36.75 seconds \n"
     ]
    }
   ],
   "source": [
    "from bmtk.simulator import bionet\n",
    "\n",
    "\n",
    "conf = bionet.Config.from_json('config.json', validate=True)\n",
    "conf.build_env()\n",
    "\n",
    "graph = bionet.BioNetwork.from_config(conf)\n",
    "sim = bionet.BioSimulator.from_config(conf, network=graph)\n",
    "sim.run()"
   ]
  },
  {
   "cell_type": "markdown",
   "metadata": {},
   "source": [
    "<div style=\"border-left: 3px solid #000; padding: 1px; padding-left: 10px; background: #F0FAFF; \\\">\n",
    "<h1>Basic analysis of output</h1>\n",
    "</div>"
   ]
  },
  {
   "cell_type": "markdown",
   "metadata": {},
   "source": [
    "<div style=\"border-left: 3px solid #000; padding: 1px; padding-left: 10px; background: #F0FAFF; \\\">\n",
    "<h3>Plot raster plot</h3>\n",
    "First we load the spikes outputs of our simulation.\n",
    "The output file contains two columns -- spike time (in millseconds) and node_id. Each time a cell spikes, a new row with the node_id and the spike time is added to the file.\n",
    "</div>"
   ]
  },
  {
   "cell_type": "code",
   "execution_count": 41,
   "metadata": {
    "collapsed": false
   },
   "outputs": [
    {
     "name": "stdout",
     "output_type": "stream",
     "text": [
      "[[ 285.648648    7.      ]\n",
      " [ 287.648648    4.      ]\n",
      " [ 287.648648    5.      ]\n",
      " [ 288.8         3.      ]\n",
      " [ 289.2         1.      ]\n",
      " [ 289.4         2.      ]\n",
      " [ 290.8         5.      ]\n",
      " [ 687.090168    7.      ]\n",
      " [ 687.090168    6.      ]]\n"
     ]
    }
   ],
   "source": [
    "# Load the spikes\n",
    "spks = np.loadtxt('output/spikes.csv')\n",
    "\n",
    "# Print the first 10 spikes\n",
    "print(spks[1:10, :])"
   ]
  },
  {
   "cell_type": "code",
   "execution_count": 42,
   "metadata": {
    "collapsed": false
   },
   "outputs": [
    {
     "data": {
      "text/plain": [
       "Text(0,0.5,u'Neuron Number')"
      ]
     },
     "execution_count": 42,
     "metadata": {},
     "output_type": "execute_result"
    },
    {
     "data": {
      "image/png": "[encoded data removed]",
      "text/plain": [
       "<matplotlib.figure.Figure at 0x119392ad0>"
      ]
     },
     "metadata": {},
     "output_type": "display_data"
    }
   ],
   "source": [
    "# Basic raster plot\n",
    "plt.plot(spks[:, 0], spks[:, 1], '.k')\n",
    "plt.xlim(0, config_file['run']['tstop'])\n",
    "plt.ylim(-1, 7.5)\n",
    "plt.xlabel('Time (ms)')\n",
    "plt.ylabel('Neuron Number')"
   ]
  },
  {
   "cell_type": "markdown",
   "metadata": {},
   "source": [
    "<div style=\"background: #DFF0D8; border-radius: 3px; padding: 10px; \\\">\n",
    "<h3>Excercise 6:</h3>\n",
    "Zoom into speicific time window of raster to see interactions better.\n",
    "<p>Hint: change plt.xlim()\n",
    "</div>"
   ]
  },
  {
   "cell_type": "code",
   "execution_count": 43,
   "metadata": {
    "collapsed": false
   },
   "outputs": [
    {
     "data": {
      "text/plain": [
       "Text(0,0.5,u'Neuron Number')"
      ]
     },
     "execution_count": 43,
     "metadata": {},
     "output_type": "execute_result"
    },
    {
     "data": {
      "image/png": "[encoded data removed]",
      "text/plain": [
       "<matplotlib.figure.Figure at 0x115086d10>"
      ]
     },
     "metadata": {},
     "output_type": "display_data"
    }
   ],
   "source": [
    "plt.plot(spks[:,0], spks[:, 1], '.k')\n",
    "plt.xlim(500, 1500)\n",
    "plt.ylim(-1, 7.5)\n",
    "plt.xlabel('Time (ms)')\n",
    "plt.ylabel('Neuron Number')"
   ]
  },
  {
   "cell_type": "markdown",
   "metadata": {},
   "source": [
    "<div style=\"border-left: 3px solid #000; padding: 1px; padding-left: 10px; background: #F0FAFF; \\\">\n",
    "<h3>Plot membrane trace of node</h3>\n",
    "Membrane traces are also stored and saved in a .h5 file format. Below we show how to access, load, and plot the membrane traces.\n",
    "</div>"
   ]
  },
  {
   "cell_type": "code",
   "execution_count": 44,
   "metadata": {
    "collapsed": false
   },
   "outputs": [
    {
     "name": "stdout",
     "output_type": "stream",
     "text": [
      "('Variables recorded:', u'cai')\n",
      "('Variables recorded:', u'v')\n"
     ]
    }
   ],
   "source": [
    "# Load the file for a node and see all the recorded variables\n",
    "import h5py\n",
    "h5_output_file = 'output/cell_vars.h5'\n",
    "f = h5py.File(h5_output_file, 'r')\n",
    "for key in f:\n",
    "    if key.lower() == 'mapping':\n",
    "        continue\n",
    "    print('Variables recorded:', key)"
   ]
  },
  {
   "cell_type": "code",
   "execution_count": 45,
   "metadata": {
    "collapsed": false
   },
   "outputs": [
    {
     "data": {
      "text/plain": [
       "Text(0,0.5,u'Membrane voltage (mV)')"
      ]
     },
     "execution_count": 45,
     "metadata": {},
     "output_type": "execute_result"
    },
    {
     "data": {
      "image/png": "[encoded data removed]",
      "text/plain": [
       "<matplotlib.figure.Figure at 0x118e6f650>"
      ]
     },
     "metadata": {},
     "output_type": "display_data"
    }
   ],
   "source": [
    "# Select the membrane voltage variable and plot it\n",
    "node = 2\n",
    "mem_vol = np.array(f['/v/data'])\n",
    "time = np.arange(0, config_file['run']['tstop'], config_file['run']['dt'])\n",
    "plt.plot(time, mem_vol[:,node])\n",
    "plt.xlabel('Time (ms)')\n",
    "plt.ylabel('Membrane voltage (mV)')"
   ]
  },
  {
   "cell_type": "markdown",
   "metadata": {},
   "source": [
    "<div style=\"background: #DFF0D8; border-radius: 3px; padding: 10px; \\\">\n",
    "<h3>Excercise 7:</h3>\n",
    "Plot the membrane potential of all biophysically detailed neurons in a subplot. Look at the difference in subthreshold activity between the excitatory and inhibitory cells.\n",
    "</div>"
   ]
  },
  {
   "cell_type": "code",
   "execution_count": 46,
   "metadata": {
    "collapsed": false
   },
   "outputs": [
    {
     "name": "stderr",
     "output_type": "stream",
     "text": [
      "/Users/yazanb/anaconda2/lib/python2.7/site-packages/matplotlib/cbook/deprecation.py:106: MatplotlibDeprecationWarning: Adding an axes using the same arguments as a previous axes currently reuses the earlier instance.  In a future version, a new instance will always be created and returned.  Meanwhile, this warning can be suppressed, and the future behavior ensured, by passing a unique label to each axes instance.\n",
      "  warnings.warn(message, mplDeprecation, stacklevel=1)\n"
     ]
    },
    {
     "data": {
      "image/png": "[encoded data removed]",
      "text/plain": [
       "<matplotlib.figure.Figure at 0x119e0aa50>"
      ]
     },
     "metadata": {},
     "output_type": "display_data"
    }
   ],
   "source": [
    "nodes = [0, 1, 2, 3]\n",
    "plt.figure(figsize = (20, 16))\n",
    "plt.subplot(2, 2, 1)\n",
    "h5_handle = h5py.File('output/cell_vars.h5', 'r')\n",
    "voltage_table = h5_handle['/v/data']\n",
    "for i, node in enumerate(nodes):\n",
    "    v_data = voltage_table[:, i]\n",
    "    \n",
    "    plt.subplot(2, 2, i + 1)\n",
    "    mem_vol = np.array(v_data)\n",
    "    time = np.arange(0, config_file['run']['tstop'], config_file['run']['dt'])\n",
    "    plt.plot(time, mem_vol)\n",
    "    plt.xlabel('Time (ms)')\n",
    "    plt.ylabel('Membrane voltage (mV)')\n",
    "    plt.title('Cell: ' + str(node))\n"
   ]
  },
  {
   "cell_type": "markdown",
   "metadata": {},
   "source": [
    "<div style=\"border-left: 3px solid #000; padding: 1px; padding-left: 10px; background: #F0FAFF; \\\">\n",
    "<h3>Plot the extracellular potential</h3>\n",
    "First we load the output extracellular potential of our simulation from an H5 which we then plot against time.\n",
    "</div>"
   ]
  },
  {
   "cell_type": "code",
   "execution_count": 47,
   "metadata": {
    "collapsed": false
   },
   "outputs": [
    {
     "name": "stdout",
     "output_type": "stream",
     "text": [
      "('Variables recorded:', u'channel_id')\n",
      "('Variables recorded:', u'data')\n"
     ]
    }
   ],
   "source": [
    "h5_output_file = 'output/ecp.h5'\n",
    "f = h5py.File(h5_output_file, 'r')\n",
    "for key in f:\n",
    "    if key.lower() == 'mapping':\n",
    "        continue\n",
    "    print('Variables recorded:', key)"
   ]
  },
  {
   "cell_type": "code",
   "execution_count": 48,
   "metadata": {
    "collapsed": false
   },
   "outputs": [
    {
     "data": {
      "text/plain": [
       "Text(0,0.5,u'Extracellular potential (mV)')"
      ]
     },
     "execution_count": 48,
     "metadata": {},
     "output_type": "execute_result"
    },
    {
     "data": {
      "image/png": "[encoded data removed]",
      "text/plain": [
       "<matplotlib.figure.Figure at 0x119e0ae50>"
      ]
     },
     "metadata": {},
     "output_type": "display_data"
    }
   ],
   "source": [
    "channel = 0  # we only have one electrode at (0.5, 0.5, 0.5)\n",
    "ecp = np.array(f['/data'])\n",
    "time = np.arange(0, config_file['run']['tstop'], config_file['run']['dt'])\n",
    "plt.plot(time, ecp[:,channel])\n",
    "plt.xlabel('Time (ms)')\n",
    "plt.ylabel('Extracellular potential (mV)')"
   ]
  },
  {
   "cell_type": "markdown",
   "metadata": {},
   "source": [
    "<div style=\"background: #DFF0D8; border-radius: 3px; padding: 10px; \\\">\n",
    "<h2>Extra exercises:</h2>\n",
    "<p>1.Building a model with multiple inhibitory types (PV, SST, VIP) and investigate the effect of increased activity to VIP neurons (proxy for running)\n",
    "<p>2.For biophysically detailed neurons, study the effect of synaptic placement on extracellular potentials\n",
    "<p>3.For biophysically detailed neurons or networks, study the effect of neuronal morphology on extracellular potentials\n",
    "<p>4.Build a point neuron network and an identical biophysical neuron network to investigate the effect of dendritic filtering of network activity and determine a way to convert synaptic placement locations to somatic synapses(transformation kernel)\n",
    "<p>5. Explore the directory structure created from this notebook that represents the network  \n",
    "<p>6. Explore the directory components that was created for you and contains more cell types  \n",
    "<p>7. Download and HDF5 viewer and explore the .h5 files created.  \n",
    "<p>8. Simulate one biophysical neuron receiving a large number of balanced excitatory and inhibitory inputs. Choose a cell model other than Scnn1a or PV1. Explore the effects of changing the target locations (somatic, basal, apical) of the excitatory and inhibitory inputs.  \n",
    "<p>9. We have another directory >>pointnet_notebook that shows how to use the same files and circuit created here to run a point neural network simulation. The simulator engine is NEST (http://www.nest-simulator.org/) and some changes had to be made to the config file and network description (documented in the notebook) based on NEST nomenclature requirements. Feel free to explore and play around with the notebook and NEST.\n",
    "</div>"
   ]
  },
  {
   "cell_type": "code",
   "execution_count": 49,
   "metadata": {
    "collapsed": true,
    "scrolled": false
   },
   "outputs": [],
   "source": [
    "# commands to compile neuron modules safe to ignore if on AWS\n",
    "# %%bash\n",
    "# CURR_DIR=$(pwd)\n",
    "# rm -rf components/mechanisms/x86_64/\n",
    "# cd components/mechanisms/\n",
    "# source ~/.bashrc\n",
    "# nrnivmodl modfiles\n",
    "# cd $CURR_DIR\n"
   ]
  }
 ],
 "metadata": {
  "anaconda-cloud": {},
  "kernelspec": {
   "display_name": "Python [Root]",
   "language": "python",
   "name": "Python [Root]"
  },
  "language_info": {
   "codemirror_mode": {
    "name": "ipython",
    "version": 2
   },
   "file_extension": ".py",
   "mimetype": "text/x-python",
   "name": "python",
   "nbconvert_exporter": "python",
   "pygments_lexer": "ipython2",
   "version": "2.7.12"
  }
 },
 "nbformat": 4,
 "nbformat_minor": 2
}
