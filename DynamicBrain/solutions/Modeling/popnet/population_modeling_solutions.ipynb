{
 "cells": [
  {
   "cell_type": "markdown",
   "metadata": {},
   "source": [
    "<img src=\"../../../../resources/cropped-SummerWorkshop_Header.png\">  \n",
    "\n",
    "<h1 align=\"center\">Python Bootcamp and Summer Workshop on the Dynamic Brain</h1> \n",
    "<h3 align=\"center\">August, 2018</h3> "
   ]
  },
  {
   "cell_type": "code",
   "execution_count": 1,
   "metadata": {
    "collapsed": true
   },
   "outputs": [],
   "source": [
    "import sys, os\n",
    "import pprint\n",
    "import json\n",
    "import pandas as pd\n",
    "import numpy as np\n",
    "import matplotlib.image as mpimg\n",
    "import matplotlib.pyplot as plt"
   ]
  },
  {
   "cell_type": "markdown",
   "metadata": {},
   "source": [
    "<div style=\"border-left: 3px solid #000; padding: 1px; padding-left: 10px; background: #F0FAFF; \\\">\n",
    "<h1 align=\"center\">Modeling a coupled excitatory-inhibitory (E-I) network with DiPDE/popnet </h1> \n",
    "\n",
    "<p>In this tutorial, we will demonstrate simulation of an E-I network consisting of homogenous excitatory (E) and inhibitory (I) populations using the DiPDE simulator. \n",
    "<p>In this example, only the excitatory (E) population is being driven by excitatory input from the external (Ext) population.</div>"
   ]
  },
  {
   "cell_type": "markdown",
   "metadata": {},
   "source": [
    "<img src=\"../../../Modeling/popnet_notebook/schematics_png/DiPDE_ei_net.png\" alt = Drawing style = \"width: 500px;\"> "
   ]
  },
  {
   "cell_type": "markdown",
   "metadata": {},
   "source": [
    "<div style=\"border-left: 3px solid #000; padding: 1px; padding-left: 10px; background: #F0FAFF; \">\n",
    "\n",
    "<h1> Building the network</h1>\n",
    "<p>We will build the network step-by-step as follows:\n",
    "<p>1) Create/parameterize the nodes (populations) in the internal network, namely the E and I populations\n",
    "<p>2) Create/parameterize the external population. \n",
    "<p>3) Create/parameterize the edge (connection) from the external population to the E population.\n",
    "<p>4) Connect the E population to the I population\n",
    "<p>5) Run simulation and observe output\n",
    "<p>6) Exercise: Connect I to E and explore how the outputs change</div>"
   ]
  },
  {
   "cell_type": "code",
   "execution_count": 2,
   "metadata": {
    "collapsed": true
   },
   "outputs": [],
   "source": [
    "#Create a folder called network. \n",
    "#Within this folder, we create a folder'recurrent_network' where the nodes and edges in our example will be saved\n",
    "directory_name = os.path.join('network', 'recurrent_network')"
   ]
  },
  {
   "cell_type": "markdown",
   "metadata": {},
   "source": [
    "<div style=\"border-left: 3px solid #000; padding: 1px; padding-left: 10px; background: #F0FAFF; \">\n",
    "\n",
    "<p> We will explore the directory structure for saving nodes and edges later. For now, just note that we will be creating node and edge parameter files and storing them in the 'network' folder </div>"
   ]
  },
  {
   "cell_type": "markdown",
   "metadata": {},
   "source": [
    "<div style=\"border-left: 3px solid #000; padding: 1px; padding-left: 10px; background: #F0FAFF; \">\n",
    "\n",
    "<h2> 1) Building E and I nodes </h2>\n",
    "\n",
    "<p>Let's start with creating a network object and add a single Excitatory population, followed by an Inhibitory population</div>"
   ]
  },
  {
   "cell_type": "markdown",
   "metadata": {},
   "source": [
    "<img src=\"../../../Modeling/popnet_notebook/schematics_png/ei_pop.png\" alt = Drawing style = \"width: 500px;\"> "
   ]
  },
  {
   "cell_type": "code",
   "execution_count": 3,
   "metadata": {
    "collapsed": true
   },
   "outputs": [],
   "source": [
    "#Import the NxNetwork module from modelingsdk. This module allows us to create a network object\n",
    "#to which we can add nodes and edges respectively. \n",
    "from bmtk.builder.networks import NetworkBuilder\n",
    "\n",
    "#Create network object\n",
    "net = NetworkBuilder('V1')"
   ]
  },
  {
   "cell_type": "code",
   "execution_count": 4,
   "metadata": {
    "collapsed": true
   },
   "outputs": [],
   "source": [
    "# Add 'E' node to 'net'\n",
    "net.add_nodes(pop_name='excitatory', \n",
    "              ei='e',\n",
    "              model_type='population',\n",
    "              model_template='dipde:Internal',\n",
    "              dynamics_params='excitatory_pop.json')"
   ]
  },
  {
   "cell_type": "markdown",
   "metadata": {},
   "source": [
    "<div style=\"border-left: 3px solid #000; padding: 1px; padding-left: 10px; background: #F0FAFF; \">\n",
    "\n",
    "<p> The variable 'node_type_id' is a label here that keeps track of a particular node; we can change the parameters associated with any node by specifying the node_type_id, without creating additional nodes.\n",
    "<p> The default parameters for the excitatory population are stored in the json file. Let's see what they are. We will see below how the default parameters can be changed </div>"
   ]
  },
  {
   "cell_type": "code",
   "execution_count": 5,
   "metadata": {
    "collapsed": true
   },
   "outputs": [
    {
     "name": "stdout",
     "output_type": "stream",
     "text": [
      "{'approx_order': None,\n",
      " 'dv': 0.0001,\n",
      " 'record': True,\n",
      " 'tau_m': 0.0429,\n",
      " 'update_method': 'gmres',\n",
      " 'v_max': 0.02,\n",
      " 'v_min': -0.05}\n"
     ]
    }
   ],
   "source": [
    "#Load the json file\n",
    "\n",
    "with open('components/pop_models/excitatory_pop.json') as exc_data:\n",
    "    exc_prs = json.load(exc_data)\n",
    "\n",
    "#Print the parameters    \n",
    "pprint.pprint(exc_prs)"
   ]
  },
  {
   "cell_type": "markdown",
   "metadata": {},
   "source": [
    "<div style=\"border-left: 3px solid #000; padding: 1px; padding-left: 10px; background: #F0FAFF; \">\n",
    "\n",
    "<h2> What do these parameters correspond to? </h2>\n",
    "<p>approx_order: None,      \n",
    "<p>dv: 0.0001      ->        grid-size for the membrane potential (in volts)\n",
    "<p>record: True            \n",
    "<p>tau_m: 0.0429   ->    membrane time-constant for each neuron in the population (in seconds)\n",
    "<p>update_method': gmres  -> internal solver-specific method \n",
    "<p>v_max: 0.02,           ->   threshold membrane potential (in volts)\n",
    "<p>v_min: -0.05           ->   resting membrane potential   (in volts)</div>            "
   ]
  },
  {
   "cell_type": "markdown",
   "metadata": {},
   "source": [
    "<div style=\"background: #DFF0D8; border-radius: 3px; padding: 10px;\">\n",
    "<h3> Exercise 1.1: </h3>\n",
    "\n",
    "<p>Follow the steps above to add an 'I' node (inhibitory population) to the network. You can set the node_type_id to 1 and replace 'excitatory' with 'inhibitory' for the other two fields.</div>  "
   ]
  },
  {
   "cell_type": "code",
   "execution_count": 6,
   "metadata": {
    "collapsed": true
   },
   "outputs": [],
   "source": [
    "# Add 'I' node to 'net'\n",
    "net.add_nodes(pop_name='inhibitory', \n",
    "              ei='i',\n",
    "              model_type='population',\n",
    "              model_template='dipde:Internal',\n",
    "              dynamics_params='inhibitory_pop.json')"
   ]
  },
  {
   "cell_type": "markdown",
   "metadata": {},
   "source": [
    "<div style=\"border-left: 3px solid #000; padding: 1px; padding-left: 10px; background: #F0FAFF; \">\n",
    "\n",
    "<p>Now that we have created the nodes and added them to the network, the next step is to save the nodes' information to a .csv file </div>"
   ]
  },
  {
   "cell_type": "code",
   "execution_count": 7,
   "metadata": {
    "collapsed": true
   },
   "outputs": [],
   "source": [
    "#Save node information. The columns to be saved in this file are set by the user. Note that node_type_id is needed here\n",
    "net.save_nodes(nodes_file_name='nodes.h5', node_types_file_name='node_types.csv', output_dir=directory_name)"
   ]
  },
  {
   "cell_type": "code",
   "execution_count": 8,
   "metadata": {
    "collapsed": true
   },
   "outputs": [
    {
     "data": {
      "text/html": [
       "<div>\n",
       "<style scoped>\n",
       "    .dataframe tbody tr th:only-of-type {\n",
       "        vertical-align: middle;\n",
       "    }\n",
       "\n",
       "    .dataframe tbody tr th {\n",
       "        vertical-align: top;\n",
       "    }\n",
       "\n",
       "    .dataframe thead th {\n",
       "        text-align: right;\n",
       "    }\n",
       "</style>\n",
       "<table border=\"1\" class=\"dataframe\">\n",
       "  <thead>\n",
       "    <tr style=\"text-align: right;\">\n",
       "      <th></th>\n",
       "      <th>node_id</th>\n",
       "      <th>node_type_id</th>\n",
       "    </tr>\n",
       "  </thead>\n",
       "  <tbody>\n",
       "    <tr>\n",
       "      <th>0</th>\n",
       "      <td>0</td>\n",
       "      <td>100</td>\n",
       "    </tr>\n",
       "    <tr>\n",
       "      <th>1</th>\n",
       "      <td>1</td>\n",
       "      <td>101</td>\n",
       "    </tr>\n",
       "  </tbody>\n",
       "</table>\n",
       "</div>"
      ],
      "text/plain": [
       "   node_id  node_type_id\n",
       "0        0           100\n",
       "1        1           101"
      ]
     },
     "execution_count": 8,
     "metadata": {},
     "output_type": "execute_result"
    }
   ],
   "source": [
    "# Let's display what is contained in the node_types file.\n",
    "from bmtk.analyzer import nodes_table\n",
    "nodes_table('network/recurrent_network/nodes.h5', 'V1')"
   ]
  },
  {
   "cell_type": "markdown",
   "metadata": {},
   "source": [
    "<div style=\"border-left: 3px solid #000; padding: 1px; padding-left: 10px; background: #F0FAFF; \">\n",
    "\n",
    "<h2> 2) Building the Ext input node (as part of a separate 'Ext_input network')</h2>\n",
    "<p>Along the same lines as for the E-I network, we will now create an external input network with a single node</div>"
   ]
  },
  {
   "cell_type": "markdown",
   "metadata": {},
   "source": [
    "<img src=\"../../../Modeling/popnet_notebook/schematics_png/ei_ext_pop.png\" alt = Drawing style = \"width: 500px;\"> "
   ]
  },
  {
   "cell_type": "code",
   "execution_count": 9,
   "metadata": {
    "collapsed": true
   },
   "outputs": [],
   "source": [
    "#Create input network object\n",
    "Ext_input = NetworkBuilder(\"Ext_input\")\n",
    "\n",
    "#Add 'Ext' node to Ext_input \n",
    "Ext_input.add_nodes(pop_name='input_filter', \n",
    "                    ei='e',\n",
    "                    model_type='virtual',\n",
    "                    model_template='dipde:External')\n",
    "\n",
    "#Create a separate directory for external inputs and provide filename to save to:\n",
    "input_directory_name = 'network/source_input/'\n",
    "\n",
    "#if not os.path.exists(input_directory_name):\n",
    "#    os.makedirs(input_directory_name)\n",
    "\n",
    "#input_models_file = input_directory_name + 'input_node_types.csv'\n",
    "\n",
    "#Save node information to file. \n",
    "#Ext_input.save_types(filename=input_models_file, columns=['node_type_id','level_of_detail','ei', 'pop_name'])\n",
    "Ext_input.save_nodes(nodes_file_name='nodes.h5', node_types_file_name='node_types.csv', output_dir=input_directory_name)\n"
   ]
  },
  {
   "cell_type": "markdown",
   "metadata": {},
   "source": [
    "<div style=\"background: #DFF0D8; border-radius: 3px; padding: 10px;\">\n",
    "\n",
    "<p> The steps used above are the same as those used for creating the E and I nodes.\n",
    "<p>The only difference is that we have introduced two additional parameters 'ei' and 'model_type' in creating this node. \n",
    "\n",
    "<p>Setting ei = 'e' specifies that the input is excitatory. \n",
    "<p>Setting model_type = 'virtual' specifies that the external input arises from filter level models. \n",
    "<p>This will not be important right now, but will become clear when we work through the biophysical example. </div>"
   ]
  },
  {
   "cell_type": "markdown",
   "metadata": {},
   "source": [
    "<div style=\"background: #DFF0D8; border-radius: 3px; padding: 10px;\">\n",
    "\n",
    "<h3> Exercise 1.2 : </h3>\n",
    "<p>Display what is contained in the input_node_types file that you just saved </div>"
   ]
  },
  {
   "cell_type": "code",
   "execution_count": 10,
   "metadata": {
    "collapsed": true
   },
   "outputs": [
    {
     "data": {
      "text/html": [
       "<div>\n",
       "<style scoped>\n",
       "    .dataframe tbody tr th:only-of-type {\n",
       "        vertical-align: middle;\n",
       "    }\n",
       "\n",
       "    .dataframe tbody tr th {\n",
       "        vertical-align: top;\n",
       "    }\n",
       "\n",
       "    .dataframe thead th {\n",
       "        text-align: right;\n",
       "    }\n",
       "</style>\n",
       "<table border=\"1\" class=\"dataframe\">\n",
       "  <thead>\n",
       "    <tr style=\"text-align: right;\">\n",
       "      <th></th>\n",
       "      <th>node_type_id</th>\n",
       "      <th>ei</th>\n",
       "      <th>pop_name</th>\n",
       "      <th>model_template</th>\n",
       "      <th>model_type</th>\n",
       "    </tr>\n",
       "  </thead>\n",
       "  <tbody>\n",
       "    <tr>\n",
       "      <th>0</th>\n",
       "      <td>100</td>\n",
       "      <td>e</td>\n",
       "      <td>input_filter</td>\n",
       "      <td>dipde:External</td>\n",
       "      <td>virtual</td>\n",
       "    </tr>\n",
       "  </tbody>\n",
       "</table>\n",
       "</div>"
      ],
      "text/plain": [
       "   node_type_id ei      pop_name  model_template model_type\n",
       "0           100  e  input_filter  dipde:External    virtual"
      ]
     },
     "execution_count": 10,
     "metadata": {},
     "output_type": "execute_result"
    }
   ],
   "source": [
    "input_node_types_DF = pd.read_csv('network/source_input/node_types.csv', sep = ' ')\n",
    "input_node_types_DF"
   ]
  },
  {
   "cell_type": "markdown",
   "metadata": {},
   "source": [
    "<div style=\"border-left: 3px solid #000; padding: 1px; padding-left: 10px; background: #F0FAFF; \">\n",
    "\n",
    "<h2> 3) Creating the edge from Ext to E </h2>\n",
    "<p>Now we will create the edge connecting Ext population to E population </div>"
   ]
  },
  {
   "cell_type": "markdown",
   "metadata": {},
   "source": [
    "<img src=\"../../../Modeling/popnet_notebook/schematics_png/ei_ext_pop_conn1.png\" alt = Drawing style = \"width: 500px;\"> "
   ]
  },
  {
   "cell_type": "code",
   "execution_count": 11,
   "metadata": {
    "collapsed": true
   },
   "outputs": [
    {
     "data": {
      "text/plain": [
       "<bmtk.builder.connection_map.ConnectionMap at 0x7f6e95aa0e80>"
      ]
     },
     "execution_count": 11,
     "metadata": {},
     "output_type": "execute_result"
    }
   ],
   "source": [
    "Ext_input.add_edges(source=Ext_input.nodes(pop_name='input_filter'),\n",
    "                    target=net.nodes(pop_name='excitatory'),\n",
    "                    nsyns=10,\n",
    "                    syn_weight=0.0025,\n",
    "                    delay=0.002,\n",
    "                    dynamics_params='InhToExc.json')"
   ]
  },
  {
   "cell_type": "markdown",
   "metadata": {},
   "source": [
    "<div style=\"border-left: 3px solid #000; padding: 1px; padding-left: 10px; background: #F0FAFF; \">\n",
    "\n",
    "<p> Let us unpack this a bit. To establish a connection, we provide the source (node named 'ext_excitatory' in Ext_input) and the target (node named 'excitatory' in net). Note that the pop_names for source and target should match the ones we specified when creating the nodes.\n",
    "\n",
    "<p>We also provide the parameters for the edge contained in edge_params. For DiPDE/popnet, each edge is specified by the following: \n",
    "<p>1) 'edge_type_id': label assigned to this edge; as long as this is unchanged, you can change any edge parameters without creating a new edge. \n",
    "<p>2) 'syn_weight' : synaptic weight in volts (w in the cheat-sheet) \n",
    "<p>3) 'delay' : synaptic delay in seconds \n",
    "<p>4) 'nsyns' : number of synapses from source onto target. \n",
    "<p>5) 'dynamics_params': optional filename to save parameters to. </div>"
   ]
  },
  {
   "cell_type": "markdown",
   "metadata": {},
   "source": [
    "<div style=\"border-left: 3px solid #000; padding: 1px; padding-left: 10px; background: #F0FAFF; \">\n",
    "\n",
    "<h2> Build network... </h2>\n",
    "<p> This next line connects the external and the E node with the edge we just created</div>"
   ]
  },
  {
   "cell_type": "code",
   "execution_count": 12,
   "metadata": {
    "collapsed": true
   },
   "outputs": [],
   "source": [
    "Ext_input.build()"
   ]
  },
  {
   "cell_type": "markdown",
   "metadata": {},
   "source": [
    "<div style=\"border-left: 3px solid #000; padding: 1px; padding-left: 10px; background: #F0FAFF; \">\n",
    "\n",
    "<h2> Save connection to csv file </h2> </div>"
   ]
  },
  {
   "cell_type": "code",
   "execution_count": 13,
   "metadata": {
    "collapsed": true
   },
   "outputs": [],
   "source": [
    "#Specify filename to save to\n",
    "input_edge_types_file  = input_directory_name + 'input_edge_types.csv'\n",
    "\n",
    "#Save edge parameters\n",
    "#Ext_input.save_edge_types(filename=input_edge_types_file, opt_columns=['weight', 'delay', 'nsyns', 'params_file'])\n",
    "Ext_input.save_edges(edges_file_name='edges.h5', edge_types_file_name='edge_types.csv', output_dir=input_directory_name)"
   ]
  },
  {
   "cell_type": "markdown",
   "metadata": {},
   "source": [
    "<div style=\"border-left: 3px solid #000; padding: 1px; padding-left: 10px; background: #F0FAFF; \">\n",
    "\n",
    "<h2> 4) Build the edge from E to I and then build net </h2>\n",
    "<p>Now let's create the edge connecting E population to I population. Note now that both populations are nodes in net. Remember to save edge after specifying filename </div>"
   ]
  },
  {
   "cell_type": "markdown",
   "metadata": {},
   "source": [
    "<img src=\"../../../Modeling/popnet_notebook/schematics_png/ei_ext_pop_conn1and2.png\" alt = Drawing style = \"width: 500px;\"> "
   ]
  },
  {
   "cell_type": "code",
   "execution_count": 14,
   "metadata": {
    "collapsed": true
   },
   "outputs": [],
   "source": [
    "#connect E to I in net\n",
    "net.add_edges(source=net.nodes(pop_name = 'excitatory'),\n",
    "              target= net.nodes(pop_name = 'inhibitory'),\n",
    "              syn_weight=0.005, \n",
    "              delay=0.002, \n",
    "              nsyns=20,\n",
    "              dynamics_params='ExcToInh.json')\n",
    "#build net\n",
    "net.build()\n",
    "\n",
    "#Specify filename to save to\n",
    "edge_types_file   = directory_name + 'edge_types.csv'\n",
    "\n",
    "#Save edge parameters\n",
    "net.save_edges(edges_file_name='edges.h5', edge_types_file_name='edge_types.csv', output_dir=directory_name)"
   ]
  },
  {
   "cell_type": "markdown",
   "metadata": {},
   "source": [
    "<div style=\"border-left: 3px solid #000; padding: 1px; padding-left: 10px; background: #F0FAFF; \">\n",
    "\n",
    "<h2> 5) Run simulation </h2></div>"
   ]
  },
  {
   "cell_type": "markdown",
   "metadata": {},
   "source": [
    "<div style=\"border-left: 3px solid #000; padding: 1px; padding-left: 10px; background: #F0FAFF; \">\n",
    "\n",
    "<h2> Config file </h2>\n",
    "<p>At this point, we have created and saved a bunch of files (nodes, edges etc.). All of this needs to be integrated together, which is what is done in a config file. A default config file ('config.json') has already been created for us that contains:\n",
    "<p>1) runtime settings for the simulation in 'run'. We will see below how to change the default settings.\n",
    "<p>2) filenames for the different nodes and edges (we used these names keeping the directory structure specified here)\n",
    "<p>3) filenames for where the output should be stored.\n",
    "<p>Feel free to also look at the config file directly as it will look better than the print function below.</div>"
   ]
  },
  {
   "cell_type": "code",
   "execution_count": 15,
   "metadata": {
    "collapsed": true
   },
   "outputs": [
    {
     "name": "stdout",
     "output_type": "stream",
     "text": [
      "{'components': {'population_models_dir': '/home/kaeld/Workspace/SWDB_2018/DynamicBrain/solutions/Modeling/popnet/components/pop_models',\n",
      "                'synaptic_models_dir': '/home/kaeld/Workspace/SWDB_2018/DynamicBrain/solutions/Modeling/popnet/components/synaptic_models'},\n",
      " 'config_dir': '/home/kaeld/Workspace/SWDB_2018/DynamicBrain/solutions/Modeling/popnet',\n",
      " 'config_path': '/home/kaeld/Workspace/SWDB_2018/DynamicBrain/solutions/Modeling/popnet/config.json',\n",
      " 'inputs': {'Ext_pop_rates': {'input_type': 'csv',\n",
      "                              'module': 'pop_rates',\n",
      "                              'node_set': 'Ext_input',\n",
      "                              'rates': '/home/kaeld/Workspace/SWDB_2018/DynamicBrain/solutions/Modeling/popnet/input_rates.csv'}},\n",
      " 'manifest': {'$BASE_DIR': '/home/kaeld/Workspace/SWDB_2018/DynamicBrain/solutions/Modeling/popnet',\n",
      "              '$MODELS_DIR': '/home/kaeld/Workspace/SWDB_2018/DynamicBrain/solutions/Modeling/popnet/components',\n",
      "              '$NETWORK_DIR': '/home/kaeld/Workspace/SWDB_2018/DynamicBrain/solutions/Modeling/popnet/network',\n",
      "              '$OUTPUT_DIR': '/home/kaeld/Workspace/SWDB_2018/DynamicBrain/solutions/Modeling/popnet/output',\n",
      "              '$configdir': '/home/kaeld/Workspace/SWDB_2018/DynamicBrain/solutions/Modeling/popnet',\n",
      "              '$configfname': '/home/kaeld/Workspace/SWDB_2018/DynamicBrain/solutions/Modeling/popnet/config.json',\n",
      "              '$date': '2018-06-21',\n",
      "              '$datetime': '2018-06-21_19-02-41',\n",
      "              '$time': '19-02-41',\n",
      "              '$workingdir': '/home/kaeld/Workspace/SWDB_2018/DynamicBrain/solutions/Modeling'},\n",
      " 'networks': {'edges': [{'edge_types_file': '/home/kaeld/Workspace/SWDB_2018/DynamicBrain/solutions/Modeling/popnet/network/recurrent_network/edge_types.csv',\n",
      "                         'edges_file': '/home/kaeld/Workspace/SWDB_2018/DynamicBrain/solutions/Modeling/popnet/network/recurrent_network/edges.h5'},\n",
      "                        {'edge_types_file': '/home/kaeld/Workspace/SWDB_2018/DynamicBrain/solutions/Modeling/popnet/network/source_input/edge_types.csv',\n",
      "                         'edges_file': '/home/kaeld/Workspace/SWDB_2018/DynamicBrain/solutions/Modeling/popnet/network/source_input/edges.h5'}],\n",
      "              'nodes': [{'node_types_file': '/home/kaeld/Workspace/SWDB_2018/DynamicBrain/solutions/Modeling/popnet/network/recurrent_network/node_types.csv',\n",
      "                         'nodes_file': '/home/kaeld/Workspace/SWDB_2018/DynamicBrain/solutions/Modeling/popnet/network/recurrent_network/nodes.h5'},\n",
      "                        {'node_types_file': '/home/kaeld/Workspace/SWDB_2018/DynamicBrain/solutions/Modeling/popnet/network/source_input/node_types.csv',\n",
      "                         'nodes_file': '/home/kaeld/Workspace/SWDB_2018/DynamicBrain/solutions/Modeling/popnet/network/source_input/nodes.h5'}]},\n",
      " 'output': {'log_file': '/home/kaeld/Workspace/SWDB_2018/DynamicBrain/solutions/Modeling/popnet/output/logging.txt',\n",
      "            'rates_file': '/home/kaeld/Workspace/SWDB_2018/DynamicBrain/solutions/Modeling/popnet/output/spike_rates.txt'},\n",
      " 'run': {'dt': 0.0002, 'overwrite_output_dir': True, 'tstop': 3.0},\n",
      " 'target_simulator': 'DiPDE'}\n"
     ]
    }
   ],
   "source": [
    "from bmtk.simulator import popnet\n",
    "configure = popnet.config.from_json('config.json')\n",
    "pprint.pprint(configure)"
   ]
  },
  {
   "cell_type": "markdown",
   "metadata": {},
   "source": [
    "<div style=\"border-left: 3px solid #000; padding: 1px; padding-left: 10px; background: #F0FAFF; \">\n",
    "\n",
    "<h2> Run the simulation </h2></div>"
   ]
  },
  {
   "cell_type": "code",
   "execution_count": 16,
   "metadata": {
    "collapsed": true
   },
   "outputs": [
    {
     "name": "stdout",
     "output_type": "stream",
     "text": [
      "2018-06-21 19:02:42,969 [INFO] Building cells.\n"
     ]
    },
    {
     "name": "stderr",
     "output_type": "stream",
     "text": [
      "INFO:IOUtils:Building cells.\n"
     ]
    },
    {
     "name": "stdout",
     "output_type": "stream",
     "text": [
      "2018-06-21 19:02:42,972 [INFO] Building recurrent connections\n"
     ]
    },
    {
     "name": "stderr",
     "output_type": "stream",
     "text": [
      "INFO:IOUtils:Building recurrent connections\n"
     ]
    },
    {
     "name": "stdout",
     "output_type": "stream",
     "text": [
      "2018-06-21 19:02:42,977 [INFO] Build virtual cell stimulations for Ext_pop_rates\n"
     ]
    },
    {
     "name": "stderr",
     "output_type": "stream",
     "text": [
      "INFO:IOUtils:Build virtual cell stimulations for Ext_pop_rates\n"
     ]
    },
    {
     "name": "stdout",
     "output_type": "stream",
     "text": [
      "2018-06-21 19:02:44,973 [INFO] Network created.\n",
      "[<dipde.internals.internalpopulation.InternalPopulation object at 0x7f6e8ae937b8>, <dipde.internals.internalpopulation.InternalPopulation object at 0x7f6e8ae939e8>, <dipde.internals.externalpopulation.ExternalPopulation object at 0x7f6e8ae93cc0>]\n",
      "[<dipde.internals.connection.Connection object at 0x7f6e8ae93630>, <dipde.internals.connection.Connection object at 0x7f6e8ae29160>]\n",
      "running simulation...\n",
      "done simulation.\n"
     ]
    }
   ],
   "source": [
    "network = popnet.PopNetwork.from_config(configure)\n",
    "sim = popnet.PopSimulator.from_config(configure, network)\n",
    "sim.run()"
   ]
  },
  {
   "cell_type": "markdown",
   "metadata": {},
   "source": [
    "<div style=\"border-left: 3px solid #000; padding: 1px; padding-left: 10px; background: #F0FAFF; \">\n",
    "\n",
    "<h2> Analyze firing rate outputs of the E and I populations </h2></div>"
   ]
  },
  {
   "cell_type": "code",
   "execution_count": 17,
   "metadata": {
    "collapsed": true
   },
   "outputs": [
    {
     "data": {
      "image/png": "[encoded data removed]",
      "text/plain": [
       "<Figure size 432x288 with 1 Axes>"
      ]
     },
     "metadata": {},
     "output_type": "display_data"
    }
   ],
   "source": [
    "from bmtk.analyzer.visualization.spikes import plot_rates_popnet\n",
    "\n",
    "cells_file = 'network/recurrent_network/node_types.csv'\n",
    "rates_file = configure['output']['rates_file']\n",
    "plot_rates_popnet(cells_file,rates_file,model_keys='pop_name')"
   ]
  },
  {
   "cell_type": "markdown",
   "metadata": {},
   "source": [
    "<div style=\"border-left: 3px solid #000; padding: 1px; padding-left: 10px; background: #F0FAFF; \">\n",
    "\n",
    "<h2> Changing default parameters in the config </h2>\n",
    "\n",
    "<p> Let's see some simple examples of changing default parameters in the config file.</div>"
   ]
  },
  {
   "cell_type": "code",
   "execution_count": 18,
   "metadata": {
    "collapsed": true
   },
   "outputs": [],
   "source": [
    "#Change duration of simulation from 3 seconds to 0.5 seconds\n",
    "configure['run']['duration'] = 0.5"
   ]
  },
  {
   "cell_type": "markdown",
   "metadata": {},
   "source": [
    "<div style=\"border-left: 3px solid #000; padding: 1px; padding-left: 10px; background: #F0FAFF; \">\n",
    "\n",
    "<p> Change firing rate and membrane time constant of input excitatory population (Ext) after checking the default value </div> "
   ]
  },
  {
   "cell_type": "code",
   "execution_count": 19,
   "metadata": {
    "collapsed": true
   },
   "outputs": [
    {
     "name": "stdout",
     "output_type": "stream",
     "text": [
      "{'V1': {0: 0, 1: 1}, 'Ext_input': {0: 0}}\n",
      "15.0\n",
      "25.0\n",
      "0.0429\n",
      "0.2\n"
     ]
    }
   ],
   "source": [
    "#Get the default value of the input firing rate\n",
    "\n",
    "# print(network.get_population('input_filter', 0))\n",
    "\n",
    "print(network._nodeid2pop_map)\n",
    "input_pop = network.get_population('Ext_input', 0)\n",
    "print(input_pop.firing_rate)\n",
    "\n",
    "input_pop.firing_rate = 25.0  # firing rate in Hz\n",
    "print(input_pop.firing_rate)\n",
    "\n",
    "exc_pop = network.get_population('V1', 0)\n",
    "print(exc_pop['tau_m'])\n",
    "exc_pop['tau_m'] = 0.2\n",
    "print(exc_pop['tau_m'])\n"
   ]
  },
  {
   "cell_type": "code",
   "execution_count": 21,
   "metadata": {
    "collapsed": true
   },
   "outputs": [
    {
     "name": "stdout",
     "output_type": "stream",
     "text": [
      "[<dipde.internals.internalpopulation.InternalPopulation object at 0x7f6e8a6ede10>, <dipde.internals.internalpopulation.InternalPopulation object at 0x7f6e8a6edba8>, <dipde.internals.externalpopulation.ExternalPopulation object at 0x7f6e8a6edfd0>]\n",
      "[<dipde.internals.connection.Connection object at 0x7f6e8a6ed8d0>, <dipde.internals.connection.Connection object at 0x7f6e8a6eda20>]\n",
      "running simulation...\n",
      "done simulation.\n"
     ]
    }
   ],
   "source": [
    "# Rebuild network and run simulation using new config parameters \n",
    "network.rebuild()\n",
    "sim.run()"
   ]
  },
  {
   "cell_type": "code",
   "execution_count": 22,
   "metadata": {
    "collapsed": true
   },
   "outputs": [
    {
     "data": {
      "image/png": "[encoded data removed]",
      "text/plain": [
       "<Figure size 432x288 with 1 Axes>"
      ]
     },
     "metadata": {},
     "output_type": "display_data"
    }
   ],
   "source": [
    "#Analyze outputs for new config\n",
    "\n",
    "cells_file = 'network/recurrent_network/node_types.csv'\n",
    "rates_file = configure['output']['rates_file']\n",
    "plot_rates_popnet(cells_file,rates_file,model_keys='pop_name')"
   ]
  },
  {
   "cell_type": "markdown",
   "metadata": {},
   "source": [
    "<div style=\"background: #DFF0D8; border-radius: 3px; padding: 10px;\">\n",
    "\n",
    "<h3> Exercise 1.3 : </h3>\n",
    "\n",
    "<p>1) Add an I to E connection, \n",
    "<p>2) Save the edge,\n",
    "<p>3) Build the network,\n",
    "<p>4) Re-run the simulation to see how the outputs change.\n",
    "\n",
    "<h3>NOTE: Make sure that the weight of the inhibitory connection is negative </h3> </div>"
   ]
  },
  {
   "cell_type": "code",
   "execution_count": 27,
   "metadata": {
    "collapsed": true
   },
   "outputs": [
    {
     "data": {
      "text/html": [
       "<div>\n",
       "<style scoped>\n",
       "    .dataframe tbody tr th:only-of-type {\n",
       "        vertical-align: middle;\n",
       "    }\n",
       "\n",
       "    .dataframe tbody tr th {\n",
       "        vertical-align: top;\n",
       "    }\n",
       "\n",
       "    .dataframe thead th {\n",
       "        text-align: right;\n",
       "    }\n",
       "</style>\n",
       "<table border=\"1\" class=\"dataframe\">\n",
       "  <thead>\n",
       "    <tr style=\"text-align: right;\">\n",
       "      <th></th>\n",
       "      <th>edge_type_id</th>\n",
       "      <th>target_query</th>\n",
       "      <th>source_query</th>\n",
       "      <th>delay</th>\n",
       "      <th>syn_weight</th>\n",
       "      <th>dynamics_params</th>\n",
       "      <th>nsyns</th>\n",
       "    </tr>\n",
       "  </thead>\n",
       "  <tbody>\n",
       "    <tr>\n",
       "      <th>0</th>\n",
       "      <td>100</td>\n",
       "      <td>pop_name=='inhibitory'</td>\n",
       "      <td>pop_name=='excitatory'</td>\n",
       "      <td>0.002</td>\n",
       "      <td>0.005</td>\n",
       "      <td>ExcToInh.json</td>\n",
       "      <td>20</td>\n",
       "    </tr>\n",
       "    <tr>\n",
       "      <th>1</th>\n",
       "      <td>101</td>\n",
       "      <td>pop_name=='excitatory'</td>\n",
       "      <td>pop_name=='inhibitory'</td>\n",
       "      <td>0.002</td>\n",
       "      <td>-0.002</td>\n",
       "      <td>InhToExc.json</td>\n",
       "      <td>20</td>\n",
       "    </tr>\n",
       "    <tr>\n",
       "      <th>2</th>\n",
       "      <td>102</td>\n",
       "      <td>pop_name=='excitatory'</td>\n",
       "      <td>pop_name=='inhibitory'</td>\n",
       "      <td>0.002</td>\n",
       "      <td>-0.002</td>\n",
       "      <td>InhToExc.json</td>\n",
       "      <td>20</td>\n",
       "    </tr>\n",
       "    <tr>\n",
       "      <th>3</th>\n",
       "      <td>103</td>\n",
       "      <td>pop_name=='excitatory'</td>\n",
       "      <td>pop_name=='inhibitory'</td>\n",
       "      <td>0.002</td>\n",
       "      <td>-0.002</td>\n",
       "      <td>InhToExc.json</td>\n",
       "      <td>20</td>\n",
       "    </tr>\n",
       "    <tr>\n",
       "      <th>4</th>\n",
       "      <td>104</td>\n",
       "      <td>pop_name=='excitatory'</td>\n",
       "      <td>pop_name=='inhibitory'</td>\n",
       "      <td>0.002</td>\n",
       "      <td>-0.002</td>\n",
       "      <td>InhToExc.json</td>\n",
       "      <td>20</td>\n",
       "    </tr>\n",
       "    <tr>\n",
       "      <th>5</th>\n",
       "      <td>105</td>\n",
       "      <td>pop_name=='excitatory'</td>\n",
       "      <td>pop_name=='inhibitory'</td>\n",
       "      <td>0.002</td>\n",
       "      <td>-0.002</td>\n",
       "      <td>InhToExc.json</td>\n",
       "      <td>20</td>\n",
       "    </tr>\n",
       "  </tbody>\n",
       "</table>\n",
       "</div>"
      ],
      "text/plain": [
       "   edge_type_id            target_query            source_query  delay  \\\n",
       "0           100  pop_name=='inhibitory'  pop_name=='excitatory'  0.002   \n",
       "1           101  pop_name=='excitatory'  pop_name=='inhibitory'  0.002   \n",
       "2           102  pop_name=='excitatory'  pop_name=='inhibitory'  0.002   \n",
       "3           103  pop_name=='excitatory'  pop_name=='inhibitory'  0.002   \n",
       "4           104  pop_name=='excitatory'  pop_name=='inhibitory'  0.002   \n",
       "5           105  pop_name=='excitatory'  pop_name=='inhibitory'  0.002   \n",
       "\n",
       "   syn_weight dynamics_params  nsyns  \n",
       "0       0.005   ExcToInh.json     20  \n",
       "1      -0.002   InhToExc.json     20  \n",
       "2      -0.002   InhToExc.json     20  \n",
       "3      -0.002   InhToExc.json     20  \n",
       "4      -0.002   InhToExc.json     20  \n",
       "5      -0.002   InhToExc.json     20  "
      ]
     },
     "execution_count": 27,
     "metadata": {},
     "output_type": "execute_result"
    }
   ],
   "source": [
    "#connect I to E in net. You can specify edge params to be (id = 2, weight = -2 mV, delay = 5 ms\n",
    "#and nsysns = 20)\n",
    "#connect E to I in net\n",
    "net.add_edges(source=net.nodes(pop_name = 'inhibitory'),\n",
    "              target= net.nodes(pop_name = 'excitatory'),\n",
    "              syn_weight=-0.002, \n",
    "              delay=0.002, \n",
    "              nsyns=20,\n",
    "              dynamics_params='InhToExc.json')\n",
    "\n",
    "#Build net\n",
    "net.build()\n",
    "\n",
    "#Save edge parameters\n",
    "net.save_edges(edges_file_name='edges.h5', edge_types_file_name='edge_types.csv', output_dir=directory_name)\n",
    "\n",
    "#Display what is contained in the edge_types file that you just saved\n",
    "edge_types_DF = pd.read_csv('network/recurrent_network/edge_types2.csv', sep = ' ')\n",
    "edge_types_DF"
   ]
  },
  {
   "cell_type": "code",
   "execution_count": 29,
   "metadata": {
    "collapsed": true
   },
   "outputs": [
    {
     "name": "stdout",
     "output_type": "stream",
     "text": [
      "2018-06-21 19:14:34,797 [INFO] Building cells.\n",
      "2018-06-21 19:14:34,800 [INFO] Building recurrent connections\n",
      "2018-06-21 19:14:34,812 [INFO] Build virtual cell stimulations for Ext_pop_rates\n",
      "2018-06-21 19:14:34,828 [INFO] Network created.\n",
      "[<dipde.internals.internalpopulation.InternalPopulation object at 0x7f6e8ab82470>, <dipde.internals.internalpopulation.InternalPopulation object at 0x7f6e8ab825f8>, <dipde.internals.externalpopulation.ExternalPopulation object at 0x7f6e8ab828d0>]\n",
      "[<dipde.internals.connection.Connection object at 0x7f6e8ae56e80>, <dipde.internals.connection.Connection object at 0x7f6e8ab82d30>]\n",
      "running simulation...\n",
      "done simulation.\n"
     ]
    },
    {
     "data": {
      "image/png": "[encoded data removed]",
      "text/plain": [
       "<Figure size 432x288 with 1 Axes>"
      ]
     },
     "metadata": {},
     "output_type": "display_data"
    }
   ],
   "source": [
    "#Read in the config file and set run duration to 0.5 s\n",
    "configure = popnet.config.from_json('config.json')\n",
    "configure['run']['duration'] = 0.5\n",
    "\n",
    "network = popnet.PopNetwork.from_config(configure)\n",
    "sim = popnet.PopSimulator.from_config(configure, network)\n",
    "sim.run()\n",
    "\n",
    "#Analyze outputs\n",
    "plot_rates_popnet(cells_file,rates_file,model_keys='pop_name')"
   ]
  },
  {
   "cell_type": "markdown",
   "metadata": {},
   "source": [
    "<div style=\"background: #DFF0D8; border-radius: 3px; padding: 10px; \\\">\n",
    "<h2>Homework exercises:</h2>\n",
    "<p>1. Explore the directory structure created from this notebook that represents the network  \n",
    "<p>2. Explore the directory components that was created for you and contains more cell types  \n",
    "<p>3. Create a network with one E node and one (two) external population(s) providing excitatory (and/or inhibitory) inputs. Recurrently connect the E population to itself and simulate the network. Change the delay parameter for one of the edges and see if you are able to get oscillatory behavior.\n",
    "<p>4. So far, we have been working with a single synaptic weight. Try exploring network topologies with different distributions of synaptic weights (for example, Gaussian with a given mean and variance) and and compare changes in output firing rates\n",
    "</div>"
   ]
  },
  {
   "cell_type": "markdown",
   "metadata": {},
   "source": [
    "<div style=\"border-left: 3px solid #000; padding: 1px; padding-left: 10px; background: #F0FAFF; \\\">\n",
    "<h2>Project Ideas:</h2>\n",
    "<p>1. Compare visual responses between the Layer 4 model and Brain Observatory.  \n",
    "\n",
    "<p>2. Find an optimal kernel for converting spikes from the Layer 4 model to Ca2+ signal, to maximize the agreeement with the Brain Observatory data.  \n",
    "\n",
    "<p>3. Build a small-scale point-neuron network model receiving visual inputs; run simulations to explore visual responses.  \n",
    "\n",
    "<p>4. Build a small-scale point-neuron network; explore the effect of different connectivity rules on the spatio-temporal dynamics.  \n",
    "\n",
    "<p>5. Build a population-statistics DiPDE model analogous to the biophysical Layer 4 model.  Investigate whether similar dynamics can be obtained.  \n",
    "\n",
    "<p>6. Build a population-statistics DiPDE model of all cortical layers.  Explore cortical dynamics in simulations.  \n",
    "</div>"
   ]
  },
  {
   "cell_type": "code",
   "execution_count": null,
   "metadata": {},
   "outputs": [],
   "source": []
  }
 ],
 "metadata": {
  "anaconda-cloud": {},
  "kernelspec": {
   "display_name": "Python [conda env:friday-harbor-py36]",
   "language": "python",
   "name": "conda-env-friday-harbor-py36-py"
  },
  "language_info": {
   "codemirror_mode": {
    "name": "ipython",
    "version": 3
   },
   "file_extension": ".py",
   "mimetype": "text/x-python",
   "name": "python",
   "nbconvert_exporter": "python",
   "pygments_lexer": "ipython3",
   "version": "3.6.5"
  }
 },
 "nbformat": 4,
 "nbformat_minor": 2
}
