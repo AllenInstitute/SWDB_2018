{
 "cells": [
  {
   "cell_type": "markdown",
   "metadata": {},
   "source": [
    "<img src=\"../resources/cropped-SummerWorkshop_Header.png\">  \n",
    "\n",
    "<h1 align=\"center\">Visual Change Detection Behavior + Optical Physiology </h1> \n",
    "<h2 align=\"center\">Summer Workshop on the Dynamic Brain </h2> \n",
    "<h3 align=\"center\">Tuesday, August 21, 2018</h3> \n",
    "\n",
    "<img src=\"../resources/change_detection_schematic.png\" height=\"400\" width=\"400\">  \n"
   ]
  },
  {
   "cell_type": "markdown",
   "metadata": {},
   "source": [
    "This notebook will introduce you to the Visual Behavior pilot dataset. This pre-release dataset uses 2-photon calcium imaging (also called optical physiology or ophys) to measure neural activity in behaving mice, and was collected during piloting for the new Visual Behavior Brain Observatory. Production data collection for the Observatory will begin September 2018 and data will be publicly released in 2019. The insights obtained here at SWDB may help shape the collection of the production dataset. \n",
    "\n",
    "The change detection task consists of a series of image presentations. Each image flash is 250ms followed by 500ms of gray screen. The task for the mouse is to lick in a 750ms response window following a change in image identity. On each trial, a change time is scheduled. On go trials, a change in image identity occurs. On catch trials, no image change occurs (aka 'sham change'), and we measure false alarm rates in the same 750ms response window. Correct responses are rewarded and licks outside the response window result in a timeout.\n",
    "\n",
    "There are 8 natural scene images shown in each behavioral session, with 4 unique sets of 8 that can shown in different sessions. One of these image sets has been seen by the mouse many times during initial behavioral training, while the other 3 image sets are seen for the first time under the microscope. \n",
    "\n",
    "In this notebook, we will describe the dimensions of the dataset, the core components of each experimental session, and the tools for accessing and analyzing the data. \n",
    "\n",
    "You will be working with a single experimental session recorded in a specific cre line and visual area. Other students will have sessions with different areas, cre lines and stimulus sets. As you work through the exercises, compare results with your neighbors to see what the similarities and differences are.\n",
    "\n",
    "At the end of the notebook, you will compute a value for a metric called lifetime sparseness that measures each neuron's selectivity for stimulus identity, and take the mean across the population of neurons in your experiment session. We will collect the mean sparseness value from each student's unique experiment session to collectively make a plot that compares how sparseness varies across excitatory and inhibitory cell populations, and for stimulus sets that are novel or familiar to the mouse. "
   ]
  },
  {
   "cell_type": "markdown",
   "metadata": {},
   "source": [
    "** Outline:**\n",
    "1.\tExplore the dataset using the manifest file\n",
    "2.\tVisualBehaviorOphysDataset class – accessing data and metadata\n",
    "3.\tOptical physiology data – calcium traces and rois\n",
    "4.\tChange detection behavior data – running speed, licks, rewards, and visual stimuli\n",
    "5.\tTrials dataframe – structure for organizing behavior data by trials\n",
    "6.\tResponseAnalysis class – structures for analyzing cell responses by trials and stimulus flashes\n",
    "7.\tLifetime sparseness – computing a selectivity metric for responsive cells\n",
    "8.\tProject ideas\n"
   ]
  },
  {
   "cell_type": "markdown",
   "metadata": {},
   "source": [
    "<div style=\"background: #DFF0D8; border-radius: 3px; padding: 10px;\">\n",
    "\n",
    "<p>Let's get started\n",
    "\n",
    "</div>"
   ]
  },
  {
   "cell_type": "code",
   "execution_count": 1,
   "metadata": {
    "collapsed": false
   },
   "outputs": [],
   "source": [
    "# you will need these libraries for computation & data manipulation\n",
    "import os\n",
    "import numpy as np\n",
    "import pandas as pd\n",
    "\n",
    "# matplotlib is a standard python visualization package\n",
    "import matplotlib.pyplot as plt\n",
    "%matplotlib inline\n",
    "\n",
    "# seaborn is another library for statistical data visualization\n",
    "# seaborn style & context settings make plots pretty & legible\n",
    "import seaborn as sns\n",
    "sns.set_context('notebook', font_scale=1.5, rc={'lines.markeredgewidth': 2})\n",
    "sns.set_style('white')\n",
    "sns.set_palette('deep');\n",
    "\n",
    "# this makes print statements complaint with python 3 formatting\n",
    "from __future__ import print_function"
   ]
  },
  {
   "cell_type": "markdown",
   "metadata": {},
   "source": [
    "<div style=\"border-left: 3px solid #000; padding: 1px; padding-left: 10px; background: #F0FAFF; \">\n",
    "<p>The dimensions of the dataset are described in the manifest file. You can inspect the manifest to identify experiments of interest and their metadata. \n",
    "\n",
    "<p>The manifest file is located in the cache directory, along with the data itself. \n",
    "\n",
    "<p>Make sure your `cache_dir` is set properly, and complete the following task to load and inspect the `manifest_file`. </div>\n",
    "\n"
   ]
  },
  {
   "cell_type": "code",
   "execution_count": 2,
   "metadata": {
    "collapsed": true
   },
   "outputs": [],
   "source": [
    "# macOS/OS X\n",
    "# cache_dir = r'/Volumes/Brain2018/data/dynamic-brain-workshop/visual_behavior/'\n",
    "\n",
    "# Windows \n",
    "cache_dir = r'\\\\allen\\aibs\\informatics\\swdb2018\\visual_behavior'\n",
    "\n",
    "# Linux \n",
    "# cache_dir = r'/media/Brain2018/data/dynamic-brain-workshop/visual_behavior'\n",
    "\n",
    "# AWS\n",
    "# cache_dir = '/data/dynamic-brain-workshop/visual_behavior'"
   ]
  },
  {
   "cell_type": "markdown",
   "metadata": {},
   "source": [
    "<div style=\"background: #DFF0D8; border-radius: 3px; padding: 10px;\">\n",
    "<p>**Task 1.1:**  Get information about what's in the dataset \n",
    "\n",
    "<p>Read in 'visual_behavior_data_manifest.csv' using pandas and explore the columns to see the available visual areas, cre lines, and session types. \n",
    "\n",
    "</div>"
   ]
  },
  {
   "cell_type": "code",
   "execution_count": 3,
   "metadata": {
    "collapsed": true
   },
   "outputs": [],
   "source": [
    "manifest_file = 'visual_behavior_data_manifest.csv'"
   ]
  },
  {
   "cell_type": "code",
   "execution_count": 4,
   "metadata": {
    "collapsed": false
   },
   "outputs": [],
   "source": [
    "manifest = pd.read_csv(os.path.join(cache_dir,manifest_file))"
   ]
  },
  {
   "cell_type": "code",
   "execution_count": 5,
   "metadata": {
    "collapsed": false
   },
   "outputs": [
    {
     "data": {
      "text/html": [
       "<div>\n",
       "<style scoped>\n",
       "    .dataframe tbody tr th:only-of-type {\n",
       "        vertical-align: middle;\n",
       "    }\n",
       "\n",
       "    .dataframe tbody tr th {\n",
       "        vertical-align: top;\n",
       "    }\n",
       "\n",
       "    .dataframe thead th {\n",
       "        text-align: right;\n",
       "    }\n",
       "</style>\n",
       "<table border=\"1\" class=\"dataframe\">\n",
       "  <thead>\n",
       "    <tr style=\"text-align: right;\">\n",
       "      <th></th>\n",
       "      <th>experiment_id</th>\n",
       "      <th>experiment_container_id</th>\n",
       "      <th>targeted_structure</th>\n",
       "      <th>imaging_depth</th>\n",
       "      <th>cre_line</th>\n",
       "      <th>reporter_line</th>\n",
       "      <th>full_genotype</th>\n",
       "      <th>session_type</th>\n",
       "      <th>donor_id</th>\n",
       "      <th>specimen_id</th>\n",
       "      <th>experiment_date</th>\n",
       "    </tr>\n",
       "  </thead>\n",
       "  <tbody>\n",
       "    <tr>\n",
       "      <th>0</th>\n",
       "      <td>644942849</td>\n",
       "      <td>644919226</td>\n",
       "      <td>VISp</td>\n",
       "      <td>175</td>\n",
       "      <td>Vip-IRES-Cre</td>\n",
       "      <td>Ai148</td>\n",
       "      <td>Vip-IRES-Cre;Ai148</td>\n",
       "      <td>behavior_session_A</td>\n",
       "      <td>329071</td>\n",
       "      <td>596175193</td>\n",
       "      <td>10/24/2017 10:32</td>\n",
       "    </tr>\n",
       "    <tr>\n",
       "      <th>1</th>\n",
       "      <td>645035903</td>\n",
       "      <td>644919226</td>\n",
       "      <td>VISp</td>\n",
       "      <td>175</td>\n",
       "      <td>Vip-IRES-Cre</td>\n",
       "      <td>Ai148</td>\n",
       "      <td>Vip-IRES-Cre;Ai148</td>\n",
       "      <td>behavior_session_B</td>\n",
       "      <td>329071</td>\n",
       "      <td>596175193</td>\n",
       "      <td>10/25/2017 10:34</td>\n",
       "    </tr>\n",
       "    <tr>\n",
       "      <th>2</th>\n",
       "      <td>645086795</td>\n",
       "      <td>644919226</td>\n",
       "      <td>VISp</td>\n",
       "      <td>175</td>\n",
       "      <td>Vip-IRES-Cre</td>\n",
       "      <td>Ai148</td>\n",
       "      <td>Vip-IRES-Cre;Ai148</td>\n",
       "      <td>behavior_session_C</td>\n",
       "      <td>329071</td>\n",
       "      <td>596175193</td>\n",
       "      <td>10/26/2017 10:27</td>\n",
       "    </tr>\n",
       "    <tr>\n",
       "      <th>3</th>\n",
       "      <td>645362806</td>\n",
       "      <td>644919226</td>\n",
       "      <td>VISp</td>\n",
       "      <td>175</td>\n",
       "      <td>Vip-IRES-Cre</td>\n",
       "      <td>Ai148</td>\n",
       "      <td>Vip-IRES-Cre;Ai148</td>\n",
       "      <td>behavior_session_D</td>\n",
       "      <td>329071</td>\n",
       "      <td>596175193</td>\n",
       "      <td>10/30/2017 11:41</td>\n",
       "    </tr>\n",
       "    <tr>\n",
       "      <th>4</th>\n",
       "      <td>646922970</td>\n",
       "      <td>646555436</td>\n",
       "      <td>VISp</td>\n",
       "      <td>175</td>\n",
       "      <td>Vip-IRES-Cre</td>\n",
       "      <td>Ai148</td>\n",
       "      <td>Vip-IRES-Cre;Ai148</td>\n",
       "      <td>behavior_session_A</td>\n",
       "      <td>330982</td>\n",
       "      <td>596393048</td>\n",
       "      <td>11/7/2017 14:19</td>\n",
       "    </tr>\n",
       "  </tbody>\n",
       "</table>\n",
       "</div>"
      ],
      "text/plain": [
       "   experiment_id  experiment_container_id targeted_structure  imaging_depth  \\\n",
       "0      644942849                644919226               VISp            175   \n",
       "1      645035903                644919226               VISp            175   \n",
       "2      645086795                644919226               VISp            175   \n",
       "3      645362806                644919226               VISp            175   \n",
       "4      646922970                646555436               VISp            175   \n",
       "\n",
       "       cre_line reporter_line       full_genotype        session_type  \\\n",
       "0  Vip-IRES-Cre         Ai148  Vip-IRES-Cre;Ai148  behavior_session_A   \n",
       "1  Vip-IRES-Cre         Ai148  Vip-IRES-Cre;Ai148  behavior_session_B   \n",
       "2  Vip-IRES-Cre         Ai148  Vip-IRES-Cre;Ai148  behavior_session_C   \n",
       "3  Vip-IRES-Cre         Ai148  Vip-IRES-Cre;Ai148  behavior_session_D   \n",
       "4  Vip-IRES-Cre         Ai148  Vip-IRES-Cre;Ai148  behavior_session_A   \n",
       "\n",
       "   donor_id  specimen_id   experiment_date  \n",
       "0    329071    596175193  10/24/2017 10:32  \n",
       "1    329071    596175193  10/25/2017 10:34  \n",
       "2    329071    596175193  10/26/2017 10:27  \n",
       "3    329071    596175193  10/30/2017 11:41  \n",
       "4    330982    596393048   11/7/2017 14:19  "
      ]
     },
     "execution_count": 5,
     "metadata": {},
     "output_type": "execute_result"
    }
   ],
   "source": [
    "manifest.head()"
   ]
  },
  {
   "cell_type": "code",
   "execution_count": 6,
   "metadata": {
    "collapsed": false
   },
   "outputs": [
    {
     "name": "stdout",
     "output_type": "stream",
     "text": [
      "targeted structures: ['VISp' 'VISal']\n",
      "cre_lines: ['Vip-IRES-Cre' 'Slc17a7-IRES2-Cre']\n",
      "stimulus_types: ['behavior_session_A' 'behavior_session_B' 'behavior_session_C'\n",
      " 'behavior_session_D']\n"
     ]
    }
   ],
   "source": [
    "print('targeted structures:', manifest.targeted_structure.unique())\n",
    "print('cre_lines:', manifest.cre_line.unique())\n",
    "print('stimulus_types:', manifest.session_type.unique())"
   ]
  },
  {
   "cell_type": "markdown",
   "metadata": {},
   "source": [
    "<div style=\"background: #DFF0D8; border-radius: 3px; padding: 10px;\">\n",
    "<p>**Task 1.2:**  Everyone gets an experiment! \n",
    "\n",
    "<p>Get your experiment ID and assign it to a variable called `experiment_id`\n",
    "\n",
    "<p>What is the `targeted_structure`, `cre_line` and `session_type` for your `experiment_id`? \n",
    "\n",
    "</div>"
   ]
  },
  {
   "cell_type": "code",
   "execution_count": 7,
   "metadata": {
    "collapsed": true
   },
   "outputs": [],
   "source": [
    "experiment_id = 715887471"
   ]
  },
  {
   "cell_type": "code",
   "execution_count": 8,
   "metadata": {
    "collapsed": false
   },
   "outputs": [
    {
     "data": {
      "text/html": [
       "<div>\n",
       "<style scoped>\n",
       "    .dataframe tbody tr th:only-of-type {\n",
       "        vertical-align: middle;\n",
       "    }\n",
       "\n",
       "    .dataframe tbody tr th {\n",
       "        vertical-align: top;\n",
       "    }\n",
       "\n",
       "    .dataframe thead th {\n",
       "        text-align: right;\n",
       "    }\n",
       "</style>\n",
       "<table border=\"1\" class=\"dataframe\">\n",
       "  <thead>\n",
       "    <tr style=\"text-align: right;\">\n",
       "      <th></th>\n",
       "      <th>experiment_id</th>\n",
       "      <th>experiment_container_id</th>\n",
       "      <th>targeted_structure</th>\n",
       "      <th>imaging_depth</th>\n",
       "      <th>cre_line</th>\n",
       "      <th>reporter_line</th>\n",
       "      <th>full_genotype</th>\n",
       "      <th>session_type</th>\n",
       "      <th>donor_id</th>\n",
       "      <th>specimen_id</th>\n",
       "      <th>experiment_date</th>\n",
       "    </tr>\n",
       "  </thead>\n",
       "  <tbody>\n",
       "    <tr>\n",
       "      <th>49</th>\n",
       "      <td>715887471</td>\n",
       "      <td>715094648</td>\n",
       "      <td>VISal</td>\n",
       "      <td>175</td>\n",
       "      <td>Slc17a7-IRES2-Cre</td>\n",
       "      <td>Camk2a-tTA;Ai93</td>\n",
       "      <td>Slc17a7-IRES2-Cre;Camk2a-tTA;Ai93</td>\n",
       "      <td>behavior_session_B</td>\n",
       "      <td>384942</td>\n",
       "      <td>687987489</td>\n",
       "      <td>6/28/2018 15:34</td>\n",
       "    </tr>\n",
       "  </tbody>\n",
       "</table>\n",
       "</div>"
      ],
      "text/plain": [
       "    experiment_id  experiment_container_id targeted_structure  imaging_depth  \\\n",
       "49      715887471                715094648              VISal            175   \n",
       "\n",
       "             cre_line    reporter_line                      full_genotype  \\\n",
       "49  Slc17a7-IRES2-Cre  Camk2a-tTA;Ai93  Slc17a7-IRES2-Cre;Camk2a-tTA;Ai93   \n",
       "\n",
       "          session_type  donor_id  specimen_id  experiment_date  \n",
       "49  behavior_session_B    384942    687987489  6/28/2018 15:34  "
      ]
     },
     "execution_count": 8,
     "metadata": {},
     "output_type": "execute_result"
    }
   ],
   "source": [
    "manifest[manifest.experiment_id==experiment_id]"
   ]
  },
  {
   "cell_type": "markdown",
   "metadata": {},
   "source": [
    "<div style=\"background: #DFF0D8; border-radius: 3px; padding: 10px;\">\n",
    "<p>**Task 1.3:**  What is in an experiment container? \n",
    "\n",
    "<p>The experiment container describes a set of experiment sessions performed at the same location (targeted area and imaging depth) in the same mouse that targets the same set of cells. All the sessions in an experiment container have a common `experiment_container_id`.\n",
    "\n",
    "<p>Get a the `experiment_container_id` for your `experiment_id` and find out what other sessions were recorded at that same location.\n",
    "\n",
    "<p>Do all experiment containers have the same number of sessions associated with them? \n",
    "</div>"
   ]
  },
  {
   "cell_type": "code",
   "execution_count": 9,
   "metadata": {
    "collapsed": false
   },
   "outputs": [
    {
     "name": "stdout",
     "output_type": "stream",
     "text": [
      "715094648\n"
     ]
    }
   ],
   "source": [
    "experiment_container_id = manifest[manifest.experiment_id==experiment_id].experiment_container_id.values[0]\n",
    "print(experiment_container_id)"
   ]
  },
  {
   "cell_type": "code",
   "execution_count": 10,
   "metadata": {
    "collapsed": false
   },
   "outputs": [
    {
     "data": {
      "text/html": [
       "<div>\n",
       "<style scoped>\n",
       "    .dataframe tbody tr th:only-of-type {\n",
       "        vertical-align: middle;\n",
       "    }\n",
       "\n",
       "    .dataframe tbody tr th {\n",
       "        vertical-align: top;\n",
       "    }\n",
       "\n",
       "    .dataframe thead th {\n",
       "        text-align: right;\n",
       "    }\n",
       "</style>\n",
       "<table border=\"1\" class=\"dataframe\">\n",
       "  <thead>\n",
       "    <tr style=\"text-align: right;\">\n",
       "      <th></th>\n",
       "      <th>experiment_id</th>\n",
       "      <th>experiment_container_id</th>\n",
       "      <th>targeted_structure</th>\n",
       "      <th>imaging_depth</th>\n",
       "      <th>cre_line</th>\n",
       "      <th>reporter_line</th>\n",
       "      <th>full_genotype</th>\n",
       "      <th>session_type</th>\n",
       "      <th>donor_id</th>\n",
       "      <th>specimen_id</th>\n",
       "      <th>experiment_date</th>\n",
       "    </tr>\n",
       "  </thead>\n",
       "  <tbody>\n",
       "    <tr>\n",
       "      <th>48</th>\n",
       "      <td>715228642</td>\n",
       "      <td>715094648</td>\n",
       "      <td>VISal</td>\n",
       "      <td>175</td>\n",
       "      <td>Slc17a7-IRES2-Cre</td>\n",
       "      <td>Camk2a-tTA;Ai93</td>\n",
       "      <td>Slc17a7-IRES2-Cre;Camk2a-tTA;Ai93</td>\n",
       "      <td>behavior_session_A</td>\n",
       "      <td>384942</td>\n",
       "      <td>687987489</td>\n",
       "      <td>6/27/2018 13:08</td>\n",
       "    </tr>\n",
       "    <tr>\n",
       "      <th>49</th>\n",
       "      <td>715887471</td>\n",
       "      <td>715094648</td>\n",
       "      <td>VISal</td>\n",
       "      <td>175</td>\n",
       "      <td>Slc17a7-IRES2-Cre</td>\n",
       "      <td>Camk2a-tTA;Ai93</td>\n",
       "      <td>Slc17a7-IRES2-Cre;Camk2a-tTA;Ai93</td>\n",
       "      <td>behavior_session_B</td>\n",
       "      <td>384942</td>\n",
       "      <td>687987489</td>\n",
       "      <td>6/28/2018 15:34</td>\n",
       "    </tr>\n",
       "    <tr>\n",
       "      <th>50</th>\n",
       "      <td>716337289</td>\n",
       "      <td>715094648</td>\n",
       "      <td>VISal</td>\n",
       "      <td>175</td>\n",
       "      <td>Slc17a7-IRES2-Cre</td>\n",
       "      <td>Camk2a-tTA;Ai93</td>\n",
       "      <td>Slc17a7-IRES2-Cre;Camk2a-tTA;Ai93</td>\n",
       "      <td>behavior_session_C</td>\n",
       "      <td>384942</td>\n",
       "      <td>687987489</td>\n",
       "      <td>6/29/2018 14:27</td>\n",
       "    </tr>\n",
       "    <tr>\n",
       "      <th>51</th>\n",
       "      <td>716602547</td>\n",
       "      <td>715094648</td>\n",
       "      <td>VISal</td>\n",
       "      <td>175</td>\n",
       "      <td>Slc17a7-IRES2-Cre</td>\n",
       "      <td>Camk2a-tTA;Ai93</td>\n",
       "      <td>Slc17a7-IRES2-Cre;Camk2a-tTA;Ai93</td>\n",
       "      <td>behavior_session_D</td>\n",
       "      <td>384942</td>\n",
       "      <td>687987489</td>\n",
       "      <td>7/2/2018 14:58</td>\n",
       "    </tr>\n",
       "  </tbody>\n",
       "</table>\n",
       "</div>"
      ],
      "text/plain": [
       "    experiment_id  experiment_container_id targeted_structure  imaging_depth  \\\n",
       "48      715228642                715094648              VISal            175   \n",
       "49      715887471                715094648              VISal            175   \n",
       "50      716337289                715094648              VISal            175   \n",
       "51      716602547                715094648              VISal            175   \n",
       "\n",
       "             cre_line    reporter_line                      full_genotype  \\\n",
       "48  Slc17a7-IRES2-Cre  Camk2a-tTA;Ai93  Slc17a7-IRES2-Cre;Camk2a-tTA;Ai93   \n",
       "49  Slc17a7-IRES2-Cre  Camk2a-tTA;Ai93  Slc17a7-IRES2-Cre;Camk2a-tTA;Ai93   \n",
       "50  Slc17a7-IRES2-Cre  Camk2a-tTA;Ai93  Slc17a7-IRES2-Cre;Camk2a-tTA;Ai93   \n",
       "51  Slc17a7-IRES2-Cre  Camk2a-tTA;Ai93  Slc17a7-IRES2-Cre;Camk2a-tTA;Ai93   \n",
       "\n",
       "          session_type  donor_id  specimen_id  experiment_date  \n",
       "48  behavior_session_A    384942    687987489  6/27/2018 13:08  \n",
       "49  behavior_session_B    384942    687987489  6/28/2018 15:34  \n",
       "50  behavior_session_C    384942    687987489  6/29/2018 14:27  \n",
       "51  behavior_session_D    384942    687987489   7/2/2018 14:58  "
      ]
     },
     "execution_count": 10,
     "metadata": {},
     "output_type": "execute_result"
    }
   ],
   "source": [
    "manifest[manifest.experiment_container_id==experiment_container_id]"
   ]
  },
  {
   "cell_type": "code",
   "execution_count": 11,
   "metadata": {
    "collapsed": false
   },
   "outputs": [
    {
     "data": {
      "text/plain": [
       "experiment_container_id\n",
       "639001089    4\n",
       "644919226    4\n",
       "646555436    4\n",
       "648562391    3\n",
       "652784528    3\n",
       "661409179    4\n",
       "670266085    4\n",
       "682951696    2\n",
       "692315205    4\n",
       "695444116    4\n",
       "700821114    4\n",
       "712038821    4\n",
       "715027436    4\n",
       "715094648    4\n",
       "719538773    4\n",
       "719860866    4\n",
       "dtype: int64"
      ]
     },
     "execution_count": 11,
     "metadata": {},
     "output_type": "execute_result"
    }
   ],
   "source": [
    "manifest.groupby('experiment_container_id').size()"
   ]
  },
  {
   "cell_type": "markdown",
   "metadata": {},
   "source": [
    "<div style=\"border-left: 3px solid #000; padding: 1px; padding-left: 10px; background: #F0FAFF; \">\n",
    "<h2>The VisualBehaviorOphysDataset object</h2>\n",
    "<p>The dataset object contains all the data and metadata for a single experiment session, including dF/F traces, behavior data, and timing information. \n",
    "\n",
    "<p>Provide your `experiment_id` and your `cache_dir` to load the data for an experiment. \n",
    "\n",
    "<p>Use help to see what functions are contained in the `VisualBehaviorOphysDataset` class. \n",
    "\n",
    "<p>**Note: experiment data is loaded upon initialization of the class. Data can be accessed directly as an attribute of the class (ex: rewards = dataset.rewards) or by using 'get' functions (ex: rewards = dataset.get_rewards()). \n",
    "\n",
    "</div>"
   ]
  },
  {
   "cell_type": "code",
   "execution_count": 12,
   "metadata": {
    "collapsed": false
   },
   "outputs": [],
   "source": [
    "# import visual behavior dataset class from the visual_behavior package\n",
    "from visual_behavior.ophys.dataset.visual_behavior_ophys_dataset import VisualBehaviorOphysDataset"
   ]
  },
  {
   "cell_type": "code",
   "execution_count": 13,
   "metadata": {
    "collapsed": false,
    "scrolled": true
   },
   "outputs": [],
   "source": [
    "dataset= VisualBehaviorOphysDataset(experiment_id, cache_dir=cache_dir)"
   ]
  },
  {
   "cell_type": "code",
   "execution_count": 14,
   "metadata": {
    "collapsed": false
   },
   "outputs": [
    {
     "name": "stdout",
     "output_type": "stream",
     "text": [
      "Help on class VisualBehaviorOphysDataset in module visual_behavior.ophys.dataset.visual_behavior_ophys_dataset:\n",
      "\n",
      "class VisualBehaviorOphysDataset(__builtin__.object)\n",
      " |  Methods defined here:\n",
      " |  \n",
      " |  __init__(self, experiment_id, cache_dir=None)\n",
      " |      Initialize visual behavior ophys experiment dataset.\n",
      " |          Loads experiment data from cache_dir, including dF/F traces, roi masks, stimulus metadata, running speed, licks, rewards, and metadata.\n",
      " |      \n",
      " |          All available experiment data is read upon initialization of the object.\n",
      " |          Data can be accessed directly as attributes of the class (ex: dff_traces = dataset.dff_traces) or by using functions (ex: dff_traces = dataset.get_dff_traces()\n",
      " |      \n",
      " |      Parameters\n",
      " |      ----------\n",
      " |      experiment_id : ophys experiment ID\n",
      " |      cache_dir : directory where data files are located\n",
      " |  \n",
      " |  get_analysis_dir(self)\n",
      " |  \n",
      " |  get_cache_dir(self)\n",
      " |  \n",
      " |  get_cell_index_for_cell_specimen_id(self, cell_specimen_id)\n",
      " |  \n",
      " |  get_cell_indices(self)\n",
      " |  \n",
      " |  get_cell_specimen_id_for_cell_index(self, cell_index)\n",
      " |  \n",
      " |  get_cell_specimen_ids(self)\n",
      " |  \n",
      " |  get_dff_traces(self)\n",
      " |  \n",
      " |  get_licks(self)\n",
      " |  \n",
      " |  get_max_projection(self)\n",
      " |  \n",
      " |  get_metadata(self)\n",
      " |  \n",
      " |  get_motion_correction(self)\n",
      " |  \n",
      " |  get_rewards(self)\n",
      " |  \n",
      " |  get_roi_mask_array(self)\n",
      " |  \n",
      " |  get_roi_mask_dict(self)\n",
      " |  \n",
      " |  get_roi_metrics(self)\n",
      " |  \n",
      " |  get_running_speed(self)\n",
      " |  \n",
      " |  get_stimulus_metadata(self)\n",
      " |  \n",
      " |  get_stimulus_table(self)\n",
      " |  \n",
      " |  get_stimulus_template(self)\n",
      " |  \n",
      " |  get_task_parameters(self)\n",
      " |  \n",
      " |  get_timestamps(self)\n",
      " |  \n",
      " |  get_timestamps_ophys(self)\n",
      " |  \n",
      " |  get_timestamps_stimulus(self)\n",
      " |  \n",
      " |  get_trials(self)\n",
      " |  \n",
      " |  ----------------------------------------------------------------------\n",
      " |  Data descriptors defined here:\n",
      " |  \n",
      " |  __dict__\n",
      " |      dictionary for instance variables (if defined)\n",
      " |  \n",
      " |  __weakref__\n",
      " |      list of weak references to the object (if defined)\n",
      "\n"
     ]
    }
   ],
   "source": [
    "help(VisualBehaviorOphysDataset)"
   ]
  },
  {
   "cell_type": "markdown",
   "metadata": {},
   "source": [
    "<div style=\"background: #DFF0D8; border-radius: 3px; padding: 10px;\">\n",
    "<p>**Task 2.1:**  What is an experiment dataset? \n",
    "\n",
    "<p>Use tab completion to see what is in the dataset object for an experiment session\n",
    "\n",
    "<p>What is in the `metadata` attribute? Make sure it matches what you found in the manifest for this `experiment_id`.\n",
    "\n",
    "</div>\n"
   ]
  },
  {
   "cell_type": "code",
   "execution_count": 15,
   "metadata": {
    "collapsed": false
   },
   "outputs": [
    {
     "data": {
      "text/html": [
       "<div>\n",
       "<style scoped>\n",
       "    .dataframe tbody tr th:only-of-type {\n",
       "        vertical-align: middle;\n",
       "    }\n",
       "\n",
       "    .dataframe tbody tr th {\n",
       "        vertical-align: top;\n",
       "    }\n",
       "\n",
       "    .dataframe thead th {\n",
       "        text-align: right;\n",
       "    }\n",
       "</style>\n",
       "<table border=\"1\" class=\"dataframe\">\n",
       "  <thead>\n",
       "    <tr style=\"text-align: right;\">\n",
       "      <th></th>\n",
       "      <th>ophys_experiment_id</th>\n",
       "      <th>experiment_container_id</th>\n",
       "      <th>targeted_structure</th>\n",
       "      <th>imaging_depth</th>\n",
       "      <th>cre_line</th>\n",
       "      <th>reporter_line</th>\n",
       "      <th>full_genotype</th>\n",
       "      <th>session_type</th>\n",
       "      <th>donor_id</th>\n",
       "      <th>experiment_date</th>\n",
       "      <th>specimen_id</th>\n",
       "      <th>ophys_frame_rate</th>\n",
       "      <th>stimulus_frame_rate</th>\n",
       "    </tr>\n",
       "  </thead>\n",
       "  <tbody>\n",
       "    <tr>\n",
       "      <th>715887471</th>\n",
       "      <td>715887471</td>\n",
       "      <td>715094648</td>\n",
       "      <td>VISal</td>\n",
       "      <td>175</td>\n",
       "      <td>Slc17a7-IRES2-Cre</td>\n",
       "      <td>Camk2a-tTA;Ai93</td>\n",
       "      <td>Slc17a7-IRES2-Cre;Camk2a-tTA;Ai93</td>\n",
       "      <td>behavior_session_B</td>\n",
       "      <td>384942</td>\n",
       "      <td>2018-06-28</td>\n",
       "      <td>687987489</td>\n",
       "      <td>31.0</td>\n",
       "      <td>60.0</td>\n",
       "    </tr>\n",
       "  </tbody>\n",
       "</table>\n",
       "</div>"
      ],
      "text/plain": [
       "          ophys_experiment_id  experiment_container_id targeted_structure  \\\n",
       "715887471           715887471                715094648              VISal   \n",
       "\n",
       "           imaging_depth           cre_line    reporter_line  \\\n",
       "715887471            175  Slc17a7-IRES2-Cre  Camk2a-tTA;Ai93   \n",
       "\n",
       "                               full_genotype        session_type  donor_id  \\\n",
       "715887471  Slc17a7-IRES2-Cre;Camk2a-tTA;Ai93  behavior_session_B    384942   \n",
       "\n",
       "          experiment_date  specimen_id  ophys_frame_rate  stimulus_frame_rate  \n",
       "715887471      2018-06-28    687987489              31.0                 60.0  "
      ]
     },
     "execution_count": 15,
     "metadata": {},
     "output_type": "execute_result"
    }
   ],
   "source": [
    "dataset.metadata"
   ]
  },
  {
   "cell_type": "code",
   "execution_count": 16,
   "metadata": {
    "collapsed": false
   },
   "outputs": [
    {
     "name": "stdout",
     "output_type": "stream",
     "text": [
      "targeted_structure: VISal\n",
      "cre line: Slc17a7-IRES2-Cre\n",
      "imaging_depth: 175\n"
     ]
    }
   ],
   "source": [
    "# make sure this is the experiment you selected\n",
    "print('targeted_structure:', dataset.metadata.targeted_structure.values[0])\n",
    "print('cre line:', dataset.metadata.cre_line.values[0])\n",
    "print('imaging_depth:', dataset.metadata.imaging_depth.values[0])"
   ]
  },
  {
   "cell_type": "markdown",
   "metadata": {},
   "source": [
    "<div style=\"border-left: 3px solid #000; padding: 1px; padding-left: 10px; background: #F0FAFF; \">\n",
    "<h2>Optical physiology data - max projection, fluorescence traces and roi masks</h2>\n",
    "\n",
    "<p>Let's use the dataset class to access neuron fluorescence timeseries, roi masks, and metadata\n",
    "\n",
    "</div>"
   ]
  },
  {
   "cell_type": "markdown",
   "metadata": {},
   "source": [
    "<div style=\"background: #DFF0D8; border-radius: 3px; padding: 10px;\">\n",
    "<p>**Exercise 2.2:** Get the maximum intensity projection image using the `max_projection` attribute for your dataset and display it. \n",
    "</div>"
   ]
  },
  {
   "cell_type": "code",
   "execution_count": 17,
   "metadata": {
    "collapsed": false
   },
   "outputs": [
    {
     "data": {
      "text/plain": [
       "(-0.5, 446.5, 511.5, -0.5)"
      ]
     },
     "execution_count": 17,
     "metadata": {},
     "output_type": "execute_result"
    },
    {
     "data": {
      "image/png": "[encoded data removed]",
      "text/plain": [
       "<matplotlib.figure.Figure at 0x18262940>"
      ]
     },
     "metadata": {},
     "output_type": "display_data"
    }
   ],
   "source": [
    "plt.imshow(dataset.max_projection,cmap='gray',)\n",
    "plt.axis('off')"
   ]
  },
  {
   "cell_type": "markdown",
   "metadata": {},
   "source": [
    "<div style=\"background: #DFF0D8; border-radius: 3px; padding: 10px;\">\n",
    "<p>**Task 2.3: Get dF/F traces and ophys timestamps**\n",
    "\n",
    "<p>Get the fluorescence traces and ophys timestamps. What are the dimensions?\n",
    "\n",
    "<p>`dff_traces` is an array where rows correspond to different cells that were imaged and columns correspond to frames of the 2P movie. `timestamps_ophys` is an array of timestamps for each 2P imaging frame. \n",
    "\n",
    "<p>**Note that there are two ways to access this information - by using functions, or directly as attributes of the dataset object. These two methods are shown below. \n",
    "\n",
    "</div>"
   ]
  },
  {
   "cell_type": "code",
   "execution_count": 18,
   "metadata": {
    "collapsed": true
   },
   "outputs": [],
   "source": [
    "# function method of accessing data\n",
    "timestamps_ophys, dff_traces = dataset.get_dff_traces()"
   ]
  },
  {
   "cell_type": "code",
   "execution_count": 19,
   "metadata": {
    "collapsed": false
   },
   "outputs": [
    {
     "name": "stdout",
     "output_type": "stream",
     "text": [
      "shape of dff_traces: (229L, 111696L)\n",
      "shape of timestamps_ophys: (111696L,)\n"
     ]
    }
   ],
   "source": [
    "print('shape of dff_traces:',dff_traces.shape)\n",
    "print('shape of timestamps_ophys:',timestamps_ophys.shape)"
   ]
  },
  {
   "cell_type": "code",
   "execution_count": 20,
   "metadata": {
    "collapsed": true
   },
   "outputs": [],
   "source": [
    "# attribute method of accesing data\n",
    "dff_traces = dataset.dff_traces\n",
    "timestamps_ophys = dataset.timestamps_ophys"
   ]
  },
  {
   "cell_type": "code",
   "execution_count": 21,
   "metadata": {
    "collapsed": false
   },
   "outputs": [
    {
     "name": "stdout",
     "output_type": "stream",
     "text": [
      "shape of dff_traces: (229L, 111696L)\n",
      "shape of timestamps_ophys: (111696L,)\n"
     ]
    }
   ],
   "source": [
    "# you can also skip the step of assigning the attribute to a variable and use the datasest attribute directly\n",
    "print('shape of dff_traces:',dataset.dff_traces.shape)\n",
    "print('shape of timestamps_ophys:',dataset.timestamps_ophys.shape)"
   ]
  },
  {
   "cell_type": "markdown",
   "metadata": {},
   "source": [
    "<div style=\"background: #DFF0D8; border-radius: 3px; padding: 10px;\">\n",
    "<p>**Exercise 2.4: Plot the dF/F trace for a cell**\n",
    "\n",
    "<p>Plot the dF/F trace for one cell by indexing into the `dff_traces` array. Use `timestamps_ophys` to plot the y_axis in seconds. \n",
    "\n",
    "<p>Try plotting the trace for a different cell.\n",
    "\n",
    "</div>"
   ]
  },
  {
   "cell_type": "code",
   "execution_count": 22,
   "metadata": {
    "collapsed": true
   },
   "outputs": [],
   "source": [
    "# pick a cell \n",
    "cell_index = 8"
   ]
  },
  {
   "cell_type": "code",
   "execution_count": 23,
   "metadata": {
    "collapsed": false
   },
   "outputs": [
    {
     "data": {
      "text/plain": [
       "<matplotlib.text.Text at 0x1854f390>"
      ]
     },
     "execution_count": 23,
     "metadata": {},
     "output_type": "execute_result"
    },
    {
     "data": {
      "image/png": "[encoded data removed]",
      "text/plain": [
       "<matplotlib.figure.Figure at 0x1852a0b8>"
      ]
     },
     "metadata": {},
     "output_type": "display_data"
    }
   ],
   "source": [
    "plt.plot(dataset.timestamps_ophys,dataset.dff_traces[cell_index])\n",
    "plt.xlabel('seconds')\n",
    "plt.ylabel('dF/F')"
   ]
  },
  {
   "cell_type": "markdown",
   "metadata": {},
   "source": [
    "<div style=\"background: #DFF0D8; border-radius: 3px; padding: 10px;\">\n",
    "<p>**Task 2.5: Going between `cell_index` and `cell_specimen_id`** \n",
    "<p>Get the `cell_specimen_id` for your `cell_index` using a function provided in the dataset class. \n",
    "\n",
    "<p>Is there a function to translate in the opposite direction?\n",
    "</div>"
   ]
  },
  {
   "cell_type": "code",
   "execution_count": 24,
   "metadata": {
    "collapsed": false
   },
   "outputs": [
    {
     "name": "stdout",
     "output_type": "stream",
     "text": [
      "715928902\n"
     ]
    }
   ],
   "source": [
    "cell_specimen_id = dataset.get_cell_specimen_id_for_cell_index(cell_index)\n",
    "print(cell_specimen_id)"
   ]
  },
  {
   "cell_type": "markdown",
   "metadata": {},
   "source": [
    "<div style=\"background: #DFF0D8; border-radius: 3px; padding: 10px;\">\n",
    "<p>**Exercise 2.6: Accessing roi masks two ways** \n",
    "\n",
    "<p>1) Plot the roi mask for that cell using `cell_specimen_id` and `roi_mask_dict`. \n",
    "\n",
    "<p>Hint: `cell_specimen_id` needs to be passed into `roi_mask_dict` as a string. \n",
    "\n",
    "<p>2) Alternatively, plot the roi mask for that cell using `roi_mask_array` and `cell_index`.\n",
    "</div>"
   ]
  },
  {
   "cell_type": "code",
   "execution_count": 25,
   "metadata": {
    "collapsed": false
   },
   "outputs": [
    {
     "data": {
      "image/png": "[encoded data removed]",
      "text/plain": [
       "<matplotlib.figure.Figure at 0x1854fc50>"
      ]
     },
     "metadata": {},
     "output_type": "display_data"
    }
   ],
   "source": [
    "# use cell_specimen_id for roi_mask_dict\n",
    "plt.imshow(dataset.roi_mask_dict[str(cell_specimen_id)])\n",
    "plt.grid('off')"
   ]
  },
  {
   "cell_type": "code",
   "execution_count": 26,
   "metadata": {
    "collapsed": false
   },
   "outputs": [
    {
     "data": {
      "image/png": "[encoded data removed]",
      "text/plain": [
       "<matplotlib.figure.Figure at 0xba027f0>"
      ]
     },
     "metadata": {},
     "output_type": "display_data"
    }
   ],
   "source": [
    "# use cell_index for roi_mask_array\n",
    "plt.imshow(dataset.roi_mask_array[cell_index])\n",
    "plt.grid('off')"
   ]
  },
  {
   "cell_type": "markdown",
   "metadata": {},
   "source": [
    "<div style=\"border-left: 3px solid #000; padding: 1px; padding-left: 10px; background: #F0FAFF; \">\n",
    "<h2>Behavior timeseries and events - running, licks, rewards, and visual stimuli </h2>\n",
    "<p>As the mouse performs the behavioral task, it is free to run on a disk. The task is a go/no-go style task with licking as the behavioral response. When a mouse correctly licks the water spout, a reward is delivered. \n",
    "\n",
    "<p>Running, licks and rewards are measured at the stimulus frame display rate and share timestamps with the stimulus. ",
    "</div>"
   ]
  },
  {
   "cell_type": "markdown",
   "metadata": {},
   "source": [
    "<div style=\"background: #DFF0D8; border-radius: 3px; padding: 10px;\">\n",
    "<p>**Task 3.1: Get running speed trace and timestamps** \n",
    "\n",
    "<p>Get the `running_speed` attribute of the dataset object. \n",
    "\n",
    "<p>Note that running speed is stored in a dataframe. What are the other columns of this dataframe? \n",
    "\n",
    "<p>Runnning speed shares timestamps with the visual stimulus. Compare the values of running timestamps from the `running_speed` dataframe with the values in the dataset attribute `timestamps_stimulus`. \n",
    "</div>"
   ]
  },
  {
   "cell_type": "code",
   "execution_count": 27,
   "metadata": {
    "collapsed": false
   },
   "outputs": [
    {
     "data": {
      "text/html": [
       "<div>\n",
       "<style scoped>\n",
       "    .dataframe tbody tr th:only-of-type {\n",
       "        vertical-align: middle;\n",
       "    }\n",
       "\n",
       "    .dataframe tbody tr th {\n",
       "        vertical-align: top;\n",
       "    }\n",
       "\n",
       "    .dataframe thead th {\n",
       "        text-align: right;\n",
       "    }\n",
       "</style>\n",
       "<table border=\"1\" class=\"dataframe\">\n",
       "  <thead>\n",
       "    <tr style=\"text-align: right;\">\n",
       "      <th></th>\n",
       "      <th>frame</th>\n",
       "      <th>running_speed</th>\n",
       "      <th>time</th>\n",
       "    </tr>\n",
       "  </thead>\n",
       "  <tbody>\n",
       "    <tr>\n",
       "      <th>0</th>\n",
       "      <td>0</td>\n",
       "      <td>5.810851</td>\n",
       "      <td>68.98893</td>\n",
       "    </tr>\n",
       "    <tr>\n",
       "      <th>1</th>\n",
       "      <td>1</td>\n",
       "      <td>5.933383</td>\n",
       "      <td>69.00560</td>\n",
       "    </tr>\n",
       "    <tr>\n",
       "      <th>2</th>\n",
       "      <td>2</td>\n",
       "      <td>6.065008</td>\n",
       "      <td>69.02230</td>\n",
       "    </tr>\n",
       "    <tr>\n",
       "      <th>3</th>\n",
       "      <td>3</td>\n",
       "      <td>7.099349</td>\n",
       "      <td>69.03895</td>\n",
       "    </tr>\n",
       "    <tr>\n",
       "      <th>4</th>\n",
       "      <td>4</td>\n",
       "      <td>8.990454</td>\n",
       "      <td>69.05565</td>\n",
       "    </tr>\n",
       "  </tbody>\n",
       "</table>\n",
       "</div>"
      ],
      "text/plain": [
       "   frame  running_speed      time\n",
       "0      0       5.810851  68.98893\n",
       "1      1       5.933383  69.00560\n",
       "2      2       6.065008  69.02230\n",
       "3      3       7.099349  69.03895\n",
       "4      4       8.990454  69.05565"
      ]
     },
     "execution_count": 27,
     "metadata": {},
     "output_type": "execute_result"
    }
   ],
   "source": [
    "dataset.running_speed.head()"
   ]
  },
  {
   "cell_type": "code",
   "execution_count": 28,
   "metadata": {
    "collapsed": false
   },
   "outputs": [
    {
     "name": "stdout",
     "output_type": "stream",
     "text": [
      "running speed timestamps: [   68.98893    69.0056     69.0223  ...,  3668.84796  3668.86462\n",
      "  3668.88133]\n"
     ]
    }
   ],
   "source": [
    "print('running speed timestamps:',dataset.running_speed.time.values)"
   ]
  },
  {
   "cell_type": "code",
   "execution_count": 29,
   "metadata": {
    "collapsed": false
   },
   "outputs": [
    {
     "name": "stdout",
     "output_type": "stream",
     "text": [
      "stimulus timestamps: [   68.98893    69.0056     69.0223  ...,  3668.84796  3668.86462\n",
      "  3668.88133]\n"
     ]
    }
   ],
   "source": [
    "print('stimulus timestamps:',dataset.timestamps_stimulus)"
   ]
  },
  {
   "cell_type": "markdown",
   "metadata": {},
   "source": [
    "<div style=\"background: #DFF0D8; border-radius: 3px; padding: 10px;\">\n",
    "<p>**Exercise 3.2: Plot running speed**\n",
    "\n",
    "<p>1) Plot the values for running speed from the `running_speed` column of the dataframe. \n",
    "\n",
    "<p>2) Plot the x-axis in seconds, using `timestamps_stimulus` or using the `time` column of the `running_speed` dataframe. \n",
    "\n",
    "<p>Running speed is measured in cm/s. Label the axes appropriately.\n",
    "</div>"
   ]
  },
  {
   "cell_type": "code",
   "execution_count": 30,
   "metadata": {
    "collapsed": false
   },
   "outputs": [
    {
     "data": {
      "text/plain": [
       "<matplotlib.text.Text at 0x1382a9e8>"
      ]
     },
     "execution_count": 30,
     "metadata": {},
     "output_type": "execute_result"
    },
    {
     "data": {
      "image/png": "[encoded data removed]",
      "text/plain": [
       "<matplotlib.figure.Figure at 0xb808978>"
      ]
     },
     "metadata": {},
     "output_type": "display_data"
    }
   ],
   "source": [
    "plt.plot(dataset.timestamps_stimulus,dataset.running_speed.running_speed.values)\n",
    "plt.xlabel('time (sec)')\n",
    "plt.ylabel('running speed (cm/s)')"
   ]
  },
  {
   "cell_type": "code",
   "execution_count": 31,
   "metadata": {
    "collapsed": false
   },
   "outputs": [
    {
     "data": {
      "text/plain": [
       "<matplotlib.text.Text at 0x135ec588>"
      ]
     },
     "execution_count": 31,
     "metadata": {},
     "output_type": "execute_result"
    },
    {
     "data": {
      "image/png": "[encoded data removed]",
      "text/plain": [
       "<matplotlib.figure.Figure at 0x1852a860>"
      ]
     },
     "metadata": {},
     "output_type": "display_data"
    }
   ],
   "source": [
    "plt.plot(dataset.running_speed.time.values,dataset.running_speed.running_speed.values)\n",
    "plt.xlabel('time (sec)')\n",
    "plt.ylabel('running speed (cm/s)')"
   ]
  },
  {
   "cell_type": "markdown",
   "metadata": {},
   "source": [
    "<div style=\"background: #DFF0D8; border-radius: 3px; padding: 10px;\">\n",
    "<p>**Exercise 3.3: Plot licking, reward times, and running trace on the same figure**\n",
    "    \n",
    "<p>1) Plot `running_speed` as above, but set xlims to focus on a 1 minute portion of the behavior session, from x=600 to x=660. \n",
    "\n",
    "<p>2) Plot `rewards` as points (not a line), at y = -10. Set marker='o' and linestyle='None'. Note that `rewards` is a dataframe. Use the values of the `time` column to get x-axis values to plot.\n",
    "\n",
    "<p>Hint: You will need to create an array of len(dataset.rewards.time.values) filled with -10 to use as y-axis values to plot. np.repeat() is a convenient function for this.\n",
    "\n",
    "<p>3) Plot `licking` times using plt.vlines() with ymin=-10 and ymax=-5. \n",
    "\n",
    "<p>4) Create a legend. Bonus: place the legend outside of the main figure.\n",
    "\n",
    "<p>What is the relationship between running, licking and rewards? \n",
    "</div>"
   ]
  },
  {
   "cell_type": "code",
   "execution_count": 32,
   "metadata": {
    "collapsed": false
   },
   "outputs": [
    {
     "data": {
      "text/plain": [
       "<matplotlib.legend.Legend at 0xb971358>"
      ]
     },
     "execution_count": 32,
     "metadata": {},
     "output_type": "execute_result"
    },
    {
     "data": {
      "image/png": "[encoded data removed]",
      "text/plain": [
       "<matplotlib.figure.Figure at 0x138448d0>"
      ]
     },
     "metadata": {},
     "output_type": "display_data"
    }
   ],
   "source": [
    "# plot running\n",
    "plt.plot(dataset.timestamps_stimulus,dataset.running_speed.running_speed.values)\n",
    "plt.xlim(600,660)\n",
    "# plot rewards\n",
    "reward_y_vals = np.repeat(-10,repeats=len(dataset.rewards.time.values))\n",
    "plt.plot(dataset.rewards.time.values,reward_y_vals,marker='o',linestyle='None',label='rewards',)\n",
    "# plot licks\n",
    "lick_y_vals = np.repeat(-10,repeats=len(dataset.licks.time.values))\n",
    "plt.vlines(dataset.licks.values, -10, -5, label='licks')\n",
    "\n",
    "plt.xlabel('time (sec)')\n",
    "plt.ylabel('running speed (cm/s)')\n",
    "plt.legend(loc=9, bbox_to_anchor=(1.2,1))"
   ]
  },
  {
   "cell_type": "markdown",
   "metadata": {},
   "source": [
    "<div style=\"background: #DFF0D8; border-radius: 3px; padding: 10px;\">\n",
    "<p>**Task 3.4: Get the stimulus table**\n",
    "\n",
    "<p>Get the `stimulus_table` attribute from the `dataset` object to identify the times of stimulus presentations. How many stimulus flashes were there? \n",
    "</div>"
   ]
  },
  {
   "cell_type": "code",
   "execution_count": 33,
   "metadata": {
    "collapsed": false
   },
   "outputs": [
    {
     "data": {
      "text/html": [
       "<div>\n",
       "<style scoped>\n",
       "    .dataframe tbody tr th:only-of-type {\n",
       "        vertical-align: middle;\n",
       "    }\n",
       "\n",
       "    .dataframe tbody tr th {\n",
       "        vertical-align: top;\n",
       "    }\n",
       "\n",
       "    .dataframe thead th {\n",
       "        text-align: right;\n",
       "    }\n",
       "</style>\n",
       "<table border=\"1\" class=\"dataframe\">\n",
       "  <thead>\n",
       "    <tr style=\"text-align: right;\">\n",
       "      <th></th>\n",
       "      <th>flash_number</th>\n",
       "      <th>start_time</th>\n",
       "      <th>end_time</th>\n",
       "      <th>image_name</th>\n",
       "    </tr>\n",
       "  </thead>\n",
       "  <tbody>\n",
       "    <tr>\n",
       "      <th>0</th>\n",
       "      <td>0</td>\n",
       "      <td>69.00560</td>\n",
       "      <td>69.25562</td>\n",
       "      <td>im047</td>\n",
       "    </tr>\n",
       "    <tr>\n",
       "      <th>1</th>\n",
       "      <td>1</td>\n",
       "      <td>69.75609</td>\n",
       "      <td>70.00626</td>\n",
       "      <td>im047</td>\n",
       "    </tr>\n",
       "    <tr>\n",
       "      <th>2</th>\n",
       "      <td>2</td>\n",
       "      <td>70.50666</td>\n",
       "      <td>70.75684</td>\n",
       "      <td>im047</td>\n",
       "    </tr>\n",
       "    <tr>\n",
       "      <th>3</th>\n",
       "      <td>3</td>\n",
       "      <td>71.25722</td>\n",
       "      <td>71.50744</td>\n",
       "      <td>im047</td>\n",
       "    </tr>\n",
       "    <tr>\n",
       "      <th>4</th>\n",
       "      <td>4</td>\n",
       "      <td>72.00789</td>\n",
       "      <td>72.25806</td>\n",
       "      <td>im047</td>\n",
       "    </tr>\n",
       "  </tbody>\n",
       "</table>\n",
       "</div>"
      ],
      "text/plain": [
       "   flash_number  start_time  end_time image_name\n",
       "0             0    69.00560  69.25562      im047\n",
       "1             1    69.75609  70.00626      im047\n",
       "2             2    70.50666  70.75684      im047\n",
       "3             3    71.25722  71.50744      im047\n",
       "4             4    72.00789  72.25806      im047"
      ]
     },
     "execution_count": 33,
     "metadata": {},
     "output_type": "execute_result"
    }
   ],
   "source": [
    "dataset.stimulus_table.head()"
   ]
  },
  {
   "cell_type": "code",
   "execution_count": 34,
   "metadata": {
    "collapsed": false
   },
   "outputs": [
    {
     "name": "stdout",
     "output_type": "stream",
     "text": [
      "number of stimulus presentations = 4585\n"
     ]
    }
   ],
   "source": [
    "print('number of stimulus presentations =',len(dataset.stimulus_table))"
   ]
  },
  {
   "cell_type": "markdown",
   "metadata": {},
   "source": [
    "<div style=\"background: #DFF0D8; border-radius: 3px; padding: 10px;\">\n",
    "<p>**Exercise 3.5: Plot visual stimulus presentations with behavior events**\n",
    "\n",
    "<p>1) Copy and paste your code from Exercise 3.3, but now set xlims to zoom in on a 20 second window from t=600 to t=620. \n",
    "\n",
    "<p>2) Plot stimulus presentations using the `start_time` and `end_time` columns of the `stimulus_table` with plt.axvspan(). Set alpha=0.3 & facecolor='gray'.\n",
    "\n",
    "<p>Hint: Loop through each row of the stimulus table to plot all stimulus flashes\n",
    "\n",
    "</div>"
   ]
  },
  {
   "cell_type": "code",
   "execution_count": 35,
   "metadata": {
    "collapsed": false
   },
   "outputs": [
    {
     "data": {
      "text/plain": [
       "<matplotlib.legend.Legend at 0x13683780>"
      ]
     },
     "execution_count": 35,
     "metadata": {},
     "output_type": "execute_result"
    },
    {
     "data": {
      "image/png": "[encoded data removed]",
      "text/plain": [
       "<matplotlib.figure.Figure at 0x180a0940>"
      ]
     },
     "metadata": {},
     "output_type": "display_data"
    }
   ],
   "source": [
    "# plot running\n",
    "plt.plot(dataset.timestamps_stimulus,dataset.running_speed.running_speed.values)\n",
    "plt.xlim(600,660)\n",
    "# plot rewards\n",
    "reward_y_vals = np.repeat(-10,repeats=len(dataset.rewards.time.values))\n",
    "plt.plot(dataset.rewards.time.values,reward_y_vals,marker='o',linestyle='None',label='rewards',)\n",
    "# plot licks\n",
    "lick_y_vals = np.repeat(-10,repeats=len(dataset.licks.time.values))\n",
    "plt.vlines(dataset.licks.values, -10, -5, label='licks')\n",
    "\n",
    "for index in dataset.stimulus_table.index:\n",
    "    row_data = dataset.stimulus_table.iloc[index]\n",
    "    plt.axvspan(xmin=row_data.start_time,xmax=row_data.end_time,facecolor='gray',alpha=0.3)\n",
    "\n",
    "plt.xlim(600,620)\n",
    "plt.xlabel('time (sec)')\n",
    "plt.ylabel('running speed (cm/s)')\n",
    "plt.legend(loc=9, bbox_to_anchor=(1.2,1))\n"
   ]
  },
  {
   "cell_type": "markdown",
   "metadata": {},
   "source": [
    "<div style=\"background: #DFF0D8; border-radius: 3px; padding: 10px;\">\n",
    "<p>**Task 3.6: Get visual stimulus template and metadata**\n",
    "\n",
    "<p>Get `stimulus_metadata` and `stimulus_template` from the dataset object. How do they relate to each other? \n",
    "\n",
    "<p>The first dimension of `stimulus_template` corresponds to the `image_index` in `stimulus_metadata`.\n",
    "</div>"
   ]
  },
  {
   "cell_type": "code",
   "execution_count": 36,
   "metadata": {
    "collapsed": false
   },
   "outputs": [
    {
     "data": {
      "text/html": [
       "<div>\n",
       "<style scoped>\n",
       "    .dataframe tbody tr th:only-of-type {\n",
       "        vertical-align: middle;\n",
       "    }\n",
       "\n",
       "    .dataframe tbody tr th {\n",
       "        vertical-align: top;\n",
       "    }\n",
       "\n",
       "    .dataframe thead th {\n",
       "        text-align: right;\n",
       "    }\n",
       "</style>\n",
       "<table border=\"1\" class=\"dataframe\">\n",
       "  <thead>\n",
       "    <tr style=\"text-align: right;\">\n",
       "      <th></th>\n",
       "      <th>image_index</th>\n",
       "      <th>image_name</th>\n",
       "    </tr>\n",
       "  </thead>\n",
       "  <tbody>\n",
       "    <tr>\n",
       "      <th>0</th>\n",
       "      <td>0</td>\n",
       "      <td>im012</td>\n",
       "    </tr>\n",
       "    <tr>\n",
       "      <th>1</th>\n",
       "      <td>1</td>\n",
       "      <td>im013</td>\n",
       "    </tr>\n",
       "    <tr>\n",
       "      <th>2</th>\n",
       "      <td>2</td>\n",
       "      <td>im115</td>\n",
       "    </tr>\n",
       "    <tr>\n",
       "      <th>3</th>\n",
       "      <td>3</td>\n",
       "      <td>im047</td>\n",
       "    </tr>\n",
       "    <tr>\n",
       "      <th>4</th>\n",
       "      <td>4</td>\n",
       "      <td>im044</td>\n",
       "    </tr>\n",
       "    <tr>\n",
       "      <th>5</th>\n",
       "      <td>5</td>\n",
       "      <td>im057</td>\n",
       "    </tr>\n",
       "    <tr>\n",
       "      <th>6</th>\n",
       "      <td>6</td>\n",
       "      <td>im036</td>\n",
       "    </tr>\n",
       "    <tr>\n",
       "      <th>7</th>\n",
       "      <td>7</td>\n",
       "      <td>im078</td>\n",
       "    </tr>\n",
       "  </tbody>\n",
       "</table>\n",
       "</div>"
      ],
      "text/plain": [
       "   image_index image_name\n",
       "0            0      im012\n",
       "1            1      im013\n",
       "2            2      im115\n",
       "3            3      im047\n",
       "4            4      im044\n",
       "5            5      im057\n",
       "6            6      im036\n",
       "7            7      im078"
      ]
     },
     "execution_count": 36,
     "metadata": {},
     "output_type": "execute_result"
    }
   ],
   "source": [
    "stimulus_metadata = dataset.stimulus_metadata\n",
    "stimulus_metadata"
   ]
  },
  {
   "cell_type": "code",
   "execution_count": 37,
   "metadata": {
    "collapsed": false
   },
   "outputs": [
    {
     "data": {
      "text/plain": [
       "(8L, 918L, 1174L)"
      ]
     },
     "execution_count": 37,
     "metadata": {},
     "output_type": "execute_result"
    }
   ],
   "source": [
    "stimulus_template = dataset.stimulus_template\n",
    "stimulus_template.shape"
   ]
  },
  {
   "cell_type": "markdown",
   "metadata": {},
   "source": [
    "<div style=\"background: #DFF0D8; border-radius: 3px; padding: 10px;\">\n",
    "<p>**Exercise 3.7: Plot a visual stimulus**\n",
    "\n",
    "<p>1) Plot an image from the `stimulus_template` using plt.imshow. \n",
    "\n",
    "<p>2) Show the `image_name` in the title.\n",
    "\n",
    "<p>Hint: Use `image_index` to translate between `stimulus_template` and `stimulus_metadata`.\n",
    "\n",
    "</div>"
   ]
  },
  {
   "cell_type": "code",
   "execution_count": 38,
   "metadata": {
    "collapsed": false
   },
   "outputs": [
    {
     "data": {
      "text/plain": [
       "<matplotlib.text.Text at 0x48406f28>"
      ]
     },
     "execution_count": 38,
     "metadata": {},
     "output_type": "execute_result"
    },
    {
     "data": {
      "image/png": "[encoded data removed]",
      "text/plain": [
       "<matplotlib.figure.Figure at 0x18159630>"
      ]
     },
     "metadata": {},
     "output_type": "display_data"
    }
   ],
   "source": [
    "image_index = 2\n",
    "plt.imshow(stimulus_template[image_index],cmap='gray')\n",
    "\n",
    "image_name = stimulus_metadata[stimulus_metadata.image_index==image_index].image_name.values[0]\n",
    "plt.title(image_name)"
   ]
  },
  {
   "cell_type": "markdown",
   "metadata": {},
   "source": [
    "<div style=\"border-left: 3px solid #000; padding: 1px; padding-left: 10px; background: #F0FAFF; \">\n",
    "<h2>Behavior trials DataFrame</h2>\n",
    "<p>The `trials` dataframe organizes behavior events (including licking and rewards), stimulus information (what stimulus was shown before and after the scheduled change time) and metadata (such as whether the trial was a 'go' trial or a 'catch' trial) for each behavioral trial. \n",
    "\n",
    "<p>This structure is convenient for data exploration and analysis.\n",
    "</div>"
   ]
  },
  {
   "cell_type": "markdown",
   "metadata": {},
   "source": [
    "<div style=\"background: #DFF0D8; border-radius: 3px; padding: 10px;\">\n",
    "<p>**Task 4.1: Explore the trial records**\n",
    "\n",
    "<p>1) Get the `trials` attribute of the `dataset` object. What are the columns of this dataframe? What are the rows?\n",
    "\n",
    "<p>How many trials were there? \n",
    "\n",
    "<p>How many of those trials had stimulus changes, aka 'go' trials? How many 'catch' trials?\n",
    "\n",
    "<p>What images were shown in this behavior session? \n",
    "</div>"
   ]
  },
  {
   "cell_type": "code",
   "execution_count": 39,
   "metadata": {
    "collapsed": false
   },
   "outputs": [
    {
     "data": {
      "text/html": [
       "<div>\n",
       "<style scoped>\n",
       "    .dataframe tbody tr th:only-of-type {\n",
       "        vertical-align: middle;\n",
       "    }\n",
       "\n",
       "    .dataframe tbody tr th {\n",
       "        vertical-align: top;\n",
       "    }\n",
       "\n",
       "    .dataframe thead th {\n",
       "        text-align: right;\n",
       "    }\n",
       "</style>\n",
       "<table border=\"1\" class=\"dataframe\">\n",
       "  <thead>\n",
       "    <tr style=\"text-align: right;\">\n",
       "      <th></th>\n",
       "      <th>trial</th>\n",
       "      <th>change_time</th>\n",
       "      <th>initial_image_name</th>\n",
       "      <th>change_image_name</th>\n",
       "      <th>trial_type</th>\n",
       "      <th>trial_type_color</th>\n",
       "      <th>response</th>\n",
       "      <th>response_type</th>\n",
       "      <th>response_window</th>\n",
       "      <th>lick_times</th>\n",
       "      <th>response_latency</th>\n",
       "      <th>rewarded</th>\n",
       "      <th>reward_times</th>\n",
       "      <th>reward_volume</th>\n",
       "      <th>reward_rate</th>\n",
       "      <th>start_time</th>\n",
       "      <th>end_time</th>\n",
       "      <th>trial_length</th>\n",
       "      <th>mouse_id</th>\n",
       "      <th>start_date_time</th>\n",
       "    </tr>\n",
       "  </thead>\n",
       "  <tbody>\n",
       "    <tr>\n",
       "      <th>0</th>\n",
       "      <td>0</td>\n",
       "      <td>147.81971</td>\n",
       "      <td>im047</td>\n",
       "      <td>im047</td>\n",
       "      <td>catch</td>\n",
       "      <td>yellow</td>\n",
       "      <td>0.0</td>\n",
       "      <td>CR</td>\n",
       "      <td>[0.15, 0.75]</td>\n",
       "      <td>[150.15495]</td>\n",
       "      <td>2.33524</td>\n",
       "      <td>False</td>\n",
       "      <td>[]</td>\n",
       "      <td>0.000</td>\n",
       "      <td>2.694428</td>\n",
       "      <td>144.80055</td>\n",
       "      <td>150.80546</td>\n",
       "      <td>6.005129</td>\n",
       "      <td>M384942</td>\n",
       "      <td>2018-06-28 15:57:29.511000-07:00</td>\n",
       "    </tr>\n",
       "    <tr>\n",
       "      <th>1</th>\n",
       "      <td>1</td>\n",
       "      <td>165.83445</td>\n",
       "      <td>im115</td>\n",
       "      <td>im013</td>\n",
       "      <td>go</td>\n",
       "      <td>lightgreen</td>\n",
       "      <td>0.0</td>\n",
       "      <td>MISS</td>\n",
       "      <td>[0.15, 0.75]</td>\n",
       "      <td>[]</td>\n",
       "      <td>NaN</td>\n",
       "      <td>True</td>\n",
       "      <td>[]</td>\n",
       "      <td>0.000</td>\n",
       "      <td>2.869450</td>\n",
       "      <td>162.81529</td>\n",
       "      <td>171.07207</td>\n",
       "      <td>8.256960</td>\n",
       "      <td>M384942</td>\n",
       "      <td>2018-06-28 15:57:29.511000-07:00</td>\n",
       "    </tr>\n",
       "    <tr>\n",
       "      <th>2</th>\n",
       "      <td>2</td>\n",
       "      <td>174.09123</td>\n",
       "      <td>im013</td>\n",
       "      <td>im013</td>\n",
       "      <td>catch</td>\n",
       "      <td>yellow</td>\n",
       "      <td>0.0</td>\n",
       "      <td>CR</td>\n",
       "      <td>[0.15, 0.75]</td>\n",
       "      <td>[177.69413]</td>\n",
       "      <td>3.60290</td>\n",
       "      <td>False</td>\n",
       "      <td>[]</td>\n",
       "      <td>0.000</td>\n",
       "      <td>2.869450</td>\n",
       "      <td>171.07207</td>\n",
       "      <td>177.82756</td>\n",
       "      <td>6.755717</td>\n",
       "      <td>M384942</td>\n",
       "      <td>2018-06-28 15:57:29.511000-07:00</td>\n",
       "    </tr>\n",
       "    <tr>\n",
       "      <th>3</th>\n",
       "      <td>3</td>\n",
       "      <td>189.10344</td>\n",
       "      <td>im057</td>\n",
       "      <td>im057</td>\n",
       "      <td>catch</td>\n",
       "      <td>yellow</td>\n",
       "      <td>0.0</td>\n",
       "      <td>CR</td>\n",
       "      <td>[0.15, 0.75]</td>\n",
       "      <td>[195.07499]</td>\n",
       "      <td>5.97155</td>\n",
       "      <td>False</td>\n",
       "      <td>[]</td>\n",
       "      <td>0.000</td>\n",
       "      <td>2.929545</td>\n",
       "      <td>186.83496</td>\n",
       "      <td>195.09168</td>\n",
       "      <td>8.257009</td>\n",
       "      <td>M384942</td>\n",
       "      <td>2018-06-28 15:57:29.511000-07:00</td>\n",
       "    </tr>\n",
       "    <tr>\n",
       "      <th>4</th>\n",
       "      <td>4</td>\n",
       "      <td>205.61699</td>\n",
       "      <td>im057</td>\n",
       "      <td>im036</td>\n",
       "      <td>go</td>\n",
       "      <td>darkgreen</td>\n",
       "      <td>1.0</td>\n",
       "      <td>HIT</td>\n",
       "      <td>[0.15, 0.75]</td>\n",
       "      <td>[206.26751, 206.55105, 206.93466, 207.03475]</td>\n",
       "      <td>0.65052</td>\n",
       "      <td>True</td>\n",
       "      <td>[206.26751]</td>\n",
       "      <td>0.007</td>\n",
       "      <td>3.165730</td>\n",
       "      <td>201.09659</td>\n",
       "      <td>207.10149</td>\n",
       "      <td>6.005128</td>\n",
       "      <td>M384942</td>\n",
       "      <td>2018-06-28 15:57:29.511000-07:00</td>\n",
       "    </tr>\n",
       "  </tbody>\n",
       "</table>\n",
       "</div>"
      ],
      "text/plain": [
       "   trial  change_time initial_image_name change_image_name trial_type  \\\n",
       "0      0    147.81971              im047             im047      catch   \n",
       "1      1    165.83445              im115             im013         go   \n",
       "2      2    174.09123              im013             im013      catch   \n",
       "3      3    189.10344              im057             im057      catch   \n",
       "4      4    205.61699              im057             im036         go   \n",
       "\n",
       "  trial_type_color  response response_type response_window  \\\n",
       "0           yellow       0.0            CR    [0.15, 0.75]   \n",
       "1       lightgreen       0.0          MISS    [0.15, 0.75]   \n",
       "2           yellow       0.0            CR    [0.15, 0.75]   \n",
       "3           yellow       0.0            CR    [0.15, 0.75]   \n",
       "4        darkgreen       1.0           HIT    [0.15, 0.75]   \n",
       "\n",
       "                                     lick_times  response_latency  rewarded  \\\n",
       "0                                   [150.15495]           2.33524     False   \n",
       "1                                            []               NaN      True   \n",
       "2                                   [177.69413]           3.60290     False   \n",
       "3                                   [195.07499]           5.97155     False   \n",
       "4  [206.26751, 206.55105, 206.93466, 207.03475]           0.65052      True   \n",
       "\n",
       "  reward_times  reward_volume  reward_rate  start_time   end_time  \\\n",
       "0           []          0.000     2.694428   144.80055  150.80546   \n",
       "1           []          0.000     2.869450   162.81529  171.07207   \n",
       "2           []          0.000     2.869450   171.07207  177.82756   \n",
       "3           []          0.000     2.929545   186.83496  195.09168   \n",
       "4  [206.26751]          0.007     3.165730   201.09659  207.10149   \n",
       "\n",
       "   trial_length mouse_id                   start_date_time  \n",
       "0      6.005129  M384942  2018-06-28 15:57:29.511000-07:00  \n",
       "1      8.256960  M384942  2018-06-28 15:57:29.511000-07:00  \n",
       "2      6.755717  M384942  2018-06-28 15:57:29.511000-07:00  \n",
       "3      8.257009  M384942  2018-06-28 15:57:29.511000-07:00  \n",
       "4      6.005128  M384942  2018-06-28 15:57:29.511000-07:00  "
      ]
     },
     "execution_count": 39,
     "metadata": {},
     "output_type": "execute_result"
    }
   ],
   "source": [
    "trials = dataset.trials\n",
    "trials.head()"
   ]
  },
  {
   "cell_type": "code",
   "execution_count": 40,
   "metadata": {
    "collapsed": false
   },
   "outputs": [
    {
     "data": {
      "text/plain": [
       "Index([u'trial', u'change_time', u'initial_image_name', u'change_image_name',\n",
       "       u'trial_type', u'trial_type_color', u'response', u'response_type',\n",
       "       u'response_window', u'lick_times', u'response_latency', u'rewarded',\n",
       "       u'reward_times', u'reward_volume', u'reward_rate', u'start_time',\n",
       "       u'end_time', u'trial_length', u'mouse_id', u'start_date_time'],\n",
       "      dtype='object')"
      ]
     },
     "execution_count": 40,
     "metadata": {},
     "output_type": "execute_result"
    }
   ],
   "source": [
    "trials.keys()"
   ]
  },
  {
   "cell_type": "code",
   "execution_count": 41,
   "metadata": {
    "collapsed": false
   },
   "outputs": [
    {
     "name": "stdout",
     "output_type": "stream",
     "text": [
      "number of trials = 231\n"
     ]
    }
   ],
   "source": [
    "print('number of trials =',len(trials))"
   ]
  },
  {
   "cell_type": "code",
   "execution_count": 42,
   "metadata": {
    "collapsed": false
   },
   "outputs": [
    {
     "name": "stdout",
     "output_type": "stream",
     "text": [
      "number of go trials = 200\n"
     ]
    }
   ],
   "source": [
    "print('number of go trials =',len(trials[trials.trial_type=='go']))"
   ]
  },
  {
   "cell_type": "code",
   "execution_count": 43,
   "metadata": {
    "collapsed": false
   },
   "outputs": [
    {
     "name": "stdout",
     "output_type": "stream",
     "text": [
      "number of catch trials = 31\n"
     ]
    }
   ],
   "source": [
    "print('number of catch trials =',len(trials[trials.trial_type=='catch']))"
   ]
  },
  {
   "cell_type": "code",
   "execution_count": 44,
   "metadata": {
    "collapsed": false
   },
   "outputs": [
    {
     "name": "stdout",
     "output_type": "stream",
     "text": [
      "['im047' 'im013' 'im057' 'im036' 'im012' 'im115' 'im044' 'im078']\n"
     ]
    }
   ],
   "source": [
    "images = trials.change_image_name.unique()\n",
    "print(images)"
   ]
  },
  {
   "cell_type": "markdown",
   "metadata": {},
   "source": [
    "<div style=\"background: #DFF0D8; border-radius: 3px; padding: 10px;\">\n",
    "<p>**Exercise 4.2: Get the behavioral response probability for go and catch trials**\n",
    "\n",
    "<p>Response probability is the fraction of trials where the mouse emitted a lick during the response window. \n",
    "\n",
    "<p>The value of the `response` column is a boolean indicating whether or not the mouse emitted a lick on that trial.\n",
    "\n",
    "<p>1) Select all the 'go' trials by filtering the dataframe by `trial_type`.\n",
    "\n",
    "<p>2) Take the mean of the `response` column values for the selected trials to quantify the fraction of 'go' trials where the mouse emitted a behavioral response. \n",
    "\n",
    "<p>3) Repeat for 'catch' trials.\n",
    "\n",
    "<p>***Add your values for response probability on go and catch trials to the plot on the board and draw a line between them***\n",
    "</div>"
   ]
  },
  {
   "cell_type": "code",
   "execution_count": 45,
   "metadata": {
    "collapsed": false
   },
   "outputs": [
    {
     "name": "stdout",
     "output_type": "stream",
     "text": [
      "response probability go trials: 0.77\n"
     ]
    }
   ],
   "source": [
    "print('response probability go trials:',trials[trials.trial_type=='go'].response.mean())"
   ]
  },
  {
   "cell_type": "code",
   "execution_count": 46,
   "metadata": {
    "collapsed": false
   },
   "outputs": [
    {
     "name": "stdout",
     "output_type": "stream",
     "text": [
      "response probability catch trials: 0.225806451613\n"
     ]
    }
   ],
   "source": [
    "print('response probability catch trials:',trials[trials.trial_type=='catch'].response.mean())"
   ]
  },
  {
   "cell_type": "markdown",
   "metadata": {},
   "source": [
    "<div style=\"background: #DFF0D8; border-radius: 3px; padding: 10px;\">\n",
    "<p>**Bonus exercise 4.3: Plot response probability across images for go trials**\n",
    "\n",
    "<p>1) Loop through the image names in `trials.change_image_name.unique()`\n",
    "\n",
    "<p>2) Filter the `trials` dataframe by `change_image_name` and `trial_type` to get 'go' trials for each image.\n",
    "\n",
    "<p>3) Quantify the fraction of 'go' trials with a `response` for each image. \n",
    "\n",
    "<p>3) Plot the mean response probability for each image. \n",
    "</div>"
   ]
  },
  {
   "cell_type": "code",
   "execution_count": 47,
   "metadata": {
    "collapsed": false
   },
   "outputs": [
    {
     "data": {
      "text/plain": [
       "(0, 1)"
      ]
     },
     "execution_count": 47,
     "metadata": {},
     "output_type": "execute_result"
    },
    {
     "data": {
      "image/png": "[encoded data removed]",
      "text/plain": [
       "<matplotlib.figure.Figure at 0x48414358>"
      ]
     },
     "metadata": {},
     "output_type": "display_data"
    }
   ],
   "source": [
    "trial_type = 'go'\n",
    "for i,image in enumerate(images): \n",
    "    selected_trials = trials[(trials.change_image_name==image)&(trials.trial_type==trial_type)]\n",
    "    response_probability = selected_trials.response.mean()\n",
    "    plt.plot(i,response_probability,'o')\n",
    "plt.xticks(np.arange(0,len(images),1),images,rotation=90)\n",
    "plt.ylabel('response probability')\n",
    "plt.xlabel('change image')\n",
    "plt.title('go trials')\n",
    "plt.ylim(0,1)"
   ]
  },
  {
   "cell_type": "markdown",
   "metadata": {},
   "source": [
    "<div style=\"background: #DFF0D8; border-radius: 3px; padding: 10px;\">\n",
    "<p>**Task 4.4: Plot a lick raster**\n",
    "\n",
    "<p>Provide the `trials` dataframe to the function below to plot a lick raster.\n",
    "\n",
    "<p>Is the mouse performing the task consistently across the whole session?\n",
    "</div>"
   ]
  },
  {
   "cell_type": "code",
   "execution_count": 48,
   "metadata": {
    "collapsed": false
   },
   "outputs": [],
   "source": [
    "def make_lick_raster(trials):\n",
    "    fig,ax = plt.subplots(figsize=(5,10))\n",
    "    for trial in trials.trial.values: \n",
    "        trial_data = trials.iloc[trial]\n",
    "        # get times relative to change time\n",
    "        trial_start = trial_data.start_time - trial_data.change_time\n",
    "        lick_times = [(t - trial_data.change_time) for t in trial_data.lick_times]\n",
    "        reward_time = [(t - trial_data.change_time) for t in trial_data.reward_times]\n",
    "        # plot trials as colored rows\n",
    "        ax.axhspan(trial, trial + 1, -200, 200, color=trial_data.trial_type_color, alpha=.5)\n",
    "        # plot reward times\n",
    "        if len(reward_time) > 0:\n",
    "            ax.plot(reward_time[0], trial + 0.5, '.', color='b', label='reward', markersize=6)\n",
    "        ax.vlines(trial_start, trial, trial + 1, color='black', linewidth=1)\n",
    "        # plot lick times\n",
    "        ax.vlines(lick_times, trial, trial + 1, color='k', linewidth=1)\n",
    "        # annotate change time\n",
    "        ax.vlines(0, trial, trial + 1, color=[.5, .5, .5], linewidth=1)\n",
    "    # gray bar for response window\n",
    "    ax.axvspan(trial_data.response_window[0], trial_data.response_window[1], facecolor='gray', alpha=.4,\n",
    "               edgecolor='none')\n",
    "    ax.grid(False)\n",
    "    ax.set_ylim(0, len(trials))\n",
    "    ax.set_xlim([-1, 4])\n",
    "    ax.set_ylabel('trials')\n",
    "    ax.set_xlabel('time (sec)')\n",
    "    ax.set_title('lick raster')\n",
    "    plt.gca().invert_yaxis()"
   ]
  },
  {
   "cell_type": "code",
   "execution_count": 49,
   "metadata": {
    "collapsed": false
   },
   "outputs": [
    {
     "data": {
      "image/png": "[encoded data removed]",
      "text/plain": [
       "<matplotlib.figure.Figure at 0x483fb470>"
      ]
     },
     "metadata": {},
     "output_type": "display_data"
    }
   ],
   "source": [
    "make_lick_raster(dataset.trials)"
   ]
  },
  {
   "cell_type": "markdown",
   "metadata": {},
   "source": [
    "<div style=\"border-left: 3px solid #000; padding: 1px; padding-left: 10px; background: #F0FAFF; \">\n",
    "<h2>The ResponseAnalysis class organizes cell responses by behavior trials and stimulus flashes </h2>\n",
    "<p>The `ResponseAnalysis` class takes a `VisualBehaviorDataset` object and extracts cell responses for the stimulus flashes in `stimulus_table` and for the trials in `trials`. \n",
    "<p>This does the work of temporal alignment for you, and translates between `timestamps_stimulus` and `timestamps_ophys` to get the times in the dF/F trace that correspond to stimulus presentations in `stimulus_table` and behavioral trial change times in `trials`.\n",
    "<p>\n",
    "</div>"
   ]
  },
  {
   "cell_type": "markdown",
   "metadata": {},
   "source": [
    "<div style=\"background: #DFF0D8; border-radius: 3px; padding: 10px;\">\n",
    "<p>**Task 5.1:** Generate the ResponseAnalysis object by passing in your dataset. \n",
    "\n",
    "<p>Generate the `ResponseAnalysis` object by passing in your `dataset`. Assign the object to a variable called `analysis`.\n",
    "\n",
    "<p> What is available to you in the `ResponseAnalysis` class? Use help to check the documentation, or look directly at the code to see what operations are performed. \n",
    "</div>"
   ]
  },
  {
   "cell_type": "code",
   "execution_count": 50,
   "metadata": {
    "collapsed": false
   },
   "outputs": [],
   "source": [
    "from visual_behavior.ophys.response_analysis.response_analysis import ResponseAnalysis "
   ]
  },
  {
   "cell_type": "code",
   "execution_count": 51,
   "metadata": {
    "collapsed": false
   },
   "outputs": [
    {
     "name": "stdout",
     "output_type": "stream",
     "text": [
      "loading trial response dataframe\n",
      "loading flash response dataframe\n"
     ]
    }
   ],
   "source": [
    "analysis = ResponseAnalysis(dataset)"
   ]
  },
  {
   "cell_type": "code",
   "execution_count": 52,
   "metadata": {
    "collapsed": false,
    "scrolled": false
   },
   "outputs": [
    {
     "name": "stdout",
     "output_type": "stream",
     "text": [
      "Help on class ResponseAnalysis in module visual_behavior.ophys.response_analysis.response_analysis:\n",
      "\n",
      "class ResponseAnalysis(__builtin__.object)\n",
      " |  Contains methods for organizing responses by trial or by  visual stimulus flashes in a DataFrame.\n",
      " |  \n",
      " |  For trial responses, a segment of the dF/F trace for each cell is extracted for each trial in the trials records in a +/-4 seconds window (the 'trial_window') around the change time.\n",
      " |  The mean_response for each cell is taken in a 500ms window after the change time (the 'response_window').\n",
      " |  The trial_response_df also contains behavioral metadata from the trial records such as lick times, running speed, reward rate, and initial and change stimulus names.\n",
      " |  \n",
      " |  For stimulus flashes, the mean response is taken in a 500ms window after each stimulus presentation (the 'response_window') in the stimulus_table.\n",
      " |  The flash_response_df contains the mean response for every cell, for every stimulus flash.\n",
      " |  \n",
      " |  Parameters\n",
      " |  ----------\n",
      " |  dataset: VisualBehaviorOphysDataset instance\n",
      " |  overwrite_analysis_files: Boolean, if True will create and overwrite response analysis files.\n",
      " |  This can be used if new functionality is added to the ResponseAnalysis class to modify existing structures or make new ones.\n",
      " |  If False, will load existing analysis files from dataset.analysis_dir, or generate and save them if none exist.\n",
      " |  \n",
      " |  Methods defined here:\n",
      " |  \n",
      " |  __init__(self, dataset, overwrite_analysis_files=False)\n",
      " |  \n",
      " |  generate_flash_response_df(self)\n",
      " |  \n",
      " |  generate_trial_response_df(self)\n",
      " |  \n",
      " |  get_flash_response_df(self)\n",
      " |  \n",
      " |  get_flash_response_df_path(self)\n",
      " |  \n",
      " |  get_trial_response_df(self)\n",
      " |  \n",
      " |  get_trial_response_df_path(self)\n",
      " |  \n",
      " |  save_flash_response_df(self, flash_response_df)\n",
      " |  \n",
      " |  save_trial_response_df(self, trial_response_df)\n",
      " |  \n",
      " |  ----------------------------------------------------------------------\n",
      " |  Data descriptors defined here:\n",
      " |  \n",
      " |  __dict__\n",
      " |      dictionary for instance variables (if defined)\n",
      " |  \n",
      " |  __weakref__\n",
      " |      list of weak references to the object (if defined)\n",
      "\n"
     ]
    }
   ],
   "source": [
    "help(ResponseAnalysis)"
   ]
  },
  {
   "cell_type": "markdown",
   "metadata": {},
   "source": [
    "<div style=\"background: #DFF0D8; border-radius: 3px; padding: 10px;\">\n",
    "<p>**Task 5.2: Explore the flash response dataframe of the ResponseAnalysis object**\n",
    "\n",
    "<p>What is in the `flash_response_df` attribute of the analysis object? What are the columns? What are the rows?  How is it different from the `stimulus_table` attribute of the dataset object?\n",
    "\n",
    "<p>The`flash_response_df` contains the cell responses for individual stimulus presentations, aka flashes. It contains the `mean_response` of every cell in a 500ms window after every stimulus onset, for all stimulus presentations during the behavior session.  \n",
    "\n",
    "<p>The `p_value` column is computed as a one-way ANOVA comparing the values of the dF/F trace in the 500ms before the stimulus onset with the 500ms after the stimulus onset. \n",
    "</div>"
   ]
  },
  {
   "cell_type": "code",
   "execution_count": 53,
   "metadata": {
    "collapsed": false
   },
   "outputs": [
    {
     "data": {
      "text/html": [
       "<div>\n",
       "<style scoped>\n",
       "    .dataframe tbody tr th:only-of-type {\n",
       "        vertical-align: middle;\n",
       "    }\n",
       "\n",
       "    .dataframe tbody tr th {\n",
       "        vertical-align: top;\n",
       "    }\n",
       "\n",
       "    .dataframe thead th {\n",
       "        text-align: right;\n",
       "    }\n",
       "</style>\n",
       "<table border=\"1\" class=\"dataframe\">\n",
       "  <thead>\n",
       "    <tr style=\"text-align: right;\">\n",
       "      <th></th>\n",
       "      <th>cell</th>\n",
       "      <th>flash_number</th>\n",
       "      <th>start_time</th>\n",
       "      <th>image_name</th>\n",
       "      <th>mean_response</th>\n",
       "      <th>p_value</th>\n",
       "    </tr>\n",
       "  </thead>\n",
       "  <tbody>\n",
       "    <tr>\n",
       "      <th>0</th>\n",
       "      <td>0</td>\n",
       "      <td>0</td>\n",
       "      <td>69.00560</td>\n",
       "      <td>im047</td>\n",
       "      <td>0.085476</td>\n",
       "      <td>0.000085</td>\n",
       "    </tr>\n",
       "    <tr>\n",
       "      <th>1</th>\n",
       "      <td>0</td>\n",
       "      <td>1</td>\n",
       "      <td>69.75609</td>\n",
       "      <td>im047</td>\n",
       "      <td>0.024164</td>\n",
       "      <td>0.004968</td>\n",
       "    </tr>\n",
       "    <tr>\n",
       "      <th>2</th>\n",
       "      <td>0</td>\n",
       "      <td>2</td>\n",
       "      <td>70.50666</td>\n",
       "      <td>im047</td>\n",
       "      <td>0.018004</td>\n",
       "      <td>0.690715</td>\n",
       "    </tr>\n",
       "    <tr>\n",
       "      <th>3</th>\n",
       "      <td>0</td>\n",
       "      <td>3</td>\n",
       "      <td>71.25722</td>\n",
       "      <td>im047</td>\n",
       "      <td>0.017520</td>\n",
       "      <td>0.612907</td>\n",
       "    </tr>\n",
       "    <tr>\n",
       "      <th>4</th>\n",
       "      <td>0</td>\n",
       "      <td>4</td>\n",
       "      <td>72.00789</td>\n",
       "      <td>im047</td>\n",
       "      <td>0.203174</td>\n",
       "      <td>0.000124</td>\n",
       "    </tr>\n",
       "  </tbody>\n",
       "</table>\n",
       "</div>"
      ],
      "text/plain": [
       "   cell  flash_number  start_time image_name  mean_response   p_value\n",
       "0     0             0    69.00560      im047       0.085476  0.000085\n",
       "1     0             1    69.75609      im047       0.024164  0.004968\n",
       "2     0             2    70.50666      im047       0.018004  0.690715\n",
       "3     0             3    71.25722      im047       0.017520  0.612907\n",
       "4     0             4    72.00789      im047       0.203174  0.000124"
      ]
     },
     "execution_count": 53,
     "metadata": {},
     "output_type": "execute_result"
    }
   ],
   "source": [
    "analysis.flash_response_df.head()"
   ]
  },
  {
   "cell_type": "markdown",
   "metadata": {},
   "source": [
    "<div style=\"background: #DFF0D8; border-radius: 3px; padding: 10px;\">\n",
    "<p>**Task 5.3: Explore the trial response dataframe of the ResponseAnalysis object**\n",
    "\n",
    "<p>1) Get the `trial_response_df` attribute of the analysis object. What are the columns? What are the rows? What is different than the `trials` records in the `dataset` object? What is different from the `flash_response_df`?\n",
    "\n",
    "<p>The `trace` column contains a portion of each cell's dF/F trace for +/-4 seconds around the `change_time` for each trial. There are also `timestamps` for the same window of time. \n",
    "\n",
    "<p> For each trial, the `mean_response` of each cell is computed for a 500ms window after the `change_time`.\n",
    "\n",
    "<p>The `p_value` is computed as a one-way ANOVA comparing the values of the dF/F trace in the 500ms before the `change_time` (the baseline window) with the 500ms after the `change_time` (the response window). \n",
    "\n",
    "<p>2) Assign `trial_response_df` to a variable named `tdf` for convenient use in later exercises.\n",
    "</div>"
   ]
  },
  {
   "cell_type": "code",
   "execution_count": 54,
   "metadata": {
    "collapsed": false
   },
   "outputs": [
    {
     "data": {
      "text/html": [
       "<div>\n",
       "<style scoped>\n",
       "    .dataframe tbody tr th:only-of-type {\n",
       "        vertical-align: middle;\n",
       "    }\n",
       "\n",
       "    .dataframe tbody tr th {\n",
       "        vertical-align: top;\n",
       "    }\n",
       "\n",
       "    .dataframe thead th {\n",
       "        text-align: right;\n",
       "    }\n",
       "</style>\n",
       "<table border=\"1\" class=\"dataframe\">\n",
       "  <thead>\n",
       "    <tr style=\"text-align: right;\">\n",
       "      <th></th>\n",
       "      <th>trial</th>\n",
       "      <th>cell</th>\n",
       "      <th>cell_specimen_id</th>\n",
       "      <th>trace</th>\n",
       "      <th>timestamps</th>\n",
       "      <th>mean_response</th>\n",
       "      <th>baseline_response</th>\n",
       "      <th>p_value</th>\n",
       "      <th>sd_over_baseline</th>\n",
       "      <th>running_speed_trace</th>\n",
       "      <th>...</th>\n",
       "      <th>behavioral_response_latency</th>\n",
       "      <th>rewarded</th>\n",
       "      <th>reward_times</th>\n",
       "      <th>reward_volume</th>\n",
       "      <th>reward_rate</th>\n",
       "      <th>start_time</th>\n",
       "      <th>end_time</th>\n",
       "      <th>trial_length</th>\n",
       "      <th>mouse_id</th>\n",
       "      <th>start_date_time</th>\n",
       "    </tr>\n",
       "  </thead>\n",
       "  <tbody>\n",
       "    <tr>\n",
       "      <th>0</th>\n",
       "      <td>0</td>\n",
       "      <td>0</td>\n",
       "      <td>715928862</td>\n",
       "      <td>[0.0413634659596, -0.075272804324, -0.07613886...</td>\n",
       "      <td>[143.81806, 143.85035, 143.88264, 143.91493, 1...</td>\n",
       "      <td>0.011473</td>\n",
       "      <td>-0.009610</td>\n",
       "      <td>0.233731</td>\n",
       "      <td>0.250180</td>\n",
       "      <td>[-0.0637343140512, -0.0637343140512, -0.063734...</td>\n",
       "      <td>...</td>\n",
       "      <td>2.33524</td>\n",
       "      <td>False</td>\n",
       "      <td>[]</td>\n",
       "      <td>0.0</td>\n",
       "      <td>2.694428</td>\n",
       "      <td>144.80055</td>\n",
       "      <td>150.80546</td>\n",
       "      <td>6.005129</td>\n",
       "      <td>M384942</td>\n",
       "      <td>2018-06-28 15:57:29.511000-07:00</td>\n",
       "    </tr>\n",
       "    <tr>\n",
       "      <th>1</th>\n",
       "      <td>0</td>\n",
       "      <td>1</td>\n",
       "      <td>715928872</td>\n",
       "      <td>[0.043229034788, 0.0102227983732, 0.0487428376...</td>\n",
       "      <td>[143.81806, 143.85035, 143.88264, 143.91493, 1...</td>\n",
       "      <td>0.011278</td>\n",
       "      <td>0.023997</td>\n",
       "      <td>0.238671</td>\n",
       "      <td>0.343256</td>\n",
       "      <td>[-0.0637343140512, -0.0637343140512, -0.063734...</td>\n",
       "      <td>...</td>\n",
       "      <td>2.33524</td>\n",
       "      <td>False</td>\n",
       "      <td>[]</td>\n",
       "      <td>0.0</td>\n",
       "      <td>2.694428</td>\n",
       "      <td>144.80055</td>\n",
       "      <td>150.80546</td>\n",
       "      <td>6.005129</td>\n",
       "      <td>M384942</td>\n",
       "      <td>2018-06-28 15:57:29.511000-07:00</td>\n",
       "    </tr>\n",
       "    <tr>\n",
       "      <th>2</th>\n",
       "      <td>0</td>\n",
       "      <td>2</td>\n",
       "      <td>715928874</td>\n",
       "      <td>[0.293485586368, 0.186618191399, 0.15168891934...</td>\n",
       "      <td>[143.81806, 143.85035, 143.88264, 143.91493, 1...</td>\n",
       "      <td>0.035940</td>\n",
       "      <td>0.055942</td>\n",
       "      <td>0.334127</td>\n",
       "      <td>0.552846</td>\n",
       "      <td>[-0.0637343140512, -0.0637343140512, -0.063734...</td>\n",
       "      <td>...</td>\n",
       "      <td>2.33524</td>\n",
       "      <td>False</td>\n",
       "      <td>[]</td>\n",
       "      <td>0.0</td>\n",
       "      <td>2.694428</td>\n",
       "      <td>144.80055</td>\n",
       "      <td>150.80546</td>\n",
       "      <td>6.005129</td>\n",
       "      <td>M384942</td>\n",
       "      <td>2018-06-28 15:57:29.511000-07:00</td>\n",
       "    </tr>\n",
       "  </tbody>\n",
       "</table>\n",
       "<p>3 rows × 31 columns</p>\n",
       "</div>"
      ],
      "text/plain": [
       "   trial  cell  cell_specimen_id  \\\n",
       "0      0     0         715928862   \n",
       "1      0     1         715928872   \n",
       "2      0     2         715928874   \n",
       "\n",
       "                                               trace  \\\n",
       "0  [0.0413634659596, -0.075272804324, -0.07613886...   \n",
       "1  [0.043229034788, 0.0102227983732, 0.0487428376...   \n",
       "2  [0.293485586368, 0.186618191399, 0.15168891934...   \n",
       "\n",
       "                                          timestamps  mean_response  \\\n",
       "0  [143.81806, 143.85035, 143.88264, 143.91493, 1...       0.011473   \n",
       "1  [143.81806, 143.85035, 143.88264, 143.91493, 1...       0.011278   \n",
       "2  [143.81806, 143.85035, 143.88264, 143.91493, 1...       0.035940   \n",
       "\n",
       "   baseline_response   p_value  sd_over_baseline  \\\n",
       "0          -0.009610  0.233731          0.250180   \n",
       "1           0.023997  0.238671          0.343256   \n",
       "2           0.055942  0.334127          0.552846   \n",
       "\n",
       "                                 running_speed_trace  \\\n",
       "0  [-0.0637343140512, -0.0637343140512, -0.063734...   \n",
       "1  [-0.0637343140512, -0.0637343140512, -0.063734...   \n",
       "2  [-0.0637343140512, -0.0637343140512, -0.063734...   \n",
       "\n",
       "                 ...                behavioral_response_latency  rewarded  \\\n",
       "0                ...                                    2.33524     False   \n",
       "1                ...                                    2.33524     False   \n",
       "2                ...                                    2.33524     False   \n",
       "\n",
       "   reward_times reward_volume reward_rate start_time   end_time  trial_length  \\\n",
       "0            []           0.0    2.694428  144.80055  150.80546      6.005129   \n",
       "1            []           0.0    2.694428  144.80055  150.80546      6.005129   \n",
       "2            []           0.0    2.694428  144.80055  150.80546      6.005129   \n",
       "\n",
       "  mouse_id                   start_date_time  \n",
       "0  M384942  2018-06-28 15:57:29.511000-07:00  \n",
       "1  M384942  2018-06-28 15:57:29.511000-07:00  \n",
       "2  M384942  2018-06-28 15:57:29.511000-07:00  \n",
       "\n",
       "[3 rows x 31 columns]"
      ]
     },
     "execution_count": 54,
     "metadata": {},
     "output_type": "execute_result"
    }
   ],
   "source": [
    "analysis.trial_response_df.head(3)"
   ]
  },
  {
   "cell_type": "code",
   "execution_count": 55,
   "metadata": {
    "collapsed": false
   },
   "outputs": [
    {
     "data": {
      "text/plain": [
       "Index([u'trial', u'cell', u'cell_specimen_id', u'trace', u'timestamps',\n",
       "       u'mean_response', u'baseline_response', u'p_value', u'sd_over_baseline',\n",
       "       u'running_speed_trace', u'running_speed_timestamps',\n",
       "       u'mean_running_speed', u'change_time', u'initial_image_name',\n",
       "       u'change_image_name', u'trial_type', u'trial_type_color',\n",
       "       u'behavioral_response', u'behavioral_response_type', u'response_window',\n",
       "       u'lick_times', u'behavioral_response_latency', u'rewarded',\n",
       "       u'reward_times', u'reward_volume', u'reward_rate', u'start_time',\n",
       "       u'end_time', u'trial_length', u'mouse_id', u'start_date_time'],\n",
       "      dtype='object')"
      ]
     },
     "execution_count": 55,
     "metadata": {},
     "output_type": "execute_result"
    }
   ],
   "source": [
    "analysis.trial_response_df.keys()"
   ]
  },
  {
   "cell_type": "code",
   "execution_count": 56,
   "metadata": {
    "collapsed": false
   },
   "outputs": [],
   "source": [
    "tdf = analysis.trial_response_df"
   ]
  },
  {
   "cell_type": "markdown",
   "metadata": {},
   "source": [
    "<div style=\"background: #DFF0D8; border-radius: 3px; padding: 10px;\">\n",
    "<p>**Exercise 5.4: Find the largest single trial response in the trial response dataframe**\n",
    "\n",
    "<p>Each row of `trial_response_df` corresponds to a single trial for a single cell from the experiment. \n",
    "\n",
    "<p>1) Find the row of `tdf` that has the largest value of the `mean_response` column. Assign the trial number to a variable called `trial`.\n",
    "\n",
    "<p>2) What cell had the largest response? Assign the cell index to the variable `cell`. You will use this cell throughout the rest of the notebook.\n",
    "\n",
    "<p>3) What image evoked the largest response? Assign the image name to a variable called `change_image_name`\n",
    "\n",
    "<p>4) Was it a 'go' or 'catch' trial? Assign the trial type to a variable called `trial_type`\n",
    "</div>"
   ]
  },
  {
   "cell_type": "code",
   "execution_count": 57,
   "metadata": {
    "collapsed": false
   },
   "outputs": [
    {
     "data": {
      "text/html": [
       "<div>\n",
       "<style scoped>\n",
       "    .dataframe tbody tr th:only-of-type {\n",
       "        vertical-align: middle;\n",
       "    }\n",
       "\n",
       "    .dataframe tbody tr th {\n",
       "        vertical-align: top;\n",
       "    }\n",
       "\n",
       "    .dataframe thead th {\n",
       "        text-align: right;\n",
       "    }\n",
       "</style>\n",
       "<table border=\"1\" class=\"dataframe\">\n",
       "  <thead>\n",
       "    <tr style=\"text-align: right;\">\n",
       "      <th></th>\n",
       "      <th>trial</th>\n",
       "      <th>cell</th>\n",
       "      <th>cell_specimen_id</th>\n",
       "      <th>trace</th>\n",
       "      <th>timestamps</th>\n",
       "      <th>mean_response</th>\n",
       "      <th>baseline_response</th>\n",
       "      <th>p_value</th>\n",
       "      <th>sd_over_baseline</th>\n",
       "      <th>running_speed_trace</th>\n",
       "      <th>...</th>\n",
       "      <th>behavioral_response_latency</th>\n",
       "      <th>rewarded</th>\n",
       "      <th>reward_times</th>\n",
       "      <th>reward_volume</th>\n",
       "      <th>reward_rate</th>\n",
       "      <th>start_time</th>\n",
       "      <th>end_time</th>\n",
       "      <th>trial_length</th>\n",
       "      <th>mouse_id</th>\n",
       "      <th>start_date_time</th>\n",
       "    </tr>\n",
       "  </thead>\n",
       "  <tbody>\n",
       "    <tr>\n",
       "      <th>43259</th>\n",
       "      <td>188</td>\n",
       "      <td>207</td>\n",
       "      <td>715929688</td>\n",
       "      <td>[0.122396233195, 0.195269695028, 0.04518116940...</td>\n",
       "      <td>[3099.10347, 3099.13577, 3099.16807, 3099.2003...</td>\n",
       "      <td>4.054346</td>\n",
       "      <td>0.125125</td>\n",
       "      <td>1.001597e-07</td>\n",
       "      <td>34.628112</td>\n",
       "      <td>[43.1957619242, 45.4980048827, 47.3966137752, ...</td>\n",
       "      <td>...</td>\n",
       "      <td>0.38358</td>\n",
       "      <td>True</td>\n",
       "      <td>[3103.50241]</td>\n",
       "      <td>0.007</td>\n",
       "      <td>4.188713</td>\n",
       "      <td>3098.59841</td>\n",
       "      <td>3106.85519</td>\n",
       "      <td>8.256962</td>\n",
       "      <td>M384942</td>\n",
       "      <td>2018-06-28 15:57:29.511000-07:00</td>\n",
       "    </tr>\n",
       "  </tbody>\n",
       "</table>\n",
       "<p>1 rows × 31 columns</p>\n",
       "</div>"
      ],
      "text/plain": [
       "       trial  cell  cell_specimen_id  \\\n",
       "43259    188   207         715929688   \n",
       "\n",
       "                                                   trace  \\\n",
       "43259  [0.122396233195, 0.195269695028, 0.04518116940...   \n",
       "\n",
       "                                              timestamps  mean_response  \\\n",
       "43259  [3099.10347, 3099.13577, 3099.16807, 3099.2003...       4.054346   \n",
       "\n",
       "       baseline_response       p_value  sd_over_baseline  \\\n",
       "43259           0.125125  1.001597e-07         34.628112   \n",
       "\n",
       "                                     running_speed_trace  \\\n",
       "43259  [43.1957619242, 45.4980048827, 47.3966137752, ...   \n",
       "\n",
       "                     ...                behavioral_response_latency  rewarded  \\\n",
       "43259                ...                                    0.38358      True   \n",
       "\n",
       "       reward_times reward_volume reward_rate  start_time    end_time  \\\n",
       "43259  [3103.50241]         0.007    4.188713  3098.59841  3106.85519   \n",
       "\n",
       "       trial_length mouse_id                   start_date_time  \n",
       "43259      8.256962  M384942  2018-06-28 15:57:29.511000-07:00  \n",
       "\n",
       "[1 rows x 31 columns]"
      ]
     },
     "execution_count": 57,
     "metadata": {},
     "output_type": "execute_result"
    }
   ],
   "source": [
    "largest_response = tdf[tdf.mean_response==tdf.mean_response.max()]\n",
    "largest_response"
   ]
  },
  {
   "cell_type": "code",
   "execution_count": 58,
   "metadata": {
    "collapsed": false
   },
   "outputs": [
    {
     "name": "stdout",
     "output_type": "stream",
     "text": [
      "cell with largest response: 207\n"
     ]
    }
   ],
   "source": [
    "cell = largest_response.cell.values[0]\n",
    "print('cell with largest response:',cell)"
   ]
  },
  {
   "cell_type": "code",
   "execution_count": 59,
   "metadata": {
    "collapsed": false
   },
   "outputs": [
    {
     "name": "stdout",
     "output_type": "stream",
     "text": [
      "trial that evoked largest response for this cell: 188\n"
     ]
    }
   ],
   "source": [
    "trial = largest_response.trial.values[0]\n",
    "print('trial that evoked largest response for this cell:',trial)"
   ]
  },
  {
   "cell_type": "code",
   "execution_count": 60,
   "metadata": {
    "collapsed": false
   },
   "outputs": [
    {
     "name": "stdout",
     "output_type": "stream",
     "text": [
      "image_name: im013\n",
      "trial_type: go\n"
     ]
    }
   ],
   "source": [
    "image_name = largest_response.change_image_name.values[0]\n",
    "print('image_name:', image_name)\n",
    "trial_type = largest_response.trial_type.values[0]\n",
    "print('trial_type:',trial_type)"
   ]
  },
  {
   "cell_type": "markdown",
   "metadata": {},
   "source": [
    "<div style=\"background: #DFF0D8; border-radius: 3px; padding: 10px;\">\n",
    "<p>**Exercise 5.5: Plot the largest single trial response in the trial_response_df**\n",
    "\n",
    "<p>1) Plot the dF/F trace for the `trial` identified in the exercise above.\n",
    "\n",
    "<p>Bonus: Plot the x_axis as time relative to the trial change time, using the `timestamps` column and knowledge of the range of the `trial_window` (+/- 4 seconds around the change time, accessed as an attribute of the `analysis` object)\n",
    "\n",
    "<p>Extra bonus: Use the function `plot_single_trial_trace` from `visual_behavior.ophys.plotting.summary_figures` \n",
    "</div>"
   ]
  },
  {
   "cell_type": "code",
   "execution_count": 61,
   "metadata": {
    "collapsed": false
   },
   "outputs": [
    {
     "data": {
      "text/plain": [
       "<matplotlib.text.Text at 0x48871390>"
      ]
     },
     "execution_count": 61,
     "metadata": {},
     "output_type": "execute_result"
    },
    {
     "data": {
      "image/png": "[encoded data removed]",
      "text/plain": [
       "<matplotlib.figure.Figure at 0x48888470>"
      ]
     },
     "metadata": {},
     "output_type": "display_data"
    }
   ],
   "source": [
    "plt.plot(largest_response.trace.values[0])\n",
    "plt.xlabel('acquisition frames')\n",
    "plt.ylabel('dF/F')"
   ]
  },
  {
   "cell_type": "code",
   "execution_count": 62,
   "metadata": {
    "collapsed": false
   },
   "outputs": [
    {
     "data": {
      "text/plain": [
       "<matplotlib.text.Text at 0x4ac8e8d0>"
      ]
     },
     "execution_count": 62,
     "metadata": {},
     "output_type": "execute_result"
    },
    {
     "data": {
      "image/png": "[encoded data removed]",
      "text/plain": [
       "<matplotlib.figure.Figure at 0x4abdc588>"
      ]
     },
     "metadata": {},
     "output_type": "display_data"
    }
   ],
   "source": [
    "times = largest_response.timestamps.values[0]\n",
    "times = times-times[0]\n",
    "times = times-4\n",
    "plt.plot(times,largest_response.trace.values[0])\n",
    "plt.xlabel('time relative to change (sec)')\n",
    "plt.ylabel('dF/F')"
   ]
  },
  {
   "cell_type": "code",
   "execution_count": 63,
   "metadata": {
    "collapsed": false
   },
   "outputs": [
    {
     "data": {
      "text/plain": [
       "<matplotlib.axes._subplots.AxesSubplot at 0x488fbb00>"
      ]
     },
     "execution_count": 63,
     "metadata": {},
     "output_type": "execute_result"
    },
    {
     "data": {
      "image/png": "[encoded data removed]",
      "text/plain": [
       "<matplotlib.figure.Figure at 0x8c215c0>"
      ]
     },
     "metadata": {},
     "output_type": "display_data"
    }
   ],
   "source": [
    "#Alternatively, use the plotting functions in visual_behavior.ophys.plotting.summary_figures\n",
    "import visual_behavior.ophys.plotting.summary_figures as sf\n",
    "\n",
    "trace = largest_response.trace.values[0]\n",
    "frame_rate = analysis.ophys_frame_rate\n",
    "sf.plot_single_trial_trace(trace, frame_rate, ylabel='dF/F', legend_label=None, color='k', interval_sec=1, xlims=[-4, 4], ax=None)"
   ]
  },
  {
   "cell_type": "markdown",
   "metadata": {},
   "source": [
    "<div style=\"background: #DFF0D8; border-radius: 3px; padding: 10px;\">\n",
    "<p>**Exercise 5.6: Get the cell traces for all trials that meet the set of conditions that evoked the maximum single trial response**\n",
    "\n",
    "<p>1) For your `cell`, get the dF/F traces in the `trace` column for all trials that meet the conditions that evoked the max response (combination of `trial_type` and `image_name` identified above) and assign to a variable called `traces`\n",
    "\n",
    "<p>Hint 1: Use `cell`, `image_name`, and `trial_type` to index into `trial_response_df`\n",
    "\n",
    "<p>Hint 2: Make sure to extract the an array of the values of response, not as a series\n",
    "</div>"
   ]
  },
  {
   "cell_type": "code",
   "execution_count": 64,
   "metadata": {
    "collapsed": false,
    "scrolled": false
   },
   "outputs": [
    {
     "data": {
      "text/plain": [
       "436      [0.388025726518, 0.199651968648, 0.27717712952...\n",
       "2039     [0.0578053948547, -0.0144773669144, 0.09192335...\n",
       "3642     [0.0658462171464, 0.0389316727076, -0.14062584...\n",
       "4558     [-0.0317866601621, -0.0219630689069, -0.198964...\n",
       "5703     [-0.0531199543059, 0.0635571800864, -0.0307763...\n",
       "10283    [-0.0217043251789, 0.0306352678479, 0.14193775...\n",
       "12115    [0.0932309567006, -0.0487257711679, 0.00803986...\n",
       "14176    [-0.104648971115, 0.0285100474801, 0.165603832...\n",
       "16924    [-0.0415220229459, 0.193342648849, 0.095092240...\n",
       "19672    [0.138683951693, 0.204171920824, 0.07566130143...\n",
       "22191    [-0.0209742171994, -0.0157893708708, 0.0014272...\n",
       "23336    [0.134018220126, 0.0436367525188, -0.002501427...\n",
       "27229    [-0.118965687325, 0.0894248387768, -0.23625318...\n",
       "27687    [-0.199759705859, -0.0414617758141, -0.1247882...\n",
       "29519    [-0.155285660116, 0.070078579467, -0.002144423...\n",
       "30435    [0.0209037265362, -0.0713466633139, -0.0935880...\n",
       "33870    [0.027498651658, 0.0359309848536, 0.1235324864...\n",
       "35244    [0.0514652642417, 0.125212211953, -0.041562175...\n",
       "37305    [0.0737204606567, 0.0883724496156, 0.043408301...\n",
       "37763    [-0.0396357641233, -0.103907221223, -0.0737656...\n",
       "38679    [-0.146604016939, -0.0137872513512, 0.08521558...\n",
       "43259    [0.122396233195, 0.195269695028, 0.04518116940...\n",
       "43946    [0.0741403941793, -0.0574181125179, 0.04501574...\n",
       "45549    [-0.0577062427678, -0.0327578652418, 0.0889005...\n",
       "52648    [-0.0467551257457, 0.0164021548046, 0.01105681...\n",
       "Name: trace, dtype: object"
      ]
     },
     "execution_count": 64,
     "metadata": {},
     "output_type": "execute_result"
    }
   ],
   "source": [
    "traces = tdf[(tdf.cell==cell)&(tdf.trial_type==trial_type)&(tdf.change_image_name==image_name)].trace\n",
    "traces"
   ]
  },
  {
   "cell_type": "code",
   "execution_count": 65,
   "metadata": {
    "collapsed": true
   },
   "outputs": [],
   "source": [
    "traces = traces.values"
   ]
  },
  {
   "cell_type": "markdown",
   "metadata": {},
   "source": [
    "<div style=\"background: #DFF0D8; border-radius: 3px; padding: 10px;\">\n",
    "<p>**Exercise 5.8: Plot the cell's' trial averaged trace for a set of conditions**\n",
    "\n",
    "<p>1) Take the mean of the array of traces from exercise 5.5 and plot it. \n",
    "\n",
    "<p>What are the x and y axes? \n",
    "\n",
    "<p>Note the dynamics of the cell's response. What could be causing the changes in response magnitude over time? \n",
    "</div>"
   ]
  },
  {
   "cell_type": "code",
   "execution_count": 66,
   "metadata": {
    "collapsed": false
   },
   "outputs": [
    {
     "data": {
      "text/plain": [
       "[<matplotlib.lines.Line2D at 0x7b358240>]"
      ]
     },
     "execution_count": 66,
     "metadata": {},
     "output_type": "execute_result"
    },
    {
     "data": {
      "image/png": "[encoded data removed]",
      "text/plain": [
       "<matplotlib.figure.Figure at 0x489df7b8>"
      ]
     },
     "metadata": {},
     "output_type": "display_data"
    }
   ],
   "source": [
    "plt.plot(np.mean(traces))"
   ]
  },
  {
   "cell_type": "markdown",
   "metadata": {},
   "source": [
    "<div style=\"background: #DFF0D8; border-radius: 3px; padding: 10px;\">\n",
    "<p>**Exercise 5.8: Plot the cell's' trial averaged response for go and catch trials using visual_behavior library plotting functions**\n",
    "\n",
    "<p>1) For your cell, get the dF/F traces for all trials for the same `image_name` as above, for 'go' trials. \n",
    "\n",
    "<p>2) Use the function `plot_mean_trace` in visual_behavior.ophys.plotting.summary_figures to plot the mean trace. \n",
    "\n",
    "<p>Check the required inputs for this function using help or by entering shift+tab while the function is selected. You will need to use the `ophys_frame_rate` attribute of the `analysis` class.\n",
    "\n",
    "<p>3) Use the function `plot_flashes_on_trace` to display stimulus presentation times. When is the cell active relative to stimulus display times? \n",
    "\n",
    "<p>Provide a string for the `trial_type` input of `plot_flashes_on_trace`. What is the effect of adding this input on the resulting figure?\n",
    "\n",
    "<p>4) Repeat for 'catch' trials. How is the response different than on 'go' trials? \n",
    "<div>"
   ]
  },
  {
   "cell_type": "code",
   "execution_count": 67,
   "metadata": {
    "collapsed": true
   },
   "outputs": [],
   "source": [
    "import visual_behavior.ophys.plotting.summary_figures as sf "
   ]
  },
  {
   "cell_type": "code",
   "execution_count": 68,
   "metadata": {
    "collapsed": false
   },
   "outputs": [
    {
     "name": "stdout",
     "output_type": "stream",
     "text": [
      "Help on function plot_mean_trace in module visual_behavior.ophys.plotting.summary_figures:\n",
      "\n",
      "plot_mean_trace(traces, frame_rate, ylabel='dF/F', legend_label=None, color='k', interval_sec=1, xlims=[-4, 4], ax=None)\n",
      "    Function that accepts an array of single trial traces and plots the mean and SEM of the trace, with xticklabels in seconds\n",
      "    \n",
      "    :param traces: array of individual trial traces to average and plot. traces must be of equal length\n",
      "    :param frame_rate: ophys frame rate if plotting a calcium trace, stimulus frame rate if plotting running speed\n",
      "    :param y_label: 'dF/F' for calcium trace, 'running speed (cm/s)' for running speed trace\n",
      "    :param legend_label: string describing trace for legend (ex: 'go', 'catch', image name or other condition identifier)\n",
      "    :param color: color to plot the trace\n",
      "    :param interval_sec: interval in seconds for x_axis labels\n",
      "    :param xlims: range in seconds to plot. Must be <= the length of the traces\n",
      "    :param ax: if None, create figure and axes to plot. If axis handle is provided, plot is created on that axis\n",
      "    \n",
      "    :return: axis handle\n",
      "\n"
     ]
    }
   ],
   "source": [
    "help(sf.plot_mean_trace)"
   ]
  },
  {
   "cell_type": "code",
   "execution_count": 69,
   "metadata": {
    "collapsed": false
   },
   "outputs": [
    {
     "data": {
      "text/plain": [
       "<matplotlib.axes._subplots.AxesSubplot at 0x488fb588>"
      ]
     },
     "execution_count": 69,
     "metadata": {},
     "output_type": "execute_result"
    },
    {
     "data": {
      "image/png": "[encoded data removed]",
      "text/plain": [
       "<matplotlib.figure.Figure at 0x488fb7b8>"
      ]
     },
     "metadata": {},
     "output_type": "display_data"
    }
   ],
   "source": [
    "traces = tdf[(tdf.cell==cell)&(tdf.trial_type=='go')&(tdf.change_image_name==image_name)].trace\n",
    "traces = np.asarray(traces)\n",
    "\n",
    "fig,ax = plt.subplots()\n",
    "sf.plot_mean_trace(traces, analysis.ophys_frame_rate, ylabel='dF/F', legend_label='go', color='k', interval_sec=1, xlims=[-4, 4], ax=ax)\n",
    "sf.plot_flashes_on_trace(ax, analysis, trial_type='go', omitted=False, alpha=0.4)"
   ]
  },
  {
   "cell_type": "code",
   "execution_count": 70,
   "metadata": {
    "collapsed": false
   },
   "outputs": [
    {
     "data": {
      "text/plain": [
       "<matplotlib.axes._subplots.AxesSubplot at 0x489f0b38>"
      ]
     },
     "execution_count": 70,
     "metadata": {},
     "output_type": "execute_result"
    },
    {
     "data": {
      "image/png": "[encoded data removed]",
      "text/plain": [
       "<matplotlib.figure.Figure at 0x489f00b8>"
      ]
     },
     "metadata": {},
     "output_type": "display_data"
    }
   ],
   "source": [
    "traces = tdf[(tdf.cell==cell)&(tdf.trial_type=='catch')&(tdf.change_image_name==image_name)].trace\n",
    "traces = np.asarray(traces)\n",
    "\n",
    "fig,ax = plt.subplots()\n",
    "sf.plot_mean_trace(traces, analysis.ophys_frame_rate, ylabel='dF/F', legend_label=None, color='k', interval_sec=1, xlims=[-4, 4], ax=ax)\n",
    "sf.plot_flashes_on_trace(ax, analysis, trial_type=None, omitted=False, alpha=0.4)"
   ]
  },
  {
   "cell_type": "markdown",
   "metadata": {},
   "source": [
    "<div style=\"background: #DFF0D8; border-radius: 3px; padding: 10px;\">\n",
    "<p>**Exercise 5.9: Plot an image tuning curve for responses to the first flash after a change on 'go' trials**\n",
    "\n",
    "<p>1) Filter `trial_response_df` to select only 'go' trials and assign to a variable called `df`.\n",
    "\n",
    "<p>The `mean_response` column of the `trial_response_df` is the mean of the dF/F trace in a 500ms window after the change time for that trial.\n",
    "\n",
    "<p>2) Loop through each `change_image_name` in `df.change_image_name.unique()` and get the values of the `mean_response` column for your `cell`.\n",
    "\n",
    "<p>3) Take the average and SEM of the `mean_response` values for each `change_image_name` and plot a tuning curve. \n",
    "\n",
    "<p>Hint: use `from scipy.stats import sem` to get a function to compute the standard error. \n",
    "\n",
    "<p>How does the tuning curve compare with the one generated in exercise 5.9 using all stimulus presentations? Why would it be different?\n",
    "\n",
    "<p>4) Save the averaged response to each image as an array called 'image_responses'.\n",
    "</div>"
   ]
  },
  {
   "cell_type": "code",
   "execution_count": 71,
   "metadata": {
    "collapsed": true
   },
   "outputs": [],
   "source": [
    "from scipy.stats import sem"
   ]
  },
  {
   "cell_type": "code",
   "execution_count": 72,
   "metadata": {
    "collapsed": false
   },
   "outputs": [],
   "source": [
    "df = analysis.trial_response_df[(analysis.trial_response_df.trial_type=='go')]"
   ]
  },
  {
   "cell_type": "code",
   "execution_count": 73,
   "metadata": {
    "collapsed": false
   },
   "outputs": [],
   "source": [
    "images = np.sort(df.change_image_name.unique())\n",
    "image_responses = []\n",
    "sem_responses = []\n",
    "for i,change_image_name in enumerate(images): \n",
    "    responses = df[(df.change_image_name==change_image_name)&(df.cell==cell)].mean_response.values\n",
    "    mean_response = np.mean(responses)\n",
    "    sem_response = sem(responses)\n",
    "    image_responses.append(mean_response)\n",
    "    sem_responses.append(sem_response)\n",
    "image_responses = np.asarray(image_responses)\n",
    "sem_responses = np.asarray(sem_responses)"
   ]
  },
  {
   "cell_type": "code",
   "execution_count": 74,
   "metadata": {
    "collapsed": false
   },
   "outputs": [
    {
     "data": {
      "image/png": "[encoded data removed]",
      "text/plain": [
       "<matplotlib.figure.Figure at 0x7b365748>"
      ]
     },
     "metadata": {},
     "output_type": "display_data"
    }
   ],
   "source": [
    "x_vals = np.arange(0,len(images),1)\n",
    "plt.plot(x_vals,image_responses,'o',color='k')\n",
    "plt.errorbar(x_vals,image_responses,yerr=sem_responses,color='k')\n",
    "plt.xticks(np.arange(0,len(images),1),images,rotation=90);\n",
    "plt.ylabel('mean dF/F');\n",
    "plt.ylabel('image');\n",
    "plt.title('image tuning curve - go trials');"
   ]
  },
  {
   "cell_type": "markdown",
   "metadata": {},
   "source": [
    "<div style=\"border-left: 3px solid #000; padding: 1px; padding-left: 10px; background: #F0FAFF; \">\n",
    "<h2> Computing cell response metrics - lifetime sparseness </h2>\n",
    "<p>'lifetime sparseness' is a metric for how selective and sparse a cell's activity is across conditions. A high value of this metric indicates high selectivity - a differential response to one or a few stimulus conditions over others. A low value of this metric indicates a similar response across all conditions. \n",
    "\n",
    "<p>We will compute this metric for single cells and take the mean across the population. Before taking the mean, we will filter out cells that do not have a signficant image response.\n",
    "</div>"
   ]
  },
  {
   "cell_type": "markdown",
   "metadata": {},
   "source": [
    "<div style=\"background: #DFF0D8; border-radius: 3px; padding: 10px;\">\n",
    "<p>**Task 6.1: Compute lifetime sparseness using the mean image response on 'go' trials for your cell**\n",
    "<p>Provide the array of `image_responses` created in Exercize 5.9 to the function below to compute the lifetime sparseness metric for your cell. \n",
    "\n",
    "<p>How selective is this cell? \n",
    "</div>"
   ]
  },
  {
   "cell_type": "code",
   "execution_count": 75,
   "metadata": {
    "collapsed": true
   },
   "outputs": [],
   "source": [
    "def compute_lifetime_sparseness(image_responses):\n",
    "    # image responses should be an array of the trial averaged responses to each image\n",
    "    # sparseness = 1-(sum of trial averaged responses to images / N)squared / (sum of (squared mean responses / n)) / (1-(1/N))\n",
    "    # N = number of images\n",
    "    # after Vinje & Gallant, 2000; Froudarakis et al., 2014\n",
    "    N = float(len(image_responses))\n",
    "    ls = ((1-(1/N) * ((np.power(image_responses.sum(axis=0),2)) / (np.power(image_responses,2).sum(axis=0)))) / (1-(1/N)))\n",
    "    return ls"
   ]
  },
  {
   "cell_type": "code",
   "execution_count": 76,
   "metadata": {
    "collapsed": false
   },
   "outputs": [
    {
     "name": "stdout",
     "output_type": "stream",
     "text": [
      "0.736285814052\n"
     ]
    }
   ],
   "source": [
    "ls = compute_lifetime_sparseness(image_responses)\n",
    "print(ls)"
   ]
  },
  {
   "cell_type": "markdown",
   "metadata": {},
   "source": [
    "<div style=\"background: #DFF0D8; border-radius: 3px; padding: 10px;\">\n",
    "<p>**Exercise 6.2: Identify cells with a significant image response**\n",
    "<p>The `p_value` column of the `trial_response_df` is computed as a one-way ANOVA comparing the values of the dF/F trace in the 500ms before the change time with the 500ms after the change time. This window is specified in the `response_window_duration` attribute of the `analysis` object. \n",
    "\n",
    "<p>Let's define responsive cells as having at least 10% of trials with a p_value < 0.005\n",
    "\n",
    "<p>1) Loop through all cells, evaluate the fraction of trials with p_value < 0.005 and make a list of the indicies of responsive cells. Assign the list to a variable called `responsive_cells`.\n",
    "\n",
    "<p>What fraction of cells in this experiment were responsive following a stimulus change? \n",
    "\n",
    "<p>***Add your value for fraction responsive cells to the plot on the board in the appropriate column based on your experiment's metadata***\n",
    "</div>"
   ]
  },
  {
   "cell_type": "code",
   "execution_count": 77,
   "metadata": {
    "collapsed": false
   },
   "outputs": [],
   "source": [
    "responsive_cells = []\n",
    "for cell in df.cell.unique():\n",
    "    cell_data = df[(df.cell==cell)]\n",
    "    total_trials = len(cell_data)\n",
    "    responsive_trials = len(cell_data[cell_data.p_value<0.005])\n",
    "    fraction_responsive_trials = responsive_trials/float(total_trials)\n",
    "    if fraction_responsive_trials > 0.1: \n",
    "        responsive_cells.append(cell)"
   ]
  },
  {
   "cell_type": "code",
   "execution_count": 78,
   "metadata": {
    "collapsed": false
   },
   "outputs": [
    {
     "name": "stdout",
     "output_type": "stream",
     "text": [
      "fraction responsive cells =  0.56768558952\n"
     ]
    }
   ],
   "source": [
    "print('fraction responsive cells = ',len(responsive_cells)/float(len(analysis.trial_response_df.cell.unique())))"
   ]
  },
  {
   "cell_type": "markdown",
   "metadata": {},
   "source": [
    "<div style=\"background: #DFF0D8; border-radius: 3px; padding: 10px;\">\n",
    "<p>**Exercise 6.3: Get the mean lifetime sparseness across  responsive cells** \n",
    "\n",
    "<p>1) Loop through each cell in `responsive_cells`, compute lifetime sparseness as you did above, and add the value to a list. \n",
    "\n",
    "<p>2) Convert the list to an array and take the mean.\n",
    "\n",
    "<p>***Add your mean value to the plot on the board in the appropriate column based on your experiment's metadata***\n",
    "</div>"
   ]
  },
  {
   "cell_type": "code",
   "execution_count": 79,
   "metadata": {
    "collapsed": false
   },
   "outputs": [],
   "source": [
    "images = np.sort(df.change_image_name.unique())\n",
    "lifetime_sparseness_values = []\n",
    "for cell in responsive_cells: \n",
    "    image_responses = []\n",
    "    for i,change_image_name in enumerate(images): \n",
    "        responses = df[(df.cell==cell)&(df.change_image_name==change_image_name)].mean_response.values\n",
    "        mean_response = np.mean(responses)\n",
    "        std_err = sem(responses)\n",
    "        image_responses.append(mean_response)\n",
    "    ls = compute_lifetime_sparseness(np.asarray(image_responses))\n",
    "    lifetime_sparseness_values.append(ls)\n",
    "lifetime_sparseness_values = np.asarray(lifetime_sparseness_values)\n",
    "mean_lifetime_sparseness = np.mean(lifetime_sparseness_values)"
   ]
  },
  {
   "cell_type": "code",
   "execution_count": 80,
   "metadata": {
    "collapsed": false
   },
   "outputs": [
    {
     "name": "stdout",
     "output_type": "stream",
     "text": [
      "mean lifetime sparseness for go trials: 0.344875140073\n"
     ]
    }
   ],
   "source": [
    "print('mean lifetime sparseness for go trials:',mean_lifetime_sparseness)"
   ]
  },
  {
   "cell_type": "markdown",
   "metadata": {},
   "source": [
    "<div style=\"background: #DFF0D8; border-radius: 3px; padding: 10px;\">\n",
    "<p>**Bonus exercise 6.4: Compute lifetime sparseness for catch trials** \n",
    "    \n",
    "<p>Repeat the exercise above using 'trial_response_df', filtered to include only 'catch' trials where no change in stimulus identity occured.\n",
    "\n",
    "<p>How does the result compare to selectivity on 'go' trials only? Why would it be different? \n",
    "</div>"
   ]
  },
  {
   "cell_type": "code",
   "execution_count": 81,
   "metadata": {
    "collapsed": true
   },
   "outputs": [],
   "source": [
    "df = analysis.trial_response_df[(analysis.trial_response_df.trial_type=='catch')]\n",
    "\n",
    "responsive_cells = []\n",
    "for cell in df.cell.unique():\n",
    "    cell_data = df[(df.cell==cell)]\n",
    "    total_trials = len(cell_data)\n",
    "    responsive_trials = len(cell_data[cell_data.p_value<0.005])\n",
    "    fraction_responsive_trials = responsive_trials/float(total_trials)\n",
    "    if fraction_responsive_trials > 0.1: \n",
    "        responsive_cells.append(cell)\n",
    "\n",
    "images = np.sort(df.change_image_name.unique())\n",
    "lifetime_sparseness_values = []\n",
    "for cell in responsive_cells: \n",
    "    image_responses = []\n",
    "    for i,change_image_name in enumerate(images): \n",
    "        responses = df[(df.cell==cell)&(df.change_image_name==change_image_name)].mean_response.values\n",
    "        mean_response = np.mean(responses)\n",
    "        std_err = sem(responses)\n",
    "        image_responses.append(mean_response)\n",
    "    ls = compute_lifetime_sparseness(np.asarray(image_responses))\n",
    "    lifetime_sparseness_values.append(ls)\n",
    "lifetime_sparseness_values = np.asarray(lifetime_sparseness_values)\n",
    "mean_lifetime_sparseness = np.mean(lifetime_sparseness_values)"
   ]
  },
  {
   "cell_type": "code",
   "execution_count": 82,
   "metadata": {
    "collapsed": false
   },
   "outputs": [
    {
     "name": "stdout",
     "output_type": "stream",
     "text": [
      "mean lifetime sparseness for catch trials: 0.597375914417\n"
     ]
    }
   ],
   "source": [
    "print('mean lifetime sparseness for catch trials:',mean_lifetime_sparseness)"
   ]
  },
  {
   "cell_type": "markdown",
   "metadata": {
    "collapsed": true
   },
   "source": [
    "<div style=\"border-left: 3px solid #000; padding: 1px; padding-left: 10px; background: #F0FAFF; \">\n",
    "<h2> Project ideas </h2>\n",
    "<p>Below is a list of suggested project ideas for working with the Visual Behavior dataset\n",
    "\n",
    "</div>"
   ]
  },
  {
   "cell_type": "markdown",
   "metadata": {},
   "source": [
    "* How do single cell or population response metrics vary between cre lines, areas or stimulus types? (ex: time-to-peak, reliability, fano factor, noise correlations, signal correlations, representational similarity, etc.)\n",
    "* Are there distinct or continuous behavioral or neural states within a single behavioral session? (ex: task engagement, expectation, vigilance)\n",
    "* How do response metrics vary across different states?\n",
    "* Can different cell response profiles be classified using supervised or unsupervised clustering methods? \n",
    "* Do motor signals such as running and licking modulate neural respones in different cre lines or areas?\n",
    "* Does reward expectation and trial history influence neural or behavioral responses? (ex: time since last reward, outcome of previous trial(s))\n",
    "* Is there evidence of within session learning for untrained image sets? (behavior_session_B, C, D)\n",
    "* How do cells respond when a stimulus flash is omitted? \n",
    "* Use dimensionality reduction or other methods to visualize the activity of many neurons at once. "
   ]
  },
  {
   "cell_type": "code",
   "execution_count": null,
   "metadata": {
    "collapsed": true
   },
   "outputs": [],
   "source": []
  },
  {
   "cell_type": "code",
   "execution_count": null,
   "metadata": {
    "collapsed": true
   },
   "outputs": [],
   "source": []
  }
 ],
 "metadata": {
  "anaconda-cloud": {},
  "kernelspec": {
   "display_name": "Python 2",
   "language": "python",
   "name": "python2"
  },
  "language_info": {
   "codemirror_mode": {
    "name": "ipython",
    "version": 2
   },
   "file_extension": ".py",
   "mimetype": "text/x-python",
   "name": "python",
   "nbconvert_exporter": "python",
   "pygments_lexer": "ipython2",
   "version": "2.7.13"
  }
 },
 "nbformat": 4,
 "nbformat_minor": 0
}
