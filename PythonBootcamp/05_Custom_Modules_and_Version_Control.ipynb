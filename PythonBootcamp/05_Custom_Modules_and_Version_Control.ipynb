{
 "cells": [
  {
   "cell_type": "markdown",
   "metadata": {},
   "source": [
    "<img src=\"support_files/cropped-SummerWorkshop_Header.png\">  \n",
    "\n",
    "<h1 align=\"center\">Python Bootcamp</h1> \n",
    "<h3 align=\"center\">August 18-19, 2018</h3> "
   ]
  },
  {
   "cell_type": "markdown",
   "metadata": {
    "collapsed": true
   },
   "source": [
    "<div style=\"border-left: 3px solid #000; padding: 1px; padding-left: 10px; background: #F0FAFF; \">\n",
    "<center><h1>Custom Modules and Version Control</h1></center>\n",
    "\n",
    "<p>We have seen that new functinoality in Python can be encapsulated as a <i>module</i>, and that we can import modules into our own code. In this section we will create a new Python module. \n",
    "\n",
    "- Important because encapsulating functions makes them <i>reusable</i>. We will use this mechanism to develop tools that we can share with each other during the course.\n",
    "\n",
    "- We would also like to be able to <i>collaborate</i> on these tools, so at the same time we will look at some of the basics of using git to track changes to our module. This will lay the foundation for collaborative workflows with git that will be dicussed later in the course.\n",
    "\n",
    "- Jupyter is not (currently) a good tool for developing modules or for learning about git, so we will do most of our work with a text editor and a command prompt for this section.\n",
    "\n",
    "</div>"
   ]
  },
  {
   "cell_type": "markdown",
   "metadata": {
    "collapsed": true
   },
   "source": [
    "<div style=\"border-left: 3px solid #000; padding: 1px; padding-left: 10px; background: #F0FAFF; \">\n",
    "Let's begin by making a simple module. For now, it will contain just one function we can use to downsample time-series data.\n",
    "</div>"
   ]
  },
  {
   "cell_type": "code",
   "execution_count": null,
   "metadata": {
    "collapsed": true
   },
   "outputs": [],
   "source": [
    "# here is the code we'd like to include in the module:\n",
    "\n",
    "import numpy as np\n",
    "\n",
    "def downsample(data, n, axis=0):\n",
    "    \"\"\"Reduce the number of samples in an array by averaging together\n",
    "    n samples at a time.\n",
    "    \"\"\"\n",
    "    if n <= 1:\n",
    "        return data\n",
    "    new_len = data.shape[axis] // n\n",
    "    s = list(data.shape)\n",
    "    s[axis] = new_len\n",
    "    s.insert(axis+1, n)\n",
    "    sl = [slice(None)] * data.ndim\n",
    "    sl[axis] = slice(0, new_len*n)\n",
    "    d1 = data[tuple(sl)]\n",
    "    d1.shape = tuple(s)\n",
    "    d2 = d1.mean(axis+1)\n",
    "    return d2"
   ]
  },
  {
   "cell_type": "markdown",
   "metadata": {
    "collapsed": true
   },
   "source": [
    "<div style=\"border-left: 3px solid #000; padding: 1px; padding-left: 10px; background: #F0FAFF; \">\n",
    "Just so we understand what this function does, let's generate a noisy time-series signal and plot it:\n",
    "</div>"
   ]
  },
  {
   "cell_type": "code",
   "execution_count": null,
   "metadata": {
    "collapsed": true,
    "scrolled": true
   },
   "outputs": [],
   "source": [
    "import matplotlib.pyplot as plt\n",
    "%matplotlib inline\n",
    "\n",
    "t = np.linspace(0, 10, 10000)\n",
    "data = np.sin(t) + 5 * np.random.normal(size=len(t))\n",
    "plt.plot(t, data);"
   ]
  },
  {
   "cell_type": "markdown",
   "metadata": {
    "collapsed": true
   },
   "source": [
    "<div style=\"border-left: 3px solid #000; padding: 1px; padding-left: 10px; background: #F0FAFF; \">\n",
    "And this is what the same signal looks like after it has been downsampled. Note that the downsampled signal has many fewer samples, and the overall noise is much smaller.\n",
    "</div>"
   ]
  },
  {
   "cell_type": "code",
   "execution_count": null,
   "metadata": {
    "collapsed": true,
    "scrolled": true
   },
   "outputs": [],
   "source": [
    "ds_data = downsample(data, 200)\n",
    "plt.plot(t[::200], ds_data);"
   ]
  },
  {
   "cell_type": "markdown",
   "metadata": {
    "collapsed": true
   },
   "source": [
    "<div style=\"border-left: 3px solid #000; padding: 1px; padding-left: 10px; background: #F0FAFF; \">\n",
    "Just to reiterate: We have created a useful function, and now we would like to encapsulate it into a module so that\n",
    "\n",
    "<ul>\n",
    "<li>We can re-use this function in many different places without copying it, and\n",
    "<li>We can share this function with other people.\n",
    "</ul>\n",
    "\n",
    "<br>\n",
    "<hr>\n",
    "\n",
    "Here's how to turn this code into a module:\n",
    "<ol>\n",
    "<li>Open a code editor (pycharm, sublime, etc.) and paste in the definition of `downsample()` given above, including the `import numpy` statement.\n",
    "<li>Save the file as `my_module.py` in the same location as this notebook.\n",
    "</ol>\n",
    "<br>\n",
    "You're done!<br>\n",
    "\n",
    "Now let's see if it works:\n",
    "\n",
    "</div>"
   ]
  },
  {
   "cell_type": "code",
   "execution_count": null,
   "metadata": {
    "collapsed": true
   },
   "outputs": [],
   "source": [
    "# Import the new definition of `downsample` from your module\n",
    "from my_module import downsample\n",
    "\n",
    "# If you get \"ImportError: No module named my_module\", then make sure\n",
    "# the .py file was saved in the correct location."
   ]
  },
  {
   "cell_type": "code",
   "execution_count": null,
   "metadata": {
    "collapsed": true
   },
   "outputs": [],
   "source": [
    "# test again:\n",
    "ds_data = downsample(data, 200)\n",
    "plt.plot(t[::200], ds_data);"
   ]
  },
  {
   "cell_type": "markdown",
   "metadata": {
    "collapsed": true
   },
   "source": [
    "<div style=\"border-left: 3px solid #000; padding: 1px; padding-left: 10px; background: #F0FAFF; \">\n",
    "Good so far, but there are some issues with this approach:\n",
    "\n",
    "<ul>\n",
    "<li>Often we will want to encapsulate multiple files and make them appear as a single module.\n",
    "<li>If we distribute this code, we will at least want to include a README to explain what it's about, so I'd really like my module to live inside its own folder.\n",
    "</ul>\n",
    "\n",
    "<br>\n",
    "<hr>\n",
    "So now we are going to turn this module into a <i>package</i>, which is really just a collection of modules inside a folder, along with some Python glue.\n",
    "<ol>\n",
    "<li>Make a new folder, in the same location as this notebook, called `my_package`\n",
    "<li>Move `my_module.py` into this new folder\n",
    "<li>Create an empty text file called `__init__.py` inside `my_package`. (note the double underscores)\n",
    "</ol>\n",
    "<br>\n",
    "The `__init__.py` file is a hint to Python that tells it \"this folder is a package that can be imported\".\n",
    "\n",
    "<hr>\n",
    "Now let's try importing from the new package:\n",
    "\n",
    "</div>"
   ]
  },
  {
   "cell_type": "code",
   "execution_count": null,
   "metadata": {
    "collapsed": true
   },
   "outputs": [],
   "source": [
    "from my_package.my_module import downsample"
   ]
  },
  {
   "cell_type": "code",
   "execution_count": null,
   "metadata": {
    "collapsed": true,
    "scrolled": true
   },
   "outputs": [],
   "source": [
    "# test again:\n",
    "ds_data = downsample(data, 200)\n",
    "plt.plot(t[::200], ds_data);"
   ]
  },
  {
   "cell_type": "markdown",
   "metadata": {},
   "source": [
    "<div style=\"border-left: 3px solid #000; padding: 1px; padding-left: 10px; background: #F0FAFF; \">\n",
    "<h3>A note about namespaces</h3>\n",
    "\n",
    "<p>Each python <i>file</i> that you work with has its own isolated namespace. That means we could write `x=1` inside the module, and `x=2` inside this notebook, and the two names will <i>not</i> collide; each `x` variable lives in a different namespace. `import` statements are how we create a reference from one module's namespace into another.\n",
    "\n",
    "</div>"
   ]
  },
  {
   "cell_type": "code",
   "execution_count": null,
   "metadata": {
    "collapsed": true,
    "scrolled": true
   },
   "outputs": [],
   "source": [
    "import my_package.my_module\n",
    "\n",
    "# my_package contains a namespace with the variable \"my_module\"\n",
    "dir(my_package)"
   ]
  },
  {
   "cell_type": "code",
   "execution_count": null,
   "metadata": {
    "collapsed": true,
    "scrolled": true
   },
   "outputs": [],
   "source": [
    "# my_module contains its own namespace where the \"downsample\" function is defined and numpy has been imported\n",
    "dir(my_package.my_module)"
   ]
  },
  {
   "cell_type": "code",
   "execution_count": null,
   "metadata": {
    "collapsed": true
   },
   "outputs": [],
   "source": [
    "# The notebook we are working in contains its own namespace, which includes the name \"my_package\",\n",
    "# amongst others.\n",
    "dir()"
   ]
  },
  {
   "cell_type": "markdown",
   "metadata": {},
   "source": [
    "<div style=\"border-left: 3px solid #000; padding: 1px; padding-left: 10px; background: #F0FAFF; \">\n",
    "<h2>Working with git</h2>\n",
    "<br>\n",
    "Now that we have a working package, let's start talking about version control. We are going to use `git` to record a history of all changes to all files in this package. This will enable us to do several important things:\n",
    "\n",
    "<ul>\n",
    "<li>Compare the differences between versions of the code\n",
    "<li>Temporarily run other versions of the code, or revert back to an earlier version if we encounter problems\n",
    "<li>Publish our code on websites like github or bitbucket\n",
    "<li>Collaborate with others by automatically merging their changes with ours\n",
    "</ul>\n",
    "\n",
    "</div>"
   ]
  },
  {
   "cell_type": "markdown",
   "metadata": {},
   "source": [
    "<div style=\"border-left: 3px solid #000; border-top: 1px solid #DDD; padding: 20px; padding-left: 10px; background: #F0FAFF; \">\n",
    "<h3>First: some one-time configuration</h3>\n",
    "<br>\n",
    "This is needed only once per _machine_ that you work on. Tell git who you are:\n",
    "\n",
    "<div style='color: #CCC; background-color: #000; font-family: monospace; white-space: pre; padding: 15px; margin: 10px; margin-left: 30px'><span style=\"color: #8DA; font-weight: bold;\">$ </span><span style=\"color: #FFF; font-weight: bold;\">git configure --global user.name \"Your Full Name\"</span>\n",
    "\n",
    "<span style=\"color: #8DA; font-weight: bold;\">$ </span><span style=\"color: #FFF; font-weight: bold;\">git configure --global user.email your_email@domain.com</span> \n",
    "</div>\n",
    "\n",
    "Git will use this information to annotate your commits with the correct authorship information. It is <b>not</b> used to log in to any services (like github). \n",
    "\n",
    "Next, tell git what editor you would like to use when writing commit messages. The default editor is <i>vim</i>. If you are not already comfortable using vim, pick one of the following:\n",
    "\n",
    "<div style='color: #CCC; background-color: #000; font-family: monospace; white-space: pre; padding: 15px; margin: 10px; margin-left: 30px'><span style=\"color: #8DA; font-weight: bold;\">$ </span><span style=\"color: #FFF; font-weight: bold;\">git configure --global core.editor notepad</span>   (for windows)\n",
    "\n",
    "<span style=\"color: #8DA; font-weight: bold;\">$ </span><span style=\"color: #FFF; font-weight: bold;\">git configure --global core.editor \"open -W -n\"</span>   (for OSX)\n",
    "\n",
    "<span style=\"color: #8DA; font-weight: bold;\">$ </span><span style=\"color: #FFF; font-weight: bold;\">git configure --global core.editor \"subl -n -w\"</span>   (if you like sublime)\n",
    "</div>\n",
    "</div>"
   ]
  },
  {
   "cell_type": "markdown",
   "metadata": {},
   "source": [
    "<h2>Definitions:</h2>\n",
    "\n",
    "<p><b>Commit (n)</b> A snapshot of the state of all files in your project at one point in time. A commit includes some metadata:\n",
    "<ul>\n",
    "<li>Author\n",
    "<li>Creation date\n",
    "<li>A short description (written by the developer)\n",
    "<li>A unique ID (SHA hash)\n",
    "<li>Parent ID(s)\n",
    "</ul>\n",
    "\n",
    "<p><b>Commit (v)</b> To create a new commit. \n",
    "\n",
    "<p><b>Repository (n)</b> A folder that contains all of the files associated with a project and the history of changes made to each file. A git repository contains a `.git` subfolder that stores all data about the history of commits and the configuration of the repository."
   ]
  },
  {
   "cell_type": "markdown",
   "metadata": {},
   "source": [
    "<div style=\"border-left: 3px solid #000; border-top: 1px solid #DDD; padding: 20px; padding-left: 10px; background: #F0FAFF; \">\n",
    "<h3>Creating a new git repository</h3>\n",
    "<br>\n",
    "From a command prompt, navigate to the location of your new package:\n",
    "\n",
    "<div style='color: #CCC; background-color: #000; font-family: monospace; white-space: pre; padding: 15px; margin: 10px; margin-left: 30px'><span style=\"color: #8DA; font-weight: bold;\">PythonBootcamp/my_package$ </span><span style=\"color: #FFF; font-weight: bold;\">cd [some path]/PythonBootcamp/my_package</span>\n",
    "</div>\n",
    "\n",
    "Note: we are using the command prompt for this tutorial, but it is possible to execute all of the same actions using GUI tools. \n",
    "<div> <!-- NOTE: this div is a workaround for a jupyter HTML export bug --> </div>\n",
    "</div>"
   ]
  },
  {
   "cell_type": "markdown",
   "metadata": {},
   "source": [
    "<div style=\"border-left: 3px solid #000; border-top: 1px solid #DDD; padding: 20px; padding-left: 10px; background: #F0FAFF; \">\n",
    "Create a new git repository here and list the contents of the folder:\n",
    "\n",
    "<div style='color: #CCC; background-color: #000; font-family: monospace; white-space: pre; padding: 15px; margin: 10px; margin-left: 30px'><span style=\"color: #8DA; font-weight: bold;\">PythonBootcamp/my_package (master)$ </span><span style=\"color: #FFF; font-weight: bold;\">git init</span>\n",
    "Initialized empty Git repository in .../PythonBootcamp/my_package/.git/\n",
    "\n",
    "<span style=\"color: #8DA; font-weight: bold;\">PythonBootcamp/my_package$ </span><span style=\"color: #FFF; font-weight: bold;\">ls -al</span>\n",
    "total 24\n",
    "drwxrwxr-x 3 luke luke 4096 Jul 25 17:06 .\n",
    "drwxrwxr-x 4 luke luke 4096 Jul 25 17:05 ..\n",
    "drwxrwxr-x 7 luke luke 4096 Jul 25 17:06 .git\n",
    "-rw-rw-r-- 1 luke luke    0 Jul 25 14:58 \\__init\\__.py\n",
    "-rw-rw-r-- 1 luke luke  109 Jul 25 14:58 \\__init\\__.pyc\n",
    "-rw-rw-r-- 1 luke luke  455 Jul 25 14:45 my_module.py\n",
    "-rw-rw-r-- 1 luke luke  716 Jul 25 14:58 my_module.pyc\n",
    "</div>\n",
    "\n",
    "We can see that running `git init` has created a new subfolder called `.git`. This is where git will store all of our version tracking information. This command only needs to be run once when you first create a new repository.\n",
    "<div> <!-- NOTE: this div is a workaround for a jupyter HTML export bug --> </div>\n",
    "</div>"
   ]
  },
  {
   "cell_type": "markdown",
   "metadata": {},
   "source": [
    "<div style=\"border-left: 3px solid #000; border-top: 1px solid #DDD; padding: 20px; padding-left: 10px; background: #F0FAFF; \">\n",
    "Now use `git status` to ask git about the current state of the repository. This is a command that we will run over and over:\n",
    "\n",
    "<div style='color: #CCC; background-color: #000; font-family: monospace; white-space: pre; padding: 15px; margin: 10px; margin-left: 30px'><span style=\"color: #8DA; font-weight: bold;\">PythonBootcamp/my_package (master)$ </span><span style=\"color: #FFF; font-weight: bold;\">git status</span>\n",
    "On branch master\n",
    "\n",
    "Initial commit\n",
    "\n",
    "Untracked files:\n",
    "  (use \"git add <file>...\" to include in what will be committed)\n",
    "<span style=\"color: red;\">\n",
    "        \\__init\\__.py\n",
    "        \\__init\\__.pyc\n",
    "        my_module.py\n",
    "        my_module.pyc\n",
    "</span>\n",
    "nothing added to commit but untracked files present (use \"git add\" to track)\n",
    "</div>\n",
    "\n",
    "There is a lot of information here, but for now let's focus on the \"Untracked files\" section. This tells us that there are a few files here that git has _not_ begun tracking in this repository.\n",
    "<div> <!-- NOTE: this div is a workaround for a jupyter HTML export bug --> </div>\n",
    "</div>"
   ]
  },
  {
   "cell_type": "markdown",
   "metadata": {},
   "source": [
    "<div style=\"border-left: 3px solid #000; border-top: 1px solid #DDD; padding: 20px; padding-left: 10px; background: #F0FAFF; \">\n",
    "Let's ask git to begin tracking our two .py files:\n",
    "\n",
    "<div style='color: #CCC; background-color: #000; font-family: monospace; white-space: pre; padding: 15px; margin: 10px; margin-left: 30px'><span style=\"color: #8DA; font-weight: bold;\">PythonBootcamp/my_package (master)$ </span><span style=\"color: #FFF; font-weight: bold;\">git add \\__init\\__.py my_module.py</span>\n",
    "\n",
    "<span style=\"color: #8DA; font-weight: bold;\">PythonBootcamp/my_package (master)$ </span><span style=\"color: #FFF; font-weight: bold;\">git status</span>\n",
    "On branch master\n",
    "\n",
    "Initial commit\n",
    "\n",
    "Changes to be committed:\n",
    "  (use \"git rm --cached <file>...\" to unstage)\n",
    "<span style='color: green'>\n",
    "        new file:   \\__init\\__.py\n",
    "        new file:   my_module.py\n",
    "</span>\n",
    "Untracked files:\n",
    "  (use \"git add <file>...\" to include in what will be committed)\n",
    "<span style='color: red'>\n",
    "        \\__init\\__.pyc\n",
    "        my_module.pyc\n",
    "</span>\n",
    "</div>\n",
    "\n",
    "Now we can see that the files we added are listed under \"Changes to be committed\" instead of \"Untracked files\". We are ready to create our first commit. After running this command, you should be presented with a text editor containing information about the changes that are being committed. Write a short message explaining the purpose of this commit at the top of the file (\"initial commit\" is common for the first commit), then save and exit the editor.\n",
    "\n",
    "<div style='color: #CCC; background-color: #000; font-family: monospace; white-space: pre; padding: 15px; margin: 10px; margin-left: 30px'><span style=\"color: #8DA; font-weight: bold;\">PythonBootcamp/my_package (master)$ </span><span style=\"color: #FFF; font-weight: bold;\">git commit</span>\n",
    "[master (root-commit) 2ddcf4c] Initial commit\n",
    " 2 files changed, 18 insertions(+)\n",
    " create mode 100644 \\__init\\__.py\n",
    " create mode 100644 my_module.py\n",
    "</div>\n",
    "\n",
    "Run `git status` again to verify that there are no more \"Changes to be committed\" and our two .py files are no longer listed under \"Untracked files\".\n",
    "\n",
    "You have just created a commit. This is a snapshot of the current state of the files in the repository (just our two .py files). At any time, we will be able to return to this snapshot if we want.\n",
    "<div> <!-- NOTE: this div is a workaround for a jupyter HTML export bug --> </div>\n",
    "</div>"
   ]
  },
  {
   "cell_type": "markdown",
   "metadata": {},
   "source": [
    "<div style=\"border-left: 3px solid #000; border-top: 1px solid #DDD; padding: 20px; padding-left: 10px; background: #F0FAFF; \">\n",
    "<h3>Adding more commits</h3>\n",
    "<br>\n",
    "We will now go through the motions of editing and committing code changes a few times. The basic workflow will be:\n",
    "\n",
    "<ol>\n",
    "<li>Make changes\n",
    "<li>`git status`\n",
    "<li>`git diff`\n",
    "<li>`git add`\n",
    "<li>`git commit`\n",
    "</ol>\n",
    "\n",
    "In your code editor, go back to `my_module.py` and add some more detail to the docstring:\n",
    "\n",
    "<pre>\n",
    "Parameters\n",
    "----------\n",
    "data : array\n",
    "    The input array to be downsampled.\n",
    "n : int\n",
    "    Downsampling factor; this is the number of raw samples that will be averaged\n",
    "    together for each new sample.\n",
    "axis : int\n",
    "    The array axis that should be downsampled (default=0).\n",
    "</pre>\n",
    "\n",
    "Now we'd like to commit this change. First let's see what git thinks of the situation:\n",
    "\n",
    "<div style='color: #CCC; background-color: #000; font-family: monospace; white-space: pre; padding: 15px; margin: 10px; margin-left: 30px'><span style=\"color: #8DA; font-weight: bold;\">PythonBootcamp/my_package (master)$ </span><span style=\"color: #FFF; font-weight: bold;\">git status</span>\n",
    "On branch master\n",
    "Changes not staged for commit:\n",
    "  (use \"git add <file>...\" to update what will be committed)\n",
    "  (use \"git checkout -- <file>...\" to discard changes in working directory)\n",
    "<span style=\"color:red\">\n",
    "        modified:   my_module.py\n",
    "</span>\n",
    "Untracked files:\n",
    "  (use \"git add <file>...\" to include in what will be committed)\n",
    "<span style=\"color:red\">\n",
    "        \\__init\\__.pyc\n",
    "        my_module.pyc\n",
    "</span>\n",
    "no changes added to commit (use \"git add\" and/or \"git commit -a\")\n",
    "\n",
    "<span style=\"color: #8DA; font-weight: bold;\">PythonBootcamp/my_package (master)$ </span><span style=\"color: #FFF; font-weight: bold;\">git diff</span>\n",
    "<span style=\"color:white\">diff --git a/my_module.py b/my_module.py\n",
    "index 622a7d6..bf75c82 100644\n",
    "--- a/my_module.py\n",
    "+++ b/my_module.py</span>\n",
    "<span style=\"color:cyan\">@@ -3,6 +3,16 @@</span> import numpy as np\n",
    " def downsample(data, n, axis=0):\n",
    "     \"\"\"Reduce the number of samples in an array by averaging together\n",
    "     n samples at a time.\n",
    "<span style=\"color:green\">+    \n",
    "+    Parameters\n",
    "+    ----------\n",
    "+    data : array\n",
    "+        The input array to be downsampled.\n",
    "+    n : int\n",
    "+        Downsampling factor; this is the number of raw samples that will be averaged\n",
    "+        together for each new sample.\n",
    "+    axis : int\n",
    "+        The array axis that should be downsampled (default=0).</span>\n",
    "     \"\"\"\n",
    "     if n <= 1:\n",
    "         return data\n",
    "\n",
    "</div>\n",
    "\n",
    "We can see by running `git status` that git can tell we have modified `my_module.py`. We have also introduced a new command here, `git diff`, which shows us exactly what has changed since the last commit.\n",
    "\n",
    "If you are satisfied that these changes are ready, then create the next commit:\n",
    "\n",
    "<div style='color: #CCC; background-color: #000; font-family: monospace; white-space: pre; padding: 15px; margin: 10px; margin-left: 30px'><span style=\"color: #8DA; font-weight: bold;\">PythonBootcamp/my_package (master)$ </span><span style=\"color: #FFF; font-weight: bold;\">git add my_module.py</span>\n",
    "\n",
    "<span style=\"color: #8DA; font-weight: bold;\">PythonBootcamp/my_package (master)$ </span><span style=\"color: #FFF; font-weight: bold;\">git commit</span>\n",
    "</div>\n",
    "\n",
    "Note that we used `git add` to \"stage\" the file's changes to be included in the next commit. As a shorthand, we could also have run:\n",
    "\n",
    "<div style='color: #CCC; background-color: #000; font-family: monospace; white-space: pre; padding: 15px; margin: 10px; margin-left: 30px'><span style=\"color: #8DA; font-weight: bold;\">PythonBootcamp/my_package (master)$ </span><span style=\"color: #FFF; font-weight: bold;\">git commit my_module.py</span>\n",
    "</div>\n",
    "</div>"
   ]
  },
  {
   "cell_type": "markdown",
   "metadata": {},
   "source": [
    "<div>\n",
    "<h3>Git good practice #1: Make clean commits.</h3>\n",
    "<br>\n",
    "_Staging_ gives us finer control over which changes are included in each commit. First we tell git which changes will be included in the next commit, and then we commit all staged changes at once. In this simple example, it may seem like an unnecessary extra step. If git already knows which files have changed, why not just commit all changes automatically?\n",
    "\n",
    "<p>When working with any version control system, it is helpful for each code snapshot to introduce changes that are _complete_ and _related_. Ideally, each new commit should add one new feature, or bugfix, or concept, and the commit should not contain unfinished ideas. Why is this good practice? Sometimes we need to go back through the history of changes to find where a bug was introduced, or to revert a set of changes, or even just to understand the structure of the commit history (which can become quite complex).\n",
    "\n",
    "<p>But many of us don't program that way--we like to plow through the code, making many unrelated changes here and there. In practice, it is very easy (and common) to lose track of which files you have changed in between commits. Perhaps you added some temporary debugging code that you forgot to remove, or started a new file but forgot to ask git to track it, or forgot about an unfinished piece of code. \n",
    "\n",
    "<p><b>Get into the habit of checking the state of your repository before each commit.</b> Run `git status` and `git diff` regularly and review your work before you commit it--errors will be much easier to catch and resolve at this stage, while you still remember why you made these changes. Make an effort to organize your changes into logical, complete commits.\n",
    "\n",
    "<p><b>BUT:</b> at the same time, balance this with the need to develop quickly; sometimes the extra organization really isn't worth the extra effort, especially when you are prototyping a new project (my commit frequency varies between once per day and several times per hour, depending on the task). Over time you will learn what works for you.\n",
    "\n",
    "</div>"
   ]
  },
  {
   "cell_type": "markdown",
   "metadata": {},
   "source": [
    "<div style=\"border-left: 3px solid #000; border-top: 1px solid #DDD; padding: 20px; padding-left: 10px; background: #F0FAFF; \">\n",
    "<h3>A little more commit practice</h3>\n",
    "<br>\n",
    "Let's make a few more changes:\n",
    "\n",
    "<ul>\n",
    "<li>Add more documentation to the `downsample()` docstring:\n",
    "<pre>\n",
    "  ```\n",
    "  Returns\n",
    "  -------\n",
    "  array\n",
    "      An array in which each item is the average of *n* items\n",
    "      from the input *data* array.\n",
    "  ```\n",
    "</pre>\n",
    "<li>Create a `README` file describing the package\n",
    "<li>Create a `.gitignore` file that contains just the text: `*.pyc`\n",
    "</ul>\n",
    "\n",
    "<p>Now use `git status` and `git diff` to review the changes. Notice that creating the `.gitignore` file causes the pyc files to be omitted when running `git status`.\n",
    "\n",
    "<p>Commit each of your changes, one at a time. Repeat the cycle:\n",
    "<ol>\n",
    "<li>git status\n",
    "<li>git diff\n",
    "<li>git add\n",
    "<li>git commit\n",
    "</ol>\n",
    "\n",
    "<div> <!-- NOTE: this div is a workaround for a jupyter HTML export bug --> </div>\n",
    "</div>"
   ]
  },
  {
   "cell_type": "markdown",
   "metadata": {},
   "source": [
    "<div style=\"border-left: 3px solid #000; border-top: 1px solid #DDD; padding: 20px; padding-left: 10px; background: #F0FAFF; \">\n",
    "<h3>Backtracking</h3>\n",
    "<br>\n",
    "\n",
    "One of the reasons we use version control is so that we can keep track of our changes, dig through the change history, and sometimes throw out new changes that we don't want to keep. There are many differnet reasons we could explore, and many different ways to do this, but let's just focus on two common ones:\n",
    "\n",
    "<h4>1) I have made a mistake and would like to revert a file back to the state it was in at my most recent commit.</h4>\n",
    "\n",
    "<p>This is pretty common: perhaps you made some changes that you would like to abandon, or accidentally deleted a file, and you just want to restore the last committed state of that file. Start by making a change to my_module.py and saving the file. Run `git diff` to see what has changed.\n",
    "\n",
    "<p>Now discard all changes to that file using the `git checkout` command:\n",
    "\n",
    "<div style='color: #CCC; background-color: #000; font-family: monospace; white-space: pre; padding: 15px; margin: 10px; margin-left: 30px'><span style=\"color: #8DA; font-weight: bold;\">PythonBootcamp/my_package (master)$ </span><span style=\"color: #FFF; font-weight: bold;\">git checkout my_module.py</span>\n",
    "</div>\n",
    "\n",
    "<p>Presto! Your file is back to its original state. A good code editor will monitor your code file and automatically refresh whenever git makes a change.\n",
    "<div> <!-- NOTE: this div is a workaround for a jupyter HTML export bug --> </div>\n",
    "</div>"
   ]
  },
  {
   "cell_type": "markdown",
   "metadata": {},
   "source": [
    "<h2>Definitions:</h2>\n",
    "\n",
    "<p><b>Checkout (v)</b> To <i>replace</i> the contents of the files that are currently present in the repository with the contents previously stored in a commit. This can be used to affect individual files or the entire contents of the repository at once (by checking out a commit or branch instead of a single file).\n",
    "\n",
    "<p><b>Tag (n)</b> A named pointer to a commit. This is typically used to permanently mark a specific commit in a repository such as a release version, or a version referenced in a publication. Checking out a tag usign `git checkout tagname` is the same as checking out the commit that is referenced by the tag.\n",
    "\n",
    "<p><b>Branch (n)</b> \n",
    "<ol>\n",
    "<li>A chain of related commits. This is <b>not</b> the definition understood by git.\n",
    "<li>A named pointer to a specific commit. Unlike tags, branches have special property that, when they are checked out using `git checkout branchname`, creating a new commit will cause the branch to be updated to point to the new commit. In this way, branches usually point to the most recent commit in any chain of commits.\n",
    "</ol>\n",
    "\n",
    "<p><b>Branch (v)</b> To create a new branch using `git branch`."
   ]
  },
  {
   "cell_type": "markdown",
   "metadata": {},
   "source": [
    "<div style=\"border-left: 3px solid #000; border-top: 1px solid #DDD; padding: 20px; padding-left: 10px; background: #F0FAFF; \">\n",
    "<h4>2) I'm deep in developing a new feature. Right now all of my code is broken and I just want to run an older version of my code, and then return to developing my feature.</h4>\n",
    "\n",
    "<p>Here's how we will handle this:\n",
    "<ol>\n",
    "<li>Commit all of our pending changes, if we are at a good stopping place. If not, use `git stash` to make a <i>temporary</i> commit that we can come back to and finish later.\n",
    "<li><i>Check out</i> an old commit where things were working well\n",
    "<li>Check out our latest commit, use `git stash pop` to restore the changes we were working on, and continue working\n",
    "</ol>\n",
    "\n",
    "<p>Start by making some changes to my_module.py that will prevent it from running. You are deep in thought, but a colleague has just approached and asked for a demo of your code (which is currently broken). \n",
    "\n",
    "<p>Stash your changes with `git stash` \n",
    "\n",
    "<div style='color: #CCC; background-color: #000; font-family: monospace; white-space: pre; padding: 15px; margin: 10px; margin-left: 30px'><span style=\"color: #8DA; font-weight: bold;\">PythonBootcamp/my_package (master)$ </span><span style=\"color: #FFF; font-weight: bold;\">git stash</span>\n",
    "Saved working directory and index state WIP on master: 31f49fb Add more documentation\n",
    "HEAD is now at 31f49fb Add more documentation\n",
    "</div>\n",
    "\n",
    "<p>Running git stash has taken all of your work in progress (including anything staged) and turned it into a temporary commit. Look back at your code editor; you should find that the changes you began are now gone. If this makes you nervous, remember: <i>git</i> is in control of your code, not your editor.\n",
    "\n",
    "<p>Now that the working tree is clean (there are no uncommitted changes lying around), we are free to \"check out\" any previous commit to see what the code looked like at that time. In gitk, click on the initial commit and look at the SHA value. This is a long hexadecimal number that we can use as a unique identifier for this particular commit. Use the `git checkout` command to roll back the current state of the repository to our first commit:\n",
    "\n",
    "<div style='color: #CCC; background-color: #000; font-family: monospace; white-space: pre; padding: 15px; margin: 10px; margin-left: 30px'><span style=\"color: #8DA; font-weight: bold;\">PythonBootcamp/my_package (master)$ </span><span style=\"color: #FFF; font-weight: bold;\">git checkout f6dfa278</span>   (write in the first few digits of your SHA)\n",
    "Note: checking out 'f6dfa278'.\n",
    "\n",
    "You are in 'detached HEAD' state. You can look around, make experimental\n",
    "changes and commit them, and you can discard any commits you make in this\n",
    "state without impacting any branches by performing another checkout.\n",
    "\n",
    "If you want to create a new branch to retain commits you create, you may\n",
    "do so (now or later) by using -b with the checkout command again. Example:\n",
    "\n",
    "  git checkout -b <new-branch-name>\n",
    "\n",
    "HEAD is now at f6dfa27... Initial commit\n",
    "</div>\n",
    "\n",
    "Now: \n",
    "<ul>\n",
    "<li>Press F5 in gitk to see what has changed: \"master\" still points to the same place, and our stash is still in place, but the initial commit line is highlighted in bold to indicate that it is currently checked out.\n",
    "<li>Look at your code editor and note that our docstring changes are gone.\n",
    "<li>Run `ls` from the command line and note that the README and .gitignore files are gone.\n",
    "</ul>\n",
    "\n",
    "<p>From here, we can demo the code as it functioned when it was first committed. When we are ready to resume developing, we check out the latest commit, and then unstash the changes we were working on:\n",
    "\n",
    "<div style='color: #CCC; background-color: #000; font-family: monospace; white-space: pre; padding: 15px; margin: 10px; margin-left: 30px'><span style=\"color: #8DA; font-weight: bold;\">PythonBootcamp/my_package ((HEAD detached at f6dfa27))$ </span><span style=\"color: #FFF; font-weight: bold;\">git checkout master</span>\n",
    "Previous HEAD position was f6dfa27... Initial commit\n",
    "Switched to branch 'master'\n",
    "\n",
    "<span style=\"color: #8DA; font-weight: bold;\">PythonBootcamp/my_package (master)$ </span><span style=\"color: #FFF; font-weight: bold;\">git stash pop</span>\n",
    "On branch master\n",
    "Changes not staged for commit:\n",
    "  (use \"git add <file>...\" to update what will be committed)\n",
    "  (use \"git checkout -- <file>...\" to discard changes in working directory)\n",
    "<span style=\"color:red\">\n",
    "        modified:   my_module.py\n",
    "</span>\n",
    "no changes added to commit (use \"git add\" and/or \"git commit -a\")\n",
    "Dropped refs/stash@{0} (f0dce4f101f17bf602e0b002ab10bd20877817e1)\n",
    "</div>\n",
    "\n",
    "<p>Note: when we checked out the initial commit using its SHA ID, we were given a warning that \"You are in 'detached HEAD' state.\" and the prompt changed from (master) to ((HEAD detached at f6dfa27)). What's going on here? We said earlier that when a branch (like master) is checked out, it automatically updates to point to the last commit you have made. A branch is the pointer that keeps track of your progress. When you check out a commit (using its SHA ID or tag name), there is no longer any automated mechanism that tracks this progress for you. You can still make commits, but there will be no branch pointing to those commits to remind you of what your were working on.\n",
    "\n",
    "<p>The practical takeaway is: if you don't have a branch checked out (if your HEAD is detached), you probably should not change any files or make new commits, because these commits will not have a branch name associated with them and are likely to be lost.\n",
    "\n",
    "<div> <!-- NOTE: this div is a workaround for a jupyter HTML export bug --> </div>\n",
    "</div>"
   ]
  }
 ],
 "metadata": {
  "kernelspec": {
   "display_name": "Python 2",
   "language": "python",
   "name": "python2"
  },
  "language_info": {
   "codemirror_mode": {
    "name": "ipython",
    "version": 2
   },
   "file_extension": ".py",
   "mimetype": "text/x-python",
   "name": "python",
   "nbconvert_exporter": "python",
   "pygments_lexer": "ipython2",
   "version": "2.7.13"
  }
 },
 "nbformat": 4,
 "nbformat_minor": 1
}
